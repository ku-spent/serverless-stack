{
 "cells": [
  {
   "cell_type": "code",
   "execution_count": 1,
   "metadata": {},
   "outputs": [],
   "source": [
    "import json\n",
    "\n",
    "import boto3\n",
    "from botocore.exceptions import ClientError"
   ]
  },
  {
   "cell_type": "code",
   "execution_count": 2,
   "metadata": {},
   "outputs": [
    {
     "data": {
      "text/plain": [
       "'268400237357'"
      ]
     },
     "execution_count": 2,
     "metadata": {},
     "output_type": "execute_result"
    }
   ],
   "source": [
    "sts_client = boto3.client(\"sts\")\n",
    "account_id = sts_client.get_caller_identity()[\"Account\"]\n",
    "account_id"
   ]
  },
  {
   "cell_type": "code",
   "execution_count": 3,
   "metadata": {},
   "outputs": [],
   "source": [
    "def create_bucket(bucket_name, region=None):\n",
    "    \"\"\"Create an S3 bucket in a specified region\n",
    "\n",
    "    If a region is not specified, the bucket is created in the S3 default\n",
    "    region (us-east-1).\n",
    "\n",
    "    :param bucket_name: Bucket to create\n",
    "    :param region: String region to create bucket in, e.g., 'us-west-2'\n",
    "    :return: True if bucket created, else False\n",
    "    \"\"\"\n",
    "\n",
    "    # Create bucket\n",
    "    try:\n",
    "        if region is None:\n",
    "            s3_client = boto3.client(\"s3\")\n",
    "            s3_client.create_bucket(Bucket=bucket_name)\n",
    "        else:\n",
    "            s3_client = boto3.client(\"s3\", region_name=region)\n",
    "            location = {\"LocationConstraint\": region}\n",
    "            s3_client.create_bucket(\n",
    "                Bucket=bucket_name, CreateBucketConfiguration=location\n",
    "            )\n",
    "    except ClientError as e:\n",
    "        print(e)\n",
    "        return False\n",
    "    return True"
   ]
  },
  {
   "cell_type": "code",
   "execution_count": 4,
   "metadata": {},
   "outputs": [
    {
     "name": "stdout",
     "output_type": "stream",
     "text": [
      "An error occurred (BucketAlreadyOwnedByYou) when calling the CreateBucket operation: Your previous request to create the named bucket succeeded and you already own it.\n"
     ]
    }
   ],
   "source": [
    "s3 = boto3.resource(\"s3\")\n",
    "bucket_name = \"spent-personalized\"\n",
    "s3_prefix = bucket_name + \"/exports\"\n",
    "s3_path = \"s3://\" + s3_prefix\n",
    "\n",
    "try:\n",
    "    create_bucket(bucket_name=\"spent-personalized\", region=\"ap-southeast-1\")\n",
    "except Exception as e:\n",
    "    print(e)"
   ]
  },
  {
   "cell_type": "code",
   "execution_count": 5,
   "metadata": {},
   "outputs": [
    {
     "name": "stdout",
     "output_type": "stream",
     "text": [
      "An error occurred (EntityAlreadyExists) when calling the CreateRole operation: Role with name createPinpointExportJob already exists.\n",
      "Policy already exists\n",
      "attach policy success\n",
      "create success\n"
     ]
    }
   ],
   "source": [
    "iam_client = boto3.client(\"iam\")\n",
    "\n",
    "role_name = \"createPinpointExportJob\"\n",
    "policy_name = role_name + \"_policy\"\n",
    "policy_arn = \"\"\n",
    "\n",
    "\n",
    "pinpoint_export_job_policy = {\n",
    "    \"Version\": \"2012-10-17\",\n",
    "    \"Statement\": [\n",
    "        {\n",
    "            \"Sid\": \"AllowUserToSeeBucketListInTheConsole\",\n",
    "            \"Action\": [\"s3:ListAllMyBuckets\", \"s3:GetBucketLocation\"],\n",
    "            \"Effect\": \"Allow\",\n",
    "            \"Resource\": [\"arn:aws:s3:::*\"],\n",
    "        },\n",
    "        {\n",
    "            \"Sid\": \"AllowRootAndHomeListingOfBucket\",\n",
    "            \"Action\": [\"s3:ListBucket\"],\n",
    "            \"Effect\": \"Allow\",\n",
    "            \"Resource\": [f\"arn:aws:s3:::{bucket_name}\"],\n",
    "            \"Condition\": {\n",
    "                \"StringEquals\": {\"s3:delimiter\": [\"/\"], \"s3:prefix\": [\"\", s3_prefix]}\n",
    "            },\n",
    "        },\n",
    "        {\n",
    "            \"Sid\": \"AllowListingOfUserFolder\",\n",
    "            \"Action\": [\"s3:ListBucket\"],\n",
    "            \"Effect\": \"Allow\",\n",
    "            \"Resource\": [f\"arn:aws:s3:::{bucket_name}\"],\n",
    "            \"Condition\": {\"StringLike\": {\"s3:prefix\": [s3_prefix]}},\n",
    "        },\n",
    "        {\n",
    "            \"Sid\": \"AllowAllS3ActionsInUserFolder\",\n",
    "            \"Action\": [\"s3:*\"],\n",
    "            \"Effect\": \"Allow\",\n",
    "            \"Resource\": [f\"arn:aws:s3:::{s3_prefix}/*\"],\n",
    "        },\n",
    "    ],\n",
    "}\n",
    "\n",
    "pinpoint_assume_role = {\n",
    "    \"Version\": \"2012-10-17\",\n",
    "    \"Statement\": [\n",
    "        {\n",
    "            \"Effect\": \"Allow\",\n",
    "            \"Principal\": {\n",
    "                \"Service\": \"pinpoint.amazonaws.com\",\n",
    "            },\n",
    "            \"Action\": \"sts:AssumeRole\",\n",
    "        }\n",
    "    ],\n",
    "}\n",
    "\n",
    "# create role\n",
    "try:\n",
    "    create_role_res = iam_client.create_role(\n",
    "        RoleName=role_name,\n",
    "        AssumeRolePolicyDocument=json.dumps(pinpoint_assume_role),\n",
    "        Description=\"This is a pinpoint role\",\n",
    "        Tags=[{\"Key\": \"Owner\", \"Value\": \"spent-pinpoint\"}],\n",
    "    )\n",
    "    print('create role success')\n",
    "except ClientError as error:\n",
    "    print(error)\n",
    "\n",
    "# create policy\n",
    "try:\n",
    "    policy_res = iam_client.create_policy(\n",
    "        PolicyName=policy_name, PolicyDocument=json.dumps(pinpoint_export_job_policy)\n",
    "    )\n",
    "    policy_arn = policy_res[\"Policy\"][\"Arn\"]\n",
    "    print('create policy success')\n",
    "except ClientError as error:\n",
    "    if error.response[\"Error\"][\"Code\"] == \"EntityAlreadyExists\":\n",
    "        print(\"Policy already exists\")\n",
    "        policy_arn = \"arn:aws:iam::\" + account_id + \":policy/\" + policy_name\n",
    "else:\n",
    "    print(\"Role could not be created...\")\n",
    "\n",
    "# attch role policy\n",
    "try:\n",
    "    policy_attach_res = iam_client.attach_role_policy(\n",
    "        RoleName=role_name, PolicyArn=policy_arn\n",
    "    )\n",
    "    print('attach policy success')\n",
    "except ClientError as error:\n",
    "    print(error)\n",
    "\n",
    "print(\"create success\")"
   ]
  },
  {
   "cell_type": "code",
   "execution_count": 6,
   "metadata": {},
   "outputs": [
    {
     "name": "stdout",
     "output_type": "stream",
     "text": [
      "spentmobileapp-dev d5ab8b3e1788464cbc67948ab042fbcc\n"
     ]
    }
   ],
   "source": [
    "# list pinpoint application\n",
    "pinpoint_client = boto3.client(\"pinpoint\")\n",
    "\n",
    "response = pinpoint_client.get_apps()\n",
    "\n",
    "for item in response[\"ApplicationsResponse\"][\"Item\"]:\n",
    "    print(item[\"Name\"], item[\"Id\"])"
   ]
  },
  {
   "cell_type": "code",
   "execution_count": 7,
   "metadata": {},
   "outputs": [],
   "source": [
    "response = iam_client.get_role(RoleName=role_name)\n",
    "\n",
    "role_arn = response[\"Role\"][\"Arn\"]\n",
    "s3_path = \"s3://\" + s3_prefix\n",
    "pinpoint_application_id = \"d5ab8b3e1788464cbc67948ab042fbcc\""
   ]
  },
  {
   "cell_type": "code",
   "execution_count": 8,
   "metadata": {},
   "outputs": [
    {
     "data": {
      "text/plain": [
       "'arn:aws:iam::268400237357:role/createPinpointExportJob'"
      ]
     },
     "execution_count": 8,
     "metadata": {},
     "output_type": "execute_result"
    }
   ],
   "source": [
    "role_arn"
   ]
  },
  {
   "cell_type": "code",
   "execution_count": 15,
   "metadata": {},
   "outputs": [
    {
     "data": {
      "text/plain": [
       "{'ResponseMetadata': {'RequestId': 'd5c1094e-b750-4187-90a1-72aa7baed8af',\n",
       "  'HTTPStatusCode': 202,\n",
       "  'HTTPHeaders': {'content-type': 'application/json',\n",
       "   'content-length': '251',\n",
       "   'connection': 'keep-alive',\n",
       "   'date': 'Sat, 23 Jan 2021 08:07:05 GMT',\n",
       "   'x-amzn-requestid': 'd5c1094e-b750-4187-90a1-72aa7baed8af',\n",
       "   'access-control-allow-origin': '*',\n",
       "   'x-amz-apigw-id': 'Zl7eUF9VSQ0FgjQ=',\n",
       "   'cache-control': 'no-store',\n",
       "   'x-amzn-trace-id': 'Root=1-600bd928-68def719343a31a95b97a51a;Sampled=0',\n",
       "   'x-cache': 'Miss from cloudfront',\n",
       "   'via': '1.1 558358695c9b007bde310af96b06b375.cloudfront.net (CloudFront)',\n",
       "   'x-amz-cf-pop': 'BKK50-C2',\n",
       "   'x-amz-cf-id': 'SqqiVie0TSsk-7RQFOPRApdx3Y9bIhbdJehFApUnHZ52_GLJ8zqU3w=='},\n",
       "  'RetryAttempts': 0},\n",
       " 'ExportJobResponse': {'CreationDate': '2021-01-23T08:07:05.661Z',\n",
       "  'Definition': {'RoleArn': 'arn:aws:iam::268400237357:role/createPinpointExportJob',\n",
       "   'S3UrlPrefix': 's3://spent-personalized/exports'},\n",
       "  'Id': 'be93c9cae8064441a1fef2e0013a7e68',\n",
       "  'JobStatus': 'CREATED',\n",
       "  'Type': 'EXPORT'}}"
      ]
     },
     "execution_count": 15,
     "metadata": {},
     "output_type": "execute_result"
    }
   ],
   "source": [
    "response = pinpoint_client.create_export_job(\n",
    "    ApplicationId=pinpoint_application_id,\n",
    "    ExportJobRequest={\n",
    "        \"RoleArn\": role_arn,\n",
    "        \"S3UrlPrefix\": s3_path,\n",
    "    },\n",
    ")\n",
    "response"
   ]
  },
  {
   "cell_type": "code",
   "execution_count": 16,
   "metadata": {},
   "outputs": [
    {
     "name": "stdout",
     "output_type": "stream",
     "text": [
      "export completed {'ResponseMetadata': {'RequestId': 'c6c56ed5-9b31-4903-97e2-8afd388fe138', 'HTTPStatusCode': 200, 'HTTPHeaders': {'content-type': 'application/json', 'content-length': '439', 'connection': 'keep-alive', 'date': 'Sat, 23 Jan 2021 08:07:12 GMT', 'x-amzn-requestid': 'c6c56ed5-9b31-4903-97e2-8afd388fe138', 'access-control-allow-origin': '*', 'x-amz-apigw-id': 'Zl7fnFZNyQ0FjyA=', 'cache-control': 'no-store', 'x-amzn-trace-id': 'Root=1-600bd930-5edfd69338995a587c6c33f4;Sampled=0', 'x-cache': 'Miss from cloudfront', 'via': '1.1 558358695c9b007bde310af96b06b375.cloudfront.net (CloudFront)', 'x-amz-cf-pop': 'BKK50-C2', 'x-amz-cf-id': 'UhgwBR3R8leHv7t32Vsi4ssLu01WhJ1W_AMml5kvmyO2jpk2SJJLcQ=='}, 'RetryAttempts': 0}, 'ExportJobResponse': {'ApplicationId': 'd5ab8b3e1788464cbc67948ab042fbcc', 'CompletedPieces': 1, 'CompletionDate': '2021-01-23T08:07:09.100Z', 'CreationDate': '2021-01-23T08:07:05.661Z', 'Definition': {'RoleArn': 'arn:aws:iam::268400237357:role/createPinpointExportJob', 'S3UrlPrefix': 's3://spent-personalized/exports'}, 'FailedPieces': 0, 'Id': 'be93c9cae8064441a1fef2e0013a7e68', 'JobStatus': 'COMPLETED', 'TotalFailures': 0, 'TotalPieces': 1, 'TotalProcessed': 20, 'Type': 'EXPORT'}}\n"
     ]
    }
   ],
   "source": [
    "export_job_id = response['ExportJobResponse']['Id']\n",
    "\n",
    "status = ''\n",
    "while(status != 'COMPLETED'):\n",
    "    response = pinpoint_client.get_export_job(\n",
    "        ApplicationId=pinpoint_application_id,\n",
    "        JobId=export_job_id\n",
    "    )\n",
    "    status = response['ExportJobResponse']['JobStatus']\n",
    "print('export completed', response)"
   ]
  },
  {
   "cell_type": "code",
   "execution_count": null,
   "metadata": {},
   "outputs": [],
   "source": []
  }
 ],
 "metadata": {
  "kernelspec": {
   "display_name": "Python 3",
   "language": "python",
   "name": "python3"
  },
  "language_info": {
   "codemirror_mode": {
    "name": "ipython",
    "version": 3
   },
   "file_extension": ".py",
   "mimetype": "text/x-python",
   "name": "python",
   "nbconvert_exporter": "python",
   "pygments_lexer": "ipython3",
   "version": "3.8.5"
  }
 },
 "nbformat": 4,
 "nbformat_minor": 4
}
