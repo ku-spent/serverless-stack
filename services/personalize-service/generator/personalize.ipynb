{
 "cells": [
  {
   "cell_type": "code",
   "execution_count": 1,
   "metadata": {},
   "outputs": [],
   "source": [
    "# Import Dependencies\n",
    "\n",
    "import csv\n",
    "import json\n",
    "import random\n",
    "import sys\n",
    "import time\n",
    "import uuid\n",
    "from collections import defaultdict\n",
    "from pathlib import Path\n",
    "\n",
    "import boto3\n",
    "import botocore\n",
    "import matplotlib as mpl\n",
    "import matplotlib.pyplot as plt\n",
    "import numpy as np\n",
    "import pandas as pd\n",
    "import requests\n",
    "import seaborn as sns\n",
    "from botocore.exceptions import ClientError\n",
    "from packaging import version\n",
    "\n",
    "%matplotlib inline\n",
    "\n",
    "# Setup Clients\n",
    "\n",
    "personalize = boto3.client(\"personalize\")\n",
    "personalize_runtime = boto3.client(\"personalize-runtime\")\n",
    "personalize_events = boto3.client(\"personalize-events\")\n",
    "\n",
    "servicediscovery = boto3.client(\"servicediscovery\")\n",
    "ssm = boto3.client(\"ssm\")"
   ]
  },
  {
   "cell_type": "code",
   "execution_count": 2,
   "metadata": {},
   "outputs": [
    {
     "name": "stdout",
     "output_type": "stream",
     "text": [
      "Bucket: spent-service-personalize-datasets\n"
     ]
    }
   ],
   "source": [
    "users_filename = \"data/users.csv\"\n",
    "items_filename = \"data/items.csv\"\n",
    "interactions_filename = \"data/interactions.csv\"\n",
    "\n",
    "bucket = \"spent-service-personalize-datasets\"\n",
    "print(\"Bucket: {}\".format(bucket))"
   ]
  },
  {
   "cell_type": "code",
   "execution_count": 3,
   "metadata": {},
   "outputs": [
    {
     "data": {
      "text/html": [
       "<div>\n",
       "<style scoped>\n",
       "    .dataframe tbody tr th:only-of-type {\n",
       "        vertical-align: middle;\n",
       "    }\n",
       "\n",
       "    .dataframe tbody tr th {\n",
       "        vertical-align: top;\n",
       "    }\n",
       "\n",
       "    .dataframe thead th {\n",
       "        text-align: right;\n",
       "    }\n",
       "</style>\n",
       "<table border=\"1\" class=\"dataframe\">\n",
       "  <thead>\n",
       "    <tr style=\"text-align: right;\">\n",
       "      <th></th>\n",
       "      <th>USER_ID</th>\n",
       "      <th>AGE</th>\n",
       "      <th>GENDER</th>\n",
       "    </tr>\n",
       "  </thead>\n",
       "  <tbody>\n",
       "    <tr>\n",
       "      <th>0</th>\n",
       "      <td>1</td>\n",
       "      <td>31</td>\n",
       "      <td>M</td>\n",
       "    </tr>\n",
       "    <tr>\n",
       "      <th>1</th>\n",
       "      <td>2</td>\n",
       "      <td>58</td>\n",
       "      <td>F</td>\n",
       "    </tr>\n",
       "    <tr>\n",
       "      <th>2</th>\n",
       "      <td>3</td>\n",
       "      <td>43</td>\n",
       "      <td>M</td>\n",
       "    </tr>\n",
       "    <tr>\n",
       "      <th>3</th>\n",
       "      <td>4</td>\n",
       "      <td>38</td>\n",
       "      <td>M</td>\n",
       "    </tr>\n",
       "    <tr>\n",
       "      <th>4</th>\n",
       "      <td>5</td>\n",
       "      <td>24</td>\n",
       "      <td>M</td>\n",
       "    </tr>\n",
       "  </tbody>\n",
       "</table>\n",
       "</div>"
      ],
      "text/plain": [
       "   USER_ID  AGE GENDER\n",
       "0        1   31      M\n",
       "1        2   58      F\n",
       "2        3   43      M\n",
       "3        4   38      M\n",
       "4        5   24      M"
      ]
     },
     "execution_count": 3,
     "metadata": {},
     "output_type": "execute_result"
    }
   ],
   "source": [
    "users_df = pd.read_csv(users_filename)\n",
    "users_df.head()"
   ]
  },
  {
   "cell_type": "code",
   "execution_count": 4,
   "metadata": {},
   "outputs": [
    {
     "data": {
      "text/html": [
       "<div>\n",
       "<style scoped>\n",
       "    .dataframe tbody tr th:only-of-type {\n",
       "        vertical-align: middle;\n",
       "    }\n",
       "\n",
       "    .dataframe tbody tr th {\n",
       "        vertical-align: top;\n",
       "    }\n",
       "\n",
       "    .dataframe thead th {\n",
       "        text-align: right;\n",
       "    }\n",
       "</style>\n",
       "<table border=\"1\" class=\"dataframe\">\n",
       "  <thead>\n",
       "    <tr style=\"text-align: right;\">\n",
       "      <th></th>\n",
       "      <th>ITEM_ID</th>\n",
       "      <th>CATEGORY</th>\n",
       "      <th>CREATION_TIMESTAMP</th>\n",
       "    </tr>\n",
       "  </thead>\n",
       "  <tbody>\n",
       "    <tr>\n",
       "      <th>0</th>\n",
       "      <td>17b3cb23-2433-43a6-ac92-49d6f000ef58</td>\n",
       "      <td>กีฬา</td>\n",
       "      <td>1612558802</td>\n",
       "    </tr>\n",
       "    <tr>\n",
       "      <th>1</th>\n",
       "      <td>e0651289-1bdc-4415-ad54-57371e70059b</td>\n",
       "      <td>เทคโนโลยี</td>\n",
       "      <td>1612545497</td>\n",
       "    </tr>\n",
       "    <tr>\n",
       "      <th>2</th>\n",
       "      <td>6def62af-d2bb-402c-8875-624b5d9406a6</td>\n",
       "      <td>การเมือง</td>\n",
       "      <td>1612576129</td>\n",
       "    </tr>\n",
       "    <tr>\n",
       "      <th>3</th>\n",
       "      <td>c567b89a-fd4e-475f-bedd-ececb00621c2</td>\n",
       "      <td>เทคโนโลยี</td>\n",
       "      <td>1612548737</td>\n",
       "    </tr>\n",
       "    <tr>\n",
       "      <th>4</th>\n",
       "      <td>0e54b1bb-67e3-4afa-bcf8-a1b996cb17a9</td>\n",
       "      <td>เทคโนโลยี</td>\n",
       "      <td>1612571880</td>\n",
       "    </tr>\n",
       "  </tbody>\n",
       "</table>\n",
       "</div>"
      ],
      "text/plain": [
       "                                ITEM_ID   CATEGORY  CREATION_TIMESTAMP\n",
       "0  17b3cb23-2433-43a6-ac92-49d6f000ef58       กีฬา          1612558802\n",
       "1  e0651289-1bdc-4415-ad54-57371e70059b  เทคโนโลยี          1612545497\n",
       "2  6def62af-d2bb-402c-8875-624b5d9406a6   การเมือง          1612576129\n",
       "3  c567b89a-fd4e-475f-bedd-ececb00621c2  เทคโนโลยี          1612548737\n",
       "4  0e54b1bb-67e3-4afa-bcf8-a1b996cb17a9  เทคโนโลยี          1612571880"
      ]
     },
     "execution_count": 4,
     "metadata": {},
     "output_type": "execute_result"
    }
   ],
   "source": [
    "items_df = pd.read_csv(items_filename)\n",
    "items_df.head()"
   ]
  },
  {
   "cell_type": "code",
   "execution_count": 5,
   "metadata": {},
   "outputs": [
    {
     "data": {
      "text/html": [
       "<div>\n",
       "<style scoped>\n",
       "    .dataframe tbody tr th:only-of-type {\n",
       "        vertical-align: middle;\n",
       "    }\n",
       "\n",
       "    .dataframe tbody tr th {\n",
       "        vertical-align: top;\n",
       "    }\n",
       "\n",
       "    .dataframe thead th {\n",
       "        text-align: right;\n",
       "    }\n",
       "</style>\n",
       "<table border=\"1\" class=\"dataframe\">\n",
       "  <thead>\n",
       "    <tr style=\"text-align: right;\">\n",
       "      <th></th>\n",
       "      <th>ITEM_ID</th>\n",
       "      <th>USER_ID</th>\n",
       "      <th>EVENT_TYPE</th>\n",
       "      <th>TIMESTAMP</th>\n",
       "    </tr>\n",
       "  </thead>\n",
       "  <tbody>\n",
       "    <tr>\n",
       "      <th>0</th>\n",
       "      <td>f0eca465-b683-4504-b3fa-19239bb103e2</td>\n",
       "      <td>389</td>\n",
       "      <td>news_viewed</td>\n",
       "      <td>1612863877</td>\n",
       "    </tr>\n",
       "    <tr>\n",
       "      <th>1</th>\n",
       "      <td>f0eca465-b683-4504-b3fa-19239bb103e2</td>\n",
       "      <td>389</td>\n",
       "      <td>news_viewed</td>\n",
       "      <td>1612863877</td>\n",
       "    </tr>\n",
       "    <tr>\n",
       "      <th>2</th>\n",
       "      <td>08bafc24-a083-434e-bf98-cee467963125</td>\n",
       "      <td>21</td>\n",
       "      <td>news_viewed</td>\n",
       "      <td>1612863913</td>\n",
       "    </tr>\n",
       "    <tr>\n",
       "      <th>3</th>\n",
       "      <td>08bafc24-a083-434e-bf98-cee467963125</td>\n",
       "      <td>21</td>\n",
       "      <td>news_viewed</td>\n",
       "      <td>1612863913</td>\n",
       "    </tr>\n",
       "    <tr>\n",
       "      <th>4</th>\n",
       "      <td>0e24e9c2-b26a-41c6-bc1f-6909661f4cae</td>\n",
       "      <td>262</td>\n",
       "      <td>news_viewed</td>\n",
       "      <td>1612863947</td>\n",
       "    </tr>\n",
       "  </tbody>\n",
       "</table>\n",
       "</div>"
      ],
      "text/plain": [
       "                                ITEM_ID  USER_ID   EVENT_TYPE   TIMESTAMP\n",
       "0  f0eca465-b683-4504-b3fa-19239bb103e2      389  news_viewed  1612863877\n",
       "1  f0eca465-b683-4504-b3fa-19239bb103e2      389  news_viewed  1612863877\n",
       "2  08bafc24-a083-434e-bf98-cee467963125       21  news_viewed  1612863913\n",
       "3  08bafc24-a083-434e-bf98-cee467963125       21  news_viewed  1612863913\n",
       "4  0e24e9c2-b26a-41c6-bc1f-6909661f4cae      262  news_viewed  1612863947"
      ]
     },
     "execution_count": 5,
     "metadata": {},
     "output_type": "execute_result"
    }
   ],
   "source": [
    "interactions_df = pd.read_csv(interactions_filename)\n",
    "interactions_df.head()"
   ]
  },
  {
   "cell_type": "code",
   "execution_count": 6,
   "metadata": {},
   "outputs": [
    {
     "data": {
      "text/html": [
       "<div>\n",
       "<style scoped>\n",
       "    .dataframe tbody tr th:only-of-type {\n",
       "        vertical-align: middle;\n",
       "    }\n",
       "\n",
       "    .dataframe tbody tr th {\n",
       "        vertical-align: top;\n",
       "    }\n",
       "\n",
       "    .dataframe thead th {\n",
       "        text-align: right;\n",
       "    }\n",
       "</style>\n",
       "<table border=\"1\" class=\"dataframe\">\n",
       "  <thead>\n",
       "    <tr style=\"text-align: right;\">\n",
       "      <th></th>\n",
       "      <th>id</th>\n",
       "      <th>source</th>\n",
       "      <th>pubDate</th>\n",
       "      <th>url</th>\n",
       "      <th>image</th>\n",
       "      <th>title</th>\n",
       "      <th>summary</th>\n",
       "      <th>category</th>\n",
       "      <th>tags</th>\n",
       "      <th>raw_html_content</th>\n",
       "      <th>timestamp</th>\n",
       "    </tr>\n",
       "  </thead>\n",
       "  <tbody>\n",
       "    <tr>\n",
       "      <th>0</th>\n",
       "      <td>17b3cb23-2433-43a6-ac92-49d6f000ef58</td>\n",
       "      <td>มติชน</td>\n",
       "      <td>2021-02-05T21:00:02+00:00</td>\n",
       "      <td>https://www.matichon.co.th/sport-slide/news_25...</td>\n",
       "      <td>https://www.matichon.co.th/wp-content/uploads/...</td>\n",
       "      <td>‘ญี่ปุ่น’ ไฟเขียวนักกีฬามาแข่งโอลิมปิก 2020 ไม...</td>\n",
       "      <td>‘ญี่ปุ่น’ ไฟเขียวนักกีฬามาแข่งโอลิมปิก 2020 ไม...</td>\n",
       "      <td>กีฬา</td>\n",
       "      <td>NaN</td>\n",
       "      <td>&lt;div class=\"td-post-content\"&gt;\\n\\n\\n  \\n&lt;p&gt; &lt;/p...</td>\n",
       "      <td>1612558802</td>\n",
       "    </tr>\n",
       "    <tr>\n",
       "      <th>1</th>\n",
       "      <td>e0651289-1bdc-4415-ad54-57371e70059b</td>\n",
       "      <td>beartai</td>\n",
       "      <td>2021-02-05T17:18:17+00:00</td>\n",
       "      <td>https://www.beartai.com/news/mobilenews/531809</td>\n",
       "      <td>https://www.beartai.com/wp-content/uploads/202...</td>\n",
       "      <td>เอาด้วย Android เวอร์ชันใหม่อาจใช้ระบบป้องกันข...</td>\n",
       "      <td>NaN</td>\n",
       "      <td>เทคโนโลยี</td>\n",
       "      <td>android|google</td>\n",
       "      <td>&lt;div class=\"entry-content body-color clearfix ...</td>\n",
       "      <td>1612545497</td>\n",
       "    </tr>\n",
       "    <tr>\n",
       "      <th>2</th>\n",
       "      <td>6def62af-d2bb-402c-8875-624b5d9406a6</td>\n",
       "      <td>มติชน</td>\n",
       "      <td>2021-02-06T01:48:49+00:00</td>\n",
       "      <td>https://www.matichon.co.th/politics/news_2565152</td>\n",
       "      <td>https://www.matichon.co.th/wp-content/uploads/...</td>\n",
       "      <td>09.00 INDEX 42ชั่วโมง อันทรง ความหมาย ญัตติ อภ...</td>\n",
       "      <td>09.00 INDEX 42ชั่วโมง อันทรง ความหมาย ญัตติ อภ...</td>\n",
       "      <td>การเมือง</td>\n",
       "      <td>NaN</td>\n",
       "      <td>&lt;div class=\"td-post-content\"&gt;\\n\\n\\n  &lt;p&gt;ความแจ...</td>\n",
       "      <td>1612576129</td>\n",
       "    </tr>\n",
       "    <tr>\n",
       "      <th>3</th>\n",
       "      <td>c567b89a-fd4e-475f-bedd-ececb00621c2</td>\n",
       "      <td>beartai</td>\n",
       "      <td>2021-02-05T18:12:17+00:00</td>\n",
       "      <td>https://www.beartai.com/news/itnews/531814</td>\n",
       "      <td>https://www.beartai.com/wp-content/uploads/202...</td>\n",
       "      <td>Huawei ในยุค Joe Biden ไม่น่าจะหลุดจากการแบน</td>\n",
       "      <td>NaN</td>\n",
       "      <td>เทคโนโลยี</td>\n",
       "      <td>huawei|trade war</td>\n",
       "      <td>&lt;div class=\"entry-content body-color clearfix ...</td>\n",
       "      <td>1612548737</td>\n",
       "    </tr>\n",
       "    <tr>\n",
       "      <th>4</th>\n",
       "      <td>0e54b1bb-67e3-4afa-bcf8-a1b996cb17a9</td>\n",
       "      <td>สนุกดอทคอม</td>\n",
       "      <td>2021-02-06T00:38:00+00:00</td>\n",
       "      <td>https://www.sanook.com/hitech/1521873/</td>\n",
       "      <td>https://s.isanook.com/hi/0/rp/r/w728/ya0xa0m1w...</td>\n",
       "      <td>ลือ Samsung Galaxy Z Flip3 และ Samsung Z Fold3...</td>\n",
       "      <td>Samsung อาจจะเปิดตัว Galaxy Z Fold3 และ Z Flip...</td>\n",
       "      <td>เทคโนโลยี</td>\n",
       "      <td>samsung galaxy z fold3|samsung galaxy z flip3|...</td>\n",
       "      <td>&lt;div class=\"jsx-3647499928 jsx-3717305904 Entr...</td>\n",
       "      <td>1612571880</td>\n",
       "    </tr>\n",
       "  </tbody>\n",
       "</table>\n",
       "</div>"
      ],
      "text/plain": [
       "                                     id      source  \\\n",
       "0  17b3cb23-2433-43a6-ac92-49d6f000ef58       มติชน   \n",
       "1  e0651289-1bdc-4415-ad54-57371e70059b     beartai   \n",
       "2  6def62af-d2bb-402c-8875-624b5d9406a6       มติชน   \n",
       "3  c567b89a-fd4e-475f-bedd-ececb00621c2     beartai   \n",
       "4  0e54b1bb-67e3-4afa-bcf8-a1b996cb17a9  สนุกดอทคอม   \n",
       "\n",
       "                     pubDate  \\\n",
       "0  2021-02-05T21:00:02+00:00   \n",
       "1  2021-02-05T17:18:17+00:00   \n",
       "2  2021-02-06T01:48:49+00:00   \n",
       "3  2021-02-05T18:12:17+00:00   \n",
       "4  2021-02-06T00:38:00+00:00   \n",
       "\n",
       "                                                 url  \\\n",
       "0  https://www.matichon.co.th/sport-slide/news_25...   \n",
       "1     https://www.beartai.com/news/mobilenews/531809   \n",
       "2   https://www.matichon.co.th/politics/news_2565152   \n",
       "3         https://www.beartai.com/news/itnews/531814   \n",
       "4             https://www.sanook.com/hitech/1521873/   \n",
       "\n",
       "                                               image  \\\n",
       "0  https://www.matichon.co.th/wp-content/uploads/...   \n",
       "1  https://www.beartai.com/wp-content/uploads/202...   \n",
       "2  https://www.matichon.co.th/wp-content/uploads/...   \n",
       "3  https://www.beartai.com/wp-content/uploads/202...   \n",
       "4  https://s.isanook.com/hi/0/rp/r/w728/ya0xa0m1w...   \n",
       "\n",
       "                                               title  \\\n",
       "0  ‘ญี่ปุ่น’ ไฟเขียวนักกีฬามาแข่งโอลิมปิก 2020 ไม...   \n",
       "1  เอาด้วย Android เวอร์ชันใหม่อาจใช้ระบบป้องกันข...   \n",
       "2  09.00 INDEX 42ชั่วโมง อันทรง ความหมาย ญัตติ อภ...   \n",
       "3       Huawei ในยุค Joe Biden ไม่น่าจะหลุดจากการแบน   \n",
       "4  ลือ Samsung Galaxy Z Flip3 และ Samsung Z Fold3...   \n",
       "\n",
       "                                             summary   category  \\\n",
       "0  ‘ญี่ปุ่น’ ไฟเขียวนักกีฬามาแข่งโอลิมปิก 2020 ไม...       กีฬา   \n",
       "1                                                NaN  เทคโนโลยี   \n",
       "2  09.00 INDEX 42ชั่วโมง อันทรง ความหมาย ญัตติ อภ...   การเมือง   \n",
       "3                                                NaN  เทคโนโลยี   \n",
       "4  Samsung อาจจะเปิดตัว Galaxy Z Fold3 และ Z Flip...  เทคโนโลยี   \n",
       "\n",
       "                                                tags  \\\n",
       "0                                                NaN   \n",
       "1                                     android|google   \n",
       "2                                                NaN   \n",
       "3                                   huawei|trade war   \n",
       "4  samsung galaxy z fold3|samsung galaxy z flip3|...   \n",
       "\n",
       "                                    raw_html_content   timestamp  \n",
       "0  <div class=\"td-post-content\">\\n\\n\\n  \\n<p> </p...  1612558802  \n",
       "1  <div class=\"entry-content body-color clearfix ...  1612545497  \n",
       "2  <div class=\"td-post-content\">\\n\\n\\n  <p>ความแจ...  1612576129  \n",
       "3  <div class=\"entry-content body-color clearfix ...  1612548737  \n",
       "4  <div class=\"jsx-3647499928 jsx-3717305904 Entr...  1612571880  "
      ]
     },
     "execution_count": 6,
     "metadata": {},
     "output_type": "execute_result"
    }
   ],
   "source": [
    "items_raw_df = pd.read_csv(\"data/items_raw.csv\")\n",
    "items_raw_df.head()"
   ]
  },
  {
   "cell_type": "code",
   "execution_count": 7,
   "metadata": {},
   "outputs": [
    {
     "data": {
      "image/png": "[encoded data removed]",
      "text/plain": [
       "<Figure size 1152x216 with 1 Axes>"
      ]
     },
     "metadata": {
      "needs_background": "light"
     },
     "output_type": "display_data"
    }
   ],
   "source": [
    "categorical_attributes = interactions_df.select_dtypes(include=[\"object\"])\n",
    "\n",
    "plt.figure(figsize=(16, 3))\n",
    "chart = sns.countplot(data=categorical_attributes, x=\"EVENT_TYPE\")\n",
    "plt.xticks(rotation=90, horizontalalignment=\"right\")\n",
    "plt.show()"
   ]
  },
  {
   "cell_type": "code",
   "execution_count": 8,
   "metadata": {},
   "outputs": [],
   "source": [
    "# !wget -q https://github.com/Phonbopit/sarabun-webfont/raw/master/fonts/thsarabunnew-webfont.ttf"
   ]
  },
  {
   "cell_type": "code",
   "execution_count": 9,
   "metadata": {},
   "outputs": [],
   "source": [
    "mpl.font_manager.fontManager.addfont(\"thsarabunnew-webfont.ttf\")\n",
    "mpl.rc(\"font\", family=\"TH Sarabun New\")"
   ]
  },
  {
   "cell_type": "code",
   "execution_count": 10,
   "metadata": {},
   "outputs": [
    {
     "data": {
      "image/png": "[encoded data removed]",
      "text/plain": [
       "<Figure size 1152x216 with 1 Axes>"
      ]
     },
     "metadata": {
      "needs_background": "light"
     },
     "output_type": "display_data"
    }
   ],
   "source": [
    "plt.figure(figsize=(16, 3))\n",
    "chart = sns.countplot(data=items_df, x=\"CATEGORY\")\n",
    "plt.xticks(rotation=90, horizontalalignment=\"right\")\n",
    "plt.show()"
   ]
  },
  {
   "cell_type": "code",
   "execution_count": 11,
   "metadata": {},
   "outputs": [
    {
     "data": {
      "text/html": [
       "<div>\n",
       "<style scoped>\n",
       "    .dataframe tbody tr th:only-of-type {\n",
       "        vertical-align: middle;\n",
       "    }\n",
       "\n",
       "    .dataframe tbody tr th {\n",
       "        vertical-align: top;\n",
       "    }\n",
       "\n",
       "    .dataframe thead th {\n",
       "        text-align: right;\n",
       "    }\n",
       "</style>\n",
       "<table border=\"1\" class=\"dataframe\">\n",
       "  <thead>\n",
       "    <tr style=\"text-align: right;\">\n",
       "      <th></th>\n",
       "      <th>ITEM_ID</th>\n",
       "      <th>CREATION_TIMESTAMP</th>\n",
       "    </tr>\n",
       "    <tr>\n",
       "      <th>CATEGORY</th>\n",
       "      <th></th>\n",
       "      <th></th>\n",
       "    </tr>\n",
       "  </thead>\n",
       "  <tbody>\n",
       "    <tr>\n",
       "      <th>การศึกษา</th>\n",
       "      <td>59</td>\n",
       "      <td>59</td>\n",
       "    </tr>\n",
       "    <tr>\n",
       "      <th>การเมือง</th>\n",
       "      <td>958</td>\n",
       "      <td>958</td>\n",
       "    </tr>\n",
       "    <tr>\n",
       "      <th>กีฬา</th>\n",
       "      <td>373</td>\n",
       "      <td>373</td>\n",
       "    </tr>\n",
       "    <tr>\n",
       "      <th>คุณภาพชีวิต</th>\n",
       "      <td>20</td>\n",
       "      <td>20</td>\n",
       "    </tr>\n",
       "    <tr>\n",
       "      <th>ต่างประเทศ</th>\n",
       "      <td>290</td>\n",
       "      <td>290</td>\n",
       "    </tr>\n",
       "    <tr>\n",
       "      <th>บันเทิง</th>\n",
       "      <td>352</td>\n",
       "      <td>352</td>\n",
       "    </tr>\n",
       "    <tr>\n",
       "      <th>ภาพยนตร์</th>\n",
       "      <td>98</td>\n",
       "      <td>98</td>\n",
       "    </tr>\n",
       "    <tr>\n",
       "      <th>สังคม</th>\n",
       "      <td>131</td>\n",
       "      <td>131</td>\n",
       "    </tr>\n",
       "    <tr>\n",
       "      <th>อาชญากรรม</th>\n",
       "      <td>60</td>\n",
       "      <td>60</td>\n",
       "    </tr>\n",
       "    <tr>\n",
       "      <th>เทคโนโลยี</th>\n",
       "      <td>351</td>\n",
       "      <td>351</td>\n",
       "    </tr>\n",
       "    <tr>\n",
       "      <th>เศรษฐกิจ</th>\n",
       "      <td>471</td>\n",
       "      <td>471</td>\n",
       "    </tr>\n",
       "    <tr>\n",
       "      <th>ในประเทศ</th>\n",
       "      <td>620</td>\n",
       "      <td>620</td>\n",
       "    </tr>\n",
       "    <tr>\n",
       "      <th>ไลฟ์สไตล์</th>\n",
       "      <td>127</td>\n",
       "      <td>127</td>\n",
       "    </tr>\n",
       "  </tbody>\n",
       "</table>\n",
       "</div>"
      ],
      "text/plain": [
       "             ITEM_ID  CREATION_TIMESTAMP\n",
       "CATEGORY                                \n",
       "การศึกษา          59                  59\n",
       "การเมือง         958                 958\n",
       "กีฬา             373                 373\n",
       "คุณภาพชีวิต       20                  20\n",
       "ต่างประเทศ       290                 290\n",
       "บันเทิง          352                 352\n",
       "ภาพยนตร์          98                  98\n",
       "สังคม            131                 131\n",
       "อาชญากรรม         60                  60\n",
       "เทคโนโลยี        351                 351\n",
       "เศรษฐกิจ         471                 471\n",
       "ในประเทศ         620                 620\n",
       "ไลฟ์สไตล์        127                 127"
      ]
     },
     "execution_count": 11,
     "metadata": {},
     "output_type": "execute_result"
    }
   ],
   "source": [
    "items_df.groupby(\"CATEGORY\").count()"
   ]
  },
  {
   "cell_type": "code",
   "execution_count": 16,
   "metadata": {},
   "outputs": [
    {
     "data": {
      "image/png": "[encoded data removed]",
      "text/plain": [
       "<Figure size 1152x216 with 1 Axes>"
      ]
     },
     "metadata": {
      "needs_background": "light"
     },
     "output_type": "display_data"
    }
   ],
   "source": [
    "merged_df = interactions_df.astype({\"ITEM_ID\": str}).merge(\n",
    "    items_df, left_on=\"ITEM_ID\", right_on=\"ITEM_ID\"\n",
    ")\n",
    "merged_df\n",
    "# plot_df = merged_df.groupby([\"category\"]).apply(set)\n",
    "plt.figure(figsize=(16, 3))\n",
    "chart = sns.countplot(data=merged_df, x=\"CATEGORY\")\n",
    "plt.xticks(rotation=90, horizontalalignment=\"right\")\n",
    "plt.show()"
   ]
  },
  {
   "cell_type": "code",
   "execution_count": 17,
   "metadata": {},
   "outputs": [
    {
     "data": {
      "image/png": "[encoded data removed]",
      "text/plain": [
       "<Figure size 432x288 with 1 Axes>"
      ]
     },
     "metadata": {
      "needs_background": "light"
     },
     "output_type": "display_data"
    }
   ],
   "source": [
    "merged_df = (\n",
    "    interactions_df[[\"ITEM_ID\", \"USER_ID\"]]\n",
    "    .astype({\"ITEM_ID\": str})\n",
    "    .merge(items_df, left_on=\"ITEM_ID\", right_on=\"ITEM_ID\")\n",
    ")\n",
    "plot_df = merged_df.groupby([\"USER_ID\", \"CATEGORY\"]).apply(set)\n",
    "plot_df.apply(len).value_counts().sort_index().plot.bar()\n",
    "plt.xlabel(\"Number of different news examined by user.\")\n",
    "plt.title(\n",
    "    f\"We should have reduced users to a small number of news\\n\"\n",
    "    f\"maximum size should be {4+1}\"\n",
    ")\n",
    "# The peak at 1 is the male jewellery - there is only one product\n",
    "plt.show()"
   ]
  },
  {
   "cell_type": "code",
   "execution_count": 18,
   "metadata": {},
   "outputs": [
    {
     "data": {
      "text/plain": [
       "<AxesSubplot:>"
      ]
     },
     "execution_count": 18,
     "metadata": {},
     "output_type": "execute_result"
    },
    {
     "data": {
      "image/png": "[encoded data removed]",
      "text/plain": [
       "<Figure size 432x288 with 1 Axes>"
      ]
     },
     "metadata": {
      "needs_background": "light"
     },
     "output_type": "display_data"
    }
   ],
   "source": [
    "merged_df = (\n",
    "    interactions_df[[\"ITEM_ID\", \"USER_ID\"]]\n",
    "    .astype({\"ITEM_ID\": str})\n",
    "    .merge(items_df, left_on=\"ITEM_ID\", right_on=\"ITEM_ID\")\n",
    ")\n",
    "plot_df = merged_df[['USER_ID', 'CATEGORY']].groupby([\"USER_ID\", 'CATEGORY']).apply(set)\n",
    "test_df = merged_df[['USER_ID', 'CATEGORY']].groupby([\"USER_ID\", 'CATEGORY'])\n",
    "test_df.apply(len).value_counts().sort_index().plot.bar()\n",
    "# plot_df.apply(len).value_counts().sort_index().plot.bar()\n",
    "# plt.xlabel(\"Number of different category examined by user.\")\n",
    "# plt.title(\n",
    "#     f\"We should have reduced users to a small number of news\\n\"\n",
    "#     f\"maximum size should be {4+1}\"\n",
    "# )\n",
    "# # The peak at 1 is the male jewellery - there is only one product\n",
    "# plt.show()"
   ]
  },
  {
   "cell_type": "code",
   "execution_count": 19,
   "metadata": {},
   "outputs": [
    {
     "data": {
      "text/plain": [
       "ITEM_ID\n",
       "001745de-a197-4b2a-ae9c-91b6a42d444e     7\n",
       "00309e00-d3db-46f3-9b53-cd9de75af201    32\n",
       "0050d509-ecb0-461c-a6df-4ba8b076d3ef     7\n",
       "0052332b-3e3a-4f0b-a7e2-0cf9ebc6d1f7    30\n",
       "00640d2b-7693-4f73-98c5-712f23c2801d    13\n",
       "                                        ..\n",
       "ffa66d9b-6fa8-4a1e-8545-874b3003926c    18\n",
       "ffaaa11a-cc1b-441f-807f-f6536a54309e    15\n",
       "ffad6094-b7fe-456d-a541-1d52879cc981     7\n",
       "ffd11054-e243-4b4d-adb9-65462175ee42    11\n",
       "ffd59581-f1b4-4131-be00-ecbd59dacbf6    30\n",
       "Name: USER_ID, Length: 2832, dtype: int64"
      ]
     },
     "execution_count": 19,
     "metadata": {},
     "output_type": "execute_result"
    }
   ],
   "source": [
    "interactions_df.groupby(\"ITEM_ID\")[\"USER_ID\"].count()"
   ]
  },
  {
   "cell_type": "code",
   "execution_count": 20,
   "metadata": {},
   "outputs": [
    {
     "data": {
      "text/html": [
       "<div>\n",
       "<style scoped>\n",
       "    .dataframe tbody tr th:only-of-type {\n",
       "        vertical-align: middle;\n",
       "    }\n",
       "\n",
       "    .dataframe tbody tr th {\n",
       "        vertical-align: top;\n",
       "    }\n",
       "\n",
       "    .dataframe thead th {\n",
       "        text-align: right;\n",
       "    }\n",
       "</style>\n",
       "<table border=\"1\" class=\"dataframe\">\n",
       "  <thead>\n",
       "    <tr style=\"text-align: right;\">\n",
       "      <th></th>\n",
       "      <th>ITEM_ID</th>\n",
       "      <th>EVENT_TYPE</th>\n",
       "      <th>TIMESTAMP</th>\n",
       "    </tr>\n",
       "    <tr>\n",
       "      <th>USER_ID</th>\n",
       "      <th></th>\n",
       "      <th></th>\n",
       "      <th></th>\n",
       "    </tr>\n",
       "  </thead>\n",
       "  <tbody>\n",
       "    <tr>\n",
       "      <th>1</th>\n",
       "      <td>127</td>\n",
       "      <td>127</td>\n",
       "      <td>127</td>\n",
       "    </tr>\n",
       "    <tr>\n",
       "      <th>2</th>\n",
       "      <td>103</td>\n",
       "      <td>103</td>\n",
       "      <td>103</td>\n",
       "    </tr>\n",
       "    <tr>\n",
       "      <th>3</th>\n",
       "      <td>168</td>\n",
       "      <td>168</td>\n",
       "      <td>168</td>\n",
       "    </tr>\n",
       "    <tr>\n",
       "      <th>4</th>\n",
       "      <td>133</td>\n",
       "      <td>133</td>\n",
       "      <td>133</td>\n",
       "    </tr>\n",
       "    <tr>\n",
       "      <th>5</th>\n",
       "      <td>166</td>\n",
       "      <td>166</td>\n",
       "      <td>166</td>\n",
       "    </tr>\n",
       "    <tr>\n",
       "      <th>...</th>\n",
       "      <td>...</td>\n",
       "      <td>...</td>\n",
       "      <td>...</td>\n",
       "    </tr>\n",
       "    <tr>\n",
       "      <th>396</th>\n",
       "      <td>117</td>\n",
       "      <td>117</td>\n",
       "      <td>117</td>\n",
       "    </tr>\n",
       "    <tr>\n",
       "      <th>397</th>\n",
       "      <td>144</td>\n",
       "      <td>144</td>\n",
       "      <td>144</td>\n",
       "    </tr>\n",
       "    <tr>\n",
       "      <th>398</th>\n",
       "      <td>124</td>\n",
       "      <td>124</td>\n",
       "      <td>124</td>\n",
       "    </tr>\n",
       "    <tr>\n",
       "      <th>399</th>\n",
       "      <td>148</td>\n",
       "      <td>148</td>\n",
       "      <td>148</td>\n",
       "    </tr>\n",
       "    <tr>\n",
       "      <th>400</th>\n",
       "      <td>120</td>\n",
       "      <td>120</td>\n",
       "      <td>120</td>\n",
       "    </tr>\n",
       "  </tbody>\n",
       "</table>\n",
       "<p>400 rows × 3 columns</p>\n",
       "</div>"
      ],
      "text/plain": [
       "         ITEM_ID  EVENT_TYPE  TIMESTAMP\n",
       "USER_ID                                \n",
       "1            127         127        127\n",
       "2            103         103        103\n",
       "3            168         168        168\n",
       "4            133         133        133\n",
       "5            166         166        166\n",
       "...          ...         ...        ...\n",
       "396          117         117        117\n",
       "397          144         144        144\n",
       "398          124         124        124\n",
       "399          148         148        148\n",
       "400          120         120        120\n",
       "\n",
       "[400 rows x 3 columns]"
      ]
     },
     "execution_count": 20,
     "metadata": {},
     "output_type": "execute_result"
    }
   ],
   "source": [
    "interactions_df.groupby(\"USER_ID\").count()"
   ]
  },
  {
   "cell_type": "code",
   "execution_count": 21,
   "metadata": {},
   "outputs": [],
   "source": [
    "# merged_df = interactions_df[['ITEM_ID', 'USER_ID']].astype({'ITEM_ID': str}).merge(items_df, left_on='ITEM_ID', right_on='ITEM_ID')[['ITEM_ID', 'CATEGORY', 'USER_ID']]\n",
    "# plot_df = merged_df.groupby(['ITEM_ID', 'CATEGORY'])['USER_ID'].count()\n",
    "# plot_df.unstack().plot.barh(figsize=[8, 16])\n",
    "# plt.title('Balance over products with category coded.')\n",
    "# plt.show()"
   ]
  },
  {
   "cell_type": "code",
   "execution_count": 22,
   "metadata": {},
   "outputs": [
    {
     "data": {
      "text/plain": [
       "1556"
      ]
     },
     "execution_count": 22,
     "metadata": {},
     "output_type": "execute_result"
    }
   ],
   "source": [
    "plot_df.count()"
   ]
  },
  {
   "cell_type": "code",
   "execution_count": 23,
   "metadata": {},
   "outputs": [],
   "source": [
    "s3 = boto3.resource(\"s3\")"
   ]
  },
  {
   "cell_type": "code",
   "execution_count": 30,
   "metadata": {},
   "outputs": [
    {
     "name": "stdout",
     "output_type": "stream",
     "text": [
      "Bucket spent-service-personalize-datasets already exists!\n"
     ]
    }
   ],
   "source": [
    "try:\n",
    "    s3.create_bucket(\n",
    "        Bucket=bucket,\n",
    "        CreateBucketConfiguration={\n",
    "            \"LocationConstraint\": \"ap-southeast-1\",\n",
    "        },\n",
    "    )\n",
    "except botocore.exceptions.ClientError as err:\n",
    "    print(\"Bucket {} already exists!\".format(err.response['Error']['BucketName']))\n",
    "#     raise err"
   ]
  },
  {
   "cell_type": "code",
   "execution_count": 31,
   "metadata": {},
   "outputs": [],
   "source": [
    "boto3.Session().resource(\"s3\").Bucket(bucket).Object(users_filename).upload_file(\n",
    "    users_filename\n",
    ")"
   ]
  },
  {
   "cell_type": "code",
   "execution_count": 32,
   "metadata": {},
   "outputs": [],
   "source": [
    "boto3.Session().resource(\"s3\").Bucket(bucket).Object(items_filename).upload_file(\n",
    "    items_filename\n",
    ")"
   ]
  },
  {
   "cell_type": "code",
   "execution_count": 33,
   "metadata": {},
   "outputs": [],
   "source": [
    "boto3.Session().resource(\"s3\").Bucket(bucket).Object(interactions_filename).upload_file(\n",
    "    interactions_filename\n",
    ")"
   ]
  },
  {
   "cell_type": "markdown",
   "metadata": {},
   "source": [
    "## Configure Amazon Personalize\n",
    "\n",
    "Now that we've prepared our three datasets and uploaded them to S3 we'll need to configure the Amazon Personalize service to understand our data so that it can be used to train models for generating recommendations.\n",
    "\n",
    "If Personalize was enabled when you deployed the demo, the below logic was run by polling AWS Lambda function whose code is in the file `src/aws-lambda/personalize-pre-create-campaigns/personalize-pre-create-campaigns.py`."
   ]
  },
  {
   "cell_type": "markdown",
   "metadata": {},
   "source": [
    "### Create Schemas for Datasets\n",
    "\n",
    "Amazon Personalize requires a schema for each dataset so it can map the columns in our CSVs to fields for model training. Each schema is declared in JSON using the [Apache Avro](https://avro.apache.org/) format.\n",
    "\n",
    "Let's define and create schemas in Personalize for our datasets."
   ]
  },
  {
   "cell_type": "code",
   "execution_count": 34,
   "metadata": {},
   "outputs": [],
   "source": [
    "items_schema_name = \"spent-personalize-schema-items-2\"\n",
    "users_schema_name = \"spent-personalize-schema-users\"\n",
    "interactions_schema_name = \"spent-personalize-schema-interactions\""
   ]
  },
  {
   "cell_type": "code",
   "execution_count": 35,
   "metadata": {},
   "outputs": [],
   "source": [
    "# personalize.delete_schema(schemaArn='arn:aws:personalize:ap-southeast-1:268400237357:schema/' + items_schema_name)\n",
    "# personalize.delete_schema(schemaArn='arn:aws:personalize:ap-southeast-1:268400237357:schema/' + users_schema_name)\n",
    "# personalize.delete_schema(schemaArn='arn:aws:personalize:ap-southeast-1:268400237357:schema/' + interactions_schema_name)"
   ]
  },
  {
   "cell_type": "code",
   "execution_count": 36,
   "metadata": {},
   "outputs": [
    {
     "name": "stdout",
     "output_type": "stream",
     "text": [
      "{\n",
      "  \"schemaArn\": \"arn:aws:personalize:ap-southeast-1:268400237357:schema/spent-personalize-schema-items-2\",\n",
      "  \"ResponseMetadata\": {\n",
      "    \"RequestId\": \"fe0defa3-c5ca-47e0-927a-3e5e0aa521d7\",\n",
      "    \"HTTPStatusCode\": 200,\n",
      "    \"HTTPHeaders\": {\n",
      "      \"content-type\": \"application/x-amz-json-1.1\",\n",
      "      \"date\": \"Wed, 17 Feb 2021 09:50:45 GMT\",\n",
      "      \"x-amzn-requestid\": \"fe0defa3-c5ca-47e0-927a-3e5e0aa521d7\",\n",
      "      \"content-length\": \"103\",\n",
      "      \"connection\": \"keep-alive\"\n",
      "    },\n",
      "    \"RetryAttempts\": 0\n",
      "  }\n",
      "}\n"
     ]
    }
   ],
   "source": [
    "items_schema = {\n",
    "    \"type\": \"record\",\n",
    "    \"name\": \"Items\",\n",
    "    \"namespace\": \"com.amazonaws.personalize.schema\",\n",
    "    \"fields\": [\n",
    "        {\"name\": \"ITEM_ID\", \"type\": \"string\"},\n",
    "        {\n",
    "            \"name\": \"CATEGORY\",\n",
    "            \"type\": \"string\",\n",
    "            \"categorical\": True,\n",
    "        },\n",
    "        {\n",
    "          \"name\": \"CREATION_TIMESTAMP\",\n",
    "          \"type\": \"long\"\n",
    "        }\n",
    "        #         {\n",
    "        #             \"name\": \"TAGS\",\n",
    "        #             \"type\": [\"string\", \"null\"],\n",
    "        #         },\n",
    "    ],\n",
    "    \"version\": \"1.0\",\n",
    "}\n",
    "\n",
    "try:\n",
    "    create_schema_response = personalize.create_schema(\n",
    "        name=items_schema_name, schema=json.dumps(items_schema)\n",
    "    )\n",
    "    items_schema_arn = create_schema_response[\"schemaArn\"]\n",
    "    print(json.dumps(create_schema_response, indent=2))\n",
    "\n",
    "except personalize.exceptions.ResourceAlreadyExistsException:\n",
    "    print(\"You aready created this schema, seemingly\")\n",
    "    schemas = personalize.list_schemas(maxResults=100)[\"schemas\"]\n",
    "    for schema_response in schemas:\n",
    "        if schema_response[\"name\"] == items_schema_name:\n",
    "            items_schema_arn = schema_response[\"schemaArn\"]\n",
    "            print(f\"Using existing schema: {items_schema_arn}\")"
   ]
  },
  {
   "cell_type": "code",
   "execution_count": 37,
   "metadata": {},
   "outputs": [
    {
     "name": "stdout",
     "output_type": "stream",
     "text": [
      "You aready created this schema, seemingly\n",
      "Using existing schema: arn:aws:personalize:ap-southeast-1:268400237357:schema/spent-personalize-schema-users\n"
     ]
    }
   ],
   "source": [
    "users_schema = {\n",
    "    \"type\": \"record\",\n",
    "    \"name\": \"Users\",\n",
    "    \"namespace\": \"com.amazonaws.personalize.schema\",\n",
    "    \"fields\": [\n",
    "        {\"name\": \"USER_ID\", \"type\": \"string\"},\n",
    "        {\"name\": \"AGE\", \"type\": \"int\"},\n",
    "        {\n",
    "            \"name\": \"GENDER\",\n",
    "            \"type\": \"string\",\n",
    "        },\n",
    "    ],\n",
    "    \"version\": \"1.0\",\n",
    "}\n",
    "\n",
    "try:\n",
    "    create_schema_response = personalize.create_schema(\n",
    "        name=users_schema_name, schema=json.dumps(users_schema)\n",
    "    )\n",
    "    print(json.dumps(create_schema_response, indent=2))\n",
    "    users_schema_arn = create_schema_response[\"schemaArn\"]\n",
    "\n",
    "except personalize.exceptions.ResourceAlreadyExistsException:\n",
    "    print(\"You aready created this schema, seemingly\")\n",
    "    schemas = personalize.list_schemas(maxResults=100)[\"schemas\"]\n",
    "    for schema_response in schemas:\n",
    "        if schema_response[\"name\"] == users_schema_name:\n",
    "            users_schema_arn = schema_response[\"schemaArn\"]\n",
    "            print(f\"Using existing schema: {users_schema_arn}\")"
   ]
  },
  {
   "cell_type": "code",
   "execution_count": 38,
   "metadata": {},
   "outputs": [
    {
     "name": "stdout",
     "output_type": "stream",
     "text": [
      "You aready created this schema, seemingly\n",
      "Using existing schema: arn:aws:personalize:ap-southeast-1:268400237357:schema/spent-personalize-schema-interactions\n"
     ]
    }
   ],
   "source": [
    "interactions_schema = {\n",
    "    \"type\": \"record\",\n",
    "    \"name\": \"Interactions\",\n",
    "    \"namespace\": \"com.amazonaws.personalize.schema\",\n",
    "    \"fields\": [\n",
    "        {\"name\": \"ITEM_ID\", \"type\": \"string\"},\n",
    "        {\"name\": \"USER_ID\", \"type\": \"string\"},\n",
    "        {\"name\": \"EVENT_TYPE\", \"type\": \"string\"},\n",
    "        {\"name\": \"TIMESTAMP\", \"type\": \"long\"},\n",
    "    ],\n",
    "    \"version\": \"1.0\",\n",
    "}\n",
    "\n",
    "try:\n",
    "    create_schema_response = personalize.create_schema(\n",
    "        name=interactions_schema_name, schema=json.dumps(interactions_schema)\n",
    "    )\n",
    "    print(json.dumps(create_schema_response, indent=2))\n",
    "    interactions_schema_arn = create_schema_response[\"schemaArn\"]\n",
    "except personalize.exceptions.ResourceAlreadyExistsException:\n",
    "    print(\"You aready created this schema, seemingly\")\n",
    "    schemas = personalize.list_schemas(maxResults=100)[\"schemas\"]\n",
    "    for schema_response in schemas:\n",
    "        if schema_response[\"name\"] == interactions_schema_name:\n",
    "            interactions_schema_arn = schema_response[\"schemaArn\"]\n",
    "            print(f\"Using existing schema: {interactions_schema_arn}\")"
   ]
  },
  {
   "cell_type": "markdown",
   "metadata": {},
   "source": [
    "### Create Dataset Group\n",
    "\n",
    "Next we will create the datasets in Personalize for our three dataset types. Let's start with the items dataset."
   ]
  },
  {
   "cell_type": "code",
   "execution_count": 16,
   "metadata": {},
   "outputs": [],
   "source": [
    "dataset_group_name = \"spent-9\"\n",
    "items_dataset_name = \"spent-personalize-dataset-items\"\n",
    "users_dataset_name = \"spent-personalize-dataset-users\"\n",
    "interactions_dataset_name = \"spent-personalize-dataset-interactions\""
   ]
  },
  {
   "cell_type": "code",
   "execution_count": 40,
   "metadata": {},
   "outputs": [
    {
     "name": "stdout",
     "output_type": "stream",
     "text": [
      "{\n",
      "  \"datasetGroupArn\": \"arn:aws:personalize:ap-southeast-1:268400237357:dataset-group/spent-9\",\n",
      "  \"ResponseMetadata\": {\n",
      "    \"RequestId\": \"df98061a-2d59-4e74-b907-1cc1e640f8b1\",\n",
      "    \"HTTPStatusCode\": 200,\n",
      "    \"HTTPHeaders\": {\n",
      "      \"content-type\": \"application/x-amz-json-1.1\",\n",
      "      \"date\": \"Wed, 17 Feb 2021 09:52:14 GMT\",\n",
      "      \"x-amzn-requestid\": \"df98061a-2d59-4e74-b907-1cc1e640f8b1\",\n",
      "      \"content-length\": \"91\",\n",
      "      \"connection\": \"keep-alive\"\n",
      "    },\n",
      "    \"RetryAttempts\": 0\n",
      "  }\n",
      "}\n",
      "DatasetGroupArn = arn:aws:personalize:ap-southeast-1:268400237357:dataset-group/spent-9\n"
     ]
    }
   ],
   "source": [
    "create_dataset_group_response = personalize.create_dataset_group(\n",
    "    name=dataset_group_name\n",
    ")\n",
    "\n",
    "dataset_group_arn = create_dataset_group_response[\"datasetGroupArn\"]\n",
    "print(json.dumps(create_dataset_group_response, indent=2))\n",
    "\n",
    "print(f\"DatasetGroupArn = {dataset_group_arn}\")"
   ]
  },
  {
   "cell_type": "code",
   "execution_count": 41,
   "metadata": {},
   "outputs": [
    {
     "name": "stdout",
     "output_type": "stream",
     "text": [
      "DatasetGroup: CREATE PENDING\n",
      "DatasetGroup: ACTIVE\n"
     ]
    }
   ],
   "source": [
    "status = None\n",
    "max_time = time.time() + 3 * 60 * 60  # 3 hours\n",
    "while time.time() < max_time:\n",
    "    describe_dataset_group_response = personalize.describe_dataset_group(\n",
    "        datasetGroupArn=dataset_group_arn\n",
    "    )\n",
    "    status = describe_dataset_group_response[\"datasetGroup\"][\"status\"]\n",
    "    print(\"DatasetGroup: {}\".format(status))\n",
    "\n",
    "    if status == \"ACTIVE\" or status == \"CREATE FAILED\":\n",
    "        break\n",
    "\n",
    "    time.sleep(15)"
   ]
  },
  {
   "cell_type": "markdown",
   "metadata": {},
   "source": [
    "## Create Items Dataset"
   ]
  },
  {
   "cell_type": "code",
   "execution_count": 42,
   "metadata": {},
   "outputs": [
    {
     "name": "stdout",
     "output_type": "stream",
     "text": [
      "{\n",
      "  \"datasetArn\": \"arn:aws:personalize:ap-southeast-1:268400237357:dataset/spent-9/ITEMS\",\n",
      "  \"ResponseMetadata\": {\n",
      "    \"RequestId\": \"081a193c-a3aa-4567-9cde-f19346525bf9\",\n",
      "    \"HTTPStatusCode\": 200,\n",
      "    \"HTTPHeaders\": {\n",
      "      \"content-type\": \"application/x-amz-json-1.1\",\n",
      "      \"date\": \"Wed, 17 Feb 2021 09:52:32 GMT\",\n",
      "      \"x-amzn-requestid\": \"081a193c-a3aa-4567-9cde-f19346525bf9\",\n",
      "      \"content-length\": \"86\",\n",
      "      \"connection\": \"keep-alive\"\n",
      "    },\n",
      "    \"RetryAttempts\": 0\n",
      "  }\n",
      "}\n"
     ]
    }
   ],
   "source": [
    "dataset_type = \"ITEMS\"\n",
    "create_dataset_response = personalize.create_dataset(\n",
    "    name=items_dataset_name,\n",
    "    datasetType=dataset_type,\n",
    "    datasetGroupArn=dataset_group_arn,\n",
    "    schemaArn=items_schema_arn,\n",
    ")\n",
    "\n",
    "items_dataset_arn = create_dataset_response[\"datasetArn\"]\n",
    "print(json.dumps(create_dataset_response, indent=2))"
   ]
  },
  {
   "cell_type": "markdown",
   "metadata": {},
   "source": [
    "## Create Users Dataset"
   ]
  },
  {
   "cell_type": "code",
   "execution_count": 43,
   "metadata": {},
   "outputs": [
    {
     "name": "stdout",
     "output_type": "stream",
     "text": [
      "{\n",
      "  \"datasetArn\": \"arn:aws:personalize:ap-southeast-1:268400237357:dataset/spent-9/USERS\",\n",
      "  \"ResponseMetadata\": {\n",
      "    \"RequestId\": \"b2a10abd-2957-456a-a840-6eda05a4c392\",\n",
      "    \"HTTPStatusCode\": 200,\n",
      "    \"HTTPHeaders\": {\n",
      "      \"content-type\": \"application/x-amz-json-1.1\",\n",
      "      \"date\": \"Wed, 17 Feb 2021 09:52:32 GMT\",\n",
      "      \"x-amzn-requestid\": \"b2a10abd-2957-456a-a840-6eda05a4c392\",\n",
      "      \"content-length\": \"86\",\n",
      "      \"connection\": \"keep-alive\"\n",
      "    },\n",
      "    \"RetryAttempts\": 0\n",
      "  }\n",
      "}\n"
     ]
    }
   ],
   "source": [
    "dataset_type = \"USERS\"\n",
    "create_dataset_response = personalize.create_dataset(\n",
    "    name=users_dataset_name,\n",
    "    datasetType=dataset_type,\n",
    "    datasetGroupArn=dataset_group_arn,\n",
    "    schemaArn=users_schema_arn,\n",
    ")\n",
    "\n",
    "users_dataset_arn = create_dataset_response[\"datasetArn\"]\n",
    "print(json.dumps(create_dataset_response, indent=2))"
   ]
  },
  {
   "cell_type": "markdown",
   "metadata": {},
   "source": [
    "## Create Interactions Dataset"
   ]
  },
  {
   "cell_type": "code",
   "execution_count": 44,
   "metadata": {},
   "outputs": [
    {
     "name": "stdout",
     "output_type": "stream",
     "text": [
      "{\n",
      "  \"datasetArn\": \"arn:aws:personalize:ap-southeast-1:268400237357:dataset/spent-9/INTERACTIONS\",\n",
      "  \"ResponseMetadata\": {\n",
      "    \"RequestId\": \"8f961f73-df39-40b5-a416-55854337c85d\",\n",
      "    \"HTTPStatusCode\": 200,\n",
      "    \"HTTPHeaders\": {\n",
      "      \"content-type\": \"application/x-amz-json-1.1\",\n",
      "      \"date\": \"Wed, 17 Feb 2021 09:52:32 GMT\",\n",
      "      \"x-amzn-requestid\": \"8f961f73-df39-40b5-a416-55854337c85d\",\n",
      "      \"content-length\": \"93\",\n",
      "      \"connection\": \"keep-alive\"\n",
      "    },\n",
      "    \"RetryAttempts\": 0\n",
      "  }\n",
      "}\n"
     ]
    }
   ],
   "source": [
    "dataset_type = \"INTERACTIONS\"\n",
    "create_dataset_response = personalize.create_dataset(\n",
    "    name=interactions_dataset_name,\n",
    "    datasetType=dataset_type,\n",
    "    datasetGroupArn=dataset_group_arn,\n",
    "    schemaArn=interactions_schema_arn,\n",
    ")\n",
    "\n",
    "interactions_dataset_arn = create_dataset_response[\"datasetArn\"]\n",
    "print(json.dumps(create_dataset_response, indent=2))"
   ]
  },
  {
   "cell_type": "markdown",
   "metadata": {},
   "source": [
    "## Import Datasets to Personalize\n",
    "\n",
    "Up to this point we have generated CSVs containing data for our users, items, and interactions and staged them in an S3 bucket. We also created schemas in Personalize that define the columns in our CSVs. Then we created a datset group and three datasets in Personalize that will receive our data. In the following steps we will create import jobs with Personalize that will import the datasets from our S3 bucket into the service.\n",
    "\n",
    "### Setup Permissions\n",
    "\n",
    "By default, the Personalize service does not have permission to acccess the data we uploaded into the S3 bucket in our account. In order to grant access to the  Personalize service to read our CSVs, we need to set a Bucket Policy and create an IAM role that the Amazon Personalize service will assume."
   ]
  },
  {
   "cell_type": "markdown",
   "metadata": {},
   "source": [
    "#### Attach policy to S3 bucket"
   ]
  },
  {
   "cell_type": "code",
   "execution_count": 45,
   "metadata": {},
   "outputs": [],
   "source": [
    "s3 = boto3.client(\"s3\")\n",
    "\n",
    "policy = {\n",
    "    \"Version\": \"2012-10-17\",\n",
    "    \"Id\": \"PersonalizeS3BucketAccessPolicy\",\n",
    "    \"Statement\": [\n",
    "        {\n",
    "            \"Sid\": \"PersonalizeS3BucketAccessPolicy\",\n",
    "            \"Effect\": \"Allow\",\n",
    "            \"Principal\": {\"Service\": \"personalize.amazonaws.com\"},\n",
    "            \"Action\": [\"s3:GetObject\", \"s3:ListBucket\"],\n",
    "            \"Resource\": [\n",
    "                \"arn:aws:s3:::{}\".format(bucket),\n",
    "                \"arn:aws:s3:::{}/*\".format(bucket),\n",
    "            ],\n",
    "        }\n",
    "    ],\n",
    "}\n",
    "\n",
    "s3.put_bucket_policy(Bucket=bucket, Policy=json.dumps(policy));"
   ]
  },
  {
   "cell_type": "markdown",
   "metadata": {},
   "source": [
    "#### Create S3 Read Only Access Role"
   ]
  },
  {
   "cell_type": "code",
   "execution_count": 46,
   "metadata": {},
   "outputs": [
    {
     "name": "stdout",
     "output_type": "stream",
     "text": [
      "IAM Role: arn:aws:iam::268400237357:role/Spent-PersonalizeS3-spent-9\n",
      "Done.\n"
     ]
    }
   ],
   "source": [
    "iam = boto3.client(\"iam\")\n",
    "\n",
    "role_name = \"Spent\" + \"-PersonalizeS3-\" + dataset_group_name\n",
    "assume_role_policy_document = {\n",
    "    \"Version\": \"2012-10-17\",\n",
    "    \"Statement\": [\n",
    "        {\n",
    "            \"Effect\": \"Allow\",\n",
    "            \"Principal\": {\"Service\": \"personalize.amazonaws.com\"},\n",
    "            \"Action\": \"sts:AssumeRole\",\n",
    "        }\n",
    "    ],\n",
    "}\n",
    "\n",
    "try:\n",
    "    create_role_response = iam.create_role(\n",
    "        RoleName=role_name,\n",
    "        AssumeRolePolicyDocument=json.dumps(assume_role_policy_document),\n",
    "    )\n",
    "\n",
    "except iam.exceptions.EntityAlreadyExistsException as e:\n",
    "    print(\"Warning: role already exists:\", e)\n",
    "    create_role_response = iam.get_role(RoleName=role_name)\n",
    "\n",
    "role_arn = create_role_response[\"Role\"][\"Arn\"]\n",
    "\n",
    "print(\"IAM Role: {}\".format(role_arn))\n",
    "\n",
    "attach_response = iam.attach_role_policy(\n",
    "    RoleName=role_name, PolicyArn=\"arn:aws:iam::aws:policy/AmazonS3ReadOnlyAccess\"\n",
    ")\n",
    "\n",
    "role_arn = create_role_response[\"Role\"][\"Arn\"]\n",
    "\n",
    "# Pause to allow role to be fully consistent\n",
    "time.sleep(30)\n",
    "print(\"Done.\")"
   ]
  },
  {
   "cell_type": "markdown",
   "metadata": {},
   "source": [
    "### Create Import Jobs\n",
    "\n",
    "With the permissions in place to allow Personalize to access our CSV files, let's create three import jobs to import each file into its respective dataset. Each import job can take several minutes to complete so we'll create all three and then wait for them all to complete."
   ]
  },
  {
   "cell_type": "markdown",
   "metadata": {},
   "source": [
    "#### Create Items Dataset Import Job"
   ]
  },
  {
   "cell_type": "code",
   "execution_count": 47,
   "metadata": {},
   "outputs": [
    {
     "name": "stdout",
     "output_type": "stream",
     "text": [
      "{\n",
      "  \"datasetImportJobArn\": \"arn:aws:personalize:ap-southeast-1:268400237357:dataset-import-job/spent-9spent-dataset-items-import\",\n",
      "  \"ResponseMetadata\": {\n",
      "    \"RequestId\": \"0f362d98-2deb-48a5-9a62-7c85fe4f8615\",\n",
      "    \"HTTPStatusCode\": 200,\n",
      "    \"HTTPHeaders\": {\n",
      "      \"content-type\": \"application/x-amz-json-1.1\",\n",
      "      \"date\": \"Wed, 17 Feb 2021 09:53:10 GMT\",\n",
      "      \"x-amzn-requestid\": \"0f362d98-2deb-48a5-9a62-7c85fe4f8615\",\n",
      "      \"content-length\": \"126\",\n",
      "      \"connection\": \"keep-alive\"\n",
      "    },\n",
      "    \"RetryAttempts\": 0\n",
      "  }\n",
      "}\n"
     ]
    }
   ],
   "source": [
    "items_create_dataset_import_job_response = personalize.create_dataset_import_job(\n",
    "    jobName=dataset_group_name + \"spent-dataset-items-import\",\n",
    "    datasetArn=items_dataset_arn,\n",
    "    dataSource={\"dataLocation\": \"s3://{}/{}\".format(bucket, items_filename)},\n",
    "    roleArn=role_arn,\n",
    ")\n",
    "\n",
    "items_dataset_import_job_arn = items_create_dataset_import_job_response[\n",
    "    \"datasetImportJobArn\"\n",
    "]\n",
    "print(json.dumps(items_create_dataset_import_job_response, indent=2))"
   ]
  },
  {
   "cell_type": "markdown",
   "metadata": {},
   "source": [
    "#### Create Users Dataset Import Job"
   ]
  },
  {
   "cell_type": "code",
   "execution_count": 48,
   "metadata": {},
   "outputs": [
    {
     "name": "stdout",
     "output_type": "stream",
     "text": [
      "{\n",
      "  \"datasetImportJobArn\": \"arn:aws:personalize:ap-southeast-1:268400237357:dataset-import-job/spent-9spent-dataset-users-import\",\n",
      "  \"ResponseMetadata\": {\n",
      "    \"RequestId\": \"9850804b-c7f6-411c-bd8d-0fb8dc951fa4\",\n",
      "    \"HTTPStatusCode\": 200,\n",
      "    \"HTTPHeaders\": {\n",
      "      \"content-type\": \"application/x-amz-json-1.1\",\n",
      "      \"date\": \"Wed, 17 Feb 2021 09:53:11 GMT\",\n",
      "      \"x-amzn-requestid\": \"9850804b-c7f6-411c-bd8d-0fb8dc951fa4\",\n",
      "      \"content-length\": \"126\",\n",
      "      \"connection\": \"keep-alive\"\n",
      "    },\n",
      "    \"RetryAttempts\": 0\n",
      "  }\n",
      "}\n"
     ]
    }
   ],
   "source": [
    "users_create_dataset_import_job_response = personalize.create_dataset_import_job(\n",
    "    jobName=dataset_group_name + \"spent-dataset-users-import\",\n",
    "    datasetArn=users_dataset_arn,\n",
    "    dataSource={\"dataLocation\": \"s3://{}/{}\".format(bucket, users_filename)},\n",
    "    roleArn=role_arn,\n",
    ")\n",
    "\n",
    "users_dataset_import_job_arn = users_create_dataset_import_job_response[\n",
    "    \"datasetImportJobArn\"\n",
    "]\n",
    "print(json.dumps(users_create_dataset_import_job_response, indent=2))"
   ]
  },
  {
   "cell_type": "markdown",
   "metadata": {},
   "source": [
    "#### Create Interactions Dataset Import Job"
   ]
  },
  {
   "cell_type": "code",
   "execution_count": 49,
   "metadata": {},
   "outputs": [
    {
     "name": "stdout",
     "output_type": "stream",
     "text": [
      "{\n",
      "  \"datasetImportJobArn\": \"arn:aws:personalize:ap-southeast-1:268400237357:dataset-import-job/spent-9spent-dataset-interactions-import\",\n",
      "  \"ResponseMetadata\": {\n",
      "    \"RequestId\": \"0042001a-63dc-403b-a193-6beec4258796\",\n",
      "    \"HTTPStatusCode\": 200,\n",
      "    \"HTTPHeaders\": {\n",
      "      \"content-type\": \"application/x-amz-json-1.1\",\n",
      "      \"date\": \"Wed, 17 Feb 2021 09:53:11 GMT\",\n",
      "      \"x-amzn-requestid\": \"0042001a-63dc-403b-a193-6beec4258796\",\n",
      "      \"content-length\": \"133\",\n",
      "      \"connection\": \"keep-alive\"\n",
      "    },\n",
      "    \"RetryAttempts\": 0\n",
      "  }\n",
      "}\n"
     ]
    }
   ],
   "source": [
    "interactions_create_dataset_import_job_response = personalize.create_dataset_import_job(\n",
    "    jobName=dataset_group_name + \"spent-dataset-interactions-import\",\n",
    "    datasetArn=interactions_dataset_arn,\n",
    "    dataSource={\"dataLocation\": \"s3://{}/{}\".format(bucket, interactions_filename)},\n",
    "    roleArn=role_arn,\n",
    ")\n",
    "\n",
    "interactions_dataset_import_job_arn = interactions_create_dataset_import_job_response[\n",
    "    \"datasetImportJobArn\"\n",
    "]\n",
    "print(json.dumps(interactions_create_dataset_import_job_response, indent=2))"
   ]
  },
  {
   "cell_type": "markdown",
   "metadata": {},
   "source": [
    "#### Wait for Import Job to Complete"
   ]
  },
  {
   "cell_type": "code",
   "execution_count": 50,
   "metadata": {},
   "outputs": [
    {
     "name": "stdout",
     "output_type": "stream",
     "text": [
      "At least one dataset import job still in progress\n",
      "At least one dataset import job still in progress\n",
      "At least one dataset import job still in progress\n",
      "At least one dataset import job still in progress\n",
      "At least one dataset import job still in progress\n",
      "At least one dataset import job still in progress\n",
      "At least one dataset import job still in progress\n",
      "At least one dataset import job still in progress\n",
      "At least one dataset import job still in progress\n",
      "At least one dataset import job still in progress\n",
      "At least one dataset import job still in progress\n",
      "At least one dataset import job still in progress\n",
      "At least one dataset import job still in progress\n",
      "At least one dataset import job still in progress\n",
      "At least one dataset import job still in progress\n",
      "Import job arn:aws:personalize:ap-southeast-1:268400237357:dataset-import-job/spent-9spent-dataset-interactions-import successfully completed\n",
      "Import job arn:aws:personalize:ap-southeast-1:268400237357:dataset-import-job/spent-9spent-dataset-items-import successfully completed\n",
      "At least one dataset import job still in progress\n",
      "Import job arn:aws:personalize:ap-southeast-1:268400237357:dataset-import-job/spent-9spent-dataset-users-import successfully completed\n",
      "All import jobs have ended\n",
      "CPU times: user 498 ms, sys: 31.6 ms, total: 529 ms\n",
      "Wall time: 16min 10s\n"
     ]
    }
   ],
   "source": [
    "%%time\n",
    "\n",
    "import_job_arns = [\n",
    "    items_dataset_import_job_arn,\n",
    "    users_dataset_import_job_arn,\n",
    "    interactions_dataset_import_job_arn,\n",
    "]\n",
    "\n",
    "max_time = time.time() + 3 * 60 * 60  # 3 hours\n",
    "while time.time() < max_time:\n",
    "    for job_arn in reversed(import_job_arns):\n",
    "        import_job_response = personalize.describe_dataset_import_job(\n",
    "            datasetImportJobArn=job_arn\n",
    "        )\n",
    "        status = import_job_response[\"datasetImportJob\"][\"status\"]\n",
    "\n",
    "        if status == \"ACTIVE\":\n",
    "            print(f\"Import job {job_arn} successfully completed\")\n",
    "            import_job_arns.remove(job_arn)\n",
    "        elif status == \"CREATE FAILED\":\n",
    "            print(f\"Import job {job_arn} failed\")\n",
    "            if import_job_response.get(\"failureReason\"):\n",
    "                print(\"   Reason: \" + import_job_response[\"failureReason\"])\n",
    "            import_job_arns.remove(job_arn)\n",
    "\n",
    "    if len(import_job_arns) > 0:\n",
    "        print(\"At least one dataset import job still in progress\")\n",
    "        time.sleep(60)\n",
    "    else:\n",
    "        print(\"All import jobs have ended\")\n",
    "        break"
   ]
  },
  {
   "cell_type": "markdown",
   "metadata": {},
   "source": [
    "## Create Solutions\n",
    "\n",
    "With our three datasets imported into our dataset group, we can now turn to training models. As a reminder, we will be training three models in this workshop to support four different personalization use-cases wth three different models. One model will be used to make related product recommendations on the product detail view/page, another model will be used to make personalized product recommendations to users on the homepage, and the last model will be used to rerank product lists on the category and featured products page. This last model will be repurposed to offer discounts to users. In Amazon Personalize, training a model involves creating a Solution and Solution Version. So when we are finished we will have three solutions and a solution version for each solution. \n",
    "\n",
    "When creating a solution, you provide your dataset group and the recipe for training. Let's declare the recipes that we will need for our solutions."
   ]
  },
  {
   "cell_type": "markdown",
   "metadata": {},
   "source": [
    "### List Recipes\n",
    "\n",
    "First, let's list all available recipes."
   ]
  },
  {
   "cell_type": "code",
   "execution_count": 51,
   "metadata": {},
   "outputs": [
    {
     "data": {
      "text/plain": [
       "{'recipes': [{'name': 'aws-hrnn',\n",
       "   'recipeArn': 'arn:aws:personalize:::recipe/aws-hrnn',\n",
       "   'status': 'ACTIVE',\n",
       "   'creationDateTime': datetime.datetime(2019, 6, 10, 7, 0, tzinfo=tzlocal()),\n",
       "   'lastUpdatedDateTime': datetime.datetime(2021, 2, 8, 5, 43, 33, 732000, tzinfo=tzlocal())},\n",
       "  {'name': 'aws-hrnn-coldstart',\n",
       "   'recipeArn': 'arn:aws:personalize:::recipe/aws-hrnn-coldstart',\n",
       "   'status': 'ACTIVE',\n",
       "   'creationDateTime': datetime.datetime(2019, 6, 10, 7, 0, tzinfo=tzlocal()),\n",
       "   'lastUpdatedDateTime': datetime.datetime(2021, 2, 8, 5, 43, 33, 732000, tzinfo=tzlocal())},\n",
       "  {'name': 'aws-hrnn-metadata',\n",
       "   'recipeArn': 'arn:aws:personalize:::recipe/aws-hrnn-metadata',\n",
       "   'status': 'ACTIVE',\n",
       "   'creationDateTime': datetime.datetime(2019, 6, 10, 7, 0, tzinfo=tzlocal()),\n",
       "   'lastUpdatedDateTime': datetime.datetime(2021, 2, 8, 5, 43, 33, 732000, tzinfo=tzlocal())},\n",
       "  {'name': 'aws-personalized-ranking',\n",
       "   'recipeArn': 'arn:aws:personalize:::recipe/aws-personalized-ranking',\n",
       "   'status': 'ACTIVE',\n",
       "   'creationDateTime': datetime.datetime(2019, 6, 10, 7, 0, tzinfo=tzlocal()),\n",
       "   'lastUpdatedDateTime': datetime.datetime(2021, 2, 8, 5, 43, 33, 732000, tzinfo=tzlocal())},\n",
       "  {'name': 'aws-popularity-count',\n",
       "   'recipeArn': 'arn:aws:personalize:::recipe/aws-popularity-count',\n",
       "   'status': 'ACTIVE',\n",
       "   'creationDateTime': datetime.datetime(2019, 6, 10, 7, 0, tzinfo=tzlocal()),\n",
       "   'lastUpdatedDateTime': datetime.datetime(2021, 2, 8, 5, 43, 33, 732000, tzinfo=tzlocal())},\n",
       "  {'name': 'aws-sims',\n",
       "   'recipeArn': 'arn:aws:personalize:::recipe/aws-sims',\n",
       "   'status': 'ACTIVE',\n",
       "   'creationDateTime': datetime.datetime(2019, 6, 10, 7, 0, tzinfo=tzlocal()),\n",
       "   'lastUpdatedDateTime': datetime.datetime(2021, 2, 8, 5, 43, 33, 732000, tzinfo=tzlocal())},\n",
       "  {'name': 'aws-user-personalization',\n",
       "   'recipeArn': 'arn:aws:personalize:::recipe/aws-user-personalization',\n",
       "   'status': 'ACTIVE',\n",
       "   'creationDateTime': datetime.datetime(2019, 6, 10, 7, 0, tzinfo=tzlocal()),\n",
       "   'lastUpdatedDateTime': datetime.datetime(2021, 2, 8, 5, 43, 33, 732000, tzinfo=tzlocal())}],\n",
       " 'ResponseMetadata': {'RequestId': '2b471b4c-d67a-486b-82a8-da32e5fbd2fc',\n",
       "  'HTTPStatusCode': 200,\n",
       "  'HTTPHeaders': {'content-type': 'application/x-amz-json-1.1',\n",
       "   'date': 'Wed, 17 Feb 2021 10:09:27 GMT',\n",
       "   'x-amzn-requestid': '2b471b4c-d67a-486b-82a8-da32e5fbd2fc',\n",
       "   'content-length': '1259',\n",
       "   'connection': 'keep-alive'},\n",
       "  'RetryAttempts': 0}}"
      ]
     },
     "execution_count": 51,
     "metadata": {},
     "output_type": "execute_result"
    }
   ],
   "source": [
    "list_recipes_response = personalize.list_recipes()\n",
    "list_recipes_response"
   ]
  },
  {
   "cell_type": "markdown",
   "metadata": {},
   "source": [
    "#### Declare Personalize Recipe for News Recommendations\n",
    "\n",
    "Since we are providing metadata for users and items, we will be using the [User-Personalization](https://docs.aws.amazon.com/personalize/latest/dg/native-recipe-new-item-USER_PERSONALIZATION.html) recipe for our product recommendations solution.\n",
    "\n",
    "> The User-Personalization (aws-user-personalization) recipe is optimized for all personalized recommendation scenarios. It predicts the items that a user will interact with based on Interactions, Items, and Users datasets. When recommending items, it uses automatic item exploration. "
   ]
  },
  {
   "cell_type": "code",
   "execution_count": 52,
   "metadata": {},
   "outputs": [],
   "source": [
    "recommend_recipe_arn = \"arn:aws:personalize:::recipe/aws-user-personalization\""
   ]
  },
  {
   "cell_type": "markdown",
   "metadata": {},
   "source": [
    "### Create Solutions and Solution Versions\n",
    "\n",
    "With our recipes defined, we can now create our solutions and solution versions."
   ]
  },
  {
   "cell_type": "code",
   "execution_count": 53,
   "metadata": {},
   "outputs": [],
   "source": [
    "dataset_group_arn = f\"arn:aws:personalize:ap-southeast-1:268400237357:dataset-group/{dataset_group_name}\""
   ]
  },
  {
   "cell_type": "markdown",
   "metadata": {},
   "source": [
    "#### Create Product Recommendation Solution"
   ]
  },
  {
   "cell_type": "code",
   "execution_count": 54,
   "metadata": {},
   "outputs": [
    {
     "name": "stdout",
     "output_type": "stream",
     "text": [
      "{\n",
      "  \"solutionArn\": \"arn:aws:personalize:ap-southeast-1:268400237357:solution/spent-9-news-personalization\",\n",
      "  \"ResponseMetadata\": {\n",
      "    \"RequestId\": \"b42bf211-1f70-441e-87f2-d754de33c505\",\n",
      "    \"HTTPStatusCode\": 200,\n",
      "    \"HTTPHeaders\": {\n",
      "      \"content-type\": \"application/x-amz-json-1.1\",\n",
      "      \"date\": \"Wed, 17 Feb 2021 10:09:32 GMT\",\n",
      "      \"x-amzn-requestid\": \"b42bf211-1f70-441e-87f2-d754de33c505\",\n",
      "      \"content-length\": \"103\",\n",
      "      \"connection\": \"keep-alive\"\n",
      "    },\n",
      "    \"RetryAttempts\": 0\n",
      "  }\n",
      "}\n"
     ]
    }
   ],
   "source": [
    "create_solution_response = personalize.create_solution(\n",
    "    name=dataset_group_name + \"-news-personalization\",\n",
    "    datasetGroupArn=dataset_group_arn,\n",
    "    recipeArn=recommend_recipe_arn,\n",
    ")\n",
    "\n",
    "recommend_solution_arn = create_solution_response[\"solutionArn\"]\n",
    "print(json.dumps(create_solution_response, indent=2))"
   ]
  },
  {
   "cell_type": "code",
   "execution_count": 55,
   "metadata": {},
   "outputs": [
    {
     "name": "stdout",
     "output_type": "stream",
     "text": [
      "{\n",
      "  \"solutionVersionArn\": \"arn:aws:personalize:ap-southeast-1:268400237357:solution/spent-9-news-personalization/a46d6039\",\n",
      "  \"ResponseMetadata\": {\n",
      "    \"RequestId\": \"f0fb636e-526f-40ef-8a44-194a417e32ad\",\n",
      "    \"HTTPStatusCode\": 200,\n",
      "    \"HTTPHeaders\": {\n",
      "      \"content-type\": \"application/x-amz-json-1.1\",\n",
      "      \"date\": \"Wed, 17 Feb 2021 10:09:34 GMT\",\n",
      "      \"x-amzn-requestid\": \"f0fb636e-526f-40ef-8a44-194a417e32ad\",\n",
      "      \"content-length\": \"119\",\n",
      "      \"connection\": \"keep-alive\"\n",
      "    },\n",
      "    \"RetryAttempts\": 0\n",
      "  }\n",
      "}\n"
     ]
    }
   ],
   "source": [
    "create_solution_version_response = personalize.create_solution_version(\n",
    "    solutionArn=recommend_solution_arn\n",
    ")\n",
    "\n",
    "recommend_solution_version_arn = create_solution_version_response[\"solutionVersionArn\"]\n",
    "print(json.dumps(create_solution_version_response, indent=2))"
   ]
  },
  {
   "cell_type": "markdown",
   "metadata": {},
   "source": [
    "### Wait for Solution Versions to Complete\n",
    "\n",
    "It can take 40-60 minutes for all solution versions to be created. During this process a model is being trained and tested with the data contained within your datasets. The duration of training jobs can increase based on the size of the dataset, training parameters and a selected recipe. We submitted requests for all three solutions and versions at once so they are trained in parallel and then below we will wait for all three to finish.\n",
    "\n",
    "While you are waiting for this process to complete you can learn more about solutions here: https://docs.aws.amazon.com/personalize/latest/dg/training-deploying-solutions.html"
   ]
  },
  {
   "cell_type": "code",
   "execution_count": null,
   "metadata": {},
   "outputs": [
    {
     "name": "stdout",
     "output_type": "stream",
     "text": [
      "At least one solution version is still in progress\n",
      "At least one solution version is still in progress\n",
      "At least one solution version is still in progress\n",
      "At least one solution version is still in progress\n",
      "At least one solution version is still in progress\n",
      "At least one solution version is still in progress\n",
      "At least one solution version is still in progress\n",
      "At least one solution version is still in progress\n",
      "At least one solution version is still in progress\n",
      "At least one solution version is still in progress\n",
      "At least one solution version is still in progress\n"
     ]
    }
   ],
   "source": [
    "%%time\n",
    "\n",
    "soln_ver_arns = [recommend_solution_version_arn]\n",
    "\n",
    "max_time = time.time() + 3 * 60 * 60  # 3 hours\n",
    "while time.time() < max_time:\n",
    "    for soln_ver_arn in reversed(soln_ver_arns):\n",
    "        soln_ver_response = personalize.describe_solution_version(\n",
    "            solutionVersionArn=soln_ver_arn\n",
    "        )\n",
    "        status = soln_ver_response[\"solutionVersion\"][\"status\"]\n",
    "\n",
    "        if status == \"ACTIVE\":\n",
    "            print(f\"Solution version {soln_ver_arn} successfully completed\")\n",
    "            soln_ver_arns.remove(soln_ver_arn)\n",
    "        elif status == \"CREATE FAILED\":\n",
    "            print(f\"Solution version {soln_ver_arn} failed\")\n",
    "            if soln_ver_response.get(\"failureReason\"):\n",
    "                print(\"   Reason: \" + soln_ver_response[\"failureReason\"])\n",
    "            soln_ver_arns.remove(soln_ver_arn)\n",
    "\n",
    "    if len(soln_ver_arns) > 0:\n",
    "        print(\"At least one solution version is still in progress\")\n",
    "        time.sleep(60)\n",
    "    else:\n",
    "        print(\"All solution versions have completed\")\n",
    "        break"
   ]
  },
  {
   "cell_type": "markdown",
   "metadata": {},
   "source": [
    "### Evaluate Offline Metrics for Solution Versions\n",
    "\n",
    "Amazon Personalize provides [offline metrics](https://docs.aws.amazon.com/personalize/latest/dg/working-with-training-metrics.html#working-with-training-metrics-metrics) that allow you to evaluate the performance of the solution version before you deploy the model in your application. Metrics can also be used to view the effects of modifying a Solution's hyperparameters or to compare the metrics between solutions that use the same training data but created with different recipes.\n",
    "\n",
    "Let's retrieve the metrics for the solution versions we just created."
   ]
  },
  {
   "cell_type": "code",
   "execution_count": 297,
   "metadata": {},
   "outputs": [
    {
     "name": "stdout",
     "output_type": "stream",
     "text": [
      "{\n",
      "  \"solutionVersionArn\": \"arn:aws:personalize:ap-southeast-1:268400237357:solution/spent-8-news-personalization/5073ce4e\",\n",
      "  \"metrics\": {\n",
      "    \"coverage\": 0.398,\n",
      "    \"mean_reciprocal_rank_at_25\": 0.0285,\n",
      "    \"normalized_discounted_cumulative_gain_at_10\": 0.0342,\n",
      "    \"normalized_discounted_cumulative_gain_at_25\": 0.1039,\n",
      "    \"normalized_discounted_cumulative_gain_at_5\": 0.0,\n",
      "    \"precision_at_10\": 0.01,\n",
      "    \"precision_at_25\": 0.017,\n",
      "    \"precision_at_5\": 0.0\n",
      "  },\n",
      "  \"ResponseMetadata\": {\n",
      "    \"RequestId\": \"dc0d29cd-829b-4bf1-a252-918a8c971fb2\",\n",
      "    \"HTTPStatusCode\": 200,\n",
      "    \"HTTPHeaders\": {\n",
      "      \"content-type\": \"application/x-amz-json-1.1\",\n",
      "      \"date\": \"Sat, 13 Feb 2021 09:43:41 GMT\",\n",
      "      \"x-amzn-requestid\": \"dc0d29cd-829b-4bf1-a252-918a8c971fb2\",\n",
      "      \"content-length\": \"407\",\n",
      "      \"connection\": \"keep-alive\"\n",
      "    },\n",
      "    \"RetryAttempts\": 0\n",
      "  }\n",
      "}\n"
     ]
    }
   ],
   "source": [
    "get_solution_metrics_response = personalize.get_solution_metrics(\n",
    "    solutionVersionArn=recommend_solution_version_arn\n",
    ")\n",
    "\n",
    "print(json.dumps(get_solution_metrics_response, indent=2))"
   ]
  },
  {
   "cell_type": "markdown",
   "metadata": {},
   "source": [
    "## Create Campaigns\n",
    "\n",
    "Once we're satisfied with our solution versions, we need to create Campaigns for each solution version. When creating a campaign you specify the minimum transactions per second (`minProvisionedTPS`) that you expect to make against the service for this campaign. Personalize will automatically scale the inference endpoint up and down for the campaign to match demand but will never scale below `minProvisionedTPS`.\n",
    "\n",
    "Let's create campaigns for our three solution versions with each set at `minProvisionedTPS` of 1."
   ]
  },
  {
   "cell_type": "markdown",
   "metadata": {},
   "source": [
    "dataset_group_name#### Create Product Recommendation Campaign"
   ]
  },
  {
   "cell_type": "code",
   "execution_count": 34,
   "metadata": {},
   "outputs": [],
   "source": [
    "recommend_solution_version_arn='arn:aws:personalize:ap-southeast-1:268400237357:solution/spent-9-news-personalization/a46d6039'"
   ]
  },
  {
   "cell_type": "code",
   "execution_count": 35,
   "metadata": {},
   "outputs": [
    {
     "ename": "ResourceAlreadyExistsException",
     "evalue": "An error occurred (ResourceAlreadyExistsException) when calling the CreateCampaign operation: Another resource with Arn arn:aws:personalize:ap-southeast-1:268400237357:campaign/spent-9-news-personalization already exists.",
     "output_type": "error",
     "traceback": [
      "\u001b[0;31m---------------------------------------------------------------------------\u001b[0m",
      "\u001b[0;31mResourceAlreadyExistsException\u001b[0m            Traceback (most recent call last)",
      "\u001b[0;32m<ipython-input-35-fae6789ae68a>\u001b[0m in \u001b[0;36m<module>\u001b[0;34m\u001b[0m\n\u001b[0;32m----> 1\u001b[0;31m create_campaign_response = personalize.create_campaign(\n\u001b[0m\u001b[1;32m      2\u001b[0m     \u001b[0mname\u001b[0m\u001b[0;34m=\u001b[0m\u001b[0mdataset_group_name\u001b[0m \u001b[0;34m+\u001b[0m \u001b[0;34m\"-news-personalization\"\u001b[0m\u001b[0;34m,\u001b[0m\u001b[0;34m\u001b[0m\u001b[0;34m\u001b[0m\u001b[0m\n\u001b[1;32m      3\u001b[0m     \u001b[0msolutionVersionArn\u001b[0m\u001b[0;34m=\u001b[0m\u001b[0mrecommend_solution_version_arn\u001b[0m\u001b[0;34m,\u001b[0m\u001b[0;34m\u001b[0m\u001b[0;34m\u001b[0m\u001b[0m\n\u001b[1;32m      4\u001b[0m     \u001b[0mminProvisionedTPS\u001b[0m\u001b[0;34m=\u001b[0m\u001b[0;36m1\u001b[0m\u001b[0;34m,\u001b[0m\u001b[0;34m\u001b[0m\u001b[0;34m\u001b[0m\u001b[0m\n\u001b[1;32m      5\u001b[0m )\n",
      "\u001b[0;32m~/.local/lib/python3.8/site-packages/botocore/client.py\u001b[0m in \u001b[0;36m_api_call\u001b[0;34m(self, *args, **kwargs)\u001b[0m\n\u001b[1;32m    355\u001b[0m                     \"%s() only accepts keyword arguments.\" % py_operation_name)\n\u001b[1;32m    356\u001b[0m             \u001b[0;31m# The \"self\" in this scope is referring to the BaseClient.\u001b[0m\u001b[0;34m\u001b[0m\u001b[0;34m\u001b[0m\u001b[0;34m\u001b[0m\u001b[0m\n\u001b[0;32m--> 357\u001b[0;31m             \u001b[0;32mreturn\u001b[0m \u001b[0mself\u001b[0m\u001b[0;34m.\u001b[0m\u001b[0m_make_api_call\u001b[0m\u001b[0;34m(\u001b[0m\u001b[0moperation_name\u001b[0m\u001b[0;34m,\u001b[0m \u001b[0mkwargs\u001b[0m\u001b[0;34m)\u001b[0m\u001b[0;34m\u001b[0m\u001b[0;34m\u001b[0m\u001b[0m\n\u001b[0m\u001b[1;32m    358\u001b[0m \u001b[0;34m\u001b[0m\u001b[0m\n\u001b[1;32m    359\u001b[0m         \u001b[0m_api_call\u001b[0m\u001b[0;34m.\u001b[0m\u001b[0m__name__\u001b[0m \u001b[0;34m=\u001b[0m \u001b[0mstr\u001b[0m\u001b[0;34m(\u001b[0m\u001b[0mpy_operation_name\u001b[0m\u001b[0;34m)\u001b[0m\u001b[0;34m\u001b[0m\u001b[0;34m\u001b[0m\u001b[0m\n",
      "\u001b[0;32m~/.local/lib/python3.8/site-packages/botocore/client.py\u001b[0m in \u001b[0;36m_make_api_call\u001b[0;34m(self, operation_name, api_params)\u001b[0m\n\u001b[1;32m    674\u001b[0m             \u001b[0merror_code\u001b[0m \u001b[0;34m=\u001b[0m \u001b[0mparsed_response\u001b[0m\u001b[0;34m.\u001b[0m\u001b[0mget\u001b[0m\u001b[0;34m(\u001b[0m\u001b[0;34m\"Error\"\u001b[0m\u001b[0;34m,\u001b[0m \u001b[0;34m{\u001b[0m\u001b[0;34m}\u001b[0m\u001b[0;34m)\u001b[0m\u001b[0;34m.\u001b[0m\u001b[0mget\u001b[0m\u001b[0;34m(\u001b[0m\u001b[0;34m\"Code\"\u001b[0m\u001b[0;34m)\u001b[0m\u001b[0;34m\u001b[0m\u001b[0;34m\u001b[0m\u001b[0m\n\u001b[1;32m    675\u001b[0m             \u001b[0merror_class\u001b[0m \u001b[0;34m=\u001b[0m \u001b[0mself\u001b[0m\u001b[0;34m.\u001b[0m\u001b[0mexceptions\u001b[0m\u001b[0;34m.\u001b[0m\u001b[0mfrom_code\u001b[0m\u001b[0;34m(\u001b[0m\u001b[0merror_code\u001b[0m\u001b[0;34m)\u001b[0m\u001b[0;34m\u001b[0m\u001b[0;34m\u001b[0m\u001b[0m\n\u001b[0;32m--> 676\u001b[0;31m             \u001b[0;32mraise\u001b[0m \u001b[0merror_class\u001b[0m\u001b[0;34m(\u001b[0m\u001b[0mparsed_response\u001b[0m\u001b[0;34m,\u001b[0m \u001b[0moperation_name\u001b[0m\u001b[0;34m)\u001b[0m\u001b[0;34m\u001b[0m\u001b[0;34m\u001b[0m\u001b[0m\n\u001b[0m\u001b[1;32m    677\u001b[0m         \u001b[0;32melse\u001b[0m\u001b[0;34m:\u001b[0m\u001b[0;34m\u001b[0m\u001b[0;34m\u001b[0m\u001b[0m\n\u001b[1;32m    678\u001b[0m             \u001b[0;32mreturn\u001b[0m \u001b[0mparsed_response\u001b[0m\u001b[0;34m\u001b[0m\u001b[0;34m\u001b[0m\u001b[0m\n",
      "\u001b[0;31mResourceAlreadyExistsException\u001b[0m: An error occurred (ResourceAlreadyExistsException) when calling the CreateCampaign operation: Another resource with Arn arn:aws:personalize:ap-southeast-1:268400237357:campaign/spent-9-news-personalization already exists."
     ]
    }
   ],
   "source": [
    "create_campaign_response = personalize.create_campaign(\n",
    "    name=dataset_group_name + \"-news-personalization\",\n",
    "    solutionVersionArn=recommend_solution_version_arn,\n",
    "    minProvisionedTPS=1,\n",
    ")\n",
    "\n",
    "recommend_campaign_arn = create_campaign_response[\"campaignArn\"]\n",
    "print(json.dumps(create_campaign_response, indent=2))"
   ]
  },
  {
   "cell_type": "markdown",
   "metadata": {},
   "source": [
    "#### Wait for Related Products Campaign to Have ACTIVE Status\n",
    "\n",
    "It can take 20-30 minutes for the campaigns to be fully created. \n",
    "\n",
    "While you are waiting for this to complete you can learn more about campaigns here: https://docs.aws.amazon.com/personalize/latest/dg/campaigns.html"
   ]
  },
  {
   "cell_type": "code",
   "execution_count": 15,
   "metadata": {},
   "outputs": [
    {
     "name": "stdout",
     "output_type": "stream",
     "text": [
      "At least one campaign is still in progress\n",
      "At least one campaign is still in progress\n",
      "At least one campaign is still in progress\n",
      "At least one campaign is still in progress\n",
      "At least one campaign is still in progress\n",
      "At least one campaign is still in progress\n",
      "At least one campaign is still in progress\n",
      "At least one campaign is still in progress\n",
      "Campaign arn:aws:personalize:ap-southeast-1:268400237357:campaign/spent-9-news-personalization successfully completed\n",
      "All campaigns have completed\n",
      "CPU times: user 150 ms, sys: 9.79 ms, total: 160 ms\n",
      "Wall time: 8min 3s\n"
     ]
    }
   ],
   "source": [
    "%%time\n",
    "\n",
    "campaign_arns = [recommend_campaign_arn]\n",
    "\n",
    "max_time = time.time() + 3 * 60 * 60  # 3 hours\n",
    "while time.time() < max_time:\n",
    "    for campaign_arn in reversed(campaign_arns):\n",
    "        campaign_response = personalize.describe_campaign(campaignArn=campaign_arn)\n",
    "        status = campaign_response[\"campaign\"][\"status\"]\n",
    "\n",
    "        if status == \"ACTIVE\":\n",
    "            print(f\"Campaign {campaign_arn} successfully completed\")\n",
    "            campaign_arns.remove(campaign_arn)\n",
    "        elif status == \"CREATE FAILED\":\n",
    "            print(f\"Campaign {campaign_arn} failed\")\n",
    "            if campaign_response.get(\"failureReason\"):\n",
    "                print(\"   Reason: \" + campaign_response[\"failureReason\"])\n",
    "            campaign_arns.remove(campaign_arn)\n",
    "\n",
    "    if len(campaign_arns) > 0:\n",
    "        print(\"At least one campaign is still in progress\")\n",
    "        time.sleep(60)\n",
    "    else:\n",
    "        print(\"All campaigns have completed\")\n",
    "        break"
   ]
  },
  {
   "cell_type": "markdown",
   "metadata": {},
   "source": [
    "## Playground"
   ]
  },
  {
   "cell_type": "code",
   "execution_count": 38,
   "metadata": {},
   "outputs": [
    {
     "name": "stdout",
     "output_type": "stream",
     "text": [
      "arn:aws:personalize:ap-southeast-1:268400237357:dataset/spent-9/USERS\n",
      "arn:aws:personalize:ap-southeast-1:268400237357:dataset/spent-9/ITEMS\n",
      "arn:aws:personalize:ap-southeast-1:268400237357:dataset/spent-9/INTERACTIONS\n"
     ]
    }
   ],
   "source": [
    "res = personalize.list_datasets()\n",
    "datasets = res[\"datasets\"]\n",
    "\n",
    "users_dataset_arn = next(\n",
    "    d[\"datasetArn\"] for d in datasets if d[\"name\"] == users_dataset_name\n",
    ").replace(\"spent-7\", dataset_group_name)\n",
    "items_dataset_arn = next(\n",
    "    d[\"datasetArn\"] for d in datasets if d[\"name\"] == items_dataset_name\n",
    ").replace(\"spent-7\", dataset_group_name)\n",
    "interactions_dataset_arn = next(\n",
    "    d[\"datasetArn\"] for d in datasets if d[\"name\"] == interactions_dataset_name\n",
    ").replace(\"spent-7\", dataset_group_name)\n",
    "print(users_dataset_arn)\n",
    "print(items_dataset_arn)\n",
    "print(interactions_dataset_arn)"
   ]
  },
  {
   "cell_type": "code",
   "execution_count": 49,
   "metadata": {},
   "outputs": [],
   "source": [
    "campaignArn = \"arn:aws:personalize:ap-southeast-1:268400237357:campaign/spent-9-news-personalization\"\n",
    "datasetGroupArn = (\n",
    "    \"arn:aws:personalize:ap-southeast-1:268400237357:dataset-group/spent-9\"\n",
    ")"
   ]
  },
  {
   "cell_type": "code",
   "execution_count": 40,
   "metadata": {},
   "outputs": [
    {
     "name": "stdout",
     "output_type": "stream",
     "text": [
      "Event Tracker ARN: arn:aws:personalize:ap-southeast-1:268400237357:event-tracker/dd4b56f4\n",
      "Event Tracking ID: 540f4295-c999-4252-ab41-a39882c83005\n"
     ]
    }
   ],
   "source": [
    "event_tracker_response = personalize.create_event_tracker(\n",
    "    datasetGroupArn=datasetGroupArn, name=\"spent-event-tracker-9\"\n",
    ")\n",
    "\n",
    "event_tracker_arn = event_tracker_response[\"eventTrackerArn\"]\n",
    "event_tracking_id = event_tracker_response[\"trackingId\"]\n",
    "\n",
    "print(\"Event Tracker ARN: \" + event_tracker_arn)\n",
    "print(\"Event Tracking ID: \" + event_tracking_id)"
   ]
  },
  {
   "cell_type": "code",
   "execution_count": 50,
   "metadata": {},
   "outputs": [
    {
     "data": {
      "text/plain": [
       "{'eventTracker': {'name': 'spent-event-tracker-9',\n",
       "  'eventTrackerArn': 'arn:aws:personalize:ap-southeast-1:268400237357:event-tracker/dd4b56f4',\n",
       "  'accountId': '268400237357',\n",
       "  'trackingId': '540f4295-c999-4252-ab41-a39882c83005',\n",
       "  'datasetGroupArn': 'arn:aws:personalize:ap-southeast-1:268400237357:dataset-group/spent-9',\n",
       "  'status': 'ACTIVE',\n",
       "  'creationDateTime': datetime.datetime(2021, 2, 17, 18, 34, 13, 471000, tzinfo=tzlocal()),\n",
       "  'lastUpdatedDateTime': datetime.datetime(2021, 2, 17, 18, 34, 35, 605000, tzinfo=tzlocal())},\n",
       " 'ResponseMetadata': {'RequestId': '905c03f6-1205-4451-b8dc-c3e2381bef4c',\n",
       "  'HTTPStatusCode': 200,\n",
       "  'HTTPHeaders': {'content-type': 'application/x-amz-json-1.1',\n",
       "   'date': 'Wed, 17 Feb 2021 11:35:53 GMT',\n",
       "   'x-amzn-requestid': '905c03f6-1205-4451-b8dc-c3e2381bef4c',\n",
       "   'content-length': '402',\n",
       "   'connection': 'keep-alive'},\n",
       "  'RetryAttempts': 0}}"
      ]
     },
     "execution_count": 50,
     "metadata": {},
     "output_type": "execute_result"
    }
   ],
   "source": [
    "personalize.describe_event_tracker(eventTrackerArn=event_tracker_arn)"
   ]
  },
  {
   "cell_type": "code",
   "execution_count": 42,
   "metadata": {},
   "outputs": [
    {
     "data": {
      "text/plain": [
       "{'ResponseMetadata': {'RequestId': 'cfa02c0e-df5b-404b-bcd0-f439e6fcd757',\n",
       "  'HTTPStatusCode': 200,\n",
       "  'HTTPHeaders': {'content-type': 'application/json',\n",
       "   'date': 'Wed, 17 Feb 2021 11:35:16 GMT',\n",
       "   'x-amzn-requestid': 'cfa02c0e-df5b-404b-bcd0-f439e6fcd757',\n",
       "   'content-length': '0',\n",
       "   'connection': 'keep-alive'},\n",
       "  'RetryAttempts': 0}}"
      ]
     },
     "execution_count": 42,
     "metadata": {},
     "output_type": "execute_result"
    }
   ],
   "source": [
    "userId = \"164591f3-2a53-4c94-84eb-da692dca5qqq\"\n",
    "properties = {\"age\": 20, \"gender\": \"F\"}\n",
    "\n",
    "personalize_events.put_users(\n",
    "    datasetArn=users_dataset_arn,\n",
    "    users=[\n",
    "        {\n",
    "            \"userId\": userId,\n",
    "            \"properties\": json.dumps(properties)\n",
    "            #         'properties': \"{\\\"AGE\\\": 21, \\\"GENDER\\\": \\\"M\\\"}\"\n",
    "        }\n",
    "    ],\n",
    ")"
   ]
  },
  {
   "cell_type": "code",
   "execution_count": 43,
   "metadata": {},
   "outputs": [],
   "source": [
    "def get_item_by_id(id: int):\n",
    "    items = items_raw_df[items_raw_df[\"id\"] == id]\n",
    "    return items if items.shape[0] > 0 else None"
   ]
  },
  {
   "cell_type": "code",
   "execution_count": 44,
   "metadata": {},
   "outputs": [
    {
     "data": {
      "text/plain": [
       "'540f4295-c999-4252-ab41-a39882c83005'"
      ]
     },
     "execution_count": 44,
     "metadata": {},
     "output_type": "execute_result"
    }
   ],
   "source": [
    "event_tracking_id"
   ]
  },
  {
   "cell_type": "markdown",
   "metadata": {},
   "source": [
    "### Simulating User Behavior"
   ]
  },
  {
   "cell_type": "code",
   "execution_count": 51,
   "metadata": {},
   "outputs": [],
   "source": [
    "session_dict = {}\n",
    "TRACKING_ID = event_tracking_id\n",
    "# TRACKING_ID = '133f1eeb-7dce-4275-85a5-e1e243ea400b'"
   ]
  },
  {
   "cell_type": "code",
   "execution_count": 52,
   "metadata": {},
   "outputs": [],
   "source": [
    "def send_event(USER_ID, ITEM_ID, EVENT_TYPE):\n",
    "    \"\"\"\n",
    "    Simulates a click as an envent\n",
    "    to send an event to Amazon Personalize's Event Tracker\n",
    "    \"\"\"\n",
    "    # Configure Session\n",
    "    try:\n",
    "        session_ID = session_dict[USER_ID]\n",
    "    except:\n",
    "        session_dict[USER_ID] = str(uuid.uuid1())\n",
    "        session_ID = session_dict[USER_ID]\n",
    "\n",
    "    # Configure Properties:\n",
    "    event = {\n",
    "        \"itemId\": str(ITEM_ID),\n",
    "    }\n",
    "    event_json = json.dumps(event)\n",
    "\n",
    "    # Make Call\n",
    "    res = personalize_events.put_events(\n",
    "        trackingId=TRACKING_ID,\n",
    "        userId=USER_ID,\n",
    "        sessionId=session_ID,\n",
    "        eventList=[\n",
    "            {\n",
    "                \"sentAt\": int(time.time()),\n",
    "                \"eventType\": EVENT_TYPE,\n",
    "                \"properties\": event_json,\n",
    "            }\n",
    "        ],\n",
    "    )\n",
    "    print(\n",
    "        {\"sentAt\": int(time.time()), \"eventType\": EVENT_TYPE, \"properties\": event_json}\n",
    "    )"
   ]
  },
  {
   "cell_type": "code",
   "execution_count": 53,
   "metadata": {},
   "outputs": [
    {
     "data": {
      "text/plain": [
       "array(['กีฬา', 'เทคโนโลยี', 'การเมือง', 'ต่างประเทศ', 'ไลฟ์สไตล์',\n",
       "       'เศรษฐกิจ', 'บันเทิง', 'ในประเทศ', 'อาชญากรรม', 'สังคม',\n",
       "       'ภาพยนตร์', 'คุณภาพชีวิต', 'การศึกษา'], dtype=object)"
      ]
     },
     "execution_count": 53,
     "metadata": {},
     "output_type": "execute_result"
    }
   ],
   "source": [
    "items_df[\"CATEGORY\"].unique()"
   ]
  },
  {
   "cell_type": "code",
   "execution_count": 67,
   "metadata": {},
   "outputs": [
    {
     "name": "stdout",
     "output_type": "stream",
     "text": [
      "{'sentAt': 1613561997, 'eventType': 'news_liked', 'properties': '{\"itemId\": \"5327936b-1a94-4ef8-98a1-1f4a6e1a5fd9\"}'}\n",
      "5327936b-1a94-4ef8-98a1-1f4a6e1a5fd9\n",
      "[{'itemId': '06bd4432-fd5c-484d-9278-a31233402cbe', 'score': 0.0903416}, {'itemId': '7f79997c-ae3b-4a39-b6fa-0bc06ca51cfa', 'score': 0.0864953}, {'itemId': '5d85dfb6-df3f-4143-9503-2a22a681263c', 'score': 0.0529707}, {'itemId': '81de37bb-35a4-4aaf-b55b-28ca44e6b00b', 'score': 0.0388117}, {'itemId': 'daaa483d-410f-4e24-99d8-d9ee1df43ee1', 'score': 0.0337955}, {'itemId': '1d37b993-cc36-48c5-9415-fbdbff268851', 'score': 0.0294973}, {'itemId': 'c34dafba-a132-446e-bbb5-42429ae0fa97', 'score': 0.0268885}, {'itemId': '6c369dca-fe71-4716-941a-5da7fe8264aa', 'score': 0.0252585}, {'itemId': '81c3c6c9-8d51-4971-98cf-5d285914e8f5', 'score': 0.0201661}, {'itemId': '2b443c44-1951-4745-a59b-e0b95317f2f3', 'score': 0.0186755}, {'itemId': '72410b49-2794-40ce-80c6-87b5e17e8085', 'score': 0.0163315}, {'itemId': '684f6153-c7c7-44ed-ad0c-63da2b416951', 'score': 0.0160585}, {'itemId': '9998dd94-2ce4-493b-bab4-0803e120837d', 'score': 0.0148013}, {'itemId': '46ef1d33-657d-4ed8-a30a-1cb68e5ba753', 'score': 0.0144666}, {'itemId': 'ecc7a4de-83b5-495c-bc8f-a75a6e2e7ba8', 'score': 0.0140105}, {'itemId': '9dc02006-ec85-4744-9bbc-8b6590c33eb8', 'score': 0.0138313}, {'itemId': '67d63cc8-57cd-42ff-8612-43752a72d588', 'score': 0.0133177}, {'itemId': 'd383997e-6168-4cc7-93e3-5bd1702ebaae', 'score': 0.0131348}, {'itemId': '410632fe-b8a5-47e9-b729-3dd608e6ae6b', 'score': 0.0115502}, {'itemId': 'cfddccb2-b3ce-4362-a76e-df04f9db03a5', 'score': 0.0106394}, {'itemId': '1a9e865a-f7b6-499d-9a3d-2da618134bbe', 'score': 0.0104953}, {'itemId': 'faefcdf2-0166-4843-8abb-2ab814e82743', 'score': 0.010314}, {'itemId': '2a640a6b-7c02-4f55-8340-0ac07df1088e', 'score': 0.0095321}, {'itemId': 'def9cb08-f6a2-453f-92e4-1684e0a02f83', 'score': 0.0092367}, {'itemId': '0bfa7246-c8b1-4a30-b340-df24c7f1f6ad', 'score': 0.0091212}]\n"
     ]
    },
    {
     "data": {
      "text/html": [
       "<div>\n",
       "<style scoped>\n",
       "    .dataframe tbody tr th:only-of-type {\n",
       "        vertical-align: middle;\n",
       "    }\n",
       "\n",
       "    .dataframe tbody tr th {\n",
       "        vertical-align: top;\n",
       "    }\n",
       "\n",
       "    .dataframe thead th {\n",
       "        text-align: right;\n",
       "    }\n",
       "</style>\n",
       "<table border=\"1\" class=\"dataframe\">\n",
       "  <thead>\n",
       "    <tr style=\"text-align: right;\">\n",
       "      <th></th>\n",
       "      <th>id</th>\n",
       "      <th>category</th>\n",
       "      <th>pubDate</th>\n",
       "    </tr>\n",
       "  </thead>\n",
       "  <tbody>\n",
       "    <tr>\n",
       "      <th>648</th>\n",
       "      <td>0bfa7246-c8b1-4a30-b340-df24c7f1f6ad</td>\n",
       "      <td>การเมือง</td>\n",
       "      <td>2021-02-16T04:14:23+00:00</td>\n",
       "    </tr>\n",
       "    <tr>\n",
       "      <th>712</th>\n",
       "      <td>410632fe-b8a5-47e9-b729-3dd608e6ae6b</td>\n",
       "      <td>การเมือง</td>\n",
       "      <td>2021-02-16T12:27:53+00:00</td>\n",
       "    </tr>\n",
       "    <tr>\n",
       "      <th>759</th>\n",
       "      <td>1d37b993-cc36-48c5-9415-fbdbff268851</td>\n",
       "      <td>กีฬา</td>\n",
       "      <td>2021-02-17T06:36:00+00:00</td>\n",
       "    </tr>\n",
       "    <tr>\n",
       "      <th>1402</th>\n",
       "      <td>1a9e865a-f7b6-499d-9a3d-2da618134bbe</td>\n",
       "      <td>การเมือง</td>\n",
       "      <td>2021-02-16T04:34:36+00:00</td>\n",
       "    </tr>\n",
       "    <tr>\n",
       "      <th>1492</th>\n",
       "      <td>9dc02006-ec85-4744-9bbc-8b6590c33eb8</td>\n",
       "      <td>กีฬา</td>\n",
       "      <td>2021-02-17T02:31:00+00:00</td>\n",
       "    </tr>\n",
       "    <tr>\n",
       "      <th>1500</th>\n",
       "      <td>cfddccb2-b3ce-4362-a76e-df04f9db03a5</td>\n",
       "      <td>การเมือง</td>\n",
       "      <td>2021-02-17T03:15:00+07:00</td>\n",
       "    </tr>\n",
       "    <tr>\n",
       "      <th>1502</th>\n",
       "      <td>684f6153-c7c7-44ed-ad0c-63da2b416951</td>\n",
       "      <td>การเมือง</td>\n",
       "      <td>2021-02-17T03:34:20+00:00</td>\n",
       "    </tr>\n",
       "    <tr>\n",
       "      <th>1509</th>\n",
       "      <td>5d85dfb6-df3f-4143-9503-2a22a681263c</td>\n",
       "      <td>การเมือง</td>\n",
       "      <td>2021-02-17T05:09:03+00:00</td>\n",
       "    </tr>\n",
       "    <tr>\n",
       "      <th>1511</th>\n",
       "      <td>81de37bb-35a4-4aaf-b55b-28ca44e6b00b</td>\n",
       "      <td>เทคโนโลยี</td>\n",
       "      <td>2021-02-17T05:07:33+00:00</td>\n",
       "    </tr>\n",
       "    <tr>\n",
       "      <th>1513</th>\n",
       "      <td>c34dafba-a132-446e-bbb5-42429ae0fa97</td>\n",
       "      <td>เศรษฐกิจ</td>\n",
       "      <td>2021-02-17T05:55:59+00:00</td>\n",
       "    </tr>\n",
       "    <tr>\n",
       "      <th>1520</th>\n",
       "      <td>9998dd94-2ce4-493b-bab4-0803e120837d</td>\n",
       "      <td>การศึกษา</td>\n",
       "      <td>2021-02-17T06:23:42+00:00</td>\n",
       "    </tr>\n",
       "    <tr>\n",
       "      <th>2290</th>\n",
       "      <td>46ef1d33-657d-4ed8-a30a-1cb68e5ba753</td>\n",
       "      <td>บันเทิง</td>\n",
       "      <td>2021-02-16T15:44:55+00:00</td>\n",
       "    </tr>\n",
       "    <tr>\n",
       "      <th>2302</th>\n",
       "      <td>81c3c6c9-8d51-4971-98cf-5d285914e8f5</td>\n",
       "      <td>เทคโนโลยี</td>\n",
       "      <td>2021-02-17T03:34:00+00:00</td>\n",
       "    </tr>\n",
       "    <tr>\n",
       "      <th>2320</th>\n",
       "      <td>6c369dca-fe71-4716-941a-5da7fe8264aa</td>\n",
       "      <td>บันเทิง</td>\n",
       "      <td>2021-02-17T02:23:00+00:00</td>\n",
       "    </tr>\n",
       "    <tr>\n",
       "      <th>2323</th>\n",
       "      <td>daaa483d-410f-4e24-99d8-d9ee1df43ee1</td>\n",
       "      <td>กีฬา</td>\n",
       "      <td>2021-02-17T04:15:00+00:00</td>\n",
       "    </tr>\n",
       "    <tr>\n",
       "      <th>2326</th>\n",
       "      <td>06bd4432-fd5c-484d-9278-a31233402cbe</td>\n",
       "      <td>การเมือง</td>\n",
       "      <td>2021-02-17T04:43:00+00:00</td>\n",
       "    </tr>\n",
       "    <tr>\n",
       "      <th>3002</th>\n",
       "      <td>faefcdf2-0166-4843-8abb-2ab814e82743</td>\n",
       "      <td>เทคโนโลยี</td>\n",
       "      <td>2021-02-16T06:48:00+00:00</td>\n",
       "    </tr>\n",
       "    <tr>\n",
       "      <th>3061</th>\n",
       "      <td>d383997e-6168-4cc7-93e3-5bd1702ebaae</td>\n",
       "      <td>ต่างประเทศ</td>\n",
       "      <td>2021-02-16T09:25:29+00:00</td>\n",
       "    </tr>\n",
       "    <tr>\n",
       "      <th>3065</th>\n",
       "      <td>2b443c44-1951-4745-a59b-e0b95317f2f3</td>\n",
       "      <td>การเมือง</td>\n",
       "      <td>2021-02-16T11:34:00+00:00</td>\n",
       "    </tr>\n",
       "    <tr>\n",
       "      <th>3077</th>\n",
       "      <td>67d63cc8-57cd-42ff-8612-43752a72d588</td>\n",
       "      <td>การเมือง</td>\n",
       "      <td>2021-02-17T03:43:45+00:00</td>\n",
       "    </tr>\n",
       "    <tr>\n",
       "      <th>3100</th>\n",
       "      <td>7f79997c-ae3b-4a39-b6fa-0bc06ca51cfa</td>\n",
       "      <td>กีฬา</td>\n",
       "      <td>2021-02-17T05:53:00+00:00</td>\n",
       "    </tr>\n",
       "    <tr>\n",
       "      <th>3803</th>\n",
       "      <td>72410b49-2794-40ce-80c6-87b5e17e8085</td>\n",
       "      <td>กีฬา</td>\n",
       "      <td>2021-02-16T07:15:40+00:00</td>\n",
       "    </tr>\n",
       "    <tr>\n",
       "      <th>3869</th>\n",
       "      <td>ecc7a4de-83b5-495c-bc8f-a75a6e2e7ba8</td>\n",
       "      <td>การเมือง</td>\n",
       "      <td>2021-02-16T16:52:00+07:00</td>\n",
       "    </tr>\n",
       "    <tr>\n",
       "      <th>3875</th>\n",
       "      <td>def9cb08-f6a2-453f-92e4-1684e0a02f83</td>\n",
       "      <td>กีฬา</td>\n",
       "      <td>2021-02-16T18:45:17+00:00</td>\n",
       "    </tr>\n",
       "    <tr>\n",
       "      <th>3909</th>\n",
       "      <td>2a640a6b-7c02-4f55-8340-0ac07df1088e</td>\n",
       "      <td>เทคโนโลยี</td>\n",
       "      <td>2021-02-17T07:02:18+00:00</td>\n",
       "    </tr>\n",
       "  </tbody>\n",
       "</table>\n",
       "</div>"
      ],
      "text/plain": [
       "                                        id    category  \\\n",
       "648   0bfa7246-c8b1-4a30-b340-df24c7f1f6ad    การเมือง   \n",
       "712   410632fe-b8a5-47e9-b729-3dd608e6ae6b    การเมือง   \n",
       "759   1d37b993-cc36-48c5-9415-fbdbff268851        กีฬา   \n",
       "1402  1a9e865a-f7b6-499d-9a3d-2da618134bbe    การเมือง   \n",
       "1492  9dc02006-ec85-4744-9bbc-8b6590c33eb8        กีฬา   \n",
       "1500  cfddccb2-b3ce-4362-a76e-df04f9db03a5    การเมือง   \n",
       "1502  684f6153-c7c7-44ed-ad0c-63da2b416951    การเมือง   \n",
       "1509  5d85dfb6-df3f-4143-9503-2a22a681263c    การเมือง   \n",
       "1511  81de37bb-35a4-4aaf-b55b-28ca44e6b00b   เทคโนโลยี   \n",
       "1513  c34dafba-a132-446e-bbb5-42429ae0fa97    เศรษฐกิจ   \n",
       "1520  9998dd94-2ce4-493b-bab4-0803e120837d    การศึกษา   \n",
       "2290  46ef1d33-657d-4ed8-a30a-1cb68e5ba753     บันเทิง   \n",
       "2302  81c3c6c9-8d51-4971-98cf-5d285914e8f5   เทคโนโลยี   \n",
       "2320  6c369dca-fe71-4716-941a-5da7fe8264aa     บันเทิง   \n",
       "2323  daaa483d-410f-4e24-99d8-d9ee1df43ee1        กีฬา   \n",
       "2326  06bd4432-fd5c-484d-9278-a31233402cbe    การเมือง   \n",
       "3002  faefcdf2-0166-4843-8abb-2ab814e82743   เทคโนโลยี   \n",
       "3061  d383997e-6168-4cc7-93e3-5bd1702ebaae  ต่างประเทศ   \n",
       "3065  2b443c44-1951-4745-a59b-e0b95317f2f3    การเมือง   \n",
       "3077  67d63cc8-57cd-42ff-8612-43752a72d588    การเมือง   \n",
       "3100  7f79997c-ae3b-4a39-b6fa-0bc06ca51cfa        กีฬา   \n",
       "3803  72410b49-2794-40ce-80c6-87b5e17e8085        กีฬา   \n",
       "3869  ecc7a4de-83b5-495c-bc8f-a75a6e2e7ba8    การเมือง   \n",
       "3875  def9cb08-f6a2-453f-92e4-1684e0a02f83        กีฬา   \n",
       "3909  2a640a6b-7c02-4f55-8340-0ac07df1088e   เทคโนโลยี   \n",
       "\n",
       "                        pubDate  \n",
       "648   2021-02-16T04:14:23+00:00  \n",
       "712   2021-02-16T12:27:53+00:00  \n",
       "759   2021-02-17T06:36:00+00:00  \n",
       "1402  2021-02-16T04:34:36+00:00  \n",
       "1492  2021-02-17T02:31:00+00:00  \n",
       "1500  2021-02-17T03:15:00+07:00  \n",
       "1502  2021-02-17T03:34:20+00:00  \n",
       "1509  2021-02-17T05:09:03+00:00  \n",
       "1511  2021-02-17T05:07:33+00:00  \n",
       "1513  2021-02-17T05:55:59+00:00  \n",
       "1520  2021-02-17T06:23:42+00:00  \n",
       "2290  2021-02-16T15:44:55+00:00  \n",
       "2302  2021-02-17T03:34:00+00:00  \n",
       "2320  2021-02-17T02:23:00+00:00  \n",
       "2323  2021-02-17T04:15:00+00:00  \n",
       "2326  2021-02-17T04:43:00+00:00  \n",
       "3002  2021-02-16T06:48:00+00:00  \n",
       "3061  2021-02-16T09:25:29+00:00  \n",
       "3065  2021-02-16T11:34:00+00:00  \n",
       "3077  2021-02-17T03:43:45+00:00  \n",
       "3100  2021-02-17T05:53:00+00:00  \n",
       "3803  2021-02-16T07:15:40+00:00  \n",
       "3869  2021-02-16T16:52:00+07:00  \n",
       "3875  2021-02-16T18:45:17+00:00  \n",
       "3909  2021-02-17T07:02:18+00:00  "
      ]
     },
     "execution_count": 67,
     "metadata": {},
     "output_type": "execute_result"
    }
   ],
   "source": [
    "category = \"การเมือง\"\n",
    "\n",
    "item_id = items_df[items_df[\"CATEGORY\"] == category].sample()[\"ITEM_ID\"].values[0]\n",
    "# item_id = \"959204b5-a755-41cc-87f8-28a71eada04d\"\n",
    "send_event(userId, item_id, \"news_liked\")\n",
    "print(item_id)\n",
    "\n",
    "time.sleep(2)\n",
    "\n",
    "response = personalize_runtime.get_recommendations(\n",
    "    campaignArn=campaignArn,\n",
    "    userId=userId,\n",
    "    numResults=25,\n",
    "    #     filterArn = 'arn:aws:personalize:ap-southeast-1:268400237357:filter/test-5'\n",
    ")\n",
    "recommendation_items_id = [item[\"itemId\"] for item in response[\"itemList\"]]\n",
    "print(response[\"itemList\"])\n",
    "items_raw_df[items_raw_df[\"id\"].isin(recommendation_items_id)][[\"id\", \"category\", \"pubDate\"]]\n",
    "# items_df[items_df[\"ITEM_ID\"].isin(recommendation_items_id)][[\"ITEM_ID\", \"CATEGORY\"]]"
   ]
  },
  {
   "cell_type": "code",
   "execution_count": 55,
   "metadata": {},
   "outputs": [],
   "source": [
    "from __future__ import print_function\n",
    "from ipywidgets import interact, interactive, fixed, interact_manual\n",
    "import ipywidgets as widgets\n",
    "\n",
    "def send_event_by_cat(category):\n",
    "    item_id = items_df[items_df[\"CATEGORY\"] == category].sample()[\"ITEM_ID\"].values[0]\n",
    "    send_event(userId, item_id, \"news_viewed\")\n",
    "\n",
    "    response = personalize_runtime.get_recommendations(\n",
    "        campaignArn=campaignArn,\n",
    "        userId=userId,\n",
    "        numResults=10,\n",
    "        #     filterArn = 'arn:aws:personalize:ap-southeast-1:268400237357:filter/test-5'\n",
    "    )\n",
    "    recommendation_items_id = [item[\"itemId\"] for item in response[\"itemList\"]]\n",
    "    print(response[\"itemList\"])\n",
    "    print(items_raw_df[items_raw_df[\"id\"].isin(recommendation_items_id)][[\"id\", \"category\"]])"
   ]
  },
  {
   "cell_type": "code",
   "execution_count": 56,
   "metadata": {},
   "outputs": [
    {
     "data": {
      "application/vnd.jupyter.widget-view+json": {
       "model_id": "90aa276f6d804ab4888f75445f25c4b2",
       "version_major": 2,
       "version_minor": 0
      },
      "text/plain": [
       "interactive(children=(Dropdown(description='x', options=('กีฬา', 'เทคโนโลยี', 'การเมือง', 'ต่างประเทศ', 'ไลฟ์ส…"
      ]
     },
     "metadata": {},
     "output_type": "display_data"
    }
   ],
   "source": [
    "w = interact(lambda x: send_event_by_cat(x), x=items_df[\"CATEGORY\"].unique());"
   ]
  },
  {
   "cell_type": "code",
   "execution_count": 59,
   "metadata": {},
   "outputs": [
    {
     "data": {
      "text/plain": [
       "'อาชญากรรม'"
      ]
     },
     "execution_count": 59,
     "metadata": {},
     "output_type": "execute_result"
    }
   ],
   "source": [
    "dropdown.value"
   ]
  },
  {
   "cell_type": "code",
   "execution_count": 35,
   "metadata": {},
   "outputs": [
    {
     "name": "stdout",
     "output_type": "stream",
     "text": [
      "1\n"
     ]
    }
   ],
   "source": [
    "print(w(1))"
   ]
  },
  {
   "cell_type": "code",
   "execution_count": 96,
   "metadata": {},
   "outputs": [
    {
     "data": {
      "text/plain": [
       "array(['crime', 'economic', 'education', 'entertainment', 'international',\n",
       "       'life', 'lifestyle', 'local', 'movie', 'politic', 'social',\n",
       "       'sport', 'technology'], dtype=object)"
      ]
     },
     "execution_count": 96,
     "metadata": {},
     "output_type": "execute_result"
    }
   ],
   "source": [
    "items_df[\"CATEGORY\"].unique()"
   ]
  },
  {
   "cell_type": "code",
   "execution_count": null,
   "metadata": {},
   "outputs": [],
   "source": []
  }
 ],
 "metadata": {
  "kernelspec": {
   "display_name": "Python 3",
   "language": "python",
   "name": "python3"
  },
  "language_info": {
   "codemirror_mode": {
    "name": "ipython",
    "version": 3
   },
   "file_extension": ".py",
   "mimetype": "text/x-python",
   "name": "python",
   "nbconvert_exporter": "python",
   "pygments_lexer": "ipython3",
   "version": "3.8.5"
  }
 },
 "nbformat": 4,
 "nbformat_minor": 4
}
