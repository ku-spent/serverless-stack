{
 "cells": [
  {
   "cell_type": "code",
   "execution_count": 1,
   "metadata": {},
   "outputs": [],
   "source": [
    "# Import Dependencies\n",
    "\n",
    "import csv\n",
    "import json\n",
    "import random\n",
    "import sys\n",
    "import time\n",
    "import uuid\n",
    "from collections import defaultdict\n",
    "from pathlib import Path\n",
    "\n",
    "import boto3\n",
    "import botocore\n",
    "import matplotlib as mpl\n",
    "import matplotlib.pyplot as plt\n",
    "import numpy as np\n",
    "import pandas as pd\n",
    "import requests\n",
    "import seaborn as sns\n",
    "from botocore.exceptions import ClientError\n",
    "from packaging import version\n",
    "\n",
    "%matplotlib inline\n",
    "\n",
    "# Setup Clients\n",
    "\n",
    "personalize = boto3.client(\"personalize\")\n",
    "personalize_runtime = boto3.client(\"personalize-runtime\")\n",
    "personalize_events = boto3.client(\"personalize-events\")\n",
    "\n",
    "servicediscovery = boto3.client(\"servicediscovery\")\n",
    "ssm = boto3.client(\"ssm\")"
   ]
  },
  {
   "cell_type": "code",
   "execution_count": 2,
   "metadata": {},
   "outputs": [
    {
     "output_type": "stream",
     "name": "stdout",
     "text": [
      "Bucket: spent-service-personalize-datasets\n"
     ]
    }
   ],
   "source": [
    "users_filename = \"data/users.csv\"\n",
    "items_filename = \"data/items.csv\"\n",
    "interactions_filename = \"data/interactions.csv\"\n",
    "\n",
    "bucket = \"spent-service-personalize-datasets\"\n",
    "print(\"Bucket: {}\".format(bucket))"
   ]
  },
  {
   "cell_type": "code",
   "execution_count": 3,
   "metadata": {},
   "outputs": [
    {
     "output_type": "execute_result",
     "data": {
      "text/plain": [
       "   USER_ID  AGE GENDER\n",
       "0        1   31      M\n",
       "1        2   58      F\n",
       "2        3   43      M\n",
       "3        4   38      M\n",
       "4        5   24      M"
      ],
      "text/html": "<div>\n<style scoped>\n    .dataframe tbody tr th:only-of-type {\n        vertical-align: middle;\n    }\n\n    .dataframe tbody tr th {\n        vertical-align: top;\n    }\n\n    .dataframe thead th {\n        text-align: right;\n    }\n</style>\n<table border=\"1\" class=\"dataframe\">\n  <thead>\n    <tr style=\"text-align: right;\">\n      <th></th>\n      <th>USER_ID</th>\n      <th>AGE</th>\n      <th>GENDER</th>\n    </tr>\n  </thead>\n  <tbody>\n    <tr>\n      <th>0</th>\n      <td>1</td>\n      <td>31</td>\n      <td>M</td>\n    </tr>\n    <tr>\n      <th>1</th>\n      <td>2</td>\n      <td>58</td>\n      <td>F</td>\n    </tr>\n    <tr>\n      <th>2</th>\n      <td>3</td>\n      <td>43</td>\n      <td>M</td>\n    </tr>\n    <tr>\n      <th>3</th>\n      <td>4</td>\n      <td>38</td>\n      <td>M</td>\n    </tr>\n    <tr>\n      <th>4</th>\n      <td>5</td>\n      <td>24</td>\n      <td>M</td>\n    </tr>\n  </tbody>\n</table>\n</div>"
     },
     "metadata": {},
     "execution_count": 3
    }
   ],
   "source": [
    "users_df = pd.read_csv(users_filename)\n",
    "users_df.head()"
   ]
  },
  {
   "cell_type": "code",
   "execution_count": 4,
   "metadata": {},
   "outputs": [
    {
     "output_type": "execute_result",
     "data": {
      "text/plain": [
       "                                ITEM_ID    CATEGORY  CREATION_TIMESTAMP  \\\n",
       "0  14995350-4069-499d-993f-2945aa995ea8    การเมือง          1615267367   \n",
       "1  610743d4-50d9-4f82-8504-51ce515e744a    การเมือง          1615267320   \n",
       "2  a8267bc7-8b29-43a9-b109-b92b98a08d70     บันเทิง          1615267126   \n",
       "3  a506d597-ebda-48f0-9714-c2cc04b17b7a  ต่างประเทศ          1615267070   \n",
       "4  48f0d71c-8cdd-431f-8a1f-503a70a66ba5    การเมือง          1615266987   \n",
       "\n",
       "                                                TAGS      SOURCE  \n",
       "0                                                NaN       มติชน  \n",
       "1  กกต|เทศบาล|เลือกตั้งเทศบาล|บัตรเลือกตั้ง|นายกเ...  สนุกดอทคอม  \n",
       "2                                         แตงโม นิดา       มติชน  \n",
       "3                        ย่างกุ้ง|เยาวชน|ได้รับอิสระ       มติชน  \n",
       "4                                                NaN       มติชน  "
      ],
      "text/html": "<div>\n<style scoped>\n    .dataframe tbody tr th:only-of-type {\n        vertical-align: middle;\n    }\n\n    .dataframe tbody tr th {\n        vertical-align: top;\n    }\n\n    .dataframe thead th {\n        text-align: right;\n    }\n</style>\n<table border=\"1\" class=\"dataframe\">\n  <thead>\n    <tr style=\"text-align: right;\">\n      <th></th>\n      <th>ITEM_ID</th>\n      <th>CATEGORY</th>\n      <th>CREATION_TIMESTAMP</th>\n      <th>TAGS</th>\n      <th>SOURCE</th>\n    </tr>\n  </thead>\n  <tbody>\n    <tr>\n      <th>0</th>\n      <td>14995350-4069-499d-993f-2945aa995ea8</td>\n      <td>การเมือง</td>\n      <td>1615267367</td>\n      <td>NaN</td>\n      <td>มติชน</td>\n    </tr>\n    <tr>\n      <th>1</th>\n      <td>610743d4-50d9-4f82-8504-51ce515e744a</td>\n      <td>การเมือง</td>\n      <td>1615267320</td>\n      <td>กกต|เทศบาล|เลือกตั้งเทศบาล|บัตรเลือกตั้ง|นายกเ...</td>\n      <td>สนุกดอทคอม</td>\n    </tr>\n    <tr>\n      <th>2</th>\n      <td>a8267bc7-8b29-43a9-b109-b92b98a08d70</td>\n      <td>บันเทิง</td>\n      <td>1615267126</td>\n      <td>แตงโม นิดา</td>\n      <td>มติชน</td>\n    </tr>\n    <tr>\n      <th>3</th>\n      <td>a506d597-ebda-48f0-9714-c2cc04b17b7a</td>\n      <td>ต่างประเทศ</td>\n      <td>1615267070</td>\n      <td>ย่างกุ้ง|เยาวชน|ได้รับอิสระ</td>\n      <td>มติชน</td>\n    </tr>\n    <tr>\n      <th>4</th>\n      <td>48f0d71c-8cdd-431f-8a1f-503a70a66ba5</td>\n      <td>การเมือง</td>\n      <td>1615266987</td>\n      <td>NaN</td>\n      <td>มติชน</td>\n    </tr>\n  </tbody>\n</table>\n</div>"
     },
     "metadata": {},
     "execution_count": 4
    }
   ],
   "source": [
    "items_df = pd.read_csv(items_filename)\n",
    "items_df.head()"
   ]
  },
  {
   "cell_type": "code",
   "execution_count": 5,
   "metadata": {},
   "outputs": [
    {
     "output_type": "execute_result",
     "data": {
      "text/plain": [
       "                                ITEM_ID  USER_ID   EVENT_TYPE   TIMESTAMP\n",
       "0  88166575-6194-4f6a-b3f3-b3124afe109d      389  news_viewed  1614579817\n",
       "1  88166575-6194-4f6a-b3f3-b3124afe109d      389  news_viewed  1614579817\n",
       "2  e05f5664-94d2-41ab-b219-dd56a9c067b3       21  news_viewed  1614579853\n",
       "3  e05f5664-94d2-41ab-b219-dd56a9c067b3       21  news_viewed  1614579853\n",
       "4  2b4e369c-497b-471f-ac55-cddb39c1c8a6      262  news_viewed  1614579887"
      ],
      "text/html": "<div>\n<style scoped>\n    .dataframe tbody tr th:only-of-type {\n        vertical-align: middle;\n    }\n\n    .dataframe tbody tr th {\n        vertical-align: top;\n    }\n\n    .dataframe thead th {\n        text-align: right;\n    }\n</style>\n<table border=\"1\" class=\"dataframe\">\n  <thead>\n    <tr style=\"text-align: right;\">\n      <th></th>\n      <th>ITEM_ID</th>\n      <th>USER_ID</th>\n      <th>EVENT_TYPE</th>\n      <th>TIMESTAMP</th>\n    </tr>\n  </thead>\n  <tbody>\n    <tr>\n      <th>0</th>\n      <td>88166575-6194-4f6a-b3f3-b3124afe109d</td>\n      <td>389</td>\n      <td>news_viewed</td>\n      <td>1614579817</td>\n    </tr>\n    <tr>\n      <th>1</th>\n      <td>88166575-6194-4f6a-b3f3-b3124afe109d</td>\n      <td>389</td>\n      <td>news_viewed</td>\n      <td>1614579817</td>\n    </tr>\n    <tr>\n      <th>2</th>\n      <td>e05f5664-94d2-41ab-b219-dd56a9c067b3</td>\n      <td>21</td>\n      <td>news_viewed</td>\n      <td>1614579853</td>\n    </tr>\n    <tr>\n      <th>3</th>\n      <td>e05f5664-94d2-41ab-b219-dd56a9c067b3</td>\n      <td>21</td>\n      <td>news_viewed</td>\n      <td>1614579853</td>\n    </tr>\n    <tr>\n      <th>4</th>\n      <td>2b4e369c-497b-471f-ac55-cddb39c1c8a6</td>\n      <td>262</td>\n      <td>news_viewed</td>\n      <td>1614579887</td>\n    </tr>\n  </tbody>\n</table>\n</div>"
     },
     "metadata": {},
     "execution_count": 5
    }
   ],
   "source": [
    "interactions_df = pd.read_csv(interactions_filename)\n",
    "interactions_df.head()"
   ]
  },
  {
   "cell_type": "code",
   "execution_count": 6,
   "metadata": {},
   "outputs": [
    {
     "output_type": "execute_result",
     "data": {
      "text/plain": [
       "                                     id      source  \\\n",
       "0  14995350-4069-499d-993f-2945aa995ea8       มติชน   \n",
       "1  610743d4-50d9-4f82-8504-51ce515e744a  สนุกดอทคอม   \n",
       "2  a8267bc7-8b29-43a9-b109-b92b98a08d70       มติชน   \n",
       "3  a506d597-ebda-48f0-9714-c2cc04b17b7a       มติชน   \n",
       "4  48f0d71c-8cdd-431f-8a1f-503a70a66ba5       มติชน   \n",
       "\n",
       "                     pubDate  \\\n",
       "0  2021-03-09T05:22:47+00:00   \n",
       "1  2021-03-09T05:22:00+00:00   \n",
       "2  2021-03-09T05:18:46+00:00   \n",
       "3  2021-03-09T05:17:50+00:00   \n",
       "4  2021-03-09T05:16:27+00:00   \n",
       "\n",
       "                                                 url  \\\n",
       "0   https://www.matichon.co.th/politics/news_2614899   \n",
       "1               https://www.sanook.com/news/8354914/   \n",
       "2  https://www.matichon.co.th/entertainment/thai-...   \n",
       "3    https://www.matichon.co.th/foreign/news_2614901   \n",
       "4   https://www.matichon.co.th/politics/news_2614888   \n",
       "\n",
       "                                               image  \\\n",
       "0  https://www.matichon.co.th/wp-content/uploads/...   \n",
       "1  https://s.isanook.com/ns/0/rp/r/w728/ya0xa0m1w...   \n",
       "2  https://www.matichon.co.th/wp-content/uploads/...   \n",
       "3  https://www.matichon.co.th/wp-content/uploads/...   \n",
       "4  https://www.matichon.co.th/wp-content/uploads/...   \n",
       "\n",
       "                                               title  \\\n",
       "0  ‘ชวน’ เชื่อ อาจารย์ปลูกฝังเยาวชนต้านโกงได้ เตื...   \n",
       "1  กกต. ชี้แจงเลือกตั้งเทศบาล 28 มี.ค. มีบัตร 2 ใ...   \n",
       "2  ‘แตงโม’ อัพเดตชีวิตล่าสุด เผย ไม่ถึงขั้นอัมพาต...   \n",
       "3  เยาวชนถูกกักตัวในย่างกุ้งได้รับอิสระแล้ว ย้ำเด...   \n",
       "4  เผย ศุกร์ 12 มี.ค.นี้ถึงคิว’บิ๊กตู่’- บิ๊กป้อม...   \n",
       "\n",
       "                                             summary    category  \\\n",
       "0  ‘ชวน’ เชื่อ อาจารย์ปลูกฝังเยาวชนต้านโกงได้ เตื...    การเมือง   \n",
       "1  กกต. ชี้แจงเลือกตั้งเทศบาล 28 มี.ค. นี้ มีบัตร...    การเมือง   \n",
       "2  ‘แตงโม’ อัพเดตชีวิตล่าสุด เผย ไม่ถึงขั้นอัมพาต...     บันเทิง   \n",
       "3  เยาวชนถูกกักตัวในย่างกุ้งได้รับอิสระแล้ว ย้ำเด...  ต่างประเทศ   \n",
       "4  เผย ศุกร์ 12 มี.ค.นี้ถึงคิว’บิ๊กตู่’- บิ๊กป้อม...    การเมือง   \n",
       "\n",
       "                                                tags  \\\n",
       "0                                                NaN   \n",
       "1  กกต|เทศบาล|เลือกตั้งเทศบาล|บัตรเลือกตั้ง|นายกเ...   \n",
       "2                                         แตงโม นิดา   \n",
       "3                        ย่างกุ้ง|เยาวชน|ได้รับอิสระ   \n",
       "4                                                NaN   \n",
       "\n",
       "                                    raw_html_content   timestamp  \n",
       "0  <div class=\"td-post-content\">\\n\\n\\n  \\n<p>เมื่...  1615267367  \n",
       "1  <div class=\"jsx-3647499928 jsx-3717305904 Entr...  1615267320  \n",
       "2  <div class=\"td-post-content\">\\n\\n\\n  <p><stron...  1615267126  \n",
       "3  <div class=\"td-post-content\">\\n\\n\\n  <h2>เยาวช...  1615267070  \n",
       "4  <div class=\"td-post-content\">\\n\\n\\n  <h5><stro...  1615266987  "
      ],
      "text/html": "<div>\n<style scoped>\n    .dataframe tbody tr th:only-of-type {\n        vertical-align: middle;\n    }\n\n    .dataframe tbody tr th {\n        vertical-align: top;\n    }\n\n    .dataframe thead th {\n        text-align: right;\n    }\n</style>\n<table border=\"1\" class=\"dataframe\">\n  <thead>\n    <tr style=\"text-align: right;\">\n      <th></th>\n      <th>id</th>\n      <th>source</th>\n      <th>pubDate</th>\n      <th>url</th>\n      <th>image</th>\n      <th>title</th>\n      <th>summary</th>\n      <th>category</th>\n      <th>tags</th>\n      <th>raw_html_content</th>\n      <th>timestamp</th>\n    </tr>\n  </thead>\n  <tbody>\n    <tr>\n      <th>0</th>\n      <td>14995350-4069-499d-993f-2945aa995ea8</td>\n      <td>มติชน</td>\n      <td>2021-03-09T05:22:47+00:00</td>\n      <td>https://www.matichon.co.th/politics/news_2614899</td>\n      <td>https://www.matichon.co.th/wp-content/uploads/...</td>\n      <td>‘ชวน’ เชื่อ อาจารย์ปลูกฝังเยาวชนต้านโกงได้ เตื...</td>\n      <td>‘ชวน’ เชื่อ อาจารย์ปลูกฝังเยาวชนต้านโกงได้ เตื...</td>\n      <td>การเมือง</td>\n      <td>NaN</td>\n      <td>&lt;div class=\"td-post-content\"&gt;\\n\\n\\n  \\n&lt;p&gt;เมื่...</td>\n      <td>1615267367</td>\n    </tr>\n    <tr>\n      <th>1</th>\n      <td>610743d4-50d9-4f82-8504-51ce515e744a</td>\n      <td>สนุกดอทคอม</td>\n      <td>2021-03-09T05:22:00+00:00</td>\n      <td>https://www.sanook.com/news/8354914/</td>\n      <td>https://s.isanook.com/ns/0/rp/r/w728/ya0xa0m1w...</td>\n      <td>กกต. ชี้แจงเลือกตั้งเทศบาล 28 มี.ค. มีบัตร 2 ใ...</td>\n      <td>กกต. ชี้แจงเลือกตั้งเทศบาล 28 มี.ค. นี้ มีบัตร...</td>\n      <td>การเมือง</td>\n      <td>กกต|เทศบาล|เลือกตั้งเทศบาล|บัตรเลือกตั้ง|นายกเ...</td>\n      <td>&lt;div class=\"jsx-3647499928 jsx-3717305904 Entr...</td>\n      <td>1615267320</td>\n    </tr>\n    <tr>\n      <th>2</th>\n      <td>a8267bc7-8b29-43a9-b109-b92b98a08d70</td>\n      <td>มติชน</td>\n      <td>2021-03-09T05:18:46+00:00</td>\n      <td>https://www.matichon.co.th/entertainment/thai-...</td>\n      <td>https://www.matichon.co.th/wp-content/uploads/...</td>\n      <td>‘แตงโม’ อัพเดตชีวิตล่าสุด เผย ไม่ถึงขั้นอัมพาต...</td>\n      <td>‘แตงโม’ อัพเดตชีวิตล่าสุด เผย ไม่ถึงขั้นอัมพาต...</td>\n      <td>บันเทิง</td>\n      <td>แตงโม นิดา</td>\n      <td>&lt;div class=\"td-post-content\"&gt;\\n\\n\\n  &lt;p&gt;&lt;stron...</td>\n      <td>1615267126</td>\n    </tr>\n    <tr>\n      <th>3</th>\n      <td>a506d597-ebda-48f0-9714-c2cc04b17b7a</td>\n      <td>มติชน</td>\n      <td>2021-03-09T05:17:50+00:00</td>\n      <td>https://www.matichon.co.th/foreign/news_2614901</td>\n      <td>https://www.matichon.co.th/wp-content/uploads/...</td>\n      <td>เยาวชนถูกกักตัวในย่างกุ้งได้รับอิสระแล้ว ย้ำเด...</td>\n      <td>เยาวชนถูกกักตัวในย่างกุ้งได้รับอิสระแล้ว ย้ำเด...</td>\n      <td>ต่างประเทศ</td>\n      <td>ย่างกุ้ง|เยาวชน|ได้รับอิสระ</td>\n      <td>&lt;div class=\"td-post-content\"&gt;\\n\\n\\n  &lt;h2&gt;เยาวช...</td>\n      <td>1615267070</td>\n    </tr>\n    <tr>\n      <th>4</th>\n      <td>48f0d71c-8cdd-431f-8a1f-503a70a66ba5</td>\n      <td>มติชน</td>\n      <td>2021-03-09T05:16:27+00:00</td>\n      <td>https://www.matichon.co.th/politics/news_2614888</td>\n      <td>https://www.matichon.co.th/wp-content/uploads/...</td>\n      <td>เผย ศุกร์ 12 มี.ค.นี้ถึงคิว’บิ๊กตู่’- บิ๊กป้อม...</td>\n      <td>เผย ศุกร์ 12 มี.ค.นี้ถึงคิว’บิ๊กตู่’- บิ๊กป้อม...</td>\n      <td>การเมือง</td>\n      <td>NaN</td>\n      <td>&lt;div class=\"td-post-content\"&gt;\\n\\n\\n  &lt;h5&gt;&lt;stro...</td>\n      <td>1615266987</td>\n    </tr>\n  </tbody>\n</table>\n</div>"
     },
     "metadata": {},
     "execution_count": 6
    }
   ],
   "source": [
    "items_raw_df = pd.read_csv(\"data/items_raw.csv\")\n",
    "items_raw_df.head()"
   ]
  },
  {
   "cell_type": "code",
   "execution_count": 7,
   "metadata": {},
   "outputs": [
    {
     "output_type": "display_data",
     "data": {
      "text/plain": "<Figure size 1152x216 with 1 Axes>",
      "image/svg+xml": "<?xml version=\"1.0\" encoding=\"utf-8\" standalone=\"no\"?>\n<!DOCTYPE svg PUBLIC \"-//W3C//DTD SVG 1.1//EN\"\n  \"http://www.w3.org/Graphics/SVG/1.1/DTD/svg11.dtd\">\n<!-- Created with matplotlib (https://matplotlib.org/) -->\n<svg height=\"291.322188pt\" version=\"1.1\" viewBox=\"0 0 959.690625 291.322188\" width=\"959.690625pt\" xmlns=\"http://www.w3.org/2000/svg\" xmlns:xlink=\"http://www.w3.org/1999/xlink\">\n <metadata>\n  <rdf:RDF xmlns:cc=\"http://creativecommons.org/ns#\" xmlns:dc=\"http://purl.org/dc/elements/1.1/\" xmlns:rdf=\"http://www.w3.org/1999/02/22-rdf-syntax-ns#\">\n   <cc:Work>\n    <dc:type rdf:resource=\"http://purl.org/dc/dcmitype/StillImage\"/>\n    <dc:date>2021-03-09T13:25:31.771725</dc:date>\n    <dc:format>image/svg+xml</dc:format>\n    <dc:creator>\n     <cc:Agent>\n      <dc:title>Matplotlib v3.3.2, https://matplotlib.org/</dc:title>\n     </cc:Agent>\n    </dc:creator>\n   </cc:Work>\n  </rdf:RDF>\n </metadata>\n <defs>\n  <style type=\"text/css\">*{stroke-linecap:butt;stroke-linejoin:round;}</style>\n </defs>\n <g id=\"figure_1\">\n  <g id=\"patch_1\">\n   <path d=\"M 0 291.322188 \nL 959.690625 291.322188 \nL 959.690625 0 \nL 0 0 \nz\n\" style=\"fill:none;\"/>\n  </g>\n  <g id=\"axes_1\">\n   <g id=\"patch_2\">\n    <path d=\"M 59.690625 170.28 \nL 952.490625 170.28 \nL 952.490625 7.2 \nL 59.690625 7.2 \nz\n\" style=\"fill:#ffffff;\"/>\n   </g>\n   <g id=\"patch_3\">\n    <path clip-path=\"url(#pd02ed3391d)\" d=\"M 82.010625 170.28 \nL 260.570625 170.28 \nL 260.570625 14.965714 \nL 82.010625 14.965714 \nz\n\" style=\"fill:#3274a1;\"/>\n   </g>\n   <g id=\"patch_4\">\n    <path clip-path=\"url(#pd02ed3391d)\" d=\"M 305.210625 170.28 \nL 483.770625 170.28 \nL 483.770625 154.751842 \nL 305.210625 154.751842 \nz\n\" style=\"fill:#e1812c;\"/>\n   </g>\n   <g id=\"patch_5\">\n    <path clip-path=\"url(#pd02ed3391d)\" d=\"M 528.410625 170.28 \nL 706.970625 170.28 \nL 706.970625 162.517738 \nL 528.410625 162.517738 \nz\n\" style=\"fill:#3a923a;\"/>\n   </g>\n   <g id=\"patch_6\">\n    <path clip-path=\"url(#pd02ed3391d)\" d=\"M 751.610625 170.28 \nL 930.170625 170.28 \nL 930.170625 167.176549 \nL 751.610625 167.176549 \nz\n\" style=\"fill:#c03d3e;\"/>\n   </g>\n   <g id=\"matplotlib.axis_1\">\n    <g id=\"xtick_1\">\n     <g id=\"line2d_1\">\n      <defs>\n       <path d=\"M 0 0 \nL 0 3.5 \n\" id=\"m8f8cd4d451\" style=\"stroke:#000000;stroke-width:0.8;\"/>\n      </defs>\n      <g>\n       <use style=\"stroke:#000000;stroke-width:0.8;\" x=\"171.290625\" xlink:href=\"#m8f8cd4d451\" y=\"170.28\"/>\n      </g>\n     </g>\n     <g id=\"text_1\">\n      <!-- news_viewed -->\n      <g transform=\"translate(168.932813 243.687813)rotate(-90)scale(0.1 -0.1)\">\n       <defs>\n        <path d=\"M 54.890625 33.015625 \nL 54.890625 0 \nL 45.90625 0 \nL 45.90625 32.71875 \nQ 45.90625 40.484375 42.875 44.328125 \nQ 39.84375 48.1875 33.796875 48.1875 \nQ 26.515625 48.1875 22.3125 43.546875 \nQ 18.109375 38.921875 18.109375 30.90625 \nL 18.109375 0 \nL 9.078125 0 \nL 9.078125 54.6875 \nL 18.109375 54.6875 \nL 18.109375 46.1875 \nQ 21.34375 51.125 25.703125 53.5625 \nQ 30.078125 56 35.796875 56 \nQ 45.21875 56 50.046875 50.171875 \nQ 54.890625 44.34375 54.890625 33.015625 \nz\n\" id=\"DejaVuSans-110\"/>\n        <path d=\"M 56.203125 29.59375 \nL 56.203125 25.203125 \nL 14.890625 25.203125 \nQ 15.484375 15.921875 20.484375 11.0625 \nQ 25.484375 6.203125 34.421875 6.203125 \nQ 39.59375 6.203125 44.453125 7.46875 \nQ 49.3125 8.734375 54.109375 11.28125 \nL 54.109375 2.78125 \nQ 49.265625 0.734375 44.1875 -0.34375 \nQ 39.109375 -1.421875 33.890625 -1.421875 \nQ 20.796875 -1.421875 13.15625 6.1875 \nQ 5.515625 13.8125 5.515625 26.8125 \nQ 5.515625 40.234375 12.765625 48.109375 \nQ 20.015625 56 32.328125 56 \nQ 43.359375 56 49.78125 48.890625 \nQ 56.203125 41.796875 56.203125 29.59375 \nz\nM 47.21875 32.234375 \nQ 47.125 39.59375 43.09375 43.984375 \nQ 39.0625 48.390625 32.421875 48.390625 \nQ 24.90625 48.390625 20.390625 44.140625 \nQ 15.875 39.890625 15.1875 32.171875 \nz\n\" id=\"DejaVuSans-101\"/>\n        <path d=\"M 4.203125 54.6875 \nL 13.1875 54.6875 \nL 24.421875 12.015625 \nL 35.59375 54.6875 \nL 46.1875 54.6875 \nL 57.421875 12.015625 \nL 68.609375 54.6875 \nL 77.59375 54.6875 \nL 63.28125 0 \nL 52.6875 0 \nL 40.921875 44.828125 \nL 29.109375 0 \nL 18.5 0 \nz\n\" id=\"DejaVuSans-119\"/>\n        <path d=\"M 44.28125 53.078125 \nL 44.28125 44.578125 \nQ 40.484375 46.53125 36.375 47.5 \nQ 32.28125 48.484375 27.875 48.484375 \nQ 21.1875 48.484375 17.84375 46.4375 \nQ 14.5 44.390625 14.5 40.28125 \nQ 14.5 37.15625 16.890625 35.375 \nQ 19.28125 33.59375 26.515625 31.984375 \nL 29.59375 31.296875 \nQ 39.15625 29.25 43.1875 25.515625 \nQ 47.21875 21.78125 47.21875 15.09375 \nQ 47.21875 7.46875 41.1875 3.015625 \nQ 35.15625 -1.421875 24.609375 -1.421875 \nQ 20.21875 -1.421875 15.453125 -0.5625 \nQ 10.6875 0.296875 5.421875 2 \nL 5.421875 11.28125 \nQ 10.40625 8.6875 15.234375 7.390625 \nQ 20.0625 6.109375 24.8125 6.109375 \nQ 31.15625 6.109375 34.5625 8.28125 \nQ 37.984375 10.453125 37.984375 14.40625 \nQ 37.984375 18.0625 35.515625 20.015625 \nQ 33.0625 21.96875 24.703125 23.78125 \nL 21.578125 24.515625 \nQ 13.234375 26.265625 9.515625 29.90625 \nQ 5.8125 33.546875 5.8125 39.890625 \nQ 5.8125 47.609375 11.28125 51.796875 \nQ 16.75 56 26.8125 56 \nQ 31.78125 56 36.171875 55.265625 \nQ 40.578125 54.546875 44.28125 53.078125 \nz\n\" id=\"DejaVuSans-115\"/>\n        <path d=\"M 50.984375 -16.609375 \nL 50.984375 -23.578125 \nL -0.984375 -23.578125 \nL -0.984375 -16.609375 \nz\n\" id=\"DejaVuSans-95\"/>\n        <path d=\"M 2.984375 54.6875 \nL 12.5 54.6875 \nL 29.59375 8.796875 \nL 46.6875 54.6875 \nL 56.203125 54.6875 \nL 35.6875 0 \nL 23.484375 0 \nz\n\" id=\"DejaVuSans-118\"/>\n        <path d=\"M 9.421875 54.6875 \nL 18.40625 54.6875 \nL 18.40625 0 \nL 9.421875 0 \nz\nM 9.421875 75.984375 \nL 18.40625 75.984375 \nL 18.40625 64.59375 \nL 9.421875 64.59375 \nz\n\" id=\"DejaVuSans-105\"/>\n        <path d=\"M 45.40625 46.390625 \nL 45.40625 75.984375 \nL 54.390625 75.984375 \nL 54.390625 0 \nL 45.40625 0 \nL 45.40625 8.203125 \nQ 42.578125 3.328125 38.25 0.953125 \nQ 33.9375 -1.421875 27.875 -1.421875 \nQ 17.96875 -1.421875 11.734375 6.484375 \nQ 5.515625 14.40625 5.515625 27.296875 \nQ 5.515625 40.1875 11.734375 48.09375 \nQ 17.96875 56 27.875 56 \nQ 33.9375 56 38.25 53.625 \nQ 42.578125 51.265625 45.40625 46.390625 \nz\nM 14.796875 27.296875 \nQ 14.796875 17.390625 18.875 11.75 \nQ 22.953125 6.109375 30.078125 6.109375 \nQ 37.203125 6.109375 41.296875 11.75 \nQ 45.40625 17.390625 45.40625 27.296875 \nQ 45.40625 37.203125 41.296875 42.84375 \nQ 37.203125 48.484375 30.078125 48.484375 \nQ 22.953125 48.484375 18.875 42.84375 \nQ 14.796875 37.203125 14.796875 27.296875 \nz\n\" id=\"DejaVuSans-100\"/>\n       </defs>\n       <use xlink:href=\"#DejaVuSans-110\"/>\n       <use x=\"63.378906\" xlink:href=\"#DejaVuSans-101\"/>\n       <use x=\"124.902344\" xlink:href=\"#DejaVuSans-119\"/>\n       <use x=\"206.689453\" xlink:href=\"#DejaVuSans-115\"/>\n       <use x=\"258.789062\" xlink:href=\"#DejaVuSans-95\"/>\n       <use x=\"308.789062\" xlink:href=\"#DejaVuSans-118\"/>\n       <use x=\"367.96875\" xlink:href=\"#DejaVuSans-105\"/>\n       <use x=\"395.751953\" xlink:href=\"#DejaVuSans-101\"/>\n       <use x=\"457.275391\" xlink:href=\"#DejaVuSans-119\"/>\n       <use x=\"539.0625\" xlink:href=\"#DejaVuSans-101\"/>\n       <use x=\"600.585938\" xlink:href=\"#DejaVuSans-100\"/>\n      </g>\n     </g>\n    </g>\n    <g id=\"xtick_2\">\n     <g id=\"line2d_2\">\n      <g>\n       <use style=\"stroke:#000000;stroke-width:0.8;\" x=\"394.490625\" xlink:href=\"#m8f8cd4d451\" y=\"170.28\"/>\n      </g>\n     </g>\n     <g id=\"text_2\">\n      <!-- news_liked -->\n      <g transform=\"translate(392.132812 231.644063)rotate(-90)scale(0.1 -0.1)\">\n       <defs>\n        <path d=\"M 9.421875 75.984375 \nL 18.40625 75.984375 \nL 18.40625 0 \nL 9.421875 0 \nz\n\" id=\"DejaVuSans-108\"/>\n        <path d=\"M 9.078125 75.984375 \nL 18.109375 75.984375 \nL 18.109375 31.109375 \nL 44.921875 54.6875 \nL 56.390625 54.6875 \nL 27.390625 29.109375 \nL 57.625 0 \nL 45.90625 0 \nL 18.109375 26.703125 \nL 18.109375 0 \nL 9.078125 0 \nz\n\" id=\"DejaVuSans-107\"/>\n       </defs>\n       <use xlink:href=\"#DejaVuSans-110\"/>\n       <use x=\"63.378906\" xlink:href=\"#DejaVuSans-101\"/>\n       <use x=\"124.902344\" xlink:href=\"#DejaVuSans-119\"/>\n       <use x=\"206.689453\" xlink:href=\"#DejaVuSans-115\"/>\n       <use x=\"258.789062\" xlink:href=\"#DejaVuSans-95\"/>\n       <use x=\"308.789062\" xlink:href=\"#DejaVuSans-108\"/>\n       <use x=\"336.572266\" xlink:href=\"#DejaVuSans-105\"/>\n       <use x=\"364.355469\" xlink:href=\"#DejaVuSans-107\"/>\n       <use x=\"418.640625\" xlink:href=\"#DejaVuSans-101\"/>\n       <use x=\"480.164062\" xlink:href=\"#DejaVuSans-100\"/>\n      </g>\n     </g>\n    </g>\n    <g id=\"xtick_3\">\n     <g id=\"line2d_3\">\n      <g>\n       <use style=\"stroke:#000000;stroke-width:0.8;\" x=\"617.690625\" xlink:href=\"#m8f8cd4d451\" y=\"170.28\"/>\n      </g>\n     </g>\n     <g id=\"text_3\">\n      <!-- news_bookmarked -->\n      <g transform=\"translate(615.332812 270.444063)rotate(-90)scale(0.1 -0.1)\">\n       <defs>\n        <path d=\"M 48.6875 27.296875 \nQ 48.6875 37.203125 44.609375 42.84375 \nQ 40.53125 48.484375 33.40625 48.484375 \nQ 26.265625 48.484375 22.1875 42.84375 \nQ 18.109375 37.203125 18.109375 27.296875 \nQ 18.109375 17.390625 22.1875 11.75 \nQ 26.265625 6.109375 33.40625 6.109375 \nQ 40.53125 6.109375 44.609375 11.75 \nQ 48.6875 17.390625 48.6875 27.296875 \nz\nM 18.109375 46.390625 \nQ 20.953125 51.265625 25.265625 53.625 \nQ 29.59375 56 35.59375 56 \nQ 45.5625 56 51.78125 48.09375 \nQ 58.015625 40.1875 58.015625 27.296875 \nQ 58.015625 14.40625 51.78125 6.484375 \nQ 45.5625 -1.421875 35.59375 -1.421875 \nQ 29.59375 -1.421875 25.265625 0.953125 \nQ 20.953125 3.328125 18.109375 8.203125 \nL 18.109375 0 \nL 9.078125 0 \nL 9.078125 75.984375 \nL 18.109375 75.984375 \nz\n\" id=\"DejaVuSans-98\"/>\n        <path d=\"M 30.609375 48.390625 \nQ 23.390625 48.390625 19.1875 42.75 \nQ 14.984375 37.109375 14.984375 27.296875 \nQ 14.984375 17.484375 19.15625 11.84375 \nQ 23.34375 6.203125 30.609375 6.203125 \nQ 37.796875 6.203125 41.984375 11.859375 \nQ 46.1875 17.53125 46.1875 27.296875 \nQ 46.1875 37.015625 41.984375 42.703125 \nQ 37.796875 48.390625 30.609375 48.390625 \nz\nM 30.609375 56 \nQ 42.328125 56 49.015625 48.375 \nQ 55.71875 40.765625 55.71875 27.296875 \nQ 55.71875 13.875 49.015625 6.21875 \nQ 42.328125 -1.421875 30.609375 -1.421875 \nQ 18.84375 -1.421875 12.171875 6.21875 \nQ 5.515625 13.875 5.515625 27.296875 \nQ 5.515625 40.765625 12.171875 48.375 \nQ 18.84375 56 30.609375 56 \nz\n\" id=\"DejaVuSans-111\"/>\n        <path d=\"M 52 44.1875 \nQ 55.375 50.25 60.0625 53.125 \nQ 64.75 56 71.09375 56 \nQ 79.640625 56 84.28125 50.015625 \nQ 88.921875 44.046875 88.921875 33.015625 \nL 88.921875 0 \nL 79.890625 0 \nL 79.890625 32.71875 \nQ 79.890625 40.578125 77.09375 44.375 \nQ 74.3125 48.1875 68.609375 48.1875 \nQ 61.625 48.1875 57.5625 43.546875 \nQ 53.515625 38.921875 53.515625 30.90625 \nL 53.515625 0 \nL 44.484375 0 \nL 44.484375 32.71875 \nQ 44.484375 40.625 41.703125 44.40625 \nQ 38.921875 48.1875 33.109375 48.1875 \nQ 26.21875 48.1875 22.15625 43.53125 \nQ 18.109375 38.875 18.109375 30.90625 \nL 18.109375 0 \nL 9.078125 0 \nL 9.078125 54.6875 \nL 18.109375 54.6875 \nL 18.109375 46.1875 \nQ 21.1875 51.21875 25.484375 53.609375 \nQ 29.78125 56 35.6875 56 \nQ 41.65625 56 45.828125 52.96875 \nQ 50 49.953125 52 44.1875 \nz\n\" id=\"DejaVuSans-109\"/>\n        <path d=\"M 34.28125 27.484375 \nQ 23.390625 27.484375 19.1875 25 \nQ 14.984375 22.515625 14.984375 16.5 \nQ 14.984375 11.71875 18.140625 8.90625 \nQ 21.296875 6.109375 26.703125 6.109375 \nQ 34.1875 6.109375 38.703125 11.40625 \nQ 43.21875 16.703125 43.21875 25.484375 \nL 43.21875 27.484375 \nz\nM 52.203125 31.203125 \nL 52.203125 0 \nL 43.21875 0 \nL 43.21875 8.296875 \nQ 40.140625 3.328125 35.546875 0.953125 \nQ 30.953125 -1.421875 24.3125 -1.421875 \nQ 15.921875 -1.421875 10.953125 3.296875 \nQ 6 8.015625 6 15.921875 \nQ 6 25.140625 12.171875 29.828125 \nQ 18.359375 34.515625 30.609375 34.515625 \nL 43.21875 34.515625 \nL 43.21875 35.40625 \nQ 43.21875 41.609375 39.140625 45 \nQ 35.0625 48.390625 27.6875 48.390625 \nQ 23 48.390625 18.546875 47.265625 \nQ 14.109375 46.140625 10.015625 43.890625 \nL 10.015625 52.203125 \nQ 14.9375 54.109375 19.578125 55.046875 \nQ 24.21875 56 28.609375 56 \nQ 40.484375 56 46.34375 49.84375 \nQ 52.203125 43.703125 52.203125 31.203125 \nz\n\" id=\"DejaVuSans-97\"/>\n        <path d=\"M 41.109375 46.296875 \nQ 39.59375 47.171875 37.8125 47.578125 \nQ 36.03125 48 33.890625 48 \nQ 26.265625 48 22.1875 43.046875 \nQ 18.109375 38.09375 18.109375 28.8125 \nL 18.109375 0 \nL 9.078125 0 \nL 9.078125 54.6875 \nL 18.109375 54.6875 \nL 18.109375 46.1875 \nQ 20.953125 51.171875 25.484375 53.578125 \nQ 30.03125 56 36.53125 56 \nQ 37.453125 56 38.578125 55.875 \nQ 39.703125 55.765625 41.0625 55.515625 \nz\n\" id=\"DejaVuSans-114\"/>\n       </defs>\n       <use xlink:href=\"#DejaVuSans-110\"/>\n       <use x=\"63.378906\" xlink:href=\"#DejaVuSans-101\"/>\n       <use x=\"124.902344\" xlink:href=\"#DejaVuSans-119\"/>\n       <use x=\"206.689453\" xlink:href=\"#DejaVuSans-115\"/>\n       <use x=\"258.789062\" xlink:href=\"#DejaVuSans-95\"/>\n       <use x=\"308.789062\" xlink:href=\"#DejaVuSans-98\"/>\n       <use x=\"372.265625\" xlink:href=\"#DejaVuSans-111\"/>\n       <use x=\"433.447266\" xlink:href=\"#DejaVuSans-111\"/>\n       <use x=\"494.628906\" xlink:href=\"#DejaVuSans-107\"/>\n       <use x=\"552.539062\" xlink:href=\"#DejaVuSans-109\"/>\n       <use x=\"649.951172\" xlink:href=\"#DejaVuSans-97\"/>\n       <use x=\"711.230469\" xlink:href=\"#DejaVuSans-114\"/>\n       <use x=\"752.34375\" xlink:href=\"#DejaVuSans-107\"/>\n       <use x=\"806.628906\" xlink:href=\"#DejaVuSans-101\"/>\n       <use x=\"868.152344\" xlink:href=\"#DejaVuSans-100\"/>\n      </g>\n     </g>\n    </g>\n    <g id=\"xtick_4\">\n     <g id=\"line2d_4\">\n      <g>\n       <use style=\"stroke:#000000;stroke-width:0.8;\" x=\"840.890625\" xlink:href=\"#m8f8cd4d451\" y=\"170.28\"/>\n      </g>\n     </g>\n     <g id=\"text_4\">\n      <!-- news_shared -->\n      <g transform=\"translate(838.532812 242.220625)rotate(-90)scale(0.1 -0.1)\">\n       <defs>\n        <path d=\"M 54.890625 33.015625 \nL 54.890625 0 \nL 45.90625 0 \nL 45.90625 32.71875 \nQ 45.90625 40.484375 42.875 44.328125 \nQ 39.84375 48.1875 33.796875 48.1875 \nQ 26.515625 48.1875 22.3125 43.546875 \nQ 18.109375 38.921875 18.109375 30.90625 \nL 18.109375 0 \nL 9.078125 0 \nL 9.078125 75.984375 \nL 18.109375 75.984375 \nL 18.109375 46.1875 \nQ 21.34375 51.125 25.703125 53.5625 \nQ 30.078125 56 35.796875 56 \nQ 45.21875 56 50.046875 50.171875 \nQ 54.890625 44.34375 54.890625 33.015625 \nz\n\" id=\"DejaVuSans-104\"/>\n       </defs>\n       <use xlink:href=\"#DejaVuSans-110\"/>\n       <use x=\"63.378906\" xlink:href=\"#DejaVuSans-101\"/>\n       <use x=\"124.902344\" xlink:href=\"#DejaVuSans-119\"/>\n       <use x=\"206.689453\" xlink:href=\"#DejaVuSans-115\"/>\n       <use x=\"258.789062\" xlink:href=\"#DejaVuSans-95\"/>\n       <use x=\"308.789062\" xlink:href=\"#DejaVuSans-115\"/>\n       <use x=\"360.888672\" xlink:href=\"#DejaVuSans-104\"/>\n       <use x=\"424.267578\" xlink:href=\"#DejaVuSans-97\"/>\n       <use x=\"485.546875\" xlink:href=\"#DejaVuSans-114\"/>\n       <use x=\"524.410156\" xlink:href=\"#DejaVuSans-101\"/>\n       <use x=\"585.933594\" xlink:href=\"#DejaVuSans-100\"/>\n      </g>\n     </g>\n    </g>\n    <g id=\"text_5\">\n     <!-- EVENT_TYPE -->\n     <g transform=\"translate(474.775 281.764375)scale(0.1 -0.1)\">\n      <defs>\n       <path d=\"M 9.8125 72.90625 \nL 55.90625 72.90625 \nL 55.90625 64.59375 \nL 19.671875 64.59375 \nL 19.671875 43.015625 \nL 54.390625 43.015625 \nL 54.390625 34.71875 \nL 19.671875 34.71875 \nL 19.671875 8.296875 \nL 56.78125 8.296875 \nL 56.78125 0 \nL 9.8125 0 \nz\n\" id=\"DejaVuSans-69\"/>\n       <path d=\"M 28.609375 0 \nL 0.78125 72.90625 \nL 11.078125 72.90625 \nL 34.1875 11.53125 \nL 57.328125 72.90625 \nL 67.578125 72.90625 \nL 39.796875 0 \nz\n\" id=\"DejaVuSans-86\"/>\n       <path d=\"M 9.8125 72.90625 \nL 23.09375 72.90625 \nL 55.421875 11.921875 \nL 55.421875 72.90625 \nL 64.984375 72.90625 \nL 64.984375 0 \nL 51.703125 0 \nL 19.390625 60.984375 \nL 19.390625 0 \nL 9.8125 0 \nz\n\" id=\"DejaVuSans-78\"/>\n       <path d=\"M -0.296875 72.90625 \nL 61.375 72.90625 \nL 61.375 64.59375 \nL 35.5 64.59375 \nL 35.5 0 \nL 25.59375 0 \nL 25.59375 64.59375 \nL -0.296875 64.59375 \nz\n\" id=\"DejaVuSans-84\"/>\n       <path d=\"M -0.203125 72.90625 \nL 10.40625 72.90625 \nL 30.609375 42.921875 \nL 50.6875 72.90625 \nL 61.28125 72.90625 \nL 35.5 34.71875 \nL 35.5 0 \nL 25.59375 0 \nL 25.59375 34.71875 \nz\n\" id=\"DejaVuSans-89\"/>\n       <path d=\"M 19.671875 64.796875 \nL 19.671875 37.40625 \nL 32.078125 37.40625 \nQ 38.96875 37.40625 42.71875 40.96875 \nQ 46.484375 44.53125 46.484375 51.125 \nQ 46.484375 57.671875 42.71875 61.234375 \nQ 38.96875 64.796875 32.078125 64.796875 \nz\nM 9.8125 72.90625 \nL 32.078125 72.90625 \nQ 44.34375 72.90625 50.609375 67.359375 \nQ 56.890625 61.8125 56.890625 51.125 \nQ 56.890625 40.328125 50.609375 34.8125 \nQ 44.34375 29.296875 32.078125 29.296875 \nL 19.671875 29.296875 \nL 19.671875 0 \nL 9.8125 0 \nz\n\" id=\"DejaVuSans-80\"/>\n      </defs>\n      <use xlink:href=\"#DejaVuSans-69\"/>\n      <use x=\"63.183594\" xlink:href=\"#DejaVuSans-86\"/>\n      <use x=\"131.591797\" xlink:href=\"#DejaVuSans-69\"/>\n      <use x=\"194.775391\" xlink:href=\"#DejaVuSans-78\"/>\n      <use x=\"269.580078\" xlink:href=\"#DejaVuSans-84\"/>\n      <use x=\"330.664062\" xlink:href=\"#DejaVuSans-95\"/>\n      <use x=\"380.664062\" xlink:href=\"#DejaVuSans-84\"/>\n      <use x=\"441.748047\" xlink:href=\"#DejaVuSans-89\"/>\n      <use x=\"502.832031\" xlink:href=\"#DejaVuSans-80\"/>\n      <use x=\"563.134766\" xlink:href=\"#DejaVuSans-69\"/>\n     </g>\n    </g>\n   </g>\n   <g id=\"matplotlib.axis_2\">\n    <g id=\"ytick_1\">\n     <g id=\"line2d_5\">\n      <defs>\n       <path d=\"M 0 0 \nL -3.5 0 \n\" id=\"mec0ac8b8b3\" style=\"stroke:#000000;stroke-width:0.8;\"/>\n      </defs>\n      <g>\n       <use style=\"stroke:#000000;stroke-width:0.8;\" x=\"59.690625\" xlink:href=\"#mec0ac8b8b3\" y=\"170.28\"/>\n      </g>\n     </g>\n     <g id=\"text_6\">\n      <!-- 0 -->\n      <g transform=\"translate(46.328125 174.079219)scale(0.1 -0.1)\">\n       <defs>\n        <path d=\"M 31.78125 66.40625 \nQ 24.171875 66.40625 20.328125 58.90625 \nQ 16.5 51.421875 16.5 36.375 \nQ 16.5 21.390625 20.328125 13.890625 \nQ 24.171875 6.390625 31.78125 6.390625 \nQ 39.453125 6.390625 43.28125 13.890625 \nQ 47.125 21.390625 47.125 36.375 \nQ 47.125 51.421875 43.28125 58.90625 \nQ 39.453125 66.40625 31.78125 66.40625 \nz\nM 31.78125 74.21875 \nQ 44.046875 74.21875 50.515625 64.515625 \nQ 56.984375 54.828125 56.984375 36.375 \nQ 56.984375 17.96875 50.515625 8.265625 \nQ 44.046875 -1.421875 31.78125 -1.421875 \nQ 19.53125 -1.421875 13.0625 8.265625 \nQ 6.59375 17.96875 6.59375 36.375 \nQ 6.59375 54.828125 13.0625 64.515625 \nQ 19.53125 74.21875 31.78125 74.21875 \nz\n\" id=\"DejaVuSans-48\"/>\n       </defs>\n       <use xlink:href=\"#DejaVuSans-48\"/>\n      </g>\n     </g>\n    </g>\n    <g id=\"ytick_2\">\n     <g id=\"line2d_6\">\n      <g>\n       <use style=\"stroke:#000000;stroke-width:0.8;\" x=\"59.690625\" xlink:href=\"#mec0ac8b8b3\" y=\"133.939822\"/>\n      </g>\n     </g>\n     <g id=\"text_7\">\n      <!-- 10000 -->\n      <g transform=\"translate(20.878125 137.739041)scale(0.1 -0.1)\">\n       <defs>\n        <path d=\"M 12.40625 8.296875 \nL 28.515625 8.296875 \nL 28.515625 63.921875 \nL 10.984375 60.40625 \nL 10.984375 69.390625 \nL 28.421875 72.90625 \nL 38.28125 72.90625 \nL 38.28125 8.296875 \nL 54.390625 8.296875 \nL 54.390625 0 \nL 12.40625 0 \nz\n\" id=\"DejaVuSans-49\"/>\n       </defs>\n       <use xlink:href=\"#DejaVuSans-49\"/>\n       <use x=\"63.623047\" xlink:href=\"#DejaVuSans-48\"/>\n       <use x=\"127.246094\" xlink:href=\"#DejaVuSans-48\"/>\n       <use x=\"190.869141\" xlink:href=\"#DejaVuSans-48\"/>\n       <use x=\"254.492188\" xlink:href=\"#DejaVuSans-48\"/>\n      </g>\n     </g>\n    </g>\n    <g id=\"ytick_3\">\n     <g id=\"line2d_7\">\n      <g>\n       <use style=\"stroke:#000000;stroke-width:0.8;\" x=\"59.690625\" xlink:href=\"#mec0ac8b8b3\" y=\"97.599644\"/>\n      </g>\n     </g>\n     <g id=\"text_8\">\n      <!-- 20000 -->\n      <g transform=\"translate(20.878125 101.398863)scale(0.1 -0.1)\">\n       <defs>\n        <path d=\"M 19.1875 8.296875 \nL 53.609375 8.296875 \nL 53.609375 0 \nL 7.328125 0 \nL 7.328125 8.296875 \nQ 12.9375 14.109375 22.625 23.890625 \nQ 32.328125 33.6875 34.8125 36.53125 \nQ 39.546875 41.84375 41.421875 45.53125 \nQ 43.3125 49.21875 43.3125 52.78125 \nQ 43.3125 58.59375 39.234375 62.25 \nQ 35.15625 65.921875 28.609375 65.921875 \nQ 23.96875 65.921875 18.8125 64.3125 \nQ 13.671875 62.703125 7.8125 59.421875 \nL 7.8125 69.390625 \nQ 13.765625 71.78125 18.9375 73 \nQ 24.125 74.21875 28.421875 74.21875 \nQ 39.75 74.21875 46.484375 68.546875 \nQ 53.21875 62.890625 53.21875 53.421875 \nQ 53.21875 48.921875 51.53125 44.890625 \nQ 49.859375 40.875 45.40625 35.40625 \nQ 44.1875 33.984375 37.640625 27.21875 \nQ 31.109375 20.453125 19.1875 8.296875 \nz\n\" id=\"DejaVuSans-50\"/>\n       </defs>\n       <use xlink:href=\"#DejaVuSans-50\"/>\n       <use x=\"63.623047\" xlink:href=\"#DejaVuSans-48\"/>\n       <use x=\"127.246094\" xlink:href=\"#DejaVuSans-48\"/>\n       <use x=\"190.869141\" xlink:href=\"#DejaVuSans-48\"/>\n       <use x=\"254.492188\" xlink:href=\"#DejaVuSans-48\"/>\n      </g>\n     </g>\n    </g>\n    <g id=\"ytick_4\">\n     <g id=\"line2d_8\">\n      <g>\n       <use style=\"stroke:#000000;stroke-width:0.8;\" x=\"59.690625\" xlink:href=\"#mec0ac8b8b3\" y=\"61.259467\"/>\n      </g>\n     </g>\n     <g id=\"text_9\">\n      <!-- 30000 -->\n      <g transform=\"translate(20.878125 65.058685)scale(0.1 -0.1)\">\n       <defs>\n        <path d=\"M 40.578125 39.3125 \nQ 47.65625 37.796875 51.625 33 \nQ 55.609375 28.21875 55.609375 21.1875 \nQ 55.609375 10.40625 48.1875 4.484375 \nQ 40.765625 -1.421875 27.09375 -1.421875 \nQ 22.515625 -1.421875 17.65625 -0.515625 \nQ 12.796875 0.390625 7.625 2.203125 \nL 7.625 11.71875 \nQ 11.71875 9.328125 16.59375 8.109375 \nQ 21.484375 6.890625 26.8125 6.890625 \nQ 36.078125 6.890625 40.9375 10.546875 \nQ 45.796875 14.203125 45.796875 21.1875 \nQ 45.796875 27.640625 41.28125 31.265625 \nQ 36.765625 34.90625 28.71875 34.90625 \nL 20.21875 34.90625 \nL 20.21875 43.015625 \nL 29.109375 43.015625 \nQ 36.375 43.015625 40.234375 45.921875 \nQ 44.09375 48.828125 44.09375 54.296875 \nQ 44.09375 59.90625 40.109375 62.90625 \nQ 36.140625 65.921875 28.71875 65.921875 \nQ 24.65625 65.921875 20.015625 65.03125 \nQ 15.375 64.15625 9.8125 62.3125 \nL 9.8125 71.09375 \nQ 15.4375 72.65625 20.34375 73.4375 \nQ 25.25 74.21875 29.59375 74.21875 \nQ 40.828125 74.21875 47.359375 69.109375 \nQ 53.90625 64.015625 53.90625 55.328125 \nQ 53.90625 49.265625 50.4375 45.09375 \nQ 46.96875 40.921875 40.578125 39.3125 \nz\n\" id=\"DejaVuSans-51\"/>\n       </defs>\n       <use xlink:href=\"#DejaVuSans-51\"/>\n       <use x=\"63.623047\" xlink:href=\"#DejaVuSans-48\"/>\n       <use x=\"127.246094\" xlink:href=\"#DejaVuSans-48\"/>\n       <use x=\"190.869141\" xlink:href=\"#DejaVuSans-48\"/>\n       <use x=\"254.492188\" xlink:href=\"#DejaVuSans-48\"/>\n      </g>\n     </g>\n    </g>\n    <g id=\"ytick_5\">\n     <g id=\"line2d_9\">\n      <g>\n       <use style=\"stroke:#000000;stroke-width:0.8;\" x=\"59.690625\" xlink:href=\"#mec0ac8b8b3\" y=\"24.919289\"/>\n      </g>\n     </g>\n     <g id=\"text_10\">\n      <!-- 40000 -->\n      <g transform=\"translate(20.878125 28.718508)scale(0.1 -0.1)\">\n       <defs>\n        <path d=\"M 37.796875 64.3125 \nL 12.890625 25.390625 \nL 37.796875 25.390625 \nz\nM 35.203125 72.90625 \nL 47.609375 72.90625 \nL 47.609375 25.390625 \nL 58.015625 25.390625 \nL 58.015625 17.1875 \nL 47.609375 17.1875 \nL 47.609375 0 \nL 37.796875 0 \nL 37.796875 17.1875 \nL 4.890625 17.1875 \nL 4.890625 26.703125 \nz\n\" id=\"DejaVuSans-52\"/>\n       </defs>\n       <use xlink:href=\"#DejaVuSans-52\"/>\n       <use x=\"63.623047\" xlink:href=\"#DejaVuSans-48\"/>\n       <use x=\"127.246094\" xlink:href=\"#DejaVuSans-48\"/>\n       <use x=\"190.869141\" xlink:href=\"#DejaVuSans-48\"/>\n       <use x=\"254.492188\" xlink:href=\"#DejaVuSans-48\"/>\n      </g>\n     </g>\n    </g>\n    <g id=\"text_11\">\n     <!-- count -->\n     <g transform=\"translate(14.798438 102.84625)rotate(-90)scale(0.1 -0.1)\">\n      <defs>\n       <path d=\"M 48.78125 52.59375 \nL 48.78125 44.1875 \nQ 44.96875 46.296875 41.140625 47.34375 \nQ 37.3125 48.390625 33.40625 48.390625 \nQ 24.65625 48.390625 19.8125 42.84375 \nQ 14.984375 37.3125 14.984375 27.296875 \nQ 14.984375 17.28125 19.8125 11.734375 \nQ 24.65625 6.203125 33.40625 6.203125 \nQ 37.3125 6.203125 41.140625 7.25 \nQ 44.96875 8.296875 48.78125 10.40625 \nL 48.78125 2.09375 \nQ 45.015625 0.34375 40.984375 -0.53125 \nQ 36.96875 -1.421875 32.421875 -1.421875 \nQ 20.0625 -1.421875 12.78125 6.34375 \nQ 5.515625 14.109375 5.515625 27.296875 \nQ 5.515625 40.671875 12.859375 48.328125 \nQ 20.21875 56 33.015625 56 \nQ 37.15625 56 41.109375 55.140625 \nQ 45.0625 54.296875 48.78125 52.59375 \nz\n\" id=\"DejaVuSans-99\"/>\n       <path d=\"M 8.5 21.578125 \nL 8.5 54.6875 \nL 17.484375 54.6875 \nL 17.484375 21.921875 \nQ 17.484375 14.15625 20.5 10.265625 \nQ 23.53125 6.390625 29.59375 6.390625 \nQ 36.859375 6.390625 41.078125 11.03125 \nQ 45.3125 15.671875 45.3125 23.6875 \nL 45.3125 54.6875 \nL 54.296875 54.6875 \nL 54.296875 0 \nL 45.3125 0 \nL 45.3125 8.40625 \nQ 42.046875 3.421875 37.71875 1 \nQ 33.40625 -1.421875 27.6875 -1.421875 \nQ 18.265625 -1.421875 13.375 4.4375 \nQ 8.5 10.296875 8.5 21.578125 \nz\nM 31.109375 56 \nz\n\" id=\"DejaVuSans-117\"/>\n       <path d=\"M 18.3125 70.21875 \nL 18.3125 54.6875 \nL 36.8125 54.6875 \nL 36.8125 47.703125 \nL 18.3125 47.703125 \nL 18.3125 18.015625 \nQ 18.3125 11.328125 20.140625 9.421875 \nQ 21.96875 7.515625 27.59375 7.515625 \nL 36.8125 7.515625 \nL 36.8125 0 \nL 27.59375 0 \nQ 17.1875 0 13.234375 3.875 \nQ 9.28125 7.765625 9.28125 18.015625 \nL 9.28125 47.703125 \nL 2.6875 47.703125 \nL 2.6875 54.6875 \nL 9.28125 54.6875 \nL 9.28125 70.21875 \nz\n\" id=\"DejaVuSans-116\"/>\n      </defs>\n      <use xlink:href=\"#DejaVuSans-99\"/>\n      <use x=\"54.980469\" xlink:href=\"#DejaVuSans-111\"/>\n      <use x=\"116.162109\" xlink:href=\"#DejaVuSans-117\"/>\n      <use x=\"179.541016\" xlink:href=\"#DejaVuSans-110\"/>\n      <use x=\"242.919922\" xlink:href=\"#DejaVuSans-116\"/>\n     </g>\n    </g>\n   </g>\n   <g id=\"patch_7\">\n    <path d=\"M 59.690625 170.28 \nL 59.690625 7.2 \n\" style=\"fill:none;stroke:#000000;stroke-linecap:square;stroke-linejoin:miter;stroke-width:0.8;\"/>\n   </g>\n   <g id=\"patch_8\">\n    <path d=\"M 952.490625 170.28 \nL 952.490625 7.2 \n\" style=\"fill:none;stroke:#000000;stroke-linecap:square;stroke-linejoin:miter;stroke-width:0.8;\"/>\n   </g>\n   <g id=\"patch_9\">\n    <path d=\"M 59.690625 170.28 \nL 952.490625 170.28 \n\" style=\"fill:none;stroke:#000000;stroke-linecap:square;stroke-linejoin:miter;stroke-width:0.8;\"/>\n   </g>\n   <g id=\"patch_10\">\n    <path d=\"M 59.690625 7.2 \nL 952.490625 7.2 \n\" style=\"fill:none;stroke:#000000;stroke-linecap:square;stroke-linejoin:miter;stroke-width:0.8;\"/>\n   </g>\n  </g>\n </g>\n <defs>\n  <clipPath id=\"pd02ed3391d\">\n   <rect height=\"163.08\" width=\"892.8\" x=\"59.690625\" y=\"7.2\"/>\n  </clipPath>\n </defs>\n</svg>\n",
      "image/png": "[encoded data removed]"
     },
     "metadata": {
      "needs_background": "light"
     }
    }
   ],
   "source": [
    "categorical_attributes = interactions_df.select_dtypes(include=[\"object\"])\n",
    "\n",
    "plt.figure(figsize=(16, 3))\n",
    "chart = sns.countplot(data=categorical_attributes, x=\"EVENT_TYPE\")\n",
    "plt.xticks(rotation=90, horizontalalignment=\"right\")\n",
    "plt.show()"
   ]
  },
  {
   "cell_type": "code",
   "execution_count": 8,
   "metadata": {},
   "outputs": [],
   "source": [
    "# !wget -q https://github.com/Phonbopit/sarabun-webfont/raw/master/fonts/thsarabunnew-webfont.ttf"
   ]
  },
  {
   "cell_type": "code",
   "execution_count": 9,
   "metadata": {},
   "outputs": [],
   "source": [
    "mpl.font_manager.fontManager.addfont(\"thsarabunnew-webfont.ttf\")\n",
    "mpl.rc(\"font\", family=\"TH Sarabun New\")"
   ]
  },
  {
   "cell_type": "code",
   "execution_count": 10,
   "metadata": {},
   "outputs": [
    {
     "output_type": "display_data",
     "data": {
      "text/plain": "<Figure size 1152x216 with 1 Axes>",
      "image/svg+xml": "<?xml version=\"1.0\" encoding=\"utf-8\" standalone=\"no\"?>\n<!DOCTYPE svg PUBLIC \"-//W3C//DTD SVG 1.1//EN\"\n  \"http://www.w3.org/Graphics/SVG/1.1/DTD/svg11.dtd\">\n<!-- Created with matplotlib (https://matplotlib.org/) -->\n<svg height=\"249.944063pt\" version=\"1.1\" viewBox=\"0 0 945.073437 249.944063\" width=\"945.073437pt\" xmlns=\"http://www.w3.org/2000/svg\" xmlns:xlink=\"http://www.w3.org/1999/xlink\">\n <metadata>\n  <rdf:RDF xmlns:cc=\"http://creativecommons.org/ns#\" xmlns:dc=\"http://purl.org/dc/elements/1.1/\" xmlns:rdf=\"http://www.w3.org/1999/02/22-rdf-syntax-ns#\">\n   <cc:Work>\n    <dc:type rdf:resource=\"http://purl.org/dc/dcmitype/StillImage\"/>\n    <dc:date>2021-03-09T13:25:32.178586</dc:date>\n    <dc:format>image/svg+xml</dc:format>\n    <dc:creator>\n     <cc:Agent>\n      <dc:title>Matplotlib v3.3.2, https://matplotlib.org/</dc:title>\n     </cc:Agent>\n    </dc:creator>\n   </cc:Work>\n  </rdf:RDF>\n </metadata>\n <defs>\n  <style type=\"text/css\">*{stroke-linecap:butt;stroke-linejoin:round;}</style>\n </defs>\n <g id=\"figure_1\">\n  <g id=\"patch_1\">\n   <path d=\"M 0 249.944063 \nL 945.073437 249.944063 \nL 945.073437 0 \nL 0 0 \nz\n\" style=\"fill:none;\"/>\n  </g>\n  <g id=\"axes_1\">\n   <g id=\"patch_2\">\n    <path d=\"M 45.073437 170.28 \nL 937.873437 170.28 \nL 937.873437 7.2 \nL 45.073437 7.2 \nz\n\" style=\"fill:#ffffff;\"/>\n   </g>\n   <g id=\"patch_3\">\n    <path clip-path=\"url(#p8c545881f1)\" d=\"M 51.94113 170.28 \nL 106.882668 170.28 \nL 106.882668 14.965714 \nL 51.94113 14.965714 \nz\n\" style=\"fill:#ea96a3;\"/>\n   </g>\n   <g id=\"patch_4\">\n    <path clip-path=\"url(#p8c545881f1)\" d=\"M 120.618053 170.28 \nL 175.559591 170.28 \nL 175.559591 111.97148 \nL 120.618053 111.97148 \nz\n\" style=\"fill:#e39361;\"/>\n   </g>\n   <g id=\"patch_5\">\n    <path clip-path=\"url(#p8c545881f1)\" d=\"M 189.294976 170.28 \nL 244.236514 170.28 \nL 244.236514 137.361076 \nL 189.294976 137.361076 \nz\n\" style=\"fill:#be9b4a;\"/>\n   </g>\n   <g id=\"patch_6\">\n    <path clip-path=\"url(#p8c545881f1)\" d=\"M 257.971899 170.28 \nL 312.913437 170.28 \nL 312.913437 114.422889 \nL 257.971899 114.422889 \nz\n\" style=\"fill:#9fa045;\"/>\n   </g>\n   <g id=\"patch_7\">\n    <path clip-path=\"url(#p8c545881f1)\" d=\"M 326.648822 170.28 \nL 381.590361 170.28 \nL 381.590361 100.414837 \nL 326.648822 100.414837 \nz\n\" style=\"fill:#7aaa47;\"/>\n   </g>\n   <g id=\"patch_8\">\n    <path clip-path=\"url(#p8c545881f1)\" d=\"M 395.325745 170.28 \nL 450.267284 170.28 \nL 450.267284 158.898457 \nL 395.325745 158.898457 \nz\n\" style=\"fill:#49af79;\"/>\n   </g>\n   <g id=\"patch_9\">\n    <path clip-path=\"url(#p8c545881f1)\" d=\"M 464.002668 170.28 \nL 518.944207 170.28 \nL 518.944207 78.352153 \nL 464.002668 78.352153 \nz\n\" style=\"fill:#4aac9a;\"/>\n   </g>\n   <g id=\"patch_10\">\n    <path clip-path=\"url(#p8c545881f1)\" d=\"M 532.679591 170.28 \nL 587.62113 170.28 \nL 587.62113 117.749802 \nL 532.679591 117.749802 \nz\n\" style=\"fill:#4cabae;\"/>\n   </g>\n   <g id=\"patch_11\">\n    <path clip-path=\"url(#p8c545881f1)\" d=\"M 601.356514 170.28 \nL 656.298053 170.28 \nL 656.298053 152.069531 \nL 601.356514 152.069531 \nz\n\" style=\"fill:#52acc9;\"/>\n   </g>\n   <g id=\"patch_12\">\n    <path clip-path=\"url(#p8c545881f1)\" d=\"M 670.033437 170.28 \nL 724.974976 170.28 \nL 724.974976 149.443021 \nL 670.033437 149.443021 \nz\n\" style=\"fill:#8daee7;\"/>\n   </g>\n   <g id=\"patch_13\">\n    <path clip-path=\"url(#p8c545881f1)\" d=\"M 738.710361 170.28 \nL 793.651899 170.28 \nL 793.651899 157.672752 \nL 738.710361 157.672752 \nz\n\" style=\"fill:#bfa3ea;\"/>\n   </g>\n   <g id=\"patch_14\">\n    <path clip-path=\"url(#p8c545881f1)\" d=\"M 807.387284 170.28 \nL 862.328822 170.28 \nL 862.328822 168.528993 \nL 807.387284 168.528993 \nz\n\" style=\"fill:#e689e6;\"/>\n   </g>\n   <g id=\"patch_15\">\n    <path clip-path=\"url(#p8c545881f1)\" d=\"M 876.064207 170.28 \nL 931.005745 170.28 \nL 931.005745 162.40047 \nL 876.064207 162.40047 \nz\n\" style=\"fill:#e891c3;\"/>\n   </g>\n   <g id=\"matplotlib.axis_1\">\n    <g id=\"xtick_1\">\n     <g id=\"line2d_1\">\n      <defs>\n       <path d=\"M 0 0 \nL 0 3.5 \n\" id=\"m3b754f5f15\" style=\"stroke:#000000;stroke-width:0.8;\"/>\n      </defs>\n      <g>\n       <use style=\"stroke:#000000;stroke-width:0.8;\" x=\"79.411899\" xlink:href=\"#m3b754f5f15\" y=\"170.28\"/>\n      </g>\n     </g>\n     <g id=\"text_1\">\n      <!-- การเมือง -->\n      <g transform=\"translate(76.852524 212.545625)rotate(-90)scale(0.1 -0.1)\">\n       <defs>\n        <path d=\"M 5.515625 41.609375 \nQ 6.734375 50.203125 13.203125 55.6875 \nQ 19.671875 61.1875 28.609375 61.1875 \nQ 38.625 61.1875 44.546875 55.6875 \nQ 50.484375 50.203125 50.484375 40.484375 \nL 50.484375 0 \nL 45.015625 0 \nL 45.015625 39.890625 \nQ 45.015625 47.40625 40.296875 51.84375 \nQ 35.59375 56.296875 28.328125 56.296875 \nQ 23.140625 56.296875 18.203125 53.390625 \nQ 13.28125 50.484375 11.53125 45.90625 \nQ 20.515625 45.125 23.875 39.203125 \nQ 20.171875 38.421875 17.4375 35.09375 \nQ 14.703125 31.78125 14.703125 27.78125 \nL 14.703125 0 \nL 9.1875 0 \nL 9.1875 27.6875 \nQ 9.1875 36.671875 17.09375 39.890625 \nQ 12.109375 42.390625 5.515625 41.609375 \nz\n\" id=\"THSarabunNew-3585\"/>\n        <path d=\"M 3.71875 45.015625 \nQ 3.8125 51.421875 8.8125 56.296875 \nQ 13.8125 61.1875 21.578125 61.1875 \nQ 30.375 61.1875 35.078125 56.890625 \nQ 39.796875 52.59375 39.796875 45.609375 \nL 39.796875 0 \nL 34.28125 0 \nL 34.28125 45.703125 \nQ 34.28125 50.296875 30.828125 53.296875 \nQ 27.390625 56.296875 21.390625 56.296875 \nQ 16.0625 56.296875 12.84375 52.703125 \nQ 9.625 49.125 9.28125 45.015625 \nz\n\" id=\"THSarabunNew-3634\"/>\n        <path d=\"M 3.8125 45.015625 \nQ 4.6875 61.234375 18.703125 61.1875 \nQ 21.921875 61.1875 27.796875 59.59375 \nQ 33.6875 58.015625 36.28125 58.015625 \nQ 37.796875 58.015625 39.203125 61.53125 \nL 43.890625 60.296875 \nQ 41.609375 52.875 36.078125 52.875 \nQ 32.859375 52.875 26.828125 54.578125 \nQ 20.796875 56.296875 17.671875 56.296875 \nQ 14.984375 56.296875 12.640625 53.953125 \nQ 10.296875 51.609375 10.109375 49.125 \nQ 19.921875 47.40625 29.421875 44.0625 \nQ 38.921875 40.71875 38.921875 34.421875 \nL 38.921875 8.890625 \nQ 38.921875 4.6875 36.15625 1.734375 \nQ 33.40625 -1.21875 28.8125 -1.21875 \nQ 24.609375 -1.21875 21.65625 1.734375 \nQ 18.703125 4.6875 18.703125 8.890625 \nQ 18.703125 12.984375 21.65625 15.984375 \nQ 24.609375 19 28.8125 19 \nQ 31.390625 19 33.40625 17.921875 \nL 33.40625 33.984375 \nQ 33.40625 40.234375 3.8125 45.015625 \nz\nM 23.578125 8.890625 \nQ 23.578125 6.6875 25.09375 5.203125 \nQ 26.609375 3.71875 28.8125 3.71875 \nQ 30.90625 3.71875 32.4375 5.203125 \nQ 33.984375 6.6875 33.984375 8.890625 \nQ 33.984375 10.984375 32.4375 12.546875 \nQ 30.90625 14.109375 28.8125 14.109375 \nQ 26.609375 14.109375 25.09375 12.546875 \nQ 23.578125 10.984375 23.578125 8.890625 \nz\n\" id=\"THSarabunNew-3619\"/>\n        <path d=\"M 8.109375 9.515625 \nL 8.109375 61.1875 \nL 13.625 61.1875 \nL 13.625 18.5 \nQ 15.828125 19.734375 18.5 19.671875 \nQ 22.796875 19.671875 25.796875 16.734375 \nQ 28.8125 13.8125 28.8125 9.515625 \nQ 28.8125 5.21875 25.796875 2.171875 \nQ 22.796875 -0.875 18.5 -0.875 \nQ 13.8125 -0.875 10.6875 2.390625 \nQ 8.109375 5.421875 8.109375 9.515625 \nz\nM 13.28125 9.515625 \nQ 13.28125 7.328125 14.84375 5.8125 \nQ 16.40625 4.296875 18.5 4.296875 \nQ 20.703125 4.296875 22.1875 5.8125 \nQ 23.6875 7.328125 23.6875 9.515625 \nQ 23.6875 11.625 22.1875 13.15625 \nQ 20.703125 14.703125 18.5 14.703125 \nQ 16.40625 14.703125 14.84375 13.15625 \nQ 13.28125 11.625 13.28125 9.515625 \nz\n\" id=\"THSarabunNew-3648\"/>\n        <path d=\"M 2.59375 51.125 \nQ 2.59375 55.21875 5.59375 58.203125 \nQ 8.59375 61.1875 12.703125 61.1875 \nQ 16.796875 61.1875 19.796875 58.171875 \nQ 22.796875 55.171875 22.796875 51.125 \nL 22.796875 18.109375 \nQ 37.890625 12.703125 47.125 5.71875 \nL 47.125 60.015625 \nL 52.59375 60.015625 \nL 52.59375 0 \nL 46.6875 0 \nQ 34.671875 9.1875 24.3125 12.109375 \nQ 24.8125 10.6875 24.8125 9.28125 \nQ 24.8125 4.890625 21.65625 1.828125 \nQ 18.5 -1.21875 14.109375 -1.21875 \nQ 9.625 -1.21875 6.5625 1.828125 \nQ 3.515625 4.890625 3.515625 9.28125 \nQ 3.515625 13.765625 6.5625 16.890625 \nQ 9.625 20.015625 14.109375 20.015625 \nQ 15.828125 20.015625 17.28125 19.578125 \nL 17.28125 42.09375 \nQ 15.28125 40.96875 12.703125 41.015625 \nQ 8.59375 41.015625 5.59375 44.015625 \nQ 2.59375 47.015625 2.59375 51.125 \nz\nM 7.515625 51.125 \nQ 7.515625 49.03125 9.046875 47.46875 \nQ 10.59375 45.90625 12.703125 45.90625 \nQ 14.796875 45.90625 16.359375 47.46875 \nQ 17.921875 49.03125 17.921875 51.125 \nQ 17.921875 53.21875 16.359375 54.75 \nQ 14.796875 56.296875 12.703125 56.296875 \nQ 10.59375 56.296875 9.046875 54.75 \nQ 7.515625 53.21875 7.515625 51.125 \nz\nM 8.40625 9.515625 \nQ 8.40625 7.234375 10.109375 5.515625 \nQ 11.8125 3.8125 14.109375 3.8125 \nQ 16.40625 3.8125 18.03125 5.484375 \nQ 19.671875 7.171875 19.671875 9.515625 \nQ 19.671875 11.8125 18.03125 13.453125 \nQ 16.40625 15.09375 14.109375 15.09375 \nQ 11.8125 15.09375 10.109375 13.453125 \nQ 8.40625 11.8125 8.40625 9.515625 \nz\n\" id=\"THSarabunNew-3617\"/>\n        <path d=\"M -52.78125 75 \nQ -52.59375 82.90625 -46.1875 87.796875 \nQ -40.375 92.28125 -32.328125 92.28125 \nQ -28.8125 92.28125 -25.875 91.609375 \nL -25.875 99.03125 \nL -20.796875 99.03125 \nL -20.796875 89.796875 \nQ -16.5 87.796875 -13.625 84.1875 \nL -13.625 99.03125 \nL -8.59375 99.03125 \nL -8.59375 73.6875 \nQ -8.015625 71.78125 -7.625 69.578125 \nQ -25.203125 75.875 -40.71875 75.875 \nQ -46.1875 75.875 -52.78125 75 \nz\nM -46.484375 79.6875 \nQ -43.265625 80.171875 -39.3125 80.171875 \nQ -24.609375 80.171875 -13.625 75.390625 \nQ -20.3125 87.796875 -32.078125 87.796875 \nQ -42.78125 87.796875 -46.484375 79.6875 \nz\n\" id=\"THSarabunNew-3639\"/>\n        <path d=\"M 4 45.3125 \nQ 5.515625 52.484375 12 56.828125 \nQ 18.5 61.1875 27.984375 61.1875 \nQ 36.96875 61.1875 43.3125 56.890625 \nQ 50.640625 52 50.59375 43.609375 \nL 50.59375 12.984375 \nQ 50.296875 -1.21875 30.078125 -1.21875 \nQ 9.859375 -1.21875 9.90625 12.984375 \nL 9.90625 31.78125 \nQ 9.90625 35.984375 12.90625 38.9375 \nQ 15.921875 41.890625 20.015625 41.890625 \nQ 24.21875 41.890625 27.140625 38.9375 \nQ 30.078125 35.984375 30.078125 31.78125 \nQ 30.078125 27.6875 27.34375 24.6875 \nQ 24.609375 21.6875 20.015625 21.6875 \nQ 17.4375 21.6875 15.484375 22.796875 \nL 15.484375 14.203125 \nQ 15.484375 3.8125 30.421875 3.8125 \nQ 45.125 3.8125 45.125 14.203125 \nL 45.125 42.671875 \nQ 45.125 49.078125 39.796875 52.875 \nQ 34.90625 56.296875 27.6875 56.296875 \nQ 21.390625 56.296875 16.21875 53.421875 \nQ 10.59375 50.203125 9.515625 45.3125 \nz\nM 14.796875 31.78125 \nQ 14.796875 29.6875 16.359375 28.140625 \nQ 17.921875 26.609375 20.015625 26.609375 \nQ 22.21875 26.609375 23.703125 28.140625 \nQ 25.203125 29.6875 25.203125 31.78125 \nQ 25.203125 33.984375 23.703125 35.5 \nQ 22.21875 37.015625 20.015625 37.015625 \nQ 17.921875 37.015625 16.359375 35.5 \nQ 14.796875 33.984375 14.796875 31.78125 \nz\n\" id=\"THSarabunNew-3629\"/>\n        <path d=\"M 2.390625 31.78125 \nL 5.515625 35.296875 \nL 30.90625 7.8125 \nL 30.90625 42.09375 \nQ 28.8125 40.96875 26.21875 41.015625 \nQ 22.015625 41.015625 19.0625 44.015625 \nQ 16.109375 47.015625 16.109375 50.875 \nQ 16.109375 55.375 19.015625 58.28125 \nQ 21.921875 61.1875 26.21875 61.1875 \nQ 31.109375 61.1875 33.984375 58.015625 \nQ 36.375 55.125 36.375 50.875 \nL 36.375 0 \nL 30.90625 0 \nz\nM 21 51.3125 \nQ 21 49.125 22.515625 47.609375 \nQ 24.03125 46.09375 26.21875 46.09375 \nQ 28.328125 46.09375 29.859375 47.609375 \nQ 31.390625 49.125 31.390625 51.3125 \nQ 31.390625 53.421875 29.859375 54.953125 \nQ 28.328125 56.5 26.21875 56.5 \nQ 24.03125 56.5 22.515625 54.953125 \nQ 21 53.421875 21 51.3125 \nz\n\" id=\"THSarabunNew-3591\"/>\n       </defs>\n       <use xlink:href=\"#THSarabunNew-3585\"/>\n       <use x=\"58.984375\" xlink:href=\"#THSarabunNew-3634\"/>\n       <use x=\"107.275391\" xlink:href=\"#THSarabunNew-3619\"/>\n       <use x=\"156.445312\" xlink:href=\"#THSarabunNew-3648\"/>\n       <use x=\"187.402344\" xlink:href=\"#THSarabunNew-3617\"/>\n       <use x=\"248.583984\" xlink:href=\"#THSarabunNew-3639\"/>\n       <use x=\"248.583984\" xlink:href=\"#THSarabunNew-3629\"/>\n       <use x=\"307.763672\" xlink:href=\"#THSarabunNew-3591\"/>\n      </g>\n     </g>\n    </g>\n    <g id=\"xtick_2\">\n     <g id=\"line2d_2\">\n      <g>\n       <use style=\"stroke:#000000;stroke-width:0.8;\" x=\"148.088822\" xlink:href=\"#m3b754f5f15\" y=\"170.28\"/>\n      </g>\n     </g>\n     <g id=\"text_2\">\n      <!-- บันเทิง -->\n      <g transform=\"translate(145.529447 204.383125)rotate(-90)scale(0.1 -0.1)\">\n       <defs>\n        <path d=\"M 2.59375 51.125 \nQ 2.59375 55.21875 5.59375 58.203125 \nQ 8.59375 61.1875 12.703125 61.1875 \nQ 16.796875 61.1875 19.796875 58.171875 \nQ 22.796875 55.171875 22.796875 51.125 \nL 22.796875 13.484375 \nQ 22.796875 3.765625 37.203125 3.8125 \nQ 51.421875 3.8125 51.421875 13.484375 \nL 51.421875 60.015625 \nL 56.890625 60.015625 \nL 56.890625 12.984375 \nQ 56.890625 -1.21875 37.203125 -1.21875 \nQ 17.28125 -1.21875 17.28125 12.984375 \nL 17.28125 42.09375 \nQ 15.28125 40.96875 12.703125 41.015625 \nQ 8.59375 41.015625 5.59375 44.015625 \nQ 2.59375 47.015625 2.59375 51.125 \nz\nM 7.515625 51.125 \nQ 7.515625 49.03125 9.046875 47.46875 \nQ 10.59375 45.90625 12.703125 45.90625 \nQ 14.796875 45.90625 16.359375 47.46875 \nQ 17.921875 49.03125 17.921875 51.125 \nQ 17.921875 53.21875 16.359375 54.75 \nQ 14.796875 56.296875 12.703125 56.296875 \nQ 10.59375 56.296875 9.046875 54.75 \nQ 7.515625 53.21875 7.515625 51.125 \nz\n\" id=\"THSarabunNew-3610\"/>\n        <path d=\"M -35.984375 84.28125 \nQ -35.984375 88.28125 -33.03125 91.1875 \nQ -30.078125 94.09375 -26.21875 94.09375 \nQ -22.21875 94.09375 -19.3125 91.234375 \nQ -16.40625 88.375 -16.40625 84.515625 \nQ -16.40625 79.34375 -21 76.21875 \nQ -18.796875 75.734375 -15.28125 75.6875 \nQ -7.765625 75.875 -2.875 81.6875 \nQ 1.421875 87.109375 1.703125 94.671875 \nL 7.515625 94.671875 \nQ 7.328125 84.28125 0.609375 77.640625 \nQ -6.109375 71 -16.40625 71 \nQ -25.203125 71 -30.59375 74.625 \nQ -35.984375 78.265625 -35.984375 84.28125 \nz\nM -31.203125 84.625 \nQ -31.203125 82.515625 -29.703125 81.09375 \nQ -28.21875 79.6875 -26.21875 79.6875 \nQ -24.21875 79.6875 -22.75 81.09375 \nQ -21.296875 82.515625 -21.296875 84.625 \nQ -21.296875 86.8125 -22.75 88.25 \nQ -24.21875 89.703125 -26.21875 89.703125 \nQ -28.21875 89.703125 -29.703125 88.25 \nQ -31.203125 86.8125 -31.203125 84.625 \nz\n\" id=\"THSarabunNew-3633\"/>\n        <path d=\"M 2.59375 51.125 \nQ 2.59375 55.21875 5.59375 58.203125 \nQ 8.59375 61.1875 12.703125 61.1875 \nQ 16.796875 61.1875 19.796875 58.171875 \nQ 22.796875 55.171875 22.796875 51.125 \nL 22.796875 6 \nQ 25.875 9.328125 33.6875 12.890625 \nQ 42.390625 16.796875 45.015625 19 \nQ 50.203125 23.09375 50.203125 29.5 \nL 50.203125 60.015625 \nL 55.71875 60.015625 \nL 55.71875 28.8125 \nQ 55.71875 21.390625 52.296875 18.109375 \nQ 58.796875 15.53125 58.796875 8.6875 \nQ 58.796875 4.59375 55.78125 1.6875 \nQ 52.78125 -1.21875 48.6875 -1.21875 \nQ 44.484375 -1.21875 41.59375 1.6875 \nQ 38.71875 4.59375 38.71875 8.6875 \nL 38.71875 9.8125 \nQ 29.203125 6 24.03125 0 \nL 17.28125 0 \nL 17.28125 42.09375 \nQ 15.28125 40.96875 12.703125 41.015625 \nQ 8.59375 41.015625 5.59375 44.015625 \nQ 2.59375 47.015625 2.59375 51.125 \nz\nM 7.515625 51.125 \nQ 7.515625 49.03125 9.046875 47.46875 \nQ 10.59375 45.90625 12.703125 45.90625 \nQ 14.796875 45.90625 16.359375 47.46875 \nQ 17.921875 49.03125 17.921875 51.125 \nQ 17.921875 53.21875 16.359375 54.75 \nQ 14.796875 56.296875 12.703125 56.296875 \nQ 10.59375 56.296875 9.046875 54.75 \nQ 7.515625 53.21875 7.515625 51.125 \nz\nM 43.5 8.890625 \nQ 43.5 6.6875 44.984375 5.203125 \nQ 46.484375 3.71875 48.6875 3.71875 \nQ 50.78125 3.71875 52.34375 5.203125 \nQ 53.90625 6.6875 53.90625 8.890625 \nQ 53.90625 10.984375 52.34375 12.546875 \nQ 50.78125 14.109375 48.6875 14.109375 \nQ 46.484375 14.109375 44.984375 12.546875 \nQ 43.5 10.984375 43.5 8.890625 \nz\n\" id=\"THSarabunNew-3609\"/>\n        <path d=\"M 2.59375 51.125 \nQ 2.59375 55.21875 5.59375 58.203125 \nQ 8.59375 61.1875 12.703125 61.1875 \nQ 16.796875 61.1875 19.796875 58.171875 \nQ 22.796875 55.171875 22.796875 51.125 \nL 22.796875 21.09375 \nQ 22.515625 14.109375 22.015625 10.984375 \nQ 23 14.0625 24.8125 19.578125 \nL 37.203125 52.59375 \nQ 40.4375 61.1875 47.703125 61.1875 \nQ 57.234375 61.1875 57.171875 49.03125 \nL 57.171875 0 \nL 51.703125 0 \nL 51.703125 49.03125 \nQ 51.703125 55.8125 47.3125 55.8125 \nQ 44.53125 55.8125 42.484375 51.90625 \nL 23.09375 0 \nL 17.28125 0 \nL 17.28125 42.09375 \nQ 15.28125 40.96875 12.703125 41.015625 \nQ 8.59375 41.015625 5.59375 44.015625 \nQ 2.59375 47.015625 2.59375 51.125 \nz\nM 7.515625 51.125 \nQ 7.515625 49.03125 9.046875 47.46875 \nQ 10.59375 45.90625 12.703125 45.90625 \nQ 14.796875 45.90625 16.359375 47.46875 \nQ 17.921875 49.03125 17.921875 51.125 \nQ 17.921875 53.21875 16.359375 54.75 \nQ 14.796875 56.296875 12.703125 56.296875 \nQ 10.59375 56.296875 9.046875 54.75 \nQ 7.515625 53.21875 7.515625 51.125 \nz\n\" id=\"THSarabunNew-3607\"/>\n        <path d=\"M -52.78125 75 \nQ -52.59375 82.90625 -46.1875 87.796875 \nQ -40.375 92.28125 -32.328125 92.28125 \nQ -11.625 92.28125 -7.625 69.578125 \nQ -25.203125 75.875 -40.71875 75.875 \nQ -46.1875 75.875 -52.78125 75 \nz\nM -46.484375 79.6875 \nQ -43.265625 80.171875 -39.3125 80.171875 \nQ -24.609375 80.171875 -13.625 75.390625 \nQ -20.3125 87.796875 -32.078125 87.796875 \nQ -42.78125 87.796875 -46.484375 79.6875 \nz\n\" id=\"THSarabunNew-3636\"/>\n       </defs>\n       <use xlink:href=\"#THSarabunNew-3610\"/>\n       <use x=\"65.380859\" xlink:href=\"#THSarabunNew-3633\"/>\n       <use x=\"65.380859\" xlink:href=\"#THSarabunNew-3609\"/>\n       <use x=\"129.541016\" xlink:href=\"#THSarabunNew-3648\"/>\n       <use x=\"160.498047\" xlink:href=\"#THSarabunNew-3607\"/>\n       <use x=\"226.171875\" xlink:href=\"#THSarabunNew-3636\"/>\n       <use x=\"226.171875\" xlink:href=\"#THSarabunNew-3591\"/>\n      </g>\n     </g>\n    </g>\n    <g id=\"xtick_3\">\n     <g id=\"line2d_3\">\n      <g>\n       <use style=\"stroke:#000000;stroke-width:0.8;\" x=\"216.765745\" xlink:href=\"#m3b754f5f15\" y=\"170.28\"/>\n      </g>\n     </g>\n     <g id=\"text_3\">\n      <!-- ต่างประเทศ -->\n      <g transform=\"translate(214.20637 225.156563)rotate(-90)scale(0.1 -0.1)\">\n       <defs>\n        <path d=\"M 4.890625 38.921875 \nQ 4.890625 46.4375 8.296875 52.484375 \nQ 12.203125 59.375 19.09375 61.1875 \nL 28.609375 52.78125 \nL 37.3125 61.1875 \nQ 44.09375 59.96875 47.90625 53.421875 \nQ 51.3125 47.703125 51.3125 40.484375 \nL 51.3125 0 \nL 45.703125 0 \nL 45.703125 39.796875 \nQ 45.703125 51.078125 38.375 55.515625 \nL 28.609375 46.484375 \nL 18.21875 55.515625 \nQ 10.59375 50.640625 10.59375 39.59375 \nQ 10.59375 34.90625 13.03125 26.5625 \nQ 15.484375 18.21875 15.484375 12.109375 \nQ 17 15.09375 21.65625 18.9375 \nQ 26.3125 22.796875 27.78125 25.09375 \nQ 24.265625 25.390625 21.921875 27.859375 \nQ 19.578125 30.328125 19.578125 33.984375 \nQ 19.578125 37.796875 22.09375 40.40625 \nQ 24.609375 43.015625 28.515625 43.015625 \nQ 32.328125 43.015625 34.90625 40.40625 \nQ 37.5 37.796875 37.5 33.984375 \nQ 37.5 26.90625 26.796875 17.109375 \nQ 16.109375 7.328125 15.578125 0 \nL 10.109375 0 \nL 10.109375 13.8125 \nQ 10.109375 18.21875 7.5 26.421875 \nQ 4.890625 34.625 4.890625 38.921875 \nz\nM 24.03125 34.078125 \nQ 24.03125 32.078125 25.421875 30.734375 \nQ 26.8125 29.390625 28.8125 29.390625 \nQ 30.8125 29.390625 32.15625 30.734375 \nQ 33.5 32.078125 33.5 34.078125 \nQ 33.5 36.078125 32.15625 37.5 \nQ 30.8125 38.921875 28.8125 38.921875 \nQ 26.8125 38.921875 25.421875 37.5 \nQ 24.03125 36.078125 24.03125 34.078125 \nz\n\" id=\"THSarabunNew-3605\"/>\n        <path d=\"M -13.625 104 \nL -13.625 121 \nL -8.59375 121 \nL -8.59375 104 \nz\n\" id=\"THSarabunNew-3656\"/>\n        <path d=\"M 2.59375 51.125 \nQ 2.59375 55.21875 5.59375 58.203125 \nQ 8.59375 61.1875 12.703125 61.1875 \nQ 16.796875 61.1875 19.796875 58.171875 \nQ 22.796875 55.171875 22.796875 51.125 \nL 22.796875 13.484375 \nQ 22.796875 3.765625 37.203125 3.8125 \nQ 51.421875 3.8125 51.421875 13.484375 \nL 51.421875 85.5 \nL 56.890625 85.5 \nL 56.890625 12.984375 \nQ 56.890625 -1.21875 37.203125 -1.21875 \nQ 17.28125 -1.21875 17.28125 12.984375 \nL 17.28125 42.09375 \nQ 15.28125 40.96875 12.703125 41.015625 \nQ 8.59375 41.015625 5.59375 44.015625 \nQ 2.59375 47.015625 2.59375 51.125 \nz\nM 7.515625 51.125 \nQ 7.515625 49.03125 9.046875 47.46875 \nQ 10.59375 45.90625 12.703125 45.90625 \nQ 14.796875 45.90625 16.359375 47.46875 \nQ 17.921875 49.03125 17.921875 51.125 \nQ 17.921875 53.21875 16.359375 54.75 \nQ 14.796875 56.296875 12.703125 56.296875 \nQ 10.59375 56.296875 9.046875 54.75 \nQ 7.515625 53.21875 7.515625 51.125 \nz\n\" id=\"THSarabunNew-3611\"/>\n        <path d=\"M 4.6875 15.828125 \nQ 4.6875 19.734375 7.640625 22.65625 \nQ 10.59375 25.59375 14.5 25.59375 \nQ 18.5 25.59375 21.40625 22.625 \nQ 24.3125 19.671875 24.3125 15.828125 \nQ 24.3125 10.640625 19.921875 7.625 \nQ 22.3125 7.03125 23.6875 6.984375 \nQ 31.984375 7.28125 36.234375 12.421875 \nQ 40.484375 17.578125 40.921875 25.984375 \nL 46.390625 25.984375 \nQ 46.09375 15.578125 40.078125 8.9375 \nQ 34.078125 2.296875 24.609375 2.296875 \nQ 16.796875 2.296875 11.53125 5.171875 \nQ 4.6875 8.734375 4.6875 15.828125 \nz\nM 4.6875 48.1875 \nQ 4.6875 52.203125 7.640625 55.109375 \nQ 10.59375 58.015625 14.5 58.015625 \nQ 18.5 58.015625 21.40625 55.109375 \nQ 24.3125 52.203125 24.3125 48.1875 \nQ 24.3125 43.015625 19.921875 40.09375 \nQ 22.3125 39.5 23.6875 39.5 \nQ 31.984375 39.796875 36.234375 44.890625 \nQ 40.484375 50 40.921875 58.40625 \nL 46.390625 58.40625 \nQ 46.09375 48 40.078125 41.359375 \nQ 34.078125 34.71875 24.609375 34.71875 \nQ 16.796875 34.71875 11.53125 37.59375 \nQ 4.6875 41.21875 4.6875 48.1875 \nz\nM 9.515625 15.828125 \nQ 9.515625 13.625 10.8125 12.296875 \nQ 12.109375 10.984375 14.203125 10.984375 \nQ 16.40625 10.984375 17.75 12.296875 \nQ 19.09375 13.625 19.09375 15.828125 \nQ 19.09375 17.921875 17.75 19.3125 \nQ 16.40625 20.703125 14.203125 20.703125 \nQ 12.109375 20.703125 10.8125 19.3125 \nQ 9.515625 17.921875 9.515625 15.828125 \nz\nM 9.515625 48.1875 \nQ 9.515625 46.09375 10.8125 44.796875 \nQ 12.109375 43.5 14.203125 43.5 \nQ 16.40625 43.5 17.75 44.796875 \nQ 19.09375 46.09375 19.09375 48.1875 \nQ 19.09375 50.296875 17.75 51.6875 \nQ 16.40625 53.078125 14.203125 53.078125 \nQ 12.109375 53.078125 10.8125 51.6875 \nQ 9.515625 50.296875 9.515625 48.1875 \nz\n\" id=\"THSarabunNew-3632\"/>\n        <path d=\"M 4.984375 39.015625 \nQ 4.984375 49.03125 11.734375 55.109375 \nQ 18.5 61.1875 28.609375 61.1875 \nQ 35.015625 61.1875 40.71875 58.59375 \nQ 46.234375 63.484375 46.484375 65.828125 \nL 53.609375 65.828125 \nQ 52.9375 62.109375 45.3125 55.71875 \nQ 51.609375 50.640625 51.609375 41.609375 \nL 51.609375 0 \nL 46.09375 0 \nL 46.09375 41.21875 \nQ 46.09375 47.90625 40.71875 52 \nQ 39.59375 51.125 32.90625 46.09375 \nQ 38.234375 43.890625 38.1875 37.5 \nQ 38.1875 33.796875 35.59375 31.203125 \nQ 33.015625 28.609375 29.390625 28.609375 \nQ 24.8125 28.609375 22.21875 32.078125 \nQ 20.015625 28.859375 17.921875 23 \nQ 15.53125 15.578125 15.484375 9.90625 \nL 15.484375 0 \nL 9.90625 0 \nL 9.90625 14.109375 \nQ 9.90625 18.5 7.4375 26.609375 \nQ 4.984375 34.71875 4.984375 39.015625 \nz\nM 10.6875 39.59375 \nQ 10.6875 36.28125 11.921875 31.5 \nQ 13.625 24.8125 13.8125 23.875 \nQ 16.703125 39.453125 24.21875 45.3125 \nL 36.28125 54.78125 \nQ 32.5625 56.296875 28.328125 56.296875 \nQ 21.34375 56.296875 16.015625 51.484375 \nQ 10.6875 46.6875 10.6875 39.59375 \nz\nM 24.515625 37.5 \nQ 24.515625 35.5 25.859375 34.109375 \nQ 27.203125 32.71875 29.203125 32.71875 \nQ 31.203125 32.71875 32.59375 34.109375 \nQ 33.984375 35.5 33.984375 37.5 \nQ 33.984375 39.5 32.59375 40.84375 \nQ 31.203125 42.1875 29.203125 42.1875 \nQ 27.203125 42.1875 25.859375 40.84375 \nQ 24.515625 39.5 24.515625 37.5 \nz\n\" id=\"THSarabunNew-3624\"/>\n       </defs>\n       <use xlink:href=\"#THSarabunNew-3605\"/>\n       <use x=\"59.765625\" xlink:href=\"#THSarabunNew-3656\"/>\n       <use x=\"59.765625\" xlink:href=\"#THSarabunNew-3634\"/>\n       <use x=\"108.056641\" xlink:href=\"#THSarabunNew-3591\"/>\n       <use x=\"152.929688\" xlink:href=\"#THSarabunNew-3611\"/>\n       <use x=\"218.310547\" xlink:href=\"#THSarabunNew-3619\"/>\n       <use x=\"267.480469\" xlink:href=\"#THSarabunNew-3632\"/>\n       <use x=\"322.070312\" xlink:href=\"#THSarabunNew-3648\"/>\n       <use x=\"353.027344\" xlink:href=\"#THSarabunNew-3607\"/>\n       <use x=\"418.701172\" xlink:href=\"#THSarabunNew-3624\"/>\n      </g>\n     </g>\n    </g>\n    <g id=\"xtick_4\">\n     <g id=\"line2d_4\">\n      <g>\n       <use style=\"stroke:#000000;stroke-width:0.8;\" x=\"285.442668\" xlink:href=\"#m3b754f5f15\" y=\"170.28\"/>\n      </g>\n     </g>\n     <g id=\"text_4\">\n      <!-- กีฬา -->\n      <g transform=\"translate(282.883293 194.947188)rotate(-90)scale(0.1 -0.1)\">\n       <defs>\n        <path d=\"M -52.78125 75 \nQ -52.59375 82.90625 -46.1875 87.796875 \nQ -40.375 92.28125 -32.328125 92.28125 \nQ -20.015625 92.28125 -13.625 84.1875 \nL -13.625 99.03125 \nL -8.59375 99.03125 \nL -8.59375 73.6875 \nQ -8.015625 71.78125 -7.625 69.578125 \nQ -25.203125 75.875 -40.71875 75.875 \nQ -46.1875 75.875 -52.78125 75 \nz\nM -46.484375 79.6875 \nQ -43.265625 80.171875 -39.3125 80.171875 \nQ -24.609375 80.171875 -13.625 75.390625 \nQ -20.3125 87.796875 -32.078125 87.796875 \nQ -42.78125 87.796875 -46.484375 79.6875 \nz\n\" id=\"THSarabunNew-3637\"/>\n        <path d=\"M 2.59375 51.125 \nQ 2.59375 55.21875 5.59375 58.203125 \nQ 8.59375 61.1875 12.703125 61.1875 \nQ 16.796875 61.1875 19.796875 58.171875 \nQ 22.796875 55.171875 22.796875 51.125 \nL 22.796875 14.984375 \nQ 22.796875 12.5 22.3125 7.515625 \nQ 23.296875 10.109375 24.90625 14.109375 \nL 36.28125 35.5 \nL 41.5 35.5 \nL 52.78125 14.109375 \nQ 53.171875 12.984375 55.71875 7.515625 \nQ 55.421875 12.40625 55.421875 14.984375 \nL 55.421875 42.09375 \nQ 53.421875 40.96875 50.78125 41.015625 \nQ 46.6875 41.015625 43.703125 44.015625 \nQ 40.71875 47.015625 40.71875 51.125 \nQ 40.71875 55.21875 43.703125 58.203125 \nQ 46.6875 61.1875 50.78125 61.1875 \nQ 53.171875 61.1875 55.421875 60.015625 \nQ 58.40625 61.421875 59.1875 65.921875 \nL 66.21875 65.921875 \nQ 64.890625 60.296875 59.515625 56.203125 \nQ 60.9375 53.421875 60.890625 51.125 \nL 60.890625 0 \nL 54.203125 0 \nL 38.921875 29.78125 \nL 23.578125 0 \nL 17.28125 0 \nL 17.28125 42.09375 \nQ 15.28125 40.96875 12.703125 41.015625 \nQ 8.59375 41.015625 5.59375 44.015625 \nQ 2.59375 47.015625 2.59375 51.125 \nz\nM 7.515625 51.125 \nQ 7.515625 49.03125 9.046875 47.46875 \nQ 10.59375 45.90625 12.703125 45.90625 \nQ 14.796875 45.90625 16.359375 47.46875 \nQ 17.921875 49.03125 17.921875 51.125 \nQ 17.921875 53.21875 16.359375 54.75 \nQ 14.796875 56.296875 12.703125 56.296875 \nQ 10.59375 56.296875 9.046875 54.75 \nQ 7.515625 53.21875 7.515625 51.125 \nz\nM 45.609375 51.125 \nQ 45.609375 49.03125 47.140625 47.46875 \nQ 48.6875 45.90625 50.78125 45.90625 \nQ 52.875 45.90625 54.4375 47.46875 \nQ 56 49.03125 56 51.125 \nQ 56 53.21875 54.4375 54.75 \nQ 52.875 56.296875 50.78125 56.296875 \nQ 48.6875 56.296875 47.140625 54.75 \nQ 45.609375 53.21875 45.609375 51.125 \nz\n\" id=\"THSarabunNew-3628\"/>\n       </defs>\n       <use xlink:href=\"#THSarabunNew-3585\"/>\n       <use x=\"58.984375\" xlink:href=\"#THSarabunNew-3637\"/>\n       <use x=\"58.984375\" xlink:href=\"#THSarabunNew-3628\"/>\n       <use x=\"128.369141\" xlink:href=\"#THSarabunNew-3634\"/>\n      </g>\n     </g>\n    </g>\n    <g id=\"xtick_5\">\n     <g id=\"line2d_5\">\n      <g>\n       <use style=\"stroke:#000000;stroke-width:0.8;\" x=\"354.119591\" xlink:href=\"#m3b754f5f15\" y=\"170.28\"/>\n      </g>\n     </g>\n     <g id=\"text_5\">\n      <!-- เศรษฐกิจ -->\n      <g transform=\"translate(350.750841 214.7425)rotate(-90)scale(0.1 -0.1)\">\n       <defs>\n        <path d=\"M 2.59375 51.125 \nQ 2.59375 55.21875 5.59375 58.203125 \nQ 8.59375 61.1875 12.703125 61.1875 \nQ 16.796875 61.1875 19.796875 58.171875 \nQ 22.796875 55.171875 22.796875 51.125 \nL 22.796875 13.484375 \nQ 22.796875 3.765625 37.796875 3.8125 \nQ 52.875 3.8125 52.875 13.484375 \nL 52.875 24.609375 \nQ 48.296875 23.640625 45.40625 23.578125 \nQ 38.421875 23.578125 33.203125 27.390625 \nQ 27.984375 31.203125 27.984375 36.71875 \nQ 27.984375 40.234375 30.4375 42.625 \nQ 32.90625 45.015625 36.28125 45.015625 \nQ 39.796875 45.015625 42.234375 42.59375 \nQ 44.671875 40.1875 44.671875 36.71875 \nQ 44.671875 31.390625 39.3125 28.90625 \nQ 41.21875 27.78125 45.40625 27.78125 \nQ 49.609375 27.78125 52.875 29.390625 \nL 52.875 60.015625 \nL 58.40625 60.015625 \nL 58.40625 32.421875 \nQ 62.109375 35.203125 64.40625 39.5 \nL 67.828125 36.625 \nQ 65.625 32.421875 58.40625 26.8125 \nL 58.40625 12.984375 \nQ 58.40625 -1.21875 37.890625 -1.21875 \nQ 17.28125 -1.21875 17.28125 12.984375 \nL 17.28125 42.09375 \nQ 15.28125 40.96875 12.703125 41.015625 \nQ 8.59375 41.015625 5.59375 44.015625 \nQ 2.59375 47.015625 2.59375 51.125 \nz\nM 7.515625 51.125 \nQ 7.515625 49.03125 9.046875 47.46875 \nQ 10.59375 45.90625 12.703125 45.90625 \nQ 14.796875 45.90625 16.359375 47.46875 \nQ 17.921875 49.03125 17.921875 51.125 \nQ 17.921875 53.21875 16.359375 54.75 \nQ 14.796875 56.296875 12.703125 56.296875 \nQ 10.59375 56.296875 9.046875 54.75 \nQ 7.515625 53.21875 7.515625 51.125 \nz\nM 32.078125 36.71875 \nQ 32.078125 35.015625 33.34375 33.8125 \nQ 34.625 32.625 36.28125 32.625 \nQ 37.890625 32.625 39.1875 33.8125 \nQ 40.484375 35.015625 40.484375 36.71875 \nQ 40.484375 38.421875 39.1875 39.71875 \nQ 37.890625 41.015625 36.28125 41.015625 \nQ 34.578125 41.015625 33.328125 39.71875 \nQ 32.078125 38.421875 32.078125 36.71875 \nz\n\" id=\"THSarabunNew-3625\"/>\n        <path d=\"M -2.09375 -24.90625 \nQ -2.09375 -21.296875 0.953125 -19.28125 \nQ 4 -17.28125 8.109375 -17.28125 \nQ 11.625 -17.28125 13.484375 -18.109375 \nQ 14.359375 -11.8125 20.21875 -8.6875 \nL 24.3125 -10.984375 \nQ 18.109375 -14.0625 17.921875 -20.015625 \nL 24.609375 -27.78125 \nL 31.203125 -24.515625 \nL 38.625 -29.109375 \nL 38.625 -22.21875 \nQ 37.84375 -22.3125 36.078125 -22.3125 \nQ 32.859375 -22.3125 30.59375 -20.265625 \nQ 28.328125 -18.21875 28.328125 -15.28125 \nQ 28.328125 -12.40625 30.609375 -10.34375 \nQ 32.90625 -8.296875 36.078125 -8.296875 \nQ 39.15625 -8.296875 41.46875 -10.203125 \nQ 43.796875 -12.109375 43.796875 -15.28125 \nL 43.796875 -33.015625 \nL 37.796875 -33.015625 \nL 31.203125 -28.90625 \nL 24.515625 -32.90625 \nL 17.578125 -24.515625 \nQ 17.390625 -28.8125 14.5 -31.25 \nQ 11.625 -33.6875 7.625 -33.6875 \nQ -2.09375 -33.5 -2.09375 -24.90625 \nz\nM 2.59375 -25.390625 \nQ 2.59375 -29.390625 7.328125 -29.390625 \nQ 13.234375 -29.390625 13.1875 -24.515625 \nQ 13.1875 -23.734375 12.890625 -22.515625 \nQ 11.28125 -21.390625 7.625 -21.390625 \nQ 2.59375 -21.6875 2.59375 -25.390625 \nz\nM 4 44.828125 \nQ 4.390625 51.90625 9.296875 56.546875 \nQ 14.203125 61.1875 22.3125 61.1875 \nQ 25.640625 61.1875 31 59.5 \nQ 36.375 57.8125 39.3125 57.8125 \nQ 43.015625 57.8125 43.796875 61.1875 \nL 48.484375 60.109375 \nQ 46.09375 52.203125 39.59375 52.203125 \nQ 36.28125 52.203125 30.390625 54 \nQ 24.515625 55.8125 21.390625 55.8125 \nQ 17.875 55.8125 14.578125 53.75 \nQ 11.28125 51.703125 10.984375 49.03125 \nQ 26.265625 45.953125 32.71875 43.5 \nQ 43.3125 39.59375 43.3125 34.28125 \nL 43.3125 12.109375 \nQ 43.3125 -1.375 31.109375 -1.421875 \nQ 19 -1.421875 19 12.109375 \nL 19 19.921875 \nQ 17.28125 19.34375 15.09375 19.28125 \nQ 11.28125 19.28125 8.6875 21.796875 \nQ 6.109375 24.3125 6.109375 28.21875 \nQ 6.109375 32.125 8.6875 34.8125 \nQ 11.28125 37.5 15.09375 37.5 \nQ 19.09375 37.5 21.796875 35.109375 \nQ 24.515625 32.71875 24.515625 28.515625 \nL 24.515625 11.625 \nQ 24.515625 3.71875 31.109375 3.71875 \nQ 37.796875 3.71875 37.796875 11.625 \nL 37.796875 33.796875 \nQ 37.796875 37.5 23 41.21875 \nQ 14.109375 43.5 4 44.828125 \nz\nM 11.1875 28.328125 \nQ 11.1875 26.609375 12.328125 25.453125 \nQ 13.484375 24.3125 15.09375 24.3125 \nQ 16.796875 24.3125 18.03125 25.453125 \nQ 19.28125 26.609375 19.28125 28.328125 \nQ 19.28125 30.03125 18.03125 31.21875 \nQ 16.796875 32.421875 15.09375 32.421875 \nQ 13.484375 32.421875 12.328125 31.21875 \nQ 11.1875 30.03125 11.1875 28.328125 \nz\nM 32.421875 -15.28125 \nQ 32.421875 -18.796875 36.078125 -18.796875 \nQ 39.796875 -18.796875 39.796875 -15.28125 \nQ 39.796875 -11.859375 36.078125 -11.921875 \nQ 32.421875 -11.859375 32.421875 -15.28125 \nz\n\" id=\"THSarabunNew-3600\"/>\n        <path d=\"M 3.71875 45.3125 \nQ 4.390625 51.703125 9.625 56 \nQ 15.921875 61.1875 26.21875 61.1875 \nQ 47.609375 61.1875 47.609375 45.125 \nL 47.609375 9.90625 \nQ 47.609375 -1.375 36.71875 -1.421875 \nQ 28.21875 -1.421875 26.90625 7.171875 \nL 24.3125 24.3125 \nQ 22.015625 23 19.09375 23 \nQ 15.28125 23 12.6875 25.609375 \nQ 10.109375 28.21875 10.109375 31.984375 \nQ 10.109375 35.984375 12.6875 38.640625 \nQ 15.28125 41.3125 19.09375 41.3125 \nQ 22.515625 41.3125 25.09375 39.109375 \nQ 27.6875 36.921875 28.328125 33.5 \nL 32.71875 7.515625 \nQ 33.40625 3.71875 37.015625 3.71875 \nQ 42.09375 3.71875 42.09375 9.1875 \nL 42.09375 45.125 \nQ 42.09375 51.125 37.359375 53.65625 \nQ 32.625 56.203125 26.3125 56.203125 \nQ 19.4375 56.203125 14.921875 53.25 \nQ 10.40625 50.296875 9.28125 45.3125 \nz\nM 14.703125 31.984375 \nQ 14.703125 29.984375 15.984375 28.6875 \nQ 17.28125 27.390625 19.28125 27.390625 \nQ 21.296875 27.390625 22.65625 28.6875 \nQ 24.03125 29.984375 24.03125 31.984375 \nQ 24.03125 33.984375 22.65625 35.34375 \nQ 21.296875 36.71875 19.28125 36.71875 \nQ 17.28125 36.71875 15.984375 35.34375 \nQ 14.703125 33.984375 14.703125 31.984375 \nz\n\" id=\"THSarabunNew-3592\"/>\n       </defs>\n       <use xlink:href=\"#THSarabunNew-3648\"/>\n       <use x=\"30.957031\" xlink:href=\"#THSarabunNew-3624\"/>\n       <use x=\"91.015625\" xlink:href=\"#THSarabunNew-3619\"/>\n       <use x=\"140.185547\" xlink:href=\"#THSarabunNew-3625\"/>\n       <use x=\"207.177734\" xlink:href=\"#THSarabunNew-3600\"/>\n       <use x=\"259.570312\" xlink:href=\"#THSarabunNew-3585\"/>\n       <use x=\"318.554688\" xlink:href=\"#THSarabunNew-3636\"/>\n       <use x=\"318.554688\" xlink:href=\"#THSarabunNew-3592\"/>\n      </g>\n     </g>\n    </g>\n    <g id=\"xtick_6\">\n     <g id=\"line2d_6\">\n      <g>\n       <use style=\"stroke:#000000;stroke-width:0.8;\" x=\"422.796514\" xlink:href=\"#m3b754f5f15\" y=\"170.28\"/>\n      </g>\n     </g>\n     <g id=\"text_6\">\n      <!-- การศึกษา -->\n      <g transform=\"translate(420.237139 216.359688)rotate(-90)scale(0.1 -0.1)\">\n       <defs>\n        <path d=\"M -52.78125 75 \nQ -52.59375 82.90625 -46.1875 87.796875 \nQ -40.375 92.28125 -32.328125 92.28125 \nQ -24.03125 92.28125 -18.109375 88.28125 \nQ -18.5 89.5 -18.5 90.71875 \nQ -18.5 93.796875 -16.296875 95.984375 \nQ -14.109375 98.1875 -10.984375 98.1875 \nQ -8.015625 98.1875 -5.765625 95.984375 \nQ -3.515625 93.796875 -3.515625 90.71875 \nQ -3.515625 87.75 -5.765625 85.46875 \nQ -8.015625 83.203125 -10.984375 83.203125 \nQ -11.765625 83.203125 -12.984375 83.5 \nQ -9.1875 78.171875 -7.625 69.578125 \nQ -25.203125 75.875 -40.71875 75.875 \nQ -46.1875 75.875 -52.78125 75 \nz\nM -46.484375 79.6875 \nQ -43.265625 80.171875 -39.3125 80.171875 \nQ -24.609375 80.171875 -13.625 75.390625 \nQ -20.3125 87.796875 -32.078125 87.796875 \nQ -42.78125 87.796875 -46.484375 79.6875 \nz\nM -14.984375 90.71875 \nQ -14.984375 89.015625 -13.84375 87.90625 \nQ -12.703125 86.8125 -10.984375 86.8125 \nQ -9.28125 86.8125 -8.125 87.90625 \nQ -6.984375 89.015625 -6.984375 90.71875 \nQ -6.984375 92.4375 -8.125 93.546875 \nQ -9.28125 94.671875 -10.984375 94.671875 \nQ -12.703125 94.671875 -13.84375 93.546875 \nQ -14.984375 92.4375 -14.984375 90.71875 \nz\n\" id=\"THSarabunNew-3638\"/>\n       </defs>\n       <use xlink:href=\"#THSarabunNew-3585\"/>\n       <use x=\"58.984375\" xlink:href=\"#THSarabunNew-3634\"/>\n       <use x=\"107.275391\" xlink:href=\"#THSarabunNew-3619\"/>\n       <use x=\"156.445312\" xlink:href=\"#THSarabunNew-3624\"/>\n       <use x=\"216.503906\" xlink:href=\"#THSarabunNew-3638\"/>\n       <use x=\"216.503906\" xlink:href=\"#THSarabunNew-3585\"/>\n       <use x=\"275.488281\" xlink:href=\"#THSarabunNew-3625\"/>\n       <use x=\"342.480469\" xlink:href=\"#THSarabunNew-3634\"/>\n      </g>\n     </g>\n    </g>\n    <g id=\"xtick_7\">\n     <g id=\"line2d_7\">\n      <g>\n       <use style=\"stroke:#000000;stroke-width:0.8;\" x=\"491.473438\" xlink:href=\"#m3b754f5f15\" y=\"170.28\"/>\n      </g>\n     </g>\n     <g id=\"text_7\">\n      <!-- ในประเทศ -->\n      <g transform=\"translate(488.914063 219.975313)rotate(-90)scale(0.1 -0.1)\">\n       <defs>\n        <path d=\"M -6.390625 85.6875 \nQ -6.390625 92 -2 96.234375 \nQ 2.390625 100.484375 9.90625 100.484375 \nQ 15.53125 100.484375 19.875 97.046875 \nQ 24.21875 93.609375 24.21875 88.28125 \nQ 24.21875 85.0625 21.796875 79.375 \nQ 19.390625 73.6875 19.390625 70.703125 \nL 19.390625 18.21875 \nQ 21.578125 19.4375 24.515625 19.390625 \nQ 28.609375 19.390625 31.65625 16.4375 \nQ 34.71875 13.484375 34.71875 9.1875 \nQ 34.71875 4.890625 31.65625 1.828125 \nQ 28.609375 -1.21875 24.515625 -1.21875 \nQ 19.625 -1.21875 16.5 2.09375 \nQ 13.921875 4.984375 13.921875 9.1875 \nL 13.921875 71.78125 \nQ 13.921875 74.359375 15.28125 77.6875 \nQ 18.5 85.5 18.5 87.40625 \nQ 18.5 91.21875 15.890625 93.65625 \nQ 13.28125 96.09375 9.515625 96.09375 \nQ 3.8125 96.09375 0.78125 92.578125 \nQ 4.890625 93.171875 7.640625 90.71875 \nQ 10.40625 88.28125 10.40625 84.28125 \nQ 10.40625 80.765625 7.953125 78.3125 \nQ 5.515625 75.875 2.09375 75.875 \nQ -1.21875 75.875 -3.796875 78.34375 \nQ -6.390625 80.8125 -6.390625 85.6875 \nz\nM -2.296875 84.28125 \nQ -2.296875 82.5625 -1.140625 81.265625 \nQ 0 79.984375 2 79.984375 \nQ 4 79.984375 5.140625 81.296875 \nQ 6.296875 82.625 6.296875 84.28125 \nQ 6.296875 85.984375 5.140625 87.296875 \nQ 4 88.625 2 88.625 \nQ 0 88.625 -1.140625 87.296875 \nQ -2.296875 85.984375 -2.296875 84.28125 \nz\nM 19.28125 9.1875 \nQ 19.28125 6.984375 20.75 5.484375 \nQ 22.21875 4 24.3125 4 \nQ 26.515625 4 28.09375 5.484375 \nQ 29.6875 6.984375 29.6875 9.1875 \nQ 29.6875 11.28125 28.09375 12.84375 \nQ 26.515625 14.40625 24.3125 14.40625 \nQ 22.3125 14.40625 20.796875 12.84375 \nQ 19.28125 11.28125 19.28125 9.1875 \nz\n\" id=\"THSarabunNew-3651\"/>\n       </defs>\n       <use xlink:href=\"#THSarabunNew-3651\"/>\n       <use x=\"36.962891\" xlink:href=\"#THSarabunNew-3609\"/>\n       <use x=\"101.123047\" xlink:href=\"#THSarabunNew-3611\"/>\n       <use x=\"166.503906\" xlink:href=\"#THSarabunNew-3619\"/>\n       <use x=\"215.673828\" xlink:href=\"#THSarabunNew-3632\"/>\n       <use x=\"270.263672\" xlink:href=\"#THSarabunNew-3648\"/>\n       <use x=\"301.220703\" xlink:href=\"#THSarabunNew-3607\"/>\n       <use x=\"366.894531\" xlink:href=\"#THSarabunNew-3624\"/>\n      </g>\n     </g>\n    </g>\n    <g id=\"xtick_8\">\n     <g id=\"line2d_8\">\n      <g>\n       <use style=\"stroke:#000000;stroke-width:0.8;\" x=\"560.150361\" xlink:href=\"#m3b754f5f15\" y=\"170.28\"/>\n      </g>\n     </g>\n     <g id=\"text_8\">\n      <!-- เทคโนโลยี -->\n      <g transform=\"translate(557.590986 218.145625)rotate(-90)scale(0.1 -0.1)\">\n       <defs>\n        <path d=\"M 4.984375 39.015625 \nQ 4.984375 49.03125 11.734375 55.109375 \nQ 18.5 61.1875 28.609375 61.1875 \nQ 37.890625 61.1875 44.75 56.25 \nQ 51.609375 51.3125 51.609375 41.609375 \nL 51.609375 0 \nL 46.09375 0 \nL 46.09375 41.21875 \nQ 46.09375 48.53125 40.640625 52.40625 \nQ 35.203125 56.296875 28.328125 56.296875 \nQ 21.34375 56.296875 16.015625 51.484375 \nQ 10.6875 46.6875 10.6875 39.59375 \nQ 10.6875 36.28125 11.921875 31.5 \nQ 13.625 24.8125 13.8125 23.875 \nQ 15.140625 32.5625 18.5 38.71875 \nQ 23 46.734375 29.6875 46.6875 \nQ 33.5 46.6875 35.9375 44.234375 \nQ 38.375 41.796875 38.375 37.59375 \nQ 38.375 33.796875 35.78125 31.15625 \nQ 33.203125 28.515625 29.390625 28.515625 \nQ 25.390625 28.515625 22.3125 32.078125 \nQ 20.21875 28.859375 18.109375 23 \nQ 15.53125 15.578125 15.484375 9.90625 \nL 15.484375 0 \nL 9.90625 0 \nL 9.90625 14.109375 \nQ 9.90625 18.5 7.4375 26.609375 \nQ 4.984375 34.71875 4.984375 39.015625 \nz\nM 24.609375 37.59375 \nQ 24.609375 35.59375 26 34.25 \nQ 27.390625 32.90625 29.390625 32.90625 \nQ 31.390625 32.90625 32.734375 34.25 \nQ 34.078125 35.59375 34.078125 37.59375 \nQ 34.078125 39.59375 32.734375 40.984375 \nQ 31.390625 42.390625 29.390625 42.390625 \nQ 27.390625 42.390625 26 40.984375 \nQ 24.609375 39.59375 24.609375 37.59375 \nz\n\" id=\"THSarabunNew-3588\"/>\n        <path d=\"M -6 85.203125 \nQ -5.21875 99.609375 8.109375 99.609375 \nQ 10.59375 99.609375 16.078125 97.265625 \nQ 21.578125 94.921875 23.390625 94.921875 \nQ 26.171875 94.921875 26.8125 98.6875 \nL 31.390625 97.515625 \nQ 29.203125 89.796875 24.21875 89.796875 \nQ 21.734375 89.796875 16.015625 92.359375 \nQ 10.296875 94.921875 7.625 94.921875 \nQ 0.921875 94.921875 0.484375 89.203125 \nQ 18.703125 83.796875 18.703125 72.21875 \nL 18.703125 18.21875 \nQ 20.796875 19.4375 23.578125 19.390625 \nQ 27.78125 19.390625 30.875 16.4375 \nQ 33.984375 13.484375 33.984375 9.1875 \nQ 33.984375 4.890625 30.875 1.828125 \nQ 27.78125 -1.21875 23.578125 -1.21875 \nQ 18.703125 -1.21875 15.828125 2.09375 \nQ 13.234375 4.984375 13.1875 9.1875 \nL 13.1875 72.796875 \nQ 13.1875 77.09375 6.59375 81.09375 \nQ 0 85.109375 -6 85.203125 \nz\nM 18.5 9.1875 \nQ 18.5 6.984375 19.9375 5.484375 \nQ 21.390625 4 23.578125 4 \nQ 25.6875 4 27.296875 5.484375 \nQ 28.90625 6.984375 28.90625 9.1875 \nQ 28.90625 11.28125 27.296875 12.84375 \nQ 25.6875 14.40625 23.578125 14.40625 \nQ 21.578125 14.40625 20.03125 12.84375 \nQ 18.5 11.28125 18.5 9.1875 \nz\n\" id=\"THSarabunNew-3650\"/>\n        <path d=\"M 3.21875 45.3125 \nQ 4.34375 52.296875 11.53125 56.890625 \nQ 18.21875 61.1875 26.90625 61.1875 \nQ 35.796875 61.1875 42.1875 57.078125 \nQ 49.703125 52.203125 49.703125 43.796875 \nL 49.703125 0 \nL 44.1875 0 \nL 44.1875 26.21875 \nQ 44.1875 31.546875 38.625 34.71875 \nQ 33.84375 37.3125 27.484375 37.3125 \nQ 21.390625 37.3125 17.140625 34.0625 \nQ 12.890625 30.8125 12.890625 25.59375 \nL 12.890625 17.921875 \nQ 14.984375 19.046875 17.921875 19 \nQ 22.21875 19 25.09375 15.984375 \nQ 27.984375 12.984375 27.984375 8.890625 \nQ 27.984375 4.6875 25.09375 1.734375 \nQ 22.21875 -1.21875 17.921875 -1.21875 \nQ 13.234375 -1.21875 10.28125 1.828125 \nQ 7.328125 4.890625 7.328125 8.984375 \nL 7.328125 25.59375 \nQ 7.328125 33.203125 13.484375 38.09375 \nQ 19.09375 42.671875 27.09375 42.671875 \nQ 37.796875 42.671875 44.1875 36.625 \nL 44.1875 44.09375 \nQ 44.1875 49.609375 38.375 53.21875 \nQ 33.40625 56.296875 27.203125 56.296875 \nQ 20.796875 56.296875 15.578125 53.609375 \nQ 9.859375 50.53125 8.59375 45.3125 \nz\nM 12.703125 8.6875 \nQ 12.703125 6.59375 14.140625 5.15625 \nQ 15.578125 3.71875 17.671875 3.71875 \nQ 19.875 3.71875 21.4375 5.15625 \nQ 23 6.59375 23 8.6875 \nQ 23 10.890625 21.453125 12.40625 \nQ 19.921875 13.921875 17.671875 13.921875 \nQ 15.578125 13.921875 14.140625 12.40625 \nQ 12.703125 10.890625 12.703125 8.6875 \nz\n\" id=\"THSarabunNew-3621\"/>\n        <path d=\"M 6.390625 47.703125 \nQ 6.390625 53.71875 9.828125 57.453125 \nQ 13.28125 61.1875 19.390625 61.1875 \nQ 23.296875 61.1875 25.75 58.59375 \nQ 28.21875 56 28.21875 52.484375 \nQ 28.21875 48.96875 25.890625 46.421875 \nQ 23.578125 43.890625 19.390625 43.890625 \nQ 13.765625 43.890625 11.53125 49.03125 \nQ 11.328125 48.53125 11.28125 46.484375 \nQ 11.28125 42.1875 13.984375 38.6875 \nQ 16.703125 35.203125 21 35.203125 \nL 29.6875 35.203125 \nL 29.6875 29.984375 \nL 20.796875 29.984375 \nQ 17.390625 29.984375 15.140625 27.53125 \nQ 12.890625 25.09375 12.890625 21.09375 \nL 12.890625 14.109375 \nQ 12.890625 3.8125 28.21875 3.8125 \nQ 43.3125 3.8125 43.3125 14.109375 \nL 43.3125 60.015625 \nL 48.78125 60.015625 \nL 48.78125 13.625 \nQ 48.78125 -1.171875 28.21875 -1.21875 \nQ 7.328125 -1.21875 7.328125 13.625 \nL 7.328125 21.390625 \nQ 7.328125 24.90625 9.421875 28.140625 \nQ 11.53125 31.390625 14.5 32.625 \nQ 6.390625 36.078125 6.390625 47.703125 \nz\nM 14.5 52.484375 \nQ 14.5 47.703125 19.28125 47.703125 \nQ 21.390625 47.703125 22.796875 49 \nQ 24.21875 50.296875 24.21875 52.484375 \nQ 24.21875 54.59375 22.796875 56 \nQ 21.390625 57.421875 19.28125 57.421875 \nQ 17.09375 57.421875 15.796875 56 \nQ 14.5 54.59375 14.5 52.484375 \nz\n\" id=\"THSarabunNew-3618\"/>\n       </defs>\n       <use xlink:href=\"#THSarabunNew-3648\"/>\n       <use x=\"30.957031\" xlink:href=\"#THSarabunNew-3607\"/>\n       <use x=\"96.630859\" xlink:href=\"#THSarabunNew-3588\"/>\n       <use x=\"156.689453\" xlink:href=\"#THSarabunNew-3650\"/>\n       <use x=\"192.871094\" xlink:href=\"#THSarabunNew-3609\"/>\n       <use x=\"257.03125\" xlink:href=\"#THSarabunNew-3650\"/>\n       <use x=\"293.212891\" xlink:href=\"#THSarabunNew-3621\"/>\n       <use x=\"351.367188\" xlink:href=\"#THSarabunNew-3618\"/>\n       <use x=\"408.642578\" xlink:href=\"#THSarabunNew-3637\"/>\n      </g>\n     </g>\n    </g>\n    <g id=\"xtick_9\">\n     <g id=\"line2d_9\">\n      <g>\n       <use style=\"stroke:#000000;stroke-width:0.8;\" x=\"628.827284\" xlink:href=\"#m3b754f5f15\" y=\"170.28\"/>\n      </g>\n     </g>\n     <g id=\"text_9\">\n      <!-- สังคม -->\n      <g transform=\"translate(626.267909 199.708125)rotate(-90)scale(0.1 -0.1)\">\n       <defs>\n        <path d=\"M 3.21875 45.3125 \nQ 4.34375 52.296875 11.53125 56.890625 \nQ 18.21875 61.1875 26.90625 61.1875 \nQ 35.59375 61.1875 42.671875 56.78125 \nQ 45.90625 60.40625 46.78125 65.28125 \nL 52.296875 65.28125 \nQ 51.3125 59.1875 46.484375 53.21875 \nQ 49.703125 49.125 49.703125 43.796875 \nL 49.703125 0 \nL 44.1875 0 \nL 44.1875 24.90625 \nQ 44.1875 30.328125 38.625 33.5 \nQ 33.84375 36.078125 27.484375 36.078125 \nQ 21.390625 36.078125 17.140625 32.78125 \nQ 12.890625 29.5 12.890625 24.3125 \nL 12.890625 17.921875 \nQ 14.984375 19.046875 17.921875 19 \nQ 22.21875 19 25.09375 15.984375 \nQ 27.984375 12.984375 27.984375 8.890625 \nQ 27.984375 4.6875 25.09375 1.734375 \nQ 22.21875 -1.21875 17.921875 -1.21875 \nQ 13.234375 -1.21875 10.28125 1.828125 \nQ 7.328125 4.890625 7.328125 8.984375 \nL 7.328125 24.3125 \nQ 7.328125 32.03125 13.484375 36.921875 \nQ 19.09375 41.5 27.09375 41.5 \nL 27.984375 41.5 \nQ 34.859375 47.125 39.59375 52.484375 \nQ 33.984375 56.296875 27.203125 56.296875 \nQ 20.796875 56.296875 15.578125 53.609375 \nQ 9.859375 50.53125 8.59375 45.3125 \nz\nM 12.703125 8.6875 \nQ 12.703125 6.59375 14.140625 5.15625 \nQ 15.578125 3.71875 17.671875 3.71875 \nQ 19.875 3.71875 21.4375 5.15625 \nQ 23 6.59375 23 8.6875 \nQ 23 10.890625 21.453125 12.40625 \nQ 19.921875 13.921875 17.671875 13.921875 \nQ 15.578125 13.921875 14.140625 12.40625 \nQ 12.703125 10.890625 12.703125 8.6875 \nz\nM 33.6875 40.71875 \nQ 40.09375 39.203125 44.1875 35.296875 \nL 44.1875 44.09375 \nQ 44.1875 46.1875 42.828125 49.03125 \nQ 38.578125 44.4375 33.6875 40.71875 \nz\n\" id=\"THSarabunNew-3626\"/>\n       </defs>\n       <use xlink:href=\"#THSarabunNew-3626\"/>\n       <use x=\"58.154297\" xlink:href=\"#THSarabunNew-3633\"/>\n       <use x=\"58.154297\" xlink:href=\"#THSarabunNew-3591\"/>\n       <use x=\"103.027344\" xlink:href=\"#THSarabunNew-3588\"/>\n       <use x=\"163.085938\" xlink:href=\"#THSarabunNew-3617\"/>\n      </g>\n     </g>\n    </g>\n    <g id=\"xtick_10\">\n     <g id=\"line2d_10\">\n      <g>\n       <use style=\"stroke:#000000;stroke-width:0.8;\" x=\"697.504207\" xlink:href=\"#m3b754f5f15\" y=\"170.28\"/>\n      </g>\n     </g>\n     <g id=\"text_10\">\n      <!-- ไลฟ์สไตล์ -->\n      <g transform=\"translate(694.944832 214.98)rotate(-90)scale(0.1 -0.1)\">\n       <defs>\n        <path d=\"M -5.421875 101.703125 \nL -0.59375 101.703125 \nQ 1.8125 88.421875 2.296875 81.6875 \nL 14.796875 100.203125 \nQ 16.796875 100.09375 18.234375 98.390625 \nQ 19.671875 96.6875 19.671875 94.921875 \nL 19.671875 18.21875 \nQ 21.875 19.4375 24.8125 19.390625 \nQ 28.90625 19.390625 31.953125 16.4375 \nQ 35.015625 13.484375 35.015625 9.1875 \nQ 35.015625 4.890625 31.953125 1.828125 \nQ 28.90625 -1.21875 24.8125 -1.21875 \nQ 19.921875 -1.21875 16.796875 2.09375 \nQ 14.203125 4.984375 14.203125 9.1875 \nL 14.203125 92 \nL 3.21875 75.984375 \nL -1.8125 77.875 \nQ -2.640625 88.09375 -5.421875 101.703125 \nz\nM 19.390625 9.1875 \nQ 19.390625 6.984375 20.953125 5.484375 \nQ 22.515625 4 24.609375 4 \nQ 26.8125 4 28.296875 5.484375 \nQ 29.78125 6.984375 29.78125 9.1875 \nQ 29.78125 11.28125 28.296875 12.84375 \nQ 26.8125 14.40625 24.609375 14.40625 \nQ 22.515625 14.40625 20.953125 12.84375 \nQ 19.390625 11.28125 19.390625 9.1875 \nz\n\" id=\"THSarabunNew-3652\"/>\n        <path d=\"M 2.59375 51.125 \nQ 2.59375 55.21875 5.59375 58.203125 \nQ 8.59375 61.1875 12.703125 61.1875 \nQ 16.796875 61.1875 19.796875 58.171875 \nQ 22.796875 55.171875 22.796875 51.125 \nL 22.796875 19.09375 \nQ 22.796875 15.28125 22.015625 8.40625 \nQ 23.140625 13.484375 24.8125 19.578125 \nL 35.984375 60.015625 \nL 41.21875 60.015625 \nL 52.296875 19.578125 \nQ 54 13.484375 55.078125 8.40625 \nQ 54.296875 15.28125 54.296875 19.09375 \nL 54.296875 85.5 \nL 59.8125 85.5 \nL 59.8125 0 \nL 53.078125 0 \nL 38.625 53.078125 \nL 24.03125 0 \nL 17.28125 0 \nL 17.28125 42.09375 \nQ 15.28125 40.96875 12.703125 41.015625 \nQ 8.59375 41.015625 5.59375 44.015625 \nQ 2.59375 47.015625 2.59375 51.125 \nz\nM 7.515625 51.125 \nQ 7.515625 49.03125 9.046875 47.46875 \nQ 10.59375 45.90625 12.703125 45.90625 \nQ 14.796875 45.90625 16.359375 47.46875 \nQ 17.921875 49.03125 17.921875 51.125 \nQ 17.921875 53.21875 16.359375 54.75 \nQ 14.796875 56.296875 12.703125 56.296875 \nQ 10.59375 56.296875 9.046875 54.75 \nQ 7.515625 53.21875 7.515625 51.125 \nz\n\" id=\"THSarabunNew-3615\"/>\n        <path d=\"M -27.203125 104.203125 \nQ -27.203125 114.3125 -16.796875 117.1875 \nL -10.109375 119.1875 \nQ -6.390625 120.40625 -6.390625 123.484375 \nL -1.703125 123.484375 \nQ -2.09375 118.609375 -6.59375 116.40625 \nQ -8.984375 115.09375 -13.484375 114.109375 \nQ -17.671875 113.421875 -18.796875 112.109375 \nQ -15.578125 111.8125 -13.421875 109.609375 \nQ -11.28125 107.421875 -11.28125 104.203125 \nQ -11.28125 100.78125 -13.59375 98.578125 \nQ -15.921875 96.390625 -19.09375 96.390625 \nQ -22.515625 96.390625 -24.859375 98.578125 \nQ -27.203125 100.78125 -27.203125 104.203125 \nz\nM -23 104 \nQ -23 102.484375 -21.84375 101.28125 \nQ -20.703125 100.09375 -19 100.09375 \nQ -17.390625 100.09375 -16.234375 101.28125 \nQ -15.09375 102.484375 -15.09375 104 \nQ -15.09375 105.609375 -16.234375 106.8125 \nQ -17.390625 108.015625 -19 108.015625 \nQ -20.703125 108.015625 -21.84375 106.8125 \nQ -23 105.609375 -23 104 \nz\n\" id=\"THSarabunNew-3660\"/>\n       </defs>\n       <use xlink:href=\"#THSarabunNew-3652\"/>\n       <use x=\"37.255859\" xlink:href=\"#THSarabunNew-3621\"/>\n       <use x=\"95.410156\" xlink:href=\"#THSarabunNew-3615\"/>\n       <use x=\"163.671875\" xlink:href=\"#THSarabunNew-3660\"/>\n       <use x=\"163.671875\" xlink:href=\"#THSarabunNew-3626\"/>\n       <use x=\"221.826172\" xlink:href=\"#THSarabunNew-3652\"/>\n       <use x=\"259.082031\" xlink:href=\"#THSarabunNew-3605\"/>\n       <use x=\"318.847656\" xlink:href=\"#THSarabunNew-3621\"/>\n       <use x=\"377.001953\" xlink:href=\"#THSarabunNew-3660\"/>\n      </g>\n     </g>\n    </g>\n    <g id=\"xtick_11\">\n     <g id=\"line2d_11\">\n      <g>\n       <use style=\"stroke:#000000;stroke-width:0.8;\" x=\"766.18113\" xlink:href=\"#m3b754f5f15\" y=\"170.28\"/>\n      </g>\n     </g>\n     <g id=\"text_11\">\n      <!-- ภาพยนตร์ -->\n      <g transform=\"translate(763.621755 218.472188)rotate(-90)scale(0.1 -0.1)\">\n       <defs>\n        <path d=\"M 3.71875 8.6875 \nQ 3.71875 12.890625 6.609375 15.84375 \nQ 9.515625 18.796875 13.625 18.796875 \nQ 15.328125 18.796875 17.28125 18.109375 \nQ 16.40625 25.09375 16.40625 28.8125 \nQ 16.40625 35.796875 22.515625 39.796875 \nQ 18.40625 41.609375 14.40625 41.609375 \nQ 12.40625 41.609375 11.53125 41.5 \nQ 12.203125 50 18.890625 55.59375 \nQ 25.59375 61.1875 34.421875 61.1875 \nQ 44.234375 61.1875 50.359375 55.59375 \nQ 56.5 50 56.5 40.375 \nL 56.5 0 \nL 50.875 0 \nL 50.875 39.796875 \nQ 50.875 47.3125 46.234375 51.796875 \nQ 41.609375 56.296875 34.28125 56.296875 \nQ 29.109375 56.296875 24.25 53.296875 \nQ 19.390625 50.296875 17.578125 45.703125 \nQ 25.6875 45.015625 29.984375 39.015625 \nQ 21.6875 36.328125 21.6875 27.78125 \nQ 21.6875 21.875 23.09375 15.578125 \nQ 23.6875 12.890625 23.6875 9.1875 \nQ 23.6875 4.6875 21.046875 1.734375 \nQ 18.40625 -1.21875 13.625 -1.21875 \nQ 9.515625 -1.21875 6.609375 1.6875 \nQ 3.71875 4.59375 3.71875 8.6875 \nz\nM 8.59375 8.6875 \nQ 8.59375 6.59375 10.0625 5.15625 \nQ 11.53125 3.71875 13.625 3.71875 \nQ 15.828125 3.71875 17.3125 5.15625 \nQ 18.796875 6.59375 18.796875 8.6875 \nQ 18.796875 10.890625 17.3125 12.40625 \nQ 15.828125 13.921875 13.625 13.921875 \nQ 11.53125 13.921875 10.0625 12.40625 \nQ 8.59375 10.890625 8.59375 8.6875 \nz\n\" id=\"THSarabunNew-3616\"/>\n        <path d=\"M 2.59375 51.125 \nQ 2.59375 55.21875 5.59375 58.203125 \nQ 8.59375 61.1875 12.703125 61.1875 \nQ 16.796875 61.1875 19.796875 58.171875 \nQ 22.796875 55.171875 22.796875 51.125 \nL 22.796875 19.09375 \nQ 22.796875 15.28125 22.015625 8.40625 \nQ 23.140625 13.484375 24.8125 19.578125 \nL 35.984375 60.015625 \nL 41.21875 60.015625 \nL 52.296875 19.578125 \nQ 54 13.484375 55.078125 8.40625 \nQ 54.296875 15.28125 54.296875 19.09375 \nL 54.296875 60.015625 \nL 59.8125 60.015625 \nL 59.8125 0 \nL 53.078125 0 \nL 38.625 53.078125 \nL 24.03125 0 \nL 17.28125 0 \nL 17.28125 42.09375 \nQ 15.28125 40.96875 12.703125 41.015625 \nQ 8.59375 41.015625 5.59375 44.015625 \nQ 2.59375 47.015625 2.59375 51.125 \nz\nM 7.515625 51.125 \nQ 7.515625 49.03125 9.046875 47.46875 \nQ 10.59375 45.90625 12.703125 45.90625 \nQ 14.796875 45.90625 16.359375 47.46875 \nQ 17.921875 49.03125 17.921875 51.125 \nQ 17.921875 53.21875 16.359375 54.75 \nQ 14.796875 56.296875 12.703125 56.296875 \nQ 10.59375 56.296875 9.046875 54.75 \nQ 7.515625 53.21875 7.515625 51.125 \nz\n\" id=\"THSarabunNew-3614\"/>\n       </defs>\n       <use xlink:href=\"#THSarabunNew-3616\"/>\n       <use x=\"64.990234\" xlink:href=\"#THSarabunNew-3634\"/>\n       <use x=\"113.28125\" xlink:href=\"#THSarabunNew-3614\"/>\n       <use x=\"181.542969\" xlink:href=\"#THSarabunNew-3618\"/>\n       <use x=\"238.818359\" xlink:href=\"#THSarabunNew-3609\"/>\n       <use x=\"302.978516\" xlink:href=\"#THSarabunNew-3605\"/>\n       <use x=\"362.744141\" xlink:href=\"#THSarabunNew-3619\"/>\n       <use x=\"411.914062\" xlink:href=\"#THSarabunNew-3660\"/>\n      </g>\n     </g>\n    </g>\n    <g id=\"xtick_12\">\n     <g id=\"line2d_12\">\n      <g>\n       <use style=\"stroke:#000000;stroke-width:0.8;\" x=\"834.858053\" xlink:href=\"#m3b754f5f15\" y=\"170.28\"/>\n      </g>\n     </g>\n     <g id=\"text_12\">\n      <!-- คุณภาพชีวิต -->\n      <g transform=\"translate(831.308053 226.63625)rotate(-90)scale(0.1 -0.1)\">\n       <defs>\n        <path d=\"M -24.8125 -15.484375 \nQ -24.8125 -12.0625 -22.40625 -9.6875 \nQ -20.015625 -7.328125 -16.703125 -7.328125 \nQ -13.28125 -7.328125 -10.9375 -9.71875 \nQ -8.59375 -12.109375 -8.59375 -15.484375 \nL -8.59375 -35.5 \nL -13.921875 -35.5 \nL -13.921875 -23.09375 \nQ -15.140625 -23.578125 -16.703125 -23.578125 \nQ -20.015625 -23.578125 -22.40625 -21.1875 \nQ -24.8125 -18.796875 -24.8125 -15.484375 \nz\nM -20.703125 -15.28125 \nQ -20.703125 -17 -19.546875 -18.140625 \nQ -18.40625 -19.28125 -16.703125 -19.28125 \nQ -14.984375 -19.28125 -13.84375 -18.140625 \nQ -12.703125 -17 -12.703125 -15.28125 \nQ -12.703125 -13.578125 -13.84375 -12.421875 \nQ -14.984375 -11.28125 -16.703125 -11.28125 \nQ -18.40625 -11.28125 -19.546875 -12.421875 \nQ -20.703125 -13.578125 -20.703125 -15.28125 \nz\n\" id=\"THSarabunNew-3640\"/>\n        <path d=\"M 4.59375 41.5 \nQ 6 50 12.046875 55.59375 \nQ 18.109375 61.1875 26.515625 61.1875 \nQ 36.03125 61.1875 41.25 55.984375 \nQ 46.484375 50.78125 46.484375 41.21875 \nL 46.484375 7.328125 \nQ 50 11.921875 56.296875 14.796875 \nQ 63.8125 18.5 65.1875 19.578125 \nQ 69 23 69 29.78125 \nL 69 60.015625 \nL 74.515625 60.015625 \nL 74.515625 30.078125 \nQ 74.515625 21 71.578125 18.109375 \nQ 77.6875 15.53125 77.6875 8.59375 \nQ 77.6875 4.296875 74.796875 1.4375 \nQ 71.921875 -1.421875 67.484375 -1.421875 \nQ 63.1875 -1.421875 60.296875 1.4375 \nQ 57.421875 4.296875 57.421875 8.59375 \nL 57.421875 9.515625 \nQ 51.90625 7.328125 47.609375 0 \nL 41.015625 0 \nL 41.015625 40.484375 \nQ 41.015625 56.296875 26.21875 56.296875 \nQ 21.34375 56.296875 17.109375 53.390625 \nQ 12.890625 50.484375 11.1875 45.703125 \nQ 19.671875 45.125 23.390625 39.015625 \nQ 19.671875 38.234375 16.9375 35 \nQ 14.203125 31.78125 14.203125 27.78125 \nL 14.203125 17.921875 \nQ 16.21875 18.796875 18.796875 18.796875 \nQ 23.09375 18.796875 26 15.890625 \nQ 28.90625 12.984375 28.90625 8.890625 \nQ 28.90625 4.390625 26.09375 1.484375 \nQ 23.296875 -1.421875 18.796875 -1.421875 \nQ 14.40625 -1.421875 11.546875 1.578125 \nQ 8.6875 4.59375 8.6875 8.984375 \nL 8.6875 27.6875 \nQ 8.6875 35.984375 16.703125 39.796875 \nQ 10.890625 42.09375 4.59375 41.5 \nz\nM 13.8125 8.6875 \nQ 13.8125 6.59375 15.25 5.15625 \nQ 16.703125 3.71875 18.796875 3.71875 \nQ 21 3.71875 22.515625 5.15625 \nQ 24.03125 6.59375 24.03125 8.6875 \nQ 24.03125 10.890625 22.515625 12.40625 \nQ 21 13.921875 18.796875 13.921875 \nQ 16.703125 13.921875 15.25 12.40625 \nQ 13.8125 10.890625 13.8125 8.6875 \nz\nM 62.3125 8.59375 \nQ 62.3125 6.390625 63.796875 4.90625 \nQ 65.28125 3.421875 67.484375 3.421875 \nQ 69.578125 3.421875 71.140625 4.90625 \nQ 72.703125 6.390625 72.703125 8.59375 \nQ 72.703125 10.6875 71.140625 12.25 \nQ 69.578125 13.8125 67.484375 13.8125 \nQ 65.28125 13.8125 63.796875 12.25 \nQ 62.3125 10.6875 62.3125 8.59375 \nz\n\" id=\"THSarabunNew-3603\"/>\n        <path d=\"M 2.296875 46.78125 \nQ 2.296875 52.484375 6.640625 56.828125 \nQ 10.984375 61.1875 18.796875 61.1875 \nQ 25.59375 61.1875 29.9375 57.84375 \nQ 34.28125 54.5 34.28125 48.6875 \nQ 34.28125 44.1875 30.59375 36.984375 \nQ 26.90625 29.78125 26.90625 26.515625 \nL 26.90625 12.203125 \nQ 26.90625 3.71875 35.5 3.71875 \nQ 44.09375 3.71875 44.09375 12.203125 \nL 44.09375 36.921875 \nQ 44.09375 43.609375 37.5 45.90625 \nQ 37.796875 46.78125 37.796875 49.421875 \nQ 46.1875 52.9375 46.6875 63.625 \nL 52.484375 63.625 \nQ 52 57.8125 49.234375 53.5625 \nQ 46.484375 49.3125 43.609375 47.703125 \nQ 49.609375 45.40625 49.609375 37.5 \nL 49.609375 12.703125 \nQ 49.609375 -1.21875 35.296875 -1.21875 \nQ 21.390625 -1.21875 21.390625 12.703125 \nL 21.390625 27.203125 \nQ 21.390625 31.109375 25.25 37.640625 \nQ 29.109375 44.1875 29.109375 47.90625 \nQ 29.109375 51.421875 26.09375 54.09375 \nQ 23.09375 56.78125 18.796875 56.78125 \nQ 12.109375 56.78125 8.59375 52.296875 \nQ 9.90625 52.875 12.109375 52.875 \nQ 16.109375 52.875 18.59375 50.390625 \nQ 21.09375 47.90625 21.09375 44.09375 \nQ 21.09375 40.09375 18.59375 37.40625 \nQ 16.109375 34.71875 12.109375 34.71875 \nQ 7.328125 34.71875 4.8125 38.25 \nQ 2.296875 41.796875 2.296875 46.78125 \nz\nM 7.171875 43.890625 \nQ 7.171875 41.796875 8.53125 40.40625 \nQ 9.90625 39.015625 12.109375 39.015625 \nQ 14.203125 39.015625 15.59375 40.40625 \nQ 17 41.796875 17 43.890625 \nQ 17 46.09375 15.59375 47.4375 \nQ 14.203125 48.78125 12.109375 48.78125 \nQ 9.90625 48.78125 8.53125 47.4375 \nQ 7.171875 46.09375 7.171875 43.890625 \nz\n\" id=\"THSarabunNew-3594\"/>\n        <path d=\"M 1.515625 45.3125 \nQ 4.9375 61.234375 22.3125 61.1875 \nQ 31.109375 61.1875 36.890625 56.59375 \nQ 42.671875 52 42.671875 43.609375 \nL 42.671875 8.890625 \nQ 42.671875 4.6875 39.6875 1.734375 \nQ 36.71875 -1.21875 32.625 -1.21875 \nQ 28.515625 -1.21875 25.515625 1.734375 \nQ 22.515625 4.6875 22.515625 8.890625 \nQ 22.515625 12.984375 25.515625 15.984375 \nQ 28.515625 19 32.625 19 \nQ 35.203125 19 37.203125 17.921875 \nL 37.203125 42.671875 \nQ 37.203125 56.296875 22.015625 56.296875 \nQ 10.109375 56.296875 7.171875 45.3125 \nz\nM 27.390625 8.890625 \nQ 27.390625 6.6875 28.90625 5.203125 \nQ 30.421875 3.71875 32.625 3.71875 \nQ 34.71875 3.71875 36.25 5.203125 \nQ 37.796875 6.6875 37.796875 8.890625 \nQ 37.796875 10.984375 36.25 12.546875 \nQ 34.71875 14.109375 32.625 14.109375 \nQ 30.421875 14.109375 28.90625 12.546875 \nQ 27.390625 10.984375 27.390625 8.890625 \nz\n\" id=\"THSarabunNew-3623\"/>\n       </defs>\n       <use xlink:href=\"#THSarabunNew-3588\"/>\n       <use x=\"60.058594\" xlink:href=\"#THSarabunNew-3640\"/>\n       <use x=\"60.058594\" xlink:href=\"#THSarabunNew-3603\"/>\n       <use x=\"143.017578\" xlink:href=\"#THSarabunNew-3616\"/>\n       <use x=\"208.007812\" xlink:href=\"#THSarabunNew-3634\"/>\n       <use x=\"256.298828\" xlink:href=\"#THSarabunNew-3614\"/>\n       <use x=\"324.560547\" xlink:href=\"#THSarabunNew-3594\"/>\n       <use x=\"382.617188\" xlink:href=\"#THSarabunNew-3637\"/>\n       <use x=\"382.617188\" xlink:href=\"#THSarabunNew-3623\"/>\n       <use x=\"433.789062\" xlink:href=\"#THSarabunNew-3636\"/>\n       <use x=\"433.789062\" xlink:href=\"#THSarabunNew-3605\"/>\n      </g>\n     </g>\n    </g>\n    <g id=\"xtick_13\">\n     <g id=\"line2d_13\">\n      <g>\n       <use style=\"stroke:#000000;stroke-width:0.8;\" x=\"903.534976\" xlink:href=\"#m3b754f5f15\" y=\"170.28\"/>\n      </g>\n     </g>\n     <g id=\"text_13\">\n      <!-- อาชญากรรม -->\n      <g transform=\"translate(900.913101 228.455)rotate(-90)scale(0.1 -0.1)\">\n       <defs>\n        <path d=\"M 4.59375 41.5 \nQ 6 50 12.046875 55.59375 \nQ 18.109375 61.1875 26.515625 61.1875 \nQ 36.03125 61.1875 41.25 55.984375 \nQ 46.484375 50.78125 46.484375 41.21875 \nL 46.484375 12.203125 \nQ 46.484375 3.71875 56 3.71875 \nQ 65.28125 3.71875 65.28125 12.203125 \nL 65.28125 60.015625 \nL 70.796875 60.015625 \nL 70.796875 12.5 \nQ 70.796875 -1.21875 55.8125 -1.21875 \nQ 41.015625 -1.21875 41.015625 12.703125 \nL 41.015625 40.484375 \nQ 41.015625 56.296875 26.21875 56.296875 \nQ 21.34375 56.296875 17.109375 53.390625 \nQ 12.890625 50.484375 11.1875 45.703125 \nQ 19.671875 45.125 23.390625 39.015625 \nQ 19.671875 38.234375 16.9375 35 \nQ 14.203125 31.78125 14.203125 27.78125 \nL 14.203125 17.921875 \nQ 16.21875 18.796875 18.796875 18.796875 \nQ 23.09375 18.796875 26 15.890625 \nQ 28.90625 12.984375 28.90625 8.890625 \nQ 28.90625 4.6875 26.5625 1.625 \nQ 24.21875 -1.421875 18.796875 -1.421875 \nQ 14.40625 -1.421875 11.546875 1.4375 \nQ 8.6875 4.296875 8.6875 8.984375 \nL 8.6875 27.6875 \nQ 8.6875 35.984375 16.703125 39.796875 \nQ 10.890625 42.09375 4.59375 41.5 \nz\nM 13.8125 8.6875 \nQ 13.8125 6.59375 15.25 5.15625 \nQ 16.703125 3.71875 18.796875 3.71875 \nQ 21 3.71875 22.515625 5.15625 \nQ 24.03125 6.59375 24.03125 8.6875 \nQ 24.03125 10.890625 22.515625 12.40625 \nQ 21 13.921875 18.796875 13.921875 \nQ 16.703125 13.921875 15.25 12.40625 \nQ 13.8125 10.890625 13.8125 8.6875 \nz\nM 38.1875 -12.890625 \nQ 38.1875 -9.46875 40.640625 -7.03125 \nQ 43.109375 -4.59375 46.484375 -4.59375 \nQ 50 -4.59375 52.4375 -7.046875 \nQ 54.890625 -9.515625 54.890625 -12.890625 \nQ 54.890625 -18.5 49.609375 -20.703125 \nQ 51.421875 -21.6875 54 -21.6875 \nQ 67.1875 -21.6875 67.484375 -5.171875 \nL 73.09375 -5.171875 \nQ 72.796875 -14.359375 68.296875 -20.28125 \nQ 63.8125 -26.21875 54.203125 -26.21875 \nQ 48 -26.21875 43.09375 -22.359375 \nQ 38.1875 -18.5 38.1875 -12.890625 \nz\nM 42.484375 -12.890625 \nQ 42.484375 -14.5 43.75 -15.75 \nQ 45.015625 -17 46.6875 -17 \nQ 48.296875 -17 49.53125 -15.75 \nQ 50.78125 -14.5 50.78125 -12.890625 \nQ 50.78125 -11.1875 49.53125 -9.9375 \nQ 48.296875 -8.6875 46.6875 -8.6875 \nQ 44.96875 -8.6875 43.71875 -9.9375 \nQ 42.484375 -11.1875 42.484375 -12.890625 \nz\n\" id=\"THSarabunNew-3597\"/>\n       </defs>\n       <use xlink:href=\"#THSarabunNew-3629\"/>\n       <use x=\"59.179688\" xlink:href=\"#THSarabunNew-3634\"/>\n       <use x=\"107.470703\" xlink:href=\"#THSarabunNew-3594\"/>\n       <use x=\"165.527344\" xlink:href=\"#THSarabunNew-3597\"/>\n       <use x=\"244.921875\" xlink:href=\"#THSarabunNew-3634\"/>\n       <use x=\"293.212891\" xlink:href=\"#THSarabunNew-3585\"/>\n       <use x=\"352.197266\" xlink:href=\"#THSarabunNew-3619\"/>\n       <use x=\"401.367188\" xlink:href=\"#THSarabunNew-3619\"/>\n       <use x=\"450.537109\" xlink:href=\"#THSarabunNew-3617\"/>\n      </g>\n     </g>\n    </g>\n    <g id=\"text_14\">\n     <!-- CATEGORY -->\n     <g transform=\"translate(467.086719 240.184688)scale(0.1 -0.1)\">\n      <defs>\n       <path d=\"M 3.515625 36.625 \nQ 3.515625 52.9375 13.40625 63.40625 \nQ 23.296875 73.875 38.09375 73.875 \nQ 49.90625 73.875 58.015625 70.125 \nL 56.203125 65.1875 \nQ 47.90625 68.703125 38.375 68.703125 \nQ 26.5625 68.703125 18.40625 60.015625 \nQ 9.625 50.828125 9.625 36.375 \nQ 9.625 21.96875 18.40625 12.890625 \nQ 26.609375 4.109375 38.375 4.109375 \nQ 47.90625 4.109375 56.203125 7.625 \nL 58.015625 2.78125 \nQ 49.90625 -1.125 38.09375 -1.125 \nQ 23.296875 -1.125 13.40625 9.546875 \nQ 3.515625 20.21875 3.515625 36.625 \nz\n\" id=\"THSarabunNew-67\"/>\n       <path d=\"M 0 0 \nL 27.484375 73.875 \nL 33.6875 73.875 \nL 61.1875 0 \nL 54.59375 0 \nL 46.1875 23.390625 \nL 14.796875 23.390625 \nL 6.59375 0 \nz\nM 16.703125 28.515625 \nL 44.390625 28.515625 \nL 30.609375 67.28125 \nz\n\" id=\"THSarabunNew-65\"/>\n       <path d=\"M -0.78125 67.828125 \nL -0.78125 72.796875 \nL 58.796875 72.796875 \nL 58.796875 67.828125 \nL 31.984375 67.828125 \nL 31.984375 0 \nL 26.21875 0 \nL 26.21875 67.828125 \nz\n\" id=\"THSarabunNew-84\"/>\n       <path d=\"M 8.296875 0 \nL 8.296875 72.796875 \nL 47.90625 72.796875 \nL 47.90625 67.828125 \nL 14.203125 67.828125 \nL 14.203125 41.015625 \nL 44.1875 41.015625 \nL 44.1875 35.984375 \nL 14.203125 35.984375 \nL 14.203125 4.984375 \nL 47.90625 4.984375 \nL 47.90625 0 \nz\n\" id=\"THSarabunNew-69\"/>\n       <path d=\"M 3.515625 36.625 \nQ 3.515625 52.828125 12.203125 62.890625 \nQ 21.296875 73.578125 36.921875 73.578125 \nQ 48 73.578125 56.5 69.921875 \nL 54.59375 64.984375 \nQ 45.40625 68.5 36.625 68.5 \nQ 25.09375 68.5 17.359375 59.484375 \nQ 9.625 50.484375 9.625 36.375 \nQ 9.625 21.390625 16.3125 12.75 \nQ 23 4.109375 35.203125 4.109375 \nQ 44.828125 4.109375 52.78125 8.015625 \nL 52.78125 31.5 \nL 34.28125 31.5 \nL 34.28125 36.375 \nL 58.59375 36.375 \nL 58.59375 1.515625 \nQ 57.375 2.390625 55.421875 2.390625 \nL 46.34375 0.78125 \nQ 37.3125 -0.828125 34.28125 -0.78125 \nQ 20.265625 -0.78125 11.890625 9.421875 \nQ 3.515625 19.625 3.515625 36.625 \nz\n\" id=\"THSarabunNew-71\"/>\n       <path d=\"M 3.421875 36.28125 \nQ 3.421875 52.59375 12.8125 63.359375 \nQ 22.21875 74.125 37.203125 74.125 \nQ 52.203125 74.125 61.59375 63.359375 \nQ 71 52.59375 71 36.28125 \nQ 71 19.875 61.59375 9.171875 \nQ 52.203125 -1.515625 37.203125 -1.515625 \nQ 22.21875 -1.515625 12.8125 9.171875 \nQ 3.421875 19.875 3.421875 36.28125 \nz\nM 9.28125 36.28125 \nQ 9.28125 22.796875 17.09375 13.25 \nQ 24.90625 3.71875 37.203125 3.71875 \nQ 49.421875 3.71875 57.203125 13.25 \nQ 64.984375 22.796875 64.984375 36.28125 \nQ 64.984375 49.65625 57.203125 59.21875 \nQ 49.421875 68.796875 37.203125 68.796875 \nQ 24.90625 68.796875 17.09375 59.21875 \nQ 9.28125 49.65625 9.28125 36.28125 \nz\n\" id=\"THSarabunNew-79\"/>\n       <path d=\"M 8.296875 0 \nL 8.296875 71.921875 \nQ 16.796875 73.640625 26.21875 73.578125 \nQ 37.9375 73.390625 44.828125 69 \nQ 52.828125 63.8125 52.78125 54 \nQ 52.78125 40.375 38.71875 35.203125 \nQ 46.828125 30.8125 50.875 18.703125 \nQ 52.875 12.40625 54.78125 0 \nL 49.03125 0 \nQ 44.828125 33.203125 28.328125 33.203125 \nL 14.203125 33.203125 \nL 14.203125 0 \nz\nM 14.203125 37.890625 \nL 27.78125 37.890625 \nQ 36.859375 37.890625 41.984375 41.984375 \nQ 47.125 46.09375 47.125 53.21875 \nQ 47.125 68.40625 26.21875 68.40625 \nQ 17.71875 68.40625 14.203125 67.28125 \nz\n\" id=\"THSarabunNew-82\"/>\n       <path d=\"M 0 72.796875 \nL 6.890625 72.796875 \nL 27.984375 37.203125 \nL 49.125 72.796875 \nL 56 72.796875 \nL 30.90625 32.078125 \nL 30.90625 0 \nL 25.09375 0 \nL 25.09375 31.984375 \nz\n\" id=\"THSarabunNew-89\"/>\n      </defs>\n      <use xlink:href=\"#THSarabunNew-67\"/>\n      <use x=\"62.060547\" xlink:href=\"#THSarabunNew-65\"/>\n      <use x=\"123.242188\" xlink:href=\"#THSarabunNew-84\"/>\n      <use x=\"181.103516\" xlink:href=\"#THSarabunNew-69\"/>\n      <use x=\"234.765625\" xlink:href=\"#THSarabunNew-71\"/>\n      <use x=\"299.755859\" xlink:href=\"#THSarabunNew-79\"/>\n      <use x=\"374.023438\" xlink:href=\"#THSarabunNew-82\"/>\n      <use x=\"431.884766\" xlink:href=\"#THSarabunNew-89\"/>\n     </g>\n    </g>\n   </g>\n   <g id=\"matplotlib.axis_2\">\n    <g id=\"ytick_1\">\n     <g id=\"line2d_14\">\n      <defs>\n       <path d=\"M 0 0 \nL -3.5 0 \n\" id=\"mcaeaaf5b82\" style=\"stroke:#000000;stroke-width:0.8;\"/>\n      </defs>\n      <g>\n       <use style=\"stroke:#000000;stroke-width:0.8;\" x=\"45.073437\" xlink:href=\"#mcaeaaf5b82\" y=\"170.28\"/>\n      </g>\n     </g>\n     <g id=\"text_15\">\n      <!-- 0 -->\n      <g transform=\"translate(32.545312 174.144844)scale(0.1 -0.1)\">\n       <defs>\n        <path d=\"M 4.6875 34.71875 \nQ 4.6875 50.203125 10.109375 60.890625 \nQ 16.40625 73.296875 27.6875 73.296875 \nQ 38.96875 73.296875 45.3125 60.890625 \nQ 50.484375 50.203125 50.484375 34.71875 \nQ 50.484375 22.015625 45.609375 11.625 \nQ 39.3125 -1.65625 27.6875 -1.703125 \nQ 15.875 -1.703125 9.625 11.625 \nQ 4.6875 21.921875 4.6875 34.71875 \nz\nM 10.890625 34.90625 \nQ 10.890625 23.921875 14.5 14.984375 \nQ 19.09375 3.46875 27.6875 3.515625 \nQ 36.078125 3.515625 40.71875 14.984375 \nQ 44.4375 23.875 44.390625 34.90625 \nQ 44.390625 48.1875 40.484375 57.421875 \nQ 35.984375 68.109375 27.6875 68.109375 \nQ 19.28125 68.109375 14.703125 57.421875 \nQ 10.890625 48.296875 10.890625 34.90625 \nz\n\" id=\"THSarabunNew-48\"/>\n       </defs>\n       <use xlink:href=\"#THSarabunNew-48\"/>\n      </g>\n     </g>\n    </g>\n    <g id=\"ytick_2\">\n     <g id=\"line2d_15\">\n      <g>\n       <use style=\"stroke:#000000;stroke-width:0.8;\" x=\"45.073437\" xlink:href=\"#mcaeaaf5b82\" y=\"135.259868\"/>\n      </g>\n     </g>\n     <g id=\"text_16\">\n      <!-- 200 -->\n      <g transform=\"translate(21.489062 139.124712)scale(0.1 -0.1)\">\n       <defs>\n        <path d=\"M 4 0 \nQ 4.59375 3.8125 6.109375 8.6875 \nQ 12.703125 15.484375 20.65625 23.140625 \nQ 28.609375 30.8125 38.375 42.484375 \nQ 43.265625 49.078125 43.3125 55.078125 \nQ 43.3125 60.984375 39.453125 64.234375 \nQ 35.59375 67.484375 29.5 67.484375 \nQ 15.765625 67.484375 13.921875 53.71875 \nL 8.40625 55.171875 \nQ 9.28125 64.0625 15.484375 68.796875 \nQ 21 73.09375 29.6875 73.09375 \nQ 38.1875 73.09375 43.796875 67.84375 \nQ 49.421875 62.59375 49.421875 54.59375 \nQ 49.421875 42.96875 31.109375 25.390625 \nQ 17.71875 12.203125 12.203125 6 \nL 51.3125 6 \nL 50 0 \nz\n\" id=\"THSarabunNew-50\"/>\n       </defs>\n       <use xlink:href=\"#THSarabunNew-50\"/>\n       <use x=\"55.273438\" xlink:href=\"#THSarabunNew-48\"/>\n       <use x=\"110.546875\" xlink:href=\"#THSarabunNew-48\"/>\n      </g>\n     </g>\n    </g>\n    <g id=\"ytick_3\">\n     <g id=\"line2d_16\">\n      <g>\n       <use style=\"stroke:#000000;stroke-width:0.8;\" x=\"45.073437\" xlink:href=\"#mcaeaaf5b82\" y=\"100.239736\"/>\n      </g>\n     </g>\n     <g id=\"text_17\">\n      <!-- 400 -->\n      <g transform=\"translate(21.489062 104.10458)scale(0.1 -0.1)\">\n       <defs>\n        <path d=\"M 4.890625 17 \nQ 5.171875 39.796875 15.1875 55.546875 \nQ 25.203125 71.296875 41.890625 74.703125 \nL 41.890625 22.609375 \nL 52.78125 22.609375 \nL 52 17 \nL 41.890625 17 \nL 41.890625 0 \nL 35.796875 0 \nL 35.796875 17 \nz\nM 11.53125 22.609375 \nL 35.796875 22.609375 \nL 35.796875 66.890625 \nQ 25.203125 61.71875 18.40625 48.6875 \nQ 11.8125 36.328125 11.53125 22.609375 \nz\n\" id=\"THSarabunNew-52\"/>\n       </defs>\n       <use xlink:href=\"#THSarabunNew-52\"/>\n       <use x=\"55.273438\" xlink:href=\"#THSarabunNew-48\"/>\n       <use x=\"110.546875\" xlink:href=\"#THSarabunNew-48\"/>\n      </g>\n     </g>\n    </g>\n    <g id=\"ytick_4\">\n     <g id=\"line2d_17\">\n      <g>\n       <use style=\"stroke:#000000;stroke-width:0.8;\" x=\"45.073437\" xlink:href=\"#mcaeaaf5b82\" y=\"65.219604\"/>\n      </g>\n     </g>\n     <g id=\"text_18\">\n      <!-- 600 -->\n      <g transform=\"translate(21.489062 69.084448)scale(0.1 -0.1)\">\n       <defs>\n        <path d=\"M 5.8125 25.59375 \nQ 5.8125 43.0625 16.640625 56.921875 \nQ 27.484375 70.796875 44.390625 74.125 \nL 44.828125 69.578125 \nQ 34.625 66.703125 26.21875 58.796875 \nQ 16.703125 49.90625 13.1875 37.59375 \nQ 13.765625 39.890625 17.578125 42.484375 \nQ 22.46875 45.5625 28.90625 45.609375 \nQ 37.890625 45.609375 43.59375 38.6875 \nQ 49.3125 31.78125 49.3125 22.21875 \nQ 49.3125 12.203125 43.703125 5.484375 \nQ 38.09375 -1.21875 28.515625 -1.21875 \nQ 17.625 -1.21875 11.28125 6.984375 \nQ 5.8125 14.40625 5.8125 25.59375 \nz\nM 11.921875 22.21875 \nQ 11.921875 14.703125 16.5 9.34375 \nQ 21.09375 4 27.6875 4 \nQ 35.015625 4 39.0625 9.34375 \nQ 43.109375 14.703125 43.109375 22.21875 \nQ 43.109375 29.828125 39 35.15625 \nQ 34.90625 40.484375 27.6875 40.484375 \nQ 21.09375 40.484375 16.5 35.15625 \nQ 11.921875 29.828125 11.921875 22.21875 \nz\n\" id=\"THSarabunNew-54\"/>\n       </defs>\n       <use xlink:href=\"#THSarabunNew-54\"/>\n       <use x=\"55.273438\" xlink:href=\"#THSarabunNew-48\"/>\n       <use x=\"110.546875\" xlink:href=\"#THSarabunNew-48\"/>\n      </g>\n     </g>\n    </g>\n    <g id=\"ytick_5\">\n     <g id=\"line2d_18\">\n      <g>\n       <use style=\"stroke:#000000;stroke-width:0.8;\" x=\"45.073437\" xlink:href=\"#mcaeaaf5b82\" y=\"30.199472\"/>\n      </g>\n     </g>\n     <g id=\"text_19\">\n      <!-- 800 -->\n      <g transform=\"translate(21.489062 34.064315)scale(0.1 -0.1)\">\n       <defs>\n        <path d=\"M 4.984375 19.578125 \nQ 4.984375 27.09375 9.390625 32.484375 \nQ 13.8125 37.890625 20.515625 39.3125 \nQ 14.796875 41.015625 11.0625 45.359375 \nQ 7.328125 49.703125 7.328125 54.78125 \nQ 7.328125 62.890625 13.015625 68.09375 \nQ 18.703125 73.296875 27.6875 73.296875 \nQ 36.578125 73.296875 42.234375 68.09375 \nQ 47.90625 62.890625 47.90625 54.78125 \nQ 47.90625 49.703125 44.140625 45.359375 \nQ 40.375 41.015625 34.71875 39.3125 \nQ 41.5 37.890625 45.84375 32.484375 \nQ 50.203125 27.09375 50.203125 19.578125 \nQ 50.203125 9.765625 44.046875 4.265625 \nQ 37.890625 -1.21875 27.484375 -1.21875 \nQ 17.28125 -1.21875 11.125 4.265625 \nQ 4.984375 9.765625 4.984375 19.578125 \nz\nM 11.1875 19.09375 \nQ 11.1875 12.203125 15.84375 8.15625 \nQ 20.515625 4.109375 27.6875 4.109375 \nQ 34.671875 4.109375 39.375 8.15625 \nQ 44.09375 12.203125 44.09375 19.09375 \nQ 44.09375 25.09375 39.9375 30.53125 \nQ 35.796875 35.984375 27.484375 36.375 \nQ 19.390625 35.984375 15.28125 30.53125 \nQ 11.1875 25.09375 11.1875 19.09375 \nz\nM 13.484375 55.171875 \nQ 13.484375 45.65625 27.484375 42.1875 \nQ 41.796875 45.703125 41.796875 55.171875 \nQ 41.796875 60.59375 37.9375 64.078125 \nQ 34.078125 67.578125 27.6875 67.578125 \nQ 21.09375 67.578125 17.28125 64.078125 \nQ 13.484375 60.59375 13.484375 55.171875 \nz\n\" id=\"THSarabunNew-56\"/>\n       </defs>\n       <use xlink:href=\"#THSarabunNew-56\"/>\n       <use x=\"55.273438\" xlink:href=\"#THSarabunNew-48\"/>\n       <use x=\"110.546875\" xlink:href=\"#THSarabunNew-48\"/>\n      </g>\n     </g>\n    </g>\n    <g id=\"text_20\">\n     <!-- count -->\n     <g transform=\"translate(14.929687 102.086094)rotate(-90)scale(0.1 -0.1)\">\n      <defs>\n       <path d=\"M 4.109375 25.875 \nQ 4.109375 38.1875 11.453125 45.625 \nQ 18.796875 53.078125 31.6875 53.078125 \nQ 41.21875 53.078125 47.703125 49.421875 \nL 45.609375 44.484375 \nQ 39.890625 48.1875 31.390625 48.1875 \nQ 21.96875 48.1875 15.9375 42.234375 \nQ 9.90625 36.28125 9.90625 25.875 \nQ 9.90625 15.484375 15.953125 9.5 \nQ 22.015625 3.515625 31.390625 3.515625 \nQ 39.890625 3.515625 45.609375 7.171875 \nL 47.703125 2.296875 \nQ 41.21875 -1.421875 31.6875 -1.421875 \nQ 18.796875 -1.421875 11.453125 6.03125 \nQ 4.109375 13.484375 4.109375 25.875 \nz\n\" id=\"THSarabunNew-99\"/>\n       <path d=\"M 4.296875 25.875 \nQ 4.296875 37.25 11.5 45.15625 \nQ 18.703125 53.078125 30.421875 53.078125 \nQ 42.234375 53.078125 49.40625 45.1875 \nQ 56.59375 37.3125 56.59375 25.875 \nQ 56.59375 14.359375 49.390625 6.421875 \nQ 42.1875 -1.515625 30.421875 -1.515625 \nQ 18.703125 -1.515625 11.5 6.421875 \nQ 4.296875 14.359375 4.296875 25.875 \nz\nM 10.109375 25.875 \nQ 10.109375 16.359375 15.84375 9.9375 \nQ 21.578125 3.515625 30.421875 3.515625 \nQ 39.3125 3.515625 45.046875 9.953125 \nQ 50.78125 16.40625 50.78125 25.875 \nQ 50.78125 35.296875 45.046875 41.640625 \nQ 39.3125 48 30.421875 48 \nQ 21.625 48 15.859375 41.640625 \nQ 10.109375 35.296875 10.109375 25.875 \nz\n\" id=\"THSarabunNew-111\"/>\n       <path d=\"M 8.015625 22.796875 \nL 8.015625 52 \nL 13.921875 52 \nL 13.921875 23.875 \nQ 13.921875 3.765625 27.984375 3.8125 \nQ 34.578125 3.8125 39.890625 8.109375 \nQ 45.703125 12.984375 45.703125 20.515625 \nL 45.703125 52 \nL 51.703125 52 \nL 51.703125 12.703125 \nQ 51.703125 6.984375 54.296875 0.203125 \nL 48.6875 -1.125 \nQ 46.78125 4.046875 46.1875 8.984375 \nQ 39.5 -1.421875 26.609375 -1.421875 \nQ 8.015625 -1.421875 8.015625 22.796875 \nz\n\" id=\"THSarabunNew-117\"/>\n       <path d=\"M 6.890625 52 \nL 12.5 52 \nQ 13.625 48.78125 13.8125 42.671875 \nQ 19.734375 53.078125 31.390625 53.078125 \nQ 51.703125 53.078125 51.703125 29.5 \nL 51.703125 0 \nL 45.703125 0 \nL 45.703125 29.5 \nQ 45.703125 48.1875 30.078125 48.1875 \nQ 23.875 48.1875 18.890625 42.890625 \nQ 13.921875 37.59375 13.921875 31.5 \nL 13.921875 0 \nL 8.015625 0 \nL 8.015625 39.203125 \nQ 8.015625 43.3125 6.890625 52 \nz\n\" id=\"THSarabunNew-110\"/>\n       <path d=\"M 0.875 47.3125 \nL 0.875 52 \nL 11.28125 52 \nL 11.28125 67.484375 \nL 17.28125 70.21875 \nL 17.28125 52 \nL 33.984375 52 \nL 33.984375 47.3125 \nL 17.28125 47.3125 \nL 17.28125 15.484375 \nQ 17.28125 3.765625 25.09375 3.8125 \nQ 29.78125 3.8125 32.078125 4.6875 \nL 32.71875 0 \nQ 29.734375 -1.421875 24.609375 -1.421875 \nQ 17.921875 -1.421875 14.40625 3.8125 \nQ 11.328125 8.40625 11.28125 15.28125 \nL 11.28125 47.3125 \nz\n\" id=\"THSarabunNew-116\"/>\n      </defs>\n      <use xlink:href=\"#THSarabunNew-99\"/>\n      <use x=\"50.585938\" xlink:href=\"#THSarabunNew-111\"/>\n      <use x=\"111.376953\" xlink:href=\"#THSarabunNew-117\"/>\n      <use x=\"170.947266\" xlink:href=\"#THSarabunNew-110\"/>\n      <use x=\"230.517578\" xlink:href=\"#THSarabunNew-116\"/>\n     </g>\n    </g>\n   </g>\n   <g id=\"patch_16\">\n    <path d=\"M 45.073437 170.28 \nL 45.073437 7.2 \n\" style=\"fill:none;stroke:#000000;stroke-linecap:square;stroke-linejoin:miter;stroke-width:0.8;\"/>\n   </g>\n   <g id=\"patch_17\">\n    <path d=\"M 937.873437 170.28 \nL 937.873437 7.2 \n\" style=\"fill:none;stroke:#000000;stroke-linecap:square;stroke-linejoin:miter;stroke-width:0.8;\"/>\n   </g>\n   <g id=\"patch_18\">\n    <path d=\"M 45.073438 170.28 \nL 937.873438 170.28 \n\" style=\"fill:none;stroke:#000000;stroke-linecap:square;stroke-linejoin:miter;stroke-width:0.8;\"/>\n   </g>\n   <g id=\"patch_19\">\n    <path d=\"M 45.073438 7.2 \nL 937.873438 7.2 \n\" style=\"fill:none;stroke:#000000;stroke-linecap:square;stroke-linejoin:miter;stroke-width:0.8;\"/>\n   </g>\n  </g>\n </g>\n <defs>\n  <clipPath id=\"p8c545881f1\">\n   <rect height=\"163.08\" width=\"892.8\" x=\"45.073437\" y=\"7.2\"/>\n  </clipPath>\n </defs>\n</svg>\n",
      "image/png": "[encoded data removed]"
     },
     "metadata": {
      "needs_background": "light"
     }
    }
   ],
   "source": [
    "plt.figure(figsize=(16, 3))\n",
    "chart = sns.countplot(data=items_df, x=\"CATEGORY\")\n",
    "plt.xticks(rotation=90, horizontalalignment=\"right\")\n",
    "plt.show()"
   ]
  },
  {
   "cell_type": "code",
   "execution_count": 11,
   "metadata": {},
   "outputs": [
    {
     "output_type": "execute_result",
     "data": {
      "text/plain": [
       "             ITEM_ID  CREATION_TIMESTAMP  TAGS  SOURCE\n",
       "CATEGORY                                              \n",
       "การศึกษา          65                  65    15      65\n",
       "การเมือง         887                 887   498     887\n",
       "กีฬา             319                 319   290     319\n",
       "คุณภาพชีวิต       10                  10    10      10\n",
       "ต่างประเทศ       188                 188   166     188\n",
       "บันเทิง          333                 333   290     333\n",
       "ภาพยนตร์          72                  72    71      72\n",
       "สังคม            104                 104   104     104\n",
       "อาชญากรรม         45                  45    45      45\n",
       "เทคโนโลยี        300                 300   294     300\n",
       "เศรษฐกิจ         399                 399   207     399\n",
       "ในประเทศ         525                 525   306     525\n",
       "ไลฟ์สไตล์        119                 119    91     119"
      ],
      "text/html": "<div>\n<style scoped>\n    .dataframe tbody tr th:only-of-type {\n        vertical-align: middle;\n    }\n\n    .dataframe tbody tr th {\n        vertical-align: top;\n    }\n\n    .dataframe thead th {\n        text-align: right;\n    }\n</style>\n<table border=\"1\" class=\"dataframe\">\n  <thead>\n    <tr style=\"text-align: right;\">\n      <th></th>\n      <th>ITEM_ID</th>\n      <th>CREATION_TIMESTAMP</th>\n      <th>TAGS</th>\n      <th>SOURCE</th>\n    </tr>\n    <tr>\n      <th>CATEGORY</th>\n      <th></th>\n      <th></th>\n      <th></th>\n      <th></th>\n    </tr>\n  </thead>\n  <tbody>\n    <tr>\n      <th>การศึกษา</th>\n      <td>65</td>\n      <td>65</td>\n      <td>15</td>\n      <td>65</td>\n    </tr>\n    <tr>\n      <th>การเมือง</th>\n      <td>887</td>\n      <td>887</td>\n      <td>498</td>\n      <td>887</td>\n    </tr>\n    <tr>\n      <th>กีฬา</th>\n      <td>319</td>\n      <td>319</td>\n      <td>290</td>\n      <td>319</td>\n    </tr>\n    <tr>\n      <th>คุณภาพชีวิต</th>\n      <td>10</td>\n      <td>10</td>\n      <td>10</td>\n      <td>10</td>\n    </tr>\n    <tr>\n      <th>ต่างประเทศ</th>\n      <td>188</td>\n      <td>188</td>\n      <td>166</td>\n      <td>188</td>\n    </tr>\n    <tr>\n      <th>บันเทิง</th>\n      <td>333</td>\n      <td>333</td>\n      <td>290</td>\n      <td>333</td>\n    </tr>\n    <tr>\n      <th>ภาพยนตร์</th>\n      <td>72</td>\n      <td>72</td>\n      <td>71</td>\n      <td>72</td>\n    </tr>\n    <tr>\n      <th>สังคม</th>\n      <td>104</td>\n      <td>104</td>\n      <td>104</td>\n      <td>104</td>\n    </tr>\n    <tr>\n      <th>อาชญากรรม</th>\n      <td>45</td>\n      <td>45</td>\n      <td>45</td>\n      <td>45</td>\n    </tr>\n    <tr>\n      <th>เทคโนโลยี</th>\n      <td>300</td>\n      <td>300</td>\n      <td>294</td>\n      <td>300</td>\n    </tr>\n    <tr>\n      <th>เศรษฐกิจ</th>\n      <td>399</td>\n      <td>399</td>\n      <td>207</td>\n      <td>399</td>\n    </tr>\n    <tr>\n      <th>ในประเทศ</th>\n      <td>525</td>\n      <td>525</td>\n      <td>306</td>\n      <td>525</td>\n    </tr>\n    <tr>\n      <th>ไลฟ์สไตล์</th>\n      <td>119</td>\n      <td>119</td>\n      <td>91</td>\n      <td>119</td>\n    </tr>\n  </tbody>\n</table>\n</div>"
     },
     "metadata": {},
     "execution_count": 11
    }
   ],
   "source": [
    "items_df.groupby(\"CATEGORY\").count()"
   ]
  },
  {
   "cell_type": "code",
   "execution_count": 12,
   "metadata": {},
   "outputs": [
    {
     "output_type": "display_data",
     "data": {
      "text/plain": "<Figure size 1152x216 with 1 Axes>",
      "image/svg+xml": "<?xml version=\"1.0\" encoding=\"utf-8\" standalone=\"no\"?>\n<!DOCTYPE svg PUBLIC \"-//W3C//DTD SVG 1.1//EN\"\n  \"http://www.w3.org/Graphics/SVG/1.1/DTD/svg11.dtd\">\n<!-- Created with matplotlib (https://matplotlib.org/) -->\n<svg height=\"249.944063pt\" version=\"1.1\" viewBox=\"0 0 950.601562 249.944063\" width=\"950.601562pt\" xmlns=\"http://www.w3.org/2000/svg\" xmlns:xlink=\"http://www.w3.org/1999/xlink\">\n <metadata>\n  <rdf:RDF xmlns:cc=\"http://creativecommons.org/ns#\" xmlns:dc=\"http://purl.org/dc/elements/1.1/\" xmlns:rdf=\"http://www.w3.org/1999/02/22-rdf-syntax-ns#\">\n   <cc:Work>\n    <dc:type rdf:resource=\"http://purl.org/dc/dcmitype/StillImage\"/>\n    <dc:date>2021-03-09T13:25:32.815375</dc:date>\n    <dc:format>image/svg+xml</dc:format>\n    <dc:creator>\n     <cc:Agent>\n      <dc:title>Matplotlib v3.3.2, https://matplotlib.org/</dc:title>\n     </cc:Agent>\n    </dc:creator>\n   </cc:Work>\n  </rdf:RDF>\n </metadata>\n <defs>\n  <style type=\"text/css\">*{stroke-linecap:butt;stroke-linejoin:round;}</style>\n </defs>\n <g id=\"figure_1\">\n  <g id=\"patch_1\">\n   <path d=\"M 0 249.944063 \nL 950.601562 249.944063 \nL 950.601562 0 \nL 0 0 \nz\n\" style=\"fill:none;\"/>\n  </g>\n  <g id=\"axes_1\">\n   <g id=\"patch_2\">\n    <path d=\"M 50.601562 170.28 \nL 943.401562 170.28 \nL 943.401562 7.2 \nL 50.601562 7.2 \nz\n\" style=\"fill:#ffffff;\"/>\n   </g>\n   <g id=\"patch_3\">\n    <path clip-path=\"url(#pb6bb2dd8f5)\" d=\"M 57.469255 170.28 \nL 112.410793 170.28 \nL 112.410793 45.75411 \nL 57.469255 45.75411 \nz\n\" style=\"fill:#ea96a3;\"/>\n   </g>\n   <g id=\"patch_4\">\n    <path clip-path=\"url(#pb6bb2dd8f5)\" d=\"M 126.146178 170.28 \nL 181.087716 170.28 \nL 181.087716 58.459026 \nL 126.146178 58.459026 \nz\n\" style=\"fill:#e39361;\"/>\n   </g>\n   <g id=\"patch_5\">\n    <path clip-path=\"url(#pb6bb2dd8f5)\" d=\"M 194.823101 170.28 \nL 249.764639 170.28 \nL 249.764639 108.924549 \nL 194.823101 108.924549 \nz\n\" style=\"fill:#be9b4a;\"/>\n   </g>\n   <g id=\"patch_6\">\n    <path clip-path=\"url(#pb6bb2dd8f5)\" d=\"M 263.500024 170.28 \nL 318.441563 170.28 \nL 318.441563 14.965714 \nL 263.500024 14.965714 \nz\n\" style=\"fill:#9fa045;\"/>\n   </g>\n   <g id=\"patch_7\">\n    <path clip-path=\"url(#pb6bb2dd8f5)\" d=\"M 332.176947 170.28 \nL 387.118486 170.28 \nL 387.118486 58.215552 \nL 332.176947 58.215552 \nz\n\" style=\"fill:#7aaa47;\"/>\n   </g>\n   <g id=\"patch_8\">\n    <path clip-path=\"url(#pb6bb2dd8f5)\" d=\"M 400.85387 170.28 \nL 455.795409 170.28 \nL 455.795409 63.129301 \nL 400.85387 63.129301 \nz\n\" style=\"fill:#49af79;\"/>\n   </g>\n   <g id=\"patch_9\">\n    <path clip-path=\"url(#pb6bb2dd8f5)\" d=\"M 469.530793 170.28 \nL 524.472332 170.28 \nL 524.472332 18.551422 \nL 469.530793 18.551422 \nz\n\" style=\"fill:#4aac9a;\"/>\n   </g>\n   <g id=\"patch_10\">\n    <path clip-path=\"url(#pb6bb2dd8f5)\" d=\"M 538.207716 170.28 \nL 593.149255 170.28 \nL 593.149255 47.281356 \nL 538.207716 47.281356 \nz\n\" style=\"fill:#4cabae;\"/>\n   </g>\n   <g id=\"patch_11\">\n    <path clip-path=\"url(#pb6bb2dd8f5)\" d=\"M 606.884639 170.28 \nL 661.826178 170.28 \nL 661.826178 121.031848 \nL 606.884639 121.031848 \nz\n\" style=\"fill:#52acc9;\"/>\n   </g>\n   <g id=\"patch_12\">\n    <path clip-path=\"url(#pb6bb2dd8f5)\" d=\"M 675.561562 170.28 \nL 730.503101 170.28 \nL 730.503101 111.757701 \nL 675.561562 111.757701 \nz\n\" style=\"fill:#8daee7;\"/>\n   </g>\n   <g id=\"patch_13\">\n    <path clip-path=\"url(#pb6bb2dd8f5)\" d=\"M 744.238486 170.28 \nL 799.180024 170.28 \nL 799.180024 151.089821 \nL 744.238486 151.089821 \nz\n\" style=\"fill:#bfa3ea;\"/>\n   </g>\n   <g id=\"patch_14\">\n    <path clip-path=\"url(#pb6bb2dd8f5)\" d=\"M 812.915409 170.28 \nL 867.856947 170.28 \nL 867.856947 142.346891 \nL 812.915409 142.346891 \nz\n\" style=\"fill:#e689e6;\"/>\n   </g>\n   <g id=\"patch_15\">\n    <path clip-path=\"url(#pb6bb2dd8f5)\" d=\"M 881.592332 170.28 \nL 936.53387 170.28 \nL 936.53387 165.388386 \nL 881.592332 165.388386 \nz\n\" style=\"fill:#e891c3;\"/>\n   </g>\n   <g id=\"matplotlib.axis_1\">\n    <g id=\"xtick_1\">\n     <g id=\"line2d_1\">\n      <defs>\n       <path d=\"M 0 0 \nL 0 3.5 \n\" id=\"m36640f887b\" style=\"stroke:#000000;stroke-width:0.8;\"/>\n      </defs>\n      <g>\n       <use style=\"stroke:#000000;stroke-width:0.8;\" x=\"84.940024\" xlink:href=\"#m36640f887b\" y=\"170.28\"/>\n      </g>\n     </g>\n     <g id=\"text_1\">\n      <!-- บันเทิง -->\n      <g transform=\"translate(82.380649 204.383125)rotate(-90)scale(0.1 -0.1)\">\n       <defs>\n        <path d=\"M 2.59375 51.125 \nQ 2.59375 55.21875 5.59375 58.203125 \nQ 8.59375 61.1875 12.703125 61.1875 \nQ 16.796875 61.1875 19.796875 58.171875 \nQ 22.796875 55.171875 22.796875 51.125 \nL 22.796875 13.484375 \nQ 22.796875 3.765625 37.203125 3.8125 \nQ 51.421875 3.8125 51.421875 13.484375 \nL 51.421875 60.015625 \nL 56.890625 60.015625 \nL 56.890625 12.984375 \nQ 56.890625 -1.21875 37.203125 -1.21875 \nQ 17.28125 -1.21875 17.28125 12.984375 \nL 17.28125 42.09375 \nQ 15.28125 40.96875 12.703125 41.015625 \nQ 8.59375 41.015625 5.59375 44.015625 \nQ 2.59375 47.015625 2.59375 51.125 \nz\nM 7.515625 51.125 \nQ 7.515625 49.03125 9.046875 47.46875 \nQ 10.59375 45.90625 12.703125 45.90625 \nQ 14.796875 45.90625 16.359375 47.46875 \nQ 17.921875 49.03125 17.921875 51.125 \nQ 17.921875 53.21875 16.359375 54.75 \nQ 14.796875 56.296875 12.703125 56.296875 \nQ 10.59375 56.296875 9.046875 54.75 \nQ 7.515625 53.21875 7.515625 51.125 \nz\n\" id=\"THSarabunNew-3610\"/>\n        <path d=\"M -35.984375 84.28125 \nQ -35.984375 88.28125 -33.03125 91.1875 \nQ -30.078125 94.09375 -26.21875 94.09375 \nQ -22.21875 94.09375 -19.3125 91.234375 \nQ -16.40625 88.375 -16.40625 84.515625 \nQ -16.40625 79.34375 -21 76.21875 \nQ -18.796875 75.734375 -15.28125 75.6875 \nQ -7.765625 75.875 -2.875 81.6875 \nQ 1.421875 87.109375 1.703125 94.671875 \nL 7.515625 94.671875 \nQ 7.328125 84.28125 0.609375 77.640625 \nQ -6.109375 71 -16.40625 71 \nQ -25.203125 71 -30.59375 74.625 \nQ -35.984375 78.265625 -35.984375 84.28125 \nz\nM -31.203125 84.625 \nQ -31.203125 82.515625 -29.703125 81.09375 \nQ -28.21875 79.6875 -26.21875 79.6875 \nQ -24.21875 79.6875 -22.75 81.09375 \nQ -21.296875 82.515625 -21.296875 84.625 \nQ -21.296875 86.8125 -22.75 88.25 \nQ -24.21875 89.703125 -26.21875 89.703125 \nQ -28.21875 89.703125 -29.703125 88.25 \nQ -31.203125 86.8125 -31.203125 84.625 \nz\n\" id=\"THSarabunNew-3633\"/>\n        <path d=\"M 2.59375 51.125 \nQ 2.59375 55.21875 5.59375 58.203125 \nQ 8.59375 61.1875 12.703125 61.1875 \nQ 16.796875 61.1875 19.796875 58.171875 \nQ 22.796875 55.171875 22.796875 51.125 \nL 22.796875 6 \nQ 25.875 9.328125 33.6875 12.890625 \nQ 42.390625 16.796875 45.015625 19 \nQ 50.203125 23.09375 50.203125 29.5 \nL 50.203125 60.015625 \nL 55.71875 60.015625 \nL 55.71875 28.8125 \nQ 55.71875 21.390625 52.296875 18.109375 \nQ 58.796875 15.53125 58.796875 8.6875 \nQ 58.796875 4.59375 55.78125 1.6875 \nQ 52.78125 -1.21875 48.6875 -1.21875 \nQ 44.484375 -1.21875 41.59375 1.6875 \nQ 38.71875 4.59375 38.71875 8.6875 \nL 38.71875 9.8125 \nQ 29.203125 6 24.03125 0 \nL 17.28125 0 \nL 17.28125 42.09375 \nQ 15.28125 40.96875 12.703125 41.015625 \nQ 8.59375 41.015625 5.59375 44.015625 \nQ 2.59375 47.015625 2.59375 51.125 \nz\nM 7.515625 51.125 \nQ 7.515625 49.03125 9.046875 47.46875 \nQ 10.59375 45.90625 12.703125 45.90625 \nQ 14.796875 45.90625 16.359375 47.46875 \nQ 17.921875 49.03125 17.921875 51.125 \nQ 17.921875 53.21875 16.359375 54.75 \nQ 14.796875 56.296875 12.703125 56.296875 \nQ 10.59375 56.296875 9.046875 54.75 \nQ 7.515625 53.21875 7.515625 51.125 \nz\nM 43.5 8.890625 \nQ 43.5 6.6875 44.984375 5.203125 \nQ 46.484375 3.71875 48.6875 3.71875 \nQ 50.78125 3.71875 52.34375 5.203125 \nQ 53.90625 6.6875 53.90625 8.890625 \nQ 53.90625 10.984375 52.34375 12.546875 \nQ 50.78125 14.109375 48.6875 14.109375 \nQ 46.484375 14.109375 44.984375 12.546875 \nQ 43.5 10.984375 43.5 8.890625 \nz\n\" id=\"THSarabunNew-3609\"/>\n        <path d=\"M 8.109375 9.515625 \nL 8.109375 61.1875 \nL 13.625 61.1875 \nL 13.625 18.5 \nQ 15.828125 19.734375 18.5 19.671875 \nQ 22.796875 19.671875 25.796875 16.734375 \nQ 28.8125 13.8125 28.8125 9.515625 \nQ 28.8125 5.21875 25.796875 2.171875 \nQ 22.796875 -0.875 18.5 -0.875 \nQ 13.8125 -0.875 10.6875 2.390625 \nQ 8.109375 5.421875 8.109375 9.515625 \nz\nM 13.28125 9.515625 \nQ 13.28125 7.328125 14.84375 5.8125 \nQ 16.40625 4.296875 18.5 4.296875 \nQ 20.703125 4.296875 22.1875 5.8125 \nQ 23.6875 7.328125 23.6875 9.515625 \nQ 23.6875 11.625 22.1875 13.15625 \nQ 20.703125 14.703125 18.5 14.703125 \nQ 16.40625 14.703125 14.84375 13.15625 \nQ 13.28125 11.625 13.28125 9.515625 \nz\n\" id=\"THSarabunNew-3648\"/>\n        <path d=\"M 2.59375 51.125 \nQ 2.59375 55.21875 5.59375 58.203125 \nQ 8.59375 61.1875 12.703125 61.1875 \nQ 16.796875 61.1875 19.796875 58.171875 \nQ 22.796875 55.171875 22.796875 51.125 \nL 22.796875 21.09375 \nQ 22.515625 14.109375 22.015625 10.984375 \nQ 23 14.0625 24.8125 19.578125 \nL 37.203125 52.59375 \nQ 40.4375 61.1875 47.703125 61.1875 \nQ 57.234375 61.1875 57.171875 49.03125 \nL 57.171875 0 \nL 51.703125 0 \nL 51.703125 49.03125 \nQ 51.703125 55.8125 47.3125 55.8125 \nQ 44.53125 55.8125 42.484375 51.90625 \nL 23.09375 0 \nL 17.28125 0 \nL 17.28125 42.09375 \nQ 15.28125 40.96875 12.703125 41.015625 \nQ 8.59375 41.015625 5.59375 44.015625 \nQ 2.59375 47.015625 2.59375 51.125 \nz\nM 7.515625 51.125 \nQ 7.515625 49.03125 9.046875 47.46875 \nQ 10.59375 45.90625 12.703125 45.90625 \nQ 14.796875 45.90625 16.359375 47.46875 \nQ 17.921875 49.03125 17.921875 51.125 \nQ 17.921875 53.21875 16.359375 54.75 \nQ 14.796875 56.296875 12.703125 56.296875 \nQ 10.59375 56.296875 9.046875 54.75 \nQ 7.515625 53.21875 7.515625 51.125 \nz\n\" id=\"THSarabunNew-3607\"/>\n        <path d=\"M -52.78125 75 \nQ -52.59375 82.90625 -46.1875 87.796875 \nQ -40.375 92.28125 -32.328125 92.28125 \nQ -11.625 92.28125 -7.625 69.578125 \nQ -25.203125 75.875 -40.71875 75.875 \nQ -46.1875 75.875 -52.78125 75 \nz\nM -46.484375 79.6875 \nQ -43.265625 80.171875 -39.3125 80.171875 \nQ -24.609375 80.171875 -13.625 75.390625 \nQ -20.3125 87.796875 -32.078125 87.796875 \nQ -42.78125 87.796875 -46.484375 79.6875 \nz\n\" id=\"THSarabunNew-3636\"/>\n        <path d=\"M 2.390625 31.78125 \nL 5.515625 35.296875 \nL 30.90625 7.8125 \nL 30.90625 42.09375 \nQ 28.8125 40.96875 26.21875 41.015625 \nQ 22.015625 41.015625 19.0625 44.015625 \nQ 16.109375 47.015625 16.109375 50.875 \nQ 16.109375 55.375 19.015625 58.28125 \nQ 21.921875 61.1875 26.21875 61.1875 \nQ 31.109375 61.1875 33.984375 58.015625 \nQ 36.375 55.125 36.375 50.875 \nL 36.375 0 \nL 30.90625 0 \nz\nM 21 51.3125 \nQ 21 49.125 22.515625 47.609375 \nQ 24.03125 46.09375 26.21875 46.09375 \nQ 28.328125 46.09375 29.859375 47.609375 \nQ 31.390625 49.125 31.390625 51.3125 \nQ 31.390625 53.421875 29.859375 54.953125 \nQ 28.328125 56.5 26.21875 56.5 \nQ 24.03125 56.5 22.515625 54.953125 \nQ 21 53.421875 21 51.3125 \nz\n\" id=\"THSarabunNew-3591\"/>\n       </defs>\n       <use xlink:href=\"#THSarabunNew-3610\"/>\n       <use x=\"65.380859\" xlink:href=\"#THSarabunNew-3633\"/>\n       <use x=\"65.380859\" xlink:href=\"#THSarabunNew-3609\"/>\n       <use x=\"129.541016\" xlink:href=\"#THSarabunNew-3648\"/>\n       <use x=\"160.498047\" xlink:href=\"#THSarabunNew-3607\"/>\n       <use x=\"226.171875\" xlink:href=\"#THSarabunNew-3636\"/>\n       <use x=\"226.171875\" xlink:href=\"#THSarabunNew-3591\"/>\n      </g>\n     </g>\n    </g>\n    <g id=\"xtick_2\">\n     <g id=\"line2d_2\">\n      <g>\n       <use style=\"stroke:#000000;stroke-width:0.8;\" x=\"153.616947\" xlink:href=\"#m36640f887b\" y=\"170.28\"/>\n      </g>\n     </g>\n     <g id=\"text_2\">\n      <!-- เศรษฐกิจ -->\n      <g transform=\"translate(150.248197 214.7425)rotate(-90)scale(0.1 -0.1)\">\n       <defs>\n        <path d=\"M 4.984375 39.015625 \nQ 4.984375 49.03125 11.734375 55.109375 \nQ 18.5 61.1875 28.609375 61.1875 \nQ 35.015625 61.1875 40.71875 58.59375 \nQ 46.234375 63.484375 46.484375 65.828125 \nL 53.609375 65.828125 \nQ 52.9375 62.109375 45.3125 55.71875 \nQ 51.609375 50.640625 51.609375 41.609375 \nL 51.609375 0 \nL 46.09375 0 \nL 46.09375 41.21875 \nQ 46.09375 47.90625 40.71875 52 \nQ 39.59375 51.125 32.90625 46.09375 \nQ 38.234375 43.890625 38.1875 37.5 \nQ 38.1875 33.796875 35.59375 31.203125 \nQ 33.015625 28.609375 29.390625 28.609375 \nQ 24.8125 28.609375 22.21875 32.078125 \nQ 20.015625 28.859375 17.921875 23 \nQ 15.53125 15.578125 15.484375 9.90625 \nL 15.484375 0 \nL 9.90625 0 \nL 9.90625 14.109375 \nQ 9.90625 18.5 7.4375 26.609375 \nQ 4.984375 34.71875 4.984375 39.015625 \nz\nM 10.6875 39.59375 \nQ 10.6875 36.28125 11.921875 31.5 \nQ 13.625 24.8125 13.8125 23.875 \nQ 16.703125 39.453125 24.21875 45.3125 \nL 36.28125 54.78125 \nQ 32.5625 56.296875 28.328125 56.296875 \nQ 21.34375 56.296875 16.015625 51.484375 \nQ 10.6875 46.6875 10.6875 39.59375 \nz\nM 24.515625 37.5 \nQ 24.515625 35.5 25.859375 34.109375 \nQ 27.203125 32.71875 29.203125 32.71875 \nQ 31.203125 32.71875 32.59375 34.109375 \nQ 33.984375 35.5 33.984375 37.5 \nQ 33.984375 39.5 32.59375 40.84375 \nQ 31.203125 42.1875 29.203125 42.1875 \nQ 27.203125 42.1875 25.859375 40.84375 \nQ 24.515625 39.5 24.515625 37.5 \nz\n\" id=\"THSarabunNew-3624\"/>\n        <path d=\"M 3.8125 45.015625 \nQ 4.6875 61.234375 18.703125 61.1875 \nQ 21.921875 61.1875 27.796875 59.59375 \nQ 33.6875 58.015625 36.28125 58.015625 \nQ 37.796875 58.015625 39.203125 61.53125 \nL 43.890625 60.296875 \nQ 41.609375 52.875 36.078125 52.875 \nQ 32.859375 52.875 26.828125 54.578125 \nQ 20.796875 56.296875 17.671875 56.296875 \nQ 14.984375 56.296875 12.640625 53.953125 \nQ 10.296875 51.609375 10.109375 49.125 \nQ 19.921875 47.40625 29.421875 44.0625 \nQ 38.921875 40.71875 38.921875 34.421875 \nL 38.921875 8.890625 \nQ 38.921875 4.6875 36.15625 1.734375 \nQ 33.40625 -1.21875 28.8125 -1.21875 \nQ 24.609375 -1.21875 21.65625 1.734375 \nQ 18.703125 4.6875 18.703125 8.890625 \nQ 18.703125 12.984375 21.65625 15.984375 \nQ 24.609375 19 28.8125 19 \nQ 31.390625 19 33.40625 17.921875 \nL 33.40625 33.984375 \nQ 33.40625 40.234375 3.8125 45.015625 \nz\nM 23.578125 8.890625 \nQ 23.578125 6.6875 25.09375 5.203125 \nQ 26.609375 3.71875 28.8125 3.71875 \nQ 30.90625 3.71875 32.4375 5.203125 \nQ 33.984375 6.6875 33.984375 8.890625 \nQ 33.984375 10.984375 32.4375 12.546875 \nQ 30.90625 14.109375 28.8125 14.109375 \nQ 26.609375 14.109375 25.09375 12.546875 \nQ 23.578125 10.984375 23.578125 8.890625 \nz\n\" id=\"THSarabunNew-3619\"/>\n        <path d=\"M 2.59375 51.125 \nQ 2.59375 55.21875 5.59375 58.203125 \nQ 8.59375 61.1875 12.703125 61.1875 \nQ 16.796875 61.1875 19.796875 58.171875 \nQ 22.796875 55.171875 22.796875 51.125 \nL 22.796875 13.484375 \nQ 22.796875 3.765625 37.796875 3.8125 \nQ 52.875 3.8125 52.875 13.484375 \nL 52.875 24.609375 \nQ 48.296875 23.640625 45.40625 23.578125 \nQ 38.421875 23.578125 33.203125 27.390625 \nQ 27.984375 31.203125 27.984375 36.71875 \nQ 27.984375 40.234375 30.4375 42.625 \nQ 32.90625 45.015625 36.28125 45.015625 \nQ 39.796875 45.015625 42.234375 42.59375 \nQ 44.671875 40.1875 44.671875 36.71875 \nQ 44.671875 31.390625 39.3125 28.90625 \nQ 41.21875 27.78125 45.40625 27.78125 \nQ 49.609375 27.78125 52.875 29.390625 \nL 52.875 60.015625 \nL 58.40625 60.015625 \nL 58.40625 32.421875 \nQ 62.109375 35.203125 64.40625 39.5 \nL 67.828125 36.625 \nQ 65.625 32.421875 58.40625 26.8125 \nL 58.40625 12.984375 \nQ 58.40625 -1.21875 37.890625 -1.21875 \nQ 17.28125 -1.21875 17.28125 12.984375 \nL 17.28125 42.09375 \nQ 15.28125 40.96875 12.703125 41.015625 \nQ 8.59375 41.015625 5.59375 44.015625 \nQ 2.59375 47.015625 2.59375 51.125 \nz\nM 7.515625 51.125 \nQ 7.515625 49.03125 9.046875 47.46875 \nQ 10.59375 45.90625 12.703125 45.90625 \nQ 14.796875 45.90625 16.359375 47.46875 \nQ 17.921875 49.03125 17.921875 51.125 \nQ 17.921875 53.21875 16.359375 54.75 \nQ 14.796875 56.296875 12.703125 56.296875 \nQ 10.59375 56.296875 9.046875 54.75 \nQ 7.515625 53.21875 7.515625 51.125 \nz\nM 32.078125 36.71875 \nQ 32.078125 35.015625 33.34375 33.8125 \nQ 34.625 32.625 36.28125 32.625 \nQ 37.890625 32.625 39.1875 33.8125 \nQ 40.484375 35.015625 40.484375 36.71875 \nQ 40.484375 38.421875 39.1875 39.71875 \nQ 37.890625 41.015625 36.28125 41.015625 \nQ 34.578125 41.015625 33.328125 39.71875 \nQ 32.078125 38.421875 32.078125 36.71875 \nz\n\" id=\"THSarabunNew-3625\"/>\n        <path d=\"M -2.09375 -24.90625 \nQ -2.09375 -21.296875 0.953125 -19.28125 \nQ 4 -17.28125 8.109375 -17.28125 \nQ 11.625 -17.28125 13.484375 -18.109375 \nQ 14.359375 -11.8125 20.21875 -8.6875 \nL 24.3125 -10.984375 \nQ 18.109375 -14.0625 17.921875 -20.015625 \nL 24.609375 -27.78125 \nL 31.203125 -24.515625 \nL 38.625 -29.109375 \nL 38.625 -22.21875 \nQ 37.84375 -22.3125 36.078125 -22.3125 \nQ 32.859375 -22.3125 30.59375 -20.265625 \nQ 28.328125 -18.21875 28.328125 -15.28125 \nQ 28.328125 -12.40625 30.609375 -10.34375 \nQ 32.90625 -8.296875 36.078125 -8.296875 \nQ 39.15625 -8.296875 41.46875 -10.203125 \nQ 43.796875 -12.109375 43.796875 -15.28125 \nL 43.796875 -33.015625 \nL 37.796875 -33.015625 \nL 31.203125 -28.90625 \nL 24.515625 -32.90625 \nL 17.578125 -24.515625 \nQ 17.390625 -28.8125 14.5 -31.25 \nQ 11.625 -33.6875 7.625 -33.6875 \nQ -2.09375 -33.5 -2.09375 -24.90625 \nz\nM 2.59375 -25.390625 \nQ 2.59375 -29.390625 7.328125 -29.390625 \nQ 13.234375 -29.390625 13.1875 -24.515625 \nQ 13.1875 -23.734375 12.890625 -22.515625 \nQ 11.28125 -21.390625 7.625 -21.390625 \nQ 2.59375 -21.6875 2.59375 -25.390625 \nz\nM 4 44.828125 \nQ 4.390625 51.90625 9.296875 56.546875 \nQ 14.203125 61.1875 22.3125 61.1875 \nQ 25.640625 61.1875 31 59.5 \nQ 36.375 57.8125 39.3125 57.8125 \nQ 43.015625 57.8125 43.796875 61.1875 \nL 48.484375 60.109375 \nQ 46.09375 52.203125 39.59375 52.203125 \nQ 36.28125 52.203125 30.390625 54 \nQ 24.515625 55.8125 21.390625 55.8125 \nQ 17.875 55.8125 14.578125 53.75 \nQ 11.28125 51.703125 10.984375 49.03125 \nQ 26.265625 45.953125 32.71875 43.5 \nQ 43.3125 39.59375 43.3125 34.28125 \nL 43.3125 12.109375 \nQ 43.3125 -1.375 31.109375 -1.421875 \nQ 19 -1.421875 19 12.109375 \nL 19 19.921875 \nQ 17.28125 19.34375 15.09375 19.28125 \nQ 11.28125 19.28125 8.6875 21.796875 \nQ 6.109375 24.3125 6.109375 28.21875 \nQ 6.109375 32.125 8.6875 34.8125 \nQ 11.28125 37.5 15.09375 37.5 \nQ 19.09375 37.5 21.796875 35.109375 \nQ 24.515625 32.71875 24.515625 28.515625 \nL 24.515625 11.625 \nQ 24.515625 3.71875 31.109375 3.71875 \nQ 37.796875 3.71875 37.796875 11.625 \nL 37.796875 33.796875 \nQ 37.796875 37.5 23 41.21875 \nQ 14.109375 43.5 4 44.828125 \nz\nM 11.1875 28.328125 \nQ 11.1875 26.609375 12.328125 25.453125 \nQ 13.484375 24.3125 15.09375 24.3125 \nQ 16.796875 24.3125 18.03125 25.453125 \nQ 19.28125 26.609375 19.28125 28.328125 \nQ 19.28125 30.03125 18.03125 31.21875 \nQ 16.796875 32.421875 15.09375 32.421875 \nQ 13.484375 32.421875 12.328125 31.21875 \nQ 11.1875 30.03125 11.1875 28.328125 \nz\nM 32.421875 -15.28125 \nQ 32.421875 -18.796875 36.078125 -18.796875 \nQ 39.796875 -18.796875 39.796875 -15.28125 \nQ 39.796875 -11.859375 36.078125 -11.921875 \nQ 32.421875 -11.859375 32.421875 -15.28125 \nz\n\" id=\"THSarabunNew-3600\"/>\n        <path d=\"M 5.515625 41.609375 \nQ 6.734375 50.203125 13.203125 55.6875 \nQ 19.671875 61.1875 28.609375 61.1875 \nQ 38.625 61.1875 44.546875 55.6875 \nQ 50.484375 50.203125 50.484375 40.484375 \nL 50.484375 0 \nL 45.015625 0 \nL 45.015625 39.890625 \nQ 45.015625 47.40625 40.296875 51.84375 \nQ 35.59375 56.296875 28.328125 56.296875 \nQ 23.140625 56.296875 18.203125 53.390625 \nQ 13.28125 50.484375 11.53125 45.90625 \nQ 20.515625 45.125 23.875 39.203125 \nQ 20.171875 38.421875 17.4375 35.09375 \nQ 14.703125 31.78125 14.703125 27.78125 \nL 14.703125 0 \nL 9.1875 0 \nL 9.1875 27.6875 \nQ 9.1875 36.671875 17.09375 39.890625 \nQ 12.109375 42.390625 5.515625 41.609375 \nz\n\" id=\"THSarabunNew-3585\"/>\n        <path d=\"M 3.71875 45.3125 \nQ 4.390625 51.703125 9.625 56 \nQ 15.921875 61.1875 26.21875 61.1875 \nQ 47.609375 61.1875 47.609375 45.125 \nL 47.609375 9.90625 \nQ 47.609375 -1.375 36.71875 -1.421875 \nQ 28.21875 -1.421875 26.90625 7.171875 \nL 24.3125 24.3125 \nQ 22.015625 23 19.09375 23 \nQ 15.28125 23 12.6875 25.609375 \nQ 10.109375 28.21875 10.109375 31.984375 \nQ 10.109375 35.984375 12.6875 38.640625 \nQ 15.28125 41.3125 19.09375 41.3125 \nQ 22.515625 41.3125 25.09375 39.109375 \nQ 27.6875 36.921875 28.328125 33.5 \nL 32.71875 7.515625 \nQ 33.40625 3.71875 37.015625 3.71875 \nQ 42.09375 3.71875 42.09375 9.1875 \nL 42.09375 45.125 \nQ 42.09375 51.125 37.359375 53.65625 \nQ 32.625 56.203125 26.3125 56.203125 \nQ 19.4375 56.203125 14.921875 53.25 \nQ 10.40625 50.296875 9.28125 45.3125 \nz\nM 14.703125 31.984375 \nQ 14.703125 29.984375 15.984375 28.6875 \nQ 17.28125 27.390625 19.28125 27.390625 \nQ 21.296875 27.390625 22.65625 28.6875 \nQ 24.03125 29.984375 24.03125 31.984375 \nQ 24.03125 33.984375 22.65625 35.34375 \nQ 21.296875 36.71875 19.28125 36.71875 \nQ 17.28125 36.71875 15.984375 35.34375 \nQ 14.703125 33.984375 14.703125 31.984375 \nz\n\" id=\"THSarabunNew-3592\"/>\n       </defs>\n       <use xlink:href=\"#THSarabunNew-3648\"/>\n       <use x=\"30.957031\" xlink:href=\"#THSarabunNew-3624\"/>\n       <use x=\"91.015625\" xlink:href=\"#THSarabunNew-3619\"/>\n       <use x=\"140.185547\" xlink:href=\"#THSarabunNew-3625\"/>\n       <use x=\"207.177734\" xlink:href=\"#THSarabunNew-3600\"/>\n       <use x=\"259.570312\" xlink:href=\"#THSarabunNew-3585\"/>\n       <use x=\"318.554688\" xlink:href=\"#THSarabunNew-3636\"/>\n       <use x=\"318.554688\" xlink:href=\"#THSarabunNew-3592\"/>\n      </g>\n     </g>\n    </g>\n    <g id=\"xtick_3\">\n     <g id=\"line2d_3\">\n      <g>\n       <use style=\"stroke:#000000;stroke-width:0.8;\" x=\"222.29387\" xlink:href=\"#m36640f887b\" y=\"170.28\"/>\n      </g>\n     </g>\n     <g id=\"text_3\">\n      <!-- ภาพยนตร์ -->\n      <g transform=\"translate(219.734495 218.472188)rotate(-90)scale(0.1 -0.1)\">\n       <defs>\n        <path d=\"M 3.71875 8.6875 \nQ 3.71875 12.890625 6.609375 15.84375 \nQ 9.515625 18.796875 13.625 18.796875 \nQ 15.328125 18.796875 17.28125 18.109375 \nQ 16.40625 25.09375 16.40625 28.8125 \nQ 16.40625 35.796875 22.515625 39.796875 \nQ 18.40625 41.609375 14.40625 41.609375 \nQ 12.40625 41.609375 11.53125 41.5 \nQ 12.203125 50 18.890625 55.59375 \nQ 25.59375 61.1875 34.421875 61.1875 \nQ 44.234375 61.1875 50.359375 55.59375 \nQ 56.5 50 56.5 40.375 \nL 56.5 0 \nL 50.875 0 \nL 50.875 39.796875 \nQ 50.875 47.3125 46.234375 51.796875 \nQ 41.609375 56.296875 34.28125 56.296875 \nQ 29.109375 56.296875 24.25 53.296875 \nQ 19.390625 50.296875 17.578125 45.703125 \nQ 25.6875 45.015625 29.984375 39.015625 \nQ 21.6875 36.328125 21.6875 27.78125 \nQ 21.6875 21.875 23.09375 15.578125 \nQ 23.6875 12.890625 23.6875 9.1875 \nQ 23.6875 4.6875 21.046875 1.734375 \nQ 18.40625 -1.21875 13.625 -1.21875 \nQ 9.515625 -1.21875 6.609375 1.6875 \nQ 3.71875 4.59375 3.71875 8.6875 \nz\nM 8.59375 8.6875 \nQ 8.59375 6.59375 10.0625 5.15625 \nQ 11.53125 3.71875 13.625 3.71875 \nQ 15.828125 3.71875 17.3125 5.15625 \nQ 18.796875 6.59375 18.796875 8.6875 \nQ 18.796875 10.890625 17.3125 12.40625 \nQ 15.828125 13.921875 13.625 13.921875 \nQ 11.53125 13.921875 10.0625 12.40625 \nQ 8.59375 10.890625 8.59375 8.6875 \nz\n\" id=\"THSarabunNew-3616\"/>\n        <path d=\"M 3.71875 45.015625 \nQ 3.8125 51.421875 8.8125 56.296875 \nQ 13.8125 61.1875 21.578125 61.1875 \nQ 30.375 61.1875 35.078125 56.890625 \nQ 39.796875 52.59375 39.796875 45.609375 \nL 39.796875 0 \nL 34.28125 0 \nL 34.28125 45.703125 \nQ 34.28125 50.296875 30.828125 53.296875 \nQ 27.390625 56.296875 21.390625 56.296875 \nQ 16.0625 56.296875 12.84375 52.703125 \nQ 9.625 49.125 9.28125 45.015625 \nz\n\" id=\"THSarabunNew-3634\"/>\n        <path d=\"M 2.59375 51.125 \nQ 2.59375 55.21875 5.59375 58.203125 \nQ 8.59375 61.1875 12.703125 61.1875 \nQ 16.796875 61.1875 19.796875 58.171875 \nQ 22.796875 55.171875 22.796875 51.125 \nL 22.796875 19.09375 \nQ 22.796875 15.28125 22.015625 8.40625 \nQ 23.140625 13.484375 24.8125 19.578125 \nL 35.984375 60.015625 \nL 41.21875 60.015625 \nL 52.296875 19.578125 \nQ 54 13.484375 55.078125 8.40625 \nQ 54.296875 15.28125 54.296875 19.09375 \nL 54.296875 60.015625 \nL 59.8125 60.015625 \nL 59.8125 0 \nL 53.078125 0 \nL 38.625 53.078125 \nL 24.03125 0 \nL 17.28125 0 \nL 17.28125 42.09375 \nQ 15.28125 40.96875 12.703125 41.015625 \nQ 8.59375 41.015625 5.59375 44.015625 \nQ 2.59375 47.015625 2.59375 51.125 \nz\nM 7.515625 51.125 \nQ 7.515625 49.03125 9.046875 47.46875 \nQ 10.59375 45.90625 12.703125 45.90625 \nQ 14.796875 45.90625 16.359375 47.46875 \nQ 17.921875 49.03125 17.921875 51.125 \nQ 17.921875 53.21875 16.359375 54.75 \nQ 14.796875 56.296875 12.703125 56.296875 \nQ 10.59375 56.296875 9.046875 54.75 \nQ 7.515625 53.21875 7.515625 51.125 \nz\n\" id=\"THSarabunNew-3614\"/>\n        <path d=\"M 6.390625 47.703125 \nQ 6.390625 53.71875 9.828125 57.453125 \nQ 13.28125 61.1875 19.390625 61.1875 \nQ 23.296875 61.1875 25.75 58.59375 \nQ 28.21875 56 28.21875 52.484375 \nQ 28.21875 48.96875 25.890625 46.421875 \nQ 23.578125 43.890625 19.390625 43.890625 \nQ 13.765625 43.890625 11.53125 49.03125 \nQ 11.328125 48.53125 11.28125 46.484375 \nQ 11.28125 42.1875 13.984375 38.6875 \nQ 16.703125 35.203125 21 35.203125 \nL 29.6875 35.203125 \nL 29.6875 29.984375 \nL 20.796875 29.984375 \nQ 17.390625 29.984375 15.140625 27.53125 \nQ 12.890625 25.09375 12.890625 21.09375 \nL 12.890625 14.109375 \nQ 12.890625 3.8125 28.21875 3.8125 \nQ 43.3125 3.8125 43.3125 14.109375 \nL 43.3125 60.015625 \nL 48.78125 60.015625 \nL 48.78125 13.625 \nQ 48.78125 -1.171875 28.21875 -1.21875 \nQ 7.328125 -1.21875 7.328125 13.625 \nL 7.328125 21.390625 \nQ 7.328125 24.90625 9.421875 28.140625 \nQ 11.53125 31.390625 14.5 32.625 \nQ 6.390625 36.078125 6.390625 47.703125 \nz\nM 14.5 52.484375 \nQ 14.5 47.703125 19.28125 47.703125 \nQ 21.390625 47.703125 22.796875 49 \nQ 24.21875 50.296875 24.21875 52.484375 \nQ 24.21875 54.59375 22.796875 56 \nQ 21.390625 57.421875 19.28125 57.421875 \nQ 17.09375 57.421875 15.796875 56 \nQ 14.5 54.59375 14.5 52.484375 \nz\n\" id=\"THSarabunNew-3618\"/>\n        <path d=\"M 4.890625 38.921875 \nQ 4.890625 46.4375 8.296875 52.484375 \nQ 12.203125 59.375 19.09375 61.1875 \nL 28.609375 52.78125 \nL 37.3125 61.1875 \nQ 44.09375 59.96875 47.90625 53.421875 \nQ 51.3125 47.703125 51.3125 40.484375 \nL 51.3125 0 \nL 45.703125 0 \nL 45.703125 39.796875 \nQ 45.703125 51.078125 38.375 55.515625 \nL 28.609375 46.484375 \nL 18.21875 55.515625 \nQ 10.59375 50.640625 10.59375 39.59375 \nQ 10.59375 34.90625 13.03125 26.5625 \nQ 15.484375 18.21875 15.484375 12.109375 \nQ 17 15.09375 21.65625 18.9375 \nQ 26.3125 22.796875 27.78125 25.09375 \nQ 24.265625 25.390625 21.921875 27.859375 \nQ 19.578125 30.328125 19.578125 33.984375 \nQ 19.578125 37.796875 22.09375 40.40625 \nQ 24.609375 43.015625 28.515625 43.015625 \nQ 32.328125 43.015625 34.90625 40.40625 \nQ 37.5 37.796875 37.5 33.984375 \nQ 37.5 26.90625 26.796875 17.109375 \nQ 16.109375 7.328125 15.578125 0 \nL 10.109375 0 \nL 10.109375 13.8125 \nQ 10.109375 18.21875 7.5 26.421875 \nQ 4.890625 34.625 4.890625 38.921875 \nz\nM 24.03125 34.078125 \nQ 24.03125 32.078125 25.421875 30.734375 \nQ 26.8125 29.390625 28.8125 29.390625 \nQ 30.8125 29.390625 32.15625 30.734375 \nQ 33.5 32.078125 33.5 34.078125 \nQ 33.5 36.078125 32.15625 37.5 \nQ 30.8125 38.921875 28.8125 38.921875 \nQ 26.8125 38.921875 25.421875 37.5 \nQ 24.03125 36.078125 24.03125 34.078125 \nz\n\" id=\"THSarabunNew-3605\"/>\n        <path d=\"M -27.203125 104.203125 \nQ -27.203125 114.3125 -16.796875 117.1875 \nL -10.109375 119.1875 \nQ -6.390625 120.40625 -6.390625 123.484375 \nL -1.703125 123.484375 \nQ -2.09375 118.609375 -6.59375 116.40625 \nQ -8.984375 115.09375 -13.484375 114.109375 \nQ -17.671875 113.421875 -18.796875 112.109375 \nQ -15.578125 111.8125 -13.421875 109.609375 \nQ -11.28125 107.421875 -11.28125 104.203125 \nQ -11.28125 100.78125 -13.59375 98.578125 \nQ -15.921875 96.390625 -19.09375 96.390625 \nQ -22.515625 96.390625 -24.859375 98.578125 \nQ -27.203125 100.78125 -27.203125 104.203125 \nz\nM -23 104 \nQ -23 102.484375 -21.84375 101.28125 \nQ -20.703125 100.09375 -19 100.09375 \nQ -17.390625 100.09375 -16.234375 101.28125 \nQ -15.09375 102.484375 -15.09375 104 \nQ -15.09375 105.609375 -16.234375 106.8125 \nQ -17.390625 108.015625 -19 108.015625 \nQ -20.703125 108.015625 -21.84375 106.8125 \nQ -23 105.609375 -23 104 \nz\n\" id=\"THSarabunNew-3660\"/>\n       </defs>\n       <use xlink:href=\"#THSarabunNew-3616\"/>\n       <use x=\"64.990234\" xlink:href=\"#THSarabunNew-3634\"/>\n       <use x=\"113.28125\" xlink:href=\"#THSarabunNew-3614\"/>\n       <use x=\"181.542969\" xlink:href=\"#THSarabunNew-3618\"/>\n       <use x=\"238.818359\" xlink:href=\"#THSarabunNew-3609\"/>\n       <use x=\"302.978516\" xlink:href=\"#THSarabunNew-3605\"/>\n       <use x=\"362.744141\" xlink:href=\"#THSarabunNew-3619\"/>\n       <use x=\"411.914062\" xlink:href=\"#THSarabunNew-3660\"/>\n      </g>\n     </g>\n    </g>\n    <g id=\"xtick_4\">\n     <g id=\"line2d_4\">\n      <g>\n       <use style=\"stroke:#000000;stroke-width:0.8;\" x=\"290.970793\" xlink:href=\"#m36640f887b\" y=\"170.28\"/>\n      </g>\n     </g>\n     <g id=\"text_4\">\n      <!-- ในประเทศ -->\n      <g transform=\"translate(288.411418 219.975313)rotate(-90)scale(0.1 -0.1)\">\n       <defs>\n        <path d=\"M -6.390625 85.6875 \nQ -6.390625 92 -2 96.234375 \nQ 2.390625 100.484375 9.90625 100.484375 \nQ 15.53125 100.484375 19.875 97.046875 \nQ 24.21875 93.609375 24.21875 88.28125 \nQ 24.21875 85.0625 21.796875 79.375 \nQ 19.390625 73.6875 19.390625 70.703125 \nL 19.390625 18.21875 \nQ 21.578125 19.4375 24.515625 19.390625 \nQ 28.609375 19.390625 31.65625 16.4375 \nQ 34.71875 13.484375 34.71875 9.1875 \nQ 34.71875 4.890625 31.65625 1.828125 \nQ 28.609375 -1.21875 24.515625 -1.21875 \nQ 19.625 -1.21875 16.5 2.09375 \nQ 13.921875 4.984375 13.921875 9.1875 \nL 13.921875 71.78125 \nQ 13.921875 74.359375 15.28125 77.6875 \nQ 18.5 85.5 18.5 87.40625 \nQ 18.5 91.21875 15.890625 93.65625 \nQ 13.28125 96.09375 9.515625 96.09375 \nQ 3.8125 96.09375 0.78125 92.578125 \nQ 4.890625 93.171875 7.640625 90.71875 \nQ 10.40625 88.28125 10.40625 84.28125 \nQ 10.40625 80.765625 7.953125 78.3125 \nQ 5.515625 75.875 2.09375 75.875 \nQ -1.21875 75.875 -3.796875 78.34375 \nQ -6.390625 80.8125 -6.390625 85.6875 \nz\nM -2.296875 84.28125 \nQ -2.296875 82.5625 -1.140625 81.265625 \nQ 0 79.984375 2 79.984375 \nQ 4 79.984375 5.140625 81.296875 \nQ 6.296875 82.625 6.296875 84.28125 \nQ 6.296875 85.984375 5.140625 87.296875 \nQ 4 88.625 2 88.625 \nQ 0 88.625 -1.140625 87.296875 \nQ -2.296875 85.984375 -2.296875 84.28125 \nz\nM 19.28125 9.1875 \nQ 19.28125 6.984375 20.75 5.484375 \nQ 22.21875 4 24.3125 4 \nQ 26.515625 4 28.09375 5.484375 \nQ 29.6875 6.984375 29.6875 9.1875 \nQ 29.6875 11.28125 28.09375 12.84375 \nQ 26.515625 14.40625 24.3125 14.40625 \nQ 22.3125 14.40625 20.796875 12.84375 \nQ 19.28125 11.28125 19.28125 9.1875 \nz\n\" id=\"THSarabunNew-3651\"/>\n        <path d=\"M 2.59375 51.125 \nQ 2.59375 55.21875 5.59375 58.203125 \nQ 8.59375 61.1875 12.703125 61.1875 \nQ 16.796875 61.1875 19.796875 58.171875 \nQ 22.796875 55.171875 22.796875 51.125 \nL 22.796875 13.484375 \nQ 22.796875 3.765625 37.203125 3.8125 \nQ 51.421875 3.8125 51.421875 13.484375 \nL 51.421875 85.5 \nL 56.890625 85.5 \nL 56.890625 12.984375 \nQ 56.890625 -1.21875 37.203125 -1.21875 \nQ 17.28125 -1.21875 17.28125 12.984375 \nL 17.28125 42.09375 \nQ 15.28125 40.96875 12.703125 41.015625 \nQ 8.59375 41.015625 5.59375 44.015625 \nQ 2.59375 47.015625 2.59375 51.125 \nz\nM 7.515625 51.125 \nQ 7.515625 49.03125 9.046875 47.46875 \nQ 10.59375 45.90625 12.703125 45.90625 \nQ 14.796875 45.90625 16.359375 47.46875 \nQ 17.921875 49.03125 17.921875 51.125 \nQ 17.921875 53.21875 16.359375 54.75 \nQ 14.796875 56.296875 12.703125 56.296875 \nQ 10.59375 56.296875 9.046875 54.75 \nQ 7.515625 53.21875 7.515625 51.125 \nz\n\" id=\"THSarabunNew-3611\"/>\n        <path d=\"M 4.6875 15.828125 \nQ 4.6875 19.734375 7.640625 22.65625 \nQ 10.59375 25.59375 14.5 25.59375 \nQ 18.5 25.59375 21.40625 22.625 \nQ 24.3125 19.671875 24.3125 15.828125 \nQ 24.3125 10.640625 19.921875 7.625 \nQ 22.3125 7.03125 23.6875 6.984375 \nQ 31.984375 7.28125 36.234375 12.421875 \nQ 40.484375 17.578125 40.921875 25.984375 \nL 46.390625 25.984375 \nQ 46.09375 15.578125 40.078125 8.9375 \nQ 34.078125 2.296875 24.609375 2.296875 \nQ 16.796875 2.296875 11.53125 5.171875 \nQ 4.6875 8.734375 4.6875 15.828125 \nz\nM 4.6875 48.1875 \nQ 4.6875 52.203125 7.640625 55.109375 \nQ 10.59375 58.015625 14.5 58.015625 \nQ 18.5 58.015625 21.40625 55.109375 \nQ 24.3125 52.203125 24.3125 48.1875 \nQ 24.3125 43.015625 19.921875 40.09375 \nQ 22.3125 39.5 23.6875 39.5 \nQ 31.984375 39.796875 36.234375 44.890625 \nQ 40.484375 50 40.921875 58.40625 \nL 46.390625 58.40625 \nQ 46.09375 48 40.078125 41.359375 \nQ 34.078125 34.71875 24.609375 34.71875 \nQ 16.796875 34.71875 11.53125 37.59375 \nQ 4.6875 41.21875 4.6875 48.1875 \nz\nM 9.515625 15.828125 \nQ 9.515625 13.625 10.8125 12.296875 \nQ 12.109375 10.984375 14.203125 10.984375 \nQ 16.40625 10.984375 17.75 12.296875 \nQ 19.09375 13.625 19.09375 15.828125 \nQ 19.09375 17.921875 17.75 19.3125 \nQ 16.40625 20.703125 14.203125 20.703125 \nQ 12.109375 20.703125 10.8125 19.3125 \nQ 9.515625 17.921875 9.515625 15.828125 \nz\nM 9.515625 48.1875 \nQ 9.515625 46.09375 10.8125 44.796875 \nQ 12.109375 43.5 14.203125 43.5 \nQ 16.40625 43.5 17.75 44.796875 \nQ 19.09375 46.09375 19.09375 48.1875 \nQ 19.09375 50.296875 17.75 51.6875 \nQ 16.40625 53.078125 14.203125 53.078125 \nQ 12.109375 53.078125 10.8125 51.6875 \nQ 9.515625 50.296875 9.515625 48.1875 \nz\n\" id=\"THSarabunNew-3632\"/>\n       </defs>\n       <use xlink:href=\"#THSarabunNew-3651\"/>\n       <use x=\"36.962891\" xlink:href=\"#THSarabunNew-3609\"/>\n       <use x=\"101.123047\" xlink:href=\"#THSarabunNew-3611\"/>\n       <use x=\"166.503906\" xlink:href=\"#THSarabunNew-3619\"/>\n       <use x=\"215.673828\" xlink:href=\"#THSarabunNew-3632\"/>\n       <use x=\"270.263672\" xlink:href=\"#THSarabunNew-3648\"/>\n       <use x=\"301.220703\" xlink:href=\"#THSarabunNew-3607\"/>\n       <use x=\"366.894531\" xlink:href=\"#THSarabunNew-3624\"/>\n      </g>\n     </g>\n    </g>\n    <g id=\"xtick_5\">\n     <g id=\"line2d_5\">\n      <g>\n       <use style=\"stroke:#000000;stroke-width:0.8;\" x=\"359.647716\" xlink:href=\"#m36640f887b\" y=\"170.28\"/>\n      </g>\n     </g>\n     <g id=\"text_5\">\n      <!-- ต่างประเทศ -->\n      <g transform=\"translate(357.088341 225.156563)rotate(-90)scale(0.1 -0.1)\">\n       <defs>\n        <path d=\"M -13.625 104 \nL -13.625 121 \nL -8.59375 121 \nL -8.59375 104 \nz\n\" id=\"THSarabunNew-3656\"/>\n       </defs>\n       <use xlink:href=\"#THSarabunNew-3605\"/>\n       <use x=\"59.765625\" xlink:href=\"#THSarabunNew-3656\"/>\n       <use x=\"59.765625\" xlink:href=\"#THSarabunNew-3634\"/>\n       <use x=\"108.056641\" xlink:href=\"#THSarabunNew-3591\"/>\n       <use x=\"152.929688\" xlink:href=\"#THSarabunNew-3611\"/>\n       <use x=\"218.310547\" xlink:href=\"#THSarabunNew-3619\"/>\n       <use x=\"267.480469\" xlink:href=\"#THSarabunNew-3632\"/>\n       <use x=\"322.070312\" xlink:href=\"#THSarabunNew-3648\"/>\n       <use x=\"353.027344\" xlink:href=\"#THSarabunNew-3607\"/>\n       <use x=\"418.701172\" xlink:href=\"#THSarabunNew-3624\"/>\n      </g>\n     </g>\n    </g>\n    <g id=\"xtick_6\">\n     <g id=\"line2d_6\">\n      <g>\n       <use style=\"stroke:#000000;stroke-width:0.8;\" x=\"428.324639\" xlink:href=\"#m36640f887b\" y=\"170.28\"/>\n      </g>\n     </g>\n     <g id=\"text_6\">\n      <!-- เทคโนโลยี -->\n      <g transform=\"translate(425.765264 218.145625)rotate(-90)scale(0.1 -0.1)\">\n       <defs>\n        <path d=\"M 4.984375 39.015625 \nQ 4.984375 49.03125 11.734375 55.109375 \nQ 18.5 61.1875 28.609375 61.1875 \nQ 37.890625 61.1875 44.75 56.25 \nQ 51.609375 51.3125 51.609375 41.609375 \nL 51.609375 0 \nL 46.09375 0 \nL 46.09375 41.21875 \nQ 46.09375 48.53125 40.640625 52.40625 \nQ 35.203125 56.296875 28.328125 56.296875 \nQ 21.34375 56.296875 16.015625 51.484375 \nQ 10.6875 46.6875 10.6875 39.59375 \nQ 10.6875 36.28125 11.921875 31.5 \nQ 13.625 24.8125 13.8125 23.875 \nQ 15.140625 32.5625 18.5 38.71875 \nQ 23 46.734375 29.6875 46.6875 \nQ 33.5 46.6875 35.9375 44.234375 \nQ 38.375 41.796875 38.375 37.59375 \nQ 38.375 33.796875 35.78125 31.15625 \nQ 33.203125 28.515625 29.390625 28.515625 \nQ 25.390625 28.515625 22.3125 32.078125 \nQ 20.21875 28.859375 18.109375 23 \nQ 15.53125 15.578125 15.484375 9.90625 \nL 15.484375 0 \nL 9.90625 0 \nL 9.90625 14.109375 \nQ 9.90625 18.5 7.4375 26.609375 \nQ 4.984375 34.71875 4.984375 39.015625 \nz\nM 24.609375 37.59375 \nQ 24.609375 35.59375 26 34.25 \nQ 27.390625 32.90625 29.390625 32.90625 \nQ 31.390625 32.90625 32.734375 34.25 \nQ 34.078125 35.59375 34.078125 37.59375 \nQ 34.078125 39.59375 32.734375 40.984375 \nQ 31.390625 42.390625 29.390625 42.390625 \nQ 27.390625 42.390625 26 40.984375 \nQ 24.609375 39.59375 24.609375 37.59375 \nz\n\" id=\"THSarabunNew-3588\"/>\n        <path d=\"M -6 85.203125 \nQ -5.21875 99.609375 8.109375 99.609375 \nQ 10.59375 99.609375 16.078125 97.265625 \nQ 21.578125 94.921875 23.390625 94.921875 \nQ 26.171875 94.921875 26.8125 98.6875 \nL 31.390625 97.515625 \nQ 29.203125 89.796875 24.21875 89.796875 \nQ 21.734375 89.796875 16.015625 92.359375 \nQ 10.296875 94.921875 7.625 94.921875 \nQ 0.921875 94.921875 0.484375 89.203125 \nQ 18.703125 83.796875 18.703125 72.21875 \nL 18.703125 18.21875 \nQ 20.796875 19.4375 23.578125 19.390625 \nQ 27.78125 19.390625 30.875 16.4375 \nQ 33.984375 13.484375 33.984375 9.1875 \nQ 33.984375 4.890625 30.875 1.828125 \nQ 27.78125 -1.21875 23.578125 -1.21875 \nQ 18.703125 -1.21875 15.828125 2.09375 \nQ 13.234375 4.984375 13.1875 9.1875 \nL 13.1875 72.796875 \nQ 13.1875 77.09375 6.59375 81.09375 \nQ 0 85.109375 -6 85.203125 \nz\nM 18.5 9.1875 \nQ 18.5 6.984375 19.9375 5.484375 \nQ 21.390625 4 23.578125 4 \nQ 25.6875 4 27.296875 5.484375 \nQ 28.90625 6.984375 28.90625 9.1875 \nQ 28.90625 11.28125 27.296875 12.84375 \nQ 25.6875 14.40625 23.578125 14.40625 \nQ 21.578125 14.40625 20.03125 12.84375 \nQ 18.5 11.28125 18.5 9.1875 \nz\n\" id=\"THSarabunNew-3650\"/>\n        <path d=\"M 3.21875 45.3125 \nQ 4.34375 52.296875 11.53125 56.890625 \nQ 18.21875 61.1875 26.90625 61.1875 \nQ 35.796875 61.1875 42.1875 57.078125 \nQ 49.703125 52.203125 49.703125 43.796875 \nL 49.703125 0 \nL 44.1875 0 \nL 44.1875 26.21875 \nQ 44.1875 31.546875 38.625 34.71875 \nQ 33.84375 37.3125 27.484375 37.3125 \nQ 21.390625 37.3125 17.140625 34.0625 \nQ 12.890625 30.8125 12.890625 25.59375 \nL 12.890625 17.921875 \nQ 14.984375 19.046875 17.921875 19 \nQ 22.21875 19 25.09375 15.984375 \nQ 27.984375 12.984375 27.984375 8.890625 \nQ 27.984375 4.6875 25.09375 1.734375 \nQ 22.21875 -1.21875 17.921875 -1.21875 \nQ 13.234375 -1.21875 10.28125 1.828125 \nQ 7.328125 4.890625 7.328125 8.984375 \nL 7.328125 25.59375 \nQ 7.328125 33.203125 13.484375 38.09375 \nQ 19.09375 42.671875 27.09375 42.671875 \nQ 37.796875 42.671875 44.1875 36.625 \nL 44.1875 44.09375 \nQ 44.1875 49.609375 38.375 53.21875 \nQ 33.40625 56.296875 27.203125 56.296875 \nQ 20.796875 56.296875 15.578125 53.609375 \nQ 9.859375 50.53125 8.59375 45.3125 \nz\nM 12.703125 8.6875 \nQ 12.703125 6.59375 14.140625 5.15625 \nQ 15.578125 3.71875 17.671875 3.71875 \nQ 19.875 3.71875 21.4375 5.15625 \nQ 23 6.59375 23 8.6875 \nQ 23 10.890625 21.453125 12.40625 \nQ 19.921875 13.921875 17.671875 13.921875 \nQ 15.578125 13.921875 14.140625 12.40625 \nQ 12.703125 10.890625 12.703125 8.6875 \nz\n\" id=\"THSarabunNew-3621\"/>\n        <path d=\"M -52.78125 75 \nQ -52.59375 82.90625 -46.1875 87.796875 \nQ -40.375 92.28125 -32.328125 92.28125 \nQ -20.015625 92.28125 -13.625 84.1875 \nL -13.625 99.03125 \nL -8.59375 99.03125 \nL -8.59375 73.6875 \nQ -8.015625 71.78125 -7.625 69.578125 \nQ -25.203125 75.875 -40.71875 75.875 \nQ -46.1875 75.875 -52.78125 75 \nz\nM -46.484375 79.6875 \nQ -43.265625 80.171875 -39.3125 80.171875 \nQ -24.609375 80.171875 -13.625 75.390625 \nQ -20.3125 87.796875 -32.078125 87.796875 \nQ -42.78125 87.796875 -46.484375 79.6875 \nz\n\" id=\"THSarabunNew-3637\"/>\n       </defs>\n       <use xlink:href=\"#THSarabunNew-3648\"/>\n       <use x=\"30.957031\" xlink:href=\"#THSarabunNew-3607\"/>\n       <use x=\"96.630859\" xlink:href=\"#THSarabunNew-3588\"/>\n       <use x=\"156.689453\" xlink:href=\"#THSarabunNew-3650\"/>\n       <use x=\"192.871094\" xlink:href=\"#THSarabunNew-3609\"/>\n       <use x=\"257.03125\" xlink:href=\"#THSarabunNew-3650\"/>\n       <use x=\"293.212891\" xlink:href=\"#THSarabunNew-3621\"/>\n       <use x=\"351.367188\" xlink:href=\"#THSarabunNew-3618\"/>\n       <use x=\"408.642578\" xlink:href=\"#THSarabunNew-3637\"/>\n      </g>\n     </g>\n    </g>\n    <g id=\"xtick_7\">\n     <g id=\"line2d_7\">\n      <g>\n       <use style=\"stroke:#000000;stroke-width:0.8;\" x=\"497.001562\" xlink:href=\"#m36640f887b\" y=\"170.28\"/>\n      </g>\n     </g>\n     <g id=\"text_7\">\n      <!-- การเมือง -->\n      <g transform=\"translate(494.442187 212.545625)rotate(-90)scale(0.1 -0.1)\">\n       <defs>\n        <path d=\"M 2.59375 51.125 \nQ 2.59375 55.21875 5.59375 58.203125 \nQ 8.59375 61.1875 12.703125 61.1875 \nQ 16.796875 61.1875 19.796875 58.171875 \nQ 22.796875 55.171875 22.796875 51.125 \nL 22.796875 18.109375 \nQ 37.890625 12.703125 47.125 5.71875 \nL 47.125 60.015625 \nL 52.59375 60.015625 \nL 52.59375 0 \nL 46.6875 0 \nQ 34.671875 9.1875 24.3125 12.109375 \nQ 24.8125 10.6875 24.8125 9.28125 \nQ 24.8125 4.890625 21.65625 1.828125 \nQ 18.5 -1.21875 14.109375 -1.21875 \nQ 9.625 -1.21875 6.5625 1.828125 \nQ 3.515625 4.890625 3.515625 9.28125 \nQ 3.515625 13.765625 6.5625 16.890625 \nQ 9.625 20.015625 14.109375 20.015625 \nQ 15.828125 20.015625 17.28125 19.578125 \nL 17.28125 42.09375 \nQ 15.28125 40.96875 12.703125 41.015625 \nQ 8.59375 41.015625 5.59375 44.015625 \nQ 2.59375 47.015625 2.59375 51.125 \nz\nM 7.515625 51.125 \nQ 7.515625 49.03125 9.046875 47.46875 \nQ 10.59375 45.90625 12.703125 45.90625 \nQ 14.796875 45.90625 16.359375 47.46875 \nQ 17.921875 49.03125 17.921875 51.125 \nQ 17.921875 53.21875 16.359375 54.75 \nQ 14.796875 56.296875 12.703125 56.296875 \nQ 10.59375 56.296875 9.046875 54.75 \nQ 7.515625 53.21875 7.515625 51.125 \nz\nM 8.40625 9.515625 \nQ 8.40625 7.234375 10.109375 5.515625 \nQ 11.8125 3.8125 14.109375 3.8125 \nQ 16.40625 3.8125 18.03125 5.484375 \nQ 19.671875 7.171875 19.671875 9.515625 \nQ 19.671875 11.8125 18.03125 13.453125 \nQ 16.40625 15.09375 14.109375 15.09375 \nQ 11.8125 15.09375 10.109375 13.453125 \nQ 8.40625 11.8125 8.40625 9.515625 \nz\n\" id=\"THSarabunNew-3617\"/>\n        <path d=\"M -52.78125 75 \nQ -52.59375 82.90625 -46.1875 87.796875 \nQ -40.375 92.28125 -32.328125 92.28125 \nQ -28.8125 92.28125 -25.875 91.609375 \nL -25.875 99.03125 \nL -20.796875 99.03125 \nL -20.796875 89.796875 \nQ -16.5 87.796875 -13.625 84.1875 \nL -13.625 99.03125 \nL -8.59375 99.03125 \nL -8.59375 73.6875 \nQ -8.015625 71.78125 -7.625 69.578125 \nQ -25.203125 75.875 -40.71875 75.875 \nQ -46.1875 75.875 -52.78125 75 \nz\nM -46.484375 79.6875 \nQ -43.265625 80.171875 -39.3125 80.171875 \nQ -24.609375 80.171875 -13.625 75.390625 \nQ -20.3125 87.796875 -32.078125 87.796875 \nQ -42.78125 87.796875 -46.484375 79.6875 \nz\n\" id=\"THSarabunNew-3639\"/>\n        <path d=\"M 4 45.3125 \nQ 5.515625 52.484375 12 56.828125 \nQ 18.5 61.1875 27.984375 61.1875 \nQ 36.96875 61.1875 43.3125 56.890625 \nQ 50.640625 52 50.59375 43.609375 \nL 50.59375 12.984375 \nQ 50.296875 -1.21875 30.078125 -1.21875 \nQ 9.859375 -1.21875 9.90625 12.984375 \nL 9.90625 31.78125 \nQ 9.90625 35.984375 12.90625 38.9375 \nQ 15.921875 41.890625 20.015625 41.890625 \nQ 24.21875 41.890625 27.140625 38.9375 \nQ 30.078125 35.984375 30.078125 31.78125 \nQ 30.078125 27.6875 27.34375 24.6875 \nQ 24.609375 21.6875 20.015625 21.6875 \nQ 17.4375 21.6875 15.484375 22.796875 \nL 15.484375 14.203125 \nQ 15.484375 3.8125 30.421875 3.8125 \nQ 45.125 3.8125 45.125 14.203125 \nL 45.125 42.671875 \nQ 45.125 49.078125 39.796875 52.875 \nQ 34.90625 56.296875 27.6875 56.296875 \nQ 21.390625 56.296875 16.21875 53.421875 \nQ 10.59375 50.203125 9.515625 45.3125 \nz\nM 14.796875 31.78125 \nQ 14.796875 29.6875 16.359375 28.140625 \nQ 17.921875 26.609375 20.015625 26.609375 \nQ 22.21875 26.609375 23.703125 28.140625 \nQ 25.203125 29.6875 25.203125 31.78125 \nQ 25.203125 33.984375 23.703125 35.5 \nQ 22.21875 37.015625 20.015625 37.015625 \nQ 17.921875 37.015625 16.359375 35.5 \nQ 14.796875 33.984375 14.796875 31.78125 \nz\n\" id=\"THSarabunNew-3629\"/>\n       </defs>\n       <use xlink:href=\"#THSarabunNew-3585\"/>\n       <use x=\"58.984375\" xlink:href=\"#THSarabunNew-3634\"/>\n       <use x=\"107.275391\" xlink:href=\"#THSarabunNew-3619\"/>\n       <use x=\"156.445312\" xlink:href=\"#THSarabunNew-3648\"/>\n       <use x=\"187.402344\" xlink:href=\"#THSarabunNew-3617\"/>\n       <use x=\"248.583984\" xlink:href=\"#THSarabunNew-3639\"/>\n       <use x=\"248.583984\" xlink:href=\"#THSarabunNew-3629\"/>\n       <use x=\"307.763672\" xlink:href=\"#THSarabunNew-3591\"/>\n      </g>\n     </g>\n    </g>\n    <g id=\"xtick_8\">\n     <g id=\"line2d_8\">\n      <g>\n       <use style=\"stroke:#000000;stroke-width:0.8;\" x=\"565.678486\" xlink:href=\"#m36640f887b\" y=\"170.28\"/>\n      </g>\n     </g>\n     <g id=\"text_8\">\n      <!-- กีฬา -->\n      <g transform=\"translate(563.119111 194.947188)rotate(-90)scale(0.1 -0.1)\">\n       <defs>\n        <path d=\"M 2.59375 51.125 \nQ 2.59375 55.21875 5.59375 58.203125 \nQ 8.59375 61.1875 12.703125 61.1875 \nQ 16.796875 61.1875 19.796875 58.171875 \nQ 22.796875 55.171875 22.796875 51.125 \nL 22.796875 14.984375 \nQ 22.796875 12.5 22.3125 7.515625 \nQ 23.296875 10.109375 24.90625 14.109375 \nL 36.28125 35.5 \nL 41.5 35.5 \nL 52.78125 14.109375 \nQ 53.171875 12.984375 55.71875 7.515625 \nQ 55.421875 12.40625 55.421875 14.984375 \nL 55.421875 42.09375 \nQ 53.421875 40.96875 50.78125 41.015625 \nQ 46.6875 41.015625 43.703125 44.015625 \nQ 40.71875 47.015625 40.71875 51.125 \nQ 40.71875 55.21875 43.703125 58.203125 \nQ 46.6875 61.1875 50.78125 61.1875 \nQ 53.171875 61.1875 55.421875 60.015625 \nQ 58.40625 61.421875 59.1875 65.921875 \nL 66.21875 65.921875 \nQ 64.890625 60.296875 59.515625 56.203125 \nQ 60.9375 53.421875 60.890625 51.125 \nL 60.890625 0 \nL 54.203125 0 \nL 38.921875 29.78125 \nL 23.578125 0 \nL 17.28125 0 \nL 17.28125 42.09375 \nQ 15.28125 40.96875 12.703125 41.015625 \nQ 8.59375 41.015625 5.59375 44.015625 \nQ 2.59375 47.015625 2.59375 51.125 \nz\nM 7.515625 51.125 \nQ 7.515625 49.03125 9.046875 47.46875 \nQ 10.59375 45.90625 12.703125 45.90625 \nQ 14.796875 45.90625 16.359375 47.46875 \nQ 17.921875 49.03125 17.921875 51.125 \nQ 17.921875 53.21875 16.359375 54.75 \nQ 14.796875 56.296875 12.703125 56.296875 \nQ 10.59375 56.296875 9.046875 54.75 \nQ 7.515625 53.21875 7.515625 51.125 \nz\nM 45.609375 51.125 \nQ 45.609375 49.03125 47.140625 47.46875 \nQ 48.6875 45.90625 50.78125 45.90625 \nQ 52.875 45.90625 54.4375 47.46875 \nQ 56 49.03125 56 51.125 \nQ 56 53.21875 54.4375 54.75 \nQ 52.875 56.296875 50.78125 56.296875 \nQ 48.6875 56.296875 47.140625 54.75 \nQ 45.609375 53.21875 45.609375 51.125 \nz\n\" id=\"THSarabunNew-3628\"/>\n       </defs>\n       <use xlink:href=\"#THSarabunNew-3585\"/>\n       <use x=\"58.984375\" xlink:href=\"#THSarabunNew-3637\"/>\n       <use x=\"58.984375\" xlink:href=\"#THSarabunNew-3628\"/>\n       <use x=\"128.369141\" xlink:href=\"#THSarabunNew-3634\"/>\n      </g>\n     </g>\n    </g>\n    <g id=\"xtick_9\">\n     <g id=\"line2d_9\">\n      <g>\n       <use style=\"stroke:#000000;stroke-width:0.8;\" x=\"634.355409\" xlink:href=\"#m36640f887b\" y=\"170.28\"/>\n      </g>\n     </g>\n     <g id=\"text_9\">\n      <!-- ไลฟ์สไตล์ -->\n      <g transform=\"translate(631.796034 214.98)rotate(-90)scale(0.1 -0.1)\">\n       <defs>\n        <path d=\"M -5.421875 101.703125 \nL -0.59375 101.703125 \nQ 1.8125 88.421875 2.296875 81.6875 \nL 14.796875 100.203125 \nQ 16.796875 100.09375 18.234375 98.390625 \nQ 19.671875 96.6875 19.671875 94.921875 \nL 19.671875 18.21875 \nQ 21.875 19.4375 24.8125 19.390625 \nQ 28.90625 19.390625 31.953125 16.4375 \nQ 35.015625 13.484375 35.015625 9.1875 \nQ 35.015625 4.890625 31.953125 1.828125 \nQ 28.90625 -1.21875 24.8125 -1.21875 \nQ 19.921875 -1.21875 16.796875 2.09375 \nQ 14.203125 4.984375 14.203125 9.1875 \nL 14.203125 92 \nL 3.21875 75.984375 \nL -1.8125 77.875 \nQ -2.640625 88.09375 -5.421875 101.703125 \nz\nM 19.390625 9.1875 \nQ 19.390625 6.984375 20.953125 5.484375 \nQ 22.515625 4 24.609375 4 \nQ 26.8125 4 28.296875 5.484375 \nQ 29.78125 6.984375 29.78125 9.1875 \nQ 29.78125 11.28125 28.296875 12.84375 \nQ 26.8125 14.40625 24.609375 14.40625 \nQ 22.515625 14.40625 20.953125 12.84375 \nQ 19.390625 11.28125 19.390625 9.1875 \nz\n\" id=\"THSarabunNew-3652\"/>\n        <path d=\"M 2.59375 51.125 \nQ 2.59375 55.21875 5.59375 58.203125 \nQ 8.59375 61.1875 12.703125 61.1875 \nQ 16.796875 61.1875 19.796875 58.171875 \nQ 22.796875 55.171875 22.796875 51.125 \nL 22.796875 19.09375 \nQ 22.796875 15.28125 22.015625 8.40625 \nQ 23.140625 13.484375 24.8125 19.578125 \nL 35.984375 60.015625 \nL 41.21875 60.015625 \nL 52.296875 19.578125 \nQ 54 13.484375 55.078125 8.40625 \nQ 54.296875 15.28125 54.296875 19.09375 \nL 54.296875 85.5 \nL 59.8125 85.5 \nL 59.8125 0 \nL 53.078125 0 \nL 38.625 53.078125 \nL 24.03125 0 \nL 17.28125 0 \nL 17.28125 42.09375 \nQ 15.28125 40.96875 12.703125 41.015625 \nQ 8.59375 41.015625 5.59375 44.015625 \nQ 2.59375 47.015625 2.59375 51.125 \nz\nM 7.515625 51.125 \nQ 7.515625 49.03125 9.046875 47.46875 \nQ 10.59375 45.90625 12.703125 45.90625 \nQ 14.796875 45.90625 16.359375 47.46875 \nQ 17.921875 49.03125 17.921875 51.125 \nQ 17.921875 53.21875 16.359375 54.75 \nQ 14.796875 56.296875 12.703125 56.296875 \nQ 10.59375 56.296875 9.046875 54.75 \nQ 7.515625 53.21875 7.515625 51.125 \nz\n\" id=\"THSarabunNew-3615\"/>\n        <path d=\"M 3.21875 45.3125 \nQ 4.34375 52.296875 11.53125 56.890625 \nQ 18.21875 61.1875 26.90625 61.1875 \nQ 35.59375 61.1875 42.671875 56.78125 \nQ 45.90625 60.40625 46.78125 65.28125 \nL 52.296875 65.28125 \nQ 51.3125 59.1875 46.484375 53.21875 \nQ 49.703125 49.125 49.703125 43.796875 \nL 49.703125 0 \nL 44.1875 0 \nL 44.1875 24.90625 \nQ 44.1875 30.328125 38.625 33.5 \nQ 33.84375 36.078125 27.484375 36.078125 \nQ 21.390625 36.078125 17.140625 32.78125 \nQ 12.890625 29.5 12.890625 24.3125 \nL 12.890625 17.921875 \nQ 14.984375 19.046875 17.921875 19 \nQ 22.21875 19 25.09375 15.984375 \nQ 27.984375 12.984375 27.984375 8.890625 \nQ 27.984375 4.6875 25.09375 1.734375 \nQ 22.21875 -1.21875 17.921875 -1.21875 \nQ 13.234375 -1.21875 10.28125 1.828125 \nQ 7.328125 4.890625 7.328125 8.984375 \nL 7.328125 24.3125 \nQ 7.328125 32.03125 13.484375 36.921875 \nQ 19.09375 41.5 27.09375 41.5 \nL 27.984375 41.5 \nQ 34.859375 47.125 39.59375 52.484375 \nQ 33.984375 56.296875 27.203125 56.296875 \nQ 20.796875 56.296875 15.578125 53.609375 \nQ 9.859375 50.53125 8.59375 45.3125 \nz\nM 12.703125 8.6875 \nQ 12.703125 6.59375 14.140625 5.15625 \nQ 15.578125 3.71875 17.671875 3.71875 \nQ 19.875 3.71875 21.4375 5.15625 \nQ 23 6.59375 23 8.6875 \nQ 23 10.890625 21.453125 12.40625 \nQ 19.921875 13.921875 17.671875 13.921875 \nQ 15.578125 13.921875 14.140625 12.40625 \nQ 12.703125 10.890625 12.703125 8.6875 \nz\nM 33.6875 40.71875 \nQ 40.09375 39.203125 44.1875 35.296875 \nL 44.1875 44.09375 \nQ 44.1875 46.1875 42.828125 49.03125 \nQ 38.578125 44.4375 33.6875 40.71875 \nz\n\" id=\"THSarabunNew-3626\"/>\n       </defs>\n       <use xlink:href=\"#THSarabunNew-3652\"/>\n       <use x=\"37.255859\" xlink:href=\"#THSarabunNew-3621\"/>\n       <use x=\"95.410156\" xlink:href=\"#THSarabunNew-3615\"/>\n       <use x=\"163.671875\" xlink:href=\"#THSarabunNew-3660\"/>\n       <use x=\"163.671875\" xlink:href=\"#THSarabunNew-3626\"/>\n       <use x=\"221.826172\" xlink:href=\"#THSarabunNew-3652\"/>\n       <use x=\"259.082031\" xlink:href=\"#THSarabunNew-3605\"/>\n       <use x=\"318.847656\" xlink:href=\"#THSarabunNew-3621\"/>\n       <use x=\"377.001953\" xlink:href=\"#THSarabunNew-3660\"/>\n      </g>\n     </g>\n    </g>\n    <g id=\"xtick_10\">\n     <g id=\"line2d_10\">\n      <g>\n       <use style=\"stroke:#000000;stroke-width:0.8;\" x=\"703.032332\" xlink:href=\"#m36640f887b\" y=\"170.28\"/>\n      </g>\n     </g>\n     <g id=\"text_10\">\n      <!-- สังคม -->\n      <g transform=\"translate(700.472957 199.708125)rotate(-90)scale(0.1 -0.1)\">\n       <use xlink:href=\"#THSarabunNew-3626\"/>\n       <use x=\"58.154297\" xlink:href=\"#THSarabunNew-3633\"/>\n       <use x=\"58.154297\" xlink:href=\"#THSarabunNew-3591\"/>\n       <use x=\"103.027344\" xlink:href=\"#THSarabunNew-3588\"/>\n       <use x=\"163.085938\" xlink:href=\"#THSarabunNew-3617\"/>\n      </g>\n     </g>\n    </g>\n    <g id=\"xtick_11\">\n     <g id=\"line2d_11\">\n      <g>\n       <use style=\"stroke:#000000;stroke-width:0.8;\" x=\"771.709255\" xlink:href=\"#m36640f887b\" y=\"170.28\"/>\n      </g>\n     </g>\n     <g id=\"text_11\">\n      <!-- การศึกษา -->\n      <g transform=\"translate(769.14988 216.359688)rotate(-90)scale(0.1 -0.1)\">\n       <defs>\n        <path d=\"M -52.78125 75 \nQ -52.59375 82.90625 -46.1875 87.796875 \nQ -40.375 92.28125 -32.328125 92.28125 \nQ -24.03125 92.28125 -18.109375 88.28125 \nQ -18.5 89.5 -18.5 90.71875 \nQ -18.5 93.796875 -16.296875 95.984375 \nQ -14.109375 98.1875 -10.984375 98.1875 \nQ -8.015625 98.1875 -5.765625 95.984375 \nQ -3.515625 93.796875 -3.515625 90.71875 \nQ -3.515625 87.75 -5.765625 85.46875 \nQ -8.015625 83.203125 -10.984375 83.203125 \nQ -11.765625 83.203125 -12.984375 83.5 \nQ -9.1875 78.171875 -7.625 69.578125 \nQ -25.203125 75.875 -40.71875 75.875 \nQ -46.1875 75.875 -52.78125 75 \nz\nM -46.484375 79.6875 \nQ -43.265625 80.171875 -39.3125 80.171875 \nQ -24.609375 80.171875 -13.625 75.390625 \nQ -20.3125 87.796875 -32.078125 87.796875 \nQ -42.78125 87.796875 -46.484375 79.6875 \nz\nM -14.984375 90.71875 \nQ -14.984375 89.015625 -13.84375 87.90625 \nQ -12.703125 86.8125 -10.984375 86.8125 \nQ -9.28125 86.8125 -8.125 87.90625 \nQ -6.984375 89.015625 -6.984375 90.71875 \nQ -6.984375 92.4375 -8.125 93.546875 \nQ -9.28125 94.671875 -10.984375 94.671875 \nQ -12.703125 94.671875 -13.84375 93.546875 \nQ -14.984375 92.4375 -14.984375 90.71875 \nz\n\" id=\"THSarabunNew-3638\"/>\n       </defs>\n       <use xlink:href=\"#THSarabunNew-3585\"/>\n       <use x=\"58.984375\" xlink:href=\"#THSarabunNew-3634\"/>\n       <use x=\"107.275391\" xlink:href=\"#THSarabunNew-3619\"/>\n       <use x=\"156.445312\" xlink:href=\"#THSarabunNew-3624\"/>\n       <use x=\"216.503906\" xlink:href=\"#THSarabunNew-3638\"/>\n       <use x=\"216.503906\" xlink:href=\"#THSarabunNew-3585\"/>\n       <use x=\"275.488281\" xlink:href=\"#THSarabunNew-3625\"/>\n       <use x=\"342.480469\" xlink:href=\"#THSarabunNew-3634\"/>\n      </g>\n     </g>\n    </g>\n    <g id=\"xtick_12\">\n     <g id=\"line2d_12\">\n      <g>\n       <use style=\"stroke:#000000;stroke-width:0.8;\" x=\"840.386178\" xlink:href=\"#m36640f887b\" y=\"170.28\"/>\n      </g>\n     </g>\n     <g id=\"text_12\">\n      <!-- อาชญากรรม -->\n      <g transform=\"translate(837.764303 228.455)rotate(-90)scale(0.1 -0.1)\">\n       <defs>\n        <path d=\"M 2.296875 46.78125 \nQ 2.296875 52.484375 6.640625 56.828125 \nQ 10.984375 61.1875 18.796875 61.1875 \nQ 25.59375 61.1875 29.9375 57.84375 \nQ 34.28125 54.5 34.28125 48.6875 \nQ 34.28125 44.1875 30.59375 36.984375 \nQ 26.90625 29.78125 26.90625 26.515625 \nL 26.90625 12.203125 \nQ 26.90625 3.71875 35.5 3.71875 \nQ 44.09375 3.71875 44.09375 12.203125 \nL 44.09375 36.921875 \nQ 44.09375 43.609375 37.5 45.90625 \nQ 37.796875 46.78125 37.796875 49.421875 \nQ 46.1875 52.9375 46.6875 63.625 \nL 52.484375 63.625 \nQ 52 57.8125 49.234375 53.5625 \nQ 46.484375 49.3125 43.609375 47.703125 \nQ 49.609375 45.40625 49.609375 37.5 \nL 49.609375 12.703125 \nQ 49.609375 -1.21875 35.296875 -1.21875 \nQ 21.390625 -1.21875 21.390625 12.703125 \nL 21.390625 27.203125 \nQ 21.390625 31.109375 25.25 37.640625 \nQ 29.109375 44.1875 29.109375 47.90625 \nQ 29.109375 51.421875 26.09375 54.09375 \nQ 23.09375 56.78125 18.796875 56.78125 \nQ 12.109375 56.78125 8.59375 52.296875 \nQ 9.90625 52.875 12.109375 52.875 \nQ 16.109375 52.875 18.59375 50.390625 \nQ 21.09375 47.90625 21.09375 44.09375 \nQ 21.09375 40.09375 18.59375 37.40625 \nQ 16.109375 34.71875 12.109375 34.71875 \nQ 7.328125 34.71875 4.8125 38.25 \nQ 2.296875 41.796875 2.296875 46.78125 \nz\nM 7.171875 43.890625 \nQ 7.171875 41.796875 8.53125 40.40625 \nQ 9.90625 39.015625 12.109375 39.015625 \nQ 14.203125 39.015625 15.59375 40.40625 \nQ 17 41.796875 17 43.890625 \nQ 17 46.09375 15.59375 47.4375 \nQ 14.203125 48.78125 12.109375 48.78125 \nQ 9.90625 48.78125 8.53125 47.4375 \nQ 7.171875 46.09375 7.171875 43.890625 \nz\n\" id=\"THSarabunNew-3594\"/>\n        <path d=\"M 4.59375 41.5 \nQ 6 50 12.046875 55.59375 \nQ 18.109375 61.1875 26.515625 61.1875 \nQ 36.03125 61.1875 41.25 55.984375 \nQ 46.484375 50.78125 46.484375 41.21875 \nL 46.484375 12.203125 \nQ 46.484375 3.71875 56 3.71875 \nQ 65.28125 3.71875 65.28125 12.203125 \nL 65.28125 60.015625 \nL 70.796875 60.015625 \nL 70.796875 12.5 \nQ 70.796875 -1.21875 55.8125 -1.21875 \nQ 41.015625 -1.21875 41.015625 12.703125 \nL 41.015625 40.484375 \nQ 41.015625 56.296875 26.21875 56.296875 \nQ 21.34375 56.296875 17.109375 53.390625 \nQ 12.890625 50.484375 11.1875 45.703125 \nQ 19.671875 45.125 23.390625 39.015625 \nQ 19.671875 38.234375 16.9375 35 \nQ 14.203125 31.78125 14.203125 27.78125 \nL 14.203125 17.921875 \nQ 16.21875 18.796875 18.796875 18.796875 \nQ 23.09375 18.796875 26 15.890625 \nQ 28.90625 12.984375 28.90625 8.890625 \nQ 28.90625 4.6875 26.5625 1.625 \nQ 24.21875 -1.421875 18.796875 -1.421875 \nQ 14.40625 -1.421875 11.546875 1.4375 \nQ 8.6875 4.296875 8.6875 8.984375 \nL 8.6875 27.6875 \nQ 8.6875 35.984375 16.703125 39.796875 \nQ 10.890625 42.09375 4.59375 41.5 \nz\nM 13.8125 8.6875 \nQ 13.8125 6.59375 15.25 5.15625 \nQ 16.703125 3.71875 18.796875 3.71875 \nQ 21 3.71875 22.515625 5.15625 \nQ 24.03125 6.59375 24.03125 8.6875 \nQ 24.03125 10.890625 22.515625 12.40625 \nQ 21 13.921875 18.796875 13.921875 \nQ 16.703125 13.921875 15.25 12.40625 \nQ 13.8125 10.890625 13.8125 8.6875 \nz\nM 38.1875 -12.890625 \nQ 38.1875 -9.46875 40.640625 -7.03125 \nQ 43.109375 -4.59375 46.484375 -4.59375 \nQ 50 -4.59375 52.4375 -7.046875 \nQ 54.890625 -9.515625 54.890625 -12.890625 \nQ 54.890625 -18.5 49.609375 -20.703125 \nQ 51.421875 -21.6875 54 -21.6875 \nQ 67.1875 -21.6875 67.484375 -5.171875 \nL 73.09375 -5.171875 \nQ 72.796875 -14.359375 68.296875 -20.28125 \nQ 63.8125 -26.21875 54.203125 -26.21875 \nQ 48 -26.21875 43.09375 -22.359375 \nQ 38.1875 -18.5 38.1875 -12.890625 \nz\nM 42.484375 -12.890625 \nQ 42.484375 -14.5 43.75 -15.75 \nQ 45.015625 -17 46.6875 -17 \nQ 48.296875 -17 49.53125 -15.75 \nQ 50.78125 -14.5 50.78125 -12.890625 \nQ 50.78125 -11.1875 49.53125 -9.9375 \nQ 48.296875 -8.6875 46.6875 -8.6875 \nQ 44.96875 -8.6875 43.71875 -9.9375 \nQ 42.484375 -11.1875 42.484375 -12.890625 \nz\n\" id=\"THSarabunNew-3597\"/>\n       </defs>\n       <use xlink:href=\"#THSarabunNew-3629\"/>\n       <use x=\"59.179688\" xlink:href=\"#THSarabunNew-3634\"/>\n       <use x=\"107.470703\" xlink:href=\"#THSarabunNew-3594\"/>\n       <use x=\"165.527344\" xlink:href=\"#THSarabunNew-3597\"/>\n       <use x=\"244.921875\" xlink:href=\"#THSarabunNew-3634\"/>\n       <use x=\"293.212891\" xlink:href=\"#THSarabunNew-3585\"/>\n       <use x=\"352.197266\" xlink:href=\"#THSarabunNew-3619\"/>\n       <use x=\"401.367188\" xlink:href=\"#THSarabunNew-3619\"/>\n       <use x=\"450.537109\" xlink:href=\"#THSarabunNew-3617\"/>\n      </g>\n     </g>\n    </g>\n    <g id=\"xtick_13\">\n     <g id=\"line2d_13\">\n      <g>\n       <use style=\"stroke:#000000;stroke-width:0.8;\" x=\"909.063101\" xlink:href=\"#m36640f887b\" y=\"170.28\"/>\n      </g>\n     </g>\n     <g id=\"text_13\">\n      <!-- คุณภาพชีวิต -->\n      <g transform=\"translate(905.513101 226.63625)rotate(-90)scale(0.1 -0.1)\">\n       <defs>\n        <path d=\"M -24.8125 -15.484375 \nQ -24.8125 -12.0625 -22.40625 -9.6875 \nQ -20.015625 -7.328125 -16.703125 -7.328125 \nQ -13.28125 -7.328125 -10.9375 -9.71875 \nQ -8.59375 -12.109375 -8.59375 -15.484375 \nL -8.59375 -35.5 \nL -13.921875 -35.5 \nL -13.921875 -23.09375 \nQ -15.140625 -23.578125 -16.703125 -23.578125 \nQ -20.015625 -23.578125 -22.40625 -21.1875 \nQ -24.8125 -18.796875 -24.8125 -15.484375 \nz\nM -20.703125 -15.28125 \nQ -20.703125 -17 -19.546875 -18.140625 \nQ -18.40625 -19.28125 -16.703125 -19.28125 \nQ -14.984375 -19.28125 -13.84375 -18.140625 \nQ -12.703125 -17 -12.703125 -15.28125 \nQ -12.703125 -13.578125 -13.84375 -12.421875 \nQ -14.984375 -11.28125 -16.703125 -11.28125 \nQ -18.40625 -11.28125 -19.546875 -12.421875 \nQ -20.703125 -13.578125 -20.703125 -15.28125 \nz\n\" id=\"THSarabunNew-3640\"/>\n        <path d=\"M 4.59375 41.5 \nQ 6 50 12.046875 55.59375 \nQ 18.109375 61.1875 26.515625 61.1875 \nQ 36.03125 61.1875 41.25 55.984375 \nQ 46.484375 50.78125 46.484375 41.21875 \nL 46.484375 7.328125 \nQ 50 11.921875 56.296875 14.796875 \nQ 63.8125 18.5 65.1875 19.578125 \nQ 69 23 69 29.78125 \nL 69 60.015625 \nL 74.515625 60.015625 \nL 74.515625 30.078125 \nQ 74.515625 21 71.578125 18.109375 \nQ 77.6875 15.53125 77.6875 8.59375 \nQ 77.6875 4.296875 74.796875 1.4375 \nQ 71.921875 -1.421875 67.484375 -1.421875 \nQ 63.1875 -1.421875 60.296875 1.4375 \nQ 57.421875 4.296875 57.421875 8.59375 \nL 57.421875 9.515625 \nQ 51.90625 7.328125 47.609375 0 \nL 41.015625 0 \nL 41.015625 40.484375 \nQ 41.015625 56.296875 26.21875 56.296875 \nQ 21.34375 56.296875 17.109375 53.390625 \nQ 12.890625 50.484375 11.1875 45.703125 \nQ 19.671875 45.125 23.390625 39.015625 \nQ 19.671875 38.234375 16.9375 35 \nQ 14.203125 31.78125 14.203125 27.78125 \nL 14.203125 17.921875 \nQ 16.21875 18.796875 18.796875 18.796875 \nQ 23.09375 18.796875 26 15.890625 \nQ 28.90625 12.984375 28.90625 8.890625 \nQ 28.90625 4.390625 26.09375 1.484375 \nQ 23.296875 -1.421875 18.796875 -1.421875 \nQ 14.40625 -1.421875 11.546875 1.578125 \nQ 8.6875 4.59375 8.6875 8.984375 \nL 8.6875 27.6875 \nQ 8.6875 35.984375 16.703125 39.796875 \nQ 10.890625 42.09375 4.59375 41.5 \nz\nM 13.8125 8.6875 \nQ 13.8125 6.59375 15.25 5.15625 \nQ 16.703125 3.71875 18.796875 3.71875 \nQ 21 3.71875 22.515625 5.15625 \nQ 24.03125 6.59375 24.03125 8.6875 \nQ 24.03125 10.890625 22.515625 12.40625 \nQ 21 13.921875 18.796875 13.921875 \nQ 16.703125 13.921875 15.25 12.40625 \nQ 13.8125 10.890625 13.8125 8.6875 \nz\nM 62.3125 8.59375 \nQ 62.3125 6.390625 63.796875 4.90625 \nQ 65.28125 3.421875 67.484375 3.421875 \nQ 69.578125 3.421875 71.140625 4.90625 \nQ 72.703125 6.390625 72.703125 8.59375 \nQ 72.703125 10.6875 71.140625 12.25 \nQ 69.578125 13.8125 67.484375 13.8125 \nQ 65.28125 13.8125 63.796875 12.25 \nQ 62.3125 10.6875 62.3125 8.59375 \nz\n\" id=\"THSarabunNew-3603\"/>\n        <path d=\"M 1.515625 45.3125 \nQ 4.9375 61.234375 22.3125 61.1875 \nQ 31.109375 61.1875 36.890625 56.59375 \nQ 42.671875 52 42.671875 43.609375 \nL 42.671875 8.890625 \nQ 42.671875 4.6875 39.6875 1.734375 \nQ 36.71875 -1.21875 32.625 -1.21875 \nQ 28.515625 -1.21875 25.515625 1.734375 \nQ 22.515625 4.6875 22.515625 8.890625 \nQ 22.515625 12.984375 25.515625 15.984375 \nQ 28.515625 19 32.625 19 \nQ 35.203125 19 37.203125 17.921875 \nL 37.203125 42.671875 \nQ 37.203125 56.296875 22.015625 56.296875 \nQ 10.109375 56.296875 7.171875 45.3125 \nz\nM 27.390625 8.890625 \nQ 27.390625 6.6875 28.90625 5.203125 \nQ 30.421875 3.71875 32.625 3.71875 \nQ 34.71875 3.71875 36.25 5.203125 \nQ 37.796875 6.6875 37.796875 8.890625 \nQ 37.796875 10.984375 36.25 12.546875 \nQ 34.71875 14.109375 32.625 14.109375 \nQ 30.421875 14.109375 28.90625 12.546875 \nQ 27.390625 10.984375 27.390625 8.890625 \nz\n\" id=\"THSarabunNew-3623\"/>\n       </defs>\n       <use xlink:href=\"#THSarabunNew-3588\"/>\n       <use x=\"60.058594\" xlink:href=\"#THSarabunNew-3640\"/>\n       <use x=\"60.058594\" xlink:href=\"#THSarabunNew-3603\"/>\n       <use x=\"143.017578\" xlink:href=\"#THSarabunNew-3616\"/>\n       <use x=\"208.007812\" xlink:href=\"#THSarabunNew-3634\"/>\n       <use x=\"256.298828\" xlink:href=\"#THSarabunNew-3614\"/>\n       <use x=\"324.560547\" xlink:href=\"#THSarabunNew-3594\"/>\n       <use x=\"382.617188\" xlink:href=\"#THSarabunNew-3637\"/>\n       <use x=\"382.617188\" xlink:href=\"#THSarabunNew-3623\"/>\n       <use x=\"433.789062\" xlink:href=\"#THSarabunNew-3636\"/>\n       <use x=\"433.789062\" xlink:href=\"#THSarabunNew-3605\"/>\n      </g>\n     </g>\n    </g>\n    <g id=\"text_14\">\n     <!-- CATEGORY -->\n     <g transform=\"translate(472.614844 240.184688)scale(0.1 -0.1)\">\n      <defs>\n       <path d=\"M 3.515625 36.625 \nQ 3.515625 52.9375 13.40625 63.40625 \nQ 23.296875 73.875 38.09375 73.875 \nQ 49.90625 73.875 58.015625 70.125 \nL 56.203125 65.1875 \nQ 47.90625 68.703125 38.375 68.703125 \nQ 26.5625 68.703125 18.40625 60.015625 \nQ 9.625 50.828125 9.625 36.375 \nQ 9.625 21.96875 18.40625 12.890625 \nQ 26.609375 4.109375 38.375 4.109375 \nQ 47.90625 4.109375 56.203125 7.625 \nL 58.015625 2.78125 \nQ 49.90625 -1.125 38.09375 -1.125 \nQ 23.296875 -1.125 13.40625 9.546875 \nQ 3.515625 20.21875 3.515625 36.625 \nz\n\" id=\"THSarabunNew-67\"/>\n       <path d=\"M 0 0 \nL 27.484375 73.875 \nL 33.6875 73.875 \nL 61.1875 0 \nL 54.59375 0 \nL 46.1875 23.390625 \nL 14.796875 23.390625 \nL 6.59375 0 \nz\nM 16.703125 28.515625 \nL 44.390625 28.515625 \nL 30.609375 67.28125 \nz\n\" id=\"THSarabunNew-65\"/>\n       <path d=\"M -0.78125 67.828125 \nL -0.78125 72.796875 \nL 58.796875 72.796875 \nL 58.796875 67.828125 \nL 31.984375 67.828125 \nL 31.984375 0 \nL 26.21875 0 \nL 26.21875 67.828125 \nz\n\" id=\"THSarabunNew-84\"/>\n       <path d=\"M 8.296875 0 \nL 8.296875 72.796875 \nL 47.90625 72.796875 \nL 47.90625 67.828125 \nL 14.203125 67.828125 \nL 14.203125 41.015625 \nL 44.1875 41.015625 \nL 44.1875 35.984375 \nL 14.203125 35.984375 \nL 14.203125 4.984375 \nL 47.90625 4.984375 \nL 47.90625 0 \nz\n\" id=\"THSarabunNew-69\"/>\n       <path d=\"M 3.515625 36.625 \nQ 3.515625 52.828125 12.203125 62.890625 \nQ 21.296875 73.578125 36.921875 73.578125 \nQ 48 73.578125 56.5 69.921875 \nL 54.59375 64.984375 \nQ 45.40625 68.5 36.625 68.5 \nQ 25.09375 68.5 17.359375 59.484375 \nQ 9.625 50.484375 9.625 36.375 \nQ 9.625 21.390625 16.3125 12.75 \nQ 23 4.109375 35.203125 4.109375 \nQ 44.828125 4.109375 52.78125 8.015625 \nL 52.78125 31.5 \nL 34.28125 31.5 \nL 34.28125 36.375 \nL 58.59375 36.375 \nL 58.59375 1.515625 \nQ 57.375 2.390625 55.421875 2.390625 \nL 46.34375 0.78125 \nQ 37.3125 -0.828125 34.28125 -0.78125 \nQ 20.265625 -0.78125 11.890625 9.421875 \nQ 3.515625 19.625 3.515625 36.625 \nz\n\" id=\"THSarabunNew-71\"/>\n       <path d=\"M 3.421875 36.28125 \nQ 3.421875 52.59375 12.8125 63.359375 \nQ 22.21875 74.125 37.203125 74.125 \nQ 52.203125 74.125 61.59375 63.359375 \nQ 71 52.59375 71 36.28125 \nQ 71 19.875 61.59375 9.171875 \nQ 52.203125 -1.515625 37.203125 -1.515625 \nQ 22.21875 -1.515625 12.8125 9.171875 \nQ 3.421875 19.875 3.421875 36.28125 \nz\nM 9.28125 36.28125 \nQ 9.28125 22.796875 17.09375 13.25 \nQ 24.90625 3.71875 37.203125 3.71875 \nQ 49.421875 3.71875 57.203125 13.25 \nQ 64.984375 22.796875 64.984375 36.28125 \nQ 64.984375 49.65625 57.203125 59.21875 \nQ 49.421875 68.796875 37.203125 68.796875 \nQ 24.90625 68.796875 17.09375 59.21875 \nQ 9.28125 49.65625 9.28125 36.28125 \nz\n\" id=\"THSarabunNew-79\"/>\n       <path d=\"M 8.296875 0 \nL 8.296875 71.921875 \nQ 16.796875 73.640625 26.21875 73.578125 \nQ 37.9375 73.390625 44.828125 69 \nQ 52.828125 63.8125 52.78125 54 \nQ 52.78125 40.375 38.71875 35.203125 \nQ 46.828125 30.8125 50.875 18.703125 \nQ 52.875 12.40625 54.78125 0 \nL 49.03125 0 \nQ 44.828125 33.203125 28.328125 33.203125 \nL 14.203125 33.203125 \nL 14.203125 0 \nz\nM 14.203125 37.890625 \nL 27.78125 37.890625 \nQ 36.859375 37.890625 41.984375 41.984375 \nQ 47.125 46.09375 47.125 53.21875 \nQ 47.125 68.40625 26.21875 68.40625 \nQ 17.71875 68.40625 14.203125 67.28125 \nz\n\" id=\"THSarabunNew-82\"/>\n       <path d=\"M 0 72.796875 \nL 6.890625 72.796875 \nL 27.984375 37.203125 \nL 49.125 72.796875 \nL 56 72.796875 \nL 30.90625 32.078125 \nL 30.90625 0 \nL 25.09375 0 \nL 25.09375 31.984375 \nz\n\" id=\"THSarabunNew-89\"/>\n      </defs>\n      <use xlink:href=\"#THSarabunNew-67\"/>\n      <use x=\"62.060547\" xlink:href=\"#THSarabunNew-65\"/>\n      <use x=\"123.242188\" xlink:href=\"#THSarabunNew-84\"/>\n      <use x=\"181.103516\" xlink:href=\"#THSarabunNew-69\"/>\n      <use x=\"234.765625\" xlink:href=\"#THSarabunNew-71\"/>\n      <use x=\"299.755859\" xlink:href=\"#THSarabunNew-79\"/>\n      <use x=\"374.023438\" xlink:href=\"#THSarabunNew-82\"/>\n      <use x=\"431.884766\" xlink:href=\"#THSarabunNew-89\"/>\n     </g>\n    </g>\n   </g>\n   <g id=\"matplotlib.axis_2\">\n    <g id=\"ytick_1\">\n     <g id=\"line2d_14\">\n      <defs>\n       <path d=\"M 0 0 \nL -3.5 0 \n\" id=\"mc37af03f9c\" style=\"stroke:#000000;stroke-width:0.8;\"/>\n      </defs>\n      <g>\n       <use style=\"stroke:#000000;stroke-width:0.8;\" x=\"50.601562\" xlink:href=\"#mc37af03f9c\" y=\"170.28\"/>\n      </g>\n     </g>\n     <g id=\"text_15\">\n      <!-- 0 -->\n      <g transform=\"translate(38.073437 174.144844)scale(0.1 -0.1)\">\n       <defs>\n        <path d=\"M 4.6875 34.71875 \nQ 4.6875 50.203125 10.109375 60.890625 \nQ 16.40625 73.296875 27.6875 73.296875 \nQ 38.96875 73.296875 45.3125 60.890625 \nQ 50.484375 50.203125 50.484375 34.71875 \nQ 50.484375 22.015625 45.609375 11.625 \nQ 39.3125 -1.65625 27.6875 -1.703125 \nQ 15.875 -1.703125 9.625 11.625 \nQ 4.6875 21.921875 4.6875 34.71875 \nz\nM 10.890625 34.90625 \nQ 10.890625 23.921875 14.5 14.984375 \nQ 19.09375 3.46875 27.6875 3.515625 \nQ 36.078125 3.515625 40.71875 14.984375 \nQ 44.4375 23.875 44.390625 34.90625 \nQ 44.390625 48.1875 40.484375 57.421875 \nQ 35.984375 68.109375 27.6875 68.109375 \nQ 19.28125 68.109375 14.703125 57.421875 \nQ 10.890625 48.296875 10.890625 34.90625 \nz\n\" id=\"THSarabunNew-48\"/>\n       </defs>\n       <use xlink:href=\"#THSarabunNew-48\"/>\n      </g>\n     </g>\n    </g>\n    <g id=\"ytick_2\">\n     <g id=\"line2d_15\">\n      <g>\n       <use style=\"stroke:#000000;stroke-width:0.8;\" x=\"50.601562\" xlink:href=\"#mc37af03f9c\" y=\"148.145999\"/>\n      </g>\n     </g>\n     <g id=\"text_16\">\n      <!-- 1000 -->\n      <g transform=\"translate(21.489062 152.010843)scale(0.1 -0.1)\">\n       <defs>\n        <path d=\"M 11.53125 57.71875 \nL 29.109375 73.09375 \nQ 32.421875 73.09375 32.421875 67.28125 \nL 32.421875 5.515625 \nL 43.890625 5.515625 \nL 43.890625 0 \nL 14.796875 0 \nL 14.796875 5.515625 \nL 26.3125 5.515625 \nL 26.3125 63.8125 \nL 14.796875 53.90625 \nz\n\" id=\"THSarabunNew-49\"/>\n       </defs>\n       <use xlink:href=\"#THSarabunNew-49\"/>\n       <use x=\"55.273438\" xlink:href=\"#THSarabunNew-48\"/>\n       <use x=\"110.546875\" xlink:href=\"#THSarabunNew-48\"/>\n       <use x=\"165.820312\" xlink:href=\"#THSarabunNew-48\"/>\n      </g>\n     </g>\n    </g>\n    <g id=\"ytick_3\">\n     <g id=\"line2d_16\">\n      <g>\n       <use style=\"stroke:#000000;stroke-width:0.8;\" x=\"50.601562\" xlink:href=\"#mc37af03f9c\" y=\"126.011998\"/>\n      </g>\n     </g>\n     <g id=\"text_17\">\n      <!-- 2000 -->\n      <g transform=\"translate(21.489062 129.876842)scale(0.1 -0.1)\">\n       <defs>\n        <path d=\"M 4 0 \nQ 4.59375 3.8125 6.109375 8.6875 \nQ 12.703125 15.484375 20.65625 23.140625 \nQ 28.609375 30.8125 38.375 42.484375 \nQ 43.265625 49.078125 43.3125 55.078125 \nQ 43.3125 60.984375 39.453125 64.234375 \nQ 35.59375 67.484375 29.5 67.484375 \nQ 15.765625 67.484375 13.921875 53.71875 \nL 8.40625 55.171875 \nQ 9.28125 64.0625 15.484375 68.796875 \nQ 21 73.09375 29.6875 73.09375 \nQ 38.1875 73.09375 43.796875 67.84375 \nQ 49.421875 62.59375 49.421875 54.59375 \nQ 49.421875 42.96875 31.109375 25.390625 \nQ 17.71875 12.203125 12.203125 6 \nL 51.3125 6 \nL 50 0 \nz\n\" id=\"THSarabunNew-50\"/>\n       </defs>\n       <use xlink:href=\"#THSarabunNew-50\"/>\n       <use x=\"55.273438\" xlink:href=\"#THSarabunNew-48\"/>\n       <use x=\"110.546875\" xlink:href=\"#THSarabunNew-48\"/>\n       <use x=\"165.820312\" xlink:href=\"#THSarabunNew-48\"/>\n      </g>\n     </g>\n    </g>\n    <g id=\"ytick_4\">\n     <g id=\"line2d_17\">\n      <g>\n       <use style=\"stroke:#000000;stroke-width:0.8;\" x=\"50.601562\" xlink:href=\"#mc37af03f9c\" y=\"103.877997\"/>\n      </g>\n     </g>\n     <g id=\"text_18\">\n      <!-- 3000 -->\n      <g transform=\"translate(21.489062 107.74284)scale(0.1 -0.1)\">\n       <defs>\n        <path d=\"M 5.171875 4 \nL 7.8125 8.6875 \nQ 13.53125 4.390625 22.609375 4.390625 \nQ 31.5 4.390625 37.796875 10.390625 \nQ 44.09375 16.40625 44.09375 24.3125 \nQ 44.09375 30.328125 40.40625 34.25 \nQ 36.71875 38.1875 31.109375 38.1875 \nQ 24.515625 38.1875 20.796875 34.71875 \nL 17.921875 39.59375 \nQ 23.734375 44.09375 29.5 48.6875 \nQ 38.1875 56 38.1875 60.109375 \nQ 38.1875 67.625 27.78125 67.578125 \nQ 16.40625 67.578125 10.6875 56.203125 \nL 6.390625 58.40625 \nQ 8.890625 65.1875 14.84375 69.140625 \nQ 20.796875 73.09375 28.328125 73.09375 \nQ 34.71875 73.09375 39.296875 69.65625 \nQ 43.890625 66.21875 43.890625 60.296875 \nQ 43.890625 53.21875 31.390625 43.796875 \nL 32.328125 43.796875 \nQ 40.4375 43.796875 45.3125 38.34375 \nQ 50.203125 32.90625 50.203125 24.609375 \nQ 50.203125 12.984375 42.234375 5.78125 \nQ 34.28125 -1.421875 21.6875 -1.703125 \nQ 11.578125 -2 5.171875 4 \nz\n\" id=\"THSarabunNew-51\"/>\n       </defs>\n       <use xlink:href=\"#THSarabunNew-51\"/>\n       <use x=\"55.273438\" xlink:href=\"#THSarabunNew-48\"/>\n       <use x=\"110.546875\" xlink:href=\"#THSarabunNew-48\"/>\n       <use x=\"165.820312\" xlink:href=\"#THSarabunNew-48\"/>\n      </g>\n     </g>\n    </g>\n    <g id=\"ytick_5\">\n     <g id=\"line2d_18\">\n      <g>\n       <use style=\"stroke:#000000;stroke-width:0.8;\" x=\"50.601562\" xlink:href=\"#mc37af03f9c\" y=\"81.743996\"/>\n      </g>\n     </g>\n     <g id=\"text_19\">\n      <!-- 4000 -->\n      <g transform=\"translate(21.489062 85.608839)scale(0.1 -0.1)\">\n       <defs>\n        <path d=\"M 4.890625 17 \nQ 5.171875 39.796875 15.1875 55.546875 \nQ 25.203125 71.296875 41.890625 74.703125 \nL 41.890625 22.609375 \nL 52.78125 22.609375 \nL 52 17 \nL 41.890625 17 \nL 41.890625 0 \nL 35.796875 0 \nL 35.796875 17 \nz\nM 11.53125 22.609375 \nL 35.796875 22.609375 \nL 35.796875 66.890625 \nQ 25.203125 61.71875 18.40625 48.6875 \nQ 11.8125 36.328125 11.53125 22.609375 \nz\n\" id=\"THSarabunNew-52\"/>\n       </defs>\n       <use xlink:href=\"#THSarabunNew-52\"/>\n       <use x=\"55.273438\" xlink:href=\"#THSarabunNew-48\"/>\n       <use x=\"110.546875\" xlink:href=\"#THSarabunNew-48\"/>\n       <use x=\"165.820312\" xlink:href=\"#THSarabunNew-48\"/>\n      </g>\n     </g>\n    </g>\n    <g id=\"ytick_6\">\n     <g id=\"line2d_19\">\n      <g>\n       <use style=\"stroke:#000000;stroke-width:0.8;\" x=\"50.601562\" xlink:href=\"#mc37af03f9c\" y=\"59.609995\"/>\n      </g>\n     </g>\n     <g id=\"text_20\">\n      <!-- 5000 -->\n      <g transform=\"translate(21.489062 63.474838)scale(0.1 -0.1)\">\n       <defs>\n        <path d=\"M 3.71875 4.390625 \nL 6.296875 9.1875 \nQ 8.40625 7.765625 10.890625 6.59375 \nQ 15.09375 4.59375 21.390625 4.59375 \nQ 29.6875 4.59375 36.03125 9.9375 \nQ 42.390625 15.28125 42.390625 24.90625 \nQ 42.390625 33.203125 36.921875 37.3125 \nQ 32.328125 41.015625 24.90625 41.015625 \nQ 18.5 41.015625 14.703125 35.984375 \nL 11.53125 35.59375 \nL 13.8125 72.703125 \nL 46.390625 72.703125 \nL 45.3125 66.890625 \nL 19.578125 66.890625 \nL 18.21875 45.3125 \nQ 22.21875 46.828125 26.8125 46.78125 \nQ 35.59375 46.78125 41.890625 41.3125 \nQ 48.6875 35.203125 48.6875 25.09375 \nQ 48.6875 13.28125 40.703125 6.03125 \nQ 32.71875 -1.21875 20.21875 -1.21875 \nQ 9.625 -1.21875 3.71875 4.390625 \nz\n\" id=\"THSarabunNew-53\"/>\n       </defs>\n       <use xlink:href=\"#THSarabunNew-53\"/>\n       <use x=\"55.273438\" xlink:href=\"#THSarabunNew-48\"/>\n       <use x=\"110.546875\" xlink:href=\"#THSarabunNew-48\"/>\n       <use x=\"165.820312\" xlink:href=\"#THSarabunNew-48\"/>\n      </g>\n     </g>\n    </g>\n    <g id=\"ytick_7\">\n     <g id=\"line2d_20\">\n      <g>\n       <use style=\"stroke:#000000;stroke-width:0.8;\" x=\"50.601562\" xlink:href=\"#mc37af03f9c\" y=\"37.475993\"/>\n      </g>\n     </g>\n     <g id=\"text_21\">\n      <!-- 6000 -->\n      <g transform=\"translate(21.489062 41.340837)scale(0.1 -0.1)\">\n       <defs>\n        <path d=\"M 5.8125 25.59375 \nQ 5.8125 43.0625 16.640625 56.921875 \nQ 27.484375 70.796875 44.390625 74.125 \nL 44.828125 69.578125 \nQ 34.625 66.703125 26.21875 58.796875 \nQ 16.703125 49.90625 13.1875 37.59375 \nQ 13.765625 39.890625 17.578125 42.484375 \nQ 22.46875 45.5625 28.90625 45.609375 \nQ 37.890625 45.609375 43.59375 38.6875 \nQ 49.3125 31.78125 49.3125 22.21875 \nQ 49.3125 12.203125 43.703125 5.484375 \nQ 38.09375 -1.21875 28.515625 -1.21875 \nQ 17.625 -1.21875 11.28125 6.984375 \nQ 5.8125 14.40625 5.8125 25.59375 \nz\nM 11.921875 22.21875 \nQ 11.921875 14.703125 16.5 9.34375 \nQ 21.09375 4 27.6875 4 \nQ 35.015625 4 39.0625 9.34375 \nQ 43.109375 14.703125 43.109375 22.21875 \nQ 43.109375 29.828125 39 35.15625 \nQ 34.90625 40.484375 27.6875 40.484375 \nQ 21.09375 40.484375 16.5 35.15625 \nQ 11.921875 29.828125 11.921875 22.21875 \nz\n\" id=\"THSarabunNew-54\"/>\n       </defs>\n       <use xlink:href=\"#THSarabunNew-54\"/>\n       <use x=\"55.273438\" xlink:href=\"#THSarabunNew-48\"/>\n       <use x=\"110.546875\" xlink:href=\"#THSarabunNew-48\"/>\n       <use x=\"165.820312\" xlink:href=\"#THSarabunNew-48\"/>\n      </g>\n     </g>\n    </g>\n    <g id=\"ytick_8\">\n     <g id=\"line2d_21\">\n      <g>\n       <use style=\"stroke:#000000;stroke-width:0.8;\" x=\"50.601562\" xlink:href=\"#mc37af03f9c\" y=\"15.341992\"/>\n      </g>\n     </g>\n     <g id=\"text_22\">\n      <!-- 7000 -->\n      <g transform=\"translate(21.489062 19.206836)scale(0.1 -0.1)\">\n       <defs>\n        <path d=\"M 4.984375 66.890625 \nL 7.328125 72.703125 \nL 50.296875 72.703125 \nL 49.125 66.609375 \nQ 38.921875 53.125 32.71875 37.40625 \nQ 26.515625 21.6875 26.515625 0 \nL 20.015625 0 \nQ 20.015625 23.09375 29.203125 44.1875 \nQ 31.390625 49.078125 36.59375 57.890625 \nQ 41.796875 66.703125 41.890625 66.890625 \nz\n\" id=\"THSarabunNew-55\"/>\n       </defs>\n       <use xlink:href=\"#THSarabunNew-55\"/>\n       <use x=\"55.273438\" xlink:href=\"#THSarabunNew-48\"/>\n       <use x=\"110.546875\" xlink:href=\"#THSarabunNew-48\"/>\n       <use x=\"165.820312\" xlink:href=\"#THSarabunNew-48\"/>\n      </g>\n     </g>\n    </g>\n    <g id=\"text_23\">\n     <!-- count -->\n     <g transform=\"translate(14.929688 102.086094)rotate(-90)scale(0.1 -0.1)\">\n      <defs>\n       <path d=\"M 4.109375 25.875 \nQ 4.109375 38.1875 11.453125 45.625 \nQ 18.796875 53.078125 31.6875 53.078125 \nQ 41.21875 53.078125 47.703125 49.421875 \nL 45.609375 44.484375 \nQ 39.890625 48.1875 31.390625 48.1875 \nQ 21.96875 48.1875 15.9375 42.234375 \nQ 9.90625 36.28125 9.90625 25.875 \nQ 9.90625 15.484375 15.953125 9.5 \nQ 22.015625 3.515625 31.390625 3.515625 \nQ 39.890625 3.515625 45.609375 7.171875 \nL 47.703125 2.296875 \nQ 41.21875 -1.421875 31.6875 -1.421875 \nQ 18.796875 -1.421875 11.453125 6.03125 \nQ 4.109375 13.484375 4.109375 25.875 \nz\n\" id=\"THSarabunNew-99\"/>\n       <path d=\"M 4.296875 25.875 \nQ 4.296875 37.25 11.5 45.15625 \nQ 18.703125 53.078125 30.421875 53.078125 \nQ 42.234375 53.078125 49.40625 45.1875 \nQ 56.59375 37.3125 56.59375 25.875 \nQ 56.59375 14.359375 49.390625 6.421875 \nQ 42.1875 -1.515625 30.421875 -1.515625 \nQ 18.703125 -1.515625 11.5 6.421875 \nQ 4.296875 14.359375 4.296875 25.875 \nz\nM 10.109375 25.875 \nQ 10.109375 16.359375 15.84375 9.9375 \nQ 21.578125 3.515625 30.421875 3.515625 \nQ 39.3125 3.515625 45.046875 9.953125 \nQ 50.78125 16.40625 50.78125 25.875 \nQ 50.78125 35.296875 45.046875 41.640625 \nQ 39.3125 48 30.421875 48 \nQ 21.625 48 15.859375 41.640625 \nQ 10.109375 35.296875 10.109375 25.875 \nz\n\" id=\"THSarabunNew-111\"/>\n       <path d=\"M 8.015625 22.796875 \nL 8.015625 52 \nL 13.921875 52 \nL 13.921875 23.875 \nQ 13.921875 3.765625 27.984375 3.8125 \nQ 34.578125 3.8125 39.890625 8.109375 \nQ 45.703125 12.984375 45.703125 20.515625 \nL 45.703125 52 \nL 51.703125 52 \nL 51.703125 12.703125 \nQ 51.703125 6.984375 54.296875 0.203125 \nL 48.6875 -1.125 \nQ 46.78125 4.046875 46.1875 8.984375 \nQ 39.5 -1.421875 26.609375 -1.421875 \nQ 8.015625 -1.421875 8.015625 22.796875 \nz\n\" id=\"THSarabunNew-117\"/>\n       <path d=\"M 6.890625 52 \nL 12.5 52 \nQ 13.625 48.78125 13.8125 42.671875 \nQ 19.734375 53.078125 31.390625 53.078125 \nQ 51.703125 53.078125 51.703125 29.5 \nL 51.703125 0 \nL 45.703125 0 \nL 45.703125 29.5 \nQ 45.703125 48.1875 30.078125 48.1875 \nQ 23.875 48.1875 18.890625 42.890625 \nQ 13.921875 37.59375 13.921875 31.5 \nL 13.921875 0 \nL 8.015625 0 \nL 8.015625 39.203125 \nQ 8.015625 43.3125 6.890625 52 \nz\n\" id=\"THSarabunNew-110\"/>\n       <path d=\"M 0.875 47.3125 \nL 0.875 52 \nL 11.28125 52 \nL 11.28125 67.484375 \nL 17.28125 70.21875 \nL 17.28125 52 \nL 33.984375 52 \nL 33.984375 47.3125 \nL 17.28125 47.3125 \nL 17.28125 15.484375 \nQ 17.28125 3.765625 25.09375 3.8125 \nQ 29.78125 3.8125 32.078125 4.6875 \nL 32.71875 0 \nQ 29.734375 -1.421875 24.609375 -1.421875 \nQ 17.921875 -1.421875 14.40625 3.8125 \nQ 11.328125 8.40625 11.28125 15.28125 \nL 11.28125 47.3125 \nz\n\" id=\"THSarabunNew-116\"/>\n      </defs>\n      <use xlink:href=\"#THSarabunNew-99\"/>\n      <use x=\"50.585938\" xlink:href=\"#THSarabunNew-111\"/>\n      <use x=\"111.376953\" xlink:href=\"#THSarabunNew-117\"/>\n      <use x=\"170.947266\" xlink:href=\"#THSarabunNew-110\"/>\n      <use x=\"230.517578\" xlink:href=\"#THSarabunNew-116\"/>\n     </g>\n    </g>\n   </g>\n   <g id=\"patch_16\">\n    <path d=\"M 50.601562 170.28 \nL 50.601562 7.2 \n\" style=\"fill:none;stroke:#000000;stroke-linecap:square;stroke-linejoin:miter;stroke-width:0.8;\"/>\n   </g>\n   <g id=\"patch_17\">\n    <path d=\"M 943.401562 170.28 \nL 943.401562 7.2 \n\" style=\"fill:none;stroke:#000000;stroke-linecap:square;stroke-linejoin:miter;stroke-width:0.8;\"/>\n   </g>\n   <g id=\"patch_18\">\n    <path d=\"M 50.601562 170.28 \nL 943.401562 170.28 \n\" style=\"fill:none;stroke:#000000;stroke-linecap:square;stroke-linejoin:miter;stroke-width:0.8;\"/>\n   </g>\n   <g id=\"patch_19\">\n    <path d=\"M 50.601562 7.2 \nL 943.401562 7.2 \n\" style=\"fill:none;stroke:#000000;stroke-linecap:square;stroke-linejoin:miter;stroke-width:0.8;\"/>\n   </g>\n  </g>\n </g>\n <defs>\n  <clipPath id=\"pb6bb2dd8f5\">\n   <rect height=\"163.08\" width=\"892.8\" x=\"50.601562\" y=\"7.2\"/>\n  </clipPath>\n </defs>\n</svg>\n",
      "image/png": "[encoded data removed]"
     },
     "metadata": {
      "needs_background": "light"
     }
    }
   ],
   "source": [
    "merged_df = interactions_df.astype({\"ITEM_ID\": str}).merge(\n",
    "    items_df, left_on=\"ITEM_ID\", right_on=\"ITEM_ID\"\n",
    ")\n",
    "merged_df\n",
    "# plot_df = merged_df.groupby([\"category\"]).apply(set)\n",
    "plt.figure(figsize=(16, 3))\n",
    "chart = sns.countplot(data=merged_df, x=\"CATEGORY\")\n",
    "plt.xticks(rotation=90, horizontalalignment=\"right\")\n",
    "plt.show()"
   ]
  },
  {
   "cell_type": "code",
   "execution_count": 13,
   "metadata": {},
   "outputs": [
    {
     "output_type": "display_data",
     "data": {
      "text/plain": "<Figure size 432x288 with 1 Axes>",
      "image/svg+xml": "<?xml version=\"1.0\" encoding=\"utf-8\" standalone=\"no\"?>\n<!DOCTYPE svg PUBLIC \"-//W3C//DTD SVG 1.1//EN\"\n  \"http://www.w3.org/Graphics/SVG/1.1/DTD/svg11.dtd\">\n<!-- Created with matplotlib (https://matplotlib.org/) -->\n<svg height=\"288.134812pt\" version=\"1.1\" viewBox=\"0 0 378.3125 288.134812\" width=\"378.3125pt\" xmlns=\"http://www.w3.org/2000/svg\" xmlns:xlink=\"http://www.w3.org/1999/xlink\">\n <metadata>\n  <rdf:RDF xmlns:cc=\"http://creativecommons.org/ns#\" xmlns:dc=\"http://purl.org/dc/elements/1.1/\" xmlns:rdf=\"http://www.w3.org/1999/02/22-rdf-syntax-ns#\">\n   <cc:Work>\n    <dc:type rdf:resource=\"http://purl.org/dc/dcmitype/StillImage\"/>\n    <dc:date>2021-03-09T13:25:33.364272</dc:date>\n    <dc:format>image/svg+xml</dc:format>\n    <dc:creator>\n     <cc:Agent>\n      <dc:title>Matplotlib v3.3.2, https://matplotlib.org/</dc:title>\n     </cc:Agent>\n    </dc:creator>\n   </cc:Work>\n  </rdf:RDF>\n </metadata>\n <defs>\n  <style type=\"text/css\">*{stroke-linecap:butt;stroke-linejoin:round;}</style>\n </defs>\n <g id=\"figure_1\">\n  <g id=\"patch_1\">\n   <path d=\"M 0 288.134812 \nL 378.3125 288.134812 \nL 378.3125 0 \nL 0 0 \nz\n\" style=\"fill:none;\"/>\n  </g>\n  <g id=\"axes_1\">\n   <g id=\"patch_2\">\n    <path d=\"M 36.3125 254.117625 \nL 371.1125 254.117625 \nL 371.1125 36.677625 \nL 36.3125 36.677625 \nz\n\" style=\"fill:#ffffff;\"/>\n   </g>\n   <g id=\"patch_3\">\n    <path clip-path=\"url(#p8be34abcb5)\" d=\"M 120.0125 254.117625 \nL 287.4125 254.117625 \nL 287.4125 47.031911 \nL 120.0125 47.031911 \nz\n\" style=\"fill:#1f77b4;\"/>\n   </g>\n   <g id=\"matplotlib.axis_1\">\n    <g id=\"xtick_1\">\n     <g id=\"line2d_1\">\n      <defs>\n       <path d=\"M 0 0 \nL 0 3.5 \n\" id=\"m6f8755186a\" style=\"stroke:#000000;stroke-width:0.8;\"/>\n      </defs>\n      <g>\n       <use style=\"stroke:#000000;stroke-width:0.8;\" x=\"203.7125\" xlink:href=\"#m6f8755186a\" y=\"254.117625\"/>\n      </g>\n     </g>\n     <g id=\"text_1\">\n      <!-- 6 -->\n      <g transform=\"translate(206.297656 266.64575)rotate(-90)scale(0.1 -0.1)\">\n       <defs>\n        <path d=\"M 5.8125 25.59375 \nQ 5.8125 43.0625 16.640625 56.921875 \nQ 27.484375 70.796875 44.390625 74.125 \nL 44.828125 69.578125 \nQ 34.625 66.703125 26.21875 58.796875 \nQ 16.703125 49.90625 13.1875 37.59375 \nQ 13.765625 39.890625 17.578125 42.484375 \nQ 22.46875 45.5625 28.90625 45.609375 \nQ 37.890625 45.609375 43.59375 38.6875 \nQ 49.3125 31.78125 49.3125 22.21875 \nQ 49.3125 12.203125 43.703125 5.484375 \nQ 38.09375 -1.21875 28.515625 -1.21875 \nQ 17.625 -1.21875 11.28125 6.984375 \nQ 5.8125 14.40625 5.8125 25.59375 \nz\nM 11.921875 22.21875 \nQ 11.921875 14.703125 16.5 9.34375 \nQ 21.09375 4 27.6875 4 \nQ 35.015625 4 39.0625 9.34375 \nQ 43.109375 14.703125 43.109375 22.21875 \nQ 43.109375 29.828125 39 35.15625 \nQ 34.90625 40.484375 27.6875 40.484375 \nQ 21.09375 40.484375 16.5 35.15625 \nQ 11.921875 29.828125 11.921875 22.21875 \nz\n\" id=\"THSarabunNew-54\"/>\n       </defs>\n       <use xlink:href=\"#THSarabunNew-54\"/>\n      </g>\n     </g>\n    </g>\n    <g id=\"text_2\">\n     <!-- Number of different news examined by user. -->\n     <g transform=\"translate(100.326562 278.375437)scale(0.1 -0.1)\">\n      <defs>\n       <path d=\"M 8.296875 0 \nL 8.296875 72.796875 \nL 15.09375 72.796875 \nL 53.421875 9.28125 \nL 53.421875 72.796875 \nL 59.1875 72.796875 \nL 59.1875 0 \nL 52.875 0 \nL 14.40625 64.40625 \nL 14.40625 0 \nz\n\" id=\"THSarabunNew-78\"/>\n       <path d=\"M 8.015625 22.796875 \nL 8.015625 52 \nL 13.921875 52 \nL 13.921875 23.875 \nQ 13.921875 3.765625 27.984375 3.8125 \nQ 34.578125 3.8125 39.890625 8.109375 \nQ 45.703125 12.984375 45.703125 20.515625 \nL 45.703125 52 \nL 51.703125 52 \nL 51.703125 12.703125 \nQ 51.703125 6.984375 54.296875 0.203125 \nL 48.6875 -1.125 \nQ 46.78125 4.046875 46.1875 8.984375 \nQ 39.5 -1.421875 26.609375 -1.421875 \nQ 8.015625 -1.421875 8.015625 22.796875 \nz\n\" id=\"THSarabunNew-117\"/>\n       <path d=\"M 6.890625 52 \nL 12.5 52 \nQ 13.625 48.78125 13.8125 42.671875 \nQ 19.734375 53.078125 31.203125 53.078125 \nQ 41.796875 53.078125 47.015625 41.5 \nQ 53.125 53.125 65.578125 53.078125 \nQ 74.171875 53.078125 79.078125 46.578125 \nQ 83.984375 40.09375 83.984375 28.90625 \nL 83.984375 0 \nL 77.984375 0 \nL 77.984375 28.8125 \nQ 77.984375 37.59375 74.390625 42.890625 \nQ 70.796875 48.1875 64.015625 48.1875 \nQ 58.015625 48.1875 53.515625 43.546875 \nQ 49.03125 38.921875 49.03125 33.015625 \nL 49.03125 0 \nL 43.015625 0 \nL 43.015625 31.5 \nQ 43.015625 48.1875 29.78125 48.1875 \nQ 23.6875 48.1875 18.796875 42.890625 \nQ 13.921875 37.59375 13.921875 31.5 \nL 13.921875 0 \nL 8.015625 0 \nL 8.015625 39.203125 \nQ 8.015625 43.3125 6.890625 52 \nz\n\" id=\"THSarabunNew-109\"/>\n       <path d=\"M 7.515625 0 \nQ 8.015625 4 8.015625 12.703125 \nL 8.015625 77.296875 \nL 13.921875 77.296875 \nL 13.921875 42.09375 \nQ 20.703125 53.078125 33.6875 53.078125 \nQ 44.484375 53.078125 50.78125 45.578125 \nQ 57.078125 38.09375 57.078125 26.609375 \nQ 57.078125 14.109375 50.484375 6.34375 \nQ 43.890625 -1.421875 32.71875 -1.421875 \nQ 20.515625 -1.421875 13.28125 9.1875 \nQ 13.28125 4 12.984375 0 \nz\nM 13.921875 20.796875 \nQ 13.921875 13.484375 19.109375 8.59375 \nQ 24.3125 3.71875 31.984375 3.71875 \nQ 51.265625 3.71875 51.3125 26.515625 \nQ 51.3125 36.140625 46.40625 42.21875 \nQ 41.5 48.296875 32.625 48.296875 \nQ 25.203125 48.296875 19.921875 43.3125 \nQ 13.921875 37.890625 13.921875 29.5 \nz\n\" id=\"THSarabunNew-98\"/>\n       <path d=\"M 4.109375 24.609375 \nQ 4.109375 37.5 11.453125 45.28125 \nQ 18.796875 53.078125 30.078125 53.078125 \nQ 52 53.078125 52.484375 25.6875 \nL 9.90625 25.6875 \nQ 10.296875 15.28125 16.15625 9.546875 \nQ 22.015625 3.8125 31.390625 3.8125 \nQ 40.484375 3.8125 49.609375 7.328125 \nL 50 2.296875 \nQ 41.21875 -1.421875 30.8125 -1.421875 \nQ 18.796875 -1.421875 11.453125 5.953125 \nQ 4.109375 13.328125 4.109375 24.609375 \nz\nM 10.296875 30.421875 \nL 46.78125 30.421875 \nQ 46.6875 36.71875 43.3125 41.609375 \nQ 38.71875 48.296875 29.390625 48.296875 \nQ 21 48.296875 15.578125 42.1875 \nQ 11.28125 37.3125 10.296875 30.421875 \nz\n\" id=\"THSarabunNew-101\"/>\n       <path d=\"M 6.390625 52 \nL 11.53125 52 \nQ 13.234375 48.6875 13.1875 41.609375 \nQ 18.0625 53.125 28.90625 53.078125 \nQ 30.328125 53.078125 31.78125 52.78125 \nL 31.78125 47.703125 \nQ 31.390625 47.90625 29.984375 47.90625 \nQ 18.171875 47.90625 14.40625 33.203125 \nQ 13.921875 31.5 13.921875 27.984375 \nL 13.921875 0 \nL 8.015625 0 \nL 8.015625 35.015625 \nQ 8.015625 46.484375 6.390625 52 \nz\n\" id=\"THSarabunNew-114\"/>\n       <path id=\"THSarabunNew-32\"/>\n       <path d=\"M 4.296875 25.875 \nQ 4.296875 37.25 11.5 45.15625 \nQ 18.703125 53.078125 30.421875 53.078125 \nQ 42.234375 53.078125 49.40625 45.1875 \nQ 56.59375 37.3125 56.59375 25.875 \nQ 56.59375 14.359375 49.390625 6.421875 \nQ 42.1875 -1.515625 30.421875 -1.515625 \nQ 18.703125 -1.515625 11.5 6.421875 \nQ 4.296875 14.359375 4.296875 25.875 \nz\nM 10.109375 25.875 \nQ 10.109375 16.359375 15.84375 9.9375 \nQ 21.578125 3.515625 30.421875 3.515625 \nQ 39.3125 3.515625 45.046875 9.953125 \nQ 50.78125 16.40625 50.78125 25.875 \nQ 50.78125 35.296875 45.046875 41.640625 \nQ 39.3125 48 30.421875 48 \nQ 21.625 48 15.859375 41.640625 \nQ 10.109375 35.296875 10.109375 25.875 \nz\n\" id=\"THSarabunNew-111\"/>\n       <path d=\"M 0.78125 47.3125 \nL 0.78125 52 \nL 9.625 52 \nL 9.625 54 \nQ 9.625 78.515625 28.21875 78.515625 \nQ 34.03125 78.515625 36.921875 75.984375 \nL 35.203125 71.78125 \nQ 31.78125 73.390625 27.6875 73.390625 \nQ 15.484375 73.390625 15.484375 54 \nL 15.484375 52 \nL 30.421875 52 \nL 30.421875 47.3125 \nL 15.484375 47.3125 \nL 15.484375 0 \nL 9.515625 0 \nL 9.515625 47.3125 \nz\n\" id=\"THSarabunNew-102\"/>\n       <path d=\"M 4.296875 26.609375 \nQ 4.296875 38.140625 10.546875 45.609375 \nQ 16.796875 53.078125 27.6875 53.078125 \nQ 40.671875 53.078125 47.40625 42.09375 \nL 47.40625 77.296875 \nL 53.421875 77.296875 \nL 53.421875 12.703125 \nQ 53.421875 4 53.90625 0 \nL 48.296875 0 \nQ 48 4 48 9.1875 \nQ 40.921875 -1.421875 28.609375 -1.421875 \nQ 17.4375 -1.421875 10.859375 6.34375 \nQ 4.296875 14.109375 4.296875 26.609375 \nz\nM 10.109375 26.515625 \nQ 10.109375 3.71875 29.390625 3.71875 \nQ 37.015625 3.71875 42.203125 8.59375 \nQ 47.40625 13.484375 47.40625 20.796875 \nL 47.40625 29.5 \nQ 47.40625 37.890625 41.5 43.3125 \nQ 36.078125 48.296875 28.8125 48.296875 \nQ 19.921875 48.296875 15.015625 42.21875 \nQ 10.109375 36.140625 10.109375 26.515625 \nz\n\" id=\"THSarabunNew-100\"/>\n       <path d=\"M 6 67.828125 \nQ 6 69.921875 7.296875 71.3125 \nQ 8.59375 72.703125 10.6875 72.703125 \nQ 12.890625 72.703125 14.234375 71.3125 \nQ 15.578125 69.921875 15.578125 67.828125 \nQ 15.578125 65.625 14.234375 64.296875 \nQ 12.890625 62.984375 10.6875 62.984375 \nQ 8.59375 62.984375 7.296875 64.296875 \nQ 6 65.625 6 67.828125 \nz\nM 8.015625 0 \nL 8.015625 52 \nL 13.921875 52 \nL 13.921875 0 \nz\n\" id=\"THSarabunNew-105\"/>\n       <path d=\"M 6.890625 52 \nL 12.5 52 \nQ 13.625 48.78125 13.8125 42.671875 \nQ 19.734375 53.078125 31.390625 53.078125 \nQ 51.703125 53.078125 51.703125 29.5 \nL 51.703125 0 \nL 45.703125 0 \nL 45.703125 29.5 \nQ 45.703125 48.1875 30.078125 48.1875 \nQ 23.875 48.1875 18.890625 42.890625 \nQ 13.921875 37.59375 13.921875 31.5 \nL 13.921875 0 \nL 8.015625 0 \nL 8.015625 39.203125 \nQ 8.015625 43.3125 6.890625 52 \nz\n\" id=\"THSarabunNew-110\"/>\n       <path d=\"M 0.875 47.3125 \nL 0.875 52 \nL 11.28125 52 \nL 11.28125 67.484375 \nL 17.28125 70.21875 \nL 17.28125 52 \nL 33.984375 52 \nL 33.984375 47.3125 \nL 17.28125 47.3125 \nL 17.28125 15.484375 \nQ 17.28125 3.765625 25.09375 3.8125 \nQ 29.78125 3.8125 32.078125 4.6875 \nL 32.71875 0 \nQ 29.734375 -1.421875 24.609375 -1.421875 \nQ 17.921875 -1.421875 14.40625 3.8125 \nQ 11.328125 8.40625 11.28125 15.28125 \nL 11.28125 47.3125 \nz\n\" id=\"THSarabunNew-116\"/>\n       <path d=\"M 0.484375 52 \nL 6.6875 52 \nL 20.515625 6.984375 \nL 36.078125 52 \nL 41.796875 52 \nL 56.5 6.984375 \nL 71.578125 52 \nL 77.59375 52 \nL 58.890625 0 \nL 53.71875 0 \nL 38.71875 45.90625 \nL 23 0 \nL 17.390625 0 \nz\n\" id=\"THSarabunNew-119\"/>\n       <path d=\"M 4.390625 2.78125 \nL 6.6875 7.625 \nQ 14.109375 3.71875 19.578125 3.71875 \nQ 32.375 3.71875 32.421875 13.28125 \nQ 32.421875 20.796875 20.3125 24.515625 \nQ 6.390625 28.8125 6.390625 38.625 \nQ 6.390625 44.53125 10.9375 48.796875 \nQ 15.484375 53.078125 23.578125 53.078125 \nQ 31.6875 53.078125 36.375 49.609375 \nL 33.984375 44.671875 \nQ 29.390625 48.296875 22.515625 48.296875 \nQ 17.625 48.296875 14.859375 45.703125 \nQ 12.109375 43.109375 12.109375 39.3125 \nQ 12.109375 33.203125 24.03125 29.109375 \nQ 37.9375 24.3125 37.890625 13.8125 \nQ 37.890625 7.234375 32.9375 2.90625 \nQ 27.984375 -1.421875 19.09375 -1.421875 \nQ 11.46875 -1.421875 4.390625 2.78125 \nz\n\" id=\"THSarabunNew-115\"/>\n       <path d=\"M 0 0 \nL 21.09375 26.515625 \nL 1.421875 52 \nL 8.109375 52 \nL 24.609375 30.90625 \nL 41.015625 52 \nL 47.609375 52 \nL 27.6875 26.609375 \nL 48.6875 0 \nL 41.609375 0 \nL 24.21875 22.515625 \nL 6.890625 0 \nz\n\" id=\"THSarabunNew-120\"/>\n       <path d=\"M 4 12.984375 \nQ 4 32.375 37.796875 32.421875 \nL 38.71875 32.421875 \nL 38.71875 33.40625 \nQ 38.71875 38.375 36.375 42.1875 \nQ 32.859375 48.296875 24.515625 48.296875 \nQ 19.09375 48.296875 8.015625 44.828125 \nL 7.171875 50.296875 \nQ 15.765625 53.078125 24.90625 53.078125 \nQ 44.734375 53.078125 44.671875 31.390625 \nL 44.671875 12.703125 \nQ 44.671875 6.296875 46.484375 0 \nL 41.21875 -1.125 \nL 39.015625 7.328125 \nQ 32.03125 -1.375 20.515625 -1.421875 \nQ 13.8125 -1.421875 8.90625 2.4375 \nQ 4 6.296875 4 12.984375 \nz\nM 10.296875 14.109375 \nQ 10.296875 9.03125 13.34375 6.375 \nQ 16.40625 3.71875 21 3.71875 \nQ 33.015625 3.71875 37.890625 13.921875 \nQ 38.671875 15.625 38.71875 16.796875 \nL 38.71875 27.203125 \nQ 10.296875 27.203125 10.296875 14.109375 \nz\n\" id=\"THSarabunNew-97\"/>\n       <path d=\"M 0.484375 52 \nL 6.890625 52 \nL 26.3125 8.015625 \nL 44.484375 52 \nL 51.125 52 \nL 28.21875 0 \nQ 19.140625 -20.3125 4.109375 -23.875 \nL 2.78125 -19.09375 \nQ 15.765625 -16.21875 22.515625 1.703125 \nQ 22.515625 2.09375 22.015625 3.515625 \nz\n\" id=\"THSarabunNew-121\"/>\n       <path d=\"M 6.984375 4.296875 \nQ 6.984375 6.390625 8.546875 8 \nQ 10.109375 9.625 12.203125 9.625 \nQ 14.40625 9.625 15.984375 8 \nQ 17.578125 6.390625 17.578125 4.296875 \nQ 17.578125 2.09375 15.984375 0.609375 \nQ 14.40625 -0.875 12.203125 -0.875 \nQ 10.109375 -0.875 8.546875 0.609375 \nQ 6.984375 2.09375 6.984375 4.296875 \nz\n\" id=\"THSarabunNew-46\"/>\n      </defs>\n      <use xlink:href=\"#THSarabunNew-78\"/>\n      <use x=\"67.382812\" xlink:href=\"#THSarabunNew-117\"/>\n      <use x=\"126.953125\" xlink:href=\"#THSarabunNew-109\"/>\n      <use x=\"218.847656\" xlink:href=\"#THSarabunNew-98\"/>\n      <use x=\"280.126953\" xlink:href=\"#THSarabunNew-101\"/>\n      <use x=\"337.304688\" xlink:href=\"#THSarabunNew-114\"/>\n      <use x=\"370.458984\" xlink:href=\"#THSarabunNew-32\"/>\n      <use x=\"403.417969\" xlink:href=\"#THSarabunNew-111\"/>\n      <use x=\"464.208984\" xlink:href=\"#THSarabunNew-102\"/>\n      <use x=\"495.703125\" xlink:href=\"#THSarabunNew-32\"/>\n      <use x=\"528.662109\" xlink:href=\"#THSarabunNew-100\"/>\n      <use x=\"589.941406\" xlink:href=\"#THSarabunNew-105\"/>\n      <use x=\"611.71875\" xlink:href=\"#THSarabunNew-102\"/>\n      <use x=\"643.212891\" xlink:href=\"#THSarabunNew-102\"/>\n      <use x=\"674.707031\" xlink:href=\"#THSarabunNew-101\"/>\n      <use x=\"731.884766\" xlink:href=\"#THSarabunNew-114\"/>\n      <use x=\"765.039062\" xlink:href=\"#THSarabunNew-101\"/>\n      <use x=\"822.216797\" xlink:href=\"#THSarabunNew-110\"/>\n      <use x=\"881.787109\" xlink:href=\"#THSarabunNew-116\"/>\n      <use x=\"918.164062\" xlink:href=\"#THSarabunNew-32\"/>\n      <use x=\"951.123047\" xlink:href=\"#THSarabunNew-110\"/>\n      <use x=\"1010.693359\" xlink:href=\"#THSarabunNew-101\"/>\n      <use x=\"1067.871094\" xlink:href=\"#THSarabunNew-119\"/>\n      <use x=\"1145.361328\" xlink:href=\"#THSarabunNew-115\"/>\n      <use x=\"1188.427734\" xlink:href=\"#THSarabunNew-32\"/>\n      <use x=\"1221.386719\" xlink:href=\"#THSarabunNew-101\"/>\n      <use x=\"1278.564453\" xlink:href=\"#THSarabunNew-120\"/>\n      <use x=\"1327.148438\" xlink:href=\"#THSarabunNew-97\"/>\n      <use x=\"1379.736328\" xlink:href=\"#THSarabunNew-109\"/>\n      <use x=\"1471.630859\" xlink:href=\"#THSarabunNew-105\"/>\n      <use x=\"1493.408203\" xlink:href=\"#THSarabunNew-110\"/>\n      <use x=\"1552.978516\" xlink:href=\"#THSarabunNew-101\"/>\n      <use x=\"1610.15625\" xlink:href=\"#THSarabunNew-100\"/>\n      <use x=\"1671.435547\" xlink:href=\"#THSarabunNew-32\"/>\n      <use x=\"1704.394531\" xlink:href=\"#THSarabunNew-98\"/>\n      <use x=\"1765.673828\" xlink:href=\"#THSarabunNew-121\"/>\n      <use x=\"1817.138672\" xlink:href=\"#THSarabunNew-32\"/>\n      <use x=\"1850.097656\" xlink:href=\"#THSarabunNew-117\"/>\n      <use x=\"1909.667969\" xlink:href=\"#THSarabunNew-115\"/>\n      <use x=\"1952.734375\" xlink:href=\"#THSarabunNew-101\"/>\n      <use x=\"2009.912109\" xlink:href=\"#THSarabunNew-114\"/>\n      <use x=\"2043.066406\" xlink:href=\"#THSarabunNew-46\"/>\n     </g>\n    </g>\n   </g>\n   <g id=\"matplotlib.axis_2\">\n    <g id=\"ytick_1\">\n     <g id=\"line2d_2\">\n      <defs>\n       <path d=\"M 0 0 \nL -3.5 0 \n\" id=\"m81ec9bda11\" style=\"stroke:#000000;stroke-width:0.8;\"/>\n      </defs>\n      <g>\n       <use style=\"stroke:#000000;stroke-width:0.8;\" x=\"36.3125\" xlink:href=\"#m81ec9bda11\" y=\"254.117625\"/>\n      </g>\n     </g>\n     <g id=\"text_3\">\n      <!-- 0 -->\n      <g transform=\"translate(23.784375 257.982469)scale(0.1 -0.1)\">\n       <defs>\n        <path d=\"M 4.6875 34.71875 \nQ 4.6875 50.203125 10.109375 60.890625 \nQ 16.40625 73.296875 27.6875 73.296875 \nQ 38.96875 73.296875 45.3125 60.890625 \nQ 50.484375 50.203125 50.484375 34.71875 \nQ 50.484375 22.015625 45.609375 11.625 \nQ 39.3125 -1.65625 27.6875 -1.703125 \nQ 15.875 -1.703125 9.625 11.625 \nQ 4.6875 21.921875 4.6875 34.71875 \nz\nM 10.890625 34.90625 \nQ 10.890625 23.921875 14.5 14.984375 \nQ 19.09375 3.46875 27.6875 3.515625 \nQ 36.078125 3.515625 40.71875 14.984375 \nQ 44.4375 23.875 44.390625 34.90625 \nQ 44.390625 48.1875 40.484375 57.421875 \nQ 35.984375 68.109375 27.6875 68.109375 \nQ 19.28125 68.109375 14.703125 57.421875 \nQ 10.890625 48.296875 10.890625 34.90625 \nz\n\" id=\"THSarabunNew-48\"/>\n       </defs>\n       <use xlink:href=\"#THSarabunNew-48\"/>\n      </g>\n     </g>\n    </g>\n    <g id=\"ytick_2\">\n     <g id=\"line2d_3\">\n      <g>\n       <use style=\"stroke:#000000;stroke-width:0.8;\" x=\"36.3125\" xlink:href=\"#m81ec9bda11\" y=\"227.396888\"/>\n      </g>\n     </g>\n     <g id=\"text_4\">\n      <!-- 200 -->\n      <g transform=\"translate(12.728125 231.261731)scale(0.1 -0.1)\">\n       <defs>\n        <path d=\"M 4 0 \nQ 4.59375 3.8125 6.109375 8.6875 \nQ 12.703125 15.484375 20.65625 23.140625 \nQ 28.609375 30.8125 38.375 42.484375 \nQ 43.265625 49.078125 43.3125 55.078125 \nQ 43.3125 60.984375 39.453125 64.234375 \nQ 35.59375 67.484375 29.5 67.484375 \nQ 15.765625 67.484375 13.921875 53.71875 \nL 8.40625 55.171875 \nQ 9.28125 64.0625 15.484375 68.796875 \nQ 21 73.09375 29.6875 73.09375 \nQ 38.1875 73.09375 43.796875 67.84375 \nQ 49.421875 62.59375 49.421875 54.59375 \nQ 49.421875 42.96875 31.109375 25.390625 \nQ 17.71875 12.203125 12.203125 6 \nL 51.3125 6 \nL 50 0 \nz\n\" id=\"THSarabunNew-50\"/>\n       </defs>\n       <use xlink:href=\"#THSarabunNew-50\"/>\n       <use x=\"55.273438\" xlink:href=\"#THSarabunNew-48\"/>\n       <use x=\"110.546875\" xlink:href=\"#THSarabunNew-48\"/>\n      </g>\n     </g>\n    </g>\n    <g id=\"ytick_3\">\n     <g id=\"line2d_4\">\n      <g>\n       <use style=\"stroke:#000000;stroke-width:0.8;\" x=\"36.3125\" xlink:href=\"#m81ec9bda11\" y=\"200.67615\"/>\n      </g>\n     </g>\n     <g id=\"text_5\">\n      <!-- 400 -->\n      <g transform=\"translate(12.728125 204.540994)scale(0.1 -0.1)\">\n       <defs>\n        <path d=\"M 4.890625 17 \nQ 5.171875 39.796875 15.1875 55.546875 \nQ 25.203125 71.296875 41.890625 74.703125 \nL 41.890625 22.609375 \nL 52.78125 22.609375 \nL 52 17 \nL 41.890625 17 \nL 41.890625 0 \nL 35.796875 0 \nL 35.796875 17 \nz\nM 11.53125 22.609375 \nL 35.796875 22.609375 \nL 35.796875 66.890625 \nQ 25.203125 61.71875 18.40625 48.6875 \nQ 11.8125 36.328125 11.53125 22.609375 \nz\n\" id=\"THSarabunNew-52\"/>\n       </defs>\n       <use xlink:href=\"#THSarabunNew-52\"/>\n       <use x=\"55.273438\" xlink:href=\"#THSarabunNew-48\"/>\n       <use x=\"110.546875\" xlink:href=\"#THSarabunNew-48\"/>\n      </g>\n     </g>\n    </g>\n    <g id=\"ytick_4\">\n     <g id=\"line2d_5\">\n      <g>\n       <use style=\"stroke:#000000;stroke-width:0.8;\" x=\"36.3125\" xlink:href=\"#m81ec9bda11\" y=\"173.955413\"/>\n      </g>\n     </g>\n     <g id=\"text_6\">\n      <!-- 600 -->\n      <g transform=\"translate(12.728125 177.820257)scale(0.1 -0.1)\">\n       <use xlink:href=\"#THSarabunNew-54\"/>\n       <use x=\"55.273438\" xlink:href=\"#THSarabunNew-48\"/>\n       <use x=\"110.546875\" xlink:href=\"#THSarabunNew-48\"/>\n      </g>\n     </g>\n    </g>\n    <g id=\"ytick_5\">\n     <g id=\"line2d_6\">\n      <g>\n       <use style=\"stroke:#000000;stroke-width:0.8;\" x=\"36.3125\" xlink:href=\"#m81ec9bda11\" y=\"147.234676\"/>\n      </g>\n     </g>\n     <g id=\"text_7\">\n      <!-- 800 -->\n      <g transform=\"translate(12.728125 151.099519)scale(0.1 -0.1)\">\n       <defs>\n        <path d=\"M 4.984375 19.578125 \nQ 4.984375 27.09375 9.390625 32.484375 \nQ 13.8125 37.890625 20.515625 39.3125 \nQ 14.796875 41.015625 11.0625 45.359375 \nQ 7.328125 49.703125 7.328125 54.78125 \nQ 7.328125 62.890625 13.015625 68.09375 \nQ 18.703125 73.296875 27.6875 73.296875 \nQ 36.578125 73.296875 42.234375 68.09375 \nQ 47.90625 62.890625 47.90625 54.78125 \nQ 47.90625 49.703125 44.140625 45.359375 \nQ 40.375 41.015625 34.71875 39.3125 \nQ 41.5 37.890625 45.84375 32.484375 \nQ 50.203125 27.09375 50.203125 19.578125 \nQ 50.203125 9.765625 44.046875 4.265625 \nQ 37.890625 -1.21875 27.484375 -1.21875 \nQ 17.28125 -1.21875 11.125 4.265625 \nQ 4.984375 9.765625 4.984375 19.578125 \nz\nM 11.1875 19.09375 \nQ 11.1875 12.203125 15.84375 8.15625 \nQ 20.515625 4.109375 27.6875 4.109375 \nQ 34.671875 4.109375 39.375 8.15625 \nQ 44.09375 12.203125 44.09375 19.09375 \nQ 44.09375 25.09375 39.9375 30.53125 \nQ 35.796875 35.984375 27.484375 36.375 \nQ 19.390625 35.984375 15.28125 30.53125 \nQ 11.1875 25.09375 11.1875 19.09375 \nz\nM 13.484375 55.171875 \nQ 13.484375 45.65625 27.484375 42.1875 \nQ 41.796875 45.703125 41.796875 55.171875 \nQ 41.796875 60.59375 37.9375 64.078125 \nQ 34.078125 67.578125 27.6875 67.578125 \nQ 21.09375 67.578125 17.28125 64.078125 \nQ 13.484375 60.59375 13.484375 55.171875 \nz\n\" id=\"THSarabunNew-56\"/>\n       </defs>\n       <use xlink:href=\"#THSarabunNew-56\"/>\n       <use x=\"55.273438\" xlink:href=\"#THSarabunNew-48\"/>\n       <use x=\"110.546875\" xlink:href=\"#THSarabunNew-48\"/>\n      </g>\n     </g>\n    </g>\n    <g id=\"ytick_6\">\n     <g id=\"line2d_7\">\n      <g>\n       <use style=\"stroke:#000000;stroke-width:0.8;\" x=\"36.3125\" xlink:href=\"#m81ec9bda11\" y=\"120.513938\"/>\n      </g>\n     </g>\n     <g id=\"text_8\">\n      <!-- 1000 -->\n      <g transform=\"translate(7.2 124.378782)scale(0.1 -0.1)\">\n       <defs>\n        <path d=\"M 11.53125 57.71875 \nL 29.109375 73.09375 \nQ 32.421875 73.09375 32.421875 67.28125 \nL 32.421875 5.515625 \nL 43.890625 5.515625 \nL 43.890625 0 \nL 14.796875 0 \nL 14.796875 5.515625 \nL 26.3125 5.515625 \nL 26.3125 63.8125 \nL 14.796875 53.90625 \nz\n\" id=\"THSarabunNew-49\"/>\n       </defs>\n       <use xlink:href=\"#THSarabunNew-49\"/>\n       <use x=\"55.273438\" xlink:href=\"#THSarabunNew-48\"/>\n       <use x=\"110.546875\" xlink:href=\"#THSarabunNew-48\"/>\n       <use x=\"165.820312\" xlink:href=\"#THSarabunNew-48\"/>\n      </g>\n     </g>\n    </g>\n    <g id=\"ytick_7\">\n     <g id=\"line2d_8\">\n      <g>\n       <use style=\"stroke:#000000;stroke-width:0.8;\" x=\"36.3125\" xlink:href=\"#m81ec9bda11\" y=\"93.793201\"/>\n      </g>\n     </g>\n     <g id=\"text_9\">\n      <!-- 1200 -->\n      <g transform=\"translate(7.2 97.658045)scale(0.1 -0.1)\">\n       <use xlink:href=\"#THSarabunNew-49\"/>\n       <use x=\"55.273438\" xlink:href=\"#THSarabunNew-50\"/>\n       <use x=\"110.546875\" xlink:href=\"#THSarabunNew-48\"/>\n       <use x=\"165.820312\" xlink:href=\"#THSarabunNew-48\"/>\n      </g>\n     </g>\n    </g>\n    <g id=\"ytick_8\">\n     <g id=\"line2d_9\">\n      <g>\n       <use style=\"stroke:#000000;stroke-width:0.8;\" x=\"36.3125\" xlink:href=\"#m81ec9bda11\" y=\"67.072464\"/>\n      </g>\n     </g>\n     <g id=\"text_10\">\n      <!-- 1400 -->\n      <g transform=\"translate(7.2 70.937307)scale(0.1 -0.1)\">\n       <use xlink:href=\"#THSarabunNew-49\"/>\n       <use x=\"55.273438\" xlink:href=\"#THSarabunNew-52\"/>\n       <use x=\"110.546875\" xlink:href=\"#THSarabunNew-48\"/>\n       <use x=\"165.820312\" xlink:href=\"#THSarabunNew-48\"/>\n      </g>\n     </g>\n    </g>\n    <g id=\"ytick_9\">\n     <g id=\"line2d_10\">\n      <g>\n       <use style=\"stroke:#000000;stroke-width:0.8;\" x=\"36.3125\" xlink:href=\"#m81ec9bda11\" y=\"40.351726\"/>\n      </g>\n     </g>\n     <g id=\"text_11\">\n      <!-- 1600 -->\n      <g transform=\"translate(7.2 44.21657)scale(0.1 -0.1)\">\n       <use xlink:href=\"#THSarabunNew-49\"/>\n       <use x=\"55.273438\" xlink:href=\"#THSarabunNew-54\"/>\n       <use x=\"110.546875\" xlink:href=\"#THSarabunNew-48\"/>\n       <use x=\"165.820312\" xlink:href=\"#THSarabunNew-48\"/>\n      </g>\n     </g>\n    </g>\n   </g>\n   <g id=\"patch_4\">\n    <path d=\"M 36.3125 254.117625 \nL 36.3125 36.677625 \n\" style=\"fill:none;stroke:#000000;stroke-linecap:square;stroke-linejoin:miter;stroke-width:0.8;\"/>\n   </g>\n   <g id=\"patch_5\">\n    <path d=\"M 371.1125 254.117625 \nL 371.1125 36.677625 \n\" style=\"fill:none;stroke:#000000;stroke-linecap:square;stroke-linejoin:miter;stroke-width:0.8;\"/>\n   </g>\n   <g id=\"patch_6\">\n    <path d=\"M 36.3125 254.117625 \nL 371.1125 254.117625 \n\" style=\"fill:none;stroke:#000000;stroke-linecap:square;stroke-linejoin:miter;stroke-width:0.8;\"/>\n   </g>\n   <g id=\"patch_7\">\n    <path d=\"M 36.3125 36.677625 \nL 371.1125 36.677625 \n\" style=\"fill:none;stroke:#000000;stroke-linecap:square;stroke-linejoin:miter;stroke-width:0.8;\"/>\n   </g>\n   <g id=\"text_12\">\n    <!-- We should have reduced users to a small number of news -->\n    <g transform=\"translate(40.521875 16.475625)scale(0.12 -0.12)\">\n     <defs>\n      <path d=\"M 0 72.796875 \nL 6.6875 72.796875 \nL 25.203125 6.890625 \nL 41.609375 72.796875 \nL 48.296875 72.796875 \nL 64.703125 6.890625 \nL 83.203125 72.796875 \nL 89.984375 72.796875 \nL 67.921875 0 \nL 61.53125 0 \nL 45.015625 66.109375 \nL 28.515625 0 \nL 22.015625 0 \nz\n\" id=\"THSarabunNew-87\"/>\n      <path d=\"M 8.015625 0 \nL 8.015625 77.296875 \nL 13.921875 77.296875 \nL 13.921875 42.671875 \nQ 20.21875 53.078125 31.390625 53.078125 \nQ 51.703125 53.078125 51.703125 29.5 \nL 51.703125 0 \nL 45.703125 0 \nL 45.703125 29.5 \nQ 45.703125 48.1875 30.078125 48.1875 \nQ 23.875 48.1875 18.890625 42.890625 \nQ 13.921875 37.59375 13.921875 31.5 \nL 13.921875 0 \nz\n\" id=\"THSarabunNew-104\"/>\n      <path d=\"M 8.015625 26.21875 \nL 8.015625 77.296875 \nL 13.921875 77.296875 \nL 13.921875 28.515625 \nQ 13.921875 17.328125 15.921875 12.203125 \nQ 19 4.296875 27.78125 4.109375 \nL 27.203125 -1.125 \nQ 8.015625 -0.203125 8.015625 26.21875 \nz\n\" id=\"THSarabunNew-108\"/>\n      <path d=\"M 0.484375 52 \nL 6.59375 52 \nL 25.875 6.390625 \nL 45.609375 52 \nL 51.703125 52 \nL 28.328125 0 \nL 23 0 \nz\n\" id=\"THSarabunNew-118\"/>\n      <path d=\"M 4.109375 25.875 \nQ 4.109375 38.1875 11.453125 45.625 \nQ 18.796875 53.078125 31.6875 53.078125 \nQ 41.21875 53.078125 47.703125 49.421875 \nL 45.609375 44.484375 \nQ 39.890625 48.1875 31.390625 48.1875 \nQ 21.96875 48.1875 15.9375 42.234375 \nQ 9.90625 36.28125 9.90625 25.875 \nQ 9.90625 15.484375 15.953125 9.5 \nQ 22.015625 3.515625 31.390625 3.515625 \nQ 39.890625 3.515625 45.609375 7.171875 \nL 47.703125 2.296875 \nQ 41.21875 -1.421875 31.6875 -1.421875 \nQ 18.796875 -1.421875 11.453125 6.03125 \nQ 4.109375 13.484375 4.109375 25.875 \nz\n\" id=\"THSarabunNew-99\"/>\n     </defs>\n     <use xlink:href=\"#THSarabunNew-87\"/>\n     <use x=\"89.892578\" xlink:href=\"#THSarabunNew-101\"/>\n     <use x=\"147.070312\" xlink:href=\"#THSarabunNew-32\"/>\n     <use x=\"180.029297\" xlink:href=\"#THSarabunNew-115\"/>\n     <use x=\"223.095703\" xlink:href=\"#THSarabunNew-104\"/>\n     <use x=\"282.666016\" xlink:href=\"#THSarabunNew-111\"/>\n     <use x=\"343.457031\" xlink:href=\"#THSarabunNew-117\"/>\n     <use x=\"403.027344\" xlink:href=\"#THSarabunNew-108\"/>\n     <use x=\"433.59375\" xlink:href=\"#THSarabunNew-100\"/>\n     <use x=\"494.873047\" xlink:href=\"#THSarabunNew-32\"/>\n     <use x=\"527.832031\" xlink:href=\"#THSarabunNew-104\"/>\n     <use x=\"587.402344\" xlink:href=\"#THSarabunNew-97\"/>\n     <use x=\"639.990234\" xlink:href=\"#THSarabunNew-118\"/>\n     <use x=\"692.089844\" xlink:href=\"#THSarabunNew-101\"/>\n     <use x=\"749.267578\" xlink:href=\"#THSarabunNew-32\"/>\n     <use x=\"782.226562\" xlink:href=\"#THSarabunNew-114\"/>\n     <use x=\"815.380859\" xlink:href=\"#THSarabunNew-101\"/>\n     <use x=\"872.558594\" xlink:href=\"#THSarabunNew-100\"/>\n     <use x=\"933.837891\" xlink:href=\"#THSarabunNew-117\"/>\n     <use x=\"993.408203\" xlink:href=\"#THSarabunNew-99\"/>\n     <use x=\"1043.994141\" xlink:href=\"#THSarabunNew-101\"/>\n     <use x=\"1101.171875\" xlink:href=\"#THSarabunNew-100\"/>\n     <use x=\"1162.451172\" xlink:href=\"#THSarabunNew-32\"/>\n     <use x=\"1195.410156\" xlink:href=\"#THSarabunNew-117\"/>\n     <use x=\"1254.980469\" xlink:href=\"#THSarabunNew-115\"/>\n     <use x=\"1298.046875\" xlink:href=\"#THSarabunNew-101\"/>\n     <use x=\"1355.224609\" xlink:href=\"#THSarabunNew-114\"/>\n     <use x=\"1388.378906\" xlink:href=\"#THSarabunNew-115\"/>\n     <use x=\"1431.445312\" xlink:href=\"#THSarabunNew-32\"/>\n     <use x=\"1464.404297\" xlink:href=\"#THSarabunNew-116\"/>\n     <use x=\"1500.78125\" xlink:href=\"#THSarabunNew-111\"/>\n     <use x=\"1561.572266\" xlink:href=\"#THSarabunNew-32\"/>\n     <use x=\"1594.53125\" xlink:href=\"#THSarabunNew-97\"/>\n     <use x=\"1647.119141\" xlink:href=\"#THSarabunNew-32\"/>\n     <use x=\"1680.078125\" xlink:href=\"#THSarabunNew-115\"/>\n     <use x=\"1723.144531\" xlink:href=\"#THSarabunNew-109\"/>\n     <use x=\"1815.039062\" xlink:href=\"#THSarabunNew-97\"/>\n     <use x=\"1867.626953\" xlink:href=\"#THSarabunNew-108\"/>\n     <use x=\"1898.193359\" xlink:href=\"#THSarabunNew-108\"/>\n     <use x=\"1928.759766\" xlink:href=\"#THSarabunNew-32\"/>\n     <use x=\"1961.71875\" xlink:href=\"#THSarabunNew-110\"/>\n     <use x=\"2021.289062\" xlink:href=\"#THSarabunNew-117\"/>\n     <use x=\"2080.859375\" xlink:href=\"#THSarabunNew-109\"/>\n     <use x=\"2172.753906\" xlink:href=\"#THSarabunNew-98\"/>\n     <use x=\"2234.033203\" xlink:href=\"#THSarabunNew-101\"/>\n     <use x=\"2291.210938\" xlink:href=\"#THSarabunNew-114\"/>\n     <use x=\"2324.365234\" xlink:href=\"#THSarabunNew-32\"/>\n     <use x=\"2357.324219\" xlink:href=\"#THSarabunNew-111\"/>\n     <use x=\"2418.115234\" xlink:href=\"#THSarabunNew-102\"/>\n     <use x=\"2449.609375\" xlink:href=\"#THSarabunNew-32\"/>\n     <use x=\"2482.568359\" xlink:href=\"#THSarabunNew-110\"/>\n     <use x=\"2542.138672\" xlink:href=\"#THSarabunNew-101\"/>\n     <use x=\"2599.316406\" xlink:href=\"#THSarabunNew-119\"/>\n     <use x=\"2676.806641\" xlink:href=\"#THSarabunNew-115\"/>\n    </g>\n    <!-- maximum size should be 5 -->\n    <g transform=\"translate(128.730313 30.677625)scale(0.12 -0.12)\">\n     <defs>\n      <path d=\"M 2.296875 0 \nL 2.296875 3.71875 \nL 39.015625 47.125 \nL 4.109375 47.125 \nL 4.984375 52 \nL 46.484375 52 \nL 46.390625 47.90625 \nL 9.8125 4.890625 \nL 47.3125 4.890625 \nL 46.09375 0 \nz\n\" id=\"THSarabunNew-122\"/>\n      <path d=\"M 3.71875 4.390625 \nL 6.296875 9.1875 \nQ 8.40625 7.765625 10.890625 6.59375 \nQ 15.09375 4.59375 21.390625 4.59375 \nQ 29.6875 4.59375 36.03125 9.9375 \nQ 42.390625 15.28125 42.390625 24.90625 \nQ 42.390625 33.203125 36.921875 37.3125 \nQ 32.328125 41.015625 24.90625 41.015625 \nQ 18.5 41.015625 14.703125 35.984375 \nL 11.53125 35.59375 \nL 13.8125 72.703125 \nL 46.390625 72.703125 \nL 45.3125 66.890625 \nL 19.578125 66.890625 \nL 18.21875 45.3125 \nQ 22.21875 46.828125 26.8125 46.78125 \nQ 35.59375 46.78125 41.890625 41.3125 \nQ 48.6875 35.203125 48.6875 25.09375 \nQ 48.6875 13.28125 40.703125 6.03125 \nQ 32.71875 -1.21875 20.21875 -1.21875 \nQ 9.625 -1.21875 3.71875 4.390625 \nz\n\" id=\"THSarabunNew-53\"/>\n     </defs>\n     <use xlink:href=\"#THSarabunNew-109\"/>\n     <use x=\"91.894531\" xlink:href=\"#THSarabunNew-97\"/>\n     <use x=\"144.482422\" xlink:href=\"#THSarabunNew-120\"/>\n     <use x=\"193.066406\" xlink:href=\"#THSarabunNew-105\"/>\n     <use x=\"214.84375\" xlink:href=\"#THSarabunNew-109\"/>\n     <use x=\"306.738281\" xlink:href=\"#THSarabunNew-117\"/>\n     <use x=\"366.308594\" xlink:href=\"#THSarabunNew-109\"/>\n     <use x=\"458.203125\" xlink:href=\"#THSarabunNew-32\"/>\n     <use x=\"491.162109\" xlink:href=\"#THSarabunNew-115\"/>\n     <use x=\"534.228516\" xlink:href=\"#THSarabunNew-105\"/>\n     <use x=\"556.005859\" xlink:href=\"#THSarabunNew-122\"/>\n     <use x=\"605.078125\" xlink:href=\"#THSarabunNew-101\"/>\n     <use x=\"662.255859\" xlink:href=\"#THSarabunNew-32\"/>\n     <use x=\"695.214844\" xlink:href=\"#THSarabunNew-115\"/>\n     <use x=\"738.28125\" xlink:href=\"#THSarabunNew-104\"/>\n     <use x=\"797.851562\" xlink:href=\"#THSarabunNew-111\"/>\n     <use x=\"858.642578\" xlink:href=\"#THSarabunNew-117\"/>\n     <use x=\"918.212891\" xlink:href=\"#THSarabunNew-108\"/>\n     <use x=\"948.779297\" xlink:href=\"#THSarabunNew-100\"/>\n     <use x=\"1010.058594\" xlink:href=\"#THSarabunNew-32\"/>\n     <use x=\"1043.017578\" xlink:href=\"#THSarabunNew-98\"/>\n     <use x=\"1104.296875\" xlink:href=\"#THSarabunNew-101\"/>\n     <use x=\"1161.474609\" xlink:href=\"#THSarabunNew-32\"/>\n     <use x=\"1194.433594\" xlink:href=\"#THSarabunNew-53\"/>\n    </g>\n   </g>\n  </g>\n </g>\n <defs>\n  <clipPath id=\"p8be34abcb5\">\n   <rect height=\"217.44\" width=\"334.8\" x=\"36.3125\" y=\"36.677625\"/>\n  </clipPath>\n </defs>\n</svg>\n",
      "image/png": "[encoded data removed]"
     },
     "metadata": {
      "needs_background": "light"
     }
    }
   ],
   "source": [
    "merged_df = (\n",
    "    interactions_df[[\"ITEM_ID\", \"USER_ID\"]]\n",
    "    .astype({\"ITEM_ID\": str})\n",
    "    .merge(items_df, left_on=\"ITEM_ID\", right_on=\"ITEM_ID\")\n",
    ")\n",
    "plot_df = merged_df.groupby([\"USER_ID\", \"CATEGORY\"]).apply(set)\n",
    "plot_df.apply(len).value_counts().sort_index().plot.bar()\n",
    "plt.xlabel(\"Number of different news examined by user.\")\n",
    "plt.title(\n",
    "    f\"We should have reduced users to a small number of news\\n\"\n",
    "    f\"maximum size should be {4+1}\"\n",
    ")\n",
    "# The peak at 1 is the male jewellery - there is only one product\n",
    "plt.show()"
   ]
  },
  {
   "cell_type": "code",
   "execution_count": 14,
   "metadata": {},
   "outputs": [
    {
     "output_type": "execute_result",
     "data": {
      "text/plain": [
       "<AxesSubplot:>"
      ]
     },
     "metadata": {},
     "execution_count": 14
    },
    {
     "output_type": "display_data",
     "data": {
      "text/plain": "<Figure size 432x288 with 1 Axes>",
      "image/svg+xml": "<?xml version=\"1.0\" encoding=\"utf-8\" standalone=\"no\"?>\n<!DOCTYPE svg PUBLIC \"-//W3C//DTD SVG 1.1//EN\"\n  \"http://www.w3.org/Graphics/SVG/1.1/DTD/svg11.dtd\">\n<!-- Created with matplotlib (https://matplotlib.org/) -->\n<svg height=\"255.424375pt\" version=\"1.1\" viewBox=\"0 0 370.836295 255.424375\" width=\"370.836295pt\" xmlns=\"http://www.w3.org/2000/svg\" xmlns:xlink=\"http://www.w3.org/1999/xlink\">\n <metadata>\n  <rdf:RDF xmlns:cc=\"http://creativecommons.org/ns#\" xmlns:dc=\"http://purl.org/dc/elements/1.1/\" xmlns:rdf=\"http://www.w3.org/1999/02/22-rdf-syntax-ns#\">\n   <cc:Work>\n    <dc:type rdf:resource=\"http://purl.org/dc/dcmitype/StillImage\"/>\n    <dc:date>2021-03-09T13:25:34.608870</dc:date>\n    <dc:format>image/svg+xml</dc:format>\n    <dc:creator>\n     <cc:Agent>\n      <dc:title>Matplotlib v3.3.2, https://matplotlib.org/</dc:title>\n     </cc:Agent>\n    </dc:creator>\n   </cc:Work>\n  </rdf:RDF>\n </metadata>\n <defs>\n  <style type=\"text/css\">*{stroke-linecap:butt;stroke-linejoin:round;}</style>\n </defs>\n <g id=\"figure_1\">\n  <g id=\"patch_1\">\n   <path d=\"M 0 255.424375 \nL 370.836295 255.424375 \nL 370.836295 0 \nL 0 0 \nz\n\" style=\"fill:none;\"/>\n  </g>\n  <g id=\"axes_1\">\n   <g id=\"patch_2\">\n    <path d=\"M 25.25625 224.64 \nL 360.05625 224.64 \nL 360.05625 7.2 \nL 25.25625 7.2 \nz\n\" style=\"fill:#ffffff;\"/>\n   </g>\n   <g id=\"patch_3\">\n    <path clip-path=\"url(#pd05980dfc4)\" d=\"M 26.038493 224.64 \nL 27.602979 224.64 \nL 27.602979 206.232381 \nL 26.038493 206.232381 \nz\n\" style=\"fill:#1f77b4;\"/>\n   </g>\n   <g id=\"patch_4\">\n    <path clip-path=\"url(#pd05980dfc4)\" d=\"M 29.167465 224.64 \nL 30.731951 224.64 \nL 30.731951 160.213333 \nL 29.167465 160.213333 \nz\n\" style=\"fill:#1f77b4;\"/>\n   </g>\n   <g id=\"patch_5\">\n    <path clip-path=\"url(#pd05980dfc4)\" d=\"M 32.296437 224.64 \nL 33.860923 224.64 \nL 33.860923 132.601905 \nL 32.296437 132.601905 \nz\n\" style=\"fill:#1f77b4;\"/>\n   </g>\n   <g id=\"patch_6\">\n    <path clip-path=\"url(#pd05980dfc4)\" d=\"M 35.425409 224.64 \nL 36.989895 224.64 \nL 36.989895 137.20381 \nL 35.425409 137.20381 \nz\n\" style=\"fill:#1f77b4;\"/>\n   </g>\n   <g id=\"patch_7\">\n    <path clip-path=\"url(#pd05980dfc4)\" d=\"M 38.554381 224.64 \nL 40.118867 224.64 \nL 40.118867 114.194286 \nL 38.554381 114.194286 \nz\n\" style=\"fill:#1f77b4;\"/>\n   </g>\n   <g id=\"patch_8\">\n    <path clip-path=\"url(#pd05980dfc4)\" d=\"M 41.683353 224.64 \nL 43.247839 224.64 \nL 43.247839 81.980952 \nL 41.683353 81.980952 \nz\n\" style=\"fill:#1f77b4;\"/>\n   </g>\n   <g id=\"patch_9\">\n    <path clip-path=\"url(#pd05980dfc4)\" d=\"M 44.812325 224.64 \nL 46.376811 224.64 \nL 46.376811 63.573333 \nL 44.812325 63.573333 \nz\n\" style=\"fill:#1f77b4;\"/>\n   </g>\n   <g id=\"patch_10\">\n    <path clip-path=\"url(#pd05980dfc4)\" d=\"M 47.941297 224.64 \nL 49.505783 224.64 \nL 49.505783 86.582857 \nL 47.941297 86.582857 \nz\n\" style=\"fill:#1f77b4;\"/>\n   </g>\n   <g id=\"patch_11\">\n    <path clip-path=\"url(#pd05980dfc4)\" d=\"M 51.070269 224.64 \nL 52.634755 224.64 \nL 52.634755 86.582857 \nL 51.070269 86.582857 \nz\n\" style=\"fill:#1f77b4;\"/>\n   </g>\n   <g id=\"patch_12\">\n    <path clip-path=\"url(#pd05980dfc4)\" d=\"M 54.199241 224.64 \nL 55.763727 224.64 \nL 55.763727 58.971429 \nL 54.199241 58.971429 \nz\n\" style=\"fill:#1f77b4;\"/>\n   </g>\n   <g id=\"patch_13\">\n    <path clip-path=\"url(#pd05980dfc4)\" d=\"M 57.328213 224.64 \nL 58.892699 224.64 \nL 58.892699 40.56381 \nL 57.328213 40.56381 \nz\n\" style=\"fill:#1f77b4;\"/>\n   </g>\n   <g id=\"patch_14\">\n    <path clip-path=\"url(#pd05980dfc4)\" d=\"M 60.457185 224.64 \nL 62.021671 224.64 \nL 62.021671 77.379048 \nL 60.457185 77.379048 \nz\n\" style=\"fill:#1f77b4;\"/>\n   </g>\n   <g id=\"patch_15\">\n    <path clip-path=\"url(#pd05980dfc4)\" d=\"M 63.586157 224.64 \nL 65.150643 224.64 \nL 65.150643 72.777143 \nL 63.586157 72.777143 \nz\n\" style=\"fill:#1f77b4;\"/>\n   </g>\n   <g id=\"patch_16\">\n    <path clip-path=\"url(#pd05980dfc4)\" d=\"M 66.715129 224.64 \nL 68.279614 224.64 \nL 68.279614 49.767619 \nL 66.715129 49.767619 \nz\n\" style=\"fill:#1f77b4;\"/>\n   </g>\n   <g id=\"patch_17\">\n    <path clip-path=\"url(#pd05980dfc4)\" d=\"M 69.8441 224.64 \nL 71.408586 224.64 \nL 71.408586 49.767619 \nL 69.8441 49.767619 \nz\n\" style=\"fill:#1f77b4;\"/>\n   </g>\n   <g id=\"patch_18\">\n    <path clip-path=\"url(#pd05980dfc4)\" d=\"M 72.973072 224.64 \nL 74.537558 224.64 \nL 74.537558 17.554286 \nL 72.973072 17.554286 \nz\n\" style=\"fill:#1f77b4;\"/>\n   </g>\n   <g id=\"patch_19\">\n    <path clip-path=\"url(#pd05980dfc4)\" d=\"M 76.102044 224.64 \nL 77.66653 224.64 \nL 77.66653 26.758095 \nL 76.102044 26.758095 \nz\n\" style=\"fill:#1f77b4;\"/>\n   </g>\n   <g id=\"patch_20\">\n    <path clip-path=\"url(#pd05980dfc4)\" d=\"M 79.231016 224.64 \nL 80.795502 224.64 \nL 80.795502 22.15619 \nL 79.231016 22.15619 \nz\n\" style=\"fill:#1f77b4;\"/>\n   </g>\n   <g id=\"patch_21\">\n    <path clip-path=\"url(#pd05980dfc4)\" d=\"M 82.359988 224.64 \nL 83.924474 224.64 \nL 83.924474 95.786667 \nL 82.359988 95.786667 \nz\n\" style=\"fill:#1f77b4;\"/>\n   </g>\n   <g id=\"patch_22\">\n    <path clip-path=\"url(#pd05980dfc4)\" d=\"M 85.48896 224.64 \nL 87.053446 224.64 \nL 87.053446 45.165714 \nL 85.48896 45.165714 \nz\n\" style=\"fill:#1f77b4;\"/>\n   </g>\n   <g id=\"patch_23\">\n    <path clip-path=\"url(#pd05980dfc4)\" d=\"M 88.617932 224.64 \nL 90.182418 224.64 \nL 90.182418 17.554286 \nL 88.617932 17.554286 \nz\n\" style=\"fill:#1f77b4;\"/>\n   </g>\n   <g id=\"patch_24\">\n    <path clip-path=\"url(#pd05980dfc4)\" d=\"M 91.746904 224.64 \nL 93.31139 224.64 \nL 93.31139 104.990476 \nL 91.746904 104.990476 \nz\n\" style=\"fill:#1f77b4;\"/>\n   </g>\n   <g id=\"patch_25\">\n    <path clip-path=\"url(#pd05980dfc4)\" d=\"M 94.875876 224.64 \nL 96.440362 224.64 \nL 96.440362 68.175238 \nL 94.875876 68.175238 \nz\n\" style=\"fill:#1f77b4;\"/>\n   </g>\n   <g id=\"patch_26\">\n    <path clip-path=\"url(#pd05980dfc4)\" d=\"M 98.004848 224.64 \nL 99.569334 224.64 \nL 99.569334 137.20381 \nL 98.004848 137.20381 \nz\n\" style=\"fill:#1f77b4;\"/>\n   </g>\n   <g id=\"patch_27\">\n    <path clip-path=\"url(#pd05980dfc4)\" d=\"M 101.13382 224.64 \nL 102.698306 224.64 \nL 102.698306 100.388571 \nL 101.13382 100.388571 \nz\n\" style=\"fill:#1f77b4;\"/>\n   </g>\n   <g id=\"patch_28\">\n    <path clip-path=\"url(#pd05980dfc4)\" d=\"M 104.262792 224.64 \nL 105.827278 224.64 \nL 105.827278 137.20381 \nL 104.262792 137.20381 \nz\n\" style=\"fill:#1f77b4;\"/>\n   </g>\n   <g id=\"patch_29\">\n    <path clip-path=\"url(#pd05980dfc4)\" d=\"M 107.391764 224.64 \nL 108.95625 224.64 \nL 108.95625 100.388571 \nL 107.391764 100.388571 \nz\n\" style=\"fill:#1f77b4;\"/>\n   </g>\n   <g id=\"patch_30\">\n    <path clip-path=\"url(#pd05980dfc4)\" d=\"M 110.520736 224.64 \nL 112.085222 224.64 \nL 112.085222 104.990476 \nL 110.520736 104.990476 \nz\n\" style=\"fill:#1f77b4;\"/>\n   </g>\n   <g id=\"patch_31\">\n    <path clip-path=\"url(#pd05980dfc4)\" d=\"M 113.649708 224.64 \nL 115.214194 224.64 \nL 115.214194 123.398095 \nL 113.649708 123.398095 \nz\n\" style=\"fill:#1f77b4;\"/>\n   </g>\n   <g id=\"patch_32\">\n    <path clip-path=\"url(#pd05980dfc4)\" d=\"M 116.77868 224.64 \nL 118.343166 224.64 \nL 118.343166 95.786667 \nL 116.77868 95.786667 \nz\n\" style=\"fill:#1f77b4;\"/>\n   </g>\n   <g id=\"patch_33\">\n    <path clip-path=\"url(#pd05980dfc4)\" d=\"M 119.907652 224.64 \nL 121.472138 224.64 \nL 121.472138 104.990476 \nL 119.907652 104.990476 \nz\n\" style=\"fill:#1f77b4;\"/>\n   </g>\n   <g id=\"patch_34\">\n    <path clip-path=\"url(#pd05980dfc4)\" d=\"M 123.036624 224.64 \nL 124.60111 224.64 \nL 124.60111 132.601905 \nL 123.036624 132.601905 \nz\n\" style=\"fill:#1f77b4;\"/>\n   </g>\n   <g id=\"patch_35\">\n    <path clip-path=\"url(#pd05980dfc4)\" d=\"M 126.165596 224.64 \nL 127.730082 224.64 \nL 127.730082 137.20381 \nL 126.165596 137.20381 \nz\n\" style=\"fill:#1f77b4;\"/>\n   </g>\n   <g id=\"patch_36\">\n    <path clip-path=\"url(#pd05980dfc4)\" d=\"M 129.294568 224.64 \nL 130.859054 224.64 \nL 130.859054 132.601905 \nL 129.294568 132.601905 \nz\n\" style=\"fill:#1f77b4;\"/>\n   </g>\n   <g id=\"patch_37\">\n    <path clip-path=\"url(#pd05980dfc4)\" d=\"M 132.42354 224.64 \nL 133.988026 224.64 \nL 133.988026 146.407619 \nL 132.42354 146.407619 \nz\n\" style=\"fill:#1f77b4;\"/>\n   </g>\n   <g id=\"patch_38\">\n    <path clip-path=\"url(#pd05980dfc4)\" d=\"M 135.552512 224.64 \nL 137.116998 224.64 \nL 137.116998 114.194286 \nL 135.552512 114.194286 \nz\n\" style=\"fill:#1f77b4;\"/>\n   </g>\n   <g id=\"patch_39\">\n    <path clip-path=\"url(#pd05980dfc4)\" d=\"M 138.681484 224.64 \nL 140.24597 224.64 \nL 140.24597 146.407619 \nL 138.681484 146.407619 \nz\n\" style=\"fill:#1f77b4;\"/>\n   </g>\n   <g id=\"patch_40\">\n    <path clip-path=\"url(#pd05980dfc4)\" d=\"M 141.810456 224.64 \nL 143.374942 224.64 \nL 143.374942 146.407619 \nL 141.810456 146.407619 \nz\n\" style=\"fill:#1f77b4;\"/>\n   </g>\n   <g id=\"patch_41\">\n    <path clip-path=\"url(#pd05980dfc4)\" d=\"M 144.939428 224.64 \nL 146.503914 224.64 \nL 146.503914 128 \nL 144.939428 128 \nz\n\" style=\"fill:#1f77b4;\"/>\n   </g>\n   <g id=\"patch_42\">\n    <path clip-path=\"url(#pd05980dfc4)\" d=\"M 148.0684 224.64 \nL 149.632886 224.64 \nL 149.632886 155.611429 \nL 148.0684 155.611429 \nz\n\" style=\"fill:#1f77b4;\"/>\n   </g>\n   <g id=\"patch_43\">\n    <path clip-path=\"url(#pd05980dfc4)\" d=\"M 151.197371 224.64 \nL 152.761857 224.64 \nL 152.761857 151.009524 \nL 151.197371 151.009524 \nz\n\" style=\"fill:#1f77b4;\"/>\n   </g>\n   <g id=\"patch_44\">\n    <path clip-path=\"url(#pd05980dfc4)\" d=\"M 154.326343 224.64 \nL 155.890829 224.64 \nL 155.890829 164.815238 \nL 154.326343 164.815238 \nz\n\" style=\"fill:#1f77b4;\"/>\n   </g>\n   <g id=\"patch_45\">\n    <path clip-path=\"url(#pd05980dfc4)\" d=\"M 157.455315 224.64 \nL 159.019801 224.64 \nL 159.019801 151.009524 \nL 157.455315 151.009524 \nz\n\" style=\"fill:#1f77b4;\"/>\n   </g>\n   <g id=\"patch_46\">\n    <path clip-path=\"url(#pd05980dfc4)\" d=\"M 160.584287 224.64 \nL 162.148773 224.64 \nL 162.148773 146.407619 \nL 160.584287 146.407619 \nz\n\" style=\"fill:#1f77b4;\"/>\n   </g>\n   <g id=\"patch_47\">\n    <path clip-path=\"url(#pd05980dfc4)\" d=\"M 163.713259 224.64 \nL 165.277745 224.64 \nL 165.277745 141.805714 \nL 163.713259 141.805714 \nz\n\" style=\"fill:#1f77b4;\"/>\n   </g>\n   <g id=\"patch_48\">\n    <path clip-path=\"url(#pd05980dfc4)\" d=\"M 166.842231 224.64 \nL 168.406717 224.64 \nL 168.406717 183.222857 \nL 166.842231 183.222857 \nz\n\" style=\"fill:#1f77b4;\"/>\n   </g>\n   <g id=\"patch_49\">\n    <path clip-path=\"url(#pd05980dfc4)\" d=\"M 169.971203 224.64 \nL 171.535689 224.64 \nL 171.535689 187.824762 \nL 169.971203 187.824762 \nz\n\" style=\"fill:#1f77b4;\"/>\n   </g>\n   <g id=\"patch_50\">\n    <path clip-path=\"url(#pd05980dfc4)\" d=\"M 173.100175 224.64 \nL 174.664661 224.64 \nL 174.664661 169.417143 \nL 173.100175 169.417143 \nz\n\" style=\"fill:#1f77b4;\"/>\n   </g>\n   <g id=\"patch_51\">\n    <path clip-path=\"url(#pd05980dfc4)\" d=\"M 176.229147 224.64 \nL 177.793633 224.64 \nL 177.793633 178.620952 \nL 176.229147 178.620952 \nz\n\" style=\"fill:#1f77b4;\"/>\n   </g>\n   <g id=\"patch_52\">\n    <path clip-path=\"url(#pd05980dfc4)\" d=\"M 179.358119 224.64 \nL 180.922605 224.64 \nL 180.922605 141.805714 \nL 179.358119 141.805714 \nz\n\" style=\"fill:#1f77b4;\"/>\n   </g>\n   <g id=\"patch_53\">\n    <path clip-path=\"url(#pd05980dfc4)\" d=\"M 182.487091 224.64 \nL 184.051577 224.64 \nL 184.051577 169.417143 \nL 182.487091 169.417143 \nz\n\" style=\"fill:#1f77b4;\"/>\n   </g>\n   <g id=\"patch_54\">\n    <path clip-path=\"url(#pd05980dfc4)\" d=\"M 185.616063 224.64 \nL 187.180549 224.64 \nL 187.180549 183.222857 \nL 185.616063 183.222857 \nz\n\" style=\"fill:#1f77b4;\"/>\n   </g>\n   <g id=\"patch_55\">\n    <path clip-path=\"url(#pd05980dfc4)\" d=\"M 188.745035 224.64 \nL 190.309521 224.64 \nL 190.309521 197.028571 \nL 188.745035 197.028571 \nz\n\" style=\"fill:#1f77b4;\"/>\n   </g>\n   <g id=\"patch_56\">\n    <path clip-path=\"url(#pd05980dfc4)\" d=\"M 191.874007 224.64 \nL 193.438493 224.64 \nL 193.438493 164.815238 \nL 191.874007 164.815238 \nz\n\" style=\"fill:#1f77b4;\"/>\n   </g>\n   <g id=\"patch_57\">\n    <path clip-path=\"url(#pd05980dfc4)\" d=\"M 195.002979 224.64 \nL 196.567465 224.64 \nL 196.567465 210.834286 \nL 195.002979 210.834286 \nz\n\" style=\"fill:#1f77b4;\"/>\n   </g>\n   <g id=\"patch_58\">\n    <path clip-path=\"url(#pd05980dfc4)\" d=\"M 198.131951 224.64 \nL 199.696437 224.64 \nL 199.696437 160.213333 \nL 198.131951 160.213333 \nz\n\" style=\"fill:#1f77b4;\"/>\n   </g>\n   <g id=\"patch_59\">\n    <path clip-path=\"url(#pd05980dfc4)\" d=\"M 201.260923 224.64 \nL 202.825409 224.64 \nL 202.825409 183.222857 \nL 201.260923 183.222857 \nz\n\" style=\"fill:#1f77b4;\"/>\n   </g>\n   <g id=\"patch_60\">\n    <path clip-path=\"url(#pd05980dfc4)\" d=\"M 204.389895 224.64 \nL 205.954381 224.64 \nL 205.954381 169.417143 \nL 204.389895 169.417143 \nz\n\" style=\"fill:#1f77b4;\"/>\n   </g>\n   <g id=\"patch_61\">\n    <path clip-path=\"url(#pd05980dfc4)\" d=\"M 207.518867 224.64 \nL 209.083353 224.64 \nL 209.083353 183.222857 \nL 207.518867 183.222857 \nz\n\" style=\"fill:#1f77b4;\"/>\n   </g>\n   <g id=\"patch_62\">\n    <path clip-path=\"url(#pd05980dfc4)\" d=\"M 210.647839 224.64 \nL 212.212325 224.64 \nL 212.212325 169.417143 \nL 210.647839 169.417143 \nz\n\" style=\"fill:#1f77b4;\"/>\n   </g>\n   <g id=\"patch_63\">\n    <path clip-path=\"url(#pd05980dfc4)\" d=\"M 213.776811 224.64 \nL 215.341297 224.64 \nL 215.341297 192.426667 \nL 213.776811 192.426667 \nz\n\" style=\"fill:#1f77b4;\"/>\n   </g>\n   <g id=\"patch_64\">\n    <path clip-path=\"url(#pd05980dfc4)\" d=\"M 216.905783 224.64 \nL 218.470269 224.64 \nL 218.470269 160.213333 \nL 216.905783 160.213333 \nz\n\" style=\"fill:#1f77b4;\"/>\n   </g>\n   <g id=\"patch_65\">\n    <path clip-path=\"url(#pd05980dfc4)\" d=\"M 220.034755 224.64 \nL 221.599241 224.64 \nL 221.599241 174.019048 \nL 220.034755 174.019048 \nz\n\" style=\"fill:#1f77b4;\"/>\n   </g>\n   <g id=\"patch_66\">\n    <path clip-path=\"url(#pd05980dfc4)\" d=\"M 223.163727 224.64 \nL 224.728213 224.64 \nL 224.728213 192.426667 \nL 223.163727 192.426667 \nz\n\" style=\"fill:#1f77b4;\"/>\n   </g>\n   <g id=\"patch_67\">\n    <path clip-path=\"url(#pd05980dfc4)\" d=\"M 226.292699 224.64 \nL 227.857185 224.64 \nL 227.857185 183.222857 \nL 226.292699 183.222857 \nz\n\" style=\"fill:#1f77b4;\"/>\n   </g>\n   <g id=\"patch_68\">\n    <path clip-path=\"url(#pd05980dfc4)\" d=\"M 229.421671 224.64 \nL 230.986157 224.64 \nL 230.986157 206.232381 \nL 229.421671 206.232381 \nz\n\" style=\"fill:#1f77b4;\"/>\n   </g>\n   <g id=\"patch_69\">\n    <path clip-path=\"url(#pd05980dfc4)\" d=\"M 232.550643 224.64 \nL 234.115129 224.64 \nL 234.115129 169.417143 \nL 232.550643 169.417143 \nz\n\" style=\"fill:#1f77b4;\"/>\n   </g>\n   <g id=\"patch_70\">\n    <path clip-path=\"url(#pd05980dfc4)\" d=\"M 235.679614 224.64 \nL 237.2441 224.64 \nL 237.2441 197.028571 \nL 235.679614 197.028571 \nz\n\" style=\"fill:#1f77b4;\"/>\n   </g>\n   <g id=\"patch_71\">\n    <path clip-path=\"url(#pd05980dfc4)\" d=\"M 238.808586 224.64 \nL 240.373072 224.64 \nL 240.373072 206.232381 \nL 238.808586 206.232381 \nz\n\" style=\"fill:#1f77b4;\"/>\n   </g>\n   <g id=\"patch_72\">\n    <path clip-path=\"url(#pd05980dfc4)\" d=\"M 241.937558 224.64 \nL 243.502044 224.64 \nL 243.502044 155.611429 \nL 241.937558 155.611429 \nz\n\" style=\"fill:#1f77b4;\"/>\n   </g>\n   <g id=\"patch_73\">\n    <path clip-path=\"url(#pd05980dfc4)\" d=\"M 245.06653 224.64 \nL 246.631016 224.64 \nL 246.631016 183.222857 \nL 245.06653 183.222857 \nz\n\" style=\"fill:#1f77b4;\"/>\n   </g>\n   <g id=\"patch_74\">\n    <path clip-path=\"url(#pd05980dfc4)\" d=\"M 248.195502 224.64 \nL 249.759988 224.64 \nL 249.759988 197.028571 \nL 248.195502 197.028571 \nz\n\" style=\"fill:#1f77b4;\"/>\n   </g>\n   <g id=\"patch_75\">\n    <path clip-path=\"url(#pd05980dfc4)\" d=\"M 251.324474 224.64 \nL 252.88896 224.64 \nL 252.88896 215.43619 \nL 251.324474 215.43619 \nz\n\" style=\"fill:#1f77b4;\"/>\n   </g>\n   <g id=\"patch_76\">\n    <path clip-path=\"url(#pd05980dfc4)\" d=\"M 254.453446 224.64 \nL 256.017932 224.64 \nL 256.017932 206.232381 \nL 254.453446 206.232381 \nz\n\" style=\"fill:#1f77b4;\"/>\n   </g>\n   <g id=\"patch_77\">\n    <path clip-path=\"url(#pd05980dfc4)\" d=\"M 257.582418 224.64 \nL 259.146904 224.64 \nL 259.146904 187.824762 \nL 257.582418 187.824762 \nz\n\" style=\"fill:#1f77b4;\"/>\n   </g>\n   <g id=\"patch_78\">\n    <path clip-path=\"url(#pd05980dfc4)\" d=\"M 260.71139 224.64 \nL 262.275876 224.64 \nL 262.275876 183.222857 \nL 260.71139 183.222857 \nz\n\" style=\"fill:#1f77b4;\"/>\n   </g>\n   <g id=\"patch_79\">\n    <path clip-path=\"url(#pd05980dfc4)\" d=\"M 263.840362 224.64 \nL 265.404848 224.64 \nL 265.404848 197.028571 \nL 263.840362 197.028571 \nz\n\" style=\"fill:#1f77b4;\"/>\n   </g>\n   <g id=\"patch_80\">\n    <path clip-path=\"url(#pd05980dfc4)\" d=\"M 266.969334 224.64 \nL 268.53382 224.64 \nL 268.53382 210.834286 \nL 266.969334 210.834286 \nz\n\" style=\"fill:#1f77b4;\"/>\n   </g>\n   <g id=\"patch_81\">\n    <path clip-path=\"url(#pd05980dfc4)\" d=\"M 270.098306 224.64 \nL 271.662792 224.64 \nL 271.662792 187.824762 \nL 270.098306 187.824762 \nz\n\" style=\"fill:#1f77b4;\"/>\n   </g>\n   <g id=\"patch_82\">\n    <path clip-path=\"url(#pd05980dfc4)\" d=\"M 273.227278 224.64 \nL 274.791764 224.64 \nL 274.791764 201.630476 \nL 273.227278 201.630476 \nz\n\" style=\"fill:#1f77b4;\"/>\n   </g>\n   <g id=\"patch_83\">\n    <path clip-path=\"url(#pd05980dfc4)\" d=\"M 276.35625 224.64 \nL 277.920736 224.64 \nL 277.920736 206.232381 \nL 276.35625 206.232381 \nz\n\" style=\"fill:#1f77b4;\"/>\n   </g>\n   <g id=\"patch_84\">\n    <path clip-path=\"url(#pd05980dfc4)\" d=\"M 279.485222 224.64 \nL 281.049708 224.64 \nL 281.049708 197.028571 \nL 279.485222 197.028571 \nz\n\" style=\"fill:#1f77b4;\"/>\n   </g>\n   <g id=\"patch_85\">\n    <path clip-path=\"url(#pd05980dfc4)\" d=\"M 282.614194 224.64 \nL 284.17868 224.64 \nL 284.17868 210.834286 \nL 282.614194 210.834286 \nz\n\" style=\"fill:#1f77b4;\"/>\n   </g>\n   <g id=\"patch_86\">\n    <path clip-path=\"url(#pd05980dfc4)\" d=\"M 285.743166 224.64 \nL 287.307652 224.64 \nL 287.307652 206.232381 \nL 285.743166 206.232381 \nz\n\" style=\"fill:#1f77b4;\"/>\n   </g>\n   <g id=\"patch_87\">\n    <path clip-path=\"url(#pd05980dfc4)\" d=\"M 288.872138 224.64 \nL 290.436624 224.64 \nL 290.436624 197.028571 \nL 288.872138 197.028571 \nz\n\" style=\"fill:#1f77b4;\"/>\n   </g>\n   <g id=\"patch_88\">\n    <path clip-path=\"url(#pd05980dfc4)\" d=\"M 292.00111 224.64 \nL 293.565596 224.64 \nL 293.565596 201.630476 \nL 292.00111 201.630476 \nz\n\" style=\"fill:#1f77b4;\"/>\n   </g>\n   <g id=\"patch_89\">\n    <path clip-path=\"url(#pd05980dfc4)\" d=\"M 295.130082 224.64 \nL 296.694568 224.64 \nL 296.694568 220.038095 \nL 295.130082 220.038095 \nz\n\" style=\"fill:#1f77b4;\"/>\n   </g>\n   <g id=\"patch_90\">\n    <path clip-path=\"url(#pd05980dfc4)\" d=\"M 298.259054 224.64 \nL 299.82354 224.64 \nL 299.82354 215.43619 \nL 298.259054 215.43619 \nz\n\" style=\"fill:#1f77b4;\"/>\n   </g>\n   <g id=\"patch_91\">\n    <path clip-path=\"url(#pd05980dfc4)\" d=\"M 301.388026 224.64 \nL 302.952512 224.64 \nL 302.952512 210.834286 \nL 301.388026 210.834286 \nz\n\" style=\"fill:#1f77b4;\"/>\n   </g>\n   <g id=\"patch_92\">\n    <path clip-path=\"url(#pd05980dfc4)\" d=\"M 304.516998 224.64 \nL 306.081484 224.64 \nL 306.081484 206.232381 \nL 304.516998 206.232381 \nz\n\" style=\"fill:#1f77b4;\"/>\n   </g>\n   <g id=\"patch_93\">\n    <path clip-path=\"url(#pd05980dfc4)\" d=\"M 307.64597 224.64 \nL 309.210456 224.64 \nL 309.210456 215.43619 \nL 307.64597 215.43619 \nz\n\" style=\"fill:#1f77b4;\"/>\n   </g>\n   <g id=\"patch_94\">\n    <path clip-path=\"url(#pd05980dfc4)\" d=\"M 310.774942 224.64 \nL 312.339428 224.64 \nL 312.339428 210.834286 \nL 310.774942 210.834286 \nz\n\" style=\"fill:#1f77b4;\"/>\n   </g>\n   <g id=\"patch_95\">\n    <path clip-path=\"url(#pd05980dfc4)\" d=\"M 313.903914 224.64 \nL 315.4684 224.64 \nL 315.4684 201.630476 \nL 313.903914 201.630476 \nz\n\" style=\"fill:#1f77b4;\"/>\n   </g>\n   <g id=\"patch_96\">\n    <path clip-path=\"url(#pd05980dfc4)\" d=\"M 317.032886 224.64 \nL 318.597371 224.64 \nL 318.597371 215.43619 \nL 317.032886 215.43619 \nz\n\" style=\"fill:#1f77b4;\"/>\n   </g>\n   <g id=\"patch_97\">\n    <path clip-path=\"url(#pd05980dfc4)\" d=\"M 320.161857 224.64 \nL 321.726343 224.64 \nL 321.726343 210.834286 \nL 320.161857 210.834286 \nz\n\" style=\"fill:#1f77b4;\"/>\n   </g>\n   <g id=\"patch_98\">\n    <path clip-path=\"url(#pd05980dfc4)\" d=\"M 323.290829 224.64 \nL 324.855315 224.64 \nL 324.855315 201.630476 \nL 323.290829 201.630476 \nz\n\" style=\"fill:#1f77b4;\"/>\n   </g>\n   <g id=\"patch_99\">\n    <path clip-path=\"url(#pd05980dfc4)\" d=\"M 326.419801 224.64 \nL 327.984287 224.64 \nL 327.984287 220.038095 \nL 326.419801 220.038095 \nz\n\" style=\"fill:#1f77b4;\"/>\n   </g>\n   <g id=\"patch_100\">\n    <path clip-path=\"url(#pd05980dfc4)\" d=\"M 329.548773 224.64 \nL 331.113259 224.64 \nL 331.113259 215.43619 \nL 329.548773 215.43619 \nz\n\" style=\"fill:#1f77b4;\"/>\n   </g>\n   <g id=\"patch_101\">\n    <path clip-path=\"url(#pd05980dfc4)\" d=\"M 332.677745 224.64 \nL 334.242231 224.64 \nL 334.242231 215.43619 \nL 332.677745 215.43619 \nz\n\" style=\"fill:#1f77b4;\"/>\n   </g>\n   <g id=\"patch_102\">\n    <path clip-path=\"url(#pd05980dfc4)\" d=\"M 335.806717 224.64 \nL 337.371203 224.64 \nL 337.371203 220.038095 \nL 335.806717 220.038095 \nz\n\" style=\"fill:#1f77b4;\"/>\n   </g>\n   <g id=\"patch_103\">\n    <path clip-path=\"url(#pd05980dfc4)\" d=\"M 338.935689 224.64 \nL 340.500175 224.64 \nL 340.500175 215.43619 \nL 338.935689 215.43619 \nz\n\" style=\"fill:#1f77b4;\"/>\n   </g>\n   <g id=\"patch_104\">\n    <path clip-path=\"url(#pd05980dfc4)\" d=\"M 342.064661 224.64 \nL 343.629147 224.64 \nL 343.629147 220.038095 \nL 342.064661 220.038095 \nz\n\" style=\"fill:#1f77b4;\"/>\n   </g>\n   <g id=\"patch_105\">\n    <path clip-path=\"url(#pd05980dfc4)\" d=\"M 345.193633 224.64 \nL 346.758119 224.64 \nL 346.758119 220.038095 \nL 345.193633 220.038095 \nz\n\" style=\"fill:#1f77b4;\"/>\n   </g>\n   <g id=\"patch_106\">\n    <path clip-path=\"url(#pd05980dfc4)\" d=\"M 348.322605 224.64 \nL 349.887091 224.64 \nL 349.887091 215.43619 \nL 348.322605 215.43619 \nz\n\" style=\"fill:#1f77b4;\"/>\n   </g>\n   <g id=\"patch_107\">\n    <path clip-path=\"url(#pd05980dfc4)\" d=\"M 351.451577 224.64 \nL 353.016063 224.64 \nL 353.016063 220.038095 \nL 351.451577 220.038095 \nz\n\" style=\"fill:#1f77b4;\"/>\n   </g>\n   <g id=\"patch_108\">\n    <path clip-path=\"url(#pd05980dfc4)\" d=\"M 354.580549 224.64 \nL 356.145035 224.64 \nL 356.145035 220.038095 \nL 354.580549 220.038095 \nz\n\" style=\"fill:#1f77b4;\"/>\n   </g>\n   <g id=\"patch_109\">\n    <path clip-path=\"url(#pd05980dfc4)\" d=\"M 357.709521 224.64 \nL 359.274007 224.64 \nL 359.274007 220.038095 \nL 357.709521 220.038095 \nz\n\" style=\"fill:#1f77b4;\"/>\n   </g>\n   <g id=\"matplotlib.axis_1\">\n    <g id=\"xtick_1\">\n     <g id=\"line2d_1\">\n      <defs>\n       <path d=\"M 0 0 \nL 0 3.5 \n\" id=\"m19d2ba5c1f\" style=\"stroke:#000000;stroke-width:0.8;\"/>\n      </defs>\n      <g>\n       <use style=\"stroke:#000000;stroke-width:0.8;\" x=\"26.820736\" xlink:href=\"#m19d2ba5c1f\" y=\"224.64\"/>\n      </g>\n     </g>\n     <g id=\"text_1\">\n      <!-- 1 -->\n      <g transform=\"translate(29.405892 237.168125)rotate(-90)scale(0.1 -0.1)\">\n       <defs>\n        <path d=\"M 11.53125 57.71875 \nL 29.109375 73.09375 \nQ 32.421875 73.09375 32.421875 67.28125 \nL 32.421875 5.515625 \nL 43.890625 5.515625 \nL 43.890625 0 \nL 14.796875 0 \nL 14.796875 5.515625 \nL 26.3125 5.515625 \nL 26.3125 63.8125 \nL 14.796875 53.90625 \nz\n\" id=\"THSarabunNew-49\"/>\n       </defs>\n       <use xlink:href=\"#THSarabunNew-49\"/>\n      </g>\n     </g>\n    </g>\n    <g id=\"xtick_2\">\n     <g id=\"line2d_2\">\n      <g>\n       <use style=\"stroke:#000000;stroke-width:0.8;\" x=\"29.949708\" xlink:href=\"#m19d2ba5c1f\" y=\"224.64\"/>\n      </g>\n     </g>\n     <g id=\"text_2\">\n      <!-- 2 -->\n      <g transform=\"translate(32.534864 237.168125)rotate(-90)scale(0.1 -0.1)\">\n       <defs>\n        <path d=\"M 4 0 \nQ 4.59375 3.8125 6.109375 8.6875 \nQ 12.703125 15.484375 20.65625 23.140625 \nQ 28.609375 30.8125 38.375 42.484375 \nQ 43.265625 49.078125 43.3125 55.078125 \nQ 43.3125 60.984375 39.453125 64.234375 \nQ 35.59375 67.484375 29.5 67.484375 \nQ 15.765625 67.484375 13.921875 53.71875 \nL 8.40625 55.171875 \nQ 9.28125 64.0625 15.484375 68.796875 \nQ 21 73.09375 29.6875 73.09375 \nQ 38.1875 73.09375 43.796875 67.84375 \nQ 49.421875 62.59375 49.421875 54.59375 \nQ 49.421875 42.96875 31.109375 25.390625 \nQ 17.71875 12.203125 12.203125 6 \nL 51.3125 6 \nL 50 0 \nz\n\" id=\"THSarabunNew-50\"/>\n       </defs>\n       <use xlink:href=\"#THSarabunNew-50\"/>\n      </g>\n     </g>\n    </g>\n    <g id=\"xtick_3\">\n     <g id=\"line2d_3\">\n      <g>\n       <use style=\"stroke:#000000;stroke-width:0.8;\" x=\"33.07868\" xlink:href=\"#m19d2ba5c1f\" y=\"224.64\"/>\n      </g>\n     </g>\n     <g id=\"text_3\">\n      <!-- 3 -->\n      <g transform=\"translate(35.663836 237.168125)rotate(-90)scale(0.1 -0.1)\">\n       <defs>\n        <path d=\"M 5.171875 4 \nL 7.8125 8.6875 \nQ 13.53125 4.390625 22.609375 4.390625 \nQ 31.5 4.390625 37.796875 10.390625 \nQ 44.09375 16.40625 44.09375 24.3125 \nQ 44.09375 30.328125 40.40625 34.25 \nQ 36.71875 38.1875 31.109375 38.1875 \nQ 24.515625 38.1875 20.796875 34.71875 \nL 17.921875 39.59375 \nQ 23.734375 44.09375 29.5 48.6875 \nQ 38.1875 56 38.1875 60.109375 \nQ 38.1875 67.625 27.78125 67.578125 \nQ 16.40625 67.578125 10.6875 56.203125 \nL 6.390625 58.40625 \nQ 8.890625 65.1875 14.84375 69.140625 \nQ 20.796875 73.09375 28.328125 73.09375 \nQ 34.71875 73.09375 39.296875 69.65625 \nQ 43.890625 66.21875 43.890625 60.296875 \nQ 43.890625 53.21875 31.390625 43.796875 \nL 32.328125 43.796875 \nQ 40.4375 43.796875 45.3125 38.34375 \nQ 50.203125 32.90625 50.203125 24.609375 \nQ 50.203125 12.984375 42.234375 5.78125 \nQ 34.28125 -1.421875 21.6875 -1.703125 \nQ 11.578125 -2 5.171875 4 \nz\n\" id=\"THSarabunNew-51\"/>\n       </defs>\n       <use xlink:href=\"#THSarabunNew-51\"/>\n      </g>\n     </g>\n    </g>\n    <g id=\"xtick_4\">\n     <g id=\"line2d_4\">\n      <g>\n       <use style=\"stroke:#000000;stroke-width:0.8;\" x=\"36.207652\" xlink:href=\"#m19d2ba5c1f\" y=\"224.64\"/>\n      </g>\n     </g>\n     <g id=\"text_4\">\n      <!-- 4 -->\n      <g transform=\"translate(38.792808 237.168125)rotate(-90)scale(0.1 -0.1)\">\n       <defs>\n        <path d=\"M 4.890625 17 \nQ 5.171875 39.796875 15.1875 55.546875 \nQ 25.203125 71.296875 41.890625 74.703125 \nL 41.890625 22.609375 \nL 52.78125 22.609375 \nL 52 17 \nL 41.890625 17 \nL 41.890625 0 \nL 35.796875 0 \nL 35.796875 17 \nz\nM 11.53125 22.609375 \nL 35.796875 22.609375 \nL 35.796875 66.890625 \nQ 25.203125 61.71875 18.40625 48.6875 \nQ 11.8125 36.328125 11.53125 22.609375 \nz\n\" id=\"THSarabunNew-52\"/>\n       </defs>\n       <use xlink:href=\"#THSarabunNew-52\"/>\n      </g>\n     </g>\n    </g>\n    <g id=\"xtick_5\">\n     <g id=\"line2d_5\">\n      <g>\n       <use style=\"stroke:#000000;stroke-width:0.8;\" x=\"39.336624\" xlink:href=\"#m19d2ba5c1f\" y=\"224.64\"/>\n      </g>\n     </g>\n     <g id=\"text_5\">\n      <!-- 5 -->\n      <g transform=\"translate(41.92178 237.168125)rotate(-90)scale(0.1 -0.1)\">\n       <defs>\n        <path d=\"M 3.71875 4.390625 \nL 6.296875 9.1875 \nQ 8.40625 7.765625 10.890625 6.59375 \nQ 15.09375 4.59375 21.390625 4.59375 \nQ 29.6875 4.59375 36.03125 9.9375 \nQ 42.390625 15.28125 42.390625 24.90625 \nQ 42.390625 33.203125 36.921875 37.3125 \nQ 32.328125 41.015625 24.90625 41.015625 \nQ 18.5 41.015625 14.703125 35.984375 \nL 11.53125 35.59375 \nL 13.8125 72.703125 \nL 46.390625 72.703125 \nL 45.3125 66.890625 \nL 19.578125 66.890625 \nL 18.21875 45.3125 \nQ 22.21875 46.828125 26.8125 46.78125 \nQ 35.59375 46.78125 41.890625 41.3125 \nQ 48.6875 35.203125 48.6875 25.09375 \nQ 48.6875 13.28125 40.703125 6.03125 \nQ 32.71875 -1.21875 20.21875 -1.21875 \nQ 9.625 -1.21875 3.71875 4.390625 \nz\n\" id=\"THSarabunNew-53\"/>\n       </defs>\n       <use xlink:href=\"#THSarabunNew-53\"/>\n      </g>\n     </g>\n    </g>\n    <g id=\"xtick_6\">\n     <g id=\"line2d_6\">\n      <g>\n       <use style=\"stroke:#000000;stroke-width:0.8;\" x=\"42.465596\" xlink:href=\"#m19d2ba5c1f\" y=\"224.64\"/>\n      </g>\n     </g>\n     <g id=\"text_6\">\n      <!-- 6 -->\n      <g transform=\"translate(45.050752 237.168125)rotate(-90)scale(0.1 -0.1)\">\n       <defs>\n        <path d=\"M 5.8125 25.59375 \nQ 5.8125 43.0625 16.640625 56.921875 \nQ 27.484375 70.796875 44.390625 74.125 \nL 44.828125 69.578125 \nQ 34.625 66.703125 26.21875 58.796875 \nQ 16.703125 49.90625 13.1875 37.59375 \nQ 13.765625 39.890625 17.578125 42.484375 \nQ 22.46875 45.5625 28.90625 45.609375 \nQ 37.890625 45.609375 43.59375 38.6875 \nQ 49.3125 31.78125 49.3125 22.21875 \nQ 49.3125 12.203125 43.703125 5.484375 \nQ 38.09375 -1.21875 28.515625 -1.21875 \nQ 17.625 -1.21875 11.28125 6.984375 \nQ 5.8125 14.40625 5.8125 25.59375 \nz\nM 11.921875 22.21875 \nQ 11.921875 14.703125 16.5 9.34375 \nQ 21.09375 4 27.6875 4 \nQ 35.015625 4 39.0625 9.34375 \nQ 43.109375 14.703125 43.109375 22.21875 \nQ 43.109375 29.828125 39 35.15625 \nQ 34.90625 40.484375 27.6875 40.484375 \nQ 21.09375 40.484375 16.5 35.15625 \nQ 11.921875 29.828125 11.921875 22.21875 \nz\n\" id=\"THSarabunNew-54\"/>\n       </defs>\n       <use xlink:href=\"#THSarabunNew-54\"/>\n      </g>\n     </g>\n    </g>\n    <g id=\"xtick_7\">\n     <g id=\"line2d_7\">\n      <g>\n       <use style=\"stroke:#000000;stroke-width:0.8;\" x=\"45.594568\" xlink:href=\"#m19d2ba5c1f\" y=\"224.64\"/>\n      </g>\n     </g>\n     <g id=\"text_7\">\n      <!-- 7 -->\n      <g transform=\"translate(48.179724 237.168125)rotate(-90)scale(0.1 -0.1)\">\n       <defs>\n        <path d=\"M 4.984375 66.890625 \nL 7.328125 72.703125 \nL 50.296875 72.703125 \nL 49.125 66.609375 \nQ 38.921875 53.125 32.71875 37.40625 \nQ 26.515625 21.6875 26.515625 0 \nL 20.015625 0 \nQ 20.015625 23.09375 29.203125 44.1875 \nQ 31.390625 49.078125 36.59375 57.890625 \nQ 41.796875 66.703125 41.890625 66.890625 \nz\n\" id=\"THSarabunNew-55\"/>\n       </defs>\n       <use xlink:href=\"#THSarabunNew-55\"/>\n      </g>\n     </g>\n    </g>\n    <g id=\"xtick_8\">\n     <g id=\"line2d_8\">\n      <g>\n       <use style=\"stroke:#000000;stroke-width:0.8;\" x=\"48.72354\" xlink:href=\"#m19d2ba5c1f\" y=\"224.64\"/>\n      </g>\n     </g>\n     <g id=\"text_8\">\n      <!-- 8 -->\n      <g transform=\"translate(51.308696 237.168125)rotate(-90)scale(0.1 -0.1)\">\n       <defs>\n        <path d=\"M 4.984375 19.578125 \nQ 4.984375 27.09375 9.390625 32.484375 \nQ 13.8125 37.890625 20.515625 39.3125 \nQ 14.796875 41.015625 11.0625 45.359375 \nQ 7.328125 49.703125 7.328125 54.78125 \nQ 7.328125 62.890625 13.015625 68.09375 \nQ 18.703125 73.296875 27.6875 73.296875 \nQ 36.578125 73.296875 42.234375 68.09375 \nQ 47.90625 62.890625 47.90625 54.78125 \nQ 47.90625 49.703125 44.140625 45.359375 \nQ 40.375 41.015625 34.71875 39.3125 \nQ 41.5 37.890625 45.84375 32.484375 \nQ 50.203125 27.09375 50.203125 19.578125 \nQ 50.203125 9.765625 44.046875 4.265625 \nQ 37.890625 -1.21875 27.484375 -1.21875 \nQ 17.28125 -1.21875 11.125 4.265625 \nQ 4.984375 9.765625 4.984375 19.578125 \nz\nM 11.1875 19.09375 \nQ 11.1875 12.203125 15.84375 8.15625 \nQ 20.515625 4.109375 27.6875 4.109375 \nQ 34.671875 4.109375 39.375 8.15625 \nQ 44.09375 12.203125 44.09375 19.09375 \nQ 44.09375 25.09375 39.9375 30.53125 \nQ 35.796875 35.984375 27.484375 36.375 \nQ 19.390625 35.984375 15.28125 30.53125 \nQ 11.1875 25.09375 11.1875 19.09375 \nz\nM 13.484375 55.171875 \nQ 13.484375 45.65625 27.484375 42.1875 \nQ 41.796875 45.703125 41.796875 55.171875 \nQ 41.796875 60.59375 37.9375 64.078125 \nQ 34.078125 67.578125 27.6875 67.578125 \nQ 21.09375 67.578125 17.28125 64.078125 \nQ 13.484375 60.59375 13.484375 55.171875 \nz\n\" id=\"THSarabunNew-56\"/>\n       </defs>\n       <use xlink:href=\"#THSarabunNew-56\"/>\n      </g>\n     </g>\n    </g>\n    <g id=\"xtick_9\">\n     <g id=\"line2d_9\">\n      <g>\n       <use style=\"stroke:#000000;stroke-width:0.8;\" x=\"51.852512\" xlink:href=\"#m19d2ba5c1f\" y=\"224.64\"/>\n      </g>\n     </g>\n     <g id=\"text_9\">\n      <!-- 9 -->\n      <g transform=\"translate(54.437668 237.168125)rotate(-90)scale(0.1 -0.1)\">\n       <defs>\n        <path d=\"M 5.8125 50 \nQ 5.8125 60.015625 11.40625 66.703125 \nQ 17 73.390625 26.609375 73.390625 \nQ 37.5 73.390625 43.796875 65.1875 \nQ 49.3125 57.765625 49.3125 46.6875 \nQ 49.3125 29.109375 38.390625 15.265625 \nQ 27.484375 1.421875 10.6875 -1.8125 \nL 10.296875 2.59375 \nQ 20.515625 5.46875 28.90625 13.484375 \nQ 38.421875 22.265625 41.890625 34.625 \nQ 41.3125 32.328125 37.5 29.6875 \nQ 32.625 26.609375 26.21875 26.609375 \nQ 17.140625 26.609375 11.46875 33.484375 \nQ 5.8125 40.375 5.8125 50 \nz\nM 11.921875 50 \nQ 11.921875 42.390625 16.0625 37.03125 \nQ 20.21875 31.6875 27.390625 31.6875 \nQ 33.984375 31.6875 38.546875 37.03125 \nQ 43.109375 42.390625 43.109375 50 \nQ 43.109375 57.515625 38.546875 62.859375 \nQ 33.984375 68.21875 27.390625 68.21875 \nQ 19.96875 68.21875 15.9375 62.859375 \nQ 11.921875 57.515625 11.921875 50 \nz\n\" id=\"THSarabunNew-57\"/>\n       </defs>\n       <use xlink:href=\"#THSarabunNew-57\"/>\n      </g>\n     </g>\n    </g>\n    <g id=\"xtick_10\">\n     <g id=\"line2d_10\">\n      <g>\n       <use style=\"stroke:#000000;stroke-width:0.8;\" x=\"54.981484\" xlink:href=\"#m19d2ba5c1f\" y=\"224.64\"/>\n      </g>\n     </g>\n     <g id=\"text_10\">\n      <!-- 10 -->\n      <g transform=\"translate(57.56664 242.69625)rotate(-90)scale(0.1 -0.1)\">\n       <defs>\n        <path d=\"M 4.6875 34.71875 \nQ 4.6875 50.203125 10.109375 60.890625 \nQ 16.40625 73.296875 27.6875 73.296875 \nQ 38.96875 73.296875 45.3125 60.890625 \nQ 50.484375 50.203125 50.484375 34.71875 \nQ 50.484375 22.015625 45.609375 11.625 \nQ 39.3125 -1.65625 27.6875 -1.703125 \nQ 15.875 -1.703125 9.625 11.625 \nQ 4.6875 21.921875 4.6875 34.71875 \nz\nM 10.890625 34.90625 \nQ 10.890625 23.921875 14.5 14.984375 \nQ 19.09375 3.46875 27.6875 3.515625 \nQ 36.078125 3.515625 40.71875 14.984375 \nQ 44.4375 23.875 44.390625 34.90625 \nQ 44.390625 48.1875 40.484375 57.421875 \nQ 35.984375 68.109375 27.6875 68.109375 \nQ 19.28125 68.109375 14.703125 57.421875 \nQ 10.890625 48.296875 10.890625 34.90625 \nz\n\" id=\"THSarabunNew-48\"/>\n       </defs>\n       <use xlink:href=\"#THSarabunNew-49\"/>\n       <use x=\"55.273438\" xlink:href=\"#THSarabunNew-48\"/>\n      </g>\n     </g>\n    </g>\n    <g id=\"xtick_11\">\n     <g id=\"line2d_11\">\n      <g>\n       <use style=\"stroke:#000000;stroke-width:0.8;\" x=\"58.110456\" xlink:href=\"#m19d2ba5c1f\" y=\"224.64\"/>\n      </g>\n     </g>\n     <g id=\"text_11\">\n      <!-- 11 -->\n      <g transform=\"translate(60.695612 242.69625)rotate(-90)scale(0.1 -0.1)\">\n       <use xlink:href=\"#THSarabunNew-49\"/>\n       <use x=\"55.273438\" xlink:href=\"#THSarabunNew-49\"/>\n      </g>\n     </g>\n    </g>\n    <g id=\"xtick_12\">\n     <g id=\"line2d_12\">\n      <g>\n       <use style=\"stroke:#000000;stroke-width:0.8;\" x=\"61.239428\" xlink:href=\"#m19d2ba5c1f\" y=\"224.64\"/>\n      </g>\n     </g>\n     <g id=\"text_12\">\n      <!-- 12 -->\n      <g transform=\"translate(63.824584 242.69625)rotate(-90)scale(0.1 -0.1)\">\n       <use xlink:href=\"#THSarabunNew-49\"/>\n       <use x=\"55.273438\" xlink:href=\"#THSarabunNew-50\"/>\n      </g>\n     </g>\n    </g>\n    <g id=\"xtick_13\">\n     <g id=\"line2d_13\">\n      <g>\n       <use style=\"stroke:#000000;stroke-width:0.8;\" x=\"64.3684\" xlink:href=\"#m19d2ba5c1f\" y=\"224.64\"/>\n      </g>\n     </g>\n     <g id=\"text_13\">\n      <!-- 13 -->\n      <g transform=\"translate(66.953556 242.69625)rotate(-90)scale(0.1 -0.1)\">\n       <use xlink:href=\"#THSarabunNew-49\"/>\n       <use x=\"55.273438\" xlink:href=\"#THSarabunNew-51\"/>\n      </g>\n     </g>\n    </g>\n    <g id=\"xtick_14\">\n     <g id=\"line2d_14\">\n      <g>\n       <use style=\"stroke:#000000;stroke-width:0.8;\" x=\"67.497371\" xlink:href=\"#m19d2ba5c1f\" y=\"224.64\"/>\n      </g>\n     </g>\n     <g id=\"text_14\">\n      <!-- 14 -->\n      <g transform=\"translate(70.082528 242.69625)rotate(-90)scale(0.1 -0.1)\">\n       <use xlink:href=\"#THSarabunNew-49\"/>\n       <use x=\"55.273438\" xlink:href=\"#THSarabunNew-52\"/>\n      </g>\n     </g>\n    </g>\n    <g id=\"xtick_15\">\n     <g id=\"line2d_15\">\n      <g>\n       <use style=\"stroke:#000000;stroke-width:0.8;\" x=\"70.626343\" xlink:href=\"#m19d2ba5c1f\" y=\"224.64\"/>\n      </g>\n     </g>\n     <g id=\"text_15\">\n      <!-- 15 -->\n      <g transform=\"translate(73.2115 242.69625)rotate(-90)scale(0.1 -0.1)\">\n       <use xlink:href=\"#THSarabunNew-49\"/>\n       <use x=\"55.273438\" xlink:href=\"#THSarabunNew-53\"/>\n      </g>\n     </g>\n    </g>\n    <g id=\"xtick_16\">\n     <g id=\"line2d_16\">\n      <g>\n       <use style=\"stroke:#000000;stroke-width:0.8;\" x=\"73.755315\" xlink:href=\"#m19d2ba5c1f\" y=\"224.64\"/>\n      </g>\n     </g>\n     <g id=\"text_16\">\n      <!-- 16 -->\n      <g transform=\"translate(76.340472 242.69625)rotate(-90)scale(0.1 -0.1)\">\n       <use xlink:href=\"#THSarabunNew-49\"/>\n       <use x=\"55.273438\" xlink:href=\"#THSarabunNew-54\"/>\n      </g>\n     </g>\n    </g>\n    <g id=\"xtick_17\">\n     <g id=\"line2d_17\">\n      <g>\n       <use style=\"stroke:#000000;stroke-width:0.8;\" x=\"76.884287\" xlink:href=\"#m19d2ba5c1f\" y=\"224.64\"/>\n      </g>\n     </g>\n     <g id=\"text_17\">\n      <!-- 17 -->\n      <g transform=\"translate(79.469444 242.69625)rotate(-90)scale(0.1 -0.1)\">\n       <use xlink:href=\"#THSarabunNew-49\"/>\n       <use x=\"55.273438\" xlink:href=\"#THSarabunNew-55\"/>\n      </g>\n     </g>\n    </g>\n    <g id=\"xtick_18\">\n     <g id=\"line2d_18\">\n      <g>\n       <use style=\"stroke:#000000;stroke-width:0.8;\" x=\"80.013259\" xlink:href=\"#m19d2ba5c1f\" y=\"224.64\"/>\n      </g>\n     </g>\n     <g id=\"text_18\">\n      <!-- 18 -->\n      <g transform=\"translate(82.598416 242.69625)rotate(-90)scale(0.1 -0.1)\">\n       <use xlink:href=\"#THSarabunNew-49\"/>\n       <use x=\"55.273438\" xlink:href=\"#THSarabunNew-56\"/>\n      </g>\n     </g>\n    </g>\n    <g id=\"xtick_19\">\n     <g id=\"line2d_19\">\n      <g>\n       <use style=\"stroke:#000000;stroke-width:0.8;\" x=\"83.142231\" xlink:href=\"#m19d2ba5c1f\" y=\"224.64\"/>\n      </g>\n     </g>\n     <g id=\"text_19\">\n      <!-- 19 -->\n      <g transform=\"translate(85.727388 242.69625)rotate(-90)scale(0.1 -0.1)\">\n       <use xlink:href=\"#THSarabunNew-49\"/>\n       <use x=\"55.273438\" xlink:href=\"#THSarabunNew-57\"/>\n      </g>\n     </g>\n    </g>\n    <g id=\"xtick_20\">\n     <g id=\"line2d_20\">\n      <g>\n       <use style=\"stroke:#000000;stroke-width:0.8;\" x=\"86.271203\" xlink:href=\"#m19d2ba5c1f\" y=\"224.64\"/>\n      </g>\n     </g>\n     <g id=\"text_20\">\n      <!-- 20 -->\n      <g transform=\"translate(88.85636 242.69625)rotate(-90)scale(0.1 -0.1)\">\n       <use xlink:href=\"#THSarabunNew-50\"/>\n       <use x=\"55.273438\" xlink:href=\"#THSarabunNew-48\"/>\n      </g>\n     </g>\n    </g>\n    <g id=\"xtick_21\">\n     <g id=\"line2d_21\">\n      <g>\n       <use style=\"stroke:#000000;stroke-width:0.8;\" x=\"89.400175\" xlink:href=\"#m19d2ba5c1f\" y=\"224.64\"/>\n      </g>\n     </g>\n     <g id=\"text_21\">\n      <!-- 21 -->\n      <g transform=\"translate(91.985331 242.69625)rotate(-90)scale(0.1 -0.1)\">\n       <use xlink:href=\"#THSarabunNew-50\"/>\n       <use x=\"55.273438\" xlink:href=\"#THSarabunNew-49\"/>\n      </g>\n     </g>\n    </g>\n    <g id=\"xtick_22\">\n     <g id=\"line2d_22\">\n      <g>\n       <use style=\"stroke:#000000;stroke-width:0.8;\" x=\"92.529147\" xlink:href=\"#m19d2ba5c1f\" y=\"224.64\"/>\n      </g>\n     </g>\n     <g id=\"text_22\">\n      <!-- 22 -->\n      <g transform=\"translate(95.114303 242.69625)rotate(-90)scale(0.1 -0.1)\">\n       <use xlink:href=\"#THSarabunNew-50\"/>\n       <use x=\"55.273438\" xlink:href=\"#THSarabunNew-50\"/>\n      </g>\n     </g>\n    </g>\n    <g id=\"xtick_23\">\n     <g id=\"line2d_23\">\n      <g>\n       <use style=\"stroke:#000000;stroke-width:0.8;\" x=\"95.658119\" xlink:href=\"#m19d2ba5c1f\" y=\"224.64\"/>\n      </g>\n     </g>\n     <g id=\"text_23\">\n      <!-- 23 -->\n      <g transform=\"translate(98.243275 242.69625)rotate(-90)scale(0.1 -0.1)\">\n       <use xlink:href=\"#THSarabunNew-50\"/>\n       <use x=\"55.273438\" xlink:href=\"#THSarabunNew-51\"/>\n      </g>\n     </g>\n    </g>\n    <g id=\"xtick_24\">\n     <g id=\"line2d_24\">\n      <g>\n       <use style=\"stroke:#000000;stroke-width:0.8;\" x=\"98.787091\" xlink:href=\"#m19d2ba5c1f\" y=\"224.64\"/>\n      </g>\n     </g>\n     <g id=\"text_24\">\n      <!-- 24 -->\n      <g transform=\"translate(101.372247 242.69625)rotate(-90)scale(0.1 -0.1)\">\n       <use xlink:href=\"#THSarabunNew-50\"/>\n       <use x=\"55.273438\" xlink:href=\"#THSarabunNew-52\"/>\n      </g>\n     </g>\n    </g>\n    <g id=\"xtick_25\">\n     <g id=\"line2d_25\">\n      <g>\n       <use style=\"stroke:#000000;stroke-width:0.8;\" x=\"101.916063\" xlink:href=\"#m19d2ba5c1f\" y=\"224.64\"/>\n      </g>\n     </g>\n     <g id=\"text_25\">\n      <!-- 25 -->\n      <g transform=\"translate(104.501219 242.69625)rotate(-90)scale(0.1 -0.1)\">\n       <use xlink:href=\"#THSarabunNew-50\"/>\n       <use x=\"55.273438\" xlink:href=\"#THSarabunNew-53\"/>\n      </g>\n     </g>\n    </g>\n    <g id=\"xtick_26\">\n     <g id=\"line2d_26\">\n      <g>\n       <use style=\"stroke:#000000;stroke-width:0.8;\" x=\"105.045035\" xlink:href=\"#m19d2ba5c1f\" y=\"224.64\"/>\n      </g>\n     </g>\n     <g id=\"text_26\">\n      <!-- 26 -->\n      <g transform=\"translate(107.630191 242.69625)rotate(-90)scale(0.1 -0.1)\">\n       <use xlink:href=\"#THSarabunNew-50\"/>\n       <use x=\"55.273438\" xlink:href=\"#THSarabunNew-54\"/>\n      </g>\n     </g>\n    </g>\n    <g id=\"xtick_27\">\n     <g id=\"line2d_27\">\n      <g>\n       <use style=\"stroke:#000000;stroke-width:0.8;\" x=\"108.174007\" xlink:href=\"#m19d2ba5c1f\" y=\"224.64\"/>\n      </g>\n     </g>\n     <g id=\"text_27\">\n      <!-- 27 -->\n      <g transform=\"translate(110.759163 242.69625)rotate(-90)scale(0.1 -0.1)\">\n       <use xlink:href=\"#THSarabunNew-50\"/>\n       <use x=\"55.273438\" xlink:href=\"#THSarabunNew-55\"/>\n      </g>\n     </g>\n    </g>\n    <g id=\"xtick_28\">\n     <g id=\"line2d_28\">\n      <g>\n       <use style=\"stroke:#000000;stroke-width:0.8;\" x=\"111.302979\" xlink:href=\"#m19d2ba5c1f\" y=\"224.64\"/>\n      </g>\n     </g>\n     <g id=\"text_28\">\n      <!-- 28 -->\n      <g transform=\"translate(113.888135 242.69625)rotate(-90)scale(0.1 -0.1)\">\n       <use xlink:href=\"#THSarabunNew-50\"/>\n       <use x=\"55.273438\" xlink:href=\"#THSarabunNew-56\"/>\n      </g>\n     </g>\n    </g>\n    <g id=\"xtick_29\">\n     <g id=\"line2d_29\">\n      <g>\n       <use style=\"stroke:#000000;stroke-width:0.8;\" x=\"114.431951\" xlink:href=\"#m19d2ba5c1f\" y=\"224.64\"/>\n      </g>\n     </g>\n     <g id=\"text_29\">\n      <!-- 29 -->\n      <g transform=\"translate(117.017107 242.69625)rotate(-90)scale(0.1 -0.1)\">\n       <use xlink:href=\"#THSarabunNew-50\"/>\n       <use x=\"55.273438\" xlink:href=\"#THSarabunNew-57\"/>\n      </g>\n     </g>\n    </g>\n    <g id=\"xtick_30\">\n     <g id=\"line2d_30\">\n      <g>\n       <use style=\"stroke:#000000;stroke-width:0.8;\" x=\"117.560923\" xlink:href=\"#m19d2ba5c1f\" y=\"224.64\"/>\n      </g>\n     </g>\n     <g id=\"text_30\">\n      <!-- 30 -->\n      <g transform=\"translate(120.146079 242.69625)rotate(-90)scale(0.1 -0.1)\">\n       <use xlink:href=\"#THSarabunNew-51\"/>\n       <use x=\"55.273438\" xlink:href=\"#THSarabunNew-48\"/>\n      </g>\n     </g>\n    </g>\n    <g id=\"xtick_31\">\n     <g id=\"line2d_31\">\n      <g>\n       <use style=\"stroke:#000000;stroke-width:0.8;\" x=\"120.689895\" xlink:href=\"#m19d2ba5c1f\" y=\"224.64\"/>\n      </g>\n     </g>\n     <g id=\"text_31\">\n      <!-- 31 -->\n      <g transform=\"translate(123.275051 242.69625)rotate(-90)scale(0.1 -0.1)\">\n       <use xlink:href=\"#THSarabunNew-51\"/>\n       <use x=\"55.273438\" xlink:href=\"#THSarabunNew-49\"/>\n      </g>\n     </g>\n    </g>\n    <g id=\"xtick_32\">\n     <g id=\"line2d_32\">\n      <g>\n       <use style=\"stroke:#000000;stroke-width:0.8;\" x=\"123.818867\" xlink:href=\"#m19d2ba5c1f\" y=\"224.64\"/>\n      </g>\n     </g>\n     <g id=\"text_32\">\n      <!-- 32 -->\n      <g transform=\"translate(126.404023 242.69625)rotate(-90)scale(0.1 -0.1)\">\n       <use xlink:href=\"#THSarabunNew-51\"/>\n       <use x=\"55.273438\" xlink:href=\"#THSarabunNew-50\"/>\n      </g>\n     </g>\n    </g>\n    <g id=\"xtick_33\">\n     <g id=\"line2d_33\">\n      <g>\n       <use style=\"stroke:#000000;stroke-width:0.8;\" x=\"126.947839\" xlink:href=\"#m19d2ba5c1f\" y=\"224.64\"/>\n      </g>\n     </g>\n     <g id=\"text_33\">\n      <!-- 33 -->\n      <g transform=\"translate(129.532995 242.69625)rotate(-90)scale(0.1 -0.1)\">\n       <use xlink:href=\"#THSarabunNew-51\"/>\n       <use x=\"55.273438\" xlink:href=\"#THSarabunNew-51\"/>\n      </g>\n     </g>\n    </g>\n    <g id=\"xtick_34\">\n     <g id=\"line2d_34\">\n      <g>\n       <use style=\"stroke:#000000;stroke-width:0.8;\" x=\"130.076811\" xlink:href=\"#m19d2ba5c1f\" y=\"224.64\"/>\n      </g>\n     </g>\n     <g id=\"text_34\">\n      <!-- 34 -->\n      <g transform=\"translate(132.661967 242.69625)rotate(-90)scale(0.1 -0.1)\">\n       <use xlink:href=\"#THSarabunNew-51\"/>\n       <use x=\"55.273438\" xlink:href=\"#THSarabunNew-52\"/>\n      </g>\n     </g>\n    </g>\n    <g id=\"xtick_35\">\n     <g id=\"line2d_35\">\n      <g>\n       <use style=\"stroke:#000000;stroke-width:0.8;\" x=\"133.205783\" xlink:href=\"#m19d2ba5c1f\" y=\"224.64\"/>\n      </g>\n     </g>\n     <g id=\"text_35\">\n      <!-- 35 -->\n      <g transform=\"translate(135.790939 242.69625)rotate(-90)scale(0.1 -0.1)\">\n       <use xlink:href=\"#THSarabunNew-51\"/>\n       <use x=\"55.273438\" xlink:href=\"#THSarabunNew-53\"/>\n      </g>\n     </g>\n    </g>\n    <g id=\"xtick_36\">\n     <g id=\"line2d_36\">\n      <g>\n       <use style=\"stroke:#000000;stroke-width:0.8;\" x=\"136.334755\" xlink:href=\"#m19d2ba5c1f\" y=\"224.64\"/>\n      </g>\n     </g>\n     <g id=\"text_36\">\n      <!-- 36 -->\n      <g transform=\"translate(138.919911 242.69625)rotate(-90)scale(0.1 -0.1)\">\n       <use xlink:href=\"#THSarabunNew-51\"/>\n       <use x=\"55.273438\" xlink:href=\"#THSarabunNew-54\"/>\n      </g>\n     </g>\n    </g>\n    <g id=\"xtick_37\">\n     <g id=\"line2d_37\">\n      <g>\n       <use style=\"stroke:#000000;stroke-width:0.8;\" x=\"139.463727\" xlink:href=\"#m19d2ba5c1f\" y=\"224.64\"/>\n      </g>\n     </g>\n     <g id=\"text_37\">\n      <!-- 37 -->\n      <g transform=\"translate(142.048883 242.69625)rotate(-90)scale(0.1 -0.1)\">\n       <use xlink:href=\"#THSarabunNew-51\"/>\n       <use x=\"55.273438\" xlink:href=\"#THSarabunNew-55\"/>\n      </g>\n     </g>\n    </g>\n    <g id=\"xtick_38\">\n     <g id=\"line2d_38\">\n      <g>\n       <use style=\"stroke:#000000;stroke-width:0.8;\" x=\"142.592699\" xlink:href=\"#m19d2ba5c1f\" y=\"224.64\"/>\n      </g>\n     </g>\n     <g id=\"text_38\">\n      <!-- 38 -->\n      <g transform=\"translate(145.177855 242.69625)rotate(-90)scale(0.1 -0.1)\">\n       <use xlink:href=\"#THSarabunNew-51\"/>\n       <use x=\"55.273438\" xlink:href=\"#THSarabunNew-56\"/>\n      </g>\n     </g>\n    </g>\n    <g id=\"xtick_39\">\n     <g id=\"line2d_39\">\n      <g>\n       <use style=\"stroke:#000000;stroke-width:0.8;\" x=\"145.721671\" xlink:href=\"#m19d2ba5c1f\" y=\"224.64\"/>\n      </g>\n     </g>\n     <g id=\"text_39\">\n      <!-- 39 -->\n      <g transform=\"translate(148.306827 242.69625)rotate(-90)scale(0.1 -0.1)\">\n       <use xlink:href=\"#THSarabunNew-51\"/>\n       <use x=\"55.273438\" xlink:href=\"#THSarabunNew-57\"/>\n      </g>\n     </g>\n    </g>\n    <g id=\"xtick_40\">\n     <g id=\"line2d_40\">\n      <g>\n       <use style=\"stroke:#000000;stroke-width:0.8;\" x=\"148.850643\" xlink:href=\"#m19d2ba5c1f\" y=\"224.64\"/>\n      </g>\n     </g>\n     <g id=\"text_40\">\n      <!-- 40 -->\n      <g transform=\"translate(151.435799 242.69625)rotate(-90)scale(0.1 -0.1)\">\n       <use xlink:href=\"#THSarabunNew-52\"/>\n       <use x=\"55.273438\" xlink:href=\"#THSarabunNew-48\"/>\n      </g>\n     </g>\n    </g>\n    <g id=\"xtick_41\">\n     <g id=\"line2d_41\">\n      <g>\n       <use style=\"stroke:#000000;stroke-width:0.8;\" x=\"151.979614\" xlink:href=\"#m19d2ba5c1f\" y=\"224.64\"/>\n      </g>\n     </g>\n     <g id=\"text_41\">\n      <!-- 41 -->\n      <g transform=\"translate(154.564771 242.69625)rotate(-90)scale(0.1 -0.1)\">\n       <use xlink:href=\"#THSarabunNew-52\"/>\n       <use x=\"55.273438\" xlink:href=\"#THSarabunNew-49\"/>\n      </g>\n     </g>\n    </g>\n    <g id=\"xtick_42\">\n     <g id=\"line2d_42\">\n      <g>\n       <use style=\"stroke:#000000;stroke-width:0.8;\" x=\"155.108586\" xlink:href=\"#m19d2ba5c1f\" y=\"224.64\"/>\n      </g>\n     </g>\n     <g id=\"text_42\">\n      <!-- 42 -->\n      <g transform=\"translate(157.693743 242.69625)rotate(-90)scale(0.1 -0.1)\">\n       <use xlink:href=\"#THSarabunNew-52\"/>\n       <use x=\"55.273438\" xlink:href=\"#THSarabunNew-50\"/>\n      </g>\n     </g>\n    </g>\n    <g id=\"xtick_43\">\n     <g id=\"line2d_43\">\n      <g>\n       <use style=\"stroke:#000000;stroke-width:0.8;\" x=\"158.237558\" xlink:href=\"#m19d2ba5c1f\" y=\"224.64\"/>\n      </g>\n     </g>\n     <g id=\"text_43\">\n      <!-- 43 -->\n      <g transform=\"translate(160.822715 242.69625)rotate(-90)scale(0.1 -0.1)\">\n       <use xlink:href=\"#THSarabunNew-52\"/>\n       <use x=\"55.273438\" xlink:href=\"#THSarabunNew-51\"/>\n      </g>\n     </g>\n    </g>\n    <g id=\"xtick_44\">\n     <g id=\"line2d_44\">\n      <g>\n       <use style=\"stroke:#000000;stroke-width:0.8;\" x=\"161.36653\" xlink:href=\"#m19d2ba5c1f\" y=\"224.64\"/>\n      </g>\n     </g>\n     <g id=\"text_44\">\n      <!-- 44 -->\n      <g transform=\"translate(163.951687 242.69625)rotate(-90)scale(0.1 -0.1)\">\n       <use xlink:href=\"#THSarabunNew-52\"/>\n       <use x=\"55.273438\" xlink:href=\"#THSarabunNew-52\"/>\n      </g>\n     </g>\n    </g>\n    <g id=\"xtick_45\">\n     <g id=\"line2d_45\">\n      <g>\n       <use style=\"stroke:#000000;stroke-width:0.8;\" x=\"164.495502\" xlink:href=\"#m19d2ba5c1f\" y=\"224.64\"/>\n      </g>\n     </g>\n     <g id=\"text_45\">\n      <!-- 45 -->\n      <g transform=\"translate(167.080659 242.69625)rotate(-90)scale(0.1 -0.1)\">\n       <use xlink:href=\"#THSarabunNew-52\"/>\n       <use x=\"55.273438\" xlink:href=\"#THSarabunNew-53\"/>\n      </g>\n     </g>\n    </g>\n    <g id=\"xtick_46\">\n     <g id=\"line2d_46\">\n      <g>\n       <use style=\"stroke:#000000;stroke-width:0.8;\" x=\"167.624474\" xlink:href=\"#m19d2ba5c1f\" y=\"224.64\"/>\n      </g>\n     </g>\n     <g id=\"text_46\">\n      <!-- 46 -->\n      <g transform=\"translate(170.209631 242.69625)rotate(-90)scale(0.1 -0.1)\">\n       <use xlink:href=\"#THSarabunNew-52\"/>\n       <use x=\"55.273438\" xlink:href=\"#THSarabunNew-54\"/>\n      </g>\n     </g>\n    </g>\n    <g id=\"xtick_47\">\n     <g id=\"line2d_47\">\n      <g>\n       <use style=\"stroke:#000000;stroke-width:0.8;\" x=\"170.753446\" xlink:href=\"#m19d2ba5c1f\" y=\"224.64\"/>\n      </g>\n     </g>\n     <g id=\"text_47\">\n      <!-- 47 -->\n      <g transform=\"translate(173.338603 242.69625)rotate(-90)scale(0.1 -0.1)\">\n       <use xlink:href=\"#THSarabunNew-52\"/>\n       <use x=\"55.273438\" xlink:href=\"#THSarabunNew-55\"/>\n      </g>\n     </g>\n    </g>\n    <g id=\"xtick_48\">\n     <g id=\"line2d_48\">\n      <g>\n       <use style=\"stroke:#000000;stroke-width:0.8;\" x=\"173.882418\" xlink:href=\"#m19d2ba5c1f\" y=\"224.64\"/>\n      </g>\n     </g>\n     <g id=\"text_48\">\n      <!-- 48 -->\n      <g transform=\"translate(176.467574 242.69625)rotate(-90)scale(0.1 -0.1)\">\n       <use xlink:href=\"#THSarabunNew-52\"/>\n       <use x=\"55.273438\" xlink:href=\"#THSarabunNew-56\"/>\n      </g>\n     </g>\n    </g>\n    <g id=\"xtick_49\">\n     <g id=\"line2d_49\">\n      <g>\n       <use style=\"stroke:#000000;stroke-width:0.8;\" x=\"177.01139\" xlink:href=\"#m19d2ba5c1f\" y=\"224.64\"/>\n      </g>\n     </g>\n     <g id=\"text_49\">\n      <!-- 49 -->\n      <g transform=\"translate(179.596546 242.69625)rotate(-90)scale(0.1 -0.1)\">\n       <use xlink:href=\"#THSarabunNew-52\"/>\n       <use x=\"55.273438\" xlink:href=\"#THSarabunNew-57\"/>\n      </g>\n     </g>\n    </g>\n    <g id=\"xtick_50\">\n     <g id=\"line2d_50\">\n      <g>\n       <use style=\"stroke:#000000;stroke-width:0.8;\" x=\"180.140362\" xlink:href=\"#m19d2ba5c1f\" y=\"224.64\"/>\n      </g>\n     </g>\n     <g id=\"text_50\">\n      <!-- 50 -->\n      <g transform=\"translate(182.725518 242.69625)rotate(-90)scale(0.1 -0.1)\">\n       <use xlink:href=\"#THSarabunNew-53\"/>\n       <use x=\"55.273438\" xlink:href=\"#THSarabunNew-48\"/>\n      </g>\n     </g>\n    </g>\n    <g id=\"xtick_51\">\n     <g id=\"line2d_51\">\n      <g>\n       <use style=\"stroke:#000000;stroke-width:0.8;\" x=\"183.269334\" xlink:href=\"#m19d2ba5c1f\" y=\"224.64\"/>\n      </g>\n     </g>\n     <g id=\"text_51\">\n      <!-- 51 -->\n      <g transform=\"translate(185.85449 242.69625)rotate(-90)scale(0.1 -0.1)\">\n       <use xlink:href=\"#THSarabunNew-53\"/>\n       <use x=\"55.273438\" xlink:href=\"#THSarabunNew-49\"/>\n      </g>\n     </g>\n    </g>\n    <g id=\"xtick_52\">\n     <g id=\"line2d_52\">\n      <g>\n       <use style=\"stroke:#000000;stroke-width:0.8;\" x=\"186.398306\" xlink:href=\"#m19d2ba5c1f\" y=\"224.64\"/>\n      </g>\n     </g>\n     <g id=\"text_52\">\n      <!-- 52 -->\n      <g transform=\"translate(188.983462 242.69625)rotate(-90)scale(0.1 -0.1)\">\n       <use xlink:href=\"#THSarabunNew-53\"/>\n       <use x=\"55.273438\" xlink:href=\"#THSarabunNew-50\"/>\n      </g>\n     </g>\n    </g>\n    <g id=\"xtick_53\">\n     <g id=\"line2d_53\">\n      <g>\n       <use style=\"stroke:#000000;stroke-width:0.8;\" x=\"189.527278\" xlink:href=\"#m19d2ba5c1f\" y=\"224.64\"/>\n      </g>\n     </g>\n     <g id=\"text_53\">\n      <!-- 53 -->\n      <g transform=\"translate(192.112434 242.69625)rotate(-90)scale(0.1 -0.1)\">\n       <use xlink:href=\"#THSarabunNew-53\"/>\n       <use x=\"55.273438\" xlink:href=\"#THSarabunNew-51\"/>\n      </g>\n     </g>\n    </g>\n    <g id=\"xtick_54\">\n     <g id=\"line2d_54\">\n      <g>\n       <use style=\"stroke:#000000;stroke-width:0.8;\" x=\"192.65625\" xlink:href=\"#m19d2ba5c1f\" y=\"224.64\"/>\n      </g>\n     </g>\n     <g id=\"text_54\">\n      <!-- 54 -->\n      <g transform=\"translate(195.241406 242.69625)rotate(-90)scale(0.1 -0.1)\">\n       <use xlink:href=\"#THSarabunNew-53\"/>\n       <use x=\"55.273438\" xlink:href=\"#THSarabunNew-52\"/>\n      </g>\n     </g>\n    </g>\n    <g id=\"xtick_55\">\n     <g id=\"line2d_55\">\n      <g>\n       <use style=\"stroke:#000000;stroke-width:0.8;\" x=\"195.785222\" xlink:href=\"#m19d2ba5c1f\" y=\"224.64\"/>\n      </g>\n     </g>\n     <g id=\"text_55\">\n      <!-- 55 -->\n      <g transform=\"translate(198.370378 242.69625)rotate(-90)scale(0.1 -0.1)\">\n       <use xlink:href=\"#THSarabunNew-53\"/>\n       <use x=\"55.273438\" xlink:href=\"#THSarabunNew-53\"/>\n      </g>\n     </g>\n    </g>\n    <g id=\"xtick_56\">\n     <g id=\"line2d_56\">\n      <g>\n       <use style=\"stroke:#000000;stroke-width:0.8;\" x=\"198.914194\" xlink:href=\"#m19d2ba5c1f\" y=\"224.64\"/>\n      </g>\n     </g>\n     <g id=\"text_56\">\n      <!-- 56 -->\n      <g transform=\"translate(201.49935 242.69625)rotate(-90)scale(0.1 -0.1)\">\n       <use xlink:href=\"#THSarabunNew-53\"/>\n       <use x=\"55.273438\" xlink:href=\"#THSarabunNew-54\"/>\n      </g>\n     </g>\n    </g>\n    <g id=\"xtick_57\">\n     <g id=\"line2d_57\">\n      <g>\n       <use style=\"stroke:#000000;stroke-width:0.8;\" x=\"202.043166\" xlink:href=\"#m19d2ba5c1f\" y=\"224.64\"/>\n      </g>\n     </g>\n     <g id=\"text_57\">\n      <!-- 57 -->\n      <g transform=\"translate(204.628322 242.69625)rotate(-90)scale(0.1 -0.1)\">\n       <use xlink:href=\"#THSarabunNew-53\"/>\n       <use x=\"55.273438\" xlink:href=\"#THSarabunNew-55\"/>\n      </g>\n     </g>\n    </g>\n    <g id=\"xtick_58\">\n     <g id=\"line2d_58\">\n      <g>\n       <use style=\"stroke:#000000;stroke-width:0.8;\" x=\"205.172138\" xlink:href=\"#m19d2ba5c1f\" y=\"224.64\"/>\n      </g>\n     </g>\n     <g id=\"text_58\">\n      <!-- 58 -->\n      <g transform=\"translate(207.757294 242.69625)rotate(-90)scale(0.1 -0.1)\">\n       <use xlink:href=\"#THSarabunNew-53\"/>\n       <use x=\"55.273438\" xlink:href=\"#THSarabunNew-56\"/>\n      </g>\n     </g>\n    </g>\n    <g id=\"xtick_59\">\n     <g id=\"line2d_59\">\n      <g>\n       <use style=\"stroke:#000000;stroke-width:0.8;\" x=\"208.30111\" xlink:href=\"#m19d2ba5c1f\" y=\"224.64\"/>\n      </g>\n     </g>\n     <g id=\"text_59\">\n      <!-- 59 -->\n      <g transform=\"translate(210.886266 242.69625)rotate(-90)scale(0.1 -0.1)\">\n       <use xlink:href=\"#THSarabunNew-53\"/>\n       <use x=\"55.273438\" xlink:href=\"#THSarabunNew-57\"/>\n      </g>\n     </g>\n    </g>\n    <g id=\"xtick_60\">\n     <g id=\"line2d_60\">\n      <g>\n       <use style=\"stroke:#000000;stroke-width:0.8;\" x=\"211.430082\" xlink:href=\"#m19d2ba5c1f\" y=\"224.64\"/>\n      </g>\n     </g>\n     <g id=\"text_60\">\n      <!-- 60 -->\n      <g transform=\"translate(214.015238 242.69625)rotate(-90)scale(0.1 -0.1)\">\n       <use xlink:href=\"#THSarabunNew-54\"/>\n       <use x=\"55.273438\" xlink:href=\"#THSarabunNew-48\"/>\n      </g>\n     </g>\n    </g>\n    <g id=\"xtick_61\">\n     <g id=\"line2d_61\">\n      <g>\n       <use style=\"stroke:#000000;stroke-width:0.8;\" x=\"214.559054\" xlink:href=\"#m19d2ba5c1f\" y=\"224.64\"/>\n      </g>\n     </g>\n     <g id=\"text_61\">\n      <!-- 61 -->\n      <g transform=\"translate(217.14421 242.69625)rotate(-90)scale(0.1 -0.1)\">\n       <use xlink:href=\"#THSarabunNew-54\"/>\n       <use x=\"55.273438\" xlink:href=\"#THSarabunNew-49\"/>\n      </g>\n     </g>\n    </g>\n    <g id=\"xtick_62\">\n     <g id=\"line2d_62\">\n      <g>\n       <use style=\"stroke:#000000;stroke-width:0.8;\" x=\"217.688026\" xlink:href=\"#m19d2ba5c1f\" y=\"224.64\"/>\n      </g>\n     </g>\n     <g id=\"text_62\">\n      <!-- 62 -->\n      <g transform=\"translate(220.273182 242.69625)rotate(-90)scale(0.1 -0.1)\">\n       <use xlink:href=\"#THSarabunNew-54\"/>\n       <use x=\"55.273438\" xlink:href=\"#THSarabunNew-50\"/>\n      </g>\n     </g>\n    </g>\n    <g id=\"xtick_63\">\n     <g id=\"line2d_63\">\n      <g>\n       <use style=\"stroke:#000000;stroke-width:0.8;\" x=\"220.816998\" xlink:href=\"#m19d2ba5c1f\" y=\"224.64\"/>\n      </g>\n     </g>\n     <g id=\"text_63\">\n      <!-- 63 -->\n      <g transform=\"translate(223.402154 242.69625)rotate(-90)scale(0.1 -0.1)\">\n       <use xlink:href=\"#THSarabunNew-54\"/>\n       <use x=\"55.273438\" xlink:href=\"#THSarabunNew-51\"/>\n      </g>\n     </g>\n    </g>\n    <g id=\"xtick_64\">\n     <g id=\"line2d_64\">\n      <g>\n       <use style=\"stroke:#000000;stroke-width:0.8;\" x=\"223.94597\" xlink:href=\"#m19d2ba5c1f\" y=\"224.64\"/>\n      </g>\n     </g>\n     <g id=\"text_64\">\n      <!-- 64 -->\n      <g transform=\"translate(226.531126 242.69625)rotate(-90)scale(0.1 -0.1)\">\n       <use xlink:href=\"#THSarabunNew-54\"/>\n       <use x=\"55.273438\" xlink:href=\"#THSarabunNew-52\"/>\n      </g>\n     </g>\n    </g>\n    <g id=\"xtick_65\">\n     <g id=\"line2d_65\">\n      <g>\n       <use style=\"stroke:#000000;stroke-width:0.8;\" x=\"227.074942\" xlink:href=\"#m19d2ba5c1f\" y=\"224.64\"/>\n      </g>\n     </g>\n     <g id=\"text_65\">\n      <!-- 65 -->\n      <g transform=\"translate(229.660098 242.69625)rotate(-90)scale(0.1 -0.1)\">\n       <use xlink:href=\"#THSarabunNew-54\"/>\n       <use x=\"55.273438\" xlink:href=\"#THSarabunNew-53\"/>\n      </g>\n     </g>\n    </g>\n    <g id=\"xtick_66\">\n     <g id=\"line2d_66\">\n      <g>\n       <use style=\"stroke:#000000;stroke-width:0.8;\" x=\"230.203914\" xlink:href=\"#m19d2ba5c1f\" y=\"224.64\"/>\n      </g>\n     </g>\n     <g id=\"text_66\">\n      <!-- 66 -->\n      <g transform=\"translate(232.78907 242.69625)rotate(-90)scale(0.1 -0.1)\">\n       <use xlink:href=\"#THSarabunNew-54\"/>\n       <use x=\"55.273438\" xlink:href=\"#THSarabunNew-54\"/>\n      </g>\n     </g>\n    </g>\n    <g id=\"xtick_67\">\n     <g id=\"line2d_67\">\n      <g>\n       <use style=\"stroke:#000000;stroke-width:0.8;\" x=\"233.332886\" xlink:href=\"#m19d2ba5c1f\" y=\"224.64\"/>\n      </g>\n     </g>\n     <g id=\"text_67\">\n      <!-- 67 -->\n      <g transform=\"translate(235.918042 242.69625)rotate(-90)scale(0.1 -0.1)\">\n       <use xlink:href=\"#THSarabunNew-54\"/>\n       <use x=\"55.273438\" xlink:href=\"#THSarabunNew-55\"/>\n      </g>\n     </g>\n    </g>\n    <g id=\"xtick_68\">\n     <g id=\"line2d_68\">\n      <g>\n       <use style=\"stroke:#000000;stroke-width:0.8;\" x=\"236.461857\" xlink:href=\"#m19d2ba5c1f\" y=\"224.64\"/>\n      </g>\n     </g>\n     <g id=\"text_68\">\n      <!-- 68 -->\n      <g transform=\"translate(239.047014 242.69625)rotate(-90)scale(0.1 -0.1)\">\n       <use xlink:href=\"#THSarabunNew-54\"/>\n       <use x=\"55.273438\" xlink:href=\"#THSarabunNew-56\"/>\n      </g>\n     </g>\n    </g>\n    <g id=\"xtick_69\">\n     <g id=\"line2d_69\">\n      <g>\n       <use style=\"stroke:#000000;stroke-width:0.8;\" x=\"239.590829\" xlink:href=\"#m19d2ba5c1f\" y=\"224.64\"/>\n      </g>\n     </g>\n     <g id=\"text_69\">\n      <!-- 69 -->\n      <g transform=\"translate(242.175986 242.69625)rotate(-90)scale(0.1 -0.1)\">\n       <use xlink:href=\"#THSarabunNew-54\"/>\n       <use x=\"55.273438\" xlink:href=\"#THSarabunNew-57\"/>\n      </g>\n     </g>\n    </g>\n    <g id=\"xtick_70\">\n     <g id=\"line2d_70\">\n      <g>\n       <use style=\"stroke:#000000;stroke-width:0.8;\" x=\"242.719801\" xlink:href=\"#m19d2ba5c1f\" y=\"224.64\"/>\n      </g>\n     </g>\n     <g id=\"text_70\">\n      <!-- 70 -->\n      <g transform=\"translate(245.304958 242.69625)rotate(-90)scale(0.1 -0.1)\">\n       <use xlink:href=\"#THSarabunNew-55\"/>\n       <use x=\"55.273438\" xlink:href=\"#THSarabunNew-48\"/>\n      </g>\n     </g>\n    </g>\n    <g id=\"xtick_71\">\n     <g id=\"line2d_71\">\n      <g>\n       <use style=\"stroke:#000000;stroke-width:0.8;\" x=\"245.848773\" xlink:href=\"#m19d2ba5c1f\" y=\"224.64\"/>\n      </g>\n     </g>\n     <g id=\"text_71\">\n      <!-- 71 -->\n      <g transform=\"translate(248.43393 242.69625)rotate(-90)scale(0.1 -0.1)\">\n       <use xlink:href=\"#THSarabunNew-55\"/>\n       <use x=\"55.273438\" xlink:href=\"#THSarabunNew-49\"/>\n      </g>\n     </g>\n    </g>\n    <g id=\"xtick_72\">\n     <g id=\"line2d_72\">\n      <g>\n       <use style=\"stroke:#000000;stroke-width:0.8;\" x=\"248.977745\" xlink:href=\"#m19d2ba5c1f\" y=\"224.64\"/>\n      </g>\n     </g>\n     <g id=\"text_72\">\n      <!-- 72 -->\n      <g transform=\"translate(251.562902 242.69625)rotate(-90)scale(0.1 -0.1)\">\n       <use xlink:href=\"#THSarabunNew-55\"/>\n       <use x=\"55.273438\" xlink:href=\"#THSarabunNew-50\"/>\n      </g>\n     </g>\n    </g>\n    <g id=\"xtick_73\">\n     <g id=\"line2d_73\">\n      <g>\n       <use style=\"stroke:#000000;stroke-width:0.8;\" x=\"252.106717\" xlink:href=\"#m19d2ba5c1f\" y=\"224.64\"/>\n      </g>\n     </g>\n     <g id=\"text_73\">\n      <!-- 73 -->\n      <g transform=\"translate(254.691874 242.69625)rotate(-90)scale(0.1 -0.1)\">\n       <use xlink:href=\"#THSarabunNew-55\"/>\n       <use x=\"55.273438\" xlink:href=\"#THSarabunNew-51\"/>\n      </g>\n     </g>\n    </g>\n    <g id=\"xtick_74\">\n     <g id=\"line2d_74\">\n      <g>\n       <use style=\"stroke:#000000;stroke-width:0.8;\" x=\"255.235689\" xlink:href=\"#m19d2ba5c1f\" y=\"224.64\"/>\n      </g>\n     </g>\n     <g id=\"text_74\">\n      <!-- 74 -->\n      <g transform=\"translate(257.820846 242.69625)rotate(-90)scale(0.1 -0.1)\">\n       <use xlink:href=\"#THSarabunNew-55\"/>\n       <use x=\"55.273438\" xlink:href=\"#THSarabunNew-52\"/>\n      </g>\n     </g>\n    </g>\n    <g id=\"xtick_75\">\n     <g id=\"line2d_75\">\n      <g>\n       <use style=\"stroke:#000000;stroke-width:0.8;\" x=\"258.364661\" xlink:href=\"#m19d2ba5c1f\" y=\"224.64\"/>\n      </g>\n     </g>\n     <g id=\"text_75\">\n      <!-- 75 -->\n      <g transform=\"translate(260.949817 242.69625)rotate(-90)scale(0.1 -0.1)\">\n       <use xlink:href=\"#THSarabunNew-55\"/>\n       <use x=\"55.273438\" xlink:href=\"#THSarabunNew-53\"/>\n      </g>\n     </g>\n    </g>\n    <g id=\"xtick_76\">\n     <g id=\"line2d_76\">\n      <g>\n       <use style=\"stroke:#000000;stroke-width:0.8;\" x=\"261.493633\" xlink:href=\"#m19d2ba5c1f\" y=\"224.64\"/>\n      </g>\n     </g>\n     <g id=\"text_76\">\n      <!-- 76 -->\n      <g transform=\"translate(264.078789 242.69625)rotate(-90)scale(0.1 -0.1)\">\n       <use xlink:href=\"#THSarabunNew-55\"/>\n       <use x=\"55.273438\" xlink:href=\"#THSarabunNew-54\"/>\n      </g>\n     </g>\n    </g>\n    <g id=\"xtick_77\">\n     <g id=\"line2d_77\">\n      <g>\n       <use style=\"stroke:#000000;stroke-width:0.8;\" x=\"264.622605\" xlink:href=\"#m19d2ba5c1f\" y=\"224.64\"/>\n      </g>\n     </g>\n     <g id=\"text_77\">\n      <!-- 77 -->\n      <g transform=\"translate(267.207761 242.69625)rotate(-90)scale(0.1 -0.1)\">\n       <use xlink:href=\"#THSarabunNew-55\"/>\n       <use x=\"55.273438\" xlink:href=\"#THSarabunNew-55\"/>\n      </g>\n     </g>\n    </g>\n    <g id=\"xtick_78\">\n     <g id=\"line2d_78\">\n      <g>\n       <use style=\"stroke:#000000;stroke-width:0.8;\" x=\"267.751577\" xlink:href=\"#m19d2ba5c1f\" y=\"224.64\"/>\n      </g>\n     </g>\n     <g id=\"text_78\">\n      <!-- 78 -->\n      <g transform=\"translate(270.336733 242.69625)rotate(-90)scale(0.1 -0.1)\">\n       <use xlink:href=\"#THSarabunNew-55\"/>\n       <use x=\"55.273438\" xlink:href=\"#THSarabunNew-56\"/>\n      </g>\n     </g>\n    </g>\n    <g id=\"xtick_79\">\n     <g id=\"line2d_79\">\n      <g>\n       <use style=\"stroke:#000000;stroke-width:0.8;\" x=\"270.880549\" xlink:href=\"#m19d2ba5c1f\" y=\"224.64\"/>\n      </g>\n     </g>\n     <g id=\"text_79\">\n      <!-- 79 -->\n      <g transform=\"translate(273.465705 242.69625)rotate(-90)scale(0.1 -0.1)\">\n       <use xlink:href=\"#THSarabunNew-55\"/>\n       <use x=\"55.273438\" xlink:href=\"#THSarabunNew-57\"/>\n      </g>\n     </g>\n    </g>\n    <g id=\"xtick_80\">\n     <g id=\"line2d_80\">\n      <g>\n       <use style=\"stroke:#000000;stroke-width:0.8;\" x=\"274.009521\" xlink:href=\"#m19d2ba5c1f\" y=\"224.64\"/>\n      </g>\n     </g>\n     <g id=\"text_80\">\n      <!-- 80 -->\n      <g transform=\"translate(276.594677 242.69625)rotate(-90)scale(0.1 -0.1)\">\n       <use xlink:href=\"#THSarabunNew-56\"/>\n       <use x=\"55.273438\" xlink:href=\"#THSarabunNew-48\"/>\n      </g>\n     </g>\n    </g>\n    <g id=\"xtick_81\">\n     <g id=\"line2d_81\">\n      <g>\n       <use style=\"stroke:#000000;stroke-width:0.8;\" x=\"277.138493\" xlink:href=\"#m19d2ba5c1f\" y=\"224.64\"/>\n      </g>\n     </g>\n     <g id=\"text_81\">\n      <!-- 81 -->\n      <g transform=\"translate(279.723649 242.69625)rotate(-90)scale(0.1 -0.1)\">\n       <use xlink:href=\"#THSarabunNew-56\"/>\n       <use x=\"55.273438\" xlink:href=\"#THSarabunNew-49\"/>\n      </g>\n     </g>\n    </g>\n    <g id=\"xtick_82\">\n     <g id=\"line2d_82\">\n      <g>\n       <use style=\"stroke:#000000;stroke-width:0.8;\" x=\"280.267465\" xlink:href=\"#m19d2ba5c1f\" y=\"224.64\"/>\n      </g>\n     </g>\n     <g id=\"text_82\">\n      <!-- 82 -->\n      <g transform=\"translate(282.852621 242.69625)rotate(-90)scale(0.1 -0.1)\">\n       <use xlink:href=\"#THSarabunNew-56\"/>\n       <use x=\"55.273438\" xlink:href=\"#THSarabunNew-50\"/>\n      </g>\n     </g>\n    </g>\n    <g id=\"xtick_83\">\n     <g id=\"line2d_83\">\n      <g>\n       <use style=\"stroke:#000000;stroke-width:0.8;\" x=\"283.396437\" xlink:href=\"#m19d2ba5c1f\" y=\"224.64\"/>\n      </g>\n     </g>\n     <g id=\"text_83\">\n      <!-- 83 -->\n      <g transform=\"translate(285.981593 242.69625)rotate(-90)scale(0.1 -0.1)\">\n       <use xlink:href=\"#THSarabunNew-56\"/>\n       <use x=\"55.273438\" xlink:href=\"#THSarabunNew-51\"/>\n      </g>\n     </g>\n    </g>\n    <g id=\"xtick_84\">\n     <g id=\"line2d_84\">\n      <g>\n       <use style=\"stroke:#000000;stroke-width:0.8;\" x=\"286.525409\" xlink:href=\"#m19d2ba5c1f\" y=\"224.64\"/>\n      </g>\n     </g>\n     <g id=\"text_84\">\n      <!-- 84 -->\n      <g transform=\"translate(289.110565 242.69625)rotate(-90)scale(0.1 -0.1)\">\n       <use xlink:href=\"#THSarabunNew-56\"/>\n       <use x=\"55.273438\" xlink:href=\"#THSarabunNew-52\"/>\n      </g>\n     </g>\n    </g>\n    <g id=\"xtick_85\">\n     <g id=\"line2d_85\">\n      <g>\n       <use style=\"stroke:#000000;stroke-width:0.8;\" x=\"289.654381\" xlink:href=\"#m19d2ba5c1f\" y=\"224.64\"/>\n      </g>\n     </g>\n     <g id=\"text_85\">\n      <!-- 85 -->\n      <g transform=\"translate(292.239537 242.69625)rotate(-90)scale(0.1 -0.1)\">\n       <use xlink:href=\"#THSarabunNew-56\"/>\n       <use x=\"55.273438\" xlink:href=\"#THSarabunNew-53\"/>\n      </g>\n     </g>\n    </g>\n    <g id=\"xtick_86\">\n     <g id=\"line2d_86\">\n      <g>\n       <use style=\"stroke:#000000;stroke-width:0.8;\" x=\"292.783353\" xlink:href=\"#m19d2ba5c1f\" y=\"224.64\"/>\n      </g>\n     </g>\n     <g id=\"text_86\">\n      <!-- 86 -->\n      <g transform=\"translate(295.368509 242.69625)rotate(-90)scale(0.1 -0.1)\">\n       <use xlink:href=\"#THSarabunNew-56\"/>\n       <use x=\"55.273438\" xlink:href=\"#THSarabunNew-54\"/>\n      </g>\n     </g>\n    </g>\n    <g id=\"xtick_87\">\n     <g id=\"line2d_87\">\n      <g>\n       <use style=\"stroke:#000000;stroke-width:0.8;\" x=\"295.912325\" xlink:href=\"#m19d2ba5c1f\" y=\"224.64\"/>\n      </g>\n     </g>\n     <g id=\"text_87\">\n      <!-- 87 -->\n      <g transform=\"translate(298.497481 242.69625)rotate(-90)scale(0.1 -0.1)\">\n       <use xlink:href=\"#THSarabunNew-56\"/>\n       <use x=\"55.273438\" xlink:href=\"#THSarabunNew-55\"/>\n      </g>\n     </g>\n    </g>\n    <g id=\"xtick_88\">\n     <g id=\"line2d_88\">\n      <g>\n       <use style=\"stroke:#000000;stroke-width:0.8;\" x=\"299.041297\" xlink:href=\"#m19d2ba5c1f\" y=\"224.64\"/>\n      </g>\n     </g>\n     <g id=\"text_88\">\n      <!-- 88 -->\n      <g transform=\"translate(301.626453 242.69625)rotate(-90)scale(0.1 -0.1)\">\n       <use xlink:href=\"#THSarabunNew-56\"/>\n       <use x=\"55.273438\" xlink:href=\"#THSarabunNew-56\"/>\n      </g>\n     </g>\n    </g>\n    <g id=\"xtick_89\">\n     <g id=\"line2d_89\">\n      <g>\n       <use style=\"stroke:#000000;stroke-width:0.8;\" x=\"302.170269\" xlink:href=\"#m19d2ba5c1f\" y=\"224.64\"/>\n      </g>\n     </g>\n     <g id=\"text_89\">\n      <!-- 89 -->\n      <g transform=\"translate(304.755425 242.69625)rotate(-90)scale(0.1 -0.1)\">\n       <use xlink:href=\"#THSarabunNew-56\"/>\n       <use x=\"55.273438\" xlink:href=\"#THSarabunNew-57\"/>\n      </g>\n     </g>\n    </g>\n    <g id=\"xtick_90\">\n     <g id=\"line2d_90\">\n      <g>\n       <use style=\"stroke:#000000;stroke-width:0.8;\" x=\"305.299241\" xlink:href=\"#m19d2ba5c1f\" y=\"224.64\"/>\n      </g>\n     </g>\n     <g id=\"text_90\">\n      <!-- 90 -->\n      <g transform=\"translate(307.884397 242.69625)rotate(-90)scale(0.1 -0.1)\">\n       <use xlink:href=\"#THSarabunNew-57\"/>\n       <use x=\"55.273438\" xlink:href=\"#THSarabunNew-48\"/>\n      </g>\n     </g>\n    </g>\n    <g id=\"xtick_91\">\n     <g id=\"line2d_91\">\n      <g>\n       <use style=\"stroke:#000000;stroke-width:0.8;\" x=\"308.428213\" xlink:href=\"#m19d2ba5c1f\" y=\"224.64\"/>\n      </g>\n     </g>\n     <g id=\"text_91\">\n      <!-- 91 -->\n      <g transform=\"translate(311.013369 242.69625)rotate(-90)scale(0.1 -0.1)\">\n       <use xlink:href=\"#THSarabunNew-57\"/>\n       <use x=\"55.273438\" xlink:href=\"#THSarabunNew-49\"/>\n      </g>\n     </g>\n    </g>\n    <g id=\"xtick_92\">\n     <g id=\"line2d_92\">\n      <g>\n       <use style=\"stroke:#000000;stroke-width:0.8;\" x=\"311.557185\" xlink:href=\"#m19d2ba5c1f\" y=\"224.64\"/>\n      </g>\n     </g>\n     <g id=\"text_92\">\n      <!-- 92 -->\n      <g transform=\"translate(314.142341 242.69625)rotate(-90)scale(0.1 -0.1)\">\n       <use xlink:href=\"#THSarabunNew-57\"/>\n       <use x=\"55.273438\" xlink:href=\"#THSarabunNew-50\"/>\n      </g>\n     </g>\n    </g>\n    <g id=\"xtick_93\">\n     <g id=\"line2d_93\">\n      <g>\n       <use style=\"stroke:#000000;stroke-width:0.8;\" x=\"314.686157\" xlink:href=\"#m19d2ba5c1f\" y=\"224.64\"/>\n      </g>\n     </g>\n     <g id=\"text_93\">\n      <!-- 93 -->\n      <g transform=\"translate(317.271313 242.69625)rotate(-90)scale(0.1 -0.1)\">\n       <use xlink:href=\"#THSarabunNew-57\"/>\n       <use x=\"55.273438\" xlink:href=\"#THSarabunNew-51\"/>\n      </g>\n     </g>\n    </g>\n    <g id=\"xtick_94\">\n     <g id=\"line2d_94\">\n      <g>\n       <use style=\"stroke:#000000;stroke-width:0.8;\" x=\"317.815129\" xlink:href=\"#m19d2ba5c1f\" y=\"224.64\"/>\n      </g>\n     </g>\n     <g id=\"text_94\">\n      <!-- 94 -->\n      <g transform=\"translate(320.400285 242.69625)rotate(-90)scale(0.1 -0.1)\">\n       <use xlink:href=\"#THSarabunNew-57\"/>\n       <use x=\"55.273438\" xlink:href=\"#THSarabunNew-52\"/>\n      </g>\n     </g>\n    </g>\n    <g id=\"xtick_95\">\n     <g id=\"line2d_95\">\n      <g>\n       <use style=\"stroke:#000000;stroke-width:0.8;\" x=\"320.9441\" xlink:href=\"#m19d2ba5c1f\" y=\"224.64\"/>\n      </g>\n     </g>\n     <g id=\"text_95\">\n      <!-- 95 -->\n      <g transform=\"translate(323.529257 242.69625)rotate(-90)scale(0.1 -0.1)\">\n       <use xlink:href=\"#THSarabunNew-57\"/>\n       <use x=\"55.273438\" xlink:href=\"#THSarabunNew-53\"/>\n      </g>\n     </g>\n    </g>\n    <g id=\"xtick_96\">\n     <g id=\"line2d_96\">\n      <g>\n       <use style=\"stroke:#000000;stroke-width:0.8;\" x=\"324.073072\" xlink:href=\"#m19d2ba5c1f\" y=\"224.64\"/>\n      </g>\n     </g>\n     <g id=\"text_96\">\n      <!-- 96 -->\n      <g transform=\"translate(326.658229 242.69625)rotate(-90)scale(0.1 -0.1)\">\n       <use xlink:href=\"#THSarabunNew-57\"/>\n       <use x=\"55.273438\" xlink:href=\"#THSarabunNew-54\"/>\n      </g>\n     </g>\n    </g>\n    <g id=\"xtick_97\">\n     <g id=\"line2d_97\">\n      <g>\n       <use style=\"stroke:#000000;stroke-width:0.8;\" x=\"327.202044\" xlink:href=\"#m19d2ba5c1f\" y=\"224.64\"/>\n      </g>\n     </g>\n     <g id=\"text_97\">\n      <!-- 97 -->\n      <g transform=\"translate(329.787201 242.69625)rotate(-90)scale(0.1 -0.1)\">\n       <use xlink:href=\"#THSarabunNew-57\"/>\n       <use x=\"55.273438\" xlink:href=\"#THSarabunNew-55\"/>\n      </g>\n     </g>\n    </g>\n    <g id=\"xtick_98\">\n     <g id=\"line2d_98\">\n      <g>\n       <use style=\"stroke:#000000;stroke-width:0.8;\" x=\"330.331016\" xlink:href=\"#m19d2ba5c1f\" y=\"224.64\"/>\n      </g>\n     </g>\n     <g id=\"text_98\">\n      <!-- 100 -->\n      <g transform=\"translate(332.916173 248.224375)rotate(-90)scale(0.1 -0.1)\">\n       <use xlink:href=\"#THSarabunNew-49\"/>\n       <use x=\"55.273438\" xlink:href=\"#THSarabunNew-48\"/>\n       <use x=\"110.546875\" xlink:href=\"#THSarabunNew-48\"/>\n      </g>\n     </g>\n    </g>\n    <g id=\"xtick_99\">\n     <g id=\"line2d_99\">\n      <g>\n       <use style=\"stroke:#000000;stroke-width:0.8;\" x=\"333.459988\" xlink:href=\"#m19d2ba5c1f\" y=\"224.64\"/>\n      </g>\n     </g>\n     <g id=\"text_99\">\n      <!-- 101 -->\n      <g transform=\"translate(336.045145 248.224375)rotate(-90)scale(0.1 -0.1)\">\n       <use xlink:href=\"#THSarabunNew-49\"/>\n       <use x=\"55.273438\" xlink:href=\"#THSarabunNew-48\"/>\n       <use x=\"110.546875\" xlink:href=\"#THSarabunNew-49\"/>\n      </g>\n     </g>\n    </g>\n    <g id=\"xtick_100\">\n     <g id=\"line2d_100\">\n      <g>\n       <use style=\"stroke:#000000;stroke-width:0.8;\" x=\"336.58896\" xlink:href=\"#m19d2ba5c1f\" y=\"224.64\"/>\n      </g>\n     </g>\n     <g id=\"text_100\">\n      <!-- 102 -->\n      <g transform=\"translate(339.174117 248.224375)rotate(-90)scale(0.1 -0.1)\">\n       <use xlink:href=\"#THSarabunNew-49\"/>\n       <use x=\"55.273438\" xlink:href=\"#THSarabunNew-48\"/>\n       <use x=\"110.546875\" xlink:href=\"#THSarabunNew-50\"/>\n      </g>\n     </g>\n    </g>\n    <g id=\"xtick_101\">\n     <g id=\"line2d_101\">\n      <g>\n       <use style=\"stroke:#000000;stroke-width:0.8;\" x=\"339.717932\" xlink:href=\"#m19d2ba5c1f\" y=\"224.64\"/>\n      </g>\n     </g>\n     <g id=\"text_101\">\n      <!-- 103 -->\n      <g transform=\"translate(342.303088 248.224375)rotate(-90)scale(0.1 -0.1)\">\n       <use xlink:href=\"#THSarabunNew-49\"/>\n       <use x=\"55.273438\" xlink:href=\"#THSarabunNew-48\"/>\n       <use x=\"110.546875\" xlink:href=\"#THSarabunNew-51\"/>\n      </g>\n     </g>\n    </g>\n    <g id=\"xtick_102\">\n     <g id=\"line2d_102\">\n      <g>\n       <use style=\"stroke:#000000;stroke-width:0.8;\" x=\"342.846904\" xlink:href=\"#m19d2ba5c1f\" y=\"224.64\"/>\n      </g>\n     </g>\n     <g id=\"text_102\">\n      <!-- 105 -->\n      <g transform=\"translate(345.43206 248.224375)rotate(-90)scale(0.1 -0.1)\">\n       <use xlink:href=\"#THSarabunNew-49\"/>\n       <use x=\"55.273438\" xlink:href=\"#THSarabunNew-48\"/>\n       <use x=\"110.546875\" xlink:href=\"#THSarabunNew-53\"/>\n      </g>\n     </g>\n    </g>\n    <g id=\"xtick_103\">\n     <g id=\"line2d_103\">\n      <g>\n       <use style=\"stroke:#000000;stroke-width:0.8;\" x=\"345.975876\" xlink:href=\"#m19d2ba5c1f\" y=\"224.64\"/>\n      </g>\n     </g>\n     <g id=\"text_103\">\n      <!-- 106 -->\n      <g transform=\"translate(348.561032 248.224375)rotate(-90)scale(0.1 -0.1)\">\n       <use xlink:href=\"#THSarabunNew-49\"/>\n       <use x=\"55.273438\" xlink:href=\"#THSarabunNew-48\"/>\n       <use x=\"110.546875\" xlink:href=\"#THSarabunNew-54\"/>\n      </g>\n     </g>\n    </g>\n    <g id=\"xtick_104\">\n     <g id=\"line2d_104\">\n      <g>\n       <use style=\"stroke:#000000;stroke-width:0.8;\" x=\"349.104848\" xlink:href=\"#m19d2ba5c1f\" y=\"224.64\"/>\n      </g>\n     </g>\n     <g id=\"text_104\">\n      <!-- 107 -->\n      <g transform=\"translate(351.690004 248.224375)rotate(-90)scale(0.1 -0.1)\">\n       <use xlink:href=\"#THSarabunNew-49\"/>\n       <use x=\"55.273438\" xlink:href=\"#THSarabunNew-48\"/>\n       <use x=\"110.546875\" xlink:href=\"#THSarabunNew-55\"/>\n      </g>\n     </g>\n    </g>\n    <g id=\"xtick_105\">\n     <g id=\"line2d_105\">\n      <g>\n       <use style=\"stroke:#000000;stroke-width:0.8;\" x=\"352.23382\" xlink:href=\"#m19d2ba5c1f\" y=\"224.64\"/>\n      </g>\n     </g>\n     <g id=\"text_105\">\n      <!-- 111 -->\n      <g transform=\"translate(354.818976 248.224375)rotate(-90)scale(0.1 -0.1)\">\n       <use xlink:href=\"#THSarabunNew-49\"/>\n       <use x=\"55.273438\" xlink:href=\"#THSarabunNew-49\"/>\n       <use x=\"110.546875\" xlink:href=\"#THSarabunNew-49\"/>\n      </g>\n     </g>\n    </g>\n    <g id=\"xtick_106\">\n     <g id=\"line2d_106\">\n      <g>\n       <use style=\"stroke:#000000;stroke-width:0.8;\" x=\"355.362792\" xlink:href=\"#m19d2ba5c1f\" y=\"224.64\"/>\n      </g>\n     </g>\n     <g id=\"text_106\">\n      <!-- 113 -->\n      <g transform=\"translate(357.947948 248.224375)rotate(-90)scale(0.1 -0.1)\">\n       <use xlink:href=\"#THSarabunNew-49\"/>\n       <use x=\"55.273438\" xlink:href=\"#THSarabunNew-49\"/>\n       <use x=\"110.546875\" xlink:href=\"#THSarabunNew-51\"/>\n      </g>\n     </g>\n    </g>\n    <g id=\"xtick_107\">\n     <g id=\"line2d_107\">\n      <g>\n       <use style=\"stroke:#000000;stroke-width:0.8;\" x=\"358.491764\" xlink:href=\"#m19d2ba5c1f\" y=\"224.64\"/>\n      </g>\n     </g>\n     <g id=\"text_107\">\n      <!-- 114 -->\n      <g transform=\"translate(361.07692 248.224375)rotate(-90)scale(0.1 -0.1)\">\n       <use xlink:href=\"#THSarabunNew-49\"/>\n       <use x=\"55.273438\" xlink:href=\"#THSarabunNew-49\"/>\n       <use x=\"110.546875\" xlink:href=\"#THSarabunNew-52\"/>\n      </g>\n     </g>\n    </g>\n   </g>\n   <g id=\"matplotlib.axis_2\">\n    <g id=\"ytick_1\">\n     <g id=\"line2d_108\">\n      <defs>\n       <path d=\"M 0 0 \nL -3.5 0 \n\" id=\"mcba393930a\" style=\"stroke:#000000;stroke-width:0.8;\"/>\n      </defs>\n      <g>\n       <use style=\"stroke:#000000;stroke-width:0.8;\" x=\"25.25625\" xlink:href=\"#mcba393930a\" y=\"224.64\"/>\n      </g>\n     </g>\n     <g id=\"text_108\">\n      <!-- 0 -->\n      <g transform=\"translate(12.728125 228.504844)scale(0.1 -0.1)\">\n       <use xlink:href=\"#THSarabunNew-48\"/>\n      </g>\n     </g>\n    </g>\n    <g id=\"ytick_2\">\n     <g id=\"line2d_109\">\n      <g>\n       <use style=\"stroke:#000000;stroke-width:0.8;\" x=\"25.25625\" xlink:href=\"#mcba393930a\" y=\"178.620952\"/>\n      </g>\n     </g>\n     <g id=\"text_109\">\n      <!-- 10 -->\n      <g transform=\"translate(7.2 182.485796)scale(0.1 -0.1)\">\n       <use xlink:href=\"#THSarabunNew-49\"/>\n       <use x=\"55.273438\" xlink:href=\"#THSarabunNew-48\"/>\n      </g>\n     </g>\n    </g>\n    <g id=\"ytick_3\">\n     <g id=\"line2d_110\">\n      <g>\n       <use style=\"stroke:#000000;stroke-width:0.8;\" x=\"25.25625\" xlink:href=\"#mcba393930a\" y=\"132.601905\"/>\n      </g>\n     </g>\n     <g id=\"text_110\">\n      <!-- 20 -->\n      <g transform=\"translate(7.2 136.466749)scale(0.1 -0.1)\">\n       <use xlink:href=\"#THSarabunNew-50\"/>\n       <use x=\"55.273438\" xlink:href=\"#THSarabunNew-48\"/>\n      </g>\n     </g>\n    </g>\n    <g id=\"ytick_4\">\n     <g id=\"line2d_111\">\n      <g>\n       <use style=\"stroke:#000000;stroke-width:0.8;\" x=\"25.25625\" xlink:href=\"#mcba393930a\" y=\"86.582857\"/>\n      </g>\n     </g>\n     <g id=\"text_111\">\n      <!-- 30 -->\n      <g transform=\"translate(7.2 90.447701)scale(0.1 -0.1)\">\n       <use xlink:href=\"#THSarabunNew-51\"/>\n       <use x=\"55.273438\" xlink:href=\"#THSarabunNew-48\"/>\n      </g>\n     </g>\n    </g>\n    <g id=\"ytick_5\">\n     <g id=\"line2d_112\">\n      <g>\n       <use style=\"stroke:#000000;stroke-width:0.8;\" x=\"25.25625\" xlink:href=\"#mcba393930a\" y=\"40.56381\"/>\n      </g>\n     </g>\n     <g id=\"text_112\">\n      <!-- 40 -->\n      <g transform=\"translate(7.2 44.428653)scale(0.1 -0.1)\">\n       <use xlink:href=\"#THSarabunNew-52\"/>\n       <use x=\"55.273438\" xlink:href=\"#THSarabunNew-48\"/>\n      </g>\n     </g>\n    </g>\n   </g>\n   <g id=\"patch_110\">\n    <path d=\"M 25.25625 224.64 \nL 25.25625 7.2 \n\" style=\"fill:none;stroke:#000000;stroke-linecap:square;stroke-linejoin:miter;stroke-width:0.8;\"/>\n   </g>\n   <g id=\"patch_111\">\n    <path d=\"M 360.05625 224.64 \nL 360.05625 7.2 \n\" style=\"fill:none;stroke:#000000;stroke-linecap:square;stroke-linejoin:miter;stroke-width:0.8;\"/>\n   </g>\n   <g id=\"patch_112\">\n    <path d=\"M 25.25625 224.64 \nL 360.05625 224.64 \n\" style=\"fill:none;stroke:#000000;stroke-linecap:square;stroke-linejoin:miter;stroke-width:0.8;\"/>\n   </g>\n   <g id=\"patch_113\">\n    <path d=\"M 25.25625 7.2 \nL 360.05625 7.2 \n\" style=\"fill:none;stroke:#000000;stroke-linecap:square;stroke-linejoin:miter;stroke-width:0.8;\"/>\n   </g>\n  </g>\n </g>\n <defs>\n  <clipPath id=\"pd05980dfc4\">\n   <rect height=\"217.44\" width=\"334.8\" x=\"25.25625\" y=\"7.2\"/>\n  </clipPath>\n </defs>\n</svg>\n",
      "image/png": "[encoded data removed]"
     },
     "metadata": {
      "needs_background": "light"
     }
    }
   ],
   "source": [
    "merged_df = (\n",
    "    interactions_df[[\"ITEM_ID\", \"USER_ID\"]]\n",
    "    .astype({\"ITEM_ID\": str})\n",
    "    .merge(items_df, left_on=\"ITEM_ID\", right_on=\"ITEM_ID\")\n",
    ")\n",
    "plot_df = merged_df[['USER_ID', 'CATEGORY']].groupby([\"USER_ID\", 'CATEGORY']).apply(set)\n",
    "test_df = merged_df[['USER_ID', 'CATEGORY']].groupby([\"USER_ID\", 'CATEGORY'])\n",
    "test_df.apply(len).value_counts().sort_index().plot.bar()\n",
    "# plot_df.apply(len).value_counts().sort_index().plot.bar()\n",
    "# plt.xlabel(\"Number of different category examined by user.\")\n",
    "# plt.title(\n",
    "#     f\"We should have reduced users to a small number of news\\n\"\n",
    "#     f\"maximum size should be {4+1}\"\n",
    "# )\n",
    "# # The peak at 1 is the male jewellery - there is only one product\n",
    "# plt.show()"
   ]
  },
  {
   "cell_type": "code",
   "execution_count": 15,
   "metadata": {},
   "outputs": [
    {
     "output_type": "execute_result",
     "data": {
      "text/plain": [
       "ITEM_ID\n",
       "00206039-ec7d-4d44-9547-3aa9e83ac196    12\n",
       "007d7139-a4e9-4962-82a5-58bb8e3146fb     4\n",
       "0095f87d-e8ee-4e86-b8e6-27d37622a8f3    11\n",
       "00b75e14-a9c6-4415-8725-da75480175e6    19\n",
       "00eebfe8-d5ce-4e8a-accf-f970bd28cd48    13\n",
       "                                        ..\n",
       "ff41d438-ec07-45ee-80df-6e31c1586a63     4\n",
       "ff4a3bda-2613-4d72-8851-9ca1ebf115b2    17\n",
       "ff611db8-217a-4c35-8d76-a35b11fd60cb    21\n",
       "ff6b2be8-2d3e-4744-a252-e0d87c6a8d11    39\n",
       "fffff3b5-0d8b-4674-bffd-88a88cf81799    27\n",
       "Name: USER_ID, Length: 2425, dtype: int64"
      ]
     },
     "metadata": {},
     "execution_count": 15
    }
   ],
   "source": [
    "interactions_df.groupby(\"ITEM_ID\")[\"USER_ID\"].count()"
   ]
  },
  {
   "cell_type": "code",
   "execution_count": 16,
   "metadata": {},
   "outputs": [
    {
     "output_type": "execute_result",
     "data": {
      "text/plain": [
       "         ITEM_ID  EVENT_TYPE  TIMESTAMP\n",
       "USER_ID                                \n",
       "1            178         178        178\n",
       "2             80          80         80\n",
       "3            133         133        133\n",
       "4            136         136        136\n",
       "5            116         116        116\n",
       "...          ...         ...        ...\n",
       "396          137         137        137\n",
       "397          143         143        143\n",
       "398          123         123        123\n",
       "399          128         128        128\n",
       "400          110         110        110\n",
       "\n",
       "[400 rows x 3 columns]"
      ],
      "text/html": "<div>\n<style scoped>\n    .dataframe tbody tr th:only-of-type {\n        vertical-align: middle;\n    }\n\n    .dataframe tbody tr th {\n        vertical-align: top;\n    }\n\n    .dataframe thead th {\n        text-align: right;\n    }\n</style>\n<table border=\"1\" class=\"dataframe\">\n  <thead>\n    <tr style=\"text-align: right;\">\n      <th></th>\n      <th>ITEM_ID</th>\n      <th>EVENT_TYPE</th>\n      <th>TIMESTAMP</th>\n    </tr>\n    <tr>\n      <th>USER_ID</th>\n      <th></th>\n      <th></th>\n      <th></th>\n    </tr>\n  </thead>\n  <tbody>\n    <tr>\n      <th>1</th>\n      <td>178</td>\n      <td>178</td>\n      <td>178</td>\n    </tr>\n    <tr>\n      <th>2</th>\n      <td>80</td>\n      <td>80</td>\n      <td>80</td>\n    </tr>\n    <tr>\n      <th>3</th>\n      <td>133</td>\n      <td>133</td>\n      <td>133</td>\n    </tr>\n    <tr>\n      <th>4</th>\n      <td>136</td>\n      <td>136</td>\n      <td>136</td>\n    </tr>\n    <tr>\n      <th>5</th>\n      <td>116</td>\n      <td>116</td>\n      <td>116</td>\n    </tr>\n    <tr>\n      <th>...</th>\n      <td>...</td>\n      <td>...</td>\n      <td>...</td>\n    </tr>\n    <tr>\n      <th>396</th>\n      <td>137</td>\n      <td>137</td>\n      <td>137</td>\n    </tr>\n    <tr>\n      <th>397</th>\n      <td>143</td>\n      <td>143</td>\n      <td>143</td>\n    </tr>\n    <tr>\n      <th>398</th>\n      <td>123</td>\n      <td>123</td>\n      <td>123</td>\n    </tr>\n    <tr>\n      <th>399</th>\n      <td>128</td>\n      <td>128</td>\n      <td>128</td>\n    </tr>\n    <tr>\n      <th>400</th>\n      <td>110</td>\n      <td>110</td>\n      <td>110</td>\n    </tr>\n  </tbody>\n</table>\n<p>400 rows × 3 columns</p>\n</div>"
     },
     "metadata": {},
     "execution_count": 16
    }
   ],
   "source": [
    "interactions_df.groupby(\"USER_ID\").count()"
   ]
  },
  {
   "cell_type": "code",
   "execution_count": 17,
   "metadata": {},
   "outputs": [],
   "source": [
    "# merged_df = interactions_df[['ITEM_ID', 'USER_ID']].astype({'ITEM_ID': str}).merge(items_df, left_on='ITEM_ID', right_on='ITEM_ID')[['ITEM_ID', 'CATEGORY', 'USER_ID']]\n",
    "# plot_df = merged_df.groupby(['ITEM_ID', 'CATEGORY'])['USER_ID'].count()\n",
    "# plot_df.unstack().plot.barh(figsize=[8, 16])\n",
    "# plt.title('Balance over products with category coded.')\n",
    "# plt.show()"
   ]
  },
  {
   "cell_type": "code",
   "execution_count": 18,
   "metadata": {},
   "outputs": [
    {
     "output_type": "execute_result",
     "data": {
      "text/plain": [
       "1550"
      ]
     },
     "metadata": {},
     "execution_count": 18
    }
   ],
   "source": [
    "plot_df.count()"
   ]
  },
  {
   "cell_type": "code",
   "execution_count": 19,
   "metadata": {},
   "outputs": [],
   "source": [
    "s3 = boto3.resource(\"s3\")"
   ]
  },
  {
   "cell_type": "code",
   "execution_count": 20,
   "metadata": {},
   "outputs": [
    {
     "output_type": "stream",
     "name": "stdout",
     "text": [
      "Bucket spent-service-personalize-datasets already exists!\n"
     ]
    }
   ],
   "source": [
    "try:\n",
    "    s3.create_bucket(\n",
    "        Bucket=bucket,\n",
    "        CreateBucketConfiguration={\n",
    "            \"LocationConstraint\": \"ap-southeast-1\",\n",
    "        },\n",
    "    )\n",
    "except botocore.exceptions.ClientError as err:\n",
    "    print(\"Bucket {} already exists!\".format(err.response['Error']['BucketName']))\n",
    "#     raise err"
   ]
  },
  {
   "cell_type": "code",
   "execution_count": 21,
   "metadata": {},
   "outputs": [],
   "source": [
    "boto3.Session().resource(\"s3\").Bucket(bucket).Object(users_filename).upload_file(\n",
    "    users_filename\n",
    ")"
   ]
  },
  {
   "cell_type": "code",
   "execution_count": 22,
   "metadata": {},
   "outputs": [],
   "source": [
    "boto3.Session().resource(\"s3\").Bucket(bucket).Object(items_filename).upload_file(\n",
    "    items_filename\n",
    ")"
   ]
  },
  {
   "cell_type": "code",
   "execution_count": 23,
   "metadata": {},
   "outputs": [],
   "source": [
    "boto3.Session().resource(\"s3\").Bucket(bucket).Object(interactions_filename).upload_file(\n",
    "    interactions_filename\n",
    ")"
   ]
  },
  {
   "cell_type": "markdown",
   "metadata": {},
   "source": [
    "## Configure Amazon Personalize\n",
    "\n",
    "Now that we've prepared our three datasets and uploaded them to S3 we'll need to configure the Amazon Personalize service to understand our data so that it can be used to train models for generating recommendations.\n",
    "\n",
    "If Personalize was enabled when you deployed the demo, the below logic was run by polling AWS Lambda function whose code is in the file `src/aws-lambda/personalize-pre-create-campaigns/personalize-pre-create-campaigns.py`."
   ]
  },
  {
   "cell_type": "markdown",
   "metadata": {},
   "source": [
    "### Create Schemas for Datasets\n",
    "\n",
    "Amazon Personalize requires a schema for each dataset so it can map the columns in our CSVs to fields for model training. Each schema is declared in JSON using the [Apache Avro](https://avro.apache.org/) format.\n",
    "\n",
    "Let's define and create schemas in Personalize for our datasets."
   ]
  },
  {
   "cell_type": "code",
   "execution_count": 24,
   "metadata": {},
   "outputs": [],
   "source": [
    "items_schema_name = \"spent-personalize-schema-items-3\"\n",
    "users_schema_name = \"spent-personalize-schema-users-3\"\n",
    "interactions_schema_name = \"spent-personalize-schema-interactions-3\""
   ]
  },
  {
   "cell_type": "code",
   "execution_count": 25,
   "metadata": {},
   "outputs": [],
   "source": [
    "# personalize.delete_schema(schemaArn='arn:aws:personalize:ap-southeast-1:268400237357:schema/' + items_schema_name)\n",
    "# personalize.delete_schema(schemaArn='arn:aws:personalize:ap-southeast-1:268400237357:schema/' + users_schema_name)\n",
    "# personalize.delete_schema(schemaArn='arn:aws:personalize:ap-southeast-1:268400237357:schema/' + interactions_schema_name)"
   ]
  },
  {
   "cell_type": "code",
   "execution_count": 26,
   "metadata": {},
   "outputs": [
    {
     "output_type": "stream",
     "name": "stdout",
     "text": [
      "{\n  \"schemaArn\": \"arn:aws:personalize:ap-southeast-1:268400237357:schema/spent-personalize-schema-items-3\",\n  \"ResponseMetadata\": {\n    \"RequestId\": \"d5a98a0d-6d9f-4fea-8420-f6ae001f5ac0\",\n    \"HTTPStatusCode\": 200,\n    \"HTTPHeaders\": {\n      \"content-type\": \"application/x-amz-json-1.1\",\n      \"date\": \"Tue, 09 Mar 2021 06:27:44 GMT\",\n      \"x-amzn-requestid\": \"d5a98a0d-6d9f-4fea-8420-f6ae001f5ac0\",\n      \"content-length\": \"103\",\n      \"connection\": \"keep-alive\"\n    },\n    \"RetryAttempts\": 0\n  }\n}\n"
     ]
    }
   ],
   "source": [
    "items_schema = {\n",
    "    \"type\": \"record\",\n",
    "    \"name\": \"Items\",\n",
    "    \"namespace\": \"com.amazonaws.personalize.schema\",\n",
    "    \"fields\": [\n",
    "        {\"name\": \"ITEM_ID\", \"type\": \"string\"},\n",
    "        {\n",
    "            \"name\": \"CATEGORY\",\n",
    "            \"type\": \"string\",\n",
    "            \"categorical\": True,\n",
    "        },\n",
    "        {\n",
    "            \"name\": \"CREATION_TIMESTAMP\",\n",
    "            \"type\": \"long\"\n",
    "        },\n",
    "        {\n",
    "            \"name\": \"TAGS\",\n",
    "            \"type\": [\"string\", \"null\"],\n",
    "        },\n",
    "        {\n",
    "            \"name\": \"SOURCE\",\n",
    "            \"type\": \"string\",\n",
    "        },\n",
    "    ],\n",
    "    \"version\": \"1.0\",\n",
    "}\n",
    "\n",
    "try:\n",
    "    create_schema_response = personalize.create_schema(\n",
    "        name=items_schema_name, schema=json.dumps(items_schema)\n",
    "    )\n",
    "    items_schema_arn = create_schema_response[\"schemaArn\"]\n",
    "    print(json.dumps(create_schema_response, indent=2))\n",
    "\n",
    "except personalize.exceptions.ResourceAlreadyExistsException:\n",
    "    print(\"You aready created this schema, seemingly\")\n",
    "    schemas = personalize.list_schemas(maxResults=100)[\"schemas\"]\n",
    "    for schema_response in schemas:\n",
    "        if schema_response[\"name\"] == items_schema_name:\n",
    "            items_schema_arn = schema_response[\"schemaArn\"]\n",
    "            print(f\"Using existing schema: {items_schema_arn}\")"
   ]
  },
  {
   "cell_type": "code",
   "execution_count": 27,
   "metadata": {},
   "outputs": [
    {
     "output_type": "stream",
     "name": "stdout",
     "text": [
      "{\n  \"schemaArn\": \"arn:aws:personalize:ap-southeast-1:268400237357:schema/spent-personalize-schema-users-3\",\n  \"ResponseMetadata\": {\n    \"RequestId\": \"992dee4b-4977-4c1c-831a-7bc743275a8e\",\n    \"HTTPStatusCode\": 200,\n    \"HTTPHeaders\": {\n      \"content-type\": \"application/x-amz-json-1.1\",\n      \"date\": \"Tue, 09 Mar 2021 06:27:47 GMT\",\n      \"x-amzn-requestid\": \"992dee4b-4977-4c1c-831a-7bc743275a8e\",\n      \"content-length\": \"103\",\n      \"connection\": \"keep-alive\"\n    },\n    \"RetryAttempts\": 0\n  }\n}\n"
     ]
    }
   ],
   "source": [
    "users_schema = {\n",
    "    \"type\": \"record\",\n",
    "    \"name\": \"Users\",\n",
    "    \"namespace\": \"com.amazonaws.personalize.schema\",\n",
    "    \"fields\": [\n",
    "        {\"name\": \"USER_ID\", \"type\": \"string\"},\n",
    "        {\"name\": \"AGE\", \"type\": \"int\"},\n",
    "        {\n",
    "            \"name\": \"GENDER\",\n",
    "            \"type\": \"string\",\n",
    "        },\n",
    "    ],\n",
    "    \"version\": \"1.0\",\n",
    "}\n",
    "\n",
    "try:\n",
    "    create_schema_response = personalize.create_schema(\n",
    "        name=users_schema_name, schema=json.dumps(users_schema)\n",
    "    )\n",
    "    print(json.dumps(create_schema_response, indent=2))\n",
    "    users_schema_arn = create_schema_response[\"schemaArn\"]\n",
    "\n",
    "except personalize.exceptions.ResourceAlreadyExistsException:\n",
    "    print(\"You aready created this schema, seemingly\")\n",
    "    schemas = personalize.list_schemas(maxResults=100)[\"schemas\"]\n",
    "    for schema_response in schemas:\n",
    "        if schema_response[\"name\"] == users_schema_name:\n",
    "            users_schema_arn = schema_response[\"schemaArn\"]\n",
    "            print(f\"Using existing schema: {users_schema_arn}\")"
   ]
  },
  {
   "cell_type": "code",
   "execution_count": 28,
   "metadata": {},
   "outputs": [
    {
     "output_type": "stream",
     "name": "stdout",
     "text": [
      "{\n  \"schemaArn\": \"arn:aws:personalize:ap-southeast-1:268400237357:schema/spent-personalize-schema-interactions-3\",\n  \"ResponseMetadata\": {\n    \"RequestId\": \"87a0b530-6799-49d4-a8da-c144abca865b\",\n    \"HTTPStatusCode\": 200,\n    \"HTTPHeaders\": {\n      \"content-type\": \"application/x-amz-json-1.1\",\n      \"date\": \"Tue, 09 Mar 2021 06:27:53 GMT\",\n      \"x-amzn-requestid\": \"87a0b530-6799-49d4-a8da-c144abca865b\",\n      \"content-length\": \"110\",\n      \"connection\": \"keep-alive\"\n    },\n    \"RetryAttempts\": 0\n  }\n}\n"
     ]
    }
   ],
   "source": [
    "interactions_schema = {\n",
    "    \"type\": \"record\",\n",
    "    \"name\": \"Interactions\",\n",
    "    \"namespace\": \"com.amazonaws.personalize.schema\",\n",
    "    \"fields\": [\n",
    "        {\"name\": \"ITEM_ID\", \"type\": \"string\"},\n",
    "        {\"name\": \"USER_ID\", \"type\": \"string\"},\n",
    "        {\"name\": \"EVENT_TYPE\", \"type\": \"string\"},\n",
    "        {\"name\": \"TIMESTAMP\", \"type\": \"long\"},\n",
    "    ],\n",
    "    \"version\": \"1.0\",\n",
    "}\n",
    "\n",
    "try:\n",
    "    create_schema_response = personalize.create_schema(\n",
    "        name=interactions_schema_name, schema=json.dumps(interactions_schema)\n",
    "    )\n",
    "    print(json.dumps(create_schema_response, indent=2))\n",
    "    interactions_schema_arn = create_schema_response[\"schemaArn\"]\n",
    "except personalize.exceptions.ResourceAlreadyExistsException:\n",
    "    print(\"You aready created this schema, seemingly\")\n",
    "    schemas = personalize.list_schemas(maxResults=100)[\"schemas\"]\n",
    "    for schema_response in schemas:\n",
    "        if schema_response[\"name\"] == interactions_schema_name:\n",
    "            interactions_schema_arn = schema_response[\"schemaArn\"]\n",
    "            print(f\"Using existing schema: {interactions_schema_arn}\")"
   ]
  },
  {
   "cell_type": "markdown",
   "metadata": {},
   "source": [
    "### Create Dataset Group\n",
    "\n",
    "Next we will create the datasets in Personalize for our three dataset types. Let's start with the items dataset."
   ]
  },
  {
   "cell_type": "code",
   "execution_count": 29,
   "metadata": {},
   "outputs": [],
   "source": [
    "dataset_group_name = \"spent-2\"\n",
    "items_dataset_name = \"spent-personalize-dataset-items\"\n",
    "users_dataset_name = \"spent-personalize-dataset-users\"\n",
    "interactions_dataset_name = \"spent-personalize-dataset-interactions\""
   ]
  },
  {
   "cell_type": "code",
   "execution_count": 30,
   "metadata": {},
   "outputs": [
    {
     "output_type": "stream",
     "name": "stdout",
     "text": [
      "{\n  \"datasetGroupArn\": \"arn:aws:personalize:ap-southeast-1:268400237357:dataset-group/spent-2\",\n  \"ResponseMetadata\": {\n    \"RequestId\": \"003a110b-8c1e-4c3a-a8bb-afddb1b01ed7\",\n    \"HTTPStatusCode\": 200,\n    \"HTTPHeaders\": {\n      \"content-type\": \"application/x-amz-json-1.1\",\n      \"date\": \"Tue, 09 Mar 2021 06:28:16 GMT\",\n      \"x-amzn-requestid\": \"003a110b-8c1e-4c3a-a8bb-afddb1b01ed7\",\n      \"content-length\": \"91\",\n      \"connection\": \"keep-alive\"\n    },\n    \"RetryAttempts\": 0\n  }\n}\nDatasetGroupArn = arn:aws:personalize:ap-southeast-1:268400237357:dataset-group/spent-2\n"
     ]
    }
   ],
   "source": [
    "create_dataset_group_response = personalize.create_dataset_group(\n",
    "    name=dataset_group_name\n",
    ")\n",
    "\n",
    "dataset_group_arn = create_dataset_group_response[\"datasetGroupArn\"]\n",
    "print(json.dumps(create_dataset_group_response, indent=2))\n",
    "\n",
    "print(f\"DatasetGroupArn = {dataset_group_arn}\")"
   ]
  },
  {
   "cell_type": "code",
   "execution_count": 31,
   "metadata": {},
   "outputs": [
    {
     "output_type": "stream",
     "name": "stdout",
     "text": [
      "DatasetGroup: CREATE PENDING\n",
      "DatasetGroup: CREATE PENDING\n",
      "DatasetGroup: ACTIVE\n"
     ]
    }
   ],
   "source": [
    "status = None\n",
    "max_time = time.time() + 3 * 60 * 60  # 3 hours\n",
    "while time.time() < max_time:\n",
    "    describe_dataset_group_response = personalize.describe_dataset_group(\n",
    "        datasetGroupArn=dataset_group_arn\n",
    "    )\n",
    "    status = describe_dataset_group_response[\"datasetGroup\"][\"status\"]\n",
    "    print(\"DatasetGroup: {}\".format(status))\n",
    "\n",
    "    if status == \"ACTIVE\" or status == \"CREATE FAILED\":\n",
    "        break\n",
    "\n",
    "    time.sleep(15)"
   ]
  },
  {
   "cell_type": "markdown",
   "metadata": {},
   "source": [
    "## Create Items Dataset"
   ]
  },
  {
   "cell_type": "code",
   "execution_count": 32,
   "metadata": {},
   "outputs": [
    {
     "output_type": "stream",
     "name": "stdout",
     "text": [
      "{\n  \"datasetArn\": \"arn:aws:personalize:ap-southeast-1:268400237357:dataset/spent-2/ITEMS\",\n  \"ResponseMetadata\": {\n    \"RequestId\": \"c8877dd5-4e98-4963-b7ef-226539f54cb6\",\n    \"HTTPStatusCode\": 200,\n    \"HTTPHeaders\": {\n      \"content-type\": \"application/x-amz-json-1.1\",\n      \"date\": \"Tue, 09 Mar 2021 06:29:51 GMT\",\n      \"x-amzn-requestid\": \"c8877dd5-4e98-4963-b7ef-226539f54cb6\",\n      \"content-length\": \"86\",\n      \"connection\": \"keep-alive\"\n    },\n    \"RetryAttempts\": 0\n  }\n}\n"
     ]
    }
   ],
   "source": [
    "dataset_type = \"ITEMS\"\n",
    "create_dataset_response = personalize.create_dataset(\n",
    "    name=items_dataset_name,\n",
    "    datasetType=dataset_type,\n",
    "    datasetGroupArn=dataset_group_arn,\n",
    "    schemaArn=items_schema_arn,\n",
    ")\n",
    "\n",
    "items_dataset_arn = create_dataset_response[\"datasetArn\"]\n",
    "print(json.dumps(create_dataset_response, indent=2))"
   ]
  },
  {
   "cell_type": "markdown",
   "metadata": {},
   "source": [
    "## Create Users Dataset"
   ]
  },
  {
   "cell_type": "code",
   "execution_count": 33,
   "metadata": {},
   "outputs": [
    {
     "output_type": "stream",
     "name": "stdout",
     "text": [
      "{\n  \"datasetArn\": \"arn:aws:personalize:ap-southeast-1:268400237357:dataset/spent-2/USERS\",\n  \"ResponseMetadata\": {\n    \"RequestId\": \"d90ccb32-c7c6-4c1d-96b1-779d3de6f1b1\",\n    \"HTTPStatusCode\": 200,\n    \"HTTPHeaders\": {\n      \"content-type\": \"application/x-amz-json-1.1\",\n      \"date\": \"Tue, 09 Mar 2021 06:30:06 GMT\",\n      \"x-amzn-requestid\": \"d90ccb32-c7c6-4c1d-96b1-779d3de6f1b1\",\n      \"content-length\": \"86\",\n      \"connection\": \"keep-alive\"\n    },\n    \"RetryAttempts\": 0\n  }\n}\n"
     ]
    }
   ],
   "source": [
    "dataset_type = \"USERS\"\n",
    "create_dataset_response = personalize.create_dataset(\n",
    "    name=users_dataset_name,\n",
    "    datasetType=dataset_type,\n",
    "    datasetGroupArn=dataset_group_arn,\n",
    "    schemaArn=users_schema_arn,\n",
    ")\n",
    "\n",
    "users_dataset_arn = create_dataset_response[\"datasetArn\"]\n",
    "print(json.dumps(create_dataset_response, indent=2))"
   ]
  },
  {
   "cell_type": "markdown",
   "metadata": {},
   "source": [
    "## Create Interactions Dataset"
   ]
  },
  {
   "cell_type": "code",
   "execution_count": 34,
   "metadata": {},
   "outputs": [
    {
     "output_type": "stream",
     "name": "stdout",
     "text": [
      "{\n  \"datasetArn\": \"arn:aws:personalize:ap-southeast-1:268400237357:dataset/spent-2/INTERACTIONS\",\n  \"ResponseMetadata\": {\n    \"RequestId\": \"6dc800a6-c256-45c6-a75d-d7d52bba0836\",\n    \"HTTPStatusCode\": 200,\n    \"HTTPHeaders\": {\n      \"content-type\": \"application/x-amz-json-1.1\",\n      \"date\": \"Tue, 09 Mar 2021 06:30:08 GMT\",\n      \"x-amzn-requestid\": \"6dc800a6-c256-45c6-a75d-d7d52bba0836\",\n      \"content-length\": \"93\",\n      \"connection\": \"keep-alive\"\n    },\n    \"RetryAttempts\": 0\n  }\n}\n"
     ]
    }
   ],
   "source": [
    "dataset_type = \"INTERACTIONS\"\n",
    "create_dataset_response = personalize.create_dataset(\n",
    "    name=interactions_dataset_name,\n",
    "    datasetType=dataset_type,\n",
    "    datasetGroupArn=dataset_group_arn,\n",
    "    schemaArn=interactions_schema_arn,\n",
    ")\n",
    "\n",
    "interactions_dataset_arn = create_dataset_response[\"datasetArn\"]\n",
    "print(json.dumps(create_dataset_response, indent=2))"
   ]
  },
  {
   "cell_type": "markdown",
   "metadata": {},
   "source": [
    "## Import Datasets to Personalize\n",
    "\n",
    "Up to this point we have generated CSVs containing data for our users, items, and interactions and staged them in an S3 bucket. We also created schemas in Personalize that define the columns in our CSVs. Then we created a datset group and three datasets in Personalize that will receive our data. In the following steps we will create import jobs with Personalize that will import the datasets from our S3 bucket into the service.\n",
    "\n",
    "### Setup Permissions\n",
    "\n",
    "By default, the Personalize service does not have permission to acccess the data we uploaded into the S3 bucket in our account. In order to grant access to the  Personalize service to read our CSVs, we need to set a Bucket Policy and create an IAM role that the Amazon Personalize service will assume."
   ]
  },
  {
   "cell_type": "markdown",
   "metadata": {},
   "source": [
    "#### Attach policy to S3 bucket"
   ]
  },
  {
   "cell_type": "code",
   "execution_count": 35,
   "metadata": {},
   "outputs": [],
   "source": [
    "s3 = boto3.client(\"s3\")\n",
    "\n",
    "policy = {\n",
    "    \"Version\": \"2012-10-17\",\n",
    "    \"Id\": \"PersonalizeS3BucketAccessPolicy\",\n",
    "    \"Statement\": [\n",
    "        {\n",
    "            \"Sid\": \"PersonalizeS3BucketAccessPolicy\",\n",
    "            \"Effect\": \"Allow\",\n",
    "            \"Principal\": {\"Service\": \"personalize.amazonaws.com\"},\n",
    "            \"Action\": [\"s3:GetObject\", \"s3:ListBucket\"],\n",
    "            \"Resource\": [\n",
    "                \"arn:aws:s3:::{}\".format(bucket),\n",
    "                \"arn:aws:s3:::{}/*\".format(bucket),\n",
    "            ],\n",
    "        }\n",
    "    ],\n",
    "}\n",
    "\n",
    "s3.put_bucket_policy(Bucket=bucket, Policy=json.dumps(policy));"
   ]
  },
  {
   "cell_type": "markdown",
   "metadata": {},
   "source": [
    "#### Create S3 Read Only Access Role"
   ]
  },
  {
   "cell_type": "code",
   "execution_count": 36,
   "metadata": {},
   "outputs": [
    {
     "output_type": "stream",
     "name": "stdout",
     "text": [
      "IAM Role: arn:aws:iam::268400237357:role/Spent-PersonalizeS3-spent-2\n",
      "Done.\n"
     ]
    }
   ],
   "source": [
    "iam = boto3.client(\"iam\")\n",
    "\n",
    "role_name = \"Spent\" + \"-PersonalizeS3-\" + dataset_group_name\n",
    "assume_role_policy_document = {\n",
    "    \"Version\": \"2012-10-17\",\n",
    "    \"Statement\": [\n",
    "        {\n",
    "            \"Effect\": \"Allow\",\n",
    "            \"Principal\": {\"Service\": \"personalize.amazonaws.com\"},\n",
    "            \"Action\": \"sts:AssumeRole\",\n",
    "        }\n",
    "    ],\n",
    "}\n",
    "\n",
    "try:\n",
    "    create_role_response = iam.create_role(\n",
    "        RoleName=role_name,\n",
    "        AssumeRolePolicyDocument=json.dumps(assume_role_policy_document),\n",
    "    )\n",
    "\n",
    "except iam.exceptions.EntityAlreadyExistsException as e:\n",
    "    print(\"Warning: role already exists:\", e)\n",
    "    create_role_response = iam.get_role(RoleName=role_name)\n",
    "\n",
    "role_arn = create_role_response[\"Role\"][\"Arn\"]\n",
    "\n",
    "print(\"IAM Role: {}\".format(role_arn))\n",
    "\n",
    "attach_response = iam.attach_role_policy(\n",
    "    RoleName=role_name, PolicyArn=\"arn:aws:iam::aws:policy/AmazonS3ReadOnlyAccess\"\n",
    ")\n",
    "\n",
    "role_arn = create_role_response[\"Role\"][\"Arn\"]\n",
    "\n",
    "# Pause to allow role to be fully consistent\n",
    "time.sleep(30)\n",
    "print(\"Done.\")"
   ]
  },
  {
   "cell_type": "markdown",
   "metadata": {},
   "source": [
    "### Create Import Jobs\n",
    "\n",
    "With the permissions in place to allow Personalize to access our CSV files, let's create three import jobs to import each file into its respective dataset. Each import job can take several minutes to complete so we'll create all three and then wait for them all to complete."
   ]
  },
  {
   "cell_type": "markdown",
   "metadata": {},
   "source": [
    "#### Create Items Dataset Import Job"
   ]
  },
  {
   "cell_type": "code",
   "execution_count": 37,
   "metadata": {},
   "outputs": [
    {
     "output_type": "stream",
     "name": "stdout",
     "text": [
      "{\n  \"datasetImportJobArn\": \"arn:aws:personalize:ap-southeast-1:268400237357:dataset-import-job/spent-2spent-dataset-items-import\",\n  \"ResponseMetadata\": {\n    \"RequestId\": \"ab48341d-cd61-437b-8a08-af858354a96d\",\n    \"HTTPStatusCode\": 200,\n    \"HTTPHeaders\": {\n      \"content-type\": \"application/x-amz-json-1.1\",\n      \"date\": \"Tue, 09 Mar 2021 06:30:55 GMT\",\n      \"x-amzn-requestid\": \"ab48341d-cd61-437b-8a08-af858354a96d\",\n      \"content-length\": \"126\",\n      \"connection\": \"keep-alive\"\n    },\n    \"RetryAttempts\": 0\n  }\n}\n"
     ]
    }
   ],
   "source": [
    "items_create_dataset_import_job_response = personalize.create_dataset_import_job(\n",
    "    jobName=dataset_group_name + \"spent-dataset-items-import\",\n",
    "    datasetArn=items_dataset_arn,\n",
    "    dataSource={\"dataLocation\": \"s3://{}/{}\".format(bucket, items_filename)},\n",
    "    roleArn=role_arn,\n",
    ")\n",
    "\n",
    "items_dataset_import_job_arn = items_create_dataset_import_job_response[\n",
    "    \"datasetImportJobArn\"\n",
    "]\n",
    "print(json.dumps(items_create_dataset_import_job_response, indent=2))"
   ]
  },
  {
   "cell_type": "markdown",
   "metadata": {},
   "source": [
    "#### Create Users Dataset Import Job"
   ]
  },
  {
   "cell_type": "code",
   "execution_count": 38,
   "metadata": {},
   "outputs": [
    {
     "output_type": "stream",
     "name": "stdout",
     "text": [
      "{\n  \"datasetImportJobArn\": \"arn:aws:personalize:ap-southeast-1:268400237357:dataset-import-job/spent-2spent-dataset-users-import\",\n  \"ResponseMetadata\": {\n    \"RequestId\": \"4fc4e2aa-d298-46d3-b0a4-7fb3686259e8\",\n    \"HTTPStatusCode\": 200,\n    \"HTTPHeaders\": {\n      \"content-type\": \"application/x-amz-json-1.1\",\n      \"date\": \"Tue, 09 Mar 2021 06:30:56 GMT\",\n      \"x-amzn-requestid\": \"4fc4e2aa-d298-46d3-b0a4-7fb3686259e8\",\n      \"content-length\": \"126\",\n      \"connection\": \"keep-alive\"\n    },\n    \"RetryAttempts\": 0\n  }\n}\n"
     ]
    }
   ],
   "source": [
    "users_create_dataset_import_job_response = personalize.create_dataset_import_job(\n",
    "    jobName=dataset_group_name + \"spent-dataset-users-import\",\n",
    "    datasetArn=users_dataset_arn,\n",
    "    dataSource={\"dataLocation\": \"s3://{}/{}\".format(bucket, users_filename)},\n",
    "    roleArn=role_arn,\n",
    ")\n",
    "\n",
    "users_dataset_import_job_arn = users_create_dataset_import_job_response[\n",
    "    \"datasetImportJobArn\"\n",
    "]\n",
    "print(json.dumps(users_create_dataset_import_job_response, indent=2))"
   ]
  },
  {
   "cell_type": "markdown",
   "metadata": {},
   "source": [
    "#### Create Interactions Dataset Import Job"
   ]
  },
  {
   "cell_type": "code",
   "execution_count": 39,
   "metadata": {},
   "outputs": [
    {
     "output_type": "stream",
     "name": "stdout",
     "text": [
      "{\n  \"datasetImportJobArn\": \"arn:aws:personalize:ap-southeast-1:268400237357:dataset-import-job/spent-2spent-dataset-interactions-import\",\n  \"ResponseMetadata\": {\n    \"RequestId\": \"7c05e926-33dc-4e28-b398-1c34064cea56\",\n    \"HTTPStatusCode\": 200,\n    \"HTTPHeaders\": {\n      \"content-type\": \"application/x-amz-json-1.1\",\n      \"date\": \"Tue, 09 Mar 2021 06:30:56 GMT\",\n      \"x-amzn-requestid\": \"7c05e926-33dc-4e28-b398-1c34064cea56\",\n      \"content-length\": \"133\",\n      \"connection\": \"keep-alive\"\n    },\n    \"RetryAttempts\": 0\n  }\n}\n"
     ]
    }
   ],
   "source": [
    "interactions_create_dataset_import_job_response = personalize.create_dataset_import_job(\n",
    "    jobName=dataset_group_name + \"spent-dataset-interactions-import\",\n",
    "    datasetArn=interactions_dataset_arn,\n",
    "    dataSource={\"dataLocation\": \"s3://{}/{}\".format(bucket, interactions_filename)},\n",
    "    roleArn=role_arn,\n",
    ")\n",
    "\n",
    "interactions_dataset_import_job_arn = interactions_create_dataset_import_job_response[\n",
    "    \"datasetImportJobArn\"\n",
    "]\n",
    "print(json.dumps(interactions_create_dataset_import_job_response, indent=2))"
   ]
  },
  {
   "cell_type": "markdown",
   "metadata": {},
   "source": [
    "#### Wait for Import Job to Complete"
   ]
  },
  {
   "cell_type": "code",
   "execution_count": 40,
   "metadata": {},
   "outputs": [
    {
     "output_type": "stream",
     "name": "stdout",
     "text": [
      "At least one dataset import job still in progress\n",
      "At least one dataset import job still in progress\n",
      "At least one dataset import job still in progress\n",
      "At least one dataset import job still in progress\n",
      "At least one dataset import job still in progress\n",
      "At least one dataset import job still in progress\n",
      "At least one dataset import job still in progress\n",
      "At least one dataset import job still in progress\n",
      "At least one dataset import job still in progress\n",
      "At least one dataset import job still in progress\n",
      "At least one dataset import job still in progress\n",
      "At least one dataset import job still in progress\n",
      "At least one dataset import job still in progress\n",
      "At least one dataset import job still in progress\n",
      "Import job arn:aws:personalize:ap-southeast-1:268400237357:dataset-import-job/spent-2spent-dataset-interactions-import successfully completed\n",
      "Import job arn:aws:personalize:ap-southeast-1:268400237357:dataset-import-job/spent-2spent-dataset-items-import successfully completed\n",
      "At least one dataset import job still in progress\n",
      "Import job arn:aws:personalize:ap-southeast-1:268400237357:dataset-import-job/spent-2spent-dataset-users-import successfully completed\n",
      "All import jobs have ended\n",
      "CPU times: user 347 ms, sys: 15.6 ms, total: 363 ms\n",
      "Wall time: 15min 6s\n"
     ]
    }
   ],
   "source": [
    "%%time\n",
    "\n",
    "import_job_arns = [\n",
    "    items_dataset_import_job_arn,\n",
    "    users_dataset_import_job_arn,\n",
    "    interactions_dataset_import_job_arn,\n",
    "]\n",
    "\n",
    "max_time = time.time() + 3 * 60 * 60  # 3 hours\n",
    "while time.time() < max_time:\n",
    "    for job_arn in reversed(import_job_arns):\n",
    "        import_job_response = personalize.describe_dataset_import_job(\n",
    "            datasetImportJobArn=job_arn\n",
    "        )\n",
    "        status = import_job_response[\"datasetImportJob\"][\"status\"]\n",
    "\n",
    "        if status == \"ACTIVE\":\n",
    "            print(f\"Import job {job_arn} successfully completed\")\n",
    "            import_job_arns.remove(job_arn)\n",
    "        elif status == \"CREATE FAILED\":\n",
    "            print(f\"Import job {job_arn} failed\")\n",
    "            if import_job_response.get(\"failureReason\"):\n",
    "                print(\"   Reason: \" + import_job_response[\"failureReason\"])\n",
    "            import_job_arns.remove(job_arn)\n",
    "\n",
    "    if len(import_job_arns) > 0:\n",
    "        print(\"At least one dataset import job still in progress\")\n",
    "        time.sleep(60)\n",
    "    else:\n",
    "        print(\"All import jobs have ended\")\n",
    "        break"
   ]
  },
  {
   "cell_type": "markdown",
   "metadata": {},
   "source": [
    "## Create Solutions\n",
    "\n",
    "With our three datasets imported into our dataset group, we can now turn to training models. As a reminder, we will be training three models in this workshop to support four different personalization use-cases wth three different models. One model will be used to make related product recommendations on the product detail view/page, another model will be used to make personalized product recommendations to users on the homepage, and the last model will be used to rerank product lists on the category and featured products page. This last model will be repurposed to offer discounts to users. In Amazon Personalize, training a model involves creating a Solution and Solution Version. So when we are finished we will have three solutions and a solution version for each solution. \n",
    "\n",
    "When creating a solution, you provide your dataset group and the recipe for training. Let's declare the recipes that we will need for our solutions."
   ]
  },
  {
   "cell_type": "markdown",
   "metadata": {},
   "source": [
    "### List Recipes\n",
    "\n",
    "First, let's list all available recipes."
   ]
  },
  {
   "cell_type": "code",
   "execution_count": 41,
   "metadata": {},
   "outputs": [
    {
     "output_type": "execute_result",
     "data": {
      "text/plain": [
       "{'recipes': [{'name': 'aws-hrnn',\n",
       "   'recipeArn': 'arn:aws:personalize:::recipe/aws-hrnn',\n",
       "   'status': 'ACTIVE',\n",
       "   'creationDateTime': datetime.datetime(2019, 6, 10, 7, 0, tzinfo=tzlocal()),\n",
       "   'lastUpdatedDateTime': datetime.datetime(2021, 2, 8, 5, 43, 33, 732000, tzinfo=tzlocal())},\n",
       "  {'name': 'aws-hrnn-coldstart',\n",
       "   'recipeArn': 'arn:aws:personalize:::recipe/aws-hrnn-coldstart',\n",
       "   'status': 'ACTIVE',\n",
       "   'creationDateTime': datetime.datetime(2019, 6, 10, 7, 0, tzinfo=tzlocal()),\n",
       "   'lastUpdatedDateTime': datetime.datetime(2021, 2, 8, 5, 43, 33, 732000, tzinfo=tzlocal())},\n",
       "  {'name': 'aws-hrnn-metadata',\n",
       "   'recipeArn': 'arn:aws:personalize:::recipe/aws-hrnn-metadata',\n",
       "   'status': 'ACTIVE',\n",
       "   'creationDateTime': datetime.datetime(2019, 6, 10, 7, 0, tzinfo=tzlocal()),\n",
       "   'lastUpdatedDateTime': datetime.datetime(2021, 2, 8, 5, 43, 33, 732000, tzinfo=tzlocal())},\n",
       "  {'name': 'aws-personalized-ranking',\n",
       "   'recipeArn': 'arn:aws:personalize:::recipe/aws-personalized-ranking',\n",
       "   'status': 'ACTIVE',\n",
       "   'creationDateTime': datetime.datetime(2019, 6, 10, 7, 0, tzinfo=tzlocal()),\n",
       "   'lastUpdatedDateTime': datetime.datetime(2021, 2, 8, 5, 43, 33, 732000, tzinfo=tzlocal())},\n",
       "  {'name': 'aws-popularity-count',\n",
       "   'recipeArn': 'arn:aws:personalize:::recipe/aws-popularity-count',\n",
       "   'status': 'ACTIVE',\n",
       "   'creationDateTime': datetime.datetime(2019, 6, 10, 7, 0, tzinfo=tzlocal()),\n",
       "   'lastUpdatedDateTime': datetime.datetime(2021, 2, 8, 5, 43, 33, 732000, tzinfo=tzlocal())},\n",
       "  {'name': 'aws-sims',\n",
       "   'recipeArn': 'arn:aws:personalize:::recipe/aws-sims',\n",
       "   'status': 'ACTIVE',\n",
       "   'creationDateTime': datetime.datetime(2019, 6, 10, 7, 0, tzinfo=tzlocal()),\n",
       "   'lastUpdatedDateTime': datetime.datetime(2021, 2, 8, 5, 43, 33, 732000, tzinfo=tzlocal())},\n",
       "  {'name': 'aws-user-personalization',\n",
       "   'recipeArn': 'arn:aws:personalize:::recipe/aws-user-personalization',\n",
       "   'status': 'ACTIVE',\n",
       "   'creationDateTime': datetime.datetime(2019, 6, 10, 7, 0, tzinfo=tzlocal()),\n",
       "   'lastUpdatedDateTime': datetime.datetime(2021, 2, 8, 5, 43, 33, 732000, tzinfo=tzlocal())}],\n",
       " 'ResponseMetadata': {'RequestId': '5dc40c76-3a09-4c40-9e00-d55c6d606d82',\n",
       "  'HTTPStatusCode': 200,\n",
       "  'HTTPHeaders': {'content-type': 'application/x-amz-json-1.1',\n",
       "   'date': 'Tue, 09 Mar 2021 06:46:04 GMT',\n",
       "   'x-amzn-requestid': '5dc40c76-3a09-4c40-9e00-d55c6d606d82',\n",
       "   'content-length': '1259',\n",
       "   'connection': 'keep-alive'},\n",
       "  'RetryAttempts': 0}}"
      ]
     },
     "metadata": {},
     "execution_count": 41
    }
   ],
   "source": [
    "list_recipes_response = personalize.list_recipes()\n",
    "list_recipes_response"
   ]
  },
  {
   "cell_type": "markdown",
   "metadata": {},
   "source": [
    "#### Declare Personalize Recipe for News Recommendations\n",
    "\n",
    "Since we are providing metadata for users and items, we will be using the [User-Personalization](https://docs.aws.amazon.com/personalize/latest/dg/native-recipe-new-item-USER_PERSONALIZATION.html) recipe for our product recommendations solution.\n",
    "\n",
    "> The User-Personalization (aws-user-personalization) recipe is optimized for all personalized recommendation scenarios. It predicts the items that a user will interact with based on Interactions, Items, and Users datasets. When recommending items, it uses automatic item exploration. "
   ]
  },
  {
   "cell_type": "code",
   "execution_count": 42,
   "metadata": {},
   "outputs": [],
   "source": [
    "recommend_recipe_arn = \"arn:aws:personalize:::recipe/aws-user-personalization\""
   ]
  },
  {
   "cell_type": "markdown",
   "metadata": {},
   "source": [
    "### Create Solutions and Solution Versions\n",
    "\n",
    "With our recipes defined, we can now create our solutions and solution versions."
   ]
  },
  {
   "cell_type": "code",
   "execution_count": 43,
   "metadata": {},
   "outputs": [],
   "source": [
    "dataset_group_arn = f\"arn:aws:personalize:ap-southeast-1:268400237357:dataset-group/{dataset_group_name}\""
   ]
  },
  {
   "cell_type": "markdown",
   "metadata": {},
   "source": [
    "#### Create Product Recommendation Solution"
   ]
  },
  {
   "cell_type": "code",
   "execution_count": 44,
   "metadata": {},
   "outputs": [
    {
     "output_type": "stream",
     "name": "stdout",
     "text": [
      "{\n  \"solutionArn\": \"arn:aws:personalize:ap-southeast-1:268400237357:solution/spent-2-news-personalization\",\n  \"ResponseMetadata\": {\n    \"RequestId\": \"64f1937b-b413-4bff-8500-8f06d331a415\",\n    \"HTTPStatusCode\": 200,\n    \"HTTPHeaders\": {\n      \"content-type\": \"application/x-amz-json-1.1\",\n      \"date\": \"Tue, 09 Mar 2021 06:46:04 GMT\",\n      \"x-amzn-requestid\": \"64f1937b-b413-4bff-8500-8f06d331a415\",\n      \"content-length\": \"103\",\n      \"connection\": \"keep-alive\"\n    },\n    \"RetryAttempts\": 0\n  }\n}\n"
     ]
    }
   ],
   "source": [
    "create_solution_response = personalize.create_solution(\n",
    "    name=dataset_group_name + \"-news-personalization\",\n",
    "    datasetGroupArn=dataset_group_arn,\n",
    "    recipeArn=recommend_recipe_arn,\n",
    ")\n",
    "\n",
    "recommend_solution_arn = create_solution_response[\"solutionArn\"]\n",
    "print(json.dumps(create_solution_response, indent=2))"
   ]
  },
  {
   "cell_type": "code",
   "execution_count": 45,
   "metadata": {},
   "outputs": [
    {
     "output_type": "stream",
     "name": "stdout",
     "text": [
      "{\n  \"solutionVersionArn\": \"arn:aws:personalize:ap-southeast-1:268400237357:solution/spent-2-news-personalization/228a8c97\",\n  \"ResponseMetadata\": {\n    \"RequestId\": \"77ec4d4b-fb45-48c8-98f0-a8f1fb8e0762\",\n    \"HTTPStatusCode\": 200,\n    \"HTTPHeaders\": {\n      \"content-type\": \"application/x-amz-json-1.1\",\n      \"date\": \"Tue, 09 Mar 2021 06:46:04 GMT\",\n      \"x-amzn-requestid\": \"77ec4d4b-fb45-48c8-98f0-a8f1fb8e0762\",\n      \"content-length\": \"119\",\n      \"connection\": \"keep-alive\"\n    },\n    \"RetryAttempts\": 0\n  }\n}\n"
     ]
    }
   ],
   "source": [
    "create_solution_version_response = personalize.create_solution_version(\n",
    "    solutionArn=recommend_solution_arn\n",
    ")\n",
    "\n",
    "recommend_solution_version_arn = create_solution_version_response[\"solutionVersionArn\"]\n",
    "print(json.dumps(create_solution_version_response, indent=2))"
   ]
  },
  {
   "cell_type": "markdown",
   "metadata": {},
   "source": [
    "### Wait for Solution Versions to Complete\n",
    "\n",
    "It can take 40-60 minutes for all solution versions to be created. During this process a model is being trained and tested with the data contained within your datasets. The duration of training jobs can increase based on the size of the dataset, training parameters and a selected recipe. We submitted requests for all three solutions and versions at once so they are trained in parallel and then below we will wait for all three to finish.\n",
    "\n",
    "While you are waiting for this process to complete you can learn more about solutions here: https://docs.aws.amazon.com/personalize/latest/dg/training-deploying-solutions.html"
   ]
  },
  {
   "cell_type": "code",
   "execution_count": 46,
   "metadata": {},
   "outputs": [
    {
     "output_type": "stream",
     "name": "stdout",
     "text": [
      "At least one solution version is still in progress\n",
      "At least one solution version is still in progress\n",
      "At least one solution version is still in progress\n",
      "At least one solution version is still in progress\n",
      "At least one solution version is still in progress\n",
      "At least one solution version is still in progress\n",
      "At least one solution version is still in progress\n",
      "At least one solution version is still in progress\n",
      "At least one solution version is still in progress\n",
      "At least one solution version is still in progress\n",
      "At least one solution version is still in progress\n",
      "At least one solution version is still in progress\n",
      "At least one solution version is still in progress\n",
      "At least one solution version is still in progress\n",
      "At least one solution version is still in progress\n",
      "At least one solution version is still in progress\n",
      "At least one solution version is still in progress\n",
      "At least one solution version is still in progress\n",
      "At least one solution version is still in progress\n",
      "At least one solution version is still in progress\n",
      "At least one solution version is still in progress\n",
      "At least one solution version is still in progress\n",
      "At least one solution version is still in progress\n",
      "At least one solution version is still in progress\n",
      "At least one solution version is still in progress\n",
      "At least one solution version is still in progress\n",
      "At least one solution version is still in progress\n",
      "At least one solution version is still in progress\n",
      "At least one solution version is still in progress\n",
      "At least one solution version is still in progress\n",
      "At least one solution version is still in progress\n",
      "At least one solution version is still in progress\n",
      "At least one solution version is still in progress\n",
      "At least one solution version is still in progress\n",
      "At least one solution version is still in progress\n",
      "At least one solution version is still in progress\n",
      "At least one solution version is still in progress\n",
      "At least one solution version is still in progress\n",
      "Solution version arn:aws:personalize:ap-southeast-1:268400237357:solution/spent-2-news-personalization/228a8c97 successfully completed\n",
      "All solution versions have completed\n",
      "CPU times: user 733 ms, sys: 62.4 ms, total: 796 ms\n",
      "Wall time: 38min 20s\n"
     ]
    }
   ],
   "source": [
    "%%time\n",
    "\n",
    "soln_ver_arns = [recommend_solution_version_arn]\n",
    "\n",
    "max_time = time.time() + 3 * 60 * 60  # 3 hours\n",
    "while time.time() < max_time:\n",
    "    for soln_ver_arn in reversed(soln_ver_arns):\n",
    "        soln_ver_response = personalize.describe_solution_version(\n",
    "            solutionVersionArn=soln_ver_arn\n",
    "        )\n",
    "        status = soln_ver_response[\"solutionVersion\"][\"status\"]\n",
    "\n",
    "        if status == \"ACTIVE\":\n",
    "            print(f\"Solution version {soln_ver_arn} successfully completed\")\n",
    "            soln_ver_arns.remove(soln_ver_arn)\n",
    "        elif status == \"CREATE FAILED\":\n",
    "            print(f\"Solution version {soln_ver_arn} failed\")\n",
    "            if soln_ver_response.get(\"failureReason\"):\n",
    "                print(\"   Reason: \" + soln_ver_response[\"failureReason\"])\n",
    "            soln_ver_arns.remove(soln_ver_arn)\n",
    "\n",
    "    if len(soln_ver_arns) > 0:\n",
    "        print(\"At least one solution version is still in progress\")\n",
    "        time.sleep(60)\n",
    "    else:\n",
    "        print(\"All solution versions have completed\")\n",
    "        break"
   ]
  },
  {
   "cell_type": "markdown",
   "metadata": {},
   "source": [
    "### Evaluate Offline Metrics for Solution Versions\n",
    "\n",
    "Amazon Personalize provides [offline metrics](https://docs.aws.amazon.com/personalize/latest/dg/working-with-training-metrics.html#working-with-training-metrics-metrics) that allow you to evaluate the performance of the solution version before you deploy the model in your application. Metrics can also be used to view the effects of modifying a Solution's hyperparameters or to compare the metrics between solutions that use the same training data but created with different recipes.\n",
    "\n",
    "Let's retrieve the metrics for the solution versions we just created."
   ]
  },
  {
   "cell_type": "code",
   "execution_count": 47,
   "metadata": {},
   "outputs": [
    {
     "output_type": "stream",
     "name": "stdout",
     "text": [
      "{\n  \"solutionVersionArn\": \"arn:aws:personalize:ap-southeast-1:268400237357:solution/spent-2-news-personalization/228a8c97\",\n  \"metrics\": {\n    \"coverage\": 0.1227,\n    \"mean_reciprocal_rank_at_25\": 0.0188,\n    \"normalized_discounted_cumulative_gain_at_10\": 0.0354,\n    \"normalized_discounted_cumulative_gain_at_25\": 0.0541,\n    \"normalized_discounted_cumulative_gain_at_5\": 0.0,\n    \"precision_at_10\": 0.01,\n    \"precision_at_25\": 0.007,\n    \"precision_at_5\": 0.0\n  },\n  \"ResponseMetadata\": {\n    \"RequestId\": \"e4071b70-677b-41eb-922f-43817a8414b5\",\n    \"HTTPStatusCode\": 200,\n    \"HTTPHeaders\": {\n      \"content-type\": \"application/x-amz-json-1.1\",\n      \"date\": \"Tue, 09 Mar 2021 07:24:25 GMT\",\n      \"x-amzn-requestid\": \"e4071b70-677b-41eb-922f-43817a8414b5\",\n      \"content-length\": \"408\",\n      \"connection\": \"keep-alive\"\n    },\n    \"RetryAttempts\": 0\n  }\n}\n"
     ]
    }
   ],
   "source": [
    "get_solution_metrics_response = personalize.get_solution_metrics(\n",
    "    solutionVersionArn=recommend_solution_version_arn\n",
    ")\n",
    "\n",
    "print(json.dumps(get_solution_metrics_response, indent=2))"
   ]
  },
  {
   "cell_type": "markdown",
   "metadata": {},
   "source": [
    "## Create Campaigns\n",
    "\n",
    "Once we're satisfied with our solution versions, we need to create Campaigns for each solution version. When creating a campaign you specify the minimum transactions per second (`minProvisionedTPS`) that you expect to make against the service for this campaign. Personalize will automatically scale the inference endpoint up and down for the campaign to match demand but will never scale below `minProvisionedTPS`.\n",
    "\n",
    "Let's create campaigns for our three solution versions with each set at `minProvisionedTPS` of 1."
   ]
  },
  {
   "cell_type": "markdown",
   "metadata": {},
   "source": [
    "dataset_group_name#### Create Product Recommendation Campaign"
   ]
  },
  {
   "cell_type": "code",
   "execution_count": 48,
   "metadata": {},
   "outputs": [],
   "source": [
    "# recommend_solution_version_arn='arn:aws:personalize:ap-southeast-1:268400237357:solution/spent-9-news-personalization/a46d6039'"
   ]
  },
  {
   "cell_type": "code",
   "execution_count": 49,
   "metadata": {},
   "outputs": [
    {
     "output_type": "stream",
     "name": "stdout",
     "text": [
      "{\n  \"campaignArn\": \"arn:aws:personalize:ap-southeast-1:268400237357:campaign/spent-2-news-personalization\",\n  \"ResponseMetadata\": {\n    \"RequestId\": \"a0cfedb3-55e7-488c-9cb7-a9e2c4a4a782\",\n    \"HTTPStatusCode\": 200,\n    \"HTTPHeaders\": {\n      \"content-type\": \"application/x-amz-json-1.1\",\n      \"date\": \"Tue, 09 Mar 2021 07:24:25 GMT\",\n      \"x-amzn-requestid\": \"a0cfedb3-55e7-488c-9cb7-a9e2c4a4a782\",\n      \"content-length\": \"103\",\n      \"connection\": \"keep-alive\"\n    },\n    \"RetryAttempts\": 0\n  }\n}\n"
     ]
    }
   ],
   "source": [
    "create_campaign_response = personalize.create_campaign(\n",
    "    name=dataset_group_name + \"-news-personalization\",\n",
    "    solutionVersionArn=recommend_solution_version_arn,\n",
    "    minProvisionedTPS=1,\n",
    ")\n",
    "\n",
    "recommend_campaign_arn = create_campaign_response[\"campaignArn\"]\n",
    "print(json.dumps(create_campaign_response, indent=2))"
   ]
  },
  {
   "cell_type": "markdown",
   "metadata": {},
   "source": [
    "#### Wait for Related Products Campaign to Have ACTIVE Status\n",
    "\n",
    "It can take 20-30 minutes for the campaigns to be fully created. \n",
    "\n",
    "While you are waiting for this to complete you can learn more about campaigns here: https://docs.aws.amazon.com/personalize/latest/dg/campaigns.html"
   ]
  },
  {
   "cell_type": "code",
   "execution_count": 50,
   "metadata": {},
   "outputs": [
    {
     "output_type": "stream",
     "name": "stdout",
     "text": [
      "At least one campaign is still in progress\n",
      "At least one campaign is still in progress\n",
      "At least one campaign is still in progress\n",
      "At least one campaign is still in progress\n",
      "At least one campaign is still in progress\n",
      "At least one campaign is still in progress\n",
      "At least one campaign is still in progress\n",
      "At least one campaign is still in progress\n",
      "Campaign arn:aws:personalize:ap-southeast-1:268400237357:campaign/spent-2-news-personalization successfully completed\n",
      "All campaigns have completed\n",
      "CPU times: user 125 ms, sys: 15 ms, total: 140 ms\n",
      "Wall time: 8min 2s\n"
     ]
    }
   ],
   "source": [
    "%%time\n",
    "\n",
    "campaign_arns = [recommend_campaign_arn]\n",
    "\n",
    "max_time = time.time() + 3 * 60 * 60  # 3 hours\n",
    "while time.time() < max_time:\n",
    "    for campaign_arn in reversed(campaign_arns):\n",
    "        campaign_response = personalize.describe_campaign(campaignArn=campaign_arn)\n",
    "        status = campaign_response[\"campaign\"][\"status\"]\n",
    "\n",
    "        if status == \"ACTIVE\":\n",
    "            print(f\"Campaign {campaign_arn} successfully completed\")\n",
    "            campaign_arns.remove(campaign_arn)\n",
    "        elif status == \"CREATE FAILED\":\n",
    "            print(f\"Campaign {campaign_arn} failed\")\n",
    "            if campaign_response.get(\"failureReason\"):\n",
    "                print(\"   Reason: \" + campaign_response[\"failureReason\"])\n",
    "            campaign_arns.remove(campaign_arn)\n",
    "\n",
    "    if len(campaign_arns) > 0:\n",
    "        print(\"At least one campaign is still in progress\")\n",
    "        time.sleep(60)\n",
    "    else:\n",
    "        print(\"All campaigns have completed\")\n",
    "        break"
   ]
  },
  {
   "cell_type": "markdown",
   "metadata": {},
   "source": [
    "## Playground"
   ]
  },
  {
   "cell_type": "code",
   "execution_count": 51,
   "metadata": {},
   "outputs": [
    {
     "output_type": "stream",
     "name": "stdout",
     "text": [
      "arn:aws:personalize:ap-southeast-1:268400237357:dataset/spent-2/USERS\narn:aws:personalize:ap-southeast-1:268400237357:dataset/spent-2/ITEMS\narn:aws:personalize:ap-southeast-1:268400237357:dataset/spent-2/INTERACTIONS\n"
     ]
    }
   ],
   "source": [
    "res = personalize.list_datasets()\n",
    "datasets = res[\"datasets\"]\n",
    "\n",
    "users_dataset_arn = next(\n",
    "    d[\"datasetArn\"] for d in datasets if d[\"name\"] == users_dataset_name\n",
    ").replace(\"spent-1\", dataset_group_name)\n",
    "items_dataset_arn = next(\n",
    "    d[\"datasetArn\"] for d in datasets if d[\"name\"] == items_dataset_name\n",
    ").replace(\"spent-1\", dataset_group_name)\n",
    "interactions_dataset_arn = next(\n",
    "    d[\"datasetArn\"] for d in datasets if d[\"name\"] == interactions_dataset_name\n",
    ").replace(\"spent-1\", dataset_group_name)\n",
    "print(users_dataset_arn)\n",
    "print(items_dataset_arn)\n",
    "print(interactions_dataset_arn)"
   ]
  },
  {
   "cell_type": "code",
   "execution_count": 52,
   "metadata": {},
   "outputs": [],
   "source": [
    "campaignArn = f\"arn:aws:personalize:ap-southeast-1:268400237357:campaign/{dataset_group_name}-news-personalization\"\n",
    "datasetGroupArn = (\n",
    "    f\"arn:aws:personalize:ap-southeast-1:268400237357:dataset-group/{dataset_group_name}\"\n",
    ")"
   ]
  },
  {
   "cell_type": "code",
   "execution_count": 53,
   "metadata": {},
   "outputs": [
    {
     "output_type": "stream",
     "name": "stdout",
     "text": [
      "Event Tracker ARN: arn:aws:personalize:ap-southeast-1:268400237357:event-tracker/015d06f9\nEvent Tracking ID: 05f67ebf-3a8f-47c1-814c-2fdcb9709d05\n"
     ]
    }
   ],
   "source": [
    "event_tracker_response = personalize.create_event_tracker(\n",
    "    datasetGroupArn=datasetGroupArn, name=f\"{dataset_group_name}-event-tracker\"\n",
    ")\n",
    "\n",
    "event_tracker_arn = event_tracker_response[\"eventTrackerArn\"]\n",
    "event_tracking_id = event_tracker_response[\"trackingId\"]\n",
    "\n",
    "print(\"Event Tracker ARN: \" + event_tracker_arn)\n",
    "print(\"Event Tracking ID: \" + event_tracking_id)"
   ]
  },
  {
   "cell_type": "code",
   "execution_count": 55,
   "metadata": {},
   "outputs": [
    {
     "output_type": "execute_result",
     "data": {
      "text/plain": [
       "{'eventTracker': {'name': 'spent-2-event-tracker',\n",
       "  'eventTrackerArn': 'arn:aws:personalize:ap-southeast-1:268400237357:event-tracker/015d06f9',\n",
       "  'accountId': '268400237357',\n",
       "  'trackingId': '05f67ebf-3a8f-47c1-814c-2fdcb9709d05',\n",
       "  'datasetGroupArn': 'arn:aws:personalize:ap-southeast-1:268400237357:dataset-group/spent-2',\n",
       "  'status': 'ACTIVE',\n",
       "  'creationDateTime': datetime.datetime(2021, 3, 9, 14, 49, 28, 440000, tzinfo=tzlocal()),\n",
       "  'lastUpdatedDateTime': datetime.datetime(2021, 3, 9, 14, 49, 32, 916000, tzinfo=tzlocal())},\n",
       " 'ResponseMetadata': {'RequestId': 'bdadd173-ee6b-4d7e-ab9f-8e9e21fbf1fb',\n",
       "  'HTTPStatusCode': 200,\n",
       "  'HTTPHeaders': {'content-type': 'application/x-amz-json-1.1',\n",
       "   'date': 'Tue, 09 Mar 2021 07:50:12 GMT',\n",
       "   'x-amzn-requestid': 'bdadd173-ee6b-4d7e-ab9f-8e9e21fbf1fb',\n",
       "   'content-length': '401',\n",
       "   'connection': 'keep-alive'},\n",
       "  'RetryAttempts': 0}}"
      ]
     },
     "metadata": {},
     "execution_count": 55
    }
   ],
   "source": [
    "personalize.describe_event_tracker(eventTrackerArn=event_tracker_arn)"
   ]
  },
  {
   "cell_type": "code",
   "execution_count": 56,
   "metadata": {},
   "outputs": [],
   "source": [
    "# event_tracker_arn = 'arn:aws:personalize:ap-southeast-1:268400237357:event-tracker/dd4b56f4'"
   ]
  },
  {
   "cell_type": "code",
   "execution_count": 57,
   "metadata": {},
   "outputs": [
    {
     "output_type": "execute_result",
     "data": {
      "text/plain": [
       "{'ResponseMetadata': {'RequestId': '844c3f21-b95b-42b6-b054-6600347392a7',\n",
       "  'HTTPStatusCode': 200,\n",
       "  'HTTPHeaders': {'content-type': 'application/json',\n",
       "   'date': 'Tue, 09 Mar 2021 07:50:21 GMT',\n",
       "   'x-amzn-requestid': '844c3f21-b95b-42b6-b054-6600347392a7',\n",
       "   'content-length': '0',\n",
       "   'connection': 'keep-alive'},\n",
       "  'RetryAttempts': 0}}"
      ]
     },
     "metadata": {},
     "execution_count": 57
    }
   ],
   "source": [
    "userId = \"164591f3-2a53-4c94-84eb-da692dca55ca\"\n",
    "properties = {\"age\": 20, \"gender\": \"M\"}\n",
    "\n",
    "personalize_events.put_users(\n",
    "    datasetArn=users_dataset_arn,\n",
    "    users=[\n",
    "        {\n",
    "            \"userId\": userId,\n",
    "            \"properties\": json.dumps(properties)\n",
    "            #         'properties': \"{\\\"AGE\\\": 21, \\\"GENDER\\\": \\\"M\\\"}\"\n",
    "        }\n",
    "    ],\n",
    ")"
   ]
  },
  {
   "cell_type": "code",
   "execution_count": 58,
   "metadata": {},
   "outputs": [],
   "source": [
    "filterExpression = \"\"\"\n",
    "    EXCLUDE ItemID WHERE Interactions.event_type IN (\"news_viewed\") |\n",
    "    EXCLUDE ItemID WHERE Items.CATEGORY IN ($categories) |\n",
    "    EXCLUDE ItemID WHERE Items.TAGS IN ($tags) |\n",
    "    EXCLUDE ItemID WHERE Items.SOURCE IN ($sources)\n",
    "\"\"\""
   ]
  },
  {
   "cell_type": "code",
   "execution_count": 59,
   "metadata": {},
   "outputs": [
    {
     "output_type": "execute_result",
     "data": {
      "text/plain": [
       "{'filterArn': 'arn:aws:personalize:ap-southeast-1:268400237357:filter/spent-2-filter-viewed_blocks',\n",
       " 'ResponseMetadata': {'RequestId': '30c75b12-6fa2-4e1a-92bf-1b353e76ca9f',\n",
       "  'HTTPStatusCode': 200,\n",
       "  'HTTPHeaders': {'content-type': 'application/x-amz-json-1.1',\n",
       "   'date': 'Tue, 09 Mar 2021 07:55:55 GMT',\n",
       "   'x-amzn-requestid': '30c75b12-6fa2-4e1a-92bf-1b353e76ca9f',\n",
       "   'content-length': '99',\n",
       "   'connection': 'keep-alive'},\n",
       "  'RetryAttempts': 0}}"
      ]
     },
     "metadata": {},
     "execution_count": 59
    }
   ],
   "source": [
    "personalize.create_filter(\n",
    "    datasetGroupArn=dataset_group_arn,\n",
    "    filterExpression=filterExpression,\n",
    "    name=f\"{dataset_group_name}-filter-viewed_blocks\"\n",
    "    )"
   ]
  },
  {
   "cell_type": "code",
   "execution_count": 60,
   "metadata": {},
   "outputs": [
    {
     "output_type": "execute_result",
     "data": {
      "text/plain": [
       "'arn:aws:personalize:ap-southeast-1:268400237357:dataset-group/spent-2'"
      ]
     },
     "metadata": {},
     "execution_count": 60
    }
   ],
   "source": [
    "dataset_group_arn"
   ]
  },
  {
   "cell_type": "code",
   "execution_count": 43,
   "metadata": {},
   "outputs": [],
   "source": [
    "def get_item_by_id(id: int):\n",
    "    items = items_raw_df[items_raw_df[\"id\"] == id]\n",
    "    return items if items.shape[0] > 0 else None"
   ]
  },
  {
   "cell_type": "code",
   "execution_count": 44,
   "metadata": {},
   "outputs": [
    {
     "data": {
      "text/plain": [
       "'540f4295-c999-4252-ab41-a39882c83005'"
      ]
     },
     "execution_count": 44,
     "metadata": {},
     "output_type": "execute_result"
    }
   ],
   "source": [
    "event_tracking_id"
   ]
  },
  {
   "cell_type": "markdown",
   "metadata": {},
   "source": [
    "### Simulating User Behavior"
   ]
  },
  {
   "cell_type": "code",
   "execution_count": 51,
   "metadata": {},
   "outputs": [],
   "source": [
    "session_dict = {}\n",
    "TRACKING_ID = event_tracking_id\n",
    "# TRACKING_ID = '133f1eeb-7dce-4275-85a5-e1e243ea400b'"
   ]
  },
  {
   "cell_type": "code",
   "execution_count": 52,
   "metadata": {},
   "outputs": [],
   "source": [
    "def send_event(USER_ID, ITEM_ID, EVENT_TYPE):\n",
    "    \"\"\"\n",
    "    Simulates a click as an envent\n",
    "    to send an event to Amazon Personalize's Event Tracker\n",
    "    \"\"\"\n",
    "    # Configure Session\n",
    "    try:\n",
    "        session_ID = session_dict[USER_ID]\n",
    "    except:\n",
    "        session_dict[USER_ID] = str(uuid.uuid1())\n",
    "        session_ID = session_dict[USER_ID]\n",
    "\n",
    "    # Configure Properties:\n",
    "    event = {\n",
    "        \"itemId\": str(ITEM_ID),\n",
    "    }\n",
    "    event_json = json.dumps(event)\n",
    "\n",
    "    # Make Call\n",
    "    res = personalize_events.put_events(\n",
    "        trackingId=TRACKING_ID,\n",
    "        userId=USER_ID,\n",
    "        sessionId=session_ID,\n",
    "        eventList=[\n",
    "            {\n",
    "                \"sentAt\": int(time.time()),\n",
    "                \"eventType\": EVENT_TYPE,\n",
    "                \"properties\": event_json,\n",
    "            }\n",
    "        ],\n",
    "    )\n",
    "    print(\n",
    "        {\"sentAt\": int(time.time()), \"eventType\": EVENT_TYPE, \"properties\": event_json}\n",
    "    )"
   ]
  },
  {
   "cell_type": "code",
   "execution_count": 53,
   "metadata": {},
   "outputs": [
    {
     "data": {
      "text/plain": [
       "array(['กีฬา', 'เทคโนโลยี', 'การเมือง', 'ต่างประเทศ', 'ไลฟ์สไตล์',\n",
       "       'เศรษฐกิจ', 'บันเทิง', 'ในประเทศ', 'อาชญากรรม', 'สังคม',\n",
       "       'ภาพยนตร์', 'คุณภาพชีวิต', 'การศึกษา'], dtype=object)"
      ]
     },
     "execution_count": 53,
     "metadata": {},
     "output_type": "execute_result"
    }
   ],
   "source": [
    "items_df[\"CATEGORY\"].unique()"
   ]
  },
  {
   "cell_type": "code",
   "execution_count": 67,
   "metadata": {},
   "outputs": [
    {
     "name": "stdout",
     "output_type": "stream",
     "text": [
      "{'sentAt': 1613561997, 'eventType': 'news_liked', 'properties': '{\"itemId\": \"5327936b-1a94-4ef8-98a1-1f4a6e1a5fd9\"}'}\n",
      "5327936b-1a94-4ef8-98a1-1f4a6e1a5fd9\n",
      "[{'itemId': '06bd4432-fd5c-484d-9278-a31233402cbe', 'score': 0.0903416}, {'itemId': '7f79997c-ae3b-4a39-b6fa-0bc06ca51cfa', 'score': 0.0864953}, {'itemId': '5d85dfb6-df3f-4143-9503-2a22a681263c', 'score': 0.0529707}, {'itemId': '81de37bb-35a4-4aaf-b55b-28ca44e6b00b', 'score': 0.0388117}, {'itemId': 'daaa483d-410f-4e24-99d8-d9ee1df43ee1', 'score': 0.0337955}, {'itemId': '1d37b993-cc36-48c5-9415-fbdbff268851', 'score': 0.0294973}, {'itemId': 'c34dafba-a132-446e-bbb5-42429ae0fa97', 'score': 0.0268885}, {'itemId': '6c369dca-fe71-4716-941a-5da7fe8264aa', 'score': 0.0252585}, {'itemId': '81c3c6c9-8d51-4971-98cf-5d285914e8f5', 'score': 0.0201661}, {'itemId': '2b443c44-1951-4745-a59b-e0b95317f2f3', 'score': 0.0186755}, {'itemId': '72410b49-2794-40ce-80c6-87b5e17e8085', 'score': 0.0163315}, {'itemId': '684f6153-c7c7-44ed-ad0c-63da2b416951', 'score': 0.0160585}, {'itemId': '9998dd94-2ce4-493b-bab4-0803e120837d', 'score': 0.0148013}, {'itemId': '46ef1d33-657d-4ed8-a30a-1cb68e5ba753', 'score': 0.0144666}, {'itemId': 'ecc7a4de-83b5-495c-bc8f-a75a6e2e7ba8', 'score': 0.0140105}, {'itemId': '9dc02006-ec85-4744-9bbc-8b6590c33eb8', 'score': 0.0138313}, {'itemId': '67d63cc8-57cd-42ff-8612-43752a72d588', 'score': 0.0133177}, {'itemId': 'd383997e-6168-4cc7-93e3-5bd1702ebaae', 'score': 0.0131348}, {'itemId': '410632fe-b8a5-47e9-b729-3dd608e6ae6b', 'score': 0.0115502}, {'itemId': 'cfddccb2-b3ce-4362-a76e-df04f9db03a5', 'score': 0.0106394}, {'itemId': '1a9e865a-f7b6-499d-9a3d-2da618134bbe', 'score': 0.0104953}, {'itemId': 'faefcdf2-0166-4843-8abb-2ab814e82743', 'score': 0.010314}, {'itemId': '2a640a6b-7c02-4f55-8340-0ac07df1088e', 'score': 0.0095321}, {'itemId': 'def9cb08-f6a2-453f-92e4-1684e0a02f83', 'score': 0.0092367}, {'itemId': '0bfa7246-c8b1-4a30-b340-df24c7f1f6ad', 'score': 0.0091212}]\n"
     ]
    },
    {
     "data": {
      "text/html": [
       "<div>\n",
       "<style scoped>\n",
       "    .dataframe tbody tr th:only-of-type {\n",
       "        vertical-align: middle;\n",
       "    }\n",
       "\n",
       "    .dataframe tbody tr th {\n",
       "        vertical-align: top;\n",
       "    }\n",
       "\n",
       "    .dataframe thead th {\n",
       "        text-align: right;\n",
       "    }\n",
       "</style>\n",
       "<table border=\"1\" class=\"dataframe\">\n",
       "  <thead>\n",
       "    <tr style=\"text-align: right;\">\n",
       "      <th></th>\n",
       "      <th>id</th>\n",
       "      <th>category</th>\n",
       "      <th>pubDate</th>\n",
       "    </tr>\n",
       "  </thead>\n",
       "  <tbody>\n",
       "    <tr>\n",
       "      <th>648</th>\n",
       "      <td>0bfa7246-c8b1-4a30-b340-df24c7f1f6ad</td>\n",
       "      <td>การเมือง</td>\n",
       "      <td>2021-02-16T04:14:23+00:00</td>\n",
       "    </tr>\n",
       "    <tr>\n",
       "      <th>712</th>\n",
       "      <td>410632fe-b8a5-47e9-b729-3dd608e6ae6b</td>\n",
       "      <td>การเมือง</td>\n",
       "      <td>2021-02-16T12:27:53+00:00</td>\n",
       "    </tr>\n",
       "    <tr>\n",
       "      <th>759</th>\n",
       "      <td>1d37b993-cc36-48c5-9415-fbdbff268851</td>\n",
       "      <td>กีฬา</td>\n",
       "      <td>2021-02-17T06:36:00+00:00</td>\n",
       "    </tr>\n",
       "    <tr>\n",
       "      <th>1402</th>\n",
       "      <td>1a9e865a-f7b6-499d-9a3d-2da618134bbe</td>\n",
       "      <td>การเมือง</td>\n",
       "      <td>2021-02-16T04:34:36+00:00</td>\n",
       "    </tr>\n",
       "    <tr>\n",
       "      <th>1492</th>\n",
       "      <td>9dc02006-ec85-4744-9bbc-8b6590c33eb8</td>\n",
       "      <td>กีฬา</td>\n",
       "      <td>2021-02-17T02:31:00+00:00</td>\n",
       "    </tr>\n",
       "    <tr>\n",
       "      <th>1500</th>\n",
       "      <td>cfddccb2-b3ce-4362-a76e-df04f9db03a5</td>\n",
       "      <td>การเมือง</td>\n",
       "      <td>2021-02-17T03:15:00+07:00</td>\n",
       "    </tr>\n",
       "    <tr>\n",
       "      <th>1502</th>\n",
       "      <td>684f6153-c7c7-44ed-ad0c-63da2b416951</td>\n",
       "      <td>การเมือง</td>\n",
       "      <td>2021-02-17T03:34:20+00:00</td>\n",
       "    </tr>\n",
       "    <tr>\n",
       "      <th>1509</th>\n",
       "      <td>5d85dfb6-df3f-4143-9503-2a22a681263c</td>\n",
       "      <td>การเมือง</td>\n",
       "      <td>2021-02-17T05:09:03+00:00</td>\n",
       "    </tr>\n",
       "    <tr>\n",
       "      <th>1511</th>\n",
       "      <td>81de37bb-35a4-4aaf-b55b-28ca44e6b00b</td>\n",
       "      <td>เทคโนโลยี</td>\n",
       "      <td>2021-02-17T05:07:33+00:00</td>\n",
       "    </tr>\n",
       "    <tr>\n",
       "      <th>1513</th>\n",
       "      <td>c34dafba-a132-446e-bbb5-42429ae0fa97</td>\n",
       "      <td>เศรษฐกิจ</td>\n",
       "      <td>2021-02-17T05:55:59+00:00</td>\n",
       "    </tr>\n",
       "    <tr>\n",
       "      <th>1520</th>\n",
       "      <td>9998dd94-2ce4-493b-bab4-0803e120837d</td>\n",
       "      <td>การศึกษา</td>\n",
       "      <td>2021-02-17T06:23:42+00:00</td>\n",
       "    </tr>\n",
       "    <tr>\n",
       "      <th>2290</th>\n",
       "      <td>46ef1d33-657d-4ed8-a30a-1cb68e5ba753</td>\n",
       "      <td>บันเทิง</td>\n",
       "      <td>2021-02-16T15:44:55+00:00</td>\n",
       "    </tr>\n",
       "    <tr>\n",
       "      <th>2302</th>\n",
       "      <td>81c3c6c9-8d51-4971-98cf-5d285914e8f5</td>\n",
       "      <td>เทคโนโลยี</td>\n",
       "      <td>2021-02-17T03:34:00+00:00</td>\n",
       "    </tr>\n",
       "    <tr>\n",
       "      <th>2320</th>\n",
       "      <td>6c369dca-fe71-4716-941a-5da7fe8264aa</td>\n",
       "      <td>บันเทิง</td>\n",
       "      <td>2021-02-17T02:23:00+00:00</td>\n",
       "    </tr>\n",
       "    <tr>\n",
       "      <th>2323</th>\n",
       "      <td>daaa483d-410f-4e24-99d8-d9ee1df43ee1</td>\n",
       "      <td>กีฬา</td>\n",
       "      <td>2021-02-17T04:15:00+00:00</td>\n",
       "    </tr>\n",
       "    <tr>\n",
       "      <th>2326</th>\n",
       "      <td>06bd4432-fd5c-484d-9278-a31233402cbe</td>\n",
       "      <td>การเมือง</td>\n",
       "      <td>2021-02-17T04:43:00+00:00</td>\n",
       "    </tr>\n",
       "    <tr>\n",
       "      <th>3002</th>\n",
       "      <td>faefcdf2-0166-4843-8abb-2ab814e82743</td>\n",
       "      <td>เทคโนโลยี</td>\n",
       "      <td>2021-02-16T06:48:00+00:00</td>\n",
       "    </tr>\n",
       "    <tr>\n",
       "      <th>3061</th>\n",
       "      <td>d383997e-6168-4cc7-93e3-5bd1702ebaae</td>\n",
       "      <td>ต่างประเทศ</td>\n",
       "      <td>2021-02-16T09:25:29+00:00</td>\n",
       "    </tr>\n",
       "    <tr>\n",
       "      <th>3065</th>\n",
       "      <td>2b443c44-1951-4745-a59b-e0b95317f2f3</td>\n",
       "      <td>การเมือง</td>\n",
       "      <td>2021-02-16T11:34:00+00:00</td>\n",
       "    </tr>\n",
       "    <tr>\n",
       "      <th>3077</th>\n",
       "      <td>67d63cc8-57cd-42ff-8612-43752a72d588</td>\n",
       "      <td>การเมือง</td>\n",
       "      <td>2021-02-17T03:43:45+00:00</td>\n",
       "    </tr>\n",
       "    <tr>\n",
       "      <th>3100</th>\n",
       "      <td>7f79997c-ae3b-4a39-b6fa-0bc06ca51cfa</td>\n",
       "      <td>กีฬา</td>\n",
       "      <td>2021-02-17T05:53:00+00:00</td>\n",
       "    </tr>\n",
       "    <tr>\n",
       "      <th>3803</th>\n",
       "      <td>72410b49-2794-40ce-80c6-87b5e17e8085</td>\n",
       "      <td>กีฬา</td>\n",
       "      <td>2021-02-16T07:15:40+00:00</td>\n",
       "    </tr>\n",
       "    <tr>\n",
       "      <th>3869</th>\n",
       "      <td>ecc7a4de-83b5-495c-bc8f-a75a6e2e7ba8</td>\n",
       "      <td>การเมือง</td>\n",
       "      <td>2021-02-16T16:52:00+07:00</td>\n",
       "    </tr>\n",
       "    <tr>\n",
       "      <th>3875</th>\n",
       "      <td>def9cb08-f6a2-453f-92e4-1684e0a02f83</td>\n",
       "      <td>กีฬา</td>\n",
       "      <td>2021-02-16T18:45:17+00:00</td>\n",
       "    </tr>\n",
       "    <tr>\n",
       "      <th>3909</th>\n",
       "      <td>2a640a6b-7c02-4f55-8340-0ac07df1088e</td>\n",
       "      <td>เทคโนโลยี</td>\n",
       "      <td>2021-02-17T07:02:18+00:00</td>\n",
       "    </tr>\n",
       "  </tbody>\n",
       "</table>\n",
       "</div>"
      ],
      "text/plain": [
       "                                        id    category  \\\n",
       "648   0bfa7246-c8b1-4a30-b340-df24c7f1f6ad    การเมือง   \n",
       "712   410632fe-b8a5-47e9-b729-3dd608e6ae6b    การเมือง   \n",
       "759   1d37b993-cc36-48c5-9415-fbdbff268851        กีฬา   \n",
       "1402  1a9e865a-f7b6-499d-9a3d-2da618134bbe    การเมือง   \n",
       "1492  9dc02006-ec85-4744-9bbc-8b6590c33eb8        กีฬา   \n",
       "1500  cfddccb2-b3ce-4362-a76e-df04f9db03a5    การเมือง   \n",
       "1502  684f6153-c7c7-44ed-ad0c-63da2b416951    การเมือง   \n",
       "1509  5d85dfb6-df3f-4143-9503-2a22a681263c    การเมือง   \n",
       "1511  81de37bb-35a4-4aaf-b55b-28ca44e6b00b   เทคโนโลยี   \n",
       "1513  c34dafba-a132-446e-bbb5-42429ae0fa97    เศรษฐกิจ   \n",
       "1520  9998dd94-2ce4-493b-bab4-0803e120837d    การศึกษา   \n",
       "2290  46ef1d33-657d-4ed8-a30a-1cb68e5ba753     บันเทิง   \n",
       "2302  81c3c6c9-8d51-4971-98cf-5d285914e8f5   เทคโนโลยี   \n",
       "2320  6c369dca-fe71-4716-941a-5da7fe8264aa     บันเทิง   \n",
       "2323  daaa483d-410f-4e24-99d8-d9ee1df43ee1        กีฬา   \n",
       "2326  06bd4432-fd5c-484d-9278-a31233402cbe    การเมือง   \n",
       "3002  faefcdf2-0166-4843-8abb-2ab814e82743   เทคโนโลยี   \n",
       "3061  d383997e-6168-4cc7-93e3-5bd1702ebaae  ต่างประเทศ   \n",
       "3065  2b443c44-1951-4745-a59b-e0b95317f2f3    การเมือง   \n",
       "3077  67d63cc8-57cd-42ff-8612-43752a72d588    การเมือง   \n",
       "3100  7f79997c-ae3b-4a39-b6fa-0bc06ca51cfa        กีฬา   \n",
       "3803  72410b49-2794-40ce-80c6-87b5e17e8085        กีฬา   \n",
       "3869  ecc7a4de-83b5-495c-bc8f-a75a6e2e7ba8    การเมือง   \n",
       "3875  def9cb08-f6a2-453f-92e4-1684e0a02f83        กีฬา   \n",
       "3909  2a640a6b-7c02-4f55-8340-0ac07df1088e   เทคโนโลยี   \n",
       "\n",
       "                        pubDate  \n",
       "648   2021-02-16T04:14:23+00:00  \n",
       "712   2021-02-16T12:27:53+00:00  \n",
       "759   2021-02-17T06:36:00+00:00  \n",
       "1402  2021-02-16T04:34:36+00:00  \n",
       "1492  2021-02-17T02:31:00+00:00  \n",
       "1500  2021-02-17T03:15:00+07:00  \n",
       "1502  2021-02-17T03:34:20+00:00  \n",
       "1509  2021-02-17T05:09:03+00:00  \n",
       "1511  2021-02-17T05:07:33+00:00  \n",
       "1513  2021-02-17T05:55:59+00:00  \n",
       "1520  2021-02-17T06:23:42+00:00  \n",
       "2290  2021-02-16T15:44:55+00:00  \n",
       "2302  2021-02-17T03:34:00+00:00  \n",
       "2320  2021-02-17T02:23:00+00:00  \n",
       "2323  2021-02-17T04:15:00+00:00  \n",
       "2326  2021-02-17T04:43:00+00:00  \n",
       "3002  2021-02-16T06:48:00+00:00  \n",
       "3061  2021-02-16T09:25:29+00:00  \n",
       "3065  2021-02-16T11:34:00+00:00  \n",
       "3077  2021-02-17T03:43:45+00:00  \n",
       "3100  2021-02-17T05:53:00+00:00  \n",
       "3803  2021-02-16T07:15:40+00:00  \n",
       "3869  2021-02-16T16:52:00+07:00  \n",
       "3875  2021-02-16T18:45:17+00:00  \n",
       "3909  2021-02-17T07:02:18+00:00  "
      ]
     },
     "execution_count": 67,
     "metadata": {},
     "output_type": "execute_result"
    }
   ],
   "source": [
    "category = \"การเมือง\"\n",
    "\n",
    "item_id = items_df[items_df[\"CATEGORY\"] == category].sample()[\"ITEM_ID\"].values[0]\n",
    "# item_id = \"959204b5-a755-41cc-87f8-28a71eada04d\"\n",
    "send_event(userId, item_id, \"news_liked\")\n",
    "print(item_id)\n",
    "\n",
    "time.sleep(2)\n",
    "\n",
    "response = personalize_runtime.get_recommendations(\n",
    "    campaignArn=campaignArn,\n",
    "    userId=userId,\n",
    "    numResults=25,\n",
    "    #     filterArn = 'arn:aws:personalize:ap-southeast-1:268400237357:filter/test-5'\n",
    ")\n",
    "recommendation_items_id = [item[\"itemId\"] for item in response[\"itemList\"]]\n",
    "print(response[\"itemList\"])\n",
    "items_raw_df[items_raw_df[\"id\"].isin(recommendation_items_id)][[\"id\", \"category\", \"pubDate\"]]\n",
    "# items_df[items_df[\"ITEM_ID\"].isin(recommendation_items_id)][[\"ITEM_ID\", \"CATEGORY\"]]"
   ]
  },
  {
   "cell_type": "code",
   "execution_count": 55,
   "metadata": {},
   "outputs": [],
   "source": [
    "from __future__ import print_function\n",
    "from ipywidgets import interact, interactive, fixed, interact_manual\n",
    "import ipywidgets as widgets\n",
    "\n",
    "def send_event_by_cat(category):\n",
    "    item_id = items_df[items_df[\"CATEGORY\"] == category].sample()[\"ITEM_ID\"].values[0]\n",
    "    send_event(userId, item_id, \"news_viewed\")\n",
    "\n",
    "    response = personalize_runtime.get_recommendations(\n",
    "        campaignArn=campaignArn,\n",
    "        userId=userId,\n",
    "        numResults=10,\n",
    "        #     filterArn = 'arn:aws:personalize:ap-southeast-1:268400237357:filter/test-5'\n",
    "    )\n",
    "    recommendation_items_id = [item[\"itemId\"] for item in response[\"itemList\"]]\n",
    "    print(response[\"itemList\"])\n",
    "    print(items_raw_df[items_raw_df[\"id\"].isin(recommendation_items_id)][[\"id\", \"category\"]])"
   ]
  },
  {
   "cell_type": "code",
   "execution_count": 56,
   "metadata": {},
   "outputs": [
    {
     "data": {
      "application/vnd.jupyter.widget-view+json": {
       "model_id": "90aa276f6d804ab4888f75445f25c4b2",
       "version_major": 2,
       "version_minor": 0
      },
      "text/plain": [
       "interactive(children=(Dropdown(description='x', options=('กีฬา', 'เทคโนโลยี', 'การเมือง', 'ต่างประเทศ', 'ไลฟ์ส…"
      ]
     },
     "metadata": {},
     "output_type": "display_data"
    }
   ],
   "source": [
    "w = interact(lambda x: send_event_by_cat(x), x=items_df[\"CATEGORY\"].unique());"
   ]
  },
  {
   "cell_type": "code",
   "execution_count": 59,
   "metadata": {},
   "outputs": [
    {
     "data": {
      "text/plain": [
       "'อาชญากรรม'"
      ]
     },
     "execution_count": 59,
     "metadata": {},
     "output_type": "execute_result"
    }
   ],
   "source": [
    "dropdown.value"
   ]
  },
  {
   "cell_type": "code",
   "execution_count": 35,
   "metadata": {},
   "outputs": [
    {
     "name": "stdout",
     "output_type": "stream",
     "text": [
      "1\n"
     ]
    }
   ],
   "source": [
    "print(w(1))"
   ]
  },
  {
   "cell_type": "code",
   "execution_count": 96,
   "metadata": {},
   "outputs": [
    {
     "data": {
      "text/plain": [
       "array(['crime', 'economic', 'education', 'entertainment', 'international',\n",
       "       'life', 'lifestyle', 'local', 'movie', 'politic', 'social',\n",
       "       'sport', 'technology'], dtype=object)"
      ]
     },
     "execution_count": 96,
     "metadata": {},
     "output_type": "execute_result"
    }
   ],
   "source": [
    "items_df[\"CATEGORY\"].unique()"
   ]
  },
  {
   "cell_type": "code",
   "execution_count": null,
   "metadata": {},
   "outputs": [],
   "source": []
  }
 ],
 "metadata": {
  "kernelspec": {
   "display_name": "Python 3",
   "language": "python",
   "name": "python3"
  },
  "language_info": {
   "codemirror_mode": {
    "name": "ipython",
    "version": 3
   },
   "file_extension": ".py",
   "mimetype": "text/x-python",
   "name": "python",
   "nbconvert_exporter": "python",
   "pygments_lexer": "ipython3",
   "version": "3.8.5-final"
  }
 },
 "nbformat": 4,
 "nbformat_minor": 4
}