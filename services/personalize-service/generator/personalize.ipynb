{
 "cells": [
  {
   "cell_type": "code",
   "execution_count": 1,
   "metadata": {},
   "outputs": [],
   "source": [
    "# Import Dependencies\n",
    "\n",
    "import csv\n",
    "import json\n",
    "import random\n",
    "import sys\n",
    "import time\n",
    "import uuid\n",
    "from collections import defaultdict\n",
    "from pathlib import Path\n",
    "\n",
    "import boto3\n",
    "import botocore\n",
    "import matplotlib as mpl\n",
    "import matplotlib.pyplot as plt\n",
    "import numpy as np\n",
    "import pandas as pd\n",
    "import requests\n",
    "import seaborn as sns\n",
    "from botocore.exceptions import ClientError\n",
    "from packaging import version\n",
    "\n",
    "%matplotlib inline\n",
    "\n",
    "# Setup Clients\n",
    "\n",
    "personalize = boto3.client(\"personalize\")\n",
    "personalize_runtime = boto3.client(\"personalize-runtime\")\n",
    "personalize_events = boto3.client(\"personalize-events\")\n",
    "\n",
    "servicediscovery = boto3.client(\"servicediscovery\")\n",
    "ssm = boto3.client(\"ssm\")"
   ]
  },
  {
   "cell_type": "code",
   "execution_count": 2,
   "metadata": {},
   "outputs": [
    {
     "name": "stdout",
     "output_type": "stream",
     "text": [
      "Bucket: spent-service-personalize-datasets\n"
     ]
    }
   ],
   "source": [
    "users_filename = \"data/users.csv\"\n",
    "items_filename = \"data/items.csv\"\n",
    "interactions_filename = \"data/interactions.csv\"\n",
    "\n",
    "bucket = \"spent-service-personalize-datasets\"\n",
    "print(\"Bucket: {}\".format(bucket))"
   ]
  },
  {
   "cell_type": "code",
   "execution_count": 3,
   "metadata": {},
   "outputs": [
    {
     "data": {
      "text/html": [
       "<div>\n",
       "<style scoped>\n",
       "    .dataframe tbody tr th:only-of-type {\n",
       "        vertical-align: middle;\n",
       "    }\n",
       "\n",
       "    .dataframe tbody tr th {\n",
       "        vertical-align: top;\n",
       "    }\n",
       "\n",
       "    .dataframe thead th {\n",
       "        text-align: right;\n",
       "    }\n",
       "</style>\n",
       "<table border=\"1\" class=\"dataframe\">\n",
       "  <thead>\n",
       "    <tr style=\"text-align: right;\">\n",
       "      <th></th>\n",
       "      <th>USER_ID</th>\n",
       "      <th>AGE</th>\n",
       "      <th>GENDER</th>\n",
       "    </tr>\n",
       "  </thead>\n",
       "  <tbody>\n",
       "    <tr>\n",
       "      <th>0</th>\n",
       "      <td>1</td>\n",
       "      <td>31</td>\n",
       "      <td>M</td>\n",
       "    </tr>\n",
       "    <tr>\n",
       "      <th>1</th>\n",
       "      <td>2</td>\n",
       "      <td>58</td>\n",
       "      <td>F</td>\n",
       "    </tr>\n",
       "    <tr>\n",
       "      <th>2</th>\n",
       "      <td>3</td>\n",
       "      <td>43</td>\n",
       "      <td>M</td>\n",
       "    </tr>\n",
       "    <tr>\n",
       "      <th>3</th>\n",
       "      <td>4</td>\n",
       "      <td>38</td>\n",
       "      <td>M</td>\n",
       "    </tr>\n",
       "    <tr>\n",
       "      <th>4</th>\n",
       "      <td>5</td>\n",
       "      <td>24</td>\n",
       "      <td>M</td>\n",
       "    </tr>\n",
       "  </tbody>\n",
       "</table>\n",
       "</div>"
      ],
      "text/plain": [
       "   USER_ID  AGE GENDER\n",
       "0        1   31      M\n",
       "1        2   58      F\n",
       "2        3   43      M\n",
       "3        4   38      M\n",
       "4        5   24      M"
      ]
     },
     "execution_count": 3,
     "metadata": {},
     "output_type": "execute_result"
    }
   ],
   "source": [
    "users_df = pd.read_csv(users_filename)\n",
    "users_df.head()"
   ]
  },
  {
   "cell_type": "code",
   "execution_count": 4,
   "metadata": {},
   "outputs": [
    {
     "data": {
      "text/html": [
       "<div>\n",
       "<style scoped>\n",
       "    .dataframe tbody tr th:only-of-type {\n",
       "        vertical-align: middle;\n",
       "    }\n",
       "\n",
       "    .dataframe tbody tr th {\n",
       "        vertical-align: top;\n",
       "    }\n",
       "\n",
       "    .dataframe thead th {\n",
       "        text-align: right;\n",
       "    }\n",
       "</style>\n",
       "<table border=\"1\" class=\"dataframe\">\n",
       "  <thead>\n",
       "    <tr style=\"text-align: right;\">\n",
       "      <th></th>\n",
       "      <th>ITEM_ID</th>\n",
       "      <th>CATEGORY</th>\n",
       "    </tr>\n",
       "  </thead>\n",
       "  <tbody>\n",
       "    <tr>\n",
       "      <th>0</th>\n",
       "      <td>42aaa8f7-b5a5-467e-b2c1-b02015c99426</td>\n",
       "      <td>การศึกษา</td>\n",
       "    </tr>\n",
       "    <tr>\n",
       "      <th>1</th>\n",
       "      <td>33fc5477-fd95-4fe1-b22c-62c71c407941</td>\n",
       "      <td>การศึกษา</td>\n",
       "    </tr>\n",
       "    <tr>\n",
       "      <th>2</th>\n",
       "      <td>afb14043-869a-479e-902f-f3706f6f2f57</td>\n",
       "      <td>การศึกษา</td>\n",
       "    </tr>\n",
       "    <tr>\n",
       "      <th>3</th>\n",
       "      <td>b7353a81-9472-4c88-975a-0fd1f9d47cbd</td>\n",
       "      <td>การศึกษา</td>\n",
       "    </tr>\n",
       "    <tr>\n",
       "      <th>4</th>\n",
       "      <td>ec8c9eb8-75ac-4d2e-8ef1-99bb8bc23055</td>\n",
       "      <td>การศึกษา</td>\n",
       "    </tr>\n",
       "  </tbody>\n",
       "</table>\n",
       "</div>"
      ],
      "text/plain": [
       "                                ITEM_ID  CATEGORY\n",
       "0  42aaa8f7-b5a5-467e-b2c1-b02015c99426  การศึกษา\n",
       "1  33fc5477-fd95-4fe1-b22c-62c71c407941  การศึกษา\n",
       "2  afb14043-869a-479e-902f-f3706f6f2f57  การศึกษา\n",
       "3  b7353a81-9472-4c88-975a-0fd1f9d47cbd  การศึกษา\n",
       "4  ec8c9eb8-75ac-4d2e-8ef1-99bb8bc23055  การศึกษา"
      ]
     },
     "execution_count": 4,
     "metadata": {},
     "output_type": "execute_result"
    }
   ],
   "source": [
    "items_df = pd.read_csv(items_filename)\n",
    "items_df.head()"
   ]
  },
  {
   "cell_type": "code",
   "execution_count": 5,
   "metadata": {},
   "outputs": [
    {
     "data": {
      "text/html": [
       "<div>\n",
       "<style scoped>\n",
       "    .dataframe tbody tr th:only-of-type {\n",
       "        vertical-align: middle;\n",
       "    }\n",
       "\n",
       "    .dataframe tbody tr th {\n",
       "        vertical-align: top;\n",
       "    }\n",
       "\n",
       "    .dataframe thead th {\n",
       "        text-align: right;\n",
       "    }\n",
       "</style>\n",
       "<table border=\"1\" class=\"dataframe\">\n",
       "  <thead>\n",
       "    <tr style=\"text-align: right;\">\n",
       "      <th></th>\n",
       "      <th>ITEM_ID</th>\n",
       "      <th>USER_ID</th>\n",
       "      <th>EVENT_TYPE</th>\n",
       "      <th>TIMESTAMP</th>\n",
       "    </tr>\n",
       "  </thead>\n",
       "  <tbody>\n",
       "    <tr>\n",
       "      <th>0</th>\n",
       "      <td>d38dd892-1811-4c72-a4e0-7aa3f38d0213</td>\n",
       "      <td>198</td>\n",
       "      <td>news_viewed</td>\n",
       "      <td>1612599851</td>\n",
       "    </tr>\n",
       "    <tr>\n",
       "      <th>1</th>\n",
       "      <td>d38dd892-1811-4c72-a4e0-7aa3f38d0213</td>\n",
       "      <td>198</td>\n",
       "      <td>news_viewed</td>\n",
       "      <td>1612599851</td>\n",
       "    </tr>\n",
       "    <tr>\n",
       "      <th>2</th>\n",
       "      <td>5fa995f7-3521-49de-bad7-1582264f143d</td>\n",
       "      <td>216</td>\n",
       "      <td>news_viewed</td>\n",
       "      <td>1612599875</td>\n",
       "    </tr>\n",
       "    <tr>\n",
       "      <th>3</th>\n",
       "      <td>5fa995f7-3521-49de-bad7-1582264f143d</td>\n",
       "      <td>216</td>\n",
       "      <td>news_viewed</td>\n",
       "      <td>1612599875</td>\n",
       "    </tr>\n",
       "    <tr>\n",
       "      <th>4</th>\n",
       "      <td>0b26e565-a251-4410-bff5-f20920d9435b</td>\n",
       "      <td>133</td>\n",
       "      <td>news_viewed</td>\n",
       "      <td>1612599919</td>\n",
       "    </tr>\n",
       "  </tbody>\n",
       "</table>\n",
       "</div>"
      ],
      "text/plain": [
       "                                ITEM_ID  USER_ID   EVENT_TYPE   TIMESTAMP\n",
       "0  d38dd892-1811-4c72-a4e0-7aa3f38d0213      198  news_viewed  1612599851\n",
       "1  d38dd892-1811-4c72-a4e0-7aa3f38d0213      198  news_viewed  1612599851\n",
       "2  5fa995f7-3521-49de-bad7-1582264f143d      216  news_viewed  1612599875\n",
       "3  5fa995f7-3521-49de-bad7-1582264f143d      216  news_viewed  1612599875\n",
       "4  0b26e565-a251-4410-bff5-f20920d9435b      133  news_viewed  1612599919"
      ]
     },
     "execution_count": 5,
     "metadata": {},
     "output_type": "execute_result"
    }
   ],
   "source": [
    "interactions_df = pd.read_csv(interactions_filename)\n",
    "interactions_df.head()"
   ]
  },
  {
   "cell_type": "code",
   "execution_count": 6,
   "metadata": {},
   "outputs": [
    {
     "data": {
      "text/html": [
       "<div>\n",
       "<style scoped>\n",
       "    .dataframe tbody tr th:only-of-type {\n",
       "        vertical-align: middle;\n",
       "    }\n",
       "\n",
       "    .dataframe tbody tr th {\n",
       "        vertical-align: top;\n",
       "    }\n",
       "\n",
       "    .dataframe thead th {\n",
       "        text-align: right;\n",
       "    }\n",
       "</style>\n",
       "<table border=\"1\" class=\"dataframe\">\n",
       "  <thead>\n",
       "    <tr style=\"text-align: right;\">\n",
       "      <th></th>\n",
       "      <th>id</th>\n",
       "      <th>source</th>\n",
       "      <th>pubDate</th>\n",
       "      <th>url</th>\n",
       "      <th>image</th>\n",
       "      <th>title</th>\n",
       "      <th>summary</th>\n",
       "      <th>category</th>\n",
       "      <th>tags</th>\n",
       "      <th>raw_html_content</th>\n",
       "    </tr>\n",
       "  </thead>\n",
       "  <tbody>\n",
       "    <tr>\n",
       "      <th>0</th>\n",
       "      <td>42aaa8f7-b5a5-467e-b2c1-b02015c99426</td>\n",
       "      <td>มติชน</td>\n",
       "      <td>2021-01-12T07:06:07Z</td>\n",
       "      <td>https://www.matichon.co.th/news-monitor/news_2...</td>\n",
       "      <td>https://www.matichon.co.th/wp-content/uploads/...</td>\n",
       "      <td>‘ณัฏฐพล’ ถกสำนักงบฯ เร่งผลักดันโครงการพัฒนาร.ร...</td>\n",
       "      <td>‘ณัฏฐพล’ ถกสำนักงบฯ เร่งผลักดันโครงการพัฒนาร.ร...</td>\n",
       "      <td>การศึกษา</td>\n",
       "      <td>NaN</td>\n",
       "      <td>&lt;div class=\"td-post-content\"&gt;\\n\\n\\n  &lt;h2&gt;‘ณัฏฐ...</td>\n",
       "    </tr>\n",
       "    <tr>\n",
       "      <th>1</th>\n",
       "      <td>33fc5477-fd95-4fe1-b22c-62c71c407941</td>\n",
       "      <td>มติชน</td>\n",
       "      <td>2021-01-29T07:42:43+00:00</td>\n",
       "      <td>https://www.matichon.co.th/education/news_2552500</td>\n",
       "      <td>https://www.matichon.co.th/wp-content/uploads/...</td>\n",
       "      <td>มทร.อีสาน ปลื้มแชมป์กลุ่มราชมงคล 2 ปีซ้อน</td>\n",
       "      <td>มทร.อีสาน ปลื้มแชมป์กลุ่มราชมงคล 2 ปีซ้อน</td>\n",
       "      <td>การศึกษา</td>\n",
       "      <td>มทร.อีสาน</td>\n",
       "      <td>&lt;div class=\"td-post-content\"&gt;\\n\\n\\n  &lt;h4&gt;&lt;stro...</td>\n",
       "    </tr>\n",
       "    <tr>\n",
       "      <th>2</th>\n",
       "      <td>afb14043-869a-479e-902f-f3706f6f2f57</td>\n",
       "      <td>มติชน</td>\n",
       "      <td>2021-01-12T01:37:47Z</td>\n",
       "      <td>https://www.matichon.co.th/news-monitor/news_2...</td>\n",
       "      <td>https://www.matichon.co.th/wp-content/uploads/...</td>\n",
       "      <td>กสศ.เร่งจัดแพ็คเกจการเรียนรู้ ช่วยเด็กเยาวชนด้...</td>\n",
       "      <td>กสศ.เร่งจัดแพ็คเกจการเรียนรู้ ช่วยเด็กเยาวชนด้...</td>\n",
       "      <td>การศึกษา</td>\n",
       "      <td>NaN</td>\n",
       "      <td>&lt;div class=\"td-post-content\"&gt;\\n\\n\\n  &lt;h2&gt;&lt;stro...</td>\n",
       "    </tr>\n",
       "    <tr>\n",
       "      <th>3</th>\n",
       "      <td>b7353a81-9472-4c88-975a-0fd1f9d47cbd</td>\n",
       "      <td>มติชน</td>\n",
       "      <td>2021-01-29T07:45:31+00:00</td>\n",
       "      <td>https://www.matichon.co.th/education/news_2553069</td>\n",
       "      <td>https://www.matichon.co.th/wp-content/uploads/...</td>\n",
       "      <td>ก.พ.อ.เห็นชอบเพิ่มช่องขอ ‘ศ.’ ตั้ง  ‘บวรศักดิ์...</td>\n",
       "      <td>ก.พ.อ.เห็นชอบเพิ่มช่องขอ ‘ศ.’ ตั้ง  ‘บวรศักดิ์...</td>\n",
       "      <td>การศึกษา</td>\n",
       "      <td>NaN</td>\n",
       "      <td>&lt;div class=\"td-post-content\"&gt;\\n\\n\\n  &lt;h5&gt;&lt;span...</td>\n",
       "    </tr>\n",
       "    <tr>\n",
       "      <th>4</th>\n",
       "      <td>ec8c9eb8-75ac-4d2e-8ef1-99bb8bc23055</td>\n",
       "      <td>มติชน</td>\n",
       "      <td>2021-01-27T10:39:37+00:00</td>\n",
       "      <td>https://www.matichon.co.th/education/religious...</td>\n",
       "      <td>https://www.matichon.co.th/wp-content/uploads/...</td>\n",
       "      <td>พระราชทานสัญญาบัตรตั้งสมณศักดิ์ ‘พระราชปริยัติ...</td>\n",
       "      <td>พระราชทานสัญญาบัตรตั้งสมณศักดิ์ ‘พระราชปริยัติ...</td>\n",
       "      <td>การศึกษา</td>\n",
       "      <td>NaN</td>\n",
       "      <td>&lt;div class=\"td-post-content\"&gt;\\n\\n\\n  &lt;p&gt;วันที่...</td>\n",
       "    </tr>\n",
       "  </tbody>\n",
       "</table>\n",
       "</div>"
      ],
      "text/plain": [
       "                                     id source                    pubDate  \\\n",
       "0  42aaa8f7-b5a5-467e-b2c1-b02015c99426  มติชน       2021-01-12T07:06:07Z   \n",
       "1  33fc5477-fd95-4fe1-b22c-62c71c407941  มติชน  2021-01-29T07:42:43+00:00   \n",
       "2  afb14043-869a-479e-902f-f3706f6f2f57  มติชน       2021-01-12T01:37:47Z   \n",
       "3  b7353a81-9472-4c88-975a-0fd1f9d47cbd  มติชน  2021-01-29T07:45:31+00:00   \n",
       "4  ec8c9eb8-75ac-4d2e-8ef1-99bb8bc23055  มติชน  2021-01-27T10:39:37+00:00   \n",
       "\n",
       "                                                 url  \\\n",
       "0  https://www.matichon.co.th/news-monitor/news_2...   \n",
       "1  https://www.matichon.co.th/education/news_2552500   \n",
       "2  https://www.matichon.co.th/news-monitor/news_2...   \n",
       "3  https://www.matichon.co.th/education/news_2553069   \n",
       "4  https://www.matichon.co.th/education/religious...   \n",
       "\n",
       "                                               image  \\\n",
       "0  https://www.matichon.co.th/wp-content/uploads/...   \n",
       "1  https://www.matichon.co.th/wp-content/uploads/...   \n",
       "2  https://www.matichon.co.th/wp-content/uploads/...   \n",
       "3  https://www.matichon.co.th/wp-content/uploads/...   \n",
       "4  https://www.matichon.co.th/wp-content/uploads/...   \n",
       "\n",
       "                                               title  \\\n",
       "0  ‘ณัฏฐพล’ ถกสำนักงบฯ เร่งผลักดันโครงการพัฒนาร.ร...   \n",
       "1          มทร.อีสาน ปลื้มแชมป์กลุ่มราชมงคล 2 ปีซ้อน   \n",
       "2  กสศ.เร่งจัดแพ็คเกจการเรียนรู้ ช่วยเด็กเยาวชนด้...   \n",
       "3  ก.พ.อ.เห็นชอบเพิ่มช่องขอ ‘ศ.’ ตั้ง  ‘บวรศักดิ์...   \n",
       "4  พระราชทานสัญญาบัตรตั้งสมณศักดิ์ ‘พระราชปริยัติ...   \n",
       "\n",
       "                                             summary  category       tags  \\\n",
       "0  ‘ณัฏฐพล’ ถกสำนักงบฯ เร่งผลักดันโครงการพัฒนาร.ร...  การศึกษา        NaN   \n",
       "1          มทร.อีสาน ปลื้มแชมป์กลุ่มราชมงคล 2 ปีซ้อน  การศึกษา  มทร.อีสาน   \n",
       "2  กสศ.เร่งจัดแพ็คเกจการเรียนรู้ ช่วยเด็กเยาวชนด้...  การศึกษา        NaN   \n",
       "3  ก.พ.อ.เห็นชอบเพิ่มช่องขอ ‘ศ.’ ตั้ง  ‘บวรศักดิ์...  การศึกษา        NaN   \n",
       "4  พระราชทานสัญญาบัตรตั้งสมณศักดิ์ ‘พระราชปริยัติ...  การศึกษา        NaN   \n",
       "\n",
       "                                    raw_html_content  \n",
       "0  <div class=\"td-post-content\">\\n\\n\\n  <h2>‘ณัฏฐ...  \n",
       "1  <div class=\"td-post-content\">\\n\\n\\n  <h4><stro...  \n",
       "2  <div class=\"td-post-content\">\\n\\n\\n  <h2><stro...  \n",
       "3  <div class=\"td-post-content\">\\n\\n\\n  <h5><span...  \n",
       "4  <div class=\"td-post-content\">\\n\\n\\n  <p>วันที่...  "
      ]
     },
     "execution_count": 6,
     "metadata": {},
     "output_type": "execute_result"
    }
   ],
   "source": [
    "items_raw_df = pd.read_csv(\"data/items_raw.csv\")\n",
    "items_raw_df.head()"
   ]
  },
  {
   "cell_type": "code",
   "execution_count": 191,
   "metadata": {},
   "outputs": [
    {
     "data": {
      "image/png": "[encoded data removed]",
      "text/plain": [
       "<Figure size 1152x216 with 1 Axes>"
      ]
     },
     "metadata": {
      "needs_background": "light"
     },
     "output_type": "display_data"
    }
   ],
   "source": [
    "categorical_attributes = interactions_df.select_dtypes(include=[\"object\"])\n",
    "\n",
    "plt.figure(figsize=(16, 3))\n",
    "chart = sns.countplot(data=categorical_attributes, x=\"EVENT_TYPE\")\n",
    "plt.xticks(rotation=90, horizontalalignment=\"right\")\n",
    "plt.show()"
   ]
  },
  {
   "cell_type": "code",
   "execution_count": 192,
   "metadata": {},
   "outputs": [],
   "source": [
    "# !wget -q https://github.com/Phonbopit/sarabun-webfont/raw/master/fonts/thsarabunnew-webfont.ttf"
   ]
  },
  {
   "cell_type": "code",
   "execution_count": 193,
   "metadata": {},
   "outputs": [],
   "source": [
    "mpl.font_manager.fontManager.addfont(\"thsarabunnew-webfont.ttf\")\n",
    "mpl.rc(\"font\", family=\"TH Sarabun New\")"
   ]
  },
  {
   "cell_type": "code",
   "execution_count": 194,
   "metadata": {},
   "outputs": [
    {
     "data": {
      "image/png": "[encoded data removed]",
      "text/plain": [
       "<Figure size 1152x216 with 1 Axes>"
      ]
     },
     "metadata": {
      "needs_background": "light"
     },
     "output_type": "display_data"
    }
   ],
   "source": [
    "plt.figure(figsize=(16, 3))\n",
    "chart = sns.countplot(data=items_df, x=\"CATEGORY\")\n",
    "plt.xticks(rotation=90, horizontalalignment=\"right\")\n",
    "plt.show()"
   ]
  },
  {
   "cell_type": "code",
   "execution_count": 195,
   "metadata": {},
   "outputs": [
    {
     "data": {
      "text/html": [
       "<div>\n",
       "<style scoped>\n",
       "    .dataframe tbody tr th:only-of-type {\n",
       "        vertical-align: middle;\n",
       "    }\n",
       "\n",
       "    .dataframe tbody tr th {\n",
       "        vertical-align: top;\n",
       "    }\n",
       "\n",
       "    .dataframe thead th {\n",
       "        text-align: right;\n",
       "    }\n",
       "</style>\n",
       "<table border=\"1\" class=\"dataframe\">\n",
       "  <thead>\n",
       "    <tr style=\"text-align: right;\">\n",
       "      <th></th>\n",
       "      <th>ITEM_ID</th>\n",
       "    </tr>\n",
       "    <tr>\n",
       "      <th>CATEGORY</th>\n",
       "      <th></th>\n",
       "    </tr>\n",
       "  </thead>\n",
       "  <tbody>\n",
       "    <tr>\n",
       "      <th>การศึกษา</th>\n",
       "      <td>90</td>\n",
       "    </tr>\n",
       "    <tr>\n",
       "      <th>การเมือง</th>\n",
       "      <td>90</td>\n",
       "    </tr>\n",
       "    <tr>\n",
       "      <th>กีฬา</th>\n",
       "      <td>90</td>\n",
       "    </tr>\n",
       "    <tr>\n",
       "      <th>คุณภาพชีวิต</th>\n",
       "      <td>90</td>\n",
       "    </tr>\n",
       "    <tr>\n",
       "      <th>ต่างประเทศ</th>\n",
       "      <td>90</td>\n",
       "    </tr>\n",
       "    <tr>\n",
       "      <th>บันเทิง</th>\n",
       "      <td>90</td>\n",
       "    </tr>\n",
       "    <tr>\n",
       "      <th>ภาพยนตร์</th>\n",
       "      <td>90</td>\n",
       "    </tr>\n",
       "    <tr>\n",
       "      <th>สังคม</th>\n",
       "      <td>90</td>\n",
       "    </tr>\n",
       "    <tr>\n",
       "      <th>อาชญากรรม</th>\n",
       "      <td>90</td>\n",
       "    </tr>\n",
       "    <tr>\n",
       "      <th>เทคโนโลยี</th>\n",
       "      <td>90</td>\n",
       "    </tr>\n",
       "    <tr>\n",
       "      <th>เศรษฐกิจ</th>\n",
       "      <td>90</td>\n",
       "    </tr>\n",
       "    <tr>\n",
       "      <th>ในประเทศ</th>\n",
       "      <td>90</td>\n",
       "    </tr>\n",
       "    <tr>\n",
       "      <th>ไลฟ์สไตล์</th>\n",
       "      <td>90</td>\n",
       "    </tr>\n",
       "  </tbody>\n",
       "</table>\n",
       "</div>"
      ],
      "text/plain": [
       "             ITEM_ID\n",
       "CATEGORY            \n",
       "การศึกษา          90\n",
       "การเมือง          90\n",
       "กีฬา              90\n",
       "คุณภาพชีวิต       90\n",
       "ต่างประเทศ        90\n",
       "บันเทิง           90\n",
       "ภาพยนตร์          90\n",
       "สังคม             90\n",
       "อาชญากรรม         90\n",
       "เทคโนโลยี         90\n",
       "เศรษฐกิจ          90\n",
       "ในประเทศ          90\n",
       "ไลฟ์สไตล์         90"
      ]
     },
     "execution_count": 195,
     "metadata": {},
     "output_type": "execute_result"
    }
   ],
   "source": [
    "items_df.groupby(\"CATEGORY\").count()"
   ]
  },
  {
   "cell_type": "code",
   "execution_count": 196,
   "metadata": {},
   "outputs": [
    {
     "data": {
      "image/png": "[encoded data removed]",
      "text/plain": [
       "<Figure size 1152x216 with 1 Axes>"
      ]
     },
     "metadata": {
      "needs_background": "light"
     },
     "output_type": "display_data"
    }
   ],
   "source": [
    "merged_df = interactions_df.astype({\"ITEM_ID\": str}).merge(\n",
    "    items_df, left_on=\"ITEM_ID\", right_on=\"ITEM_ID\"\n",
    ")\n",
    "merged_df\n",
    "# plot_df = merged_df.groupby([\"category\"]).apply(set)\n",
    "plt.figure(figsize=(16, 3))\n",
    "chart = sns.countplot(data=merged_df, x=\"CATEGORY\")\n",
    "plt.xticks(rotation=90, horizontalalignment=\"right\")\n",
    "plt.show()"
   ]
  },
  {
   "cell_type": "code",
   "execution_count": 199,
   "metadata": {},
   "outputs": [
    {
     "data": {
      "image/png": "[encoded data removed]",
      "text/plain": [
       "<Figure size 432x288 with 1 Axes>"
      ]
     },
     "metadata": {
      "needs_background": "light"
     },
     "output_type": "display_data"
    }
   ],
   "source": [
    "merged_df = (\n",
    "    interactions_df[[\"ITEM_ID\", \"USER_ID\"]]\n",
    "    .astype({\"ITEM_ID\": str})\n",
    "    .merge(items_df, left_on=\"ITEM_ID\", right_on=\"ITEM_ID\")\n",
    ")\n",
    "plot_df = merged_df.groupby([\"USER_ID\", \"CATEGORY\"]).apply(set)\n",
    "plot_df.apply(len).value_counts().sort_index().plot.bar()\n",
    "plt.xlabel(\"Number of different news examined by user.\")\n",
    "plt.title(\n",
    "    f\"We should have reduced users to a small number of news\\n\"\n",
    "    f\"maximum size should be {4+1}\"\n",
    ")\n",
    "# The peak at 1 is the male jewellery - there is only one product\n",
    "plt.show()"
   ]
  },
  {
   "cell_type": "code",
   "execution_count": 264,
   "metadata": {},
   "outputs": [
    {
     "data": {
      "text/plain": [
       "<AxesSubplot:>"
      ]
     },
     "execution_count": 264,
     "metadata": {},
     "output_type": "execute_result"
    },
    {
     "data": {
      "image/png": "[encoded data removed]",
      "text/plain": [
       "<Figure size 432x288 with 1 Axes>"
      ]
     },
     "metadata": {
      "needs_background": "light"
     },
     "output_type": "display_data"
    }
   ],
   "source": [
    "merged_df = (\n",
    "    interactions_df[[\"ITEM_ID\", \"USER_ID\"]]\n",
    "    .astype({\"ITEM_ID\": str})\n",
    "    .merge(items_df, left_on=\"ITEM_ID\", right_on=\"ITEM_ID\")\n",
    ")\n",
    "plot_df = merged_df[['USER_ID', 'CATEGORY']].groupby([\"USER_ID\", 'CATEGORY']).apply(set)\n",
    "test_df = merged_df[['USER_ID', 'CATEGORY']].groupby([\"USER_ID\", 'CATEGORY'])\n",
    "test_df.apply(len).value_counts().sort_index().plot.bar()\n",
    "# plot_df.apply(len).value_counts().sort_index().plot.bar()\n",
    "# plt.xlabel(\"Number of different category examined by user.\")\n",
    "# plt.title(\n",
    "#     f\"We should have reduced users to a small number of news\\n\"\n",
    "#     f\"maximum size should be {4+1}\"\n",
    "# )\n",
    "# # The peak at 1 is the male jewellery - there is only one product\n",
    "# plt.show()"
   ]
  },
  {
   "cell_type": "code",
   "execution_count": 265,
   "metadata": {},
   "outputs": [
    {
     "data": {
      "text/plain": [
       "ITEM_ID\n",
       "006fb86a-cfed-448a-aaa5-972b237505b3    57\n",
       "00eec793-b3ae-433f-bb13-9a92183e6013    52\n",
       "0167ee85-90aa-440f-b44b-ea91514be723    65\n",
       "022069fd-0efc-4716-a426-e9b2df41d77c    61\n",
       "02349f27-48cf-47d4-83a4-4f44d064414f    38\n",
       "                                        ..\n",
       "fea104c2-00b6-4b92-835f-4721e5fb6020    39\n",
       "fea5a69e-bdaf-40e3-b952-9ef0c89f8b40    39\n",
       "ff34a8ef-bfe0-4c8f-92b1-b7a7a8aaf994    67\n",
       "ff6ed48d-8a3f-49b2-bc66-d348a216fe97    38\n",
       "ffa02fe6-4f64-4b1b-8b4f-63f2f09a87d4    29\n",
       "Name: USER_ID, Length: 1166, dtype: int64"
      ]
     },
     "execution_count": 265,
     "metadata": {},
     "output_type": "execute_result"
    }
   ],
   "source": [
    "interactions_df.groupby(\"ITEM_ID\")[\"USER_ID\"].count()"
   ]
  },
  {
   "cell_type": "code",
   "execution_count": 266,
   "metadata": {},
   "outputs": [
    {
     "data": {
      "text/html": [
       "<div>\n",
       "<style scoped>\n",
       "    .dataframe tbody tr th:only-of-type {\n",
       "        vertical-align: middle;\n",
       "    }\n",
       "\n",
       "    .dataframe tbody tr th {\n",
       "        vertical-align: top;\n",
       "    }\n",
       "\n",
       "    .dataframe thead th {\n",
       "        text-align: right;\n",
       "    }\n",
       "</style>\n",
       "<table border=\"1\" class=\"dataframe\">\n",
       "  <thead>\n",
       "    <tr style=\"text-align: right;\">\n",
       "      <th></th>\n",
       "      <th>ITEM_ID</th>\n",
       "      <th>EVENT_TYPE</th>\n",
       "      <th>TIMESTAMP</th>\n",
       "    </tr>\n",
       "    <tr>\n",
       "      <th>USER_ID</th>\n",
       "      <th></th>\n",
       "      <th></th>\n",
       "      <th></th>\n",
       "    </tr>\n",
       "  </thead>\n",
       "  <tbody>\n",
       "    <tr>\n",
       "      <th>1</th>\n",
       "      <td>127</td>\n",
       "      <td>127</td>\n",
       "      <td>127</td>\n",
       "    </tr>\n",
       "    <tr>\n",
       "      <th>2</th>\n",
       "      <td>111</td>\n",
       "      <td>111</td>\n",
       "      <td>111</td>\n",
       "    </tr>\n",
       "    <tr>\n",
       "      <th>3</th>\n",
       "      <td>110</td>\n",
       "      <td>110</td>\n",
       "      <td>110</td>\n",
       "    </tr>\n",
       "    <tr>\n",
       "      <th>4</th>\n",
       "      <td>136</td>\n",
       "      <td>136</td>\n",
       "      <td>136</td>\n",
       "    </tr>\n",
       "    <tr>\n",
       "      <th>5</th>\n",
       "      <td>123</td>\n",
       "      <td>123</td>\n",
       "      <td>123</td>\n",
       "    </tr>\n",
       "    <tr>\n",
       "      <th>...</th>\n",
       "      <td>...</td>\n",
       "      <td>...</td>\n",
       "      <td>...</td>\n",
       "    </tr>\n",
       "    <tr>\n",
       "      <th>396</th>\n",
       "      <td>147</td>\n",
       "      <td>147</td>\n",
       "      <td>147</td>\n",
       "    </tr>\n",
       "    <tr>\n",
       "      <th>397</th>\n",
       "      <td>170</td>\n",
       "      <td>170</td>\n",
       "      <td>170</td>\n",
       "    </tr>\n",
       "    <tr>\n",
       "      <th>398</th>\n",
       "      <td>115</td>\n",
       "      <td>115</td>\n",
       "      <td>115</td>\n",
       "    </tr>\n",
       "    <tr>\n",
       "      <th>399</th>\n",
       "      <td>132</td>\n",
       "      <td>132</td>\n",
       "      <td>132</td>\n",
       "    </tr>\n",
       "    <tr>\n",
       "      <th>400</th>\n",
       "      <td>93</td>\n",
       "      <td>93</td>\n",
       "      <td>93</td>\n",
       "    </tr>\n",
       "  </tbody>\n",
       "</table>\n",
       "<p>400 rows × 3 columns</p>\n",
       "</div>"
      ],
      "text/plain": [
       "         ITEM_ID  EVENT_TYPE  TIMESTAMP\n",
       "USER_ID                                \n",
       "1            127         127        127\n",
       "2            111         111        111\n",
       "3            110         110        110\n",
       "4            136         136        136\n",
       "5            123         123        123\n",
       "...          ...         ...        ...\n",
       "396          147         147        147\n",
       "397          170         170        170\n",
       "398          115         115        115\n",
       "399          132         132        132\n",
       "400           93          93         93\n",
       "\n",
       "[400 rows x 3 columns]"
      ]
     },
     "execution_count": 266,
     "metadata": {},
     "output_type": "execute_result"
    }
   ],
   "source": [
    "interactions_df.groupby(\"USER_ID\").count()"
   ]
  },
  {
   "cell_type": "code",
   "execution_count": 267,
   "metadata": {},
   "outputs": [],
   "source": [
    "# merged_df = interactions_df[['ITEM_ID', 'USER_ID']].astype({'ITEM_ID': str}).merge(items_df, left_on='ITEM_ID', right_on='ITEM_ID')[['ITEM_ID', 'CATEGORY', 'USER_ID']]\n",
    "# plot_df = merged_df.groupby(['ITEM_ID', 'CATEGORY'])['USER_ID'].count()\n",
    "# plot_df.unstack().plot.barh(figsize=[8, 16])\n",
    "# plt.title('Balance over products with category coded.')\n",
    "# plt.show()"
   ]
  },
  {
   "cell_type": "code",
   "execution_count": 268,
   "metadata": {},
   "outputs": [
    {
     "data": {
      "text/plain": [
       "1596"
      ]
     },
     "execution_count": 268,
     "metadata": {},
     "output_type": "execute_result"
    }
   ],
   "source": [
    "plot_df.count()"
   ]
  },
  {
   "cell_type": "code",
   "execution_count": 269,
   "metadata": {},
   "outputs": [],
   "source": [
    "s3 = boto3.resource(\"s3\")"
   ]
  },
  {
   "cell_type": "code",
   "execution_count": 270,
   "metadata": {},
   "outputs": [
    {
     "ename": "BucketAlreadyOwnedByYou",
     "evalue": "An error occurred (BucketAlreadyOwnedByYou) when calling the CreateBucket operation: Your previous request to create the named bucket succeeded and you already own it.",
     "output_type": "error",
     "traceback": [
      "\u001b[0;31m---------------------------------------------------------------------------\u001b[0m",
      "\u001b[0;31mBucketAlreadyOwnedByYou\u001b[0m                   Traceback (most recent call last)",
      "\u001b[0;32m<ipython-input-270-ae3b95d0b8c8>\u001b[0m in \u001b[0;36m<module>\u001b[0;34m\u001b[0m\n\u001b[0;32m----> 1\u001b[0;31m s3.create_bucket(\n\u001b[0m\u001b[1;32m      2\u001b[0m     \u001b[0mBucket\u001b[0m\u001b[0;34m=\u001b[0m\u001b[0mbucket\u001b[0m\u001b[0;34m,\u001b[0m\u001b[0;34m\u001b[0m\u001b[0;34m\u001b[0m\u001b[0m\n\u001b[1;32m      3\u001b[0m     CreateBucketConfiguration={\n\u001b[1;32m      4\u001b[0m         \u001b[0;34m\"LocationConstraint\"\u001b[0m\u001b[0;34m:\u001b[0m \u001b[0;34m\"ap-southeast-1\"\u001b[0m\u001b[0;34m,\u001b[0m\u001b[0;34m\u001b[0m\u001b[0;34m\u001b[0m\u001b[0m\n\u001b[1;32m      5\u001b[0m     },\n",
      "\u001b[0;32m~/.local/lib/python3.8/site-packages/boto3/resources/factory.py\u001b[0m in \u001b[0;36mdo_action\u001b[0;34m(self, *args, **kwargs)\u001b[0m\n\u001b[1;32m    518\u001b[0m             \u001b[0;31m# instance via ``self``.\u001b[0m\u001b[0;34m\u001b[0m\u001b[0;34m\u001b[0m\u001b[0;34m\u001b[0m\u001b[0m\n\u001b[1;32m    519\u001b[0m             \u001b[0;32mdef\u001b[0m \u001b[0mdo_action\u001b[0m\u001b[0;34m(\u001b[0m\u001b[0mself\u001b[0m\u001b[0;34m,\u001b[0m \u001b[0;34m*\u001b[0m\u001b[0margs\u001b[0m\u001b[0;34m,\u001b[0m \u001b[0;34m**\u001b[0m\u001b[0mkwargs\u001b[0m\u001b[0;34m)\u001b[0m\u001b[0;34m:\u001b[0m\u001b[0;34m\u001b[0m\u001b[0;34m\u001b[0m\u001b[0m\n\u001b[0;32m--> 520\u001b[0;31m                 \u001b[0mresponse\u001b[0m \u001b[0;34m=\u001b[0m \u001b[0maction\u001b[0m\u001b[0;34m(\u001b[0m\u001b[0mself\u001b[0m\u001b[0;34m,\u001b[0m \u001b[0;34m*\u001b[0m\u001b[0margs\u001b[0m\u001b[0;34m,\u001b[0m \u001b[0;34m**\u001b[0m\u001b[0mkwargs\u001b[0m\u001b[0;34m)\u001b[0m\u001b[0;34m\u001b[0m\u001b[0;34m\u001b[0m\u001b[0m\n\u001b[0m\u001b[1;32m    521\u001b[0m \u001b[0;34m\u001b[0m\u001b[0m\n\u001b[1;32m    522\u001b[0m                 \u001b[0;32mif\u001b[0m \u001b[0mhasattr\u001b[0m\u001b[0;34m(\u001b[0m\u001b[0mself\u001b[0m\u001b[0;34m,\u001b[0m \u001b[0;34m'load'\u001b[0m\u001b[0;34m)\u001b[0m\u001b[0;34m:\u001b[0m\u001b[0;34m\u001b[0m\u001b[0;34m\u001b[0m\u001b[0m\n",
      "\u001b[0;32m~/.local/lib/python3.8/site-packages/boto3/resources/action.py\u001b[0m in \u001b[0;36m__call__\u001b[0;34m(self, parent, *args, **kwargs)\u001b[0m\n\u001b[1;32m     81\u001b[0m                     operation_name, params)\n\u001b[1;32m     82\u001b[0m \u001b[0;34m\u001b[0m\u001b[0m\n\u001b[0;32m---> 83\u001b[0;31m         \u001b[0mresponse\u001b[0m \u001b[0;34m=\u001b[0m \u001b[0mgetattr\u001b[0m\u001b[0;34m(\u001b[0m\u001b[0mparent\u001b[0m\u001b[0;34m.\u001b[0m\u001b[0mmeta\u001b[0m\u001b[0;34m.\u001b[0m\u001b[0mclient\u001b[0m\u001b[0;34m,\u001b[0m \u001b[0moperation_name\u001b[0m\u001b[0;34m)\u001b[0m\u001b[0;34m(\u001b[0m\u001b[0;34m*\u001b[0m\u001b[0margs\u001b[0m\u001b[0;34m,\u001b[0m \u001b[0;34m**\u001b[0m\u001b[0mparams\u001b[0m\u001b[0;34m)\u001b[0m\u001b[0;34m\u001b[0m\u001b[0;34m\u001b[0m\u001b[0m\n\u001b[0m\u001b[1;32m     84\u001b[0m \u001b[0;34m\u001b[0m\u001b[0m\n\u001b[1;32m     85\u001b[0m         \u001b[0mlogger\u001b[0m\u001b[0;34m.\u001b[0m\u001b[0mdebug\u001b[0m\u001b[0;34m(\u001b[0m\u001b[0;34m'Response: %r'\u001b[0m\u001b[0;34m,\u001b[0m \u001b[0mresponse\u001b[0m\u001b[0;34m)\u001b[0m\u001b[0;34m\u001b[0m\u001b[0;34m\u001b[0m\u001b[0m\n",
      "\u001b[0;32m~/.local/lib/python3.8/site-packages/botocore/client.py\u001b[0m in \u001b[0;36m_api_call\u001b[0;34m(self, *args, **kwargs)\u001b[0m\n\u001b[1;32m    355\u001b[0m                     \"%s() only accepts keyword arguments.\" % py_operation_name)\n\u001b[1;32m    356\u001b[0m             \u001b[0;31m# The \"self\" in this scope is referring to the BaseClient.\u001b[0m\u001b[0;34m\u001b[0m\u001b[0;34m\u001b[0m\u001b[0;34m\u001b[0m\u001b[0m\n\u001b[0;32m--> 357\u001b[0;31m             \u001b[0;32mreturn\u001b[0m \u001b[0mself\u001b[0m\u001b[0;34m.\u001b[0m\u001b[0m_make_api_call\u001b[0m\u001b[0;34m(\u001b[0m\u001b[0moperation_name\u001b[0m\u001b[0;34m,\u001b[0m \u001b[0mkwargs\u001b[0m\u001b[0;34m)\u001b[0m\u001b[0;34m\u001b[0m\u001b[0;34m\u001b[0m\u001b[0m\n\u001b[0m\u001b[1;32m    358\u001b[0m \u001b[0;34m\u001b[0m\u001b[0m\n\u001b[1;32m    359\u001b[0m         \u001b[0m_api_call\u001b[0m\u001b[0;34m.\u001b[0m\u001b[0m__name__\u001b[0m \u001b[0;34m=\u001b[0m \u001b[0mstr\u001b[0m\u001b[0;34m(\u001b[0m\u001b[0mpy_operation_name\u001b[0m\u001b[0;34m)\u001b[0m\u001b[0;34m\u001b[0m\u001b[0;34m\u001b[0m\u001b[0m\n",
      "\u001b[0;32m~/.local/lib/python3.8/site-packages/botocore/client.py\u001b[0m in \u001b[0;36m_make_api_call\u001b[0;34m(self, operation_name, api_params)\u001b[0m\n\u001b[1;32m    674\u001b[0m             \u001b[0merror_code\u001b[0m \u001b[0;34m=\u001b[0m \u001b[0mparsed_response\u001b[0m\u001b[0;34m.\u001b[0m\u001b[0mget\u001b[0m\u001b[0;34m(\u001b[0m\u001b[0;34m\"Error\"\u001b[0m\u001b[0;34m,\u001b[0m \u001b[0;34m{\u001b[0m\u001b[0;34m}\u001b[0m\u001b[0;34m)\u001b[0m\u001b[0;34m.\u001b[0m\u001b[0mget\u001b[0m\u001b[0;34m(\u001b[0m\u001b[0;34m\"Code\"\u001b[0m\u001b[0;34m)\u001b[0m\u001b[0;34m\u001b[0m\u001b[0;34m\u001b[0m\u001b[0m\n\u001b[1;32m    675\u001b[0m             \u001b[0merror_class\u001b[0m \u001b[0;34m=\u001b[0m \u001b[0mself\u001b[0m\u001b[0;34m.\u001b[0m\u001b[0mexceptions\u001b[0m\u001b[0;34m.\u001b[0m\u001b[0mfrom_code\u001b[0m\u001b[0;34m(\u001b[0m\u001b[0merror_code\u001b[0m\u001b[0;34m)\u001b[0m\u001b[0;34m\u001b[0m\u001b[0;34m\u001b[0m\u001b[0m\n\u001b[0;32m--> 676\u001b[0;31m             \u001b[0;32mraise\u001b[0m \u001b[0merror_class\u001b[0m\u001b[0;34m(\u001b[0m\u001b[0mparsed_response\u001b[0m\u001b[0;34m,\u001b[0m \u001b[0moperation_name\u001b[0m\u001b[0;34m)\u001b[0m\u001b[0;34m\u001b[0m\u001b[0;34m\u001b[0m\u001b[0m\n\u001b[0m\u001b[1;32m    677\u001b[0m         \u001b[0;32melse\u001b[0m\u001b[0;34m:\u001b[0m\u001b[0;34m\u001b[0m\u001b[0;34m\u001b[0m\u001b[0m\n\u001b[1;32m    678\u001b[0m             \u001b[0;32mreturn\u001b[0m \u001b[0mparsed_response\u001b[0m\u001b[0;34m\u001b[0m\u001b[0;34m\u001b[0m\u001b[0m\n",
      "\u001b[0;31mBucketAlreadyOwnedByYou\u001b[0m: An error occurred (BucketAlreadyOwnedByYou) when calling the CreateBucket operation: Your previous request to create the named bucket succeeded and you already own it."
     ]
    }
   ],
   "source": [
    "s3.create_bucket(\n",
    "    Bucket=bucket,\n",
    "    CreateBucketConfiguration={\n",
    "        \"LocationConstraint\": \"ap-southeast-1\",\n",
    "    },\n",
    ")"
   ]
  },
  {
   "cell_type": "code",
   "execution_count": 271,
   "metadata": {},
   "outputs": [],
   "source": [
    "boto3.Session().resource(\"s3\").Bucket(bucket).Object(users_filename).upload_file(\n",
    "    users_filename\n",
    ")"
   ]
  },
  {
   "cell_type": "code",
   "execution_count": 272,
   "metadata": {},
   "outputs": [],
   "source": [
    "boto3.Session().resource(\"s3\").Bucket(bucket).Object(items_filename).upload_file(\n",
    "    items_filename\n",
    ")"
   ]
  },
  {
   "cell_type": "code",
   "execution_count": 273,
   "metadata": {},
   "outputs": [],
   "source": [
    "boto3.Session().resource(\"s3\").Bucket(bucket).Object(interactions_filename).upload_file(\n",
    "    interactions_filename\n",
    ")"
   ]
  },
  {
   "cell_type": "markdown",
   "metadata": {},
   "source": [
    "## Configure Amazon Personalize\n",
    "\n",
    "Now that we've prepared our three datasets and uploaded them to S3 we'll need to configure the Amazon Personalize service to understand our data so that it can be used to train models for generating recommendations.\n",
    "\n",
    "If Personalize was enabled when you deployed the demo, the below logic was run by polling AWS Lambda function whose code is in the file `src/aws-lambda/personalize-pre-create-campaigns/personalize-pre-create-campaigns.py`."
   ]
  },
  {
   "cell_type": "markdown",
   "metadata": {},
   "source": [
    "### Create Schemas for Datasets\n",
    "\n",
    "Amazon Personalize requires a schema for each dataset so it can map the columns in our CSVs to fields for model training. Each schema is declared in JSON using the [Apache Avro](https://avro.apache.org/) format.\n",
    "\n",
    "Let's define and create schemas in Personalize for our datasets."
   ]
  },
  {
   "cell_type": "code",
   "execution_count": 7,
   "metadata": {},
   "outputs": [],
   "source": [
    "items_schema_name = \"spent-personalize-schema-items\"\n",
    "users_schema_name = \"spent-personalize-schema-users\"\n",
    "interactions_schema_name = \"spent-personalize-schema-interactions\""
   ]
  },
  {
   "cell_type": "code",
   "execution_count": 275,
   "metadata": {},
   "outputs": [],
   "source": [
    "# personalize.delete_schema(schemaArn='arn:aws:personalize:ap-southeast-1:268400237357:schema/' + items_schema_name)\n",
    "# personalize.delete_schema(schemaArn='arn:aws:personalize:ap-southeast-1:268400237357:schema/' + users_schema_name)\n",
    "# personalize.delete_schema(schemaArn='arn:aws:personalize:ap-southeast-1:268400237357:schema/' + interactions_schema_name)"
   ]
  },
  {
   "cell_type": "code",
   "execution_count": 276,
   "metadata": {},
   "outputs": [
    {
     "name": "stdout",
     "output_type": "stream",
     "text": [
      "You aready created this schema, seemingly\n",
      "Using existing schema: arn:aws:personalize:ap-southeast-1:268400237357:schema/spent-personalize-schema-items\n"
     ]
    }
   ],
   "source": [
    "items_schema = {\n",
    "    \"type\": \"record\",\n",
    "    \"name\": \"Items\",\n",
    "    \"namespace\": \"com.amazonaws.personalize.schema\",\n",
    "    \"fields\": [\n",
    "        {\"name\": \"ITEM_ID\", \"type\": \"string\"},\n",
    "        {\n",
    "            \"name\": \"CATEGORY\",\n",
    "            \"type\": \"string\",\n",
    "            \"categorical\": True,\n",
    "        },\n",
    "        #         {\n",
    "        #             \"name\": \"TAGS\",\n",
    "        #             \"type\": [\"string\", \"null\"],\n",
    "        #         },\n",
    "    ],\n",
    "    \"version\": \"1.0\",\n",
    "}\n",
    "\n",
    "try:\n",
    "    create_schema_response = personalize.create_schema(\n",
    "        name=items_schema_name, schema=json.dumps(items_schema)\n",
    "    )\n",
    "    items_schema_arn = create_schema_response[\"schemaArn\"]\n",
    "    print(json.dumps(create_schema_response, indent=2))\n",
    "\n",
    "except personalize.exceptions.ResourceAlreadyExistsException:\n",
    "    print(\"You aready created this schema, seemingly\")\n",
    "    schemas = personalize.list_schemas(maxResults=100)[\"schemas\"]\n",
    "    for schema_response in schemas:\n",
    "        if schema_response[\"name\"] == items_schema_name:\n",
    "            items_schema_arn = schema_response[\"schemaArn\"]\n",
    "            print(f\"Using existing schema: {items_schema_arn}\")"
   ]
  },
  {
   "cell_type": "code",
   "execution_count": 277,
   "metadata": {},
   "outputs": [
    {
     "name": "stdout",
     "output_type": "stream",
     "text": [
      "You aready created this schema, seemingly\n",
      "Using existing schema: arn:aws:personalize:ap-southeast-1:268400237357:schema/spent-personalize-schema-users\n"
     ]
    }
   ],
   "source": [
    "users_schema = {\n",
    "    \"type\": \"record\",\n",
    "    \"name\": \"Users\",\n",
    "    \"namespace\": \"com.amazonaws.personalize.schema\",\n",
    "    \"fields\": [\n",
    "        {\"name\": \"USER_ID\", \"type\": \"string\"},\n",
    "        {\"name\": \"AGE\", \"type\": \"int\"},\n",
    "        {\n",
    "            \"name\": \"GENDER\",\n",
    "            \"type\": \"string\",\n",
    "        },\n",
    "    ],\n",
    "    \"version\": \"1.0\",\n",
    "}\n",
    "\n",
    "try:\n",
    "    create_schema_response = personalize.create_schema(\n",
    "        name=users_schema_name, schema=json.dumps(users_schema)\n",
    "    )\n",
    "    print(json.dumps(create_schema_response, indent=2))\n",
    "    users_schema_arn = create_schema_response[\"schemaArn\"]\n",
    "\n",
    "except personalize.exceptions.ResourceAlreadyExistsException:\n",
    "    print(\"You aready created this schema, seemingly\")\n",
    "    schemas = personalize.list_schemas(maxResults=100)[\"schemas\"]\n",
    "    for schema_response in schemas:\n",
    "        if schema_response[\"name\"] == users_schema_name:\n",
    "            users_schema_arn = schema_response[\"schemaArn\"]\n",
    "            print(f\"Using existing schema: {users_schema_arn}\")"
   ]
  },
  {
   "cell_type": "code",
   "execution_count": 278,
   "metadata": {},
   "outputs": [
    {
     "name": "stdout",
     "output_type": "stream",
     "text": [
      "You aready created this schema, seemingly\n",
      "Using existing schema: arn:aws:personalize:ap-southeast-1:268400237357:schema/spent-personalize-schema-interactions\n"
     ]
    }
   ],
   "source": [
    "interactions_schema = {\n",
    "    \"type\": \"record\",\n",
    "    \"name\": \"Interactions\",\n",
    "    \"namespace\": \"com.amazonaws.personalize.schema\",\n",
    "    \"fields\": [\n",
    "        {\"name\": \"ITEM_ID\", \"type\": \"string\"},\n",
    "        {\"name\": \"USER_ID\", \"type\": \"string\"},\n",
    "        {\"name\": \"EVENT_TYPE\", \"type\": \"string\"},\n",
    "        {\"name\": \"TIMESTAMP\", \"type\": \"long\"},\n",
    "    ],\n",
    "    \"version\": \"1.0\",\n",
    "}\n",
    "\n",
    "try:\n",
    "    create_schema_response = personalize.create_schema(\n",
    "        name=interactions_schema_name, schema=json.dumps(interactions_schema)\n",
    "    )\n",
    "    print(json.dumps(create_schema_response, indent=2))\n",
    "    interactions_schema_arn = create_schema_response[\"schemaArn\"]\n",
    "except personalize.exceptions.ResourceAlreadyExistsException:\n",
    "    print(\"You aready created this schema, seemingly\")\n",
    "    schemas = personalize.list_schemas(maxResults=100)[\"schemas\"]\n",
    "    for schema_response in schemas:\n",
    "        if schema_response[\"name\"] == interactions_schema_name:\n",
    "            interactions_schema_arn = schema_response[\"schemaArn\"]\n",
    "            print(f\"Using existing schema: {interactions_schema_arn}\")"
   ]
  },
  {
   "cell_type": "markdown",
   "metadata": {},
   "source": [
    "### Create Dataset Group\n",
    "\n",
    "Next we will create the datasets in Personalize for our three dataset types. Let's start with the items dataset."
   ]
  },
  {
   "cell_type": "code",
   "execution_count": 8,
   "metadata": {},
   "outputs": [],
   "source": [
    "dataset_group_name = \"spent-8\"\n",
    "items_dataset_name = \"spent-personalize-dataset-items\"\n",
    "users_dataset_name = \"spent-personalize-dataset-users\"\n",
    "interactions_dataset_name = \"spent-personalize-dataset-interactions\""
   ]
  },
  {
   "cell_type": "code",
   "execution_count": 280,
   "metadata": {},
   "outputs": [
    {
     "name": "stdout",
     "output_type": "stream",
     "text": [
      "{\n",
      "  \"datasetGroupArn\": \"arn:aws:personalize:ap-southeast-1:268400237357:dataset-group/spent-8\",\n",
      "  \"ResponseMetadata\": {\n",
      "    \"RequestId\": \"45df1db9-a54e-42d6-81df-a78ab117b562\",\n",
      "    \"HTTPStatusCode\": 200,\n",
      "    \"HTTPHeaders\": {\n",
      "      \"content-type\": \"application/x-amz-json-1.1\",\n",
      "      \"date\": \"Sat, 13 Feb 2021 08:47:40 GMT\",\n",
      "      \"x-amzn-requestid\": \"45df1db9-a54e-42d6-81df-a78ab117b562\",\n",
      "      \"content-length\": \"91\",\n",
      "      \"connection\": \"keep-alive\"\n",
      "    },\n",
      "    \"RetryAttempts\": 0\n",
      "  }\n",
      "}\n",
      "DatasetGroupArn = arn:aws:personalize:ap-southeast-1:268400237357:dataset-group/spent-8\n"
     ]
    }
   ],
   "source": [
    "create_dataset_group_response = personalize.create_dataset_group(\n",
    "    name=dataset_group_name\n",
    ")\n",
    "\n",
    "dataset_group_arn = create_dataset_group_response[\"datasetGroupArn\"]\n",
    "print(json.dumps(create_dataset_group_response, indent=2))\n",
    "\n",
    "print(f\"DatasetGroupArn = {dataset_group_arn}\")"
   ]
  },
  {
   "cell_type": "code",
   "execution_count": 281,
   "metadata": {},
   "outputs": [
    {
     "name": "stdout",
     "output_type": "stream",
     "text": [
      "DatasetGroup: ACTIVE\n"
     ]
    }
   ],
   "source": [
    "status = None\n",
    "max_time = time.time() + 3 * 60 * 60  # 3 hours\n",
    "while time.time() < max_time:\n",
    "    describe_dataset_group_response = personalize.describe_dataset_group(\n",
    "        datasetGroupArn=dataset_group_arn\n",
    "    )\n",
    "    status = describe_dataset_group_response[\"datasetGroup\"][\"status\"]\n",
    "    print(\"DatasetGroup: {}\".format(status))\n",
    "\n",
    "    if status == \"ACTIVE\" or status == \"CREATE FAILED\":\n",
    "        break\n",
    "\n",
    "    time.sleep(15)"
   ]
  },
  {
   "cell_type": "markdown",
   "metadata": {},
   "source": [
    "## Create Items Dataset"
   ]
  },
  {
   "cell_type": "code",
   "execution_count": 282,
   "metadata": {},
   "outputs": [
    {
     "name": "stdout",
     "output_type": "stream",
     "text": [
      "{\n",
      "  \"datasetArn\": \"arn:aws:personalize:ap-southeast-1:268400237357:dataset/spent-8/ITEMS\",\n",
      "  \"ResponseMetadata\": {\n",
      "    \"RequestId\": \"295cf443-e6af-4888-986a-9d14d5424c48\",\n",
      "    \"HTTPStatusCode\": 200,\n",
      "    \"HTTPHeaders\": {\n",
      "      \"content-type\": \"application/x-amz-json-1.1\",\n",
      "      \"date\": \"Sat, 13 Feb 2021 08:47:44 GMT\",\n",
      "      \"x-amzn-requestid\": \"295cf443-e6af-4888-986a-9d14d5424c48\",\n",
      "      \"content-length\": \"86\",\n",
      "      \"connection\": \"keep-alive\"\n",
      "    },\n",
      "    \"RetryAttempts\": 0\n",
      "  }\n",
      "}\n"
     ]
    }
   ],
   "source": [
    "dataset_type = \"ITEMS\"\n",
    "create_dataset_response = personalize.create_dataset(\n",
    "    name=items_dataset_name,\n",
    "    datasetType=dataset_type,\n",
    "    datasetGroupArn=dataset_group_arn,\n",
    "    schemaArn=items_schema_arn,\n",
    ")\n",
    "\n",
    "items_dataset_arn = create_dataset_response[\"datasetArn\"]\n",
    "print(json.dumps(create_dataset_response, indent=2))"
   ]
  },
  {
   "cell_type": "markdown",
   "metadata": {},
   "source": [
    "## Create Users Dataset"
   ]
  },
  {
   "cell_type": "code",
   "execution_count": 283,
   "metadata": {},
   "outputs": [
    {
     "name": "stdout",
     "output_type": "stream",
     "text": [
      "{\n",
      "  \"datasetArn\": \"arn:aws:personalize:ap-southeast-1:268400237357:dataset/spent-8/USERS\",\n",
      "  \"ResponseMetadata\": {\n",
      "    \"RequestId\": \"bf57a02c-b50f-472c-a235-60c0a469c758\",\n",
      "    \"HTTPStatusCode\": 200,\n",
      "    \"HTTPHeaders\": {\n",
      "      \"content-type\": \"application/x-amz-json-1.1\",\n",
      "      \"date\": \"Sat, 13 Feb 2021 08:47:44 GMT\",\n",
      "      \"x-amzn-requestid\": \"bf57a02c-b50f-472c-a235-60c0a469c758\",\n",
      "      \"content-length\": \"86\",\n",
      "      \"connection\": \"keep-alive\"\n",
      "    },\n",
      "    \"RetryAttempts\": 0\n",
      "  }\n",
      "}\n"
     ]
    }
   ],
   "source": [
    "dataset_type = \"USERS\"\n",
    "create_dataset_response = personalize.create_dataset(\n",
    "    name=users_dataset_name,\n",
    "    datasetType=dataset_type,\n",
    "    datasetGroupArn=dataset_group_arn,\n",
    "    schemaArn=users_schema_arn,\n",
    ")\n",
    "\n",
    "users_dataset_arn = create_dataset_response[\"datasetArn\"]\n",
    "print(json.dumps(create_dataset_response, indent=2))"
   ]
  },
  {
   "cell_type": "markdown",
   "metadata": {},
   "source": [
    "## Create Interactions Dataset"
   ]
  },
  {
   "cell_type": "code",
   "execution_count": 284,
   "metadata": {},
   "outputs": [
    {
     "name": "stdout",
     "output_type": "stream",
     "text": [
      "{\n",
      "  \"datasetArn\": \"arn:aws:personalize:ap-southeast-1:268400237357:dataset/spent-8/INTERACTIONS\",\n",
      "  \"ResponseMetadata\": {\n",
      "    \"RequestId\": \"aa114cef-c835-4bc0-abf9-2492e7529671\",\n",
      "    \"HTTPStatusCode\": 200,\n",
      "    \"HTTPHeaders\": {\n",
      "      \"content-type\": \"application/x-amz-json-1.1\",\n",
      "      \"date\": \"Sat, 13 Feb 2021 08:47:46 GMT\",\n",
      "      \"x-amzn-requestid\": \"aa114cef-c835-4bc0-abf9-2492e7529671\",\n",
      "      \"content-length\": \"93\",\n",
      "      \"connection\": \"keep-alive\"\n",
      "    },\n",
      "    \"RetryAttempts\": 0\n",
      "  }\n",
      "}\n"
     ]
    }
   ],
   "source": [
    "dataset_type = \"INTERACTIONS\"\n",
    "create_dataset_response = personalize.create_dataset(\n",
    "    name=interactions_dataset_name,\n",
    "    datasetType=dataset_type,\n",
    "    datasetGroupArn=dataset_group_arn,\n",
    "    schemaArn=interactions_schema_arn,\n",
    ")\n",
    "\n",
    "interactions_dataset_arn = create_dataset_response[\"datasetArn\"]\n",
    "print(json.dumps(create_dataset_response, indent=2))"
   ]
  },
  {
   "cell_type": "markdown",
   "metadata": {},
   "source": [
    "## Import Datasets to Personalize\n",
    "\n",
    "Up to this point we have generated CSVs containing data for our users, items, and interactions and staged them in an S3 bucket. We also created schemas in Personalize that define the columns in our CSVs. Then we created a datset group and three datasets in Personalize that will receive our data. In the following steps we will create import jobs with Personalize that will import the datasets from our S3 bucket into the service.\n",
    "\n",
    "### Setup Permissions\n",
    "\n",
    "By default, the Personalize service does not have permission to acccess the data we uploaded into the S3 bucket in our account. In order to grant access to the  Personalize service to read our CSVs, we need to set a Bucket Policy and create an IAM role that the Amazon Personalize service will assume."
   ]
  },
  {
   "cell_type": "markdown",
   "metadata": {},
   "source": [
    "#### Attach policy to S3 bucket"
   ]
  },
  {
   "cell_type": "code",
   "execution_count": 285,
   "metadata": {},
   "outputs": [],
   "source": [
    "s3 = boto3.client(\"s3\")\n",
    "\n",
    "policy = {\n",
    "    \"Version\": \"2012-10-17\",\n",
    "    \"Id\": \"PersonalizeS3BucketAccessPolicy\",\n",
    "    \"Statement\": [\n",
    "        {\n",
    "            \"Sid\": \"PersonalizeS3BucketAccessPolicy\",\n",
    "            \"Effect\": \"Allow\",\n",
    "            \"Principal\": {\"Service\": \"personalize.amazonaws.com\"},\n",
    "            \"Action\": [\"s3:GetObject\", \"s3:ListBucket\"],\n",
    "            \"Resource\": [\n",
    "                \"arn:aws:s3:::{}\".format(bucket),\n",
    "                \"arn:aws:s3:::{}/*\".format(bucket),\n",
    "            ],\n",
    "        }\n",
    "    ],\n",
    "}\n",
    "\n",
    "s3.put_bucket_policy(Bucket=bucket, Policy=json.dumps(policy));"
   ]
  },
  {
   "cell_type": "markdown",
   "metadata": {},
   "source": [
    "#### Create S3 Read Only Access Role"
   ]
  },
  {
   "cell_type": "code",
   "execution_count": 286,
   "metadata": {},
   "outputs": [
    {
     "name": "stdout",
     "output_type": "stream",
     "text": [
      "IAM Role: arn:aws:iam::268400237357:role/Spent-PersonalizeS3-spent-8\n",
      "Done.\n"
     ]
    }
   ],
   "source": [
    "iam = boto3.client(\"iam\")\n",
    "\n",
    "role_name = \"Spent\" + \"-PersonalizeS3-\" + dataset_group_name\n",
    "assume_role_policy_document = {\n",
    "    \"Version\": \"2012-10-17\",\n",
    "    \"Statement\": [\n",
    "        {\n",
    "            \"Effect\": \"Allow\",\n",
    "            \"Principal\": {\"Service\": \"personalize.amazonaws.com\"},\n",
    "            \"Action\": \"sts:AssumeRole\",\n",
    "        }\n",
    "    ],\n",
    "}\n",
    "\n",
    "try:\n",
    "    create_role_response = iam.create_role(\n",
    "        RoleName=role_name,\n",
    "        AssumeRolePolicyDocument=json.dumps(assume_role_policy_document),\n",
    "    )\n",
    "\n",
    "except iam.exceptions.EntityAlreadyExistsException as e:\n",
    "    print(\"Warning: role already exists:\", e)\n",
    "    create_role_response = iam.get_role(RoleName=role_name)\n",
    "\n",
    "role_arn = create_role_response[\"Role\"][\"Arn\"]\n",
    "\n",
    "print(\"IAM Role: {}\".format(role_arn))\n",
    "\n",
    "attach_response = iam.attach_role_policy(\n",
    "    RoleName=role_name, PolicyArn=\"arn:aws:iam::aws:policy/AmazonS3ReadOnlyAccess\"\n",
    ")\n",
    "\n",
    "role_arn = create_role_response[\"Role\"][\"Arn\"]\n",
    "\n",
    "# Pause to allow role to be fully consistent\n",
    "time.sleep(30)\n",
    "print(\"Done.\")"
   ]
  },
  {
   "cell_type": "markdown",
   "metadata": {},
   "source": [
    "### Create Import Jobs\n",
    "\n",
    "With the permissions in place to allow Personalize to access our CSV files, let's create three import jobs to import each file into its respective dataset. Each import job can take several minutes to complete so we'll create all three and then wait for them all to complete."
   ]
  },
  {
   "cell_type": "markdown",
   "metadata": {},
   "source": [
    "#### Create Items Dataset Import Job"
   ]
  },
  {
   "cell_type": "code",
   "execution_count": 287,
   "metadata": {},
   "outputs": [
    {
     "name": "stdout",
     "output_type": "stream",
     "text": [
      "{\n",
      "  \"datasetImportJobArn\": \"arn:aws:personalize:ap-southeast-1:268400237357:dataset-import-job/spent-8spent-dataset-items-import\",\n",
      "  \"ResponseMetadata\": {\n",
      "    \"RequestId\": \"db6d3f23-818b-40de-8db3-4c5193506036\",\n",
      "    \"HTTPStatusCode\": 200,\n",
      "    \"HTTPHeaders\": {\n",
      "      \"content-type\": \"application/x-amz-json-1.1\",\n",
      "      \"date\": \"Sat, 13 Feb 2021 08:48:23 GMT\",\n",
      "      \"x-amzn-requestid\": \"db6d3f23-818b-40de-8db3-4c5193506036\",\n",
      "      \"content-length\": \"126\",\n",
      "      \"connection\": \"keep-alive\"\n",
      "    },\n",
      "    \"RetryAttempts\": 0\n",
      "  }\n",
      "}\n"
     ]
    }
   ],
   "source": [
    "items_create_dataset_import_job_response = personalize.create_dataset_import_job(\n",
    "    jobName=dataset_group_name + \"spent-dataset-items-import\",\n",
    "    datasetArn=items_dataset_arn,\n",
    "    dataSource={\"dataLocation\": \"s3://{}/{}\".format(bucket, items_filename)},\n",
    "    roleArn=role_arn,\n",
    ")\n",
    "\n",
    "items_dataset_import_job_arn = items_create_dataset_import_job_response[\n",
    "    \"datasetImportJobArn\"\n",
    "]\n",
    "print(json.dumps(items_create_dataset_import_job_response, indent=2))"
   ]
  },
  {
   "cell_type": "markdown",
   "metadata": {},
   "source": [
    "#### Create Users Dataset Import Job"
   ]
  },
  {
   "cell_type": "code",
   "execution_count": 288,
   "metadata": {},
   "outputs": [
    {
     "name": "stdout",
     "output_type": "stream",
     "text": [
      "{\n",
      "  \"datasetImportJobArn\": \"arn:aws:personalize:ap-southeast-1:268400237357:dataset-import-job/spent-8spent-dataset-users-import\",\n",
      "  \"ResponseMetadata\": {\n",
      "    \"RequestId\": \"987e0fe6-f26e-46e9-94c1-90328e4cb9cf\",\n",
      "    \"HTTPStatusCode\": 200,\n",
      "    \"HTTPHeaders\": {\n",
      "      \"content-type\": \"application/x-amz-json-1.1\",\n",
      "      \"date\": \"Sat, 13 Feb 2021 08:48:23 GMT\",\n",
      "      \"x-amzn-requestid\": \"987e0fe6-f26e-46e9-94c1-90328e4cb9cf\",\n",
      "      \"content-length\": \"126\",\n",
      "      \"connection\": \"keep-alive\"\n",
      "    },\n",
      "    \"RetryAttempts\": 0\n",
      "  }\n",
      "}\n"
     ]
    }
   ],
   "source": [
    "users_create_dataset_import_job_response = personalize.create_dataset_import_job(\n",
    "    jobName=dataset_group_name + \"spent-dataset-users-import\",\n",
    "    datasetArn=users_dataset_arn,\n",
    "    dataSource={\"dataLocation\": \"s3://{}/{}\".format(bucket, users_filename)},\n",
    "    roleArn=role_arn,\n",
    ")\n",
    "\n",
    "users_dataset_import_job_arn = users_create_dataset_import_job_response[\n",
    "    \"datasetImportJobArn\"\n",
    "]\n",
    "print(json.dumps(users_create_dataset_import_job_response, indent=2))"
   ]
  },
  {
   "cell_type": "markdown",
   "metadata": {},
   "source": [
    "#### Create Interactions Dataset Import Job"
   ]
  },
  {
   "cell_type": "code",
   "execution_count": 289,
   "metadata": {},
   "outputs": [
    {
     "name": "stdout",
     "output_type": "stream",
     "text": [
      "{\n",
      "  \"datasetImportJobArn\": \"arn:aws:personalize:ap-southeast-1:268400237357:dataset-import-job/spent-8spent-dataset-interactions-import\",\n",
      "  \"ResponseMetadata\": {\n",
      "    \"RequestId\": \"0ed85696-23cb-4c7b-911d-48aed8c821d0\",\n",
      "    \"HTTPStatusCode\": 200,\n",
      "    \"HTTPHeaders\": {\n",
      "      \"content-type\": \"application/x-amz-json-1.1\",\n",
      "      \"date\": \"Sat, 13 Feb 2021 08:48:25 GMT\",\n",
      "      \"x-amzn-requestid\": \"0ed85696-23cb-4c7b-911d-48aed8c821d0\",\n",
      "      \"content-length\": \"133\",\n",
      "      \"connection\": \"keep-alive\"\n",
      "    },\n",
      "    \"RetryAttempts\": 0\n",
      "  }\n",
      "}\n"
     ]
    }
   ],
   "source": [
    "interactions_create_dataset_import_job_response = personalize.create_dataset_import_job(\n",
    "    jobName=dataset_group_name + \"spent-dataset-interactions-import\",\n",
    "    datasetArn=interactions_dataset_arn,\n",
    "    dataSource={\"dataLocation\": \"s3://{}/{}\".format(bucket, interactions_filename)},\n",
    "    roleArn=role_arn,\n",
    ")\n",
    "\n",
    "interactions_dataset_import_job_arn = interactions_create_dataset_import_job_response[\n",
    "    \"datasetImportJobArn\"\n",
    "]\n",
    "print(json.dumps(interactions_create_dataset_import_job_response, indent=2))"
   ]
  },
  {
   "cell_type": "markdown",
   "metadata": {},
   "source": [
    "#### Wait for Import Job to Complete"
   ]
  },
  {
   "cell_type": "code",
   "execution_count": 290,
   "metadata": {},
   "outputs": [
    {
     "name": "stdout",
     "output_type": "stream",
     "text": [
      "At least one dataset import job still in progress\n",
      "At least one dataset import job still in progress\n",
      "At least one dataset import job still in progress\n",
      "At least one dataset import job still in progress\n",
      "At least one dataset import job still in progress\n",
      "At least one dataset import job still in progress\n",
      "At least one dataset import job still in progress\n",
      "At least one dataset import job still in progress\n",
      "At least one dataset import job still in progress\n",
      "At least one dataset import job still in progress\n",
      "At least one dataset import job still in progress\n",
      "At least one dataset import job still in progress\n",
      "At least one dataset import job still in progress\n",
      "At least one dataset import job still in progress\n",
      "Import job arn:aws:personalize:ap-southeast-1:268400237357:dataset-import-job/spent-8spent-dataset-interactions-import successfully completed\n",
      "At least one dataset import job still in progress\n",
      "Import job arn:aws:personalize:ap-southeast-1:268400237357:dataset-import-job/spent-8spent-dataset-users-import successfully completed\n",
      "At least one dataset import job still in progress\n",
      "Import job arn:aws:personalize:ap-southeast-1:268400237357:dataset-import-job/spent-8spent-dataset-items-import successfully completed\n",
      "All import jobs have ended\n",
      "CPU times: user 396 ms, sys: 26.3 ms, total: 422 ms\n",
      "Wall time: 16min 6s\n"
     ]
    }
   ],
   "source": [
    "%%time\n",
    "\n",
    "import_job_arns = [\n",
    "    items_dataset_import_job_arn,\n",
    "    users_dataset_import_job_arn,\n",
    "    interactions_dataset_import_job_arn,\n",
    "]\n",
    "\n",
    "max_time = time.time() + 3 * 60 * 60  # 3 hours\n",
    "while time.time() < max_time:\n",
    "    for job_arn in reversed(import_job_arns):\n",
    "        import_job_response = personalize.describe_dataset_import_job(\n",
    "            datasetImportJobArn=job_arn\n",
    "        )\n",
    "        status = import_job_response[\"datasetImportJob\"][\"status\"]\n",
    "\n",
    "        if status == \"ACTIVE\":\n",
    "            print(f\"Import job {job_arn} successfully completed\")\n",
    "            import_job_arns.remove(job_arn)\n",
    "        elif status == \"CREATE FAILED\":\n",
    "            print(f\"Import job {job_arn} failed\")\n",
    "            if import_job_response.get(\"failureReason\"):\n",
    "                print(\"   Reason: \" + import_job_response[\"failureReason\"])\n",
    "            import_job_arns.remove(job_arn)\n",
    "\n",
    "    if len(import_job_arns) > 0:\n",
    "        print(\"At least one dataset import job still in progress\")\n",
    "        time.sleep(60)\n",
    "    else:\n",
    "        print(\"All import jobs have ended\")\n",
    "        break"
   ]
  },
  {
   "cell_type": "markdown",
   "metadata": {},
   "source": [
    "## Create Solutions\n",
    "\n",
    "With our three datasets imported into our dataset group, we can now turn to training models. As a reminder, we will be training three models in this workshop to support four different personalization use-cases wth three different models. One model will be used to make related product recommendations on the product detail view/page, another model will be used to make personalized product recommendations to users on the homepage, and the last model will be used to rerank product lists on the category and featured products page. This last model will be repurposed to offer discounts to users. In Amazon Personalize, training a model involves creating a Solution and Solution Version. So when we are finished we will have three solutions and a solution version for each solution. \n",
    "\n",
    "When creating a solution, you provide your dataset group and the recipe for training. Let's declare the recipes that we will need for our solutions."
   ]
  },
  {
   "cell_type": "markdown",
   "metadata": {},
   "source": [
    "### List Recipes\n",
    "\n",
    "First, let's list all available recipes."
   ]
  },
  {
   "cell_type": "code",
   "execution_count": 291,
   "metadata": {},
   "outputs": [
    {
     "data": {
      "text/plain": [
       "{'recipes': [{'name': 'aws-hrnn',\n",
       "   'recipeArn': 'arn:aws:personalize:::recipe/aws-hrnn',\n",
       "   'status': 'ACTIVE',\n",
       "   'creationDateTime': datetime.datetime(2019, 6, 10, 7, 0, tzinfo=tzlocal()),\n",
       "   'lastUpdatedDateTime': datetime.datetime(2021, 2, 8, 5, 43, 33, 732000, tzinfo=tzlocal())},\n",
       "  {'name': 'aws-hrnn-coldstart',\n",
       "   'recipeArn': 'arn:aws:personalize:::recipe/aws-hrnn-coldstart',\n",
       "   'status': 'ACTIVE',\n",
       "   'creationDateTime': datetime.datetime(2019, 6, 10, 7, 0, tzinfo=tzlocal()),\n",
       "   'lastUpdatedDateTime': datetime.datetime(2021, 2, 8, 5, 43, 33, 732000, tzinfo=tzlocal())},\n",
       "  {'name': 'aws-hrnn-metadata',\n",
       "   'recipeArn': 'arn:aws:personalize:::recipe/aws-hrnn-metadata',\n",
       "   'status': 'ACTIVE',\n",
       "   'creationDateTime': datetime.datetime(2019, 6, 10, 7, 0, tzinfo=tzlocal()),\n",
       "   'lastUpdatedDateTime': datetime.datetime(2021, 2, 8, 5, 43, 33, 732000, tzinfo=tzlocal())},\n",
       "  {'name': 'aws-personalized-ranking',\n",
       "   'recipeArn': 'arn:aws:personalize:::recipe/aws-personalized-ranking',\n",
       "   'status': 'ACTIVE',\n",
       "   'creationDateTime': datetime.datetime(2019, 6, 10, 7, 0, tzinfo=tzlocal()),\n",
       "   'lastUpdatedDateTime': datetime.datetime(2021, 2, 8, 5, 43, 33, 732000, tzinfo=tzlocal())},\n",
       "  {'name': 'aws-popularity-count',\n",
       "   'recipeArn': 'arn:aws:personalize:::recipe/aws-popularity-count',\n",
       "   'status': 'ACTIVE',\n",
       "   'creationDateTime': datetime.datetime(2019, 6, 10, 7, 0, tzinfo=tzlocal()),\n",
       "   'lastUpdatedDateTime': datetime.datetime(2021, 2, 8, 5, 43, 33, 732000, tzinfo=tzlocal())},\n",
       "  {'name': 'aws-sims',\n",
       "   'recipeArn': 'arn:aws:personalize:::recipe/aws-sims',\n",
       "   'status': 'ACTIVE',\n",
       "   'creationDateTime': datetime.datetime(2019, 6, 10, 7, 0, tzinfo=tzlocal()),\n",
       "   'lastUpdatedDateTime': datetime.datetime(2021, 2, 8, 5, 43, 33, 732000, tzinfo=tzlocal())},\n",
       "  {'name': 'aws-user-personalization',\n",
       "   'recipeArn': 'arn:aws:personalize:::recipe/aws-user-personalization',\n",
       "   'status': 'ACTIVE',\n",
       "   'creationDateTime': datetime.datetime(2019, 6, 10, 7, 0, tzinfo=tzlocal()),\n",
       "   'lastUpdatedDateTime': datetime.datetime(2021, 2, 8, 5, 43, 33, 732000, tzinfo=tzlocal())}],\n",
       " 'ResponseMetadata': {'RequestId': '4c87c62e-af3f-4979-8879-694c2f5d0a0f',\n",
       "  'HTTPStatusCode': 200,\n",
       "  'HTTPHeaders': {'content-type': 'application/x-amz-json-1.1',\n",
       "   'date': 'Sat, 13 Feb 2021 09:04:31 GMT',\n",
       "   'x-amzn-requestid': '4c87c62e-af3f-4979-8879-694c2f5d0a0f',\n",
       "   'content-length': '1259',\n",
       "   'connection': 'keep-alive'},\n",
       "  'RetryAttempts': 0}}"
      ]
     },
     "execution_count": 291,
     "metadata": {},
     "output_type": "execute_result"
    }
   ],
   "source": [
    "list_recipes_response = personalize.list_recipes()\n",
    "list_recipes_response"
   ]
  },
  {
   "cell_type": "markdown",
   "metadata": {},
   "source": [
    "#### Declare Personalize Recipe for News Recommendations\n",
    "\n",
    "Since we are providing metadata for users and items, we will be using the [User-Personalization](https://docs.aws.amazon.com/personalize/latest/dg/native-recipe-new-item-USER_PERSONALIZATION.html) recipe for our product recommendations solution.\n",
    "\n",
    "> The User-Personalization (aws-user-personalization) recipe is optimized for all personalized recommendation scenarios. It predicts the items that a user will interact with based on Interactions, Items, and Users datasets. When recommending items, it uses automatic item exploration. "
   ]
  },
  {
   "cell_type": "code",
   "execution_count": 292,
   "metadata": {},
   "outputs": [],
   "source": [
    "recommend_recipe_arn = \"arn:aws:personalize:::recipe/aws-user-personalization\""
   ]
  },
  {
   "cell_type": "markdown",
   "metadata": {},
   "source": [
    "### Create Solutions and Solution Versions\n",
    "\n",
    "With our recipes defined, we can now create our solutions and solution versions."
   ]
  },
  {
   "cell_type": "code",
   "execution_count": 293,
   "metadata": {},
   "outputs": [],
   "source": [
    "dataset_group_arn = f\"arn:aws:personalize:ap-southeast-1:268400237357:dataset-group/{dataset_group_name}\""
   ]
  },
  {
   "cell_type": "markdown",
   "metadata": {},
   "source": [
    "#### Create Product Recommendation Solution"
   ]
  },
  {
   "cell_type": "code",
   "execution_count": 294,
   "metadata": {},
   "outputs": [
    {
     "name": "stdout",
     "output_type": "stream",
     "text": [
      "{\n",
      "  \"solutionArn\": \"arn:aws:personalize:ap-southeast-1:268400237357:solution/spent-8-news-personalization\",\n",
      "  \"ResponseMetadata\": {\n",
      "    \"RequestId\": \"44e960ab-49a2-4a8d-90cf-6e02d28d1f43\",\n",
      "    \"HTTPStatusCode\": 200,\n",
      "    \"HTTPHeaders\": {\n",
      "      \"content-type\": \"application/x-amz-json-1.1\",\n",
      "      \"date\": \"Sat, 13 Feb 2021 09:04:31 GMT\",\n",
      "      \"x-amzn-requestid\": \"44e960ab-49a2-4a8d-90cf-6e02d28d1f43\",\n",
      "      \"content-length\": \"103\",\n",
      "      \"connection\": \"keep-alive\"\n",
      "    },\n",
      "    \"RetryAttempts\": 0\n",
      "  }\n",
      "}\n"
     ]
    }
   ],
   "source": [
    "create_solution_response = personalize.create_solution(\n",
    "    name=dataset_group_name + \"-news-personalization\",\n",
    "    datasetGroupArn=dataset_group_arn,\n",
    "    recipeArn=recommend_recipe_arn,\n",
    ")\n",
    "\n",
    "recommend_solution_arn = create_solution_response[\"solutionArn\"]\n",
    "print(json.dumps(create_solution_response, indent=2))"
   ]
  },
  {
   "cell_type": "code",
   "execution_count": 295,
   "metadata": {},
   "outputs": [
    {
     "name": "stdout",
     "output_type": "stream",
     "text": [
      "{\n",
      "  \"solutionVersionArn\": \"arn:aws:personalize:ap-southeast-1:268400237357:solution/spent-8-news-personalization/5073ce4e\",\n",
      "  \"ResponseMetadata\": {\n",
      "    \"RequestId\": \"5f03ef3b-3ea7-4cf1-bbb0-4d1e206f52c1\",\n",
      "    \"HTTPStatusCode\": 200,\n",
      "    \"HTTPHeaders\": {\n",
      "      \"content-type\": \"application/x-amz-json-1.1\",\n",
      "      \"date\": \"Sat, 13 Feb 2021 09:04:32 GMT\",\n",
      "      \"x-amzn-requestid\": \"5f03ef3b-3ea7-4cf1-bbb0-4d1e206f52c1\",\n",
      "      \"content-length\": \"119\",\n",
      "      \"connection\": \"keep-alive\"\n",
      "    },\n",
      "    \"RetryAttempts\": 0\n",
      "  }\n",
      "}\n"
     ]
    }
   ],
   "source": [
    "create_solution_version_response = personalize.create_solution_version(\n",
    "    solutionArn=recommend_solution_arn\n",
    ")\n",
    "\n",
    "recommend_solution_version_arn = create_solution_version_response[\"solutionVersionArn\"]\n",
    "print(json.dumps(create_solution_version_response, indent=2))"
   ]
  },
  {
   "cell_type": "markdown",
   "metadata": {},
   "source": [
    "### Wait for Solution Versions to Complete\n",
    "\n",
    "It can take 40-60 minutes for all solution versions to be created. During this process a model is being trained and tested with the data contained within your datasets. The duration of training jobs can increase based on the size of the dataset, training parameters and a selected recipe. We submitted requests for all three solutions and versions at once so they are trained in parallel and then below we will wait for all three to finish.\n",
    "\n",
    "While you are waiting for this process to complete you can learn more about solutions here: https://docs.aws.amazon.com/personalize/latest/dg/training-deploying-solutions.html"
   ]
  },
  {
   "cell_type": "code",
   "execution_count": 296,
   "metadata": {},
   "outputs": [
    {
     "name": "stdout",
     "output_type": "stream",
     "text": [
      "At least one solution version is still in progress\n",
      "At least one solution version is still in progress\n",
      "At least one solution version is still in progress\n",
      "At least one solution version is still in progress\n",
      "At least one solution version is still in progress\n",
      "At least one solution version is still in progress\n",
      "At least one solution version is still in progress\n",
      "At least one solution version is still in progress\n",
      "At least one solution version is still in progress\n",
      "At least one solution version is still in progress\n",
      "At least one solution version is still in progress\n",
      "At least one solution version is still in progress\n",
      "At least one solution version is still in progress\n",
      "At least one solution version is still in progress\n",
      "At least one solution version is still in progress\n",
      "At least one solution version is still in progress\n",
      "At least one solution version is still in progress\n",
      "At least one solution version is still in progress\n",
      "At least one solution version is still in progress\n",
      "At least one solution version is still in progress\n",
      "At least one solution version is still in progress\n",
      "At least one solution version is still in progress\n",
      "At least one solution version is still in progress\n",
      "At least one solution version is still in progress\n",
      "At least one solution version is still in progress\n",
      "At least one solution version is still in progress\n",
      "At least one solution version is still in progress\n",
      "At least one solution version is still in progress\n",
      "At least one solution version is still in progress\n",
      "At least one solution version is still in progress\n",
      "At least one solution version is still in progress\n",
      "At least one solution version is still in progress\n",
      "At least one solution version is still in progress\n",
      "At least one solution version is still in progress\n",
      "At least one solution version is still in progress\n",
      "At least one solution version is still in progress\n",
      "At least one solution version is still in progress\n",
      "At least one solution version is still in progress\n",
      "At least one solution version is still in progress\n",
      "Solution version arn:aws:personalize:ap-southeast-1:268400237357:solution/spent-8-news-personalization/5073ce4e successfully completed\n",
      "All solution versions have completed\n",
      "CPU times: user 524 ms, sys: 79.3 ms, total: 603 ms\n",
      "Wall time: 39min 8s\n"
     ]
    }
   ],
   "source": [
    "%%time\n",
    "\n",
    "soln_ver_arns = [recommend_solution_version_arn]\n",
    "\n",
    "max_time = time.time() + 3 * 60 * 60  # 3 hours\n",
    "while time.time() < max_time:\n",
    "    for soln_ver_arn in reversed(soln_ver_arns):\n",
    "        soln_ver_response = personalize.describe_solution_version(\n",
    "            solutionVersionArn=soln_ver_arn\n",
    "        )\n",
    "        status = soln_ver_response[\"solutionVersion\"][\"status\"]\n",
    "\n",
    "        if status == \"ACTIVE\":\n",
    "            print(f\"Solution version {soln_ver_arn} successfully completed\")\n",
    "            soln_ver_arns.remove(soln_ver_arn)\n",
    "        elif status == \"CREATE FAILED\":\n",
    "            print(f\"Solution version {soln_ver_arn} failed\")\n",
    "            if soln_ver_response.get(\"failureReason\"):\n",
    "                print(\"   Reason: \" + soln_ver_response[\"failureReason\"])\n",
    "            soln_ver_arns.remove(soln_ver_arn)\n",
    "\n",
    "    if len(soln_ver_arns) > 0:\n",
    "        print(\"At least one solution version is still in progress\")\n",
    "        time.sleep(60)\n",
    "    else:\n",
    "        print(\"All solution versions have completed\")\n",
    "        break"
   ]
  },
  {
   "cell_type": "markdown",
   "metadata": {},
   "source": [
    "### Evaluate Offline Metrics for Solution Versions\n",
    "\n",
    "Amazon Personalize provides [offline metrics](https://docs.aws.amazon.com/personalize/latest/dg/working-with-training-metrics.html#working-with-training-metrics-metrics) that allow you to evaluate the performance of the solution version before you deploy the model in your application. Metrics can also be used to view the effects of modifying a Solution's hyperparameters or to compare the metrics between solutions that use the same training data but created with different recipes.\n",
    "\n",
    "Let's retrieve the metrics for the solution versions we just created."
   ]
  },
  {
   "cell_type": "code",
   "execution_count": 297,
   "metadata": {},
   "outputs": [
    {
     "name": "stdout",
     "output_type": "stream",
     "text": [
      "{\n",
      "  \"solutionVersionArn\": \"arn:aws:personalize:ap-southeast-1:268400237357:solution/spent-8-news-personalization/5073ce4e\",\n",
      "  \"metrics\": {\n",
      "    \"coverage\": 0.398,\n",
      "    \"mean_reciprocal_rank_at_25\": 0.0285,\n",
      "    \"normalized_discounted_cumulative_gain_at_10\": 0.0342,\n",
      "    \"normalized_discounted_cumulative_gain_at_25\": 0.1039,\n",
      "    \"normalized_discounted_cumulative_gain_at_5\": 0.0,\n",
      "    \"precision_at_10\": 0.01,\n",
      "    \"precision_at_25\": 0.017,\n",
      "    \"precision_at_5\": 0.0\n",
      "  },\n",
      "  \"ResponseMetadata\": {\n",
      "    \"RequestId\": \"dc0d29cd-829b-4bf1-a252-918a8c971fb2\",\n",
      "    \"HTTPStatusCode\": 200,\n",
      "    \"HTTPHeaders\": {\n",
      "      \"content-type\": \"application/x-amz-json-1.1\",\n",
      "      \"date\": \"Sat, 13 Feb 2021 09:43:41 GMT\",\n",
      "      \"x-amzn-requestid\": \"dc0d29cd-829b-4bf1-a252-918a8c971fb2\",\n",
      "      \"content-length\": \"407\",\n",
      "      \"connection\": \"keep-alive\"\n",
      "    },\n",
      "    \"RetryAttempts\": 0\n",
      "  }\n",
      "}\n"
     ]
    }
   ],
   "source": [
    "get_solution_metrics_response = personalize.get_solution_metrics(\n",
    "    solutionVersionArn=recommend_solution_version_arn\n",
    ")\n",
    "\n",
    "print(json.dumps(get_solution_metrics_response, indent=2))"
   ]
  },
  {
   "cell_type": "markdown",
   "metadata": {},
   "source": [
    "## Create Campaigns\n",
    "\n",
    "Once we're satisfied with our solution versions, we need to create Campaigns for each solution version. When creating a campaign you specify the minimum transactions per second (`minProvisionedTPS`) that you expect to make against the service for this campaign. Personalize will automatically scale the inference endpoint up and down for the campaign to match demand but will never scale below `minProvisionedTPS`.\n",
    "\n",
    "Let's create campaigns for our three solution versions with each set at `minProvisionedTPS` of 1."
   ]
  },
  {
   "cell_type": "markdown",
   "metadata": {},
   "source": [
    "#### Create Product Recommendation Campaign"
   ]
  },
  {
   "cell_type": "code",
   "execution_count": 298,
   "metadata": {},
   "outputs": [
    {
     "name": "stdout",
     "output_type": "stream",
     "text": [
      "{\n",
      "  \"campaignArn\": \"arn:aws:personalize:ap-southeast-1:268400237357:campaign/spent-8-news-personalization\",\n",
      "  \"ResponseMetadata\": {\n",
      "    \"RequestId\": \"c8aa666f-d7a6-4a32-9e4f-5ead87bfe909\",\n",
      "    \"HTTPStatusCode\": 200,\n",
      "    \"HTTPHeaders\": {\n",
      "      \"content-type\": \"application/x-amz-json-1.1\",\n",
      "      \"date\": \"Sat, 13 Feb 2021 09:43:40 GMT\",\n",
      "      \"x-amzn-requestid\": \"c8aa666f-d7a6-4a32-9e4f-5ead87bfe909\",\n",
      "      \"content-length\": \"103\",\n",
      "      \"connection\": \"keep-alive\"\n",
      "    },\n",
      "    \"RetryAttempts\": 0\n",
      "  }\n",
      "}\n"
     ]
    }
   ],
   "source": [
    "create_campaign_response = personalize.create_campaign(\n",
    "    name=dataset_group_name + \"-news-personalization\",\n",
    "    solutionVersionArn=recommend_solution_version_arn,\n",
    "    minProvisionedTPS=1,\n",
    ")\n",
    "\n",
    "recommend_campaign_arn = create_campaign_response[\"campaignArn\"]\n",
    "print(json.dumps(create_campaign_response, indent=2))"
   ]
  },
  {
   "cell_type": "markdown",
   "metadata": {},
   "source": [
    "#### Wait for Related Products Campaign to Have ACTIVE Status\n",
    "\n",
    "It can take 20-30 minutes for the campaigns to be fully created. \n",
    "\n",
    "While you are waiting for this to complete you can learn more about campaigns here: https://docs.aws.amazon.com/personalize/latest/dg/campaigns.html"
   ]
  },
  {
   "cell_type": "code",
   "execution_count": 299,
   "metadata": {},
   "outputs": [
    {
     "name": "stdout",
     "output_type": "stream",
     "text": [
      "At least one campaign is still in progress\n",
      "At least one campaign is still in progress\n",
      "At least one campaign is still in progress\n",
      "At least one campaign is still in progress\n",
      "At least one campaign is still in progress\n",
      "At least one campaign is still in progress\n",
      "At least one campaign is still in progress\n",
      "At least one campaign is still in progress\n",
      "Campaign arn:aws:personalize:ap-southeast-1:268400237357:campaign/spent-8-news-personalization successfully completed\n",
      "All campaigns have completed\n",
      "CPU times: user 127 ms, sys: 21.5 ms, total: 149 ms\n",
      "Wall time: 8min 1s\n"
     ]
    }
   ],
   "source": [
    "%%time\n",
    "\n",
    "campaign_arns = [recommend_campaign_arn]\n",
    "\n",
    "max_time = time.time() + 3 * 60 * 60  # 3 hours\n",
    "while time.time() < max_time:\n",
    "    for campaign_arn in reversed(campaign_arns):\n",
    "        campaign_response = personalize.describe_campaign(campaignArn=campaign_arn)\n",
    "        status = campaign_response[\"campaign\"][\"status\"]\n",
    "\n",
    "        if status == \"ACTIVE\":\n",
    "            print(f\"Campaign {campaign_arn} successfully completed\")\n",
    "            campaign_arns.remove(campaign_arn)\n",
    "        elif status == \"CREATE FAILED\":\n",
    "            print(f\"Campaign {campaign_arn} failed\")\n",
    "            if campaign_response.get(\"failureReason\"):\n",
    "                print(\"   Reason: \" + campaign_response[\"failureReason\"])\n",
    "            campaign_arns.remove(campaign_arn)\n",
    "\n",
    "    if len(campaign_arns) > 0:\n",
    "        print(\"At least one campaign is still in progress\")\n",
    "        time.sleep(60)\n",
    "    else:\n",
    "        print(\"All campaigns have completed\")\n",
    "        break"
   ]
  },
  {
   "cell_type": "markdown",
   "metadata": {},
   "source": [
    "## Playground"
   ]
  },
  {
   "cell_type": "code",
   "execution_count": 9,
   "metadata": {},
   "outputs": [
    {
     "name": "stdout",
     "output_type": "stream",
     "text": [
      "arn:aws:personalize:ap-southeast-1:268400237357:dataset/spent-7/USERS\n",
      "arn:aws:personalize:ap-southeast-1:268400237357:dataset/spent-7/ITEMS\n",
      "arn:aws:personalize:ap-southeast-1:268400237357:dataset/spent-7/INTERACTIONS\n"
     ]
    }
   ],
   "source": [
    "res = personalize.list_datasets()\n",
    "datasets = res[\"datasets\"]\n",
    "\n",
    "users_dataset_arn = next(\n",
    "    d[\"datasetArn\"] for d in datasets if d[\"name\"] == users_dataset_name\n",
    ").replace(\"spent-2\", \"spent-8\")\n",
    "items_dataset_arn = next(\n",
    "    d[\"datasetArn\"] for d in datasets if d[\"name\"] == items_dataset_name\n",
    ").replace(\"spent-2\", \"spent-8\")\n",
    "interactions_dataset_arn = next(\n",
    "    d[\"datasetArn\"] for d in datasets if d[\"name\"] == interactions_dataset_name\n",
    ").replace(\"spent-2\", \"spent-8\")\n",
    "print(users_dataset_arn)\n",
    "print(items_dataset_arn)\n",
    "print(interactions_dataset_arn)"
   ]
  },
  {
   "cell_type": "code",
   "execution_count": 10,
   "metadata": {},
   "outputs": [],
   "source": [
    "campaignArn = \"arn:aws:personalize:ap-southeast-1:268400237357:campaign/spent-8-news-personalization\"\n",
    "datasetGroupArn = (\n",
    "    \"arn:aws:personalize:ap-southeast-1:268400237357:dataset-group/spent-8\"\n",
    ")"
   ]
  },
  {
   "cell_type": "code",
   "execution_count": 11,
   "metadata": {},
   "outputs": [
    {
     "ename": "ResourceAlreadyExistsException",
     "evalue": "An error occurred (ResourceAlreadyExistsException) when calling the CreateEventTracker operation: EventTracker arn:aws:personalize:ap-southeast-1:268400237357:event-tracker/67dda2db already exists for DatasetGroup arn:aws:personalize:ap-southeast-1:268400237357:dataset-group/spent-8",
     "output_type": "error",
     "traceback": [
      "\u001b[0;31m---------------------------------------------------------------------------\u001b[0m",
      "\u001b[0;31mResourceAlreadyExistsException\u001b[0m            Traceback (most recent call last)",
      "\u001b[0;32m<ipython-input-11-c6b7e4db74f5>\u001b[0m in \u001b[0;36m<module>\u001b[0;34m\u001b[0m\n\u001b[0;32m----> 1\u001b[0;31m event_tracker_response = personalize.create_event_tracker(\n\u001b[0m\u001b[1;32m      2\u001b[0m     \u001b[0mdatasetGroupArn\u001b[0m\u001b[0;34m=\u001b[0m\u001b[0mdatasetGroupArn\u001b[0m\u001b[0;34m,\u001b[0m \u001b[0mname\u001b[0m\u001b[0;34m=\u001b[0m\u001b[0;34m\"spent-event-tracker-7\"\u001b[0m\u001b[0;34m\u001b[0m\u001b[0;34m\u001b[0m\u001b[0m\n\u001b[1;32m      3\u001b[0m )\n\u001b[1;32m      4\u001b[0m \u001b[0;34m\u001b[0m\u001b[0m\n\u001b[1;32m      5\u001b[0m \u001b[0mevent_tracker_arn\u001b[0m \u001b[0;34m=\u001b[0m \u001b[0mevent_tracker_response\u001b[0m\u001b[0;34m[\u001b[0m\u001b[0;34m\"eventTrackerArn\"\u001b[0m\u001b[0;34m]\u001b[0m\u001b[0;34m\u001b[0m\u001b[0;34m\u001b[0m\u001b[0m\n",
      "\u001b[0;32m~/.local/lib/python3.8/site-packages/botocore/client.py\u001b[0m in \u001b[0;36m_api_call\u001b[0;34m(self, *args, **kwargs)\u001b[0m\n\u001b[1;32m    355\u001b[0m                     \"%s() only accepts keyword arguments.\" % py_operation_name)\n\u001b[1;32m    356\u001b[0m             \u001b[0;31m# The \"self\" in this scope is referring to the BaseClient.\u001b[0m\u001b[0;34m\u001b[0m\u001b[0;34m\u001b[0m\u001b[0;34m\u001b[0m\u001b[0m\n\u001b[0;32m--> 357\u001b[0;31m             \u001b[0;32mreturn\u001b[0m \u001b[0mself\u001b[0m\u001b[0;34m.\u001b[0m\u001b[0m_make_api_call\u001b[0m\u001b[0;34m(\u001b[0m\u001b[0moperation_name\u001b[0m\u001b[0;34m,\u001b[0m \u001b[0mkwargs\u001b[0m\u001b[0;34m)\u001b[0m\u001b[0;34m\u001b[0m\u001b[0;34m\u001b[0m\u001b[0m\n\u001b[0m\u001b[1;32m    358\u001b[0m \u001b[0;34m\u001b[0m\u001b[0m\n\u001b[1;32m    359\u001b[0m         \u001b[0m_api_call\u001b[0m\u001b[0;34m.\u001b[0m\u001b[0m__name__\u001b[0m \u001b[0;34m=\u001b[0m \u001b[0mstr\u001b[0m\u001b[0;34m(\u001b[0m\u001b[0mpy_operation_name\u001b[0m\u001b[0;34m)\u001b[0m\u001b[0;34m\u001b[0m\u001b[0;34m\u001b[0m\u001b[0m\n",
      "\u001b[0;32m~/.local/lib/python3.8/site-packages/botocore/client.py\u001b[0m in \u001b[0;36m_make_api_call\u001b[0;34m(self, operation_name, api_params)\u001b[0m\n\u001b[1;32m    674\u001b[0m             \u001b[0merror_code\u001b[0m \u001b[0;34m=\u001b[0m \u001b[0mparsed_response\u001b[0m\u001b[0;34m.\u001b[0m\u001b[0mget\u001b[0m\u001b[0;34m(\u001b[0m\u001b[0;34m\"Error\"\u001b[0m\u001b[0;34m,\u001b[0m \u001b[0;34m{\u001b[0m\u001b[0;34m}\u001b[0m\u001b[0;34m)\u001b[0m\u001b[0;34m.\u001b[0m\u001b[0mget\u001b[0m\u001b[0;34m(\u001b[0m\u001b[0;34m\"Code\"\u001b[0m\u001b[0;34m)\u001b[0m\u001b[0;34m\u001b[0m\u001b[0;34m\u001b[0m\u001b[0m\n\u001b[1;32m    675\u001b[0m             \u001b[0merror_class\u001b[0m \u001b[0;34m=\u001b[0m \u001b[0mself\u001b[0m\u001b[0;34m.\u001b[0m\u001b[0mexceptions\u001b[0m\u001b[0;34m.\u001b[0m\u001b[0mfrom_code\u001b[0m\u001b[0;34m(\u001b[0m\u001b[0merror_code\u001b[0m\u001b[0;34m)\u001b[0m\u001b[0;34m\u001b[0m\u001b[0;34m\u001b[0m\u001b[0m\n\u001b[0;32m--> 676\u001b[0;31m             \u001b[0;32mraise\u001b[0m \u001b[0merror_class\u001b[0m\u001b[0;34m(\u001b[0m\u001b[0mparsed_response\u001b[0m\u001b[0;34m,\u001b[0m \u001b[0moperation_name\u001b[0m\u001b[0;34m)\u001b[0m\u001b[0;34m\u001b[0m\u001b[0;34m\u001b[0m\u001b[0m\n\u001b[0m\u001b[1;32m    677\u001b[0m         \u001b[0;32melse\u001b[0m\u001b[0;34m:\u001b[0m\u001b[0;34m\u001b[0m\u001b[0;34m\u001b[0m\u001b[0m\n\u001b[1;32m    678\u001b[0m             \u001b[0;32mreturn\u001b[0m \u001b[0mparsed_response\u001b[0m\u001b[0;34m\u001b[0m\u001b[0;34m\u001b[0m\u001b[0m\n",
      "\u001b[0;31mResourceAlreadyExistsException\u001b[0m: An error occurred (ResourceAlreadyExistsException) when calling the CreateEventTracker operation: EventTracker arn:aws:personalize:ap-southeast-1:268400237357:event-tracker/67dda2db already exists for DatasetGroup arn:aws:personalize:ap-southeast-1:268400237357:dataset-group/spent-8"
     ]
    }
   ],
   "source": [
    "event_tracker_response = personalize.create_event_tracker(\n",
    "    datasetGroupArn=datasetGroupArn, name=\"spent-event-tracker-7\"\n",
    ")\n",
    "\n",
    "event_tracker_arn = event_tracker_response[\"eventTrackerArn\"]\n",
    "event_tracking_id = event_tracker_response[\"trackingId\"]\n",
    "\n",
    "print(\"Event Tracker ARN: \" + event_tracker_arn)\n",
    "print(\"Event Tracking ID: \" + event_tracking_id)"
   ]
  },
  {
   "cell_type": "code",
   "execution_count": 16,
   "metadata": {},
   "outputs": [
    {
     "data": {
      "text/plain": [
       "{'ResponseMetadata': {'RequestId': '19d3e45b-c165-4c50-bb71-2c91c8874714',\n",
       "  'HTTPStatusCode': 200,\n",
       "  'HTTPHeaders': {'content-type': 'application/json',\n",
       "   'date': 'Sat, 13 Feb 2021 10:18:52 GMT',\n",
       "   'x-amzn-requestid': '19d3e45b-c165-4c50-bb71-2c91c8874714',\n",
       "   'content-length': '0',\n",
       "   'connection': 'keep-alive'},\n",
       "  'RetryAttempts': 0}}"
      ]
     },
     "execution_count": 16,
     "metadata": {},
     "output_type": "execute_result"
    }
   ],
   "source": [
    "userId = \"164591f3-2a53-4c94-84eb-da692dca5qqq\"\n",
    "properties = {\"age\": 20, \"gender\": \"F\"}\n",
    "\n",
    "personalize_events.put_users(\n",
    "    datasetArn=users_dataset_arn,\n",
    "    users=[\n",
    "        {\n",
    "            \"userId\": userId,\n",
    "            \"properties\": json.dumps(properties)\n",
    "            #         'properties': \"{\\\"AGE\\\": 21, \\\"GENDER\\\": \\\"M\\\"}\"\n",
    "        }\n",
    "    ],\n",
    ")"
   ]
  },
  {
   "cell_type": "code",
   "execution_count": 17,
   "metadata": {},
   "outputs": [],
   "source": [
    "def get_item_by_id(id: int):\n",
    "    items = items_raw_df[items_raw_df[\"id\"] == id]\n",
    "    return items if items.shape[0] > 0 else None"
   ]
  },
  {
   "cell_type": "code",
   "execution_count": 18,
   "metadata": {},
   "outputs": [
    {
     "ename": "NameError",
     "evalue": "name 'event_tracker_arn' is not defined",
     "output_type": "error",
     "traceback": [
      "\u001b[0;31m---------------------------------------------------------------------------\u001b[0m",
      "\u001b[0;31mNameError\u001b[0m                                 Traceback (most recent call last)",
      "\u001b[0;32m<ipython-input-18-bfd90265cd00>\u001b[0m in \u001b[0;36m<module>\u001b[0;34m\u001b[0m\n\u001b[0;32m----> 1\u001b[0;31m \u001b[0mpersonalize\u001b[0m\u001b[0;34m.\u001b[0m\u001b[0mdescribe_event_tracker\u001b[0m\u001b[0;34m(\u001b[0m\u001b[0meventTrackerArn\u001b[0m\u001b[0;34m=\u001b[0m\u001b[0mevent_tracker_arn\u001b[0m\u001b[0;34m)\u001b[0m\u001b[0;34m\u001b[0m\u001b[0;34m\u001b[0m\u001b[0m\n\u001b[0m",
      "\u001b[0;31mNameError\u001b[0m: name 'event_tracker_arn' is not defined"
     ]
    }
   ],
   "source": [
    "personalize.describe_event_tracker(eventTrackerArn=event_tracker_arn)"
   ]
  },
  {
   "cell_type": "code",
   "execution_count": 19,
   "metadata": {},
   "outputs": [
    {
     "data": {
      "text/plain": [
       "'490b950e-e72e-4cd7-8112-66397256b84a'"
      ]
     },
     "execution_count": 19,
     "metadata": {},
     "output_type": "execute_result"
    }
   ],
   "source": [
    "event_tracking_id"
   ]
  },
  {
   "cell_type": "markdown",
   "metadata": {},
   "source": [
    "### Simulating User Behavior"
   ]
  },
  {
   "cell_type": "code",
   "execution_count": 20,
   "metadata": {},
   "outputs": [],
   "source": [
    "session_dict = {}\n",
    "TRACKING_ID = event_tracking_id\n",
    "# TRACKING_ID = '133f1eeb-7dce-4275-85a5-e1e243ea400b'"
   ]
  },
  {
   "cell_type": "code",
   "execution_count": 50,
   "metadata": {},
   "outputs": [],
   "source": [
    "def send_event(USER_ID, ITEM_ID, EVENT_TYPE):\n",
    "    \"\"\"\n",
    "    Simulates a click as an envent\n",
    "    to send an event to Amazon Personalize's Event Tracker\n",
    "    \"\"\"\n",
    "    # Configure Session\n",
    "    try:\n",
    "        session_ID = session_dict[USER_ID]\n",
    "    except:\n",
    "        session_dict[USER_ID] = str(uuid.uuid1())\n",
    "        session_ID = session_dict[USER_ID]\n",
    "\n",
    "    # Configure Properties:\n",
    "    event = {\n",
    "        \"itemId\": str(ITEM_ID),\n",
    "    }\n",
    "    event_json = json.dumps(event)\n",
    "\n",
    "    # Make Call\n",
    "    res = personalize_events.put_events(\n",
    "        trackingId=TRACKING_ID,\n",
    "        userId=USER_ID,\n",
    "        sessionId=session_ID,\n",
    "        eventList=[\n",
    "            {\n",
    "                \"sentAt\": int(time.time()),\n",
    "                \"eventType\": EVENT_TYPE,\n",
    "                \"properties\": event_json,\n",
    "            }\n",
    "        ],\n",
    "    )\n",
    "    print(\n",
    "        {\"sentAt\": int(time.time()), \"eventType\": EVENT_TYPE, \"properties\": event_json}\n",
    "    )"
   ]
  },
  {
   "cell_type": "code",
   "execution_count": 315,
   "metadata": {},
   "outputs": [
    {
     "data": {
      "text/plain": [
       "array(['การศึกษา', 'การเมือง', 'กีฬา', 'คุณภาพชีวิต', 'ต่างประเทศ',\n",
       "       'บันเทิง', 'ภาพยนตร์', 'สังคม', 'อาชญากรรม', 'เทคโนโลยี',\n",
       "       'เศรษฐกิจ', 'ในประเทศ', 'ไลฟ์สไตล์'], dtype=object)"
      ]
     },
     "execution_count": 315,
     "metadata": {},
     "output_type": "execute_result"
    }
   ],
   "source": [
    "items_df[\"CATEGORY\"].unique()"
   ]
  },
  {
   "cell_type": "code",
   "execution_count": 351,
   "metadata": {},
   "outputs": [
    {
     "name": "stdout",
     "output_type": "stream",
     "text": [
      "{'sentAt': 1613210622, 'eventType': 'news_viewed', 'properties': '{\"itemId\": \"3d2c70a2-c823-4ad5-afcb-28af10462e37\"}'}\n",
      "3d2c70a2-c823-4ad5-afcb-28af10462e37\n",
      "[{'itemId': '56d3df1a-5c53-405f-9743-282013626066', 'score': 0.5699785}, {'itemId': 'a95c18a1-f554-41d9-844b-23d6c95e9c0d', 'score': 0.3071494}, {'itemId': '3cd05eb1-ab0b-4497-b8fb-406bf799bd4e', 'score': 0.0051169}, {'itemId': '1bcbea3a-41a7-4e98-afc7-eb278f0beb7d', 'score': 0.0023197}, {'itemId': '09b1fbeb-3ac4-4693-9b9e-061ce47e3519', 'score': 0.0015053}, {'itemId': '71db9d3e-8688-47eb-9d4f-ffa51ffb6385', 'score': 0.0013001}, {'itemId': '0b00f009-649e-4eab-b7f3-f24ea5aa38a7', 'score': 0.0012802}, {'itemId': '356303af-f8b2-4915-b0c3-11b26c12a656', 'score': 0.0012225}, {'itemId': 'a675ea9f-eade-46b0-9f94-c3155e03199b', 'score': 0.0011133}, {'itemId': 'cf4dbaa4-8909-4e26-9c2e-466aca6f977b', 'score': 0.0010544}]\n"
     ]
    },
    {
     "data": {
      "text/html": [
       "<div>\n",
       "<style scoped>\n",
       "    .dataframe tbody tr th:only-of-type {\n",
       "        vertical-align: middle;\n",
       "    }\n",
       "\n",
       "    .dataframe tbody tr th {\n",
       "        vertical-align: top;\n",
       "    }\n",
       "\n",
       "    .dataframe thead th {\n",
       "        text-align: right;\n",
       "    }\n",
       "</style>\n",
       "<table border=\"1\" class=\"dataframe\">\n",
       "  <thead>\n",
       "    <tr style=\"text-align: right;\">\n",
       "      <th></th>\n",
       "      <th>id</th>\n",
       "      <th>category</th>\n",
       "    </tr>\n",
       "  </thead>\n",
       "  <tbody>\n",
       "    <tr>\n",
       "      <th>33</th>\n",
       "      <td>56d3df1a-5c53-405f-9743-282013626066</td>\n",
       "      <td>การศึกษา</td>\n",
       "    </tr>\n",
       "    <tr>\n",
       "      <th>70</th>\n",
       "      <td>a95c18a1-f554-41d9-844b-23d6c95e9c0d</td>\n",
       "      <td>การศึกษา</td>\n",
       "    </tr>\n",
       "    <tr>\n",
       "      <th>129</th>\n",
       "      <td>0b00f009-649e-4eab-b7f3-f24ea5aa38a7</td>\n",
       "      <td>การเมือง</td>\n",
       "    </tr>\n",
       "    <tr>\n",
       "      <th>136</th>\n",
       "      <td>71db9d3e-8688-47eb-9d4f-ffa51ffb6385</td>\n",
       "      <td>การเมือง</td>\n",
       "    </tr>\n",
       "    <tr>\n",
       "      <th>180</th>\n",
       "      <td>a675ea9f-eade-46b0-9f94-c3155e03199b</td>\n",
       "      <td>กีฬา</td>\n",
       "    </tr>\n",
       "    <tr>\n",
       "      <th>210</th>\n",
       "      <td>cf4dbaa4-8909-4e26-9c2e-466aca6f977b</td>\n",
       "      <td>กีฬา</td>\n",
       "    </tr>\n",
       "    <tr>\n",
       "      <th>289</th>\n",
       "      <td>356303af-f8b2-4915-b0c3-11b26c12a656</td>\n",
       "      <td>คุณภาพชีวิต</td>\n",
       "    </tr>\n",
       "    <tr>\n",
       "      <th>313</th>\n",
       "      <td>1bcbea3a-41a7-4e98-afc7-eb278f0beb7d</td>\n",
       "      <td>คุณภาพชีวิต</td>\n",
       "    </tr>\n",
       "    <tr>\n",
       "      <th>631</th>\n",
       "      <td>3cd05eb1-ab0b-4497-b8fb-406bf799bd4e</td>\n",
       "      <td>สังคม</td>\n",
       "    </tr>\n",
       "    <tr>\n",
       "      <th>671</th>\n",
       "      <td>09b1fbeb-3ac4-4693-9b9e-061ce47e3519</td>\n",
       "      <td>สังคม</td>\n",
       "    </tr>\n",
       "  </tbody>\n",
       "</table>\n",
       "</div>"
      ],
      "text/plain": [
       "                                       id     category\n",
       "33   56d3df1a-5c53-405f-9743-282013626066     การศึกษา\n",
       "70   a95c18a1-f554-41d9-844b-23d6c95e9c0d     การศึกษา\n",
       "129  0b00f009-649e-4eab-b7f3-f24ea5aa38a7     การเมือง\n",
       "136  71db9d3e-8688-47eb-9d4f-ffa51ffb6385     การเมือง\n",
       "180  a675ea9f-eade-46b0-9f94-c3155e03199b         กีฬา\n",
       "210  cf4dbaa4-8909-4e26-9c2e-466aca6f977b         กีฬา\n",
       "289  356303af-f8b2-4915-b0c3-11b26c12a656  คุณภาพชีวิต\n",
       "313  1bcbea3a-41a7-4e98-afc7-eb278f0beb7d  คุณภาพชีวิต\n",
       "631  3cd05eb1-ab0b-4497-b8fb-406bf799bd4e        สังคม\n",
       "671  09b1fbeb-3ac4-4693-9b9e-061ce47e3519        สังคม"
      ]
     },
     "execution_count": 351,
     "metadata": {},
     "output_type": "execute_result"
    }
   ],
   "source": [
    "category = \"การเมือง\"\n",
    "\n",
    "item_id = items_df[items_df[\"CATEGORY\"] == category].sample()[\"ITEM_ID\"].values[0]\n",
    "# item_id = \"959204b5-a755-41cc-87f8-28a71eada04d\"\n",
    "send_event(userId, item_id, \"news_viewed\")\n",
    "print(item_id)\n",
    "\n",
    "response = personalize_runtime.get_recommendations(\n",
    "    campaignArn=campaignArn,\n",
    "    userId=userId,\n",
    "    numResults=10,\n",
    "    #     filterArn = 'arn:aws:personalize:ap-southeast-1:268400237357:filter/test-5'\n",
    ")\n",
    "recommendation_items_id = [item[\"itemId\"] for item in response[\"itemList\"]]\n",
    "print(response[\"itemList\"])\n",
    "items_raw_df[items_raw_df[\"id\"].isin(recommendation_items_id)][[\"id\", \"category\"]]\n",
    "# items_df[items_df[\"ITEM_ID\"].isin(recommendation_items_id)][[\"ITEM_ID\", \"CATEGORY\"]]"
   ]
  },
  {
   "cell_type": "code",
   "execution_count": 54,
   "metadata": {},
   "outputs": [],
   "source": [
    "from __future__ import print_function\n",
    "from ipywidgets import interact, interactive, fixed, interact_manual\n",
    "import ipywidgets as widgets\n",
    "\n",
    "def send_event_by_cat(category):\n",
    "    item_id = items_df[items_df[\"CATEGORY\"] == category].sample()[\"ITEM_ID\"].values[0]\n",
    "    send_event(userId, item_id, \"news_viewed\")\n",
    "\n",
    "    response = personalize_runtime.get_recommendations(\n",
    "        campaignArn=campaignArn,\n",
    "        userId=userId,\n",
    "        numResults=10,\n",
    "        #     filterArn = 'arn:aws:personalize:ap-southeast-1:268400237357:filter/test-5'\n",
    "    )\n",
    "    recommendation_items_id = [item[\"itemId\"] for item in response[\"itemList\"]]\n",
    "    print(response[\"itemList\"])\n",
    "    print(items_raw_df[items_raw_df[\"id\"].isin(recommendation_items_id)][[\"id\", \"category\"]])"
   ]
  },
  {
   "cell_type": "code",
   "execution_count": 55,
   "metadata": {},
   "outputs": [
    {
     "data": {
      "application/vnd.jupyter.widget-view+json": {
       "model_id": "ece7fe5953284341987c350ca1eec525",
       "version_major": 2,
       "version_minor": 0
      },
      "text/plain": [
       "interactive(children=(Dropdown(description='x', options=('การศึกษา', 'การเมือง', 'กีฬา', 'คุณภาพชีวิต', 'ต่างป…"
      ]
     },
     "metadata": {},
     "output_type": "display_data"
    }
   ],
   "source": [
    "w = interact(lambda x: send_event_by_cat(x), x=items_df[\"CATEGORY\"].unique());"
   ]
  },
  {
   "cell_type": "code",
   "execution_count": 59,
   "metadata": {},
   "outputs": [
    {
     "data": {
      "text/plain": [
       "'อาชญากรรม'"
      ]
     },
     "execution_count": 59,
     "metadata": {},
     "output_type": "execute_result"
    }
   ],
   "source": [
    "dropdown.value"
   ]
  },
  {
   "cell_type": "code",
   "execution_count": 35,
   "metadata": {},
   "outputs": [
    {
     "name": "stdout",
     "output_type": "stream",
     "text": [
      "1\n"
     ]
    }
   ],
   "source": [
    "print(w(1))"
   ]
  },
  {
   "cell_type": "code",
   "execution_count": 96,
   "metadata": {},
   "outputs": [
    {
     "data": {
      "text/plain": [
       "array(['crime', 'economic', 'education', 'entertainment', 'international',\n",
       "       'life', 'lifestyle', 'local', 'movie', 'politic', 'social',\n",
       "       'sport', 'technology'], dtype=object)"
      ]
     },
     "execution_count": 96,
     "metadata": {},
     "output_type": "execute_result"
    }
   ],
   "source": [
    "items_df[\"CATEGORY\"].unique()"
   ]
  },
  {
   "cell_type": "code",
   "execution_count": null,
   "metadata": {},
   "outputs": [],
   "source": []
  }
 ],
 "metadata": {
  "kernelspec": {
   "display_name": "Python 3",
   "language": "python",
   "name": "python3"
  },
  "language_info": {
   "codemirror_mode": {
    "name": "ipython",
    "version": 3
   },
   "file_extension": ".py",
   "mimetype": "text/x-python",
   "name": "python",
   "nbconvert_exporter": "python",
   "pygments_lexer": "ipython3",
   "version": "3.8.6"
  }
 },
 "nbformat": 4,
 "nbformat_minor": 4
}
